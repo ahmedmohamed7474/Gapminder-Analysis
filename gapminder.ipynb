{
 "cells": [
  {
   "cell_type": "code",
   "execution_count": 59,
   "metadata": {},
   "outputs": [],
   "source": [
    "import pandas as pd\n",
    "import numpy as np\n",
    "import plotly.express as px\n",
    "from matplotlib import pyplot as plt \n",
    "from plotly import express as px\n",
    "import seaborn as sns\n",
    "pd.options.display.float_format = '{:,.2f}'.format\n",
    "pd.options.display.max_rows = None\n",
    "pd.options.display.max_columns = None"
   ]
  },
  {
   "cell_type": "code",
   "execution_count": 60,
   "metadata": {},
   "outputs": [],
   "source": [
    "df = pd.read_csv('gapminder_full.csv')"
   ]
  },
  {
   "cell_type": "code",
   "execution_count": 61,
   "metadata": {},
   "outputs": [
    {
     "data": {
      "text/html": [
       "<div>\n",
       "<style scoped>\n",
       "    .dataframe tbody tr th:only-of-type {\n",
       "        vertical-align: middle;\n",
       "    }\n",
       "\n",
       "    .dataframe tbody tr th {\n",
       "        vertical-align: top;\n",
       "    }\n",
       "\n",
       "    .dataframe thead th {\n",
       "        text-align: right;\n",
       "    }\n",
       "</style>\n",
       "<table border=\"1\" class=\"dataframe\">\n",
       "  <thead>\n",
       "    <tr style=\"text-align: right;\">\n",
       "      <th></th>\n",
       "      <th>country</th>\n",
       "      <th>year</th>\n",
       "      <th>population</th>\n",
       "      <th>continent</th>\n",
       "      <th>life_exp</th>\n",
       "      <th>gdp_cap</th>\n",
       "    </tr>\n",
       "  </thead>\n",
       "  <tbody>\n",
       "    <tr>\n",
       "      <th>0</th>\n",
       "      <td>Afghanistan</td>\n",
       "      <td>1952</td>\n",
       "      <td>8425333</td>\n",
       "      <td>Asia</td>\n",
       "      <td>28.80</td>\n",
       "      <td>779.45</td>\n",
       "    </tr>\n",
       "    <tr>\n",
       "      <th>1</th>\n",
       "      <td>Afghanistan</td>\n",
       "      <td>1957</td>\n",
       "      <td>9240934</td>\n",
       "      <td>Asia</td>\n",
       "      <td>30.33</td>\n",
       "      <td>820.85</td>\n",
       "    </tr>\n",
       "    <tr>\n",
       "      <th>2</th>\n",
       "      <td>Afghanistan</td>\n",
       "      <td>1962</td>\n",
       "      <td>10267083</td>\n",
       "      <td>Asia</td>\n",
       "      <td>32.00</td>\n",
       "      <td>853.10</td>\n",
       "    </tr>\n",
       "    <tr>\n",
       "      <th>3</th>\n",
       "      <td>Afghanistan</td>\n",
       "      <td>1967</td>\n",
       "      <td>11537966</td>\n",
       "      <td>Asia</td>\n",
       "      <td>34.02</td>\n",
       "      <td>836.20</td>\n",
       "    </tr>\n",
       "    <tr>\n",
       "      <th>4</th>\n",
       "      <td>Afghanistan</td>\n",
       "      <td>1972</td>\n",
       "      <td>13079460</td>\n",
       "      <td>Asia</td>\n",
       "      <td>36.09</td>\n",
       "      <td>739.98</td>\n",
       "    </tr>\n",
       "  </tbody>\n",
       "</table>\n",
       "</div>"
      ],
      "text/plain": [
       "       country  year  population continent  life_exp  gdp_cap\n",
       "0  Afghanistan  1952     8425333      Asia     28.80   779.45\n",
       "1  Afghanistan  1957     9240934      Asia     30.33   820.85\n",
       "2  Afghanistan  1962    10267083      Asia     32.00   853.10\n",
       "3  Afghanistan  1967    11537966      Asia     34.02   836.20\n",
       "4  Afghanistan  1972    13079460      Asia     36.09   739.98"
      ]
     },
     "execution_count": 61,
     "metadata": {},
     "output_type": "execute_result"
    }
   ],
   "source": [
    "df.head()"
   ]
  },
  {
   "cell_type": "code",
   "execution_count": 62,
   "metadata": {},
   "outputs": [
    {
     "data": {
      "text/html": [
       "<div>\n",
       "<style scoped>\n",
       "    .dataframe tbody tr th:only-of-type {\n",
       "        vertical-align: middle;\n",
       "    }\n",
       "\n",
       "    .dataframe tbody tr th {\n",
       "        vertical-align: top;\n",
       "    }\n",
       "\n",
       "    .dataframe thead th {\n",
       "        text-align: right;\n",
       "    }\n",
       "</style>\n",
       "<table border=\"1\" class=\"dataframe\">\n",
       "  <thead>\n",
       "    <tr style=\"text-align: right;\">\n",
       "      <th></th>\n",
       "      <th>country</th>\n",
       "      <th>year</th>\n",
       "      <th>population</th>\n",
       "      <th>continent</th>\n",
       "      <th>life_exp</th>\n",
       "      <th>gdp_cap</th>\n",
       "    </tr>\n",
       "  </thead>\n",
       "  <tbody>\n",
       "    <tr>\n",
       "      <th>981</th>\n",
       "      <td>Mauritius</td>\n",
       "      <td>1997</td>\n",
       "      <td>1149818</td>\n",
       "      <td>Africa</td>\n",
       "      <td>70.74</td>\n",
       "      <td>7,425.71</td>\n",
       "    </tr>\n",
       "    <tr>\n",
       "      <th>1203</th>\n",
       "      <td>Peru</td>\n",
       "      <td>1967</td>\n",
       "      <td>12132200</td>\n",
       "      <td>Americas</td>\n",
       "      <td>51.45</td>\n",
       "      <td>5,788.09</td>\n",
       "    </tr>\n",
       "    <tr>\n",
       "      <th>1037</th>\n",
       "      <td>Mozambique</td>\n",
       "      <td>1977</td>\n",
       "      <td>11127868</td>\n",
       "      <td>Africa</td>\n",
       "      <td>42.49</td>\n",
       "      <td>502.32</td>\n",
       "    </tr>\n",
       "    <tr>\n",
       "      <th>994</th>\n",
       "      <td>Mexico</td>\n",
       "      <td>2002</td>\n",
       "      <td>102479927</td>\n",
       "      <td>Americas</td>\n",
       "      <td>74.90</td>\n",
       "      <td>10,742.44</td>\n",
       "    </tr>\n",
       "    <tr>\n",
       "      <th>1004</th>\n",
       "      <td>Mongolia</td>\n",
       "      <td>1992</td>\n",
       "      <td>2312802</td>\n",
       "      <td>Asia</td>\n",
       "      <td>61.27</td>\n",
       "      <td>1,785.40</td>\n",
       "    </tr>\n",
       "  </tbody>\n",
       "</table>\n",
       "</div>"
      ],
      "text/plain": [
       "         country  year  population continent  life_exp   gdp_cap\n",
       "981    Mauritius  1997     1149818    Africa     70.74  7,425.71\n",
       "1203        Peru  1967    12132200  Americas     51.45  5,788.09\n",
       "1037  Mozambique  1977    11127868    Africa     42.49    502.32\n",
       "994       Mexico  2002   102479927  Americas     74.90 10,742.44\n",
       "1004    Mongolia  1992     2312802      Asia     61.27  1,785.40"
      ]
     },
     "execution_count": 62,
     "metadata": {},
     "output_type": "execute_result"
    }
   ],
   "source": [
    "df.sample(5)"
   ]
  },
  {
   "cell_type": "code",
   "execution_count": 63,
   "metadata": {},
   "outputs": [
    {
     "data": {
      "text/html": [
       "<div>\n",
       "<style scoped>\n",
       "    .dataframe tbody tr th:only-of-type {\n",
       "        vertical-align: middle;\n",
       "    }\n",
       "\n",
       "    .dataframe tbody tr th {\n",
       "        vertical-align: top;\n",
       "    }\n",
       "\n",
       "    .dataframe thead th {\n",
       "        text-align: right;\n",
       "    }\n",
       "</style>\n",
       "<table border=\"1\" class=\"dataframe\">\n",
       "  <thead>\n",
       "    <tr style=\"text-align: right;\">\n",
       "      <th></th>\n",
       "      <th>country</th>\n",
       "      <th>year</th>\n",
       "      <th>population</th>\n",
       "      <th>continent</th>\n",
       "      <th>life_exp</th>\n",
       "      <th>gdp_cap</th>\n",
       "    </tr>\n",
       "  </thead>\n",
       "  <tbody>\n",
       "    <tr>\n",
       "      <th>1699</th>\n",
       "      <td>Zimbabwe</td>\n",
       "      <td>1987</td>\n",
       "      <td>9216418</td>\n",
       "      <td>Africa</td>\n",
       "      <td>62.35</td>\n",
       "      <td>706.16</td>\n",
       "    </tr>\n",
       "    <tr>\n",
       "      <th>1700</th>\n",
       "      <td>Zimbabwe</td>\n",
       "      <td>1992</td>\n",
       "      <td>10704340</td>\n",
       "      <td>Africa</td>\n",
       "      <td>60.38</td>\n",
       "      <td>693.42</td>\n",
       "    </tr>\n",
       "    <tr>\n",
       "      <th>1701</th>\n",
       "      <td>Zimbabwe</td>\n",
       "      <td>1997</td>\n",
       "      <td>11404948</td>\n",
       "      <td>Africa</td>\n",
       "      <td>46.81</td>\n",
       "      <td>792.45</td>\n",
       "    </tr>\n",
       "    <tr>\n",
       "      <th>1702</th>\n",
       "      <td>Zimbabwe</td>\n",
       "      <td>2002</td>\n",
       "      <td>11926563</td>\n",
       "      <td>Africa</td>\n",
       "      <td>39.99</td>\n",
       "      <td>672.04</td>\n",
       "    </tr>\n",
       "    <tr>\n",
       "      <th>1703</th>\n",
       "      <td>Zimbabwe</td>\n",
       "      <td>2007</td>\n",
       "      <td>12311143</td>\n",
       "      <td>Africa</td>\n",
       "      <td>43.49</td>\n",
       "      <td>469.71</td>\n",
       "    </tr>\n",
       "  </tbody>\n",
       "</table>\n",
       "</div>"
      ],
      "text/plain": [
       "       country  year  population continent  life_exp  gdp_cap\n",
       "1699  Zimbabwe  1987     9216418    Africa     62.35   706.16\n",
       "1700  Zimbabwe  1992    10704340    Africa     60.38   693.42\n",
       "1701  Zimbabwe  1997    11404948    Africa     46.81   792.45\n",
       "1702  Zimbabwe  2002    11926563    Africa     39.99   672.04\n",
       "1703  Zimbabwe  2007    12311143    Africa     43.49   469.71"
      ]
     },
     "execution_count": 63,
     "metadata": {},
     "output_type": "execute_result"
    }
   ],
   "source": [
    "df.tail()"
   ]
  },
  {
   "cell_type": "code",
   "execution_count": 64,
   "metadata": {},
   "outputs": [
    {
     "data": {
      "text/plain": [
       "country       0\n",
       "year          0\n",
       "population    0\n",
       "continent     0\n",
       "life_exp      0\n",
       "gdp_cap       0\n",
       "dtype: int64"
      ]
     },
     "execution_count": 64,
     "metadata": {},
     "output_type": "execute_result"
    }
   ],
   "source": [
    "df.isnull().sum()"
   ]
  },
  {
   "cell_type": "code",
   "execution_count": 65,
   "metadata": {},
   "outputs": [
    {
     "data": {
      "text/plain": [
       "0"
      ]
     },
     "execution_count": 65,
     "metadata": {},
     "output_type": "execute_result"
    }
   ],
   "source": [
    "df.duplicated().sum()"
   ]
  },
  {
   "cell_type": "markdown",
   "metadata": {},
   "source": [
    "## drop shit rows"
   ]
  },
  {
   "cell_type": "code",
   "execution_count": 66,
   "metadata": {},
   "outputs": [],
   "source": [
    "df = df[df['country'] != 'Israel']"
   ]
  },
  {
   "cell_type": "markdown",
   "metadata": {},
   "source": [
    "reseting the idexes"
   ]
  },
  {
   "cell_type": "code",
   "execution_count": 67,
   "metadata": {},
   "outputs": [],
   "source": [
    "df = df.reset_index(drop=True)"
   ]
  },
  {
   "cell_type": "markdown",
   "metadata": {},
   "source": [
    " now the data is cleaned"
   ]
  },
  {
   "cell_type": "code",
   "execution_count": 68,
   "metadata": {},
   "outputs": [
    {
     "data": {
      "text/html": [
       "<div>\n",
       "<style scoped>\n",
       "    .dataframe tbody tr th:only-of-type {\n",
       "        vertical-align: middle;\n",
       "    }\n",
       "\n",
       "    .dataframe tbody tr th {\n",
       "        vertical-align: top;\n",
       "    }\n",
       "\n",
       "    .dataframe thead th {\n",
       "        text-align: right;\n",
       "    }\n",
       "</style>\n",
       "<table border=\"1\" class=\"dataframe\">\n",
       "  <thead>\n",
       "    <tr style=\"text-align: right;\">\n",
       "      <th></th>\n",
       "      <th>country</th>\n",
       "      <th>year</th>\n",
       "      <th>population</th>\n",
       "      <th>continent</th>\n",
       "      <th>life_exp</th>\n",
       "      <th>gdp_cap</th>\n",
       "    </tr>\n",
       "  </thead>\n",
       "  <tbody>\n",
       "    <tr>\n",
       "      <th>1687</th>\n",
       "      <td>Zimbabwe</td>\n",
       "      <td>1987</td>\n",
       "      <td>9216418</td>\n",
       "      <td>Africa</td>\n",
       "      <td>62.35</td>\n",
       "      <td>706.16</td>\n",
       "    </tr>\n",
       "    <tr>\n",
       "      <th>1688</th>\n",
       "      <td>Zimbabwe</td>\n",
       "      <td>1992</td>\n",
       "      <td>10704340</td>\n",
       "      <td>Africa</td>\n",
       "      <td>60.38</td>\n",
       "      <td>693.42</td>\n",
       "    </tr>\n",
       "    <tr>\n",
       "      <th>1689</th>\n",
       "      <td>Zimbabwe</td>\n",
       "      <td>1997</td>\n",
       "      <td>11404948</td>\n",
       "      <td>Africa</td>\n",
       "      <td>46.81</td>\n",
       "      <td>792.45</td>\n",
       "    </tr>\n",
       "    <tr>\n",
       "      <th>1690</th>\n",
       "      <td>Zimbabwe</td>\n",
       "      <td>2002</td>\n",
       "      <td>11926563</td>\n",
       "      <td>Africa</td>\n",
       "      <td>39.99</td>\n",
       "      <td>672.04</td>\n",
       "    </tr>\n",
       "    <tr>\n",
       "      <th>1691</th>\n",
       "      <td>Zimbabwe</td>\n",
       "      <td>2007</td>\n",
       "      <td>12311143</td>\n",
       "      <td>Africa</td>\n",
       "      <td>43.49</td>\n",
       "      <td>469.71</td>\n",
       "    </tr>\n",
       "  </tbody>\n",
       "</table>\n",
       "</div>"
      ],
      "text/plain": [
       "       country  year  population continent  life_exp  gdp_cap\n",
       "1687  Zimbabwe  1987     9216418    Africa     62.35   706.16\n",
       "1688  Zimbabwe  1992    10704340    Africa     60.38   693.42\n",
       "1689  Zimbabwe  1997    11404948    Africa     46.81   792.45\n",
       "1690  Zimbabwe  2002    11926563    Africa     39.99   672.04\n",
       "1691  Zimbabwe  2007    12311143    Africa     43.49   469.71"
      ]
     },
     "execution_count": 68,
     "metadata": {},
     "output_type": "execute_result"
    }
   ],
   "source": [
    "df.tail()"
   ]
  },
  {
   "cell_type": "markdown",
   "metadata": {},
   "source": [
    "# Univariate Analysis"
   ]
  },
  {
   "cell_type": "code",
   "execution_count": 69,
   "metadata": {},
   "outputs": [
    {
     "data": {
      "text/html": [
       "<div>\n",
       "<style scoped>\n",
       "    .dataframe tbody tr th:only-of-type {\n",
       "        vertical-align: middle;\n",
       "    }\n",
       "\n",
       "    .dataframe tbody tr th {\n",
       "        vertical-align: top;\n",
       "    }\n",
       "\n",
       "    .dataframe thead th {\n",
       "        text-align: right;\n",
       "    }\n",
       "</style>\n",
       "<table border=\"1\" class=\"dataframe\">\n",
       "  <thead>\n",
       "    <tr style=\"text-align: right;\">\n",
       "      <th></th>\n",
       "      <th>continent</th>\n",
       "      <th>life_exp</th>\n",
       "    </tr>\n",
       "  </thead>\n",
       "  <tbody>\n",
       "    <tr>\n",
       "      <th>4</th>\n",
       "      <td>Oceania</td>\n",
       "      <td>74.33</td>\n",
       "    </tr>\n",
       "    <tr>\n",
       "      <th>3</th>\n",
       "      <td>Europe</td>\n",
       "      <td>71.90</td>\n",
       "    </tr>\n",
       "    <tr>\n",
       "      <th>1</th>\n",
       "      <td>Americas</td>\n",
       "      <td>64.66</td>\n",
       "    </tr>\n",
       "    <tr>\n",
       "      <th>2</th>\n",
       "      <td>Asia</td>\n",
       "      <td>59.64</td>\n",
       "    </tr>\n",
       "    <tr>\n",
       "      <th>0</th>\n",
       "      <td>Africa</td>\n",
       "      <td>48.87</td>\n",
       "    </tr>\n",
       "  </tbody>\n",
       "</table>\n",
       "</div>"
      ],
      "text/plain": [
       "  continent  life_exp\n",
       "4   Oceania     74.33\n",
       "3    Europe     71.90\n",
       "1  Americas     64.66\n",
       "2      Asia     59.64\n",
       "0    Africa     48.87"
      ]
     },
     "execution_count": 69,
     "metadata": {},
     "output_type": "execute_result"
    }
   ],
   "source": [
    "df4 = df.groupby('continent' ,  as_index=False)['life_exp'].mean().sort_values(by='life_exp' , ascending=False)\n",
    "df4"
   ]
  },
  {
   "cell_type": "code",
   "execution_count": 70,
   "metadata": {},
   "outputs": [
    {
     "data": {
      "application/vnd.plotly.v1+json": {
       "config": {
        "plotlyServerURL": "https://plot.ly"
       },
       "data": [
        {
         "alignmentgroup": "True",
         "hovertemplate": "continent=%{x}<br>life_exp=%{y}<extra></extra>",
         "legendgroup": "Oceania",
         "marker": {
          "color": "#636efa",
          "pattern": {
           "shape": ""
          }
         },
         "name": "Oceania",
         "offsetgroup": "Oceania",
         "orientation": "v",
         "showlegend": true,
         "textposition": "auto",
         "type": "bar",
         "x": [
          "Oceania"
         ],
         "xaxis": "x",
         "y": [
          74.32620833333333
         ],
         "yaxis": "y"
        },
        {
         "alignmentgroup": "True",
         "hovertemplate": "continent=%{x}<br>life_exp=%{y}<extra></extra>",
         "legendgroup": "Europe",
         "marker": {
          "color": "#EF553B",
          "pattern": {
           "shape": ""
          }
         },
         "name": "Europe",
         "offsetgroup": "Europe",
         "orientation": "v",
         "showlegend": true,
         "textposition": "auto",
         "type": "bar",
         "x": [
          "Europe"
         ],
         "xaxis": "x",
         "y": [
          71.90368611111111
         ],
         "yaxis": "y"
        },
        {
         "alignmentgroup": "True",
         "hovertemplate": "continent=%{x}<br>life_exp=%{y}<extra></extra>",
         "legendgroup": "Americas",
         "marker": {
          "color": "#00cc96",
          "pattern": {
           "shape": ""
          }
         },
         "name": "Americas",
         "offsetgroup": "Americas",
         "orientation": "v",
         "showlegend": true,
         "textposition": "auto",
         "type": "bar",
         "x": [
          "Americas"
         ],
         "xaxis": "x",
         "y": [
          64.65873666666667
         ],
         "yaxis": "y"
        },
        {
         "alignmentgroup": "True",
         "hovertemplate": "continent=%{x}<br>life_exp=%{y}<extra></extra>",
         "legendgroup": "Asia",
         "marker": {
          "color": "#ab63fa",
          "pattern": {
           "shape": ""
          }
         },
         "name": "Asia",
         "offsetgroup": "Asia",
         "orientation": "v",
         "showlegend": true,
         "textposition": "auto",
         "type": "bar",
         "x": [
          "Asia"
         ],
         "xaxis": "x",
         "y": [
          59.640499166666665
         ],
         "yaxis": "y"
        },
        {
         "alignmentgroup": "True",
         "hovertemplate": "continent=%{x}<br>life_exp=%{y}<extra></extra>",
         "legendgroup": "Africa",
         "marker": {
          "color": "#FFA15A",
          "pattern": {
           "shape": ""
          }
         },
         "name": "Africa",
         "offsetgroup": "Africa",
         "orientation": "v",
         "showlegend": true,
         "textposition": "auto",
         "type": "bar",
         "x": [
          "Africa"
         ],
         "xaxis": "x",
         "y": [
          48.86533012820513
         ],
         "yaxis": "y"
        }
       ],
       "layout": {
        "barmode": "relative",
        "legend": {
         "title": {
          "text": "continent"
         },
         "tracegroupgap": 0
        },
        "margin": {
         "t": 60
        },
        "template": {
         "data": {
          "bar": [
           {
            "error_x": {
             "color": "#2a3f5f"
            },
            "error_y": {
             "color": "#2a3f5f"
            },
            "marker": {
             "line": {
              "color": "#E5ECF6",
              "width": 0.5
             },
             "pattern": {
              "fillmode": "overlay",
              "size": 10,
              "solidity": 0.2
             }
            },
            "type": "bar"
           }
          ],
          "barpolar": [
           {
            "marker": {
             "line": {
              "color": "#E5ECF6",
              "width": 0.5
             },
             "pattern": {
              "fillmode": "overlay",
              "size": 10,
              "solidity": 0.2
             }
            },
            "type": "barpolar"
           }
          ],
          "carpet": [
           {
            "aaxis": {
             "endlinecolor": "#2a3f5f",
             "gridcolor": "white",
             "linecolor": "white",
             "minorgridcolor": "white",
             "startlinecolor": "#2a3f5f"
            },
            "baxis": {
             "endlinecolor": "#2a3f5f",
             "gridcolor": "white",
             "linecolor": "white",
             "minorgridcolor": "white",
             "startlinecolor": "#2a3f5f"
            },
            "type": "carpet"
           }
          ],
          "choropleth": [
           {
            "colorbar": {
             "outlinewidth": 0,
             "ticks": ""
            },
            "type": "choropleth"
           }
          ],
          "contour": [
           {
            "colorbar": {
             "outlinewidth": 0,
             "ticks": ""
            },
            "colorscale": [
             [
              0,
              "#0d0887"
             ],
             [
              0.1111111111111111,
              "#46039f"
             ],
             [
              0.2222222222222222,
              "#7201a8"
             ],
             [
              0.3333333333333333,
              "#9c179e"
             ],
             [
              0.4444444444444444,
              "#bd3786"
             ],
             [
              0.5555555555555556,
              "#d8576b"
             ],
             [
              0.6666666666666666,
              "#ed7953"
             ],
             [
              0.7777777777777778,
              "#fb9f3a"
             ],
             [
              0.8888888888888888,
              "#fdca26"
             ],
             [
              1,
              "#f0f921"
             ]
            ],
            "type": "contour"
           }
          ],
          "contourcarpet": [
           {
            "colorbar": {
             "outlinewidth": 0,
             "ticks": ""
            },
            "type": "contourcarpet"
           }
          ],
          "heatmap": [
           {
            "colorbar": {
             "outlinewidth": 0,
             "ticks": ""
            },
            "colorscale": [
             [
              0,
              "#0d0887"
             ],
             [
              0.1111111111111111,
              "#46039f"
             ],
             [
              0.2222222222222222,
              "#7201a8"
             ],
             [
              0.3333333333333333,
              "#9c179e"
             ],
             [
              0.4444444444444444,
              "#bd3786"
             ],
             [
              0.5555555555555556,
              "#d8576b"
             ],
             [
              0.6666666666666666,
              "#ed7953"
             ],
             [
              0.7777777777777778,
              "#fb9f3a"
             ],
             [
              0.8888888888888888,
              "#fdca26"
             ],
             [
              1,
              "#f0f921"
             ]
            ],
            "type": "heatmap"
           }
          ],
          "heatmapgl": [
           {
            "colorbar": {
             "outlinewidth": 0,
             "ticks": ""
            },
            "colorscale": [
             [
              0,
              "#0d0887"
             ],
             [
              0.1111111111111111,
              "#46039f"
             ],
             [
              0.2222222222222222,
              "#7201a8"
             ],
             [
              0.3333333333333333,
              "#9c179e"
             ],
             [
              0.4444444444444444,
              "#bd3786"
             ],
             [
              0.5555555555555556,
              "#d8576b"
             ],
             [
              0.6666666666666666,
              "#ed7953"
             ],
             [
              0.7777777777777778,
              "#fb9f3a"
             ],
             [
              0.8888888888888888,
              "#fdca26"
             ],
             [
              1,
              "#f0f921"
             ]
            ],
            "type": "heatmapgl"
           }
          ],
          "histogram": [
           {
            "marker": {
             "pattern": {
              "fillmode": "overlay",
              "size": 10,
              "solidity": 0.2
             }
            },
            "type": "histogram"
           }
          ],
          "histogram2d": [
           {
            "colorbar": {
             "outlinewidth": 0,
             "ticks": ""
            },
            "colorscale": [
             [
              0,
              "#0d0887"
             ],
             [
              0.1111111111111111,
              "#46039f"
             ],
             [
              0.2222222222222222,
              "#7201a8"
             ],
             [
              0.3333333333333333,
              "#9c179e"
             ],
             [
              0.4444444444444444,
              "#bd3786"
             ],
             [
              0.5555555555555556,
              "#d8576b"
             ],
             [
              0.6666666666666666,
              "#ed7953"
             ],
             [
              0.7777777777777778,
              "#fb9f3a"
             ],
             [
              0.8888888888888888,
              "#fdca26"
             ],
             [
              1,
              "#f0f921"
             ]
            ],
            "type": "histogram2d"
           }
          ],
          "histogram2dcontour": [
           {
            "colorbar": {
             "outlinewidth": 0,
             "ticks": ""
            },
            "colorscale": [
             [
              0,
              "#0d0887"
             ],
             [
              0.1111111111111111,
              "#46039f"
             ],
             [
              0.2222222222222222,
              "#7201a8"
             ],
             [
              0.3333333333333333,
              "#9c179e"
             ],
             [
              0.4444444444444444,
              "#bd3786"
             ],
             [
              0.5555555555555556,
              "#d8576b"
             ],
             [
              0.6666666666666666,
              "#ed7953"
             ],
             [
              0.7777777777777778,
              "#fb9f3a"
             ],
             [
              0.8888888888888888,
              "#fdca26"
             ],
             [
              1,
              "#f0f921"
             ]
            ],
            "type": "histogram2dcontour"
           }
          ],
          "mesh3d": [
           {
            "colorbar": {
             "outlinewidth": 0,
             "ticks": ""
            },
            "type": "mesh3d"
           }
          ],
          "parcoords": [
           {
            "line": {
             "colorbar": {
              "outlinewidth": 0,
              "ticks": ""
             }
            },
            "type": "parcoords"
           }
          ],
          "pie": [
           {
            "automargin": true,
            "type": "pie"
           }
          ],
          "scatter": [
           {
            "fillpattern": {
             "fillmode": "overlay",
             "size": 10,
             "solidity": 0.2
            },
            "type": "scatter"
           }
          ],
          "scatter3d": [
           {
            "line": {
             "colorbar": {
              "outlinewidth": 0,
              "ticks": ""
             }
            },
            "marker": {
             "colorbar": {
              "outlinewidth": 0,
              "ticks": ""
             }
            },
            "type": "scatter3d"
           }
          ],
          "scattercarpet": [
           {
            "marker": {
             "colorbar": {
              "outlinewidth": 0,
              "ticks": ""
             }
            },
            "type": "scattercarpet"
           }
          ],
          "scattergeo": [
           {
            "marker": {
             "colorbar": {
              "outlinewidth": 0,
              "ticks": ""
             }
            },
            "type": "scattergeo"
           }
          ],
          "scattergl": [
           {
            "marker": {
             "colorbar": {
              "outlinewidth": 0,
              "ticks": ""
             }
            },
            "type": "scattergl"
           }
          ],
          "scattermapbox": [
           {
            "marker": {
             "colorbar": {
              "outlinewidth": 0,
              "ticks": ""
             }
            },
            "type": "scattermapbox"
           }
          ],
          "scatterpolar": [
           {
            "marker": {
             "colorbar": {
              "outlinewidth": 0,
              "ticks": ""
             }
            },
            "type": "scatterpolar"
           }
          ],
          "scatterpolargl": [
           {
            "marker": {
             "colorbar": {
              "outlinewidth": 0,
              "ticks": ""
             }
            },
            "type": "scatterpolargl"
           }
          ],
          "scatterternary": [
           {
            "marker": {
             "colorbar": {
              "outlinewidth": 0,
              "ticks": ""
             }
            },
            "type": "scatterternary"
           }
          ],
          "surface": [
           {
            "colorbar": {
             "outlinewidth": 0,
             "ticks": ""
            },
            "colorscale": [
             [
              0,
              "#0d0887"
             ],
             [
              0.1111111111111111,
              "#46039f"
             ],
             [
              0.2222222222222222,
              "#7201a8"
             ],
             [
              0.3333333333333333,
              "#9c179e"
             ],
             [
              0.4444444444444444,
              "#bd3786"
             ],
             [
              0.5555555555555556,
              "#d8576b"
             ],
             [
              0.6666666666666666,
              "#ed7953"
             ],
             [
              0.7777777777777778,
              "#fb9f3a"
             ],
             [
              0.8888888888888888,
              "#fdca26"
             ],
             [
              1,
              "#f0f921"
             ]
            ],
            "type": "surface"
           }
          ],
          "table": [
           {
            "cells": {
             "fill": {
              "color": "#EBF0F8"
             },
             "line": {
              "color": "white"
             }
            },
            "header": {
             "fill": {
              "color": "#C8D4E3"
             },
             "line": {
              "color": "white"
             }
            },
            "type": "table"
           }
          ]
         },
         "layout": {
          "annotationdefaults": {
           "arrowcolor": "#2a3f5f",
           "arrowhead": 0,
           "arrowwidth": 1
          },
          "autotypenumbers": "strict",
          "coloraxis": {
           "colorbar": {
            "outlinewidth": 0,
            "ticks": ""
           }
          },
          "colorscale": {
           "diverging": [
            [
             0,
             "#8e0152"
            ],
            [
             0.1,
             "#c51b7d"
            ],
            [
             0.2,
             "#de77ae"
            ],
            [
             0.3,
             "#f1b6da"
            ],
            [
             0.4,
             "#fde0ef"
            ],
            [
             0.5,
             "#f7f7f7"
            ],
            [
             0.6,
             "#e6f5d0"
            ],
            [
             0.7,
             "#b8e186"
            ],
            [
             0.8,
             "#7fbc41"
            ],
            [
             0.9,
             "#4d9221"
            ],
            [
             1,
             "#276419"
            ]
           ],
           "sequential": [
            [
             0,
             "#0d0887"
            ],
            [
             0.1111111111111111,
             "#46039f"
            ],
            [
             0.2222222222222222,
             "#7201a8"
            ],
            [
             0.3333333333333333,
             "#9c179e"
            ],
            [
             0.4444444444444444,
             "#bd3786"
            ],
            [
             0.5555555555555556,
             "#d8576b"
            ],
            [
             0.6666666666666666,
             "#ed7953"
            ],
            [
             0.7777777777777778,
             "#fb9f3a"
            ],
            [
             0.8888888888888888,
             "#fdca26"
            ],
            [
             1,
             "#f0f921"
            ]
           ],
           "sequentialminus": [
            [
             0,
             "#0d0887"
            ],
            [
             0.1111111111111111,
             "#46039f"
            ],
            [
             0.2222222222222222,
             "#7201a8"
            ],
            [
             0.3333333333333333,
             "#9c179e"
            ],
            [
             0.4444444444444444,
             "#bd3786"
            ],
            [
             0.5555555555555556,
             "#d8576b"
            ],
            [
             0.6666666666666666,
             "#ed7953"
            ],
            [
             0.7777777777777778,
             "#fb9f3a"
            ],
            [
             0.8888888888888888,
             "#fdca26"
            ],
            [
             1,
             "#f0f921"
            ]
           ]
          },
          "colorway": [
           "#636efa",
           "#EF553B",
           "#00cc96",
           "#ab63fa",
           "#FFA15A",
           "#19d3f3",
           "#FF6692",
           "#B6E880",
           "#FF97FF",
           "#FECB52"
          ],
          "font": {
           "color": "#2a3f5f"
          },
          "geo": {
           "bgcolor": "white",
           "lakecolor": "white",
           "landcolor": "#E5ECF6",
           "showlakes": true,
           "showland": true,
           "subunitcolor": "white"
          },
          "hoverlabel": {
           "align": "left"
          },
          "hovermode": "closest",
          "mapbox": {
           "style": "light"
          },
          "paper_bgcolor": "white",
          "plot_bgcolor": "#E5ECF6",
          "polar": {
           "angularaxis": {
            "gridcolor": "white",
            "linecolor": "white",
            "ticks": ""
           },
           "bgcolor": "#E5ECF6",
           "radialaxis": {
            "gridcolor": "white",
            "linecolor": "white",
            "ticks": ""
           }
          },
          "scene": {
           "xaxis": {
            "backgroundcolor": "#E5ECF6",
            "gridcolor": "white",
            "gridwidth": 2,
            "linecolor": "white",
            "showbackground": true,
            "ticks": "",
            "zerolinecolor": "white"
           },
           "yaxis": {
            "backgroundcolor": "#E5ECF6",
            "gridcolor": "white",
            "gridwidth": 2,
            "linecolor": "white",
            "showbackground": true,
            "ticks": "",
            "zerolinecolor": "white"
           },
           "zaxis": {
            "backgroundcolor": "#E5ECF6",
            "gridcolor": "white",
            "gridwidth": 2,
            "linecolor": "white",
            "showbackground": true,
            "ticks": "",
            "zerolinecolor": "white"
           }
          },
          "shapedefaults": {
           "line": {
            "color": "#2a3f5f"
           }
          },
          "ternary": {
           "aaxis": {
            "gridcolor": "white",
            "linecolor": "white",
            "ticks": ""
           },
           "baxis": {
            "gridcolor": "white",
            "linecolor": "white",
            "ticks": ""
           },
           "bgcolor": "#E5ECF6",
           "caxis": {
            "gridcolor": "white",
            "linecolor": "white",
            "ticks": ""
           }
          },
          "title": {
           "x": 0.05
          },
          "xaxis": {
           "automargin": true,
           "gridcolor": "white",
           "linecolor": "white",
           "ticks": "",
           "title": {
            "standoff": 15
           },
           "zerolinecolor": "white",
           "zerolinewidth": 2
          },
          "yaxis": {
           "automargin": true,
           "gridcolor": "white",
           "linecolor": "white",
           "ticks": "",
           "title": {
            "standoff": 15
           },
           "zerolinecolor": "white",
           "zerolinewidth": 2
          }
         }
        },
        "xaxis": {
         "anchor": "y",
         "categoryarray": [
          "Oceania",
          "Europe",
          "Americas",
          "Asia",
          "Africa"
         ],
         "categoryorder": "array",
         "domain": [
          0,
          1
         ],
         "title": {
          "text": "continent"
         }
        },
        "yaxis": {
         "anchor": "x",
         "domain": [
          0,
          1
         ],
         "title": {
          "text": "life_exp"
         }
        }
       }
      }
     },
     "metadata": {},
     "output_type": "display_data"
    }
   ],
   "source": [
    "fig = px.bar(data_frame=df4, \n",
    "            x='continent',\n",
    "            y='life_exp',\n",
    "            color='continent')\n",
    "fig.show()"
   ]
  },
  {
   "cell_type": "code",
   "execution_count": 71,
   "metadata": {},
   "outputs": [
    {
     "data": {
      "application/vnd.plotly.v1+json": {
       "config": {
        "plotlyServerURL": "https://plot.ly"
       },
       "data": [
        {
         "domain": {
          "x": [
           0,
           1
          ],
          "y": [
           0,
           1
          ]
         },
         "hovertemplate": "continent=%{label}<br>life_exp=%{value}<extra></extra>",
         "labels": [
          "Oceania",
          "Europe",
          "Americas",
          "Asia",
          "Africa"
         ],
         "legendgroup": "",
         "name": "",
         "showlegend": true,
         "type": "pie",
         "values": [
          74.32620833333333,
          71.90368611111111,
          64.65873666666667,
          59.640499166666665,
          48.86533012820513
         ]
        }
       ],
       "layout": {
        "legend": {
         "tracegroupgap": 0
        },
        "margin": {
         "t": 60
        },
        "template": {
         "data": {
          "bar": [
           {
            "error_x": {
             "color": "#2a3f5f"
            },
            "error_y": {
             "color": "#2a3f5f"
            },
            "marker": {
             "line": {
              "color": "#E5ECF6",
              "width": 0.5
             },
             "pattern": {
              "fillmode": "overlay",
              "size": 10,
              "solidity": 0.2
             }
            },
            "type": "bar"
           }
          ],
          "barpolar": [
           {
            "marker": {
             "line": {
              "color": "#E5ECF6",
              "width": 0.5
             },
             "pattern": {
              "fillmode": "overlay",
              "size": 10,
              "solidity": 0.2
             }
            },
            "type": "barpolar"
           }
          ],
          "carpet": [
           {
            "aaxis": {
             "endlinecolor": "#2a3f5f",
             "gridcolor": "white",
             "linecolor": "white",
             "minorgridcolor": "white",
             "startlinecolor": "#2a3f5f"
            },
            "baxis": {
             "endlinecolor": "#2a3f5f",
             "gridcolor": "white",
             "linecolor": "white",
             "minorgridcolor": "white",
             "startlinecolor": "#2a3f5f"
            },
            "type": "carpet"
           }
          ],
          "choropleth": [
           {
            "colorbar": {
             "outlinewidth": 0,
             "ticks": ""
            },
            "type": "choropleth"
           }
          ],
          "contour": [
           {
            "colorbar": {
             "outlinewidth": 0,
             "ticks": ""
            },
            "colorscale": [
             [
              0,
              "#0d0887"
             ],
             [
              0.1111111111111111,
              "#46039f"
             ],
             [
              0.2222222222222222,
              "#7201a8"
             ],
             [
              0.3333333333333333,
              "#9c179e"
             ],
             [
              0.4444444444444444,
              "#bd3786"
             ],
             [
              0.5555555555555556,
              "#d8576b"
             ],
             [
              0.6666666666666666,
              "#ed7953"
             ],
             [
              0.7777777777777778,
              "#fb9f3a"
             ],
             [
              0.8888888888888888,
              "#fdca26"
             ],
             [
              1,
              "#f0f921"
             ]
            ],
            "type": "contour"
           }
          ],
          "contourcarpet": [
           {
            "colorbar": {
             "outlinewidth": 0,
             "ticks": ""
            },
            "type": "contourcarpet"
           }
          ],
          "heatmap": [
           {
            "colorbar": {
             "outlinewidth": 0,
             "ticks": ""
            },
            "colorscale": [
             [
              0,
              "#0d0887"
             ],
             [
              0.1111111111111111,
              "#46039f"
             ],
             [
              0.2222222222222222,
              "#7201a8"
             ],
             [
              0.3333333333333333,
              "#9c179e"
             ],
             [
              0.4444444444444444,
              "#bd3786"
             ],
             [
              0.5555555555555556,
              "#d8576b"
             ],
             [
              0.6666666666666666,
              "#ed7953"
             ],
             [
              0.7777777777777778,
              "#fb9f3a"
             ],
             [
              0.8888888888888888,
              "#fdca26"
             ],
             [
              1,
              "#f0f921"
             ]
            ],
            "type": "heatmap"
           }
          ],
          "heatmapgl": [
           {
            "colorbar": {
             "outlinewidth": 0,
             "ticks": ""
            },
            "colorscale": [
             [
              0,
              "#0d0887"
             ],
             [
              0.1111111111111111,
              "#46039f"
             ],
             [
              0.2222222222222222,
              "#7201a8"
             ],
             [
              0.3333333333333333,
              "#9c179e"
             ],
             [
              0.4444444444444444,
              "#bd3786"
             ],
             [
              0.5555555555555556,
              "#d8576b"
             ],
             [
              0.6666666666666666,
              "#ed7953"
             ],
             [
              0.7777777777777778,
              "#fb9f3a"
             ],
             [
              0.8888888888888888,
              "#fdca26"
             ],
             [
              1,
              "#f0f921"
             ]
            ],
            "type": "heatmapgl"
           }
          ],
          "histogram": [
           {
            "marker": {
             "pattern": {
              "fillmode": "overlay",
              "size": 10,
              "solidity": 0.2
             }
            },
            "type": "histogram"
           }
          ],
          "histogram2d": [
           {
            "colorbar": {
             "outlinewidth": 0,
             "ticks": ""
            },
            "colorscale": [
             [
              0,
              "#0d0887"
             ],
             [
              0.1111111111111111,
              "#46039f"
             ],
             [
              0.2222222222222222,
              "#7201a8"
             ],
             [
              0.3333333333333333,
              "#9c179e"
             ],
             [
              0.4444444444444444,
              "#bd3786"
             ],
             [
              0.5555555555555556,
              "#d8576b"
             ],
             [
              0.6666666666666666,
              "#ed7953"
             ],
             [
              0.7777777777777778,
              "#fb9f3a"
             ],
             [
              0.8888888888888888,
              "#fdca26"
             ],
             [
              1,
              "#f0f921"
             ]
            ],
            "type": "histogram2d"
           }
          ],
          "histogram2dcontour": [
           {
            "colorbar": {
             "outlinewidth": 0,
             "ticks": ""
            },
            "colorscale": [
             [
              0,
              "#0d0887"
             ],
             [
              0.1111111111111111,
              "#46039f"
             ],
             [
              0.2222222222222222,
              "#7201a8"
             ],
             [
              0.3333333333333333,
              "#9c179e"
             ],
             [
              0.4444444444444444,
              "#bd3786"
             ],
             [
              0.5555555555555556,
              "#d8576b"
             ],
             [
              0.6666666666666666,
              "#ed7953"
             ],
             [
              0.7777777777777778,
              "#fb9f3a"
             ],
             [
              0.8888888888888888,
              "#fdca26"
             ],
             [
              1,
              "#f0f921"
             ]
            ],
            "type": "histogram2dcontour"
           }
          ],
          "mesh3d": [
           {
            "colorbar": {
             "outlinewidth": 0,
             "ticks": ""
            },
            "type": "mesh3d"
           }
          ],
          "parcoords": [
           {
            "line": {
             "colorbar": {
              "outlinewidth": 0,
              "ticks": ""
             }
            },
            "type": "parcoords"
           }
          ],
          "pie": [
           {
            "automargin": true,
            "type": "pie"
           }
          ],
          "scatter": [
           {
            "fillpattern": {
             "fillmode": "overlay",
             "size": 10,
             "solidity": 0.2
            },
            "type": "scatter"
           }
          ],
          "scatter3d": [
           {
            "line": {
             "colorbar": {
              "outlinewidth": 0,
              "ticks": ""
             }
            },
            "marker": {
             "colorbar": {
              "outlinewidth": 0,
              "ticks": ""
             }
            },
            "type": "scatter3d"
           }
          ],
          "scattercarpet": [
           {
            "marker": {
             "colorbar": {
              "outlinewidth": 0,
              "ticks": ""
             }
            },
            "type": "scattercarpet"
           }
          ],
          "scattergeo": [
           {
            "marker": {
             "colorbar": {
              "outlinewidth": 0,
              "ticks": ""
             }
            },
            "type": "scattergeo"
           }
          ],
          "scattergl": [
           {
            "marker": {
             "colorbar": {
              "outlinewidth": 0,
              "ticks": ""
             }
            },
            "type": "scattergl"
           }
          ],
          "scattermapbox": [
           {
            "marker": {
             "colorbar": {
              "outlinewidth": 0,
              "ticks": ""
             }
            },
            "type": "scattermapbox"
           }
          ],
          "scatterpolar": [
           {
            "marker": {
             "colorbar": {
              "outlinewidth": 0,
              "ticks": ""
             }
            },
            "type": "scatterpolar"
           }
          ],
          "scatterpolargl": [
           {
            "marker": {
             "colorbar": {
              "outlinewidth": 0,
              "ticks": ""
             }
            },
            "type": "scatterpolargl"
           }
          ],
          "scatterternary": [
           {
            "marker": {
             "colorbar": {
              "outlinewidth": 0,
              "ticks": ""
             }
            },
            "type": "scatterternary"
           }
          ],
          "surface": [
           {
            "colorbar": {
             "outlinewidth": 0,
             "ticks": ""
            },
            "colorscale": [
             [
              0,
              "#0d0887"
             ],
             [
              0.1111111111111111,
              "#46039f"
             ],
             [
              0.2222222222222222,
              "#7201a8"
             ],
             [
              0.3333333333333333,
              "#9c179e"
             ],
             [
              0.4444444444444444,
              "#bd3786"
             ],
             [
              0.5555555555555556,
              "#d8576b"
             ],
             [
              0.6666666666666666,
              "#ed7953"
             ],
             [
              0.7777777777777778,
              "#fb9f3a"
             ],
             [
              0.8888888888888888,
              "#fdca26"
             ],
             [
              1,
              "#f0f921"
             ]
            ],
            "type": "surface"
           }
          ],
          "table": [
           {
            "cells": {
             "fill": {
              "color": "#EBF0F8"
             },
             "line": {
              "color": "white"
             }
            },
            "header": {
             "fill": {
              "color": "#C8D4E3"
             },
             "line": {
              "color": "white"
             }
            },
            "type": "table"
           }
          ]
         },
         "layout": {
          "annotationdefaults": {
           "arrowcolor": "#2a3f5f",
           "arrowhead": 0,
           "arrowwidth": 1
          },
          "autotypenumbers": "strict",
          "coloraxis": {
           "colorbar": {
            "outlinewidth": 0,
            "ticks": ""
           }
          },
          "colorscale": {
           "diverging": [
            [
             0,
             "#8e0152"
            ],
            [
             0.1,
             "#c51b7d"
            ],
            [
             0.2,
             "#de77ae"
            ],
            [
             0.3,
             "#f1b6da"
            ],
            [
             0.4,
             "#fde0ef"
            ],
            [
             0.5,
             "#f7f7f7"
            ],
            [
             0.6,
             "#e6f5d0"
            ],
            [
             0.7,
             "#b8e186"
            ],
            [
             0.8,
             "#7fbc41"
            ],
            [
             0.9,
             "#4d9221"
            ],
            [
             1,
             "#276419"
            ]
           ],
           "sequential": [
            [
             0,
             "#0d0887"
            ],
            [
             0.1111111111111111,
             "#46039f"
            ],
            [
             0.2222222222222222,
             "#7201a8"
            ],
            [
             0.3333333333333333,
             "#9c179e"
            ],
            [
             0.4444444444444444,
             "#bd3786"
            ],
            [
             0.5555555555555556,
             "#d8576b"
            ],
            [
             0.6666666666666666,
             "#ed7953"
            ],
            [
             0.7777777777777778,
             "#fb9f3a"
            ],
            [
             0.8888888888888888,
             "#fdca26"
            ],
            [
             1,
             "#f0f921"
            ]
           ],
           "sequentialminus": [
            [
             0,
             "#0d0887"
            ],
            [
             0.1111111111111111,
             "#46039f"
            ],
            [
             0.2222222222222222,
             "#7201a8"
            ],
            [
             0.3333333333333333,
             "#9c179e"
            ],
            [
             0.4444444444444444,
             "#bd3786"
            ],
            [
             0.5555555555555556,
             "#d8576b"
            ],
            [
             0.6666666666666666,
             "#ed7953"
            ],
            [
             0.7777777777777778,
             "#fb9f3a"
            ],
            [
             0.8888888888888888,
             "#fdca26"
            ],
            [
             1,
             "#f0f921"
            ]
           ]
          },
          "colorway": [
           "#636efa",
           "#EF553B",
           "#00cc96",
           "#ab63fa",
           "#FFA15A",
           "#19d3f3",
           "#FF6692",
           "#B6E880",
           "#FF97FF",
           "#FECB52"
          ],
          "font": {
           "color": "#2a3f5f"
          },
          "geo": {
           "bgcolor": "white",
           "lakecolor": "white",
           "landcolor": "#E5ECF6",
           "showlakes": true,
           "showland": true,
           "subunitcolor": "white"
          },
          "hoverlabel": {
           "align": "left"
          },
          "hovermode": "closest",
          "mapbox": {
           "style": "light"
          },
          "paper_bgcolor": "white",
          "plot_bgcolor": "#E5ECF6",
          "polar": {
           "angularaxis": {
            "gridcolor": "white",
            "linecolor": "white",
            "ticks": ""
           },
           "bgcolor": "#E5ECF6",
           "radialaxis": {
            "gridcolor": "white",
            "linecolor": "white",
            "ticks": ""
           }
          },
          "scene": {
           "xaxis": {
            "backgroundcolor": "#E5ECF6",
            "gridcolor": "white",
            "gridwidth": 2,
            "linecolor": "white",
            "showbackground": true,
            "ticks": "",
            "zerolinecolor": "white"
           },
           "yaxis": {
            "backgroundcolor": "#E5ECF6",
            "gridcolor": "white",
            "gridwidth": 2,
            "linecolor": "white",
            "showbackground": true,
            "ticks": "",
            "zerolinecolor": "white"
           },
           "zaxis": {
            "backgroundcolor": "#E5ECF6",
            "gridcolor": "white",
            "gridwidth": 2,
            "linecolor": "white",
            "showbackground": true,
            "ticks": "",
            "zerolinecolor": "white"
           }
          },
          "shapedefaults": {
           "line": {
            "color": "#2a3f5f"
           }
          },
          "ternary": {
           "aaxis": {
            "gridcolor": "white",
            "linecolor": "white",
            "ticks": ""
           },
           "baxis": {
            "gridcolor": "white",
            "linecolor": "white",
            "ticks": ""
           },
           "bgcolor": "#E5ECF6",
           "caxis": {
            "gridcolor": "white",
            "linecolor": "white",
            "ticks": ""
           }
          },
          "title": {
           "x": 0.05
          },
          "xaxis": {
           "automargin": true,
           "gridcolor": "white",
           "linecolor": "white",
           "ticks": "",
           "title": {
            "standoff": 15
           },
           "zerolinecolor": "white",
           "zerolinewidth": 2
          },
          "yaxis": {
           "automargin": true,
           "gridcolor": "white",
           "linecolor": "white",
           "ticks": "",
           "title": {
            "standoff": 15
           },
           "zerolinecolor": "white",
           "zerolinewidth": 2
          }
         }
        }
       }
      }
     },
     "metadata": {},
     "output_type": "display_data"
    }
   ],
   "source": [
    "px.pie( data_frame=df4,names='continent' , values='life_exp')"
   ]
  },
  {
   "cell_type": "code",
   "execution_count": 72,
   "metadata": {},
   "outputs": [
    {
     "name": "stdout",
     "output_type": "stream",
     "text": [
      "continent     object\n",
      "year           int64\n",
      "life_exp     float64\n",
      "dtype: object\n",
      "[1952 1957 1962 1967 1972 1977 1982 1987 1992 1997 2002 2007]\n",
      "['Africa' 'Americas' 'Asia' 'Europe' 'Oceania']\n"
     ]
    },
    {
     "data": {
      "text/html": [
       "<div>\n",
       "<style scoped>\n",
       "    .dataframe tbody tr th:only-of-type {\n",
       "        vertical-align: middle;\n",
       "    }\n",
       "\n",
       "    .dataframe tbody tr th {\n",
       "        vertical-align: top;\n",
       "    }\n",
       "\n",
       "    .dataframe thead th {\n",
       "        text-align: right;\n",
       "    }\n",
       "</style>\n",
       "<table border=\"1\" class=\"dataframe\">\n",
       "  <thead>\n",
       "    <tr style=\"text-align: right;\">\n",
       "      <th></th>\n",
       "      <th>continent</th>\n",
       "      <th>year</th>\n",
       "      <th>life_exp</th>\n",
       "    </tr>\n",
       "  </thead>\n",
       "  <tbody>\n",
       "    <tr>\n",
       "      <th>0</th>\n",
       "      <td>Africa</td>\n",
       "      <td>1952</td>\n",
       "      <td>39.14</td>\n",
       "    </tr>\n",
       "    <tr>\n",
       "      <th>1</th>\n",
       "      <td>Africa</td>\n",
       "      <td>1957</td>\n",
       "      <td>41.27</td>\n",
       "    </tr>\n",
       "    <tr>\n",
       "      <th>2</th>\n",
       "      <td>Africa</td>\n",
       "      <td>1962</td>\n",
       "      <td>43.32</td>\n",
       "    </tr>\n",
       "    <tr>\n",
       "      <th>3</th>\n",
       "      <td>Africa</td>\n",
       "      <td>1967</td>\n",
       "      <td>45.33</td>\n",
       "    </tr>\n",
       "    <tr>\n",
       "      <th>4</th>\n",
       "      <td>Africa</td>\n",
       "      <td>1972</td>\n",
       "      <td>47.45</td>\n",
       "    </tr>\n",
       "    <tr>\n",
       "      <th>5</th>\n",
       "      <td>Africa</td>\n",
       "      <td>1977</td>\n",
       "      <td>49.58</td>\n",
       "    </tr>\n",
       "    <tr>\n",
       "      <th>6</th>\n",
       "      <td>Africa</td>\n",
       "      <td>1982</td>\n",
       "      <td>51.59</td>\n",
       "    </tr>\n",
       "    <tr>\n",
       "      <th>7</th>\n",
       "      <td>Africa</td>\n",
       "      <td>1987</td>\n",
       "      <td>53.34</td>\n",
       "    </tr>\n",
       "    <tr>\n",
       "      <th>8</th>\n",
       "      <td>Africa</td>\n",
       "      <td>1992</td>\n",
       "      <td>53.63</td>\n",
       "    </tr>\n",
       "    <tr>\n",
       "      <th>9</th>\n",
       "      <td>Africa</td>\n",
       "      <td>1997</td>\n",
       "      <td>53.60</td>\n",
       "    </tr>\n",
       "    <tr>\n",
       "      <th>10</th>\n",
       "      <td>Africa</td>\n",
       "      <td>2002</td>\n",
       "      <td>53.33</td>\n",
       "    </tr>\n",
       "    <tr>\n",
       "      <th>11</th>\n",
       "      <td>Africa</td>\n",
       "      <td>2007</td>\n",
       "      <td>54.81</td>\n",
       "    </tr>\n",
       "    <tr>\n",
       "      <th>12</th>\n",
       "      <td>Americas</td>\n",
       "      <td>1952</td>\n",
       "      <td>53.28</td>\n",
       "    </tr>\n",
       "    <tr>\n",
       "      <th>13</th>\n",
       "      <td>Americas</td>\n",
       "      <td>1957</td>\n",
       "      <td>55.96</td>\n",
       "    </tr>\n",
       "    <tr>\n",
       "      <th>14</th>\n",
       "      <td>Americas</td>\n",
       "      <td>1962</td>\n",
       "      <td>58.40</td>\n",
       "    </tr>\n",
       "    <tr>\n",
       "      <th>15</th>\n",
       "      <td>Americas</td>\n",
       "      <td>1967</td>\n",
       "      <td>60.41</td>\n",
       "    </tr>\n",
       "    <tr>\n",
       "      <th>16</th>\n",
       "      <td>Americas</td>\n",
       "      <td>1972</td>\n",
       "      <td>62.39</td>\n",
       "    </tr>\n",
       "    <tr>\n",
       "      <th>17</th>\n",
       "      <td>Americas</td>\n",
       "      <td>1977</td>\n",
       "      <td>64.39</td>\n",
       "    </tr>\n",
       "    <tr>\n",
       "      <th>18</th>\n",
       "      <td>Americas</td>\n",
       "      <td>1982</td>\n",
       "      <td>66.23</td>\n",
       "    </tr>\n",
       "    <tr>\n",
       "      <th>19</th>\n",
       "      <td>Americas</td>\n",
       "      <td>1987</td>\n",
       "      <td>68.09</td>\n",
       "    </tr>\n",
       "    <tr>\n",
       "      <th>20</th>\n",
       "      <td>Americas</td>\n",
       "      <td>1992</td>\n",
       "      <td>69.57</td>\n",
       "    </tr>\n",
       "    <tr>\n",
       "      <th>21</th>\n",
       "      <td>Americas</td>\n",
       "      <td>1997</td>\n",
       "      <td>71.15</td>\n",
       "    </tr>\n",
       "    <tr>\n",
       "      <th>22</th>\n",
       "      <td>Americas</td>\n",
       "      <td>2002</td>\n",
       "      <td>72.42</td>\n",
       "    </tr>\n",
       "    <tr>\n",
       "      <th>23</th>\n",
       "      <td>Americas</td>\n",
       "      <td>2007</td>\n",
       "      <td>73.61</td>\n",
       "    </tr>\n",
       "    <tr>\n",
       "      <th>24</th>\n",
       "      <td>Asia</td>\n",
       "      <td>1952</td>\n",
       "      <td>45.72</td>\n",
       "    </tr>\n",
       "    <tr>\n",
       "      <th>25</th>\n",
       "      <td>Asia</td>\n",
       "      <td>1957</td>\n",
       "      <td>48.74</td>\n",
       "    </tr>\n",
       "    <tr>\n",
       "      <th>26</th>\n",
       "      <td>Asia</td>\n",
       "      <td>1962</td>\n",
       "      <td>51.01</td>\n",
       "    </tr>\n",
       "    <tr>\n",
       "      <th>27</th>\n",
       "      <td>Asia</td>\n",
       "      <td>1967</td>\n",
       "      <td>54.16</td>\n",
       "    </tr>\n",
       "    <tr>\n",
       "      <th>28</th>\n",
       "      <td>Asia</td>\n",
       "      <td>1972</td>\n",
       "      <td>56.87</td>\n",
       "    </tr>\n",
       "    <tr>\n",
       "      <th>29</th>\n",
       "      <td>Asia</td>\n",
       "      <td>1977</td>\n",
       "      <td>59.19</td>\n",
       "    </tr>\n",
       "    <tr>\n",
       "      <th>30</th>\n",
       "      <td>Asia</td>\n",
       "      <td>1982</td>\n",
       "      <td>62.25</td>\n",
       "    </tr>\n",
       "    <tr>\n",
       "      <th>31</th>\n",
       "      <td>Asia</td>\n",
       "      <td>1987</td>\n",
       "      <td>64.52</td>\n",
       "    </tr>\n",
       "    <tr>\n",
       "      <th>32</th>\n",
       "      <td>Asia</td>\n",
       "      <td>1992</td>\n",
       "      <td>66.21</td>\n",
       "    </tr>\n",
       "    <tr>\n",
       "      <th>33</th>\n",
       "      <td>Asia</td>\n",
       "      <td>1997</td>\n",
       "      <td>67.70</td>\n",
       "    </tr>\n",
       "    <tr>\n",
       "      <th>34</th>\n",
       "      <td>Asia</td>\n",
       "      <td>2002</td>\n",
       "      <td>68.91</td>\n",
       "    </tr>\n",
       "    <tr>\n",
       "      <th>35</th>\n",
       "      <td>Asia</td>\n",
       "      <td>2007</td>\n",
       "      <td>70.42</td>\n",
       "    </tr>\n",
       "    <tr>\n",
       "      <th>36</th>\n",
       "      <td>Europe</td>\n",
       "      <td>1952</td>\n",
       "      <td>64.41</td>\n",
       "    </tr>\n",
       "    <tr>\n",
       "      <th>37</th>\n",
       "      <td>Europe</td>\n",
       "      <td>1957</td>\n",
       "      <td>66.70</td>\n",
       "    </tr>\n",
       "    <tr>\n",
       "      <th>38</th>\n",
       "      <td>Europe</td>\n",
       "      <td>1962</td>\n",
       "      <td>68.54</td>\n",
       "    </tr>\n",
       "    <tr>\n",
       "      <th>39</th>\n",
       "      <td>Europe</td>\n",
       "      <td>1967</td>\n",
       "      <td>69.74</td>\n",
       "    </tr>\n",
       "    <tr>\n",
       "      <th>40</th>\n",
       "      <td>Europe</td>\n",
       "      <td>1972</td>\n",
       "      <td>70.78</td>\n",
       "    </tr>\n",
       "    <tr>\n",
       "      <th>41</th>\n",
       "      <td>Europe</td>\n",
       "      <td>1977</td>\n",
       "      <td>71.94</td>\n",
       "    </tr>\n",
       "    <tr>\n",
       "      <th>42</th>\n",
       "      <td>Europe</td>\n",
       "      <td>1982</td>\n",
       "      <td>72.81</td>\n",
       "    </tr>\n",
       "    <tr>\n",
       "      <th>43</th>\n",
       "      <td>Europe</td>\n",
       "      <td>1987</td>\n",
       "      <td>73.64</td>\n",
       "    </tr>\n",
       "    <tr>\n",
       "      <th>44</th>\n",
       "      <td>Europe</td>\n",
       "      <td>1992</td>\n",
       "      <td>74.44</td>\n",
       "    </tr>\n",
       "    <tr>\n",
       "      <th>45</th>\n",
       "      <td>Europe</td>\n",
       "      <td>1997</td>\n",
       "      <td>75.51</td>\n",
       "    </tr>\n",
       "    <tr>\n",
       "      <th>46</th>\n",
       "      <td>Europe</td>\n",
       "      <td>2002</td>\n",
       "      <td>76.70</td>\n",
       "    </tr>\n",
       "    <tr>\n",
       "      <th>47</th>\n",
       "      <td>Europe</td>\n",
       "      <td>2007</td>\n",
       "      <td>77.65</td>\n",
       "    </tr>\n",
       "    <tr>\n",
       "      <th>48</th>\n",
       "      <td>Oceania</td>\n",
       "      <td>1952</td>\n",
       "      <td>69.25</td>\n",
       "    </tr>\n",
       "    <tr>\n",
       "      <th>49</th>\n",
       "      <td>Oceania</td>\n",
       "      <td>1957</td>\n",
       "      <td>70.30</td>\n",
       "    </tr>\n",
       "    <tr>\n",
       "      <th>50</th>\n",
       "      <td>Oceania</td>\n",
       "      <td>1962</td>\n",
       "      <td>71.09</td>\n",
       "    </tr>\n",
       "    <tr>\n",
       "      <th>51</th>\n",
       "      <td>Oceania</td>\n",
       "      <td>1967</td>\n",
       "      <td>71.31</td>\n",
       "    </tr>\n",
       "    <tr>\n",
       "      <th>52</th>\n",
       "      <td>Oceania</td>\n",
       "      <td>1972</td>\n",
       "      <td>71.91</td>\n",
       "    </tr>\n",
       "    <tr>\n",
       "      <th>53</th>\n",
       "      <td>Oceania</td>\n",
       "      <td>1977</td>\n",
       "      <td>72.85</td>\n",
       "    </tr>\n",
       "    <tr>\n",
       "      <th>54</th>\n",
       "      <td>Oceania</td>\n",
       "      <td>1982</td>\n",
       "      <td>74.29</td>\n",
       "    </tr>\n",
       "    <tr>\n",
       "      <th>55</th>\n",
       "      <td>Oceania</td>\n",
       "      <td>1987</td>\n",
       "      <td>75.32</td>\n",
       "    </tr>\n",
       "    <tr>\n",
       "      <th>56</th>\n",
       "      <td>Oceania</td>\n",
       "      <td>1992</td>\n",
       "      <td>76.94</td>\n",
       "    </tr>\n",
       "    <tr>\n",
       "      <th>57</th>\n",
       "      <td>Oceania</td>\n",
       "      <td>1997</td>\n",
       "      <td>78.19</td>\n",
       "    </tr>\n",
       "    <tr>\n",
       "      <th>58</th>\n",
       "      <td>Oceania</td>\n",
       "      <td>2002</td>\n",
       "      <td>79.74</td>\n",
       "    </tr>\n",
       "    <tr>\n",
       "      <th>59</th>\n",
       "      <td>Oceania</td>\n",
       "      <td>2007</td>\n",
       "      <td>80.72</td>\n",
       "    </tr>\n",
       "  </tbody>\n",
       "</table>\n",
       "</div>"
      ],
      "text/plain": [
       "   continent  year  life_exp\n",
       "0     Africa  1952     39.14\n",
       "1     Africa  1957     41.27\n",
       "2     Africa  1962     43.32\n",
       "3     Africa  1967     45.33\n",
       "4     Africa  1972     47.45\n",
       "5     Africa  1977     49.58\n",
       "6     Africa  1982     51.59\n",
       "7     Africa  1987     53.34\n",
       "8     Africa  1992     53.63\n",
       "9     Africa  1997     53.60\n",
       "10    Africa  2002     53.33\n",
       "11    Africa  2007     54.81\n",
       "12  Americas  1952     53.28\n",
       "13  Americas  1957     55.96\n",
       "14  Americas  1962     58.40\n",
       "15  Americas  1967     60.41\n",
       "16  Americas  1972     62.39\n",
       "17  Americas  1977     64.39\n",
       "18  Americas  1982     66.23\n",
       "19  Americas  1987     68.09\n",
       "20  Americas  1992     69.57\n",
       "21  Americas  1997     71.15\n",
       "22  Americas  2002     72.42\n",
       "23  Americas  2007     73.61\n",
       "24      Asia  1952     45.72\n",
       "25      Asia  1957     48.74\n",
       "26      Asia  1962     51.01\n",
       "27      Asia  1967     54.16\n",
       "28      Asia  1972     56.87\n",
       "29      Asia  1977     59.19\n",
       "30      Asia  1982     62.25\n",
       "31      Asia  1987     64.52\n",
       "32      Asia  1992     66.21\n",
       "33      Asia  1997     67.70\n",
       "34      Asia  2002     68.91\n",
       "35      Asia  2007     70.42\n",
       "36    Europe  1952     64.41\n",
       "37    Europe  1957     66.70\n",
       "38    Europe  1962     68.54\n",
       "39    Europe  1967     69.74\n",
       "40    Europe  1972     70.78\n",
       "41    Europe  1977     71.94\n",
       "42    Europe  1982     72.81\n",
       "43    Europe  1987     73.64\n",
       "44    Europe  1992     74.44\n",
       "45    Europe  1997     75.51\n",
       "46    Europe  2002     76.70\n",
       "47    Europe  2007     77.65\n",
       "48   Oceania  1952     69.25\n",
       "49   Oceania  1957     70.30\n",
       "50   Oceania  1962     71.09\n",
       "51   Oceania  1967     71.31\n",
       "52   Oceania  1972     71.91\n",
       "53   Oceania  1977     72.85\n",
       "54   Oceania  1982     74.29\n",
       "55   Oceania  1987     75.32\n",
       "56   Oceania  1992     76.94\n",
       "57   Oceania  1997     78.19\n",
       "58   Oceania  2002     79.74\n",
       "59   Oceania  2007     80.72"
      ]
     },
     "execution_count": 72,
     "metadata": {},
     "output_type": "execute_result"
    }
   ],
   "source": [
    "df_exp_per_year_allcontinents = df.groupby(['continent', 'year'], as_index=False)['life_exp'].mean()\n",
    "\n",
    "# Check data types and unique values\n",
    "print(df_exp_per_year_allcontinents.dtypes)\n",
    "print(df_exp_per_year_allcontinents['year'].unique())\n",
    "print(df_exp_per_year_allcontinents['continent'].unique())\n",
    "\n",
    "df_exp_per_year_allcontinents"
   ]
  },
  {
   "cell_type": "code",
   "execution_count": 73,
   "metadata": {},
   "outputs": [
    {
     "data": {
      "application/vnd.plotly.v1+json": {
       "config": {
        "plotlyServerURL": "https://plot.ly"
       },
       "data": [
        {
         "hovertemplate": "continent=Africa<br>year=%{x}<br>life_exp=%{marker.size}<extra></extra>",
         "legendgroup": "Africa",
         "marker": {
          "color": "#636efa",
          "size": [
           39.1355
          ],
          "sizemode": "area",
          "sizeref": 0.20179875,
          "symbol": "circle"
         },
         "mode": "markers",
         "name": "Africa",
         "orientation": "v",
         "showlegend": true,
         "type": "scatter",
         "x": [
          1952
         ],
         "xaxis": "x",
         "y": [
          39.1355
         ],
         "yaxis": "y"
        },
        {
         "hovertemplate": "continent=Americas<br>year=%{x}<br>life_exp=%{marker.size}<extra></extra>",
         "legendgroup": "Americas",
         "marker": {
          "color": "#EF553B",
          "size": [
           53.27984000000001
          ],
          "sizemode": "area",
          "sizeref": 0.20179875,
          "symbol": "circle"
         },
         "mode": "markers",
         "name": "Americas",
         "orientation": "v",
         "showlegend": true,
         "type": "scatter",
         "x": [
          1952
         ],
         "xaxis": "x",
         "y": [
          53.27984000000001
         ],
         "yaxis": "y"
        },
        {
         "hovertemplate": "continent=Asia<br>year=%{x}<br>life_exp=%{marker.size}<extra></extra>",
         "legendgroup": "Asia",
         "marker": {
          "color": "#00cc96",
          "size": [
           45.718281250000004
          ],
          "sizemode": "area",
          "sizeref": 0.20179875,
          "symbol": "circle"
         },
         "mode": "markers",
         "name": "Asia",
         "orientation": "v",
         "showlegend": true,
         "type": "scatter",
         "x": [
          1952
         ],
         "xaxis": "x",
         "y": [
          45.718281250000004
         ],
         "yaxis": "y"
        },
        {
         "hovertemplate": "continent=Europe<br>year=%{x}<br>life_exp=%{marker.size}<extra></extra>",
         "legendgroup": "Europe",
         "marker": {
          "color": "#ab63fa",
          "size": [
           64.4085
          ],
          "sizemode": "area",
          "sizeref": 0.20179875,
          "symbol": "circle"
         },
         "mode": "markers",
         "name": "Europe",
         "orientation": "v",
         "showlegend": true,
         "type": "scatter",
         "x": [
          1952
         ],
         "xaxis": "x",
         "y": [
          64.4085
         ],
         "yaxis": "y"
        },
        {
         "hovertemplate": "continent=Oceania<br>year=%{x}<br>life_exp=%{marker.size}<extra></extra>",
         "legendgroup": "Oceania",
         "marker": {
          "color": "#FFA15A",
          "size": [
           69.255
          ],
          "sizemode": "area",
          "sizeref": 0.20179875,
          "symbol": "circle"
         },
         "mode": "markers",
         "name": "Oceania",
         "orientation": "v",
         "showlegend": true,
         "type": "scatter",
         "x": [
          1952
         ],
         "xaxis": "x",
         "y": [
          69.255
         ],
         "yaxis": "y"
        }
       ],
       "frames": [
        {
         "data": [
          {
           "hovertemplate": "continent=Africa<br>year=%{x}<br>life_exp=%{marker.size}<extra></extra>",
           "legendgroup": "Africa",
           "marker": {
            "color": "#636efa",
            "size": [
             39.1355
            ],
            "sizemode": "area",
            "sizeref": 0.20179875,
            "symbol": "circle"
           },
           "mode": "markers",
           "name": "Africa",
           "orientation": "v",
           "showlegend": true,
           "type": "scatter",
           "x": [
            1952
           ],
           "xaxis": "x",
           "y": [
            39.1355
           ],
           "yaxis": "y"
          },
          {
           "hovertemplate": "continent=Americas<br>year=%{x}<br>life_exp=%{marker.size}<extra></extra>",
           "legendgroup": "Americas",
           "marker": {
            "color": "#EF553B",
            "size": [
             53.27984000000001
            ],
            "sizemode": "area",
            "sizeref": 0.20179875,
            "symbol": "circle"
           },
           "mode": "markers",
           "name": "Americas",
           "orientation": "v",
           "showlegend": true,
           "type": "scatter",
           "x": [
            1952
           ],
           "xaxis": "x",
           "y": [
            53.27984000000001
           ],
           "yaxis": "y"
          },
          {
           "hovertemplate": "continent=Asia<br>year=%{x}<br>life_exp=%{marker.size}<extra></extra>",
           "legendgroup": "Asia",
           "marker": {
            "color": "#00cc96",
            "size": [
             45.718281250000004
            ],
            "sizemode": "area",
            "sizeref": 0.20179875,
            "symbol": "circle"
           },
           "mode": "markers",
           "name": "Asia",
           "orientation": "v",
           "showlegend": true,
           "type": "scatter",
           "x": [
            1952
           ],
           "xaxis": "x",
           "y": [
            45.718281250000004
           ],
           "yaxis": "y"
          },
          {
           "hovertemplate": "continent=Europe<br>year=%{x}<br>life_exp=%{marker.size}<extra></extra>",
           "legendgroup": "Europe",
           "marker": {
            "color": "#ab63fa",
            "size": [
             64.4085
            ],
            "sizemode": "area",
            "sizeref": 0.20179875,
            "symbol": "circle"
           },
           "mode": "markers",
           "name": "Europe",
           "orientation": "v",
           "showlegend": true,
           "type": "scatter",
           "x": [
            1952
           ],
           "xaxis": "x",
           "y": [
            64.4085
           ],
           "yaxis": "y"
          },
          {
           "hovertemplate": "continent=Oceania<br>year=%{x}<br>life_exp=%{marker.size}<extra></extra>",
           "legendgroup": "Oceania",
           "marker": {
            "color": "#FFA15A",
            "size": [
             69.255
            ],
            "sizemode": "area",
            "sizeref": 0.20179875,
            "symbol": "circle"
           },
           "mode": "markers",
           "name": "Oceania",
           "orientation": "v",
           "showlegend": true,
           "type": "scatter",
           "x": [
            1952
           ],
           "xaxis": "x",
           "y": [
            69.255
           ],
           "yaxis": "y"
          }
         ],
         "name": "1952"
        },
        {
         "data": [
          {
           "hovertemplate": "continent=Africa<br>year=%{x}<br>life_exp=%{marker.size}<extra></extra>",
           "legendgroup": "Africa",
           "marker": {
            "color": "#636efa",
            "size": [
             41.26634615384615
            ],
            "sizemode": "area",
            "sizeref": 0.20179875,
            "symbol": "circle"
           },
           "mode": "markers",
           "name": "Africa",
           "orientation": "v",
           "showlegend": true,
           "type": "scatter",
           "x": [
            1957
           ],
           "xaxis": "x",
           "y": [
            41.26634615384615
           ],
           "yaxis": "y"
          },
          {
           "hovertemplate": "continent=Americas<br>year=%{x}<br>life_exp=%{marker.size}<extra></extra>",
           "legendgroup": "Americas",
           "marker": {
            "color": "#EF553B",
            "size": [
             55.960280000000004
            ],
            "sizemode": "area",
            "sizeref": 0.20179875,
            "symbol": "circle"
           },
           "mode": "markers",
           "name": "Americas",
           "orientation": "v",
           "showlegend": true,
           "type": "scatter",
           "x": [
            1957
           ],
           "xaxis": "x",
           "y": [
            55.960280000000004
           ],
           "yaxis": "y"
          },
          {
           "hovertemplate": "continent=Asia<br>year=%{x}<br>life_exp=%{marker.size}<extra></extra>",
           "legendgroup": "Asia",
           "marker": {
            "color": "#00cc96",
            "size": [
             48.73974875
            ],
            "sizemode": "area",
            "sizeref": 0.20179875,
            "symbol": "circle"
           },
           "mode": "markers",
           "name": "Asia",
           "orientation": "v",
           "showlegend": true,
           "type": "scatter",
           "x": [
            1957
           ],
           "xaxis": "x",
           "y": [
            48.73974875
           ],
           "yaxis": "y"
          },
          {
           "hovertemplate": "continent=Europe<br>year=%{x}<br>life_exp=%{marker.size}<extra></extra>",
           "legendgroup": "Europe",
           "marker": {
            "color": "#ab63fa",
            "size": [
             66.70306666666667
            ],
            "sizemode": "area",
            "sizeref": 0.20179875,
            "symbol": "circle"
           },
           "mode": "markers",
           "name": "Europe",
           "orientation": "v",
           "showlegend": true,
           "type": "scatter",
           "x": [
            1957
           ],
           "xaxis": "x",
           "y": [
            66.70306666666667
           ],
           "yaxis": "y"
          },
          {
           "hovertemplate": "continent=Oceania<br>year=%{x}<br>life_exp=%{marker.size}<extra></extra>",
           "legendgroup": "Oceania",
           "marker": {
            "color": "#FFA15A",
            "size": [
             70.295
            ],
            "sizemode": "area",
            "sizeref": 0.20179875,
            "symbol": "circle"
           },
           "mode": "markers",
           "name": "Oceania",
           "orientation": "v",
           "showlegend": true,
           "type": "scatter",
           "x": [
            1957
           ],
           "xaxis": "x",
           "y": [
            70.295
           ],
           "yaxis": "y"
          }
         ],
         "name": "1957"
        },
        {
         "data": [
          {
           "hovertemplate": "continent=Africa<br>year=%{x}<br>life_exp=%{marker.size}<extra></extra>",
           "legendgroup": "Africa",
           "marker": {
            "color": "#636efa",
            "size": [
             43.319442307692306
            ],
            "sizemode": "area",
            "sizeref": 0.20179875,
            "symbol": "circle"
           },
           "mode": "markers",
           "name": "Africa",
           "orientation": "v",
           "showlegend": true,
           "type": "scatter",
           "x": [
            1962
           ],
           "xaxis": "x",
           "y": [
            43.319442307692306
           ],
           "yaxis": "y"
          },
          {
           "hovertemplate": "continent=Americas<br>year=%{x}<br>life_exp=%{marker.size}<extra></extra>",
           "legendgroup": "Americas",
           "marker": {
            "color": "#EF553B",
            "size": [
             58.39876
            ],
            "sizemode": "area",
            "sizeref": 0.20179875,
            "symbol": "circle"
           },
           "mode": "markers",
           "name": "Americas",
           "orientation": "v",
           "showlegend": true,
           "type": "scatter",
           "x": [
            1962
           ],
           "xaxis": "x",
           "y": [
            58.39876
           ],
           "yaxis": "y"
          },
          {
           "hovertemplate": "continent=Asia<br>year=%{x}<br>life_exp=%{marker.size}<extra></extra>",
           "legendgroup": "Asia",
           "marker": {
            "color": "#00cc96",
            "size": [
             51.00613625
            ],
            "sizemode": "area",
            "sizeref": 0.20179875,
            "symbol": "circle"
           },
           "mode": "markers",
           "name": "Asia",
           "orientation": "v",
           "showlegend": true,
           "type": "scatter",
           "x": [
            1962
           ],
           "xaxis": "x",
           "y": [
            51.00613625
           ],
           "yaxis": "y"
          },
          {
           "hovertemplate": "continent=Europe<br>year=%{x}<br>life_exp=%{marker.size}<extra></extra>",
           "legendgroup": "Europe",
           "marker": {
            "color": "#ab63fa",
            "size": [
             68.53923333333334
            ],
            "sizemode": "area",
            "sizeref": 0.20179875,
            "symbol": "circle"
           },
           "mode": "markers",
           "name": "Europe",
           "orientation": "v",
           "showlegend": true,
           "type": "scatter",
           "x": [
            1962
           ],
           "xaxis": "x",
           "y": [
            68.53923333333334
           ],
           "yaxis": "y"
          },
          {
           "hovertemplate": "continent=Oceania<br>year=%{x}<br>life_exp=%{marker.size}<extra></extra>",
           "legendgroup": "Oceania",
           "marker": {
            "color": "#FFA15A",
            "size": [
             71.08500000000001
            ],
            "sizemode": "area",
            "sizeref": 0.20179875,
            "symbol": "circle"
           },
           "mode": "markers",
           "name": "Oceania",
           "orientation": "v",
           "showlegend": true,
           "type": "scatter",
           "x": [
            1962
           ],
           "xaxis": "x",
           "y": [
            71.08500000000001
           ],
           "yaxis": "y"
          }
         ],
         "name": "1962"
        },
        {
         "data": [
          {
           "hovertemplate": "continent=Africa<br>year=%{x}<br>life_exp=%{marker.size}<extra></extra>",
           "legendgroup": "Africa",
           "marker": {
            "color": "#636efa",
            "size": [
             45.334538461538465
            ],
            "sizemode": "area",
            "sizeref": 0.20179875,
            "symbol": "circle"
           },
           "mode": "markers",
           "name": "Africa",
           "orientation": "v",
           "showlegend": true,
           "type": "scatter",
           "x": [
            1967
           ],
           "xaxis": "x",
           "y": [
            45.334538461538465
           ],
           "yaxis": "y"
          },
          {
           "hovertemplate": "continent=Americas<br>year=%{x}<br>life_exp=%{marker.size}<extra></extra>",
           "legendgroup": "Americas",
           "marker": {
            "color": "#EF553B",
            "size": [
             60.41092
            ],
            "sizemode": "area",
            "sizeref": 0.20179875,
            "symbol": "circle"
           },
           "mode": "markers",
           "name": "Americas",
           "orientation": "v",
           "showlegend": true,
           "type": "scatter",
           "x": [
            1967
           ],
           "xaxis": "x",
           "y": [
            60.41092
           ],
           "yaxis": "y"
          },
          {
           "hovertemplate": "continent=Asia<br>year=%{x}<br>life_exp=%{marker.size}<extra></extra>",
           "legendgroup": "Asia",
           "marker": {
            "color": "#00cc96",
            "size": [
             54.16094125
            ],
            "sizemode": "area",
            "sizeref": 0.20179875,
            "symbol": "circle"
           },
           "mode": "markers",
           "name": "Asia",
           "orientation": "v",
           "showlegend": true,
           "type": "scatter",
           "x": [
            1967
           ],
           "xaxis": "x",
           "y": [
            54.16094125
           ],
           "yaxis": "y"
          },
          {
           "hovertemplate": "continent=Europe<br>year=%{x}<br>life_exp=%{marker.size}<extra></extra>",
           "legendgroup": "Europe",
           "marker": {
            "color": "#ab63fa",
            "size": [
             69.7376
            ],
            "sizemode": "area",
            "sizeref": 0.20179875,
            "symbol": "circle"
           },
           "mode": "markers",
           "name": "Europe",
           "orientation": "v",
           "showlegend": true,
           "type": "scatter",
           "x": [
            1967
           ],
           "xaxis": "x",
           "y": [
            69.7376
           ],
           "yaxis": "y"
          },
          {
           "hovertemplate": "continent=Oceania<br>year=%{x}<br>life_exp=%{marker.size}<extra></extra>",
           "legendgroup": "Oceania",
           "marker": {
            "color": "#FFA15A",
            "size": [
             71.31
            ],
            "sizemode": "area",
            "sizeref": 0.20179875,
            "symbol": "circle"
           },
           "mode": "markers",
           "name": "Oceania",
           "orientation": "v",
           "showlegend": true,
           "type": "scatter",
           "x": [
            1967
           ],
           "xaxis": "x",
           "y": [
            71.31
           ],
           "yaxis": "y"
          }
         ],
         "name": "1967"
        },
        {
         "data": [
          {
           "hovertemplate": "continent=Africa<br>year=%{x}<br>life_exp=%{marker.size}<extra></extra>",
           "legendgroup": "Africa",
           "marker": {
            "color": "#636efa",
            "size": [
             47.45094230769231
            ],
            "sizemode": "area",
            "sizeref": 0.20179875,
            "symbol": "circle"
           },
           "mode": "markers",
           "name": "Africa",
           "orientation": "v",
           "showlegend": true,
           "type": "scatter",
           "x": [
            1972
           ],
           "xaxis": "x",
           "y": [
            47.45094230769231
           ],
           "yaxis": "y"
          },
          {
           "hovertemplate": "continent=Americas<br>year=%{x}<br>life_exp=%{marker.size}<extra></extra>",
           "legendgroup": "Americas",
           "marker": {
            "color": "#EF553B",
            "size": [
             62.39492
            ],
            "sizemode": "area",
            "sizeref": 0.20179875,
            "symbol": "circle"
           },
           "mode": "markers",
           "name": "Americas",
           "orientation": "v",
           "showlegend": true,
           "type": "scatter",
           "x": [
            1972
           ],
           "xaxis": "x",
           "y": [
            62.39492
           ],
           "yaxis": "y"
          },
          {
           "hovertemplate": "continent=Asia<br>year=%{x}<br>life_exp=%{marker.size}<extra></extra>",
           "legendgroup": "Asia",
           "marker": {
            "color": "#00cc96",
            "size": [
             56.87205875
            ],
            "sizemode": "area",
            "sizeref": 0.20179875,
            "symbol": "circle"
           },
           "mode": "markers",
           "name": "Asia",
           "orientation": "v",
           "showlegend": true,
           "type": "scatter",
           "x": [
            1972
           ],
           "xaxis": "x",
           "y": [
            56.87205875
           ],
           "yaxis": "y"
          },
          {
           "hovertemplate": "continent=Europe<br>year=%{x}<br>life_exp=%{marker.size}<extra></extra>",
           "legendgroup": "Europe",
           "marker": {
            "color": "#ab63fa",
            "size": [
             70.77503333333334
            ],
            "sizemode": "area",
            "sizeref": 0.20179875,
            "symbol": "circle"
           },
           "mode": "markers",
           "name": "Europe",
           "orientation": "v",
           "showlegend": true,
           "type": "scatter",
           "x": [
            1972
           ],
           "xaxis": "x",
           "y": [
            70.77503333333334
           ],
           "yaxis": "y"
          },
          {
           "hovertemplate": "continent=Oceania<br>year=%{x}<br>life_exp=%{marker.size}<extra></extra>",
           "legendgroup": "Oceania",
           "marker": {
            "color": "#FFA15A",
            "size": [
             71.91
            ],
            "sizemode": "area",
            "sizeref": 0.20179875,
            "symbol": "circle"
           },
           "mode": "markers",
           "name": "Oceania",
           "orientation": "v",
           "showlegend": true,
           "type": "scatter",
           "x": [
            1972
           ],
           "xaxis": "x",
           "y": [
            71.91
           ],
           "yaxis": "y"
          }
         ],
         "name": "1972"
        },
        {
         "data": [
          {
           "hovertemplate": "continent=Africa<br>year=%{x}<br>life_exp=%{marker.size}<extra></extra>",
           "legendgroup": "Africa",
           "marker": {
            "color": "#636efa",
            "size": [
             49.580423076923076
            ],
            "sizemode": "area",
            "sizeref": 0.20179875,
            "symbol": "circle"
           },
           "mode": "markers",
           "name": "Africa",
           "orientation": "v",
           "showlegend": true,
           "type": "scatter",
           "x": [
            1977
           ],
           "xaxis": "x",
           "y": [
            49.580423076923076
           ],
           "yaxis": "y"
          },
          {
           "hovertemplate": "continent=Americas<br>year=%{x}<br>life_exp=%{marker.size}<extra></extra>",
           "legendgroup": "Americas",
           "marker": {
            "color": "#EF553B",
            "size": [
             64.39156
            ],
            "sizemode": "area",
            "sizeref": 0.20179875,
            "symbol": "circle"
           },
           "mode": "markers",
           "name": "Americas",
           "orientation": "v",
           "showlegend": true,
           "type": "scatter",
           "x": [
            1977
           ],
           "xaxis": "x",
           "y": [
            64.39156
           ],
           "yaxis": "y"
          },
          {
           "hovertemplate": "continent=Asia<br>year=%{x}<br>life_exp=%{marker.size}<extra></extra>",
           "legendgroup": "Asia",
           "marker": {
            "color": "#00cc96",
            "size": [
             59.19026125
            ],
            "sizemode": "area",
            "sizeref": 0.20179875,
            "symbol": "circle"
           },
           "mode": "markers",
           "name": "Asia",
           "orientation": "v",
           "showlegend": true,
           "type": "scatter",
           "x": [
            1977
           ],
           "xaxis": "x",
           "y": [
            59.19026125
           ],
           "yaxis": "y"
          },
          {
           "hovertemplate": "continent=Europe<br>year=%{x}<br>life_exp=%{marker.size}<extra></extra>",
           "legendgroup": "Europe",
           "marker": {
            "color": "#ab63fa",
            "size": [
             71.93776666666666
            ],
            "sizemode": "area",
            "sizeref": 0.20179875,
            "symbol": "circle"
           },
           "mode": "markers",
           "name": "Europe",
           "orientation": "v",
           "showlegend": true,
           "type": "scatter",
           "x": [
            1977
           ],
           "xaxis": "x",
           "y": [
            71.93776666666666
           ],
           "yaxis": "y"
          },
          {
           "hovertemplate": "continent=Oceania<br>year=%{x}<br>life_exp=%{marker.size}<extra></extra>",
           "legendgroup": "Oceania",
           "marker": {
            "color": "#FFA15A",
            "size": [
             72.85499999999999
            ],
            "sizemode": "area",
            "sizeref": 0.20179875,
            "symbol": "circle"
           },
           "mode": "markers",
           "name": "Oceania",
           "orientation": "v",
           "showlegend": true,
           "type": "scatter",
           "x": [
            1977
           ],
           "xaxis": "x",
           "y": [
            72.85499999999999
           ],
           "yaxis": "y"
          }
         ],
         "name": "1977"
        },
        {
         "data": [
          {
           "hovertemplate": "continent=Africa<br>year=%{x}<br>life_exp=%{marker.size}<extra></extra>",
           "legendgroup": "Africa",
           "marker": {
            "color": "#636efa",
            "size": [
             51.592865384615386
            ],
            "sizemode": "area",
            "sizeref": 0.20179875,
            "symbol": "circle"
           },
           "mode": "markers",
           "name": "Africa",
           "orientation": "v",
           "showlegend": true,
           "type": "scatter",
           "x": [
            1982
           ],
           "xaxis": "x",
           "y": [
            51.592865384615386
           ],
           "yaxis": "y"
          },
          {
           "hovertemplate": "continent=Americas<br>year=%{x}<br>life_exp=%{marker.size}<extra></extra>",
           "legendgroup": "Americas",
           "marker": {
            "color": "#EF553B",
            "size": [
             66.22884
            ],
            "sizemode": "area",
            "sizeref": 0.20179875,
            "symbol": "circle"
           },
           "mode": "markers",
           "name": "Americas",
           "orientation": "v",
           "showlegend": true,
           "type": "scatter",
           "x": [
            1982
           ],
           "xaxis": "x",
           "y": [
            66.22884
           ],
           "yaxis": "y"
          },
          {
           "hovertemplate": "continent=Asia<br>year=%{x}<br>life_exp=%{marker.size}<extra></extra>",
           "legendgroup": "Asia",
           "marker": {
            "color": "#00cc96",
            "size": [
             62.2481875
            ],
            "sizemode": "area",
            "sizeref": 0.20179875,
            "symbol": "circle"
           },
           "mode": "markers",
           "name": "Asia",
           "orientation": "v",
           "showlegend": true,
           "type": "scatter",
           "x": [
            1982
           ],
           "xaxis": "x",
           "y": [
            62.2481875
           ],
           "yaxis": "y"
          },
          {
           "hovertemplate": "continent=Europe<br>year=%{x}<br>life_exp=%{marker.size}<extra></extra>",
           "legendgroup": "Europe",
           "marker": {
            "color": "#ab63fa",
            "size": [
             72.8064
            ],
            "sizemode": "area",
            "sizeref": 0.20179875,
            "symbol": "circle"
           },
           "mode": "markers",
           "name": "Europe",
           "orientation": "v",
           "showlegend": true,
           "type": "scatter",
           "x": [
            1982
           ],
           "xaxis": "x",
           "y": [
            72.8064
           ],
           "yaxis": "y"
          },
          {
           "hovertemplate": "continent=Oceania<br>year=%{x}<br>life_exp=%{marker.size}<extra></extra>",
           "legendgroup": "Oceania",
           "marker": {
            "color": "#FFA15A",
            "size": [
             74.28999999999999
            ],
            "sizemode": "area",
            "sizeref": 0.20179875,
            "symbol": "circle"
           },
           "mode": "markers",
           "name": "Oceania",
           "orientation": "v",
           "showlegend": true,
           "type": "scatter",
           "x": [
            1982
           ],
           "xaxis": "x",
           "y": [
            74.28999999999999
           ],
           "yaxis": "y"
          }
         ],
         "name": "1982"
        },
        {
         "data": [
          {
           "hovertemplate": "continent=Africa<br>year=%{x}<br>life_exp=%{marker.size}<extra></extra>",
           "legendgroup": "Africa",
           "marker": {
            "color": "#636efa",
            "size": [
             53.344788461538464
            ],
            "sizemode": "area",
            "sizeref": 0.20179875,
            "symbol": "circle"
           },
           "mode": "markers",
           "name": "Africa",
           "orientation": "v",
           "showlegend": true,
           "type": "scatter",
           "x": [
            1987
           ],
           "xaxis": "x",
           "y": [
            53.344788461538464
           ],
           "yaxis": "y"
          },
          {
           "hovertemplate": "continent=Americas<br>year=%{x}<br>life_exp=%{marker.size}<extra></extra>",
           "legendgroup": "Americas",
           "marker": {
            "color": "#EF553B",
            "size": [
             68.09072
            ],
            "sizemode": "area",
            "sizeref": 0.20179875,
            "symbol": "circle"
           },
           "mode": "markers",
           "name": "Americas",
           "orientation": "v",
           "showlegend": true,
           "type": "scatter",
           "x": [
            1987
           ],
           "xaxis": "x",
           "y": [
            68.09072
           ],
           "yaxis": "y"
          },
          {
           "hovertemplate": "continent=Asia<br>year=%{x}<br>life_exp=%{marker.size}<extra></extra>",
           "legendgroup": "Asia",
           "marker": {
            "color": "#00cc96",
            "size": [
             64.51528125
            ],
            "sizemode": "area",
            "sizeref": 0.20179875,
            "symbol": "circle"
           },
           "mode": "markers",
           "name": "Asia",
           "orientation": "v",
           "showlegend": true,
           "type": "scatter",
           "x": [
            1987
           ],
           "xaxis": "x",
           "y": [
            64.51528125
           ],
           "yaxis": "y"
          },
          {
           "hovertemplate": "continent=Europe<br>year=%{x}<br>life_exp=%{marker.size}<extra></extra>",
           "legendgroup": "Europe",
           "marker": {
            "color": "#ab63fa",
            "size": [
             73.64216666666667
            ],
            "sizemode": "area",
            "sizeref": 0.20179875,
            "symbol": "circle"
           },
           "mode": "markers",
           "name": "Europe",
           "orientation": "v",
           "showlegend": true,
           "type": "scatter",
           "x": [
            1987
           ],
           "xaxis": "x",
           "y": [
            73.64216666666667
           ],
           "yaxis": "y"
          },
          {
           "hovertemplate": "continent=Oceania<br>year=%{x}<br>life_exp=%{marker.size}<extra></extra>",
           "legendgroup": "Oceania",
           "marker": {
            "color": "#FFA15A",
            "size": [
             75.32
            ],
            "sizemode": "area",
            "sizeref": 0.20179875,
            "symbol": "circle"
           },
           "mode": "markers",
           "name": "Oceania",
           "orientation": "v",
           "showlegend": true,
           "type": "scatter",
           "x": [
            1987
           ],
           "xaxis": "x",
           "y": [
            75.32
           ],
           "yaxis": "y"
          }
         ],
         "name": "1987"
        },
        {
         "data": [
          {
           "hovertemplate": "continent=Africa<br>year=%{x}<br>life_exp=%{marker.size}<extra></extra>",
           "legendgroup": "Africa",
           "marker": {
            "color": "#636efa",
            "size": [
             53.62957692307692
            ],
            "sizemode": "area",
            "sizeref": 0.20179875,
            "symbol": "circle"
           },
           "mode": "markers",
           "name": "Africa",
           "orientation": "v",
           "showlegend": true,
           "type": "scatter",
           "x": [
            1992
           ],
           "xaxis": "x",
           "y": [
            53.62957692307692
           ],
           "yaxis": "y"
          },
          {
           "hovertemplate": "continent=Americas<br>year=%{x}<br>life_exp=%{marker.size}<extra></extra>",
           "legendgroup": "Americas",
           "marker": {
            "color": "#EF553B",
            "size": [
             69.56836
            ],
            "sizemode": "area",
            "sizeref": 0.20179875,
            "symbol": "circle"
           },
           "mode": "markers",
           "name": "Americas",
           "orientation": "v",
           "showlegend": true,
           "type": "scatter",
           "x": [
            1992
           ],
           "xaxis": "x",
           "y": [
            69.56836
           ],
           "yaxis": "y"
          },
          {
           "hovertemplate": "continent=Asia<br>year=%{x}<br>life_exp=%{marker.size}<extra></extra>",
           "legendgroup": "Asia",
           "marker": {
            "color": "#00cc96",
            "size": [
             66.21243750000001
            ],
            "sizemode": "area",
            "sizeref": 0.20179875,
            "symbol": "circle"
           },
           "mode": "markers",
           "name": "Asia",
           "orientation": "v",
           "showlegend": true,
           "type": "scatter",
           "x": [
            1992
           ],
           "xaxis": "x",
           "y": [
            66.21243750000001
           ],
           "yaxis": "y"
          },
          {
           "hovertemplate": "continent=Europe<br>year=%{x}<br>life_exp=%{marker.size}<extra></extra>",
           "legendgroup": "Europe",
           "marker": {
            "color": "#ab63fa",
            "size": [
             74.4401
            ],
            "sizemode": "area",
            "sizeref": 0.20179875,
            "symbol": "circle"
           },
           "mode": "markers",
           "name": "Europe",
           "orientation": "v",
           "showlegend": true,
           "type": "scatter",
           "x": [
            1992
           ],
           "xaxis": "x",
           "y": [
            74.4401
           ],
           "yaxis": "y"
          },
          {
           "hovertemplate": "continent=Oceania<br>year=%{x}<br>life_exp=%{marker.size}<extra></extra>",
           "legendgroup": "Oceania",
           "marker": {
            "color": "#FFA15A",
            "size": [
             76.945
            ],
            "sizemode": "area",
            "sizeref": 0.20179875,
            "symbol": "circle"
           },
           "mode": "markers",
           "name": "Oceania",
           "orientation": "v",
           "showlegend": true,
           "type": "scatter",
           "x": [
            1992
           ],
           "xaxis": "x",
           "y": [
            76.945
           ],
           "yaxis": "y"
          }
         ],
         "name": "1992"
        },
        {
         "data": [
          {
           "hovertemplate": "continent=Africa<br>year=%{x}<br>life_exp=%{marker.size}<extra></extra>",
           "legendgroup": "Africa",
           "marker": {
            "color": "#636efa",
            "size": [
             53.59826923076923
            ],
            "sizemode": "area",
            "sizeref": 0.20179875,
            "symbol": "circle"
           },
           "mode": "markers",
           "name": "Africa",
           "orientation": "v",
           "showlegend": true,
           "type": "scatter",
           "x": [
            1997
           ],
           "xaxis": "x",
           "y": [
            53.59826923076923
           ],
           "yaxis": "y"
          },
          {
           "hovertemplate": "continent=Americas<br>year=%{x}<br>life_exp=%{marker.size}<extra></extra>",
           "legendgroup": "Americas",
           "marker": {
            "color": "#EF553B",
            "size": [
             71.15048
            ],
            "sizemode": "area",
            "sizeref": 0.20179875,
            "symbol": "circle"
           },
           "mode": "markers",
           "name": "Americas",
           "orientation": "v",
           "showlegend": true,
           "type": "scatter",
           "x": [
            1997
           ],
           "xaxis": "x",
           "y": [
            71.15048
           ],
           "yaxis": "y"
          },
          {
           "hovertemplate": "continent=Asia<br>year=%{x}<br>life_exp=%{marker.size}<extra></extra>",
           "legendgroup": "Asia",
           "marker": {
            "color": "#00cc96",
            "size": [
             67.70025
            ],
            "sizemode": "area",
            "sizeref": 0.20179875,
            "symbol": "circle"
           },
           "mode": "markers",
           "name": "Asia",
           "orientation": "v",
           "showlegend": true,
           "type": "scatter",
           "x": [
            1997
           ],
           "xaxis": "x",
           "y": [
            67.70025
           ],
           "yaxis": "y"
          },
          {
           "hovertemplate": "continent=Europe<br>year=%{x}<br>life_exp=%{marker.size}<extra></extra>",
           "legendgroup": "Europe",
           "marker": {
            "color": "#ab63fa",
            "size": [
             75.50516666666667
            ],
            "sizemode": "area",
            "sizeref": 0.20179875,
            "symbol": "circle"
           },
           "mode": "markers",
           "name": "Europe",
           "orientation": "v",
           "showlegend": true,
           "type": "scatter",
           "x": [
            1997
           ],
           "xaxis": "x",
           "y": [
            75.50516666666667
           ],
           "yaxis": "y"
          },
          {
           "hovertemplate": "continent=Oceania<br>year=%{x}<br>life_exp=%{marker.size}<extra></extra>",
           "legendgroup": "Oceania",
           "marker": {
            "color": "#FFA15A",
            "size": [
             78.19
            ],
            "sizemode": "area",
            "sizeref": 0.20179875,
            "symbol": "circle"
           },
           "mode": "markers",
           "name": "Oceania",
           "orientation": "v",
           "showlegend": true,
           "type": "scatter",
           "x": [
            1997
           ],
           "xaxis": "x",
           "y": [
            78.19
           ],
           "yaxis": "y"
          }
         ],
         "name": "1997"
        },
        {
         "data": [
          {
           "hovertemplate": "continent=Africa<br>year=%{x}<br>life_exp=%{marker.size}<extra></extra>",
           "legendgroup": "Africa",
           "marker": {
            "color": "#636efa",
            "size": [
             53.325230769230764
            ],
            "sizemode": "area",
            "sizeref": 0.20179875,
            "symbol": "circle"
           },
           "mode": "markers",
           "name": "Africa",
           "orientation": "v",
           "showlegend": true,
           "type": "scatter",
           "x": [
            2002
           ],
           "xaxis": "x",
           "y": [
            53.325230769230764
           ],
           "yaxis": "y"
          },
          {
           "hovertemplate": "continent=Americas<br>year=%{x}<br>life_exp=%{marker.size}<extra></extra>",
           "legendgroup": "Americas",
           "marker": {
            "color": "#EF553B",
            "size": [
             72.42204
            ],
            "sizemode": "area",
            "sizeref": 0.20179875,
            "symbol": "circle"
           },
           "mode": "markers",
           "name": "Americas",
           "orientation": "v",
           "showlegend": true,
           "type": "scatter",
           "x": [
            2002
           ],
           "xaxis": "x",
           "y": [
            72.42204
           ],
           "yaxis": "y"
          },
          {
           "hovertemplate": "continent=Asia<br>year=%{x}<br>life_exp=%{marker.size}<extra></extra>",
           "legendgroup": "Asia",
           "marker": {
            "color": "#00cc96",
            "size": [
             68.9069375
            ],
            "sizemode": "area",
            "sizeref": 0.20179875,
            "symbol": "circle"
           },
           "mode": "markers",
           "name": "Asia",
           "orientation": "v",
           "showlegend": true,
           "type": "scatter",
           "x": [
            2002
           ],
           "xaxis": "x",
           "y": [
            68.9069375
           ],
           "yaxis": "y"
          },
          {
           "hovertemplate": "continent=Europe<br>year=%{x}<br>life_exp=%{marker.size}<extra></extra>",
           "legendgroup": "Europe",
           "marker": {
            "color": "#ab63fa",
            "size": [
             76.7006
            ],
            "sizemode": "area",
            "sizeref": 0.20179875,
            "symbol": "circle"
           },
           "mode": "markers",
           "name": "Europe",
           "orientation": "v",
           "showlegend": true,
           "type": "scatter",
           "x": [
            2002
           ],
           "xaxis": "x",
           "y": [
            76.7006
           ],
           "yaxis": "y"
          },
          {
           "hovertemplate": "continent=Oceania<br>year=%{x}<br>life_exp=%{marker.size}<extra></extra>",
           "legendgroup": "Oceania",
           "marker": {
            "color": "#FFA15A",
            "size": [
             79.74000000000001
            ],
            "sizemode": "area",
            "sizeref": 0.20179875,
            "symbol": "circle"
           },
           "mode": "markers",
           "name": "Oceania",
           "orientation": "v",
           "showlegend": true,
           "type": "scatter",
           "x": [
            2002
           ],
           "xaxis": "x",
           "y": [
            79.74000000000001
           ],
           "yaxis": "y"
          }
         ],
         "name": "2002"
        },
        {
         "data": [
          {
           "hovertemplate": "continent=Africa<br>year=%{x}<br>life_exp=%{marker.size}<extra></extra>",
           "legendgroup": "Africa",
           "marker": {
            "color": "#636efa",
            "size": [
             54.80603846153846
            ],
            "sizemode": "area",
            "sizeref": 0.20179875,
            "symbol": "circle"
           },
           "mode": "markers",
           "name": "Africa",
           "orientation": "v",
           "showlegend": true,
           "type": "scatter",
           "x": [
            2007
           ],
           "xaxis": "x",
           "y": [
            54.80603846153846
           ],
           "yaxis": "y"
          },
          {
           "hovertemplate": "continent=Americas<br>year=%{x}<br>life_exp=%{marker.size}<extra></extra>",
           "legendgroup": "Americas",
           "marker": {
            "color": "#EF553B",
            "size": [
             73.60812
            ],
            "sizemode": "area",
            "sizeref": 0.20179875,
            "symbol": "circle"
           },
           "mode": "markers",
           "name": "Americas",
           "orientation": "v",
           "showlegend": true,
           "type": "scatter",
           "x": [
            2007
           ],
           "xaxis": "x",
           "y": [
            73.60812
           ],
           "yaxis": "y"
          },
          {
           "hovertemplate": "continent=Asia<br>year=%{x}<br>life_exp=%{marker.size}<extra></extra>",
           "legendgroup": "Asia",
           "marker": {
            "color": "#00cc96",
            "size": [
             70.41546875
            ],
            "sizemode": "area",
            "sizeref": 0.20179875,
            "symbol": "circle"
           },
           "mode": "markers",
           "name": "Asia",
           "orientation": "v",
           "showlegend": true,
           "type": "scatter",
           "x": [
            2007
           ],
           "xaxis": "x",
           "y": [
            70.41546875
           ],
           "yaxis": "y"
          },
          {
           "hovertemplate": "continent=Europe<br>year=%{x}<br>life_exp=%{marker.size}<extra></extra>",
           "legendgroup": "Europe",
           "marker": {
            "color": "#ab63fa",
            "size": [
             77.6486
            ],
            "sizemode": "area",
            "sizeref": 0.20179875,
            "symbol": "circle"
           },
           "mode": "markers",
           "name": "Europe",
           "orientation": "v",
           "showlegend": true,
           "type": "scatter",
           "x": [
            2007
           ],
           "xaxis": "x",
           "y": [
            77.6486
           ],
           "yaxis": "y"
          },
          {
           "hovertemplate": "continent=Oceania<br>year=%{x}<br>life_exp=%{marker.size}<extra></extra>",
           "legendgroup": "Oceania",
           "marker": {
            "color": "#FFA15A",
            "size": [
             80.7195
            ],
            "sizemode": "area",
            "sizeref": 0.20179875,
            "symbol": "circle"
           },
           "mode": "markers",
           "name": "Oceania",
           "orientation": "v",
           "showlegend": true,
           "type": "scatter",
           "x": [
            2007
           ],
           "xaxis": "x",
           "y": [
            80.7195
           ],
           "yaxis": "y"
          }
         ],
         "name": "2007"
        }
       ],
       "layout": {
        "legend": {
         "itemsizing": "constant",
         "title": {
          "text": "continent"
         },
         "tracegroupgap": 0
        },
        "sliders": [
         {
          "active": 0,
          "currentvalue": {
           "prefix": "year="
          },
          "len": 0.9,
          "pad": {
           "b": 10,
           "t": 60
          },
          "steps": [
           {
            "args": [
             [
              "1952"
             ],
             {
              "frame": {
               "duration": 0,
               "redraw": false
              },
              "fromcurrent": true,
              "mode": "immediate",
              "transition": {
               "duration": 0,
               "easing": "linear"
              }
             }
            ],
            "label": "1952",
            "method": "animate"
           },
           {
            "args": [
             [
              "1957"
             ],
             {
              "frame": {
               "duration": 0,
               "redraw": false
              },
              "fromcurrent": true,
              "mode": "immediate",
              "transition": {
               "duration": 0,
               "easing": "linear"
              }
             }
            ],
            "label": "1957",
            "method": "animate"
           },
           {
            "args": [
             [
              "1962"
             ],
             {
              "frame": {
               "duration": 0,
               "redraw": false
              },
              "fromcurrent": true,
              "mode": "immediate",
              "transition": {
               "duration": 0,
               "easing": "linear"
              }
             }
            ],
            "label": "1962",
            "method": "animate"
           },
           {
            "args": [
             [
              "1967"
             ],
             {
              "frame": {
               "duration": 0,
               "redraw": false
              },
              "fromcurrent": true,
              "mode": "immediate",
              "transition": {
               "duration": 0,
               "easing": "linear"
              }
             }
            ],
            "label": "1967",
            "method": "animate"
           },
           {
            "args": [
             [
              "1972"
             ],
             {
              "frame": {
               "duration": 0,
               "redraw": false
              },
              "fromcurrent": true,
              "mode": "immediate",
              "transition": {
               "duration": 0,
               "easing": "linear"
              }
             }
            ],
            "label": "1972",
            "method": "animate"
           },
           {
            "args": [
             [
              "1977"
             ],
             {
              "frame": {
               "duration": 0,
               "redraw": false
              },
              "fromcurrent": true,
              "mode": "immediate",
              "transition": {
               "duration": 0,
               "easing": "linear"
              }
             }
            ],
            "label": "1977",
            "method": "animate"
           },
           {
            "args": [
             [
              "1982"
             ],
             {
              "frame": {
               "duration": 0,
               "redraw": false
              },
              "fromcurrent": true,
              "mode": "immediate",
              "transition": {
               "duration": 0,
               "easing": "linear"
              }
             }
            ],
            "label": "1982",
            "method": "animate"
           },
           {
            "args": [
             [
              "1987"
             ],
             {
              "frame": {
               "duration": 0,
               "redraw": false
              },
              "fromcurrent": true,
              "mode": "immediate",
              "transition": {
               "duration": 0,
               "easing": "linear"
              }
             }
            ],
            "label": "1987",
            "method": "animate"
           },
           {
            "args": [
             [
              "1992"
             ],
             {
              "frame": {
               "duration": 0,
               "redraw": false
              },
              "fromcurrent": true,
              "mode": "immediate",
              "transition": {
               "duration": 0,
               "easing": "linear"
              }
             }
            ],
            "label": "1992",
            "method": "animate"
           },
           {
            "args": [
             [
              "1997"
             ],
             {
              "frame": {
               "duration": 0,
               "redraw": false
              },
              "fromcurrent": true,
              "mode": "immediate",
              "transition": {
               "duration": 0,
               "easing": "linear"
              }
             }
            ],
            "label": "1997",
            "method": "animate"
           },
           {
            "args": [
             [
              "2002"
             ],
             {
              "frame": {
               "duration": 0,
               "redraw": false
              },
              "fromcurrent": true,
              "mode": "immediate",
              "transition": {
               "duration": 0,
               "easing": "linear"
              }
             }
            ],
            "label": "2002",
            "method": "animate"
           },
           {
            "args": [
             [
              "2007"
             ],
             {
              "frame": {
               "duration": 0,
               "redraw": false
              },
              "fromcurrent": true,
              "mode": "immediate",
              "transition": {
               "duration": 0,
               "easing": "linear"
              }
             }
            ],
            "label": "2007",
            "method": "animate"
           }
          ],
          "x": 0.1,
          "xanchor": "left",
          "y": 0,
          "yanchor": "top"
         }
        ],
        "template": {
         "data": {
          "bar": [
           {
            "error_x": {
             "color": "#2a3f5f"
            },
            "error_y": {
             "color": "#2a3f5f"
            },
            "marker": {
             "line": {
              "color": "#E5ECF6",
              "width": 0.5
             },
             "pattern": {
              "fillmode": "overlay",
              "size": 10,
              "solidity": 0.2
             }
            },
            "type": "bar"
           }
          ],
          "barpolar": [
           {
            "marker": {
             "line": {
              "color": "#E5ECF6",
              "width": 0.5
             },
             "pattern": {
              "fillmode": "overlay",
              "size": 10,
              "solidity": 0.2
             }
            },
            "type": "barpolar"
           }
          ],
          "carpet": [
           {
            "aaxis": {
             "endlinecolor": "#2a3f5f",
             "gridcolor": "white",
             "linecolor": "white",
             "minorgridcolor": "white",
             "startlinecolor": "#2a3f5f"
            },
            "baxis": {
             "endlinecolor": "#2a3f5f",
             "gridcolor": "white",
             "linecolor": "white",
             "minorgridcolor": "white",
             "startlinecolor": "#2a3f5f"
            },
            "type": "carpet"
           }
          ],
          "choropleth": [
           {
            "colorbar": {
             "outlinewidth": 0,
             "ticks": ""
            },
            "type": "choropleth"
           }
          ],
          "contour": [
           {
            "colorbar": {
             "outlinewidth": 0,
             "ticks": ""
            },
            "colorscale": [
             [
              0,
              "#0d0887"
             ],
             [
              0.1111111111111111,
              "#46039f"
             ],
             [
              0.2222222222222222,
              "#7201a8"
             ],
             [
              0.3333333333333333,
              "#9c179e"
             ],
             [
              0.4444444444444444,
              "#bd3786"
             ],
             [
              0.5555555555555556,
              "#d8576b"
             ],
             [
              0.6666666666666666,
              "#ed7953"
             ],
             [
              0.7777777777777778,
              "#fb9f3a"
             ],
             [
              0.8888888888888888,
              "#fdca26"
             ],
             [
              1,
              "#f0f921"
             ]
            ],
            "type": "contour"
           }
          ],
          "contourcarpet": [
           {
            "colorbar": {
             "outlinewidth": 0,
             "ticks": ""
            },
            "type": "contourcarpet"
           }
          ],
          "heatmap": [
           {
            "colorbar": {
             "outlinewidth": 0,
             "ticks": ""
            },
            "colorscale": [
             [
              0,
              "#0d0887"
             ],
             [
              0.1111111111111111,
              "#46039f"
             ],
             [
              0.2222222222222222,
              "#7201a8"
             ],
             [
              0.3333333333333333,
              "#9c179e"
             ],
             [
              0.4444444444444444,
              "#bd3786"
             ],
             [
              0.5555555555555556,
              "#d8576b"
             ],
             [
              0.6666666666666666,
              "#ed7953"
             ],
             [
              0.7777777777777778,
              "#fb9f3a"
             ],
             [
              0.8888888888888888,
              "#fdca26"
             ],
             [
              1,
              "#f0f921"
             ]
            ],
            "type": "heatmap"
           }
          ],
          "heatmapgl": [
           {
            "colorbar": {
             "outlinewidth": 0,
             "ticks": ""
            },
            "colorscale": [
             [
              0,
              "#0d0887"
             ],
             [
              0.1111111111111111,
              "#46039f"
             ],
             [
              0.2222222222222222,
              "#7201a8"
             ],
             [
              0.3333333333333333,
              "#9c179e"
             ],
             [
              0.4444444444444444,
              "#bd3786"
             ],
             [
              0.5555555555555556,
              "#d8576b"
             ],
             [
              0.6666666666666666,
              "#ed7953"
             ],
             [
              0.7777777777777778,
              "#fb9f3a"
             ],
             [
              0.8888888888888888,
              "#fdca26"
             ],
             [
              1,
              "#f0f921"
             ]
            ],
            "type": "heatmapgl"
           }
          ],
          "histogram": [
           {
            "marker": {
             "pattern": {
              "fillmode": "overlay",
              "size": 10,
              "solidity": 0.2
             }
            },
            "type": "histogram"
           }
          ],
          "histogram2d": [
           {
            "colorbar": {
             "outlinewidth": 0,
             "ticks": ""
            },
            "colorscale": [
             [
              0,
              "#0d0887"
             ],
             [
              0.1111111111111111,
              "#46039f"
             ],
             [
              0.2222222222222222,
              "#7201a8"
             ],
             [
              0.3333333333333333,
              "#9c179e"
             ],
             [
              0.4444444444444444,
              "#bd3786"
             ],
             [
              0.5555555555555556,
              "#d8576b"
             ],
             [
              0.6666666666666666,
              "#ed7953"
             ],
             [
              0.7777777777777778,
              "#fb9f3a"
             ],
             [
              0.8888888888888888,
              "#fdca26"
             ],
             [
              1,
              "#f0f921"
             ]
            ],
            "type": "histogram2d"
           }
          ],
          "histogram2dcontour": [
           {
            "colorbar": {
             "outlinewidth": 0,
             "ticks": ""
            },
            "colorscale": [
             [
              0,
              "#0d0887"
             ],
             [
              0.1111111111111111,
              "#46039f"
             ],
             [
              0.2222222222222222,
              "#7201a8"
             ],
             [
              0.3333333333333333,
              "#9c179e"
             ],
             [
              0.4444444444444444,
              "#bd3786"
             ],
             [
              0.5555555555555556,
              "#d8576b"
             ],
             [
              0.6666666666666666,
              "#ed7953"
             ],
             [
              0.7777777777777778,
              "#fb9f3a"
             ],
             [
              0.8888888888888888,
              "#fdca26"
             ],
             [
              1,
              "#f0f921"
             ]
            ],
            "type": "histogram2dcontour"
           }
          ],
          "mesh3d": [
           {
            "colorbar": {
             "outlinewidth": 0,
             "ticks": ""
            },
            "type": "mesh3d"
           }
          ],
          "parcoords": [
           {
            "line": {
             "colorbar": {
              "outlinewidth": 0,
              "ticks": ""
             }
            },
            "type": "parcoords"
           }
          ],
          "pie": [
           {
            "automargin": true,
            "type": "pie"
           }
          ],
          "scatter": [
           {
            "fillpattern": {
             "fillmode": "overlay",
             "size": 10,
             "solidity": 0.2
            },
            "type": "scatter"
           }
          ],
          "scatter3d": [
           {
            "line": {
             "colorbar": {
              "outlinewidth": 0,
              "ticks": ""
             }
            },
            "marker": {
             "colorbar": {
              "outlinewidth": 0,
              "ticks": ""
             }
            },
            "type": "scatter3d"
           }
          ],
          "scattercarpet": [
           {
            "marker": {
             "colorbar": {
              "outlinewidth": 0,
              "ticks": ""
             }
            },
            "type": "scattercarpet"
           }
          ],
          "scattergeo": [
           {
            "marker": {
             "colorbar": {
              "outlinewidth": 0,
              "ticks": ""
             }
            },
            "type": "scattergeo"
           }
          ],
          "scattergl": [
           {
            "marker": {
             "colorbar": {
              "outlinewidth": 0,
              "ticks": ""
             }
            },
            "type": "scattergl"
           }
          ],
          "scattermapbox": [
           {
            "marker": {
             "colorbar": {
              "outlinewidth": 0,
              "ticks": ""
             }
            },
            "type": "scattermapbox"
           }
          ],
          "scatterpolar": [
           {
            "marker": {
             "colorbar": {
              "outlinewidth": 0,
              "ticks": ""
             }
            },
            "type": "scatterpolar"
           }
          ],
          "scatterpolargl": [
           {
            "marker": {
             "colorbar": {
              "outlinewidth": 0,
              "ticks": ""
             }
            },
            "type": "scatterpolargl"
           }
          ],
          "scatterternary": [
           {
            "marker": {
             "colorbar": {
              "outlinewidth": 0,
              "ticks": ""
             }
            },
            "type": "scatterternary"
           }
          ],
          "surface": [
           {
            "colorbar": {
             "outlinewidth": 0,
             "ticks": ""
            },
            "colorscale": [
             [
              0,
              "#0d0887"
             ],
             [
              0.1111111111111111,
              "#46039f"
             ],
             [
              0.2222222222222222,
              "#7201a8"
             ],
             [
              0.3333333333333333,
              "#9c179e"
             ],
             [
              0.4444444444444444,
              "#bd3786"
             ],
             [
              0.5555555555555556,
              "#d8576b"
             ],
             [
              0.6666666666666666,
              "#ed7953"
             ],
             [
              0.7777777777777778,
              "#fb9f3a"
             ],
             [
              0.8888888888888888,
              "#fdca26"
             ],
             [
              1,
              "#f0f921"
             ]
            ],
            "type": "surface"
           }
          ],
          "table": [
           {
            "cells": {
             "fill": {
              "color": "#EBF0F8"
             },
             "line": {
              "color": "white"
             }
            },
            "header": {
             "fill": {
              "color": "#C8D4E3"
             },
             "line": {
              "color": "white"
             }
            },
            "type": "table"
           }
          ]
         },
         "layout": {
          "annotationdefaults": {
           "arrowcolor": "#2a3f5f",
           "arrowhead": 0,
           "arrowwidth": 1
          },
          "autotypenumbers": "strict",
          "coloraxis": {
           "colorbar": {
            "outlinewidth": 0,
            "ticks": ""
           }
          },
          "colorscale": {
           "diverging": [
            [
             0,
             "#8e0152"
            ],
            [
             0.1,
             "#c51b7d"
            ],
            [
             0.2,
             "#de77ae"
            ],
            [
             0.3,
             "#f1b6da"
            ],
            [
             0.4,
             "#fde0ef"
            ],
            [
             0.5,
             "#f7f7f7"
            ],
            [
             0.6,
             "#e6f5d0"
            ],
            [
             0.7,
             "#b8e186"
            ],
            [
             0.8,
             "#7fbc41"
            ],
            [
             0.9,
             "#4d9221"
            ],
            [
             1,
             "#276419"
            ]
           ],
           "sequential": [
            [
             0,
             "#0d0887"
            ],
            [
             0.1111111111111111,
             "#46039f"
            ],
            [
             0.2222222222222222,
             "#7201a8"
            ],
            [
             0.3333333333333333,
             "#9c179e"
            ],
            [
             0.4444444444444444,
             "#bd3786"
            ],
            [
             0.5555555555555556,
             "#d8576b"
            ],
            [
             0.6666666666666666,
             "#ed7953"
            ],
            [
             0.7777777777777778,
             "#fb9f3a"
            ],
            [
             0.8888888888888888,
             "#fdca26"
            ],
            [
             1,
             "#f0f921"
            ]
           ],
           "sequentialminus": [
            [
             0,
             "#0d0887"
            ],
            [
             0.1111111111111111,
             "#46039f"
            ],
            [
             0.2222222222222222,
             "#7201a8"
            ],
            [
             0.3333333333333333,
             "#9c179e"
            ],
            [
             0.4444444444444444,
             "#bd3786"
            ],
            [
             0.5555555555555556,
             "#d8576b"
            ],
            [
             0.6666666666666666,
             "#ed7953"
            ],
            [
             0.7777777777777778,
             "#fb9f3a"
            ],
            [
             0.8888888888888888,
             "#fdca26"
            ],
            [
             1,
             "#f0f921"
            ]
           ]
          },
          "colorway": [
           "#636efa",
           "#EF553B",
           "#00cc96",
           "#ab63fa",
           "#FFA15A",
           "#19d3f3",
           "#FF6692",
           "#B6E880",
           "#FF97FF",
           "#FECB52"
          ],
          "font": {
           "color": "#2a3f5f"
          },
          "geo": {
           "bgcolor": "white",
           "lakecolor": "white",
           "landcolor": "#E5ECF6",
           "showlakes": true,
           "showland": true,
           "subunitcolor": "white"
          },
          "hoverlabel": {
           "align": "left"
          },
          "hovermode": "closest",
          "mapbox": {
           "style": "light"
          },
          "paper_bgcolor": "white",
          "plot_bgcolor": "#E5ECF6",
          "polar": {
           "angularaxis": {
            "gridcolor": "white",
            "linecolor": "white",
            "ticks": ""
           },
           "bgcolor": "#E5ECF6",
           "radialaxis": {
            "gridcolor": "white",
            "linecolor": "white",
            "ticks": ""
           }
          },
          "scene": {
           "xaxis": {
            "backgroundcolor": "#E5ECF6",
            "gridcolor": "white",
            "gridwidth": 2,
            "linecolor": "white",
            "showbackground": true,
            "ticks": "",
            "zerolinecolor": "white"
           },
           "yaxis": {
            "backgroundcolor": "#E5ECF6",
            "gridcolor": "white",
            "gridwidth": 2,
            "linecolor": "white",
            "showbackground": true,
            "ticks": "",
            "zerolinecolor": "white"
           },
           "zaxis": {
            "backgroundcolor": "#E5ECF6",
            "gridcolor": "white",
            "gridwidth": 2,
            "linecolor": "white",
            "showbackground": true,
            "ticks": "",
            "zerolinecolor": "white"
           }
          },
          "shapedefaults": {
           "line": {
            "color": "#2a3f5f"
           }
          },
          "ternary": {
           "aaxis": {
            "gridcolor": "white",
            "linecolor": "white",
            "ticks": ""
           },
           "baxis": {
            "gridcolor": "white",
            "linecolor": "white",
            "ticks": ""
           },
           "bgcolor": "#E5ECF6",
           "caxis": {
            "gridcolor": "white",
            "linecolor": "white",
            "ticks": ""
           }
          },
          "title": {
           "x": 0.05
          },
          "xaxis": {
           "automargin": true,
           "gridcolor": "white",
           "linecolor": "white",
           "ticks": "",
           "title": {
            "standoff": 15
           },
           "zerolinecolor": "white",
           "zerolinewidth": 2
          },
          "yaxis": {
           "automargin": true,
           "gridcolor": "white",
           "linecolor": "white",
           "ticks": "",
           "title": {
            "standoff": 15
           },
           "zerolinecolor": "white",
           "zerolinewidth": 2
          }
         }
        },
        "title": {
         "text": "Average Life Expectancy by Continent Over Time"
        },
        "updatemenus": [
         {
          "buttons": [
           {
            "args": [
             null,
             {
              "frame": {
               "duration": 500,
               "redraw": false
              },
              "fromcurrent": true,
              "mode": "immediate",
              "transition": {
               "duration": 500,
               "easing": "linear"
              }
             }
            ],
            "label": "&#9654;",
            "method": "animate"
           },
           {
            "args": [
             [
              null
             ],
             {
              "frame": {
               "duration": 0,
               "redraw": false
              },
              "fromcurrent": true,
              "mode": "immediate",
              "transition": {
               "duration": 0,
               "easing": "linear"
              }
             }
            ],
            "label": "&#9724;",
            "method": "animate"
           }
          ],
          "direction": "left",
          "pad": {
           "r": 10,
           "t": 70
          },
          "showactive": false,
          "type": "buttons",
          "x": 0.1,
          "xanchor": "right",
          "y": 0,
          "yanchor": "top"
         }
        ],
        "xaxis": {
         "anchor": "y",
         "categoryarray": [
          1952,
          1957,
          1962,
          1967,
          1972,
          1977,
          1982,
          1987,
          1992,
          1997,
          2002,
          2007
         ],
         "categoryorder": "array",
         "domain": [
          0,
          1
         ],
         "range": [
          1950,
          2010
         ],
         "title": {
          "text": "year"
         }
        },
        "yaxis": {
         "anchor": "x",
         "domain": [
          0,
          1
         ],
         "range": [
          30,
          80
         ],
         "title": {
          "text": "life_exp"
         }
        }
       }
      }
     },
     "metadata": {},
     "output_type": "display_data"
    }
   ],
   "source": [
    "fig = px.scatter(df_exp_per_year_allcontinents,\n",
    "                x='year',\n",
    "                y='life_exp',\n",
    "                color='continent',\n",
    "                size='life_exp',\n",
    "                animation_frame='year',\n",
    "                title='Average Life Expectancy by Continent Over Time')\n",
    "fig.update_layout(xaxis=dict(range=[1950, 2010]), yaxis=dict(range=[30, 80]))\n",
    "fig.show()"
   ]
  },
  {
   "cell_type": "code",
   "execution_count": 74,
   "metadata": {},
   "outputs": [
    {
     "data": {
      "text/html": [
       "<div>\n",
       "<style scoped>\n",
       "    .dataframe tbody tr th:only-of-type {\n",
       "        vertical-align: middle;\n",
       "    }\n",
       "\n",
       "    .dataframe tbody tr th {\n",
       "        vertical-align: top;\n",
       "    }\n",
       "\n",
       "    .dataframe thead th {\n",
       "        text-align: right;\n",
       "    }\n",
       "</style>\n",
       "<table border=\"1\" class=\"dataframe\">\n",
       "  <thead>\n",
       "    <tr style=\"text-align: right;\">\n",
       "      <th></th>\n",
       "      <th>year</th>\n",
       "      <th>life_exp</th>\n",
       "    </tr>\n",
       "  </thead>\n",
       "  <tbody>\n",
       "    <tr>\n",
       "      <th>0</th>\n",
       "      <td>1952</td>\n",
       "      <td>39.14</td>\n",
       "    </tr>\n",
       "    <tr>\n",
       "      <th>1</th>\n",
       "      <td>1957</td>\n",
       "      <td>41.27</td>\n",
       "    </tr>\n",
       "    <tr>\n",
       "      <th>2</th>\n",
       "      <td>1962</td>\n",
       "      <td>43.32</td>\n",
       "    </tr>\n",
       "    <tr>\n",
       "      <th>3</th>\n",
       "      <td>1967</td>\n",
       "      <td>45.33</td>\n",
       "    </tr>\n",
       "    <tr>\n",
       "      <th>4</th>\n",
       "      <td>1972</td>\n",
       "      <td>47.45</td>\n",
       "    </tr>\n",
       "    <tr>\n",
       "      <th>5</th>\n",
       "      <td>1977</td>\n",
       "      <td>49.58</td>\n",
       "    </tr>\n",
       "    <tr>\n",
       "      <th>6</th>\n",
       "      <td>1982</td>\n",
       "      <td>51.59</td>\n",
       "    </tr>\n",
       "    <tr>\n",
       "      <th>7</th>\n",
       "      <td>1987</td>\n",
       "      <td>53.34</td>\n",
       "    </tr>\n",
       "    <tr>\n",
       "      <th>8</th>\n",
       "      <td>1992</td>\n",
       "      <td>53.63</td>\n",
       "    </tr>\n",
       "    <tr>\n",
       "      <th>9</th>\n",
       "      <td>1997</td>\n",
       "      <td>53.60</td>\n",
       "    </tr>\n",
       "    <tr>\n",
       "      <th>10</th>\n",
       "      <td>2002</td>\n",
       "      <td>53.33</td>\n",
       "    </tr>\n",
       "    <tr>\n",
       "      <th>11</th>\n",
       "      <td>2007</td>\n",
       "      <td>54.81</td>\n",
       "    </tr>\n",
       "  </tbody>\n",
       "</table>\n",
       "</div>"
      ],
      "text/plain": [
       "    year  life_exp\n",
       "0   1952     39.14\n",
       "1   1957     41.27\n",
       "2   1962     43.32\n",
       "3   1967     45.33\n",
       "4   1972     47.45\n",
       "5   1977     49.58\n",
       "6   1982     51.59\n",
       "7   1987     53.34\n",
       "8   1992     53.63\n",
       "9   1997     53.60\n",
       "10  2002     53.33\n",
       "11  2007     54.81"
      ]
     },
     "execution_count": 74,
     "metadata": {},
     "output_type": "execute_result"
    }
   ],
   "source": [
    "df_exp_per_year_africa =  df[df['continent'] == 'Africa'].groupby('year', as_index=False)['life_exp'].mean()\n",
    "df_exp_per_year_africa"
   ]
  },
  {
   "cell_type": "code",
   "execution_count": 75,
   "metadata": {},
   "outputs": [
    {
     "data": {
      "application/vnd.plotly.v1+json": {
       "config": {
        "plotlyServerURL": "https://plot.ly"
       },
       "data": [
        {
         "hovertemplate": "year=%{x}<br>life_exp=%{y}<extra></extra>",
         "legendgroup": "",
         "line": {
          "color": "#636efa",
          "dash": "solid"
         },
         "marker": {
          "symbol": "circle"
         },
         "mode": "lines",
         "name": "",
         "orientation": "v",
         "showlegend": false,
         "type": "scatter",
         "x": [
          1952,
          1957,
          1962,
          1967,
          1972,
          1977,
          1982,
          1987,
          1992,
          1997,
          2002,
          2007
         ],
         "xaxis": "x",
         "y": [
          39.1355,
          41.26634615384615,
          43.319442307692306,
          45.334538461538465,
          47.45094230769231,
          49.580423076923076,
          51.592865384615386,
          53.344788461538464,
          53.62957692307692,
          53.59826923076923,
          53.325230769230764,
          54.80603846153846
         ],
         "yaxis": "y"
        }
       ],
       "layout": {
        "legend": {
         "tracegroupgap": 0
        },
        "margin": {
         "t": 60
        },
        "template": {
         "data": {
          "bar": [
           {
            "error_x": {
             "color": "#2a3f5f"
            },
            "error_y": {
             "color": "#2a3f5f"
            },
            "marker": {
             "line": {
              "color": "#E5ECF6",
              "width": 0.5
             },
             "pattern": {
              "fillmode": "overlay",
              "size": 10,
              "solidity": 0.2
             }
            },
            "type": "bar"
           }
          ],
          "barpolar": [
           {
            "marker": {
             "line": {
              "color": "#E5ECF6",
              "width": 0.5
             },
             "pattern": {
              "fillmode": "overlay",
              "size": 10,
              "solidity": 0.2
             }
            },
            "type": "barpolar"
           }
          ],
          "carpet": [
           {
            "aaxis": {
             "endlinecolor": "#2a3f5f",
             "gridcolor": "white",
             "linecolor": "white",
             "minorgridcolor": "white",
             "startlinecolor": "#2a3f5f"
            },
            "baxis": {
             "endlinecolor": "#2a3f5f",
             "gridcolor": "white",
             "linecolor": "white",
             "minorgridcolor": "white",
             "startlinecolor": "#2a3f5f"
            },
            "type": "carpet"
           }
          ],
          "choropleth": [
           {
            "colorbar": {
             "outlinewidth": 0,
             "ticks": ""
            },
            "type": "choropleth"
           }
          ],
          "contour": [
           {
            "colorbar": {
             "outlinewidth": 0,
             "ticks": ""
            },
            "colorscale": [
             [
              0,
              "#0d0887"
             ],
             [
              0.1111111111111111,
              "#46039f"
             ],
             [
              0.2222222222222222,
              "#7201a8"
             ],
             [
              0.3333333333333333,
              "#9c179e"
             ],
             [
              0.4444444444444444,
              "#bd3786"
             ],
             [
              0.5555555555555556,
              "#d8576b"
             ],
             [
              0.6666666666666666,
              "#ed7953"
             ],
             [
              0.7777777777777778,
              "#fb9f3a"
             ],
             [
              0.8888888888888888,
              "#fdca26"
             ],
             [
              1,
              "#f0f921"
             ]
            ],
            "type": "contour"
           }
          ],
          "contourcarpet": [
           {
            "colorbar": {
             "outlinewidth": 0,
             "ticks": ""
            },
            "type": "contourcarpet"
           }
          ],
          "heatmap": [
           {
            "colorbar": {
             "outlinewidth": 0,
             "ticks": ""
            },
            "colorscale": [
             [
              0,
              "#0d0887"
             ],
             [
              0.1111111111111111,
              "#46039f"
             ],
             [
              0.2222222222222222,
              "#7201a8"
             ],
             [
              0.3333333333333333,
              "#9c179e"
             ],
             [
              0.4444444444444444,
              "#bd3786"
             ],
             [
              0.5555555555555556,
              "#d8576b"
             ],
             [
              0.6666666666666666,
              "#ed7953"
             ],
             [
              0.7777777777777778,
              "#fb9f3a"
             ],
             [
              0.8888888888888888,
              "#fdca26"
             ],
             [
              1,
              "#f0f921"
             ]
            ],
            "type": "heatmap"
           }
          ],
          "heatmapgl": [
           {
            "colorbar": {
             "outlinewidth": 0,
             "ticks": ""
            },
            "colorscale": [
             [
              0,
              "#0d0887"
             ],
             [
              0.1111111111111111,
              "#46039f"
             ],
             [
              0.2222222222222222,
              "#7201a8"
             ],
             [
              0.3333333333333333,
              "#9c179e"
             ],
             [
              0.4444444444444444,
              "#bd3786"
             ],
             [
              0.5555555555555556,
              "#d8576b"
             ],
             [
              0.6666666666666666,
              "#ed7953"
             ],
             [
              0.7777777777777778,
              "#fb9f3a"
             ],
             [
              0.8888888888888888,
              "#fdca26"
             ],
             [
              1,
              "#f0f921"
             ]
            ],
            "type": "heatmapgl"
           }
          ],
          "histogram": [
           {
            "marker": {
             "pattern": {
              "fillmode": "overlay",
              "size": 10,
              "solidity": 0.2
             }
            },
            "type": "histogram"
           }
          ],
          "histogram2d": [
           {
            "colorbar": {
             "outlinewidth": 0,
             "ticks": ""
            },
            "colorscale": [
             [
              0,
              "#0d0887"
             ],
             [
              0.1111111111111111,
              "#46039f"
             ],
             [
              0.2222222222222222,
              "#7201a8"
             ],
             [
              0.3333333333333333,
              "#9c179e"
             ],
             [
              0.4444444444444444,
              "#bd3786"
             ],
             [
              0.5555555555555556,
              "#d8576b"
             ],
             [
              0.6666666666666666,
              "#ed7953"
             ],
             [
              0.7777777777777778,
              "#fb9f3a"
             ],
             [
              0.8888888888888888,
              "#fdca26"
             ],
             [
              1,
              "#f0f921"
             ]
            ],
            "type": "histogram2d"
           }
          ],
          "histogram2dcontour": [
           {
            "colorbar": {
             "outlinewidth": 0,
             "ticks": ""
            },
            "colorscale": [
             [
              0,
              "#0d0887"
             ],
             [
              0.1111111111111111,
              "#46039f"
             ],
             [
              0.2222222222222222,
              "#7201a8"
             ],
             [
              0.3333333333333333,
              "#9c179e"
             ],
             [
              0.4444444444444444,
              "#bd3786"
             ],
             [
              0.5555555555555556,
              "#d8576b"
             ],
             [
              0.6666666666666666,
              "#ed7953"
             ],
             [
              0.7777777777777778,
              "#fb9f3a"
             ],
             [
              0.8888888888888888,
              "#fdca26"
             ],
             [
              1,
              "#f0f921"
             ]
            ],
            "type": "histogram2dcontour"
           }
          ],
          "mesh3d": [
           {
            "colorbar": {
             "outlinewidth": 0,
             "ticks": ""
            },
            "type": "mesh3d"
           }
          ],
          "parcoords": [
           {
            "line": {
             "colorbar": {
              "outlinewidth": 0,
              "ticks": ""
             }
            },
            "type": "parcoords"
           }
          ],
          "pie": [
           {
            "automargin": true,
            "type": "pie"
           }
          ],
          "scatter": [
           {
            "fillpattern": {
             "fillmode": "overlay",
             "size": 10,
             "solidity": 0.2
            },
            "type": "scatter"
           }
          ],
          "scatter3d": [
           {
            "line": {
             "colorbar": {
              "outlinewidth": 0,
              "ticks": ""
             }
            },
            "marker": {
             "colorbar": {
              "outlinewidth": 0,
              "ticks": ""
             }
            },
            "type": "scatter3d"
           }
          ],
          "scattercarpet": [
           {
            "marker": {
             "colorbar": {
              "outlinewidth": 0,
              "ticks": ""
             }
            },
            "type": "scattercarpet"
           }
          ],
          "scattergeo": [
           {
            "marker": {
             "colorbar": {
              "outlinewidth": 0,
              "ticks": ""
             }
            },
            "type": "scattergeo"
           }
          ],
          "scattergl": [
           {
            "marker": {
             "colorbar": {
              "outlinewidth": 0,
              "ticks": ""
             }
            },
            "type": "scattergl"
           }
          ],
          "scattermapbox": [
           {
            "marker": {
             "colorbar": {
              "outlinewidth": 0,
              "ticks": ""
             }
            },
            "type": "scattermapbox"
           }
          ],
          "scatterpolar": [
           {
            "marker": {
             "colorbar": {
              "outlinewidth": 0,
              "ticks": ""
             }
            },
            "type": "scatterpolar"
           }
          ],
          "scatterpolargl": [
           {
            "marker": {
             "colorbar": {
              "outlinewidth": 0,
              "ticks": ""
             }
            },
            "type": "scatterpolargl"
           }
          ],
          "scatterternary": [
           {
            "marker": {
             "colorbar": {
              "outlinewidth": 0,
              "ticks": ""
             }
            },
            "type": "scatterternary"
           }
          ],
          "surface": [
           {
            "colorbar": {
             "outlinewidth": 0,
             "ticks": ""
            },
            "colorscale": [
             [
              0,
              "#0d0887"
             ],
             [
              0.1111111111111111,
              "#46039f"
             ],
             [
              0.2222222222222222,
              "#7201a8"
             ],
             [
              0.3333333333333333,
              "#9c179e"
             ],
             [
              0.4444444444444444,
              "#bd3786"
             ],
             [
              0.5555555555555556,
              "#d8576b"
             ],
             [
              0.6666666666666666,
              "#ed7953"
             ],
             [
              0.7777777777777778,
              "#fb9f3a"
             ],
             [
              0.8888888888888888,
              "#fdca26"
             ],
             [
              1,
              "#f0f921"
             ]
            ],
            "type": "surface"
           }
          ],
          "table": [
           {
            "cells": {
             "fill": {
              "color": "#EBF0F8"
             },
             "line": {
              "color": "white"
             }
            },
            "header": {
             "fill": {
              "color": "#C8D4E3"
             },
             "line": {
              "color": "white"
             }
            },
            "type": "table"
           }
          ]
         },
         "layout": {
          "annotationdefaults": {
           "arrowcolor": "#2a3f5f",
           "arrowhead": 0,
           "arrowwidth": 1
          },
          "autotypenumbers": "strict",
          "coloraxis": {
           "colorbar": {
            "outlinewidth": 0,
            "ticks": ""
           }
          },
          "colorscale": {
           "diverging": [
            [
             0,
             "#8e0152"
            ],
            [
             0.1,
             "#c51b7d"
            ],
            [
             0.2,
             "#de77ae"
            ],
            [
             0.3,
             "#f1b6da"
            ],
            [
             0.4,
             "#fde0ef"
            ],
            [
             0.5,
             "#f7f7f7"
            ],
            [
             0.6,
             "#e6f5d0"
            ],
            [
             0.7,
             "#b8e186"
            ],
            [
             0.8,
             "#7fbc41"
            ],
            [
             0.9,
             "#4d9221"
            ],
            [
             1,
             "#276419"
            ]
           ],
           "sequential": [
            [
             0,
             "#0d0887"
            ],
            [
             0.1111111111111111,
             "#46039f"
            ],
            [
             0.2222222222222222,
             "#7201a8"
            ],
            [
             0.3333333333333333,
             "#9c179e"
            ],
            [
             0.4444444444444444,
             "#bd3786"
            ],
            [
             0.5555555555555556,
             "#d8576b"
            ],
            [
             0.6666666666666666,
             "#ed7953"
            ],
            [
             0.7777777777777778,
             "#fb9f3a"
            ],
            [
             0.8888888888888888,
             "#fdca26"
            ],
            [
             1,
             "#f0f921"
            ]
           ],
           "sequentialminus": [
            [
             0,
             "#0d0887"
            ],
            [
             0.1111111111111111,
             "#46039f"
            ],
            [
             0.2222222222222222,
             "#7201a8"
            ],
            [
             0.3333333333333333,
             "#9c179e"
            ],
            [
             0.4444444444444444,
             "#bd3786"
            ],
            [
             0.5555555555555556,
             "#d8576b"
            ],
            [
             0.6666666666666666,
             "#ed7953"
            ],
            [
             0.7777777777777778,
             "#fb9f3a"
            ],
            [
             0.8888888888888888,
             "#fdca26"
            ],
            [
             1,
             "#f0f921"
            ]
           ]
          },
          "colorway": [
           "#636efa",
           "#EF553B",
           "#00cc96",
           "#ab63fa",
           "#FFA15A",
           "#19d3f3",
           "#FF6692",
           "#B6E880",
           "#FF97FF",
           "#FECB52"
          ],
          "font": {
           "color": "#2a3f5f"
          },
          "geo": {
           "bgcolor": "white",
           "lakecolor": "white",
           "landcolor": "#E5ECF6",
           "showlakes": true,
           "showland": true,
           "subunitcolor": "white"
          },
          "hoverlabel": {
           "align": "left"
          },
          "hovermode": "closest",
          "mapbox": {
           "style": "light"
          },
          "paper_bgcolor": "white",
          "plot_bgcolor": "#E5ECF6",
          "polar": {
           "angularaxis": {
            "gridcolor": "white",
            "linecolor": "white",
            "ticks": ""
           },
           "bgcolor": "#E5ECF6",
           "radialaxis": {
            "gridcolor": "white",
            "linecolor": "white",
            "ticks": ""
           }
          },
          "scene": {
           "xaxis": {
            "backgroundcolor": "#E5ECF6",
            "gridcolor": "white",
            "gridwidth": 2,
            "linecolor": "white",
            "showbackground": true,
            "ticks": "",
            "zerolinecolor": "white"
           },
           "yaxis": {
            "backgroundcolor": "#E5ECF6",
            "gridcolor": "white",
            "gridwidth": 2,
            "linecolor": "white",
            "showbackground": true,
            "ticks": "",
            "zerolinecolor": "white"
           },
           "zaxis": {
            "backgroundcolor": "#E5ECF6",
            "gridcolor": "white",
            "gridwidth": 2,
            "linecolor": "white",
            "showbackground": true,
            "ticks": "",
            "zerolinecolor": "white"
           }
          },
          "shapedefaults": {
           "line": {
            "color": "#2a3f5f"
           }
          },
          "ternary": {
           "aaxis": {
            "gridcolor": "white",
            "linecolor": "white",
            "ticks": ""
           },
           "baxis": {
            "gridcolor": "white",
            "linecolor": "white",
            "ticks": ""
           },
           "bgcolor": "#E5ECF6",
           "caxis": {
            "gridcolor": "white",
            "linecolor": "white",
            "ticks": ""
           }
          },
          "title": {
           "x": 0.05
          },
          "xaxis": {
           "automargin": true,
           "gridcolor": "white",
           "linecolor": "white",
           "ticks": "",
           "title": {
            "standoff": 15
           },
           "zerolinecolor": "white",
           "zerolinewidth": 2
          },
          "yaxis": {
           "automargin": true,
           "gridcolor": "white",
           "linecolor": "white",
           "ticks": "",
           "title": {
            "standoff": 15
           },
           "zerolinecolor": "white",
           "zerolinewidth": 2
          }
         }
        },
        "xaxis": {
         "anchor": "y",
         "domain": [
          0,
          1
         ],
         "title": {
          "text": "year"
         }
        },
        "yaxis": {
         "anchor": "x",
         "domain": [
          0,
          1
         ],
         "title": {
          "text": "life_exp"
         }
        }
       }
      }
     },
     "metadata": {},
     "output_type": "display_data"
    }
   ],
   "source": [
    "px.line(data_frame=df_exp_per_year_africa, x='year', y='life_exp')\n",
    "#plt.title('Average Life Expectancy for Africa by Year')\n",
    "#plt.xlabel('Year')\n",
    "#plt.ylabel('Life Expectancy')\n",
    "#plt.xlim(df_exp_per_year_africa['year'].min(), df_exp_per_year_africa['year'].max())\n",
    "#plt.ylim(df_exp_per_year_africa['life_exp'].min(), df_exp_per_year_africa['life_exp'].max())\n",
    "#plt.tight_layout()\n",
    "#plt.show()"
   ]
  },
  {
   "cell_type": "markdown",
   "metadata": {},
   "source": [
    "for Europe"
   ]
  },
  {
   "cell_type": "code",
   "execution_count": 76,
   "metadata": {},
   "outputs": [
    {
     "data": {
      "text/html": [
       "<div>\n",
       "<style scoped>\n",
       "    .dataframe tbody tr th:only-of-type {\n",
       "        vertical-align: middle;\n",
       "    }\n",
       "\n",
       "    .dataframe tbody tr th {\n",
       "        vertical-align: top;\n",
       "    }\n",
       "\n",
       "    .dataframe thead th {\n",
       "        text-align: right;\n",
       "    }\n",
       "</style>\n",
       "<table border=\"1\" class=\"dataframe\">\n",
       "  <thead>\n",
       "    <tr style=\"text-align: right;\">\n",
       "      <th></th>\n",
       "      <th>year</th>\n",
       "      <th>life_exp</th>\n",
       "    </tr>\n",
       "  </thead>\n",
       "  <tbody>\n",
       "    <tr>\n",
       "      <th>0</th>\n",
       "      <td>1952</td>\n",
       "      <td>64.41</td>\n",
       "    </tr>\n",
       "    <tr>\n",
       "      <th>1</th>\n",
       "      <td>1957</td>\n",
       "      <td>66.70</td>\n",
       "    </tr>\n",
       "    <tr>\n",
       "      <th>2</th>\n",
       "      <td>1962</td>\n",
       "      <td>68.54</td>\n",
       "    </tr>\n",
       "    <tr>\n",
       "      <th>3</th>\n",
       "      <td>1967</td>\n",
       "      <td>69.74</td>\n",
       "    </tr>\n",
       "    <tr>\n",
       "      <th>4</th>\n",
       "      <td>1972</td>\n",
       "      <td>70.78</td>\n",
       "    </tr>\n",
       "    <tr>\n",
       "      <th>5</th>\n",
       "      <td>1977</td>\n",
       "      <td>71.94</td>\n",
       "    </tr>\n",
       "    <tr>\n",
       "      <th>6</th>\n",
       "      <td>1982</td>\n",
       "      <td>72.81</td>\n",
       "    </tr>\n",
       "    <tr>\n",
       "      <th>7</th>\n",
       "      <td>1987</td>\n",
       "      <td>73.64</td>\n",
       "    </tr>\n",
       "    <tr>\n",
       "      <th>8</th>\n",
       "      <td>1992</td>\n",
       "      <td>74.44</td>\n",
       "    </tr>\n",
       "    <tr>\n",
       "      <th>9</th>\n",
       "      <td>1997</td>\n",
       "      <td>75.51</td>\n",
       "    </tr>\n",
       "    <tr>\n",
       "      <th>10</th>\n",
       "      <td>2002</td>\n",
       "      <td>76.70</td>\n",
       "    </tr>\n",
       "    <tr>\n",
       "      <th>11</th>\n",
       "      <td>2007</td>\n",
       "      <td>77.65</td>\n",
       "    </tr>\n",
       "  </tbody>\n",
       "</table>\n",
       "</div>"
      ],
      "text/plain": [
       "    year  life_exp\n",
       "0   1952     64.41\n",
       "1   1957     66.70\n",
       "2   1962     68.54\n",
       "3   1967     69.74\n",
       "4   1972     70.78\n",
       "5   1977     71.94\n",
       "6   1982     72.81\n",
       "7   1987     73.64\n",
       "8   1992     74.44\n",
       "9   1997     75.51\n",
       "10  2002     76.70\n",
       "11  2007     77.65"
      ]
     },
     "execution_count": 76,
     "metadata": {},
     "output_type": "execute_result"
    }
   ],
   "source": [
    "df_exp_per_year_europe =  df[df['continent'] == 'Europe'].groupby('year', as_index=False)['life_exp'].mean()\n",
    "df_exp_per_year_europe"
   ]
  },
  {
   "cell_type": "code",
   "execution_count": 77,
   "metadata": {},
   "outputs": [
    {
     "data": {
      "application/vnd.plotly.v1+json": {
       "config": {
        "plotlyServerURL": "https://plot.ly"
       },
       "data": [
        {
         "hovertemplate": "year=%{x}<br>life_exp=%{y}<extra></extra>",
         "legendgroup": "",
         "line": {
          "color": "#636efa",
          "dash": "solid"
         },
         "marker": {
          "symbol": "circle"
         },
         "mode": "lines",
         "name": "",
         "orientation": "v",
         "showlegend": false,
         "type": "scatter",
         "x": [
          1952,
          1957,
          1962,
          1967,
          1972,
          1977,
          1982,
          1987,
          1992,
          1997,
          2002,
          2007
         ],
         "xaxis": "x",
         "y": [
          64.4085,
          66.70306666666667,
          68.53923333333334,
          69.7376,
          70.77503333333334,
          71.93776666666666,
          72.8064,
          73.64216666666667,
          74.4401,
          75.50516666666667,
          76.7006,
          77.6486
         ],
         "yaxis": "y"
        }
       ],
       "layout": {
        "legend": {
         "tracegroupgap": 0
        },
        "margin": {
         "t": 60
        },
        "template": {
         "data": {
          "bar": [
           {
            "error_x": {
             "color": "#2a3f5f"
            },
            "error_y": {
             "color": "#2a3f5f"
            },
            "marker": {
             "line": {
              "color": "#E5ECF6",
              "width": 0.5
             },
             "pattern": {
              "fillmode": "overlay",
              "size": 10,
              "solidity": 0.2
             }
            },
            "type": "bar"
           }
          ],
          "barpolar": [
           {
            "marker": {
             "line": {
              "color": "#E5ECF6",
              "width": 0.5
             },
             "pattern": {
              "fillmode": "overlay",
              "size": 10,
              "solidity": 0.2
             }
            },
            "type": "barpolar"
           }
          ],
          "carpet": [
           {
            "aaxis": {
             "endlinecolor": "#2a3f5f",
             "gridcolor": "white",
             "linecolor": "white",
             "minorgridcolor": "white",
             "startlinecolor": "#2a3f5f"
            },
            "baxis": {
             "endlinecolor": "#2a3f5f",
             "gridcolor": "white",
             "linecolor": "white",
             "minorgridcolor": "white",
             "startlinecolor": "#2a3f5f"
            },
            "type": "carpet"
           }
          ],
          "choropleth": [
           {
            "colorbar": {
             "outlinewidth": 0,
             "ticks": ""
            },
            "type": "choropleth"
           }
          ],
          "contour": [
           {
            "colorbar": {
             "outlinewidth": 0,
             "ticks": ""
            },
            "colorscale": [
             [
              0,
              "#0d0887"
             ],
             [
              0.1111111111111111,
              "#46039f"
             ],
             [
              0.2222222222222222,
              "#7201a8"
             ],
             [
              0.3333333333333333,
              "#9c179e"
             ],
             [
              0.4444444444444444,
              "#bd3786"
             ],
             [
              0.5555555555555556,
              "#d8576b"
             ],
             [
              0.6666666666666666,
              "#ed7953"
             ],
             [
              0.7777777777777778,
              "#fb9f3a"
             ],
             [
              0.8888888888888888,
              "#fdca26"
             ],
             [
              1,
              "#f0f921"
             ]
            ],
            "type": "contour"
           }
          ],
          "contourcarpet": [
           {
            "colorbar": {
             "outlinewidth": 0,
             "ticks": ""
            },
            "type": "contourcarpet"
           }
          ],
          "heatmap": [
           {
            "colorbar": {
             "outlinewidth": 0,
             "ticks": ""
            },
            "colorscale": [
             [
              0,
              "#0d0887"
             ],
             [
              0.1111111111111111,
              "#46039f"
             ],
             [
              0.2222222222222222,
              "#7201a8"
             ],
             [
              0.3333333333333333,
              "#9c179e"
             ],
             [
              0.4444444444444444,
              "#bd3786"
             ],
             [
              0.5555555555555556,
              "#d8576b"
             ],
             [
              0.6666666666666666,
              "#ed7953"
             ],
             [
              0.7777777777777778,
              "#fb9f3a"
             ],
             [
              0.8888888888888888,
              "#fdca26"
             ],
             [
              1,
              "#f0f921"
             ]
            ],
            "type": "heatmap"
           }
          ],
          "heatmapgl": [
           {
            "colorbar": {
             "outlinewidth": 0,
             "ticks": ""
            },
            "colorscale": [
             [
              0,
              "#0d0887"
             ],
             [
              0.1111111111111111,
              "#46039f"
             ],
             [
              0.2222222222222222,
              "#7201a8"
             ],
             [
              0.3333333333333333,
              "#9c179e"
             ],
             [
              0.4444444444444444,
              "#bd3786"
             ],
             [
              0.5555555555555556,
              "#d8576b"
             ],
             [
              0.6666666666666666,
              "#ed7953"
             ],
             [
              0.7777777777777778,
              "#fb9f3a"
             ],
             [
              0.8888888888888888,
              "#fdca26"
             ],
             [
              1,
              "#f0f921"
             ]
            ],
            "type": "heatmapgl"
           }
          ],
          "histogram": [
           {
            "marker": {
             "pattern": {
              "fillmode": "overlay",
              "size": 10,
              "solidity": 0.2
             }
            },
            "type": "histogram"
           }
          ],
          "histogram2d": [
           {
            "colorbar": {
             "outlinewidth": 0,
             "ticks": ""
            },
            "colorscale": [
             [
              0,
              "#0d0887"
             ],
             [
              0.1111111111111111,
              "#46039f"
             ],
             [
              0.2222222222222222,
              "#7201a8"
             ],
             [
              0.3333333333333333,
              "#9c179e"
             ],
             [
              0.4444444444444444,
              "#bd3786"
             ],
             [
              0.5555555555555556,
              "#d8576b"
             ],
             [
              0.6666666666666666,
              "#ed7953"
             ],
             [
              0.7777777777777778,
              "#fb9f3a"
             ],
             [
              0.8888888888888888,
              "#fdca26"
             ],
             [
              1,
              "#f0f921"
             ]
            ],
            "type": "histogram2d"
           }
          ],
          "histogram2dcontour": [
           {
            "colorbar": {
             "outlinewidth": 0,
             "ticks": ""
            },
            "colorscale": [
             [
              0,
              "#0d0887"
             ],
             [
              0.1111111111111111,
              "#46039f"
             ],
             [
              0.2222222222222222,
              "#7201a8"
             ],
             [
              0.3333333333333333,
              "#9c179e"
             ],
             [
              0.4444444444444444,
              "#bd3786"
             ],
             [
              0.5555555555555556,
              "#d8576b"
             ],
             [
              0.6666666666666666,
              "#ed7953"
             ],
             [
              0.7777777777777778,
              "#fb9f3a"
             ],
             [
              0.8888888888888888,
              "#fdca26"
             ],
             [
              1,
              "#f0f921"
             ]
            ],
            "type": "histogram2dcontour"
           }
          ],
          "mesh3d": [
           {
            "colorbar": {
             "outlinewidth": 0,
             "ticks": ""
            },
            "type": "mesh3d"
           }
          ],
          "parcoords": [
           {
            "line": {
             "colorbar": {
              "outlinewidth": 0,
              "ticks": ""
             }
            },
            "type": "parcoords"
           }
          ],
          "pie": [
           {
            "automargin": true,
            "type": "pie"
           }
          ],
          "scatter": [
           {
            "fillpattern": {
             "fillmode": "overlay",
             "size": 10,
             "solidity": 0.2
            },
            "type": "scatter"
           }
          ],
          "scatter3d": [
           {
            "line": {
             "colorbar": {
              "outlinewidth": 0,
              "ticks": ""
             }
            },
            "marker": {
             "colorbar": {
              "outlinewidth": 0,
              "ticks": ""
             }
            },
            "type": "scatter3d"
           }
          ],
          "scattercarpet": [
           {
            "marker": {
             "colorbar": {
              "outlinewidth": 0,
              "ticks": ""
             }
            },
            "type": "scattercarpet"
           }
          ],
          "scattergeo": [
           {
            "marker": {
             "colorbar": {
              "outlinewidth": 0,
              "ticks": ""
             }
            },
            "type": "scattergeo"
           }
          ],
          "scattergl": [
           {
            "marker": {
             "colorbar": {
              "outlinewidth": 0,
              "ticks": ""
             }
            },
            "type": "scattergl"
           }
          ],
          "scattermapbox": [
           {
            "marker": {
             "colorbar": {
              "outlinewidth": 0,
              "ticks": ""
             }
            },
            "type": "scattermapbox"
           }
          ],
          "scatterpolar": [
           {
            "marker": {
             "colorbar": {
              "outlinewidth": 0,
              "ticks": ""
             }
            },
            "type": "scatterpolar"
           }
          ],
          "scatterpolargl": [
           {
            "marker": {
             "colorbar": {
              "outlinewidth": 0,
              "ticks": ""
             }
            },
            "type": "scatterpolargl"
           }
          ],
          "scatterternary": [
           {
            "marker": {
             "colorbar": {
              "outlinewidth": 0,
              "ticks": ""
             }
            },
            "type": "scatterternary"
           }
          ],
          "surface": [
           {
            "colorbar": {
             "outlinewidth": 0,
             "ticks": ""
            },
            "colorscale": [
             [
              0,
              "#0d0887"
             ],
             [
              0.1111111111111111,
              "#46039f"
             ],
             [
              0.2222222222222222,
              "#7201a8"
             ],
             [
              0.3333333333333333,
              "#9c179e"
             ],
             [
              0.4444444444444444,
              "#bd3786"
             ],
             [
              0.5555555555555556,
              "#d8576b"
             ],
             [
              0.6666666666666666,
              "#ed7953"
             ],
             [
              0.7777777777777778,
              "#fb9f3a"
             ],
             [
              0.8888888888888888,
              "#fdca26"
             ],
             [
              1,
              "#f0f921"
             ]
            ],
            "type": "surface"
           }
          ],
          "table": [
           {
            "cells": {
             "fill": {
              "color": "#EBF0F8"
             },
             "line": {
              "color": "white"
             }
            },
            "header": {
             "fill": {
              "color": "#C8D4E3"
             },
             "line": {
              "color": "white"
             }
            },
            "type": "table"
           }
          ]
         },
         "layout": {
          "annotationdefaults": {
           "arrowcolor": "#2a3f5f",
           "arrowhead": 0,
           "arrowwidth": 1
          },
          "autotypenumbers": "strict",
          "coloraxis": {
           "colorbar": {
            "outlinewidth": 0,
            "ticks": ""
           }
          },
          "colorscale": {
           "diverging": [
            [
             0,
             "#8e0152"
            ],
            [
             0.1,
             "#c51b7d"
            ],
            [
             0.2,
             "#de77ae"
            ],
            [
             0.3,
             "#f1b6da"
            ],
            [
             0.4,
             "#fde0ef"
            ],
            [
             0.5,
             "#f7f7f7"
            ],
            [
             0.6,
             "#e6f5d0"
            ],
            [
             0.7,
             "#b8e186"
            ],
            [
             0.8,
             "#7fbc41"
            ],
            [
             0.9,
             "#4d9221"
            ],
            [
             1,
             "#276419"
            ]
           ],
           "sequential": [
            [
             0,
             "#0d0887"
            ],
            [
             0.1111111111111111,
             "#46039f"
            ],
            [
             0.2222222222222222,
             "#7201a8"
            ],
            [
             0.3333333333333333,
             "#9c179e"
            ],
            [
             0.4444444444444444,
             "#bd3786"
            ],
            [
             0.5555555555555556,
             "#d8576b"
            ],
            [
             0.6666666666666666,
             "#ed7953"
            ],
            [
             0.7777777777777778,
             "#fb9f3a"
            ],
            [
             0.8888888888888888,
             "#fdca26"
            ],
            [
             1,
             "#f0f921"
            ]
           ],
           "sequentialminus": [
            [
             0,
             "#0d0887"
            ],
            [
             0.1111111111111111,
             "#46039f"
            ],
            [
             0.2222222222222222,
             "#7201a8"
            ],
            [
             0.3333333333333333,
             "#9c179e"
            ],
            [
             0.4444444444444444,
             "#bd3786"
            ],
            [
             0.5555555555555556,
             "#d8576b"
            ],
            [
             0.6666666666666666,
             "#ed7953"
            ],
            [
             0.7777777777777778,
             "#fb9f3a"
            ],
            [
             0.8888888888888888,
             "#fdca26"
            ],
            [
             1,
             "#f0f921"
            ]
           ]
          },
          "colorway": [
           "#636efa",
           "#EF553B",
           "#00cc96",
           "#ab63fa",
           "#FFA15A",
           "#19d3f3",
           "#FF6692",
           "#B6E880",
           "#FF97FF",
           "#FECB52"
          ],
          "font": {
           "color": "#2a3f5f"
          },
          "geo": {
           "bgcolor": "white",
           "lakecolor": "white",
           "landcolor": "#E5ECF6",
           "showlakes": true,
           "showland": true,
           "subunitcolor": "white"
          },
          "hoverlabel": {
           "align": "left"
          },
          "hovermode": "closest",
          "mapbox": {
           "style": "light"
          },
          "paper_bgcolor": "white",
          "plot_bgcolor": "#E5ECF6",
          "polar": {
           "angularaxis": {
            "gridcolor": "white",
            "linecolor": "white",
            "ticks": ""
           },
           "bgcolor": "#E5ECF6",
           "radialaxis": {
            "gridcolor": "white",
            "linecolor": "white",
            "ticks": ""
           }
          },
          "scene": {
           "xaxis": {
            "backgroundcolor": "#E5ECF6",
            "gridcolor": "white",
            "gridwidth": 2,
            "linecolor": "white",
            "showbackground": true,
            "ticks": "",
            "zerolinecolor": "white"
           },
           "yaxis": {
            "backgroundcolor": "#E5ECF6",
            "gridcolor": "white",
            "gridwidth": 2,
            "linecolor": "white",
            "showbackground": true,
            "ticks": "",
            "zerolinecolor": "white"
           },
           "zaxis": {
            "backgroundcolor": "#E5ECF6",
            "gridcolor": "white",
            "gridwidth": 2,
            "linecolor": "white",
            "showbackground": true,
            "ticks": "",
            "zerolinecolor": "white"
           }
          },
          "shapedefaults": {
           "line": {
            "color": "#2a3f5f"
           }
          },
          "ternary": {
           "aaxis": {
            "gridcolor": "white",
            "linecolor": "white",
            "ticks": ""
           },
           "baxis": {
            "gridcolor": "white",
            "linecolor": "white",
            "ticks": ""
           },
           "bgcolor": "#E5ECF6",
           "caxis": {
            "gridcolor": "white",
            "linecolor": "white",
            "ticks": ""
           }
          },
          "title": {
           "x": 0.05
          },
          "xaxis": {
           "automargin": true,
           "gridcolor": "white",
           "linecolor": "white",
           "ticks": "",
           "title": {
            "standoff": 15
           },
           "zerolinecolor": "white",
           "zerolinewidth": 2
          },
          "yaxis": {
           "automargin": true,
           "gridcolor": "white",
           "linecolor": "white",
           "ticks": "",
           "title": {
            "standoff": 15
           },
           "zerolinecolor": "white",
           "zerolinewidth": 2
          }
         }
        },
        "xaxis": {
         "anchor": "y",
         "domain": [
          0,
          1
         ],
         "title": {
          "text": "year"
         }
        },
        "yaxis": {
         "anchor": "x",
         "domain": [
          0,
          1
         ],
         "title": {
          "text": "life_exp"
         }
        }
       }
      }
     },
     "metadata": {},
     "output_type": "display_data"
    }
   ],
   "source": [
    "px.line(data_frame=df_exp_per_year_europe, x='year', y='life_exp')\n",
    "#plt.title('Total Life Expectancy for Europe by Year')\n",
    "#plt.xlabel('Year')\n",
    "#plt.ylabel('Life Expectancy')\n",
    "#plt.xlim(df_exp_per_year_europe['year'].min(), df_exp_per_year_europe['year'].max())\n",
    "#plt.ylim(df_exp_per_year_europe['life_exp'].min(), df_exp_per_year_europe['life_exp'].max())\n",
    "#plt.tight_layout()\n",
    "#plt.show()"
   ]
  },
  {
   "cell_type": "code",
   "execution_count": 78,
   "metadata": {},
   "outputs": [
    {
     "data": {
      "text/html": [
       "<div>\n",
       "<style scoped>\n",
       "    .dataframe tbody tr th:only-of-type {\n",
       "        vertical-align: middle;\n",
       "    }\n",
       "\n",
       "    .dataframe tbody tr th {\n",
       "        vertical-align: top;\n",
       "    }\n",
       "\n",
       "    .dataframe thead th {\n",
       "        text-align: right;\n",
       "    }\n",
       "</style>\n",
       "<table border=\"1\" class=\"dataframe\">\n",
       "  <thead>\n",
       "    <tr style=\"text-align: right;\">\n",
       "      <th></th>\n",
       "      <th>year</th>\n",
       "      <th>life_exp</th>\n",
       "    </tr>\n",
       "  </thead>\n",
       "  <tbody>\n",
       "    <tr>\n",
       "      <th>0</th>\n",
       "      <td>1952</td>\n",
       "      <td>45.72</td>\n",
       "    </tr>\n",
       "    <tr>\n",
       "      <th>1</th>\n",
       "      <td>1957</td>\n",
       "      <td>48.74</td>\n",
       "    </tr>\n",
       "    <tr>\n",
       "      <th>2</th>\n",
       "      <td>1962</td>\n",
       "      <td>51.01</td>\n",
       "    </tr>\n",
       "    <tr>\n",
       "      <th>3</th>\n",
       "      <td>1967</td>\n",
       "      <td>54.16</td>\n",
       "    </tr>\n",
       "    <tr>\n",
       "      <th>4</th>\n",
       "      <td>1972</td>\n",
       "      <td>56.87</td>\n",
       "    </tr>\n",
       "    <tr>\n",
       "      <th>5</th>\n",
       "      <td>1977</td>\n",
       "      <td>59.19</td>\n",
       "    </tr>\n",
       "    <tr>\n",
       "      <th>6</th>\n",
       "      <td>1982</td>\n",
       "      <td>62.25</td>\n",
       "    </tr>\n",
       "    <tr>\n",
       "      <th>7</th>\n",
       "      <td>1987</td>\n",
       "      <td>64.52</td>\n",
       "    </tr>\n",
       "    <tr>\n",
       "      <th>8</th>\n",
       "      <td>1992</td>\n",
       "      <td>66.21</td>\n",
       "    </tr>\n",
       "    <tr>\n",
       "      <th>9</th>\n",
       "      <td>1997</td>\n",
       "      <td>67.70</td>\n",
       "    </tr>\n",
       "    <tr>\n",
       "      <th>10</th>\n",
       "      <td>2002</td>\n",
       "      <td>68.91</td>\n",
       "    </tr>\n",
       "    <tr>\n",
       "      <th>11</th>\n",
       "      <td>2007</td>\n",
       "      <td>70.42</td>\n",
       "    </tr>\n",
       "  </tbody>\n",
       "</table>\n",
       "</div>"
      ],
      "text/plain": [
       "    year  life_exp\n",
       "0   1952     45.72\n",
       "1   1957     48.74\n",
       "2   1962     51.01\n",
       "3   1967     54.16\n",
       "4   1972     56.87\n",
       "5   1977     59.19\n",
       "6   1982     62.25\n",
       "7   1987     64.52\n",
       "8   1992     66.21\n",
       "9   1997     67.70\n",
       "10  2002     68.91\n",
       "11  2007     70.42"
      ]
     },
     "execution_count": 78,
     "metadata": {},
     "output_type": "execute_result"
    }
   ],
   "source": [
    "df_exp_per_year_asia = df[df['continent'] == 'Asia'].groupby('year' ,as_index=False)['life_exp'].mean()\n",
    "df_exp_per_year_asia"
   ]
  },
  {
   "cell_type": "code",
   "execution_count": 79,
   "metadata": {},
   "outputs": [
    {
     "data": {
      "application/vnd.plotly.v1+json": {
       "config": {
        "plotlyServerURL": "https://plot.ly"
       },
       "data": [
        {
         "hovertemplate": "year=%{x}<br>life_exp=%{y}<extra></extra>",
         "legendgroup": "",
         "line": {
          "color": "#636efa",
          "dash": "solid"
         },
         "marker": {
          "symbol": "circle"
         },
         "mode": "lines",
         "name": "",
         "orientation": "v",
         "showlegend": false,
         "type": "scatter",
         "x": [
          1952,
          1957,
          1962,
          1967,
          1972,
          1977,
          1982,
          1987,
          1992,
          1997,
          2002,
          2007
         ],
         "xaxis": "x",
         "y": [
          45.718281250000004,
          48.73974875,
          51.00613625,
          54.16094125,
          56.87205875,
          59.19026125,
          62.2481875,
          64.51528125,
          66.21243750000001,
          67.70025,
          68.9069375,
          70.41546875
         ],
         "yaxis": "y"
        }
       ],
       "layout": {
        "legend": {
         "tracegroupgap": 0
        },
        "margin": {
         "t": 60
        },
        "template": {
         "data": {
          "bar": [
           {
            "error_x": {
             "color": "#2a3f5f"
            },
            "error_y": {
             "color": "#2a3f5f"
            },
            "marker": {
             "line": {
              "color": "#E5ECF6",
              "width": 0.5
             },
             "pattern": {
              "fillmode": "overlay",
              "size": 10,
              "solidity": 0.2
             }
            },
            "type": "bar"
           }
          ],
          "barpolar": [
           {
            "marker": {
             "line": {
              "color": "#E5ECF6",
              "width": 0.5
             },
             "pattern": {
              "fillmode": "overlay",
              "size": 10,
              "solidity": 0.2
             }
            },
            "type": "barpolar"
           }
          ],
          "carpet": [
           {
            "aaxis": {
             "endlinecolor": "#2a3f5f",
             "gridcolor": "white",
             "linecolor": "white",
             "minorgridcolor": "white",
             "startlinecolor": "#2a3f5f"
            },
            "baxis": {
             "endlinecolor": "#2a3f5f",
             "gridcolor": "white",
             "linecolor": "white",
             "minorgridcolor": "white",
             "startlinecolor": "#2a3f5f"
            },
            "type": "carpet"
           }
          ],
          "choropleth": [
           {
            "colorbar": {
             "outlinewidth": 0,
             "ticks": ""
            },
            "type": "choropleth"
           }
          ],
          "contour": [
           {
            "colorbar": {
             "outlinewidth": 0,
             "ticks": ""
            },
            "colorscale": [
             [
              0,
              "#0d0887"
             ],
             [
              0.1111111111111111,
              "#46039f"
             ],
             [
              0.2222222222222222,
              "#7201a8"
             ],
             [
              0.3333333333333333,
              "#9c179e"
             ],
             [
              0.4444444444444444,
              "#bd3786"
             ],
             [
              0.5555555555555556,
              "#d8576b"
             ],
             [
              0.6666666666666666,
              "#ed7953"
             ],
             [
              0.7777777777777778,
              "#fb9f3a"
             ],
             [
              0.8888888888888888,
              "#fdca26"
             ],
             [
              1,
              "#f0f921"
             ]
            ],
            "type": "contour"
           }
          ],
          "contourcarpet": [
           {
            "colorbar": {
             "outlinewidth": 0,
             "ticks": ""
            },
            "type": "contourcarpet"
           }
          ],
          "heatmap": [
           {
            "colorbar": {
             "outlinewidth": 0,
             "ticks": ""
            },
            "colorscale": [
             [
              0,
              "#0d0887"
             ],
             [
              0.1111111111111111,
              "#46039f"
             ],
             [
              0.2222222222222222,
              "#7201a8"
             ],
             [
              0.3333333333333333,
              "#9c179e"
             ],
             [
              0.4444444444444444,
              "#bd3786"
             ],
             [
              0.5555555555555556,
              "#d8576b"
             ],
             [
              0.6666666666666666,
              "#ed7953"
             ],
             [
              0.7777777777777778,
              "#fb9f3a"
             ],
             [
              0.8888888888888888,
              "#fdca26"
             ],
             [
              1,
              "#f0f921"
             ]
            ],
            "type": "heatmap"
           }
          ],
          "heatmapgl": [
           {
            "colorbar": {
             "outlinewidth": 0,
             "ticks": ""
            },
            "colorscale": [
             [
              0,
              "#0d0887"
             ],
             [
              0.1111111111111111,
              "#46039f"
             ],
             [
              0.2222222222222222,
              "#7201a8"
             ],
             [
              0.3333333333333333,
              "#9c179e"
             ],
             [
              0.4444444444444444,
              "#bd3786"
             ],
             [
              0.5555555555555556,
              "#d8576b"
             ],
             [
              0.6666666666666666,
              "#ed7953"
             ],
             [
              0.7777777777777778,
              "#fb9f3a"
             ],
             [
              0.8888888888888888,
              "#fdca26"
             ],
             [
              1,
              "#f0f921"
             ]
            ],
            "type": "heatmapgl"
           }
          ],
          "histogram": [
           {
            "marker": {
             "pattern": {
              "fillmode": "overlay",
              "size": 10,
              "solidity": 0.2
             }
            },
            "type": "histogram"
           }
          ],
          "histogram2d": [
           {
            "colorbar": {
             "outlinewidth": 0,
             "ticks": ""
            },
            "colorscale": [
             [
              0,
              "#0d0887"
             ],
             [
              0.1111111111111111,
              "#46039f"
             ],
             [
              0.2222222222222222,
              "#7201a8"
             ],
             [
              0.3333333333333333,
              "#9c179e"
             ],
             [
              0.4444444444444444,
              "#bd3786"
             ],
             [
              0.5555555555555556,
              "#d8576b"
             ],
             [
              0.6666666666666666,
              "#ed7953"
             ],
             [
              0.7777777777777778,
              "#fb9f3a"
             ],
             [
              0.8888888888888888,
              "#fdca26"
             ],
             [
              1,
              "#f0f921"
             ]
            ],
            "type": "histogram2d"
           }
          ],
          "histogram2dcontour": [
           {
            "colorbar": {
             "outlinewidth": 0,
             "ticks": ""
            },
            "colorscale": [
             [
              0,
              "#0d0887"
             ],
             [
              0.1111111111111111,
              "#46039f"
             ],
             [
              0.2222222222222222,
              "#7201a8"
             ],
             [
              0.3333333333333333,
              "#9c179e"
             ],
             [
              0.4444444444444444,
              "#bd3786"
             ],
             [
              0.5555555555555556,
              "#d8576b"
             ],
             [
              0.6666666666666666,
              "#ed7953"
             ],
             [
              0.7777777777777778,
              "#fb9f3a"
             ],
             [
              0.8888888888888888,
              "#fdca26"
             ],
             [
              1,
              "#f0f921"
             ]
            ],
            "type": "histogram2dcontour"
           }
          ],
          "mesh3d": [
           {
            "colorbar": {
             "outlinewidth": 0,
             "ticks": ""
            },
            "type": "mesh3d"
           }
          ],
          "parcoords": [
           {
            "line": {
             "colorbar": {
              "outlinewidth": 0,
              "ticks": ""
             }
            },
            "type": "parcoords"
           }
          ],
          "pie": [
           {
            "automargin": true,
            "type": "pie"
           }
          ],
          "scatter": [
           {
            "fillpattern": {
             "fillmode": "overlay",
             "size": 10,
             "solidity": 0.2
            },
            "type": "scatter"
           }
          ],
          "scatter3d": [
           {
            "line": {
             "colorbar": {
              "outlinewidth": 0,
              "ticks": ""
             }
            },
            "marker": {
             "colorbar": {
              "outlinewidth": 0,
              "ticks": ""
             }
            },
            "type": "scatter3d"
           }
          ],
          "scattercarpet": [
           {
            "marker": {
             "colorbar": {
              "outlinewidth": 0,
              "ticks": ""
             }
            },
            "type": "scattercarpet"
           }
          ],
          "scattergeo": [
           {
            "marker": {
             "colorbar": {
              "outlinewidth": 0,
              "ticks": ""
             }
            },
            "type": "scattergeo"
           }
          ],
          "scattergl": [
           {
            "marker": {
             "colorbar": {
              "outlinewidth": 0,
              "ticks": ""
             }
            },
            "type": "scattergl"
           }
          ],
          "scattermapbox": [
           {
            "marker": {
             "colorbar": {
              "outlinewidth": 0,
              "ticks": ""
             }
            },
            "type": "scattermapbox"
           }
          ],
          "scatterpolar": [
           {
            "marker": {
             "colorbar": {
              "outlinewidth": 0,
              "ticks": ""
             }
            },
            "type": "scatterpolar"
           }
          ],
          "scatterpolargl": [
           {
            "marker": {
             "colorbar": {
              "outlinewidth": 0,
              "ticks": ""
             }
            },
            "type": "scatterpolargl"
           }
          ],
          "scatterternary": [
           {
            "marker": {
             "colorbar": {
              "outlinewidth": 0,
              "ticks": ""
             }
            },
            "type": "scatterternary"
           }
          ],
          "surface": [
           {
            "colorbar": {
             "outlinewidth": 0,
             "ticks": ""
            },
            "colorscale": [
             [
              0,
              "#0d0887"
             ],
             [
              0.1111111111111111,
              "#46039f"
             ],
             [
              0.2222222222222222,
              "#7201a8"
             ],
             [
              0.3333333333333333,
              "#9c179e"
             ],
             [
              0.4444444444444444,
              "#bd3786"
             ],
             [
              0.5555555555555556,
              "#d8576b"
             ],
             [
              0.6666666666666666,
              "#ed7953"
             ],
             [
              0.7777777777777778,
              "#fb9f3a"
             ],
             [
              0.8888888888888888,
              "#fdca26"
             ],
             [
              1,
              "#f0f921"
             ]
            ],
            "type": "surface"
           }
          ],
          "table": [
           {
            "cells": {
             "fill": {
              "color": "#EBF0F8"
             },
             "line": {
              "color": "white"
             }
            },
            "header": {
             "fill": {
              "color": "#C8D4E3"
             },
             "line": {
              "color": "white"
             }
            },
            "type": "table"
           }
          ]
         },
         "layout": {
          "annotationdefaults": {
           "arrowcolor": "#2a3f5f",
           "arrowhead": 0,
           "arrowwidth": 1
          },
          "autotypenumbers": "strict",
          "coloraxis": {
           "colorbar": {
            "outlinewidth": 0,
            "ticks": ""
           }
          },
          "colorscale": {
           "diverging": [
            [
             0,
             "#8e0152"
            ],
            [
             0.1,
             "#c51b7d"
            ],
            [
             0.2,
             "#de77ae"
            ],
            [
             0.3,
             "#f1b6da"
            ],
            [
             0.4,
             "#fde0ef"
            ],
            [
             0.5,
             "#f7f7f7"
            ],
            [
             0.6,
             "#e6f5d0"
            ],
            [
             0.7,
             "#b8e186"
            ],
            [
             0.8,
             "#7fbc41"
            ],
            [
             0.9,
             "#4d9221"
            ],
            [
             1,
             "#276419"
            ]
           ],
           "sequential": [
            [
             0,
             "#0d0887"
            ],
            [
             0.1111111111111111,
             "#46039f"
            ],
            [
             0.2222222222222222,
             "#7201a8"
            ],
            [
             0.3333333333333333,
             "#9c179e"
            ],
            [
             0.4444444444444444,
             "#bd3786"
            ],
            [
             0.5555555555555556,
             "#d8576b"
            ],
            [
             0.6666666666666666,
             "#ed7953"
            ],
            [
             0.7777777777777778,
             "#fb9f3a"
            ],
            [
             0.8888888888888888,
             "#fdca26"
            ],
            [
             1,
             "#f0f921"
            ]
           ],
           "sequentialminus": [
            [
             0,
             "#0d0887"
            ],
            [
             0.1111111111111111,
             "#46039f"
            ],
            [
             0.2222222222222222,
             "#7201a8"
            ],
            [
             0.3333333333333333,
             "#9c179e"
            ],
            [
             0.4444444444444444,
             "#bd3786"
            ],
            [
             0.5555555555555556,
             "#d8576b"
            ],
            [
             0.6666666666666666,
             "#ed7953"
            ],
            [
             0.7777777777777778,
             "#fb9f3a"
            ],
            [
             0.8888888888888888,
             "#fdca26"
            ],
            [
             1,
             "#f0f921"
            ]
           ]
          },
          "colorway": [
           "#636efa",
           "#EF553B",
           "#00cc96",
           "#ab63fa",
           "#FFA15A",
           "#19d3f3",
           "#FF6692",
           "#B6E880",
           "#FF97FF",
           "#FECB52"
          ],
          "font": {
           "color": "#2a3f5f"
          },
          "geo": {
           "bgcolor": "white",
           "lakecolor": "white",
           "landcolor": "#E5ECF6",
           "showlakes": true,
           "showland": true,
           "subunitcolor": "white"
          },
          "hoverlabel": {
           "align": "left"
          },
          "hovermode": "closest",
          "mapbox": {
           "style": "light"
          },
          "paper_bgcolor": "white",
          "plot_bgcolor": "#E5ECF6",
          "polar": {
           "angularaxis": {
            "gridcolor": "white",
            "linecolor": "white",
            "ticks": ""
           },
           "bgcolor": "#E5ECF6",
           "radialaxis": {
            "gridcolor": "white",
            "linecolor": "white",
            "ticks": ""
           }
          },
          "scene": {
           "xaxis": {
            "backgroundcolor": "#E5ECF6",
            "gridcolor": "white",
            "gridwidth": 2,
            "linecolor": "white",
            "showbackground": true,
            "ticks": "",
            "zerolinecolor": "white"
           },
           "yaxis": {
            "backgroundcolor": "#E5ECF6",
            "gridcolor": "white",
            "gridwidth": 2,
            "linecolor": "white",
            "showbackground": true,
            "ticks": "",
            "zerolinecolor": "white"
           },
           "zaxis": {
            "backgroundcolor": "#E5ECF6",
            "gridcolor": "white",
            "gridwidth": 2,
            "linecolor": "white",
            "showbackground": true,
            "ticks": "",
            "zerolinecolor": "white"
           }
          },
          "shapedefaults": {
           "line": {
            "color": "#2a3f5f"
           }
          },
          "ternary": {
           "aaxis": {
            "gridcolor": "white",
            "linecolor": "white",
            "ticks": ""
           },
           "baxis": {
            "gridcolor": "white",
            "linecolor": "white",
            "ticks": ""
           },
           "bgcolor": "#E5ECF6",
           "caxis": {
            "gridcolor": "white",
            "linecolor": "white",
            "ticks": ""
           }
          },
          "title": {
           "x": 0.05
          },
          "xaxis": {
           "automargin": true,
           "gridcolor": "white",
           "linecolor": "white",
           "ticks": "",
           "title": {
            "standoff": 15
           },
           "zerolinecolor": "white",
           "zerolinewidth": 2
          },
          "yaxis": {
           "automargin": true,
           "gridcolor": "white",
           "linecolor": "white",
           "ticks": "",
           "title": {
            "standoff": 15
           },
           "zerolinecolor": "white",
           "zerolinewidth": 2
          }
         }
        },
        "xaxis": {
         "anchor": "y",
         "domain": [
          0,
          1
         ],
         "title": {
          "text": "year"
         }
        },
        "yaxis": {
         "anchor": "x",
         "domain": [
          0,
          1
         ],
         "title": {
          "text": "life_exp"
         }
        }
       }
      }
     },
     "metadata": {},
     "output_type": "display_data"
    }
   ],
   "source": [
    "px.line(data_frame=df_exp_per_year_asia , x='year' , y='life_exp')"
   ]
  },
  {
   "cell_type": "code",
   "execution_count": 80,
   "metadata": {},
   "outputs": [
    {
     "data": {
      "text/html": [
       "<div>\n",
       "<style scoped>\n",
       "    .dataframe tbody tr th:only-of-type {\n",
       "        vertical-align: middle;\n",
       "    }\n",
       "\n",
       "    .dataframe tbody tr th {\n",
       "        vertical-align: top;\n",
       "    }\n",
       "\n",
       "    .dataframe thead th {\n",
       "        text-align: right;\n",
       "    }\n",
       "</style>\n",
       "<table border=\"1\" class=\"dataframe\">\n",
       "  <thead>\n",
       "    <tr style=\"text-align: right;\">\n",
       "      <th></th>\n",
       "      <th>year</th>\n",
       "      <th>life_exp</th>\n",
       "    </tr>\n",
       "  </thead>\n",
       "  <tbody>\n",
       "    <tr>\n",
       "      <th>0</th>\n",
       "      <td>1952</td>\n",
       "      <td>53.28</td>\n",
       "    </tr>\n",
       "    <tr>\n",
       "      <th>1</th>\n",
       "      <td>1957</td>\n",
       "      <td>55.96</td>\n",
       "    </tr>\n",
       "    <tr>\n",
       "      <th>2</th>\n",
       "      <td>1962</td>\n",
       "      <td>58.40</td>\n",
       "    </tr>\n",
       "    <tr>\n",
       "      <th>3</th>\n",
       "      <td>1967</td>\n",
       "      <td>60.41</td>\n",
       "    </tr>\n",
       "    <tr>\n",
       "      <th>4</th>\n",
       "      <td>1972</td>\n",
       "      <td>62.39</td>\n",
       "    </tr>\n",
       "    <tr>\n",
       "      <th>5</th>\n",
       "      <td>1977</td>\n",
       "      <td>64.39</td>\n",
       "    </tr>\n",
       "    <tr>\n",
       "      <th>6</th>\n",
       "      <td>1982</td>\n",
       "      <td>66.23</td>\n",
       "    </tr>\n",
       "    <tr>\n",
       "      <th>7</th>\n",
       "      <td>1987</td>\n",
       "      <td>68.09</td>\n",
       "    </tr>\n",
       "    <tr>\n",
       "      <th>8</th>\n",
       "      <td>1992</td>\n",
       "      <td>69.57</td>\n",
       "    </tr>\n",
       "    <tr>\n",
       "      <th>9</th>\n",
       "      <td>1997</td>\n",
       "      <td>71.15</td>\n",
       "    </tr>\n",
       "    <tr>\n",
       "      <th>10</th>\n",
       "      <td>2002</td>\n",
       "      <td>72.42</td>\n",
       "    </tr>\n",
       "    <tr>\n",
       "      <th>11</th>\n",
       "      <td>2007</td>\n",
       "      <td>73.61</td>\n",
       "    </tr>\n",
       "  </tbody>\n",
       "</table>\n",
       "</div>"
      ],
      "text/plain": [
       "    year  life_exp\n",
       "0   1952     53.28\n",
       "1   1957     55.96\n",
       "2   1962     58.40\n",
       "3   1967     60.41\n",
       "4   1972     62.39\n",
       "5   1977     64.39\n",
       "6   1982     66.23\n",
       "7   1987     68.09\n",
       "8   1992     69.57\n",
       "9   1997     71.15\n",
       "10  2002     72.42\n",
       "11  2007     73.61"
      ]
     },
     "execution_count": 80,
     "metadata": {},
     "output_type": "execute_result"
    }
   ],
   "source": [
    "df_exp_per_year_americas = df[df['continent'] == 'Americas'].groupby('year' , as_index=False)['life_exp'].mean()\n",
    "df_exp_per_year_americas"
   ]
  },
  {
   "cell_type": "code",
   "execution_count": 81,
   "metadata": {},
   "outputs": [
    {
     "data": {
      "application/vnd.plotly.v1+json": {
       "config": {
        "plotlyServerURL": "https://plot.ly"
       },
       "data": [
        {
         "hovertemplate": "year=%{x}<br>life_exp=%{y}<extra></extra>",
         "legendgroup": "",
         "line": {
          "color": "#636efa",
          "dash": "solid"
         },
         "marker": {
          "symbol": "circle"
         },
         "mode": "lines",
         "name": "",
         "orientation": "v",
         "showlegend": false,
         "type": "scatter",
         "x": [
          1952,
          1957,
          1962,
          1967,
          1972,
          1977,
          1982,
          1987,
          1992,
          1997,
          2002,
          2007
         ],
         "xaxis": "x",
         "y": [
          53.27984000000001,
          55.960280000000004,
          58.39876,
          60.41092,
          62.39492,
          64.39156,
          66.22884,
          68.09072,
          69.56836,
          71.15048,
          72.42204,
          73.60812
         ],
         "yaxis": "y"
        }
       ],
       "layout": {
        "legend": {
         "tracegroupgap": 0
        },
        "margin": {
         "t": 60
        },
        "template": {
         "data": {
          "bar": [
           {
            "error_x": {
             "color": "#2a3f5f"
            },
            "error_y": {
             "color": "#2a3f5f"
            },
            "marker": {
             "line": {
              "color": "#E5ECF6",
              "width": 0.5
             },
             "pattern": {
              "fillmode": "overlay",
              "size": 10,
              "solidity": 0.2
             }
            },
            "type": "bar"
           }
          ],
          "barpolar": [
           {
            "marker": {
             "line": {
              "color": "#E5ECF6",
              "width": 0.5
             },
             "pattern": {
              "fillmode": "overlay",
              "size": 10,
              "solidity": 0.2
             }
            },
            "type": "barpolar"
           }
          ],
          "carpet": [
           {
            "aaxis": {
             "endlinecolor": "#2a3f5f",
             "gridcolor": "white",
             "linecolor": "white",
             "minorgridcolor": "white",
             "startlinecolor": "#2a3f5f"
            },
            "baxis": {
             "endlinecolor": "#2a3f5f",
             "gridcolor": "white",
             "linecolor": "white",
             "minorgridcolor": "white",
             "startlinecolor": "#2a3f5f"
            },
            "type": "carpet"
           }
          ],
          "choropleth": [
           {
            "colorbar": {
             "outlinewidth": 0,
             "ticks": ""
            },
            "type": "choropleth"
           }
          ],
          "contour": [
           {
            "colorbar": {
             "outlinewidth": 0,
             "ticks": ""
            },
            "colorscale": [
             [
              0,
              "#0d0887"
             ],
             [
              0.1111111111111111,
              "#46039f"
             ],
             [
              0.2222222222222222,
              "#7201a8"
             ],
             [
              0.3333333333333333,
              "#9c179e"
             ],
             [
              0.4444444444444444,
              "#bd3786"
             ],
             [
              0.5555555555555556,
              "#d8576b"
             ],
             [
              0.6666666666666666,
              "#ed7953"
             ],
             [
              0.7777777777777778,
              "#fb9f3a"
             ],
             [
              0.8888888888888888,
              "#fdca26"
             ],
             [
              1,
              "#f0f921"
             ]
            ],
            "type": "contour"
           }
          ],
          "contourcarpet": [
           {
            "colorbar": {
             "outlinewidth": 0,
             "ticks": ""
            },
            "type": "contourcarpet"
           }
          ],
          "heatmap": [
           {
            "colorbar": {
             "outlinewidth": 0,
             "ticks": ""
            },
            "colorscale": [
             [
              0,
              "#0d0887"
             ],
             [
              0.1111111111111111,
              "#46039f"
             ],
             [
              0.2222222222222222,
              "#7201a8"
             ],
             [
              0.3333333333333333,
              "#9c179e"
             ],
             [
              0.4444444444444444,
              "#bd3786"
             ],
             [
              0.5555555555555556,
              "#d8576b"
             ],
             [
              0.6666666666666666,
              "#ed7953"
             ],
             [
              0.7777777777777778,
              "#fb9f3a"
             ],
             [
              0.8888888888888888,
              "#fdca26"
             ],
             [
              1,
              "#f0f921"
             ]
            ],
            "type": "heatmap"
           }
          ],
          "heatmapgl": [
           {
            "colorbar": {
             "outlinewidth": 0,
             "ticks": ""
            },
            "colorscale": [
             [
              0,
              "#0d0887"
             ],
             [
              0.1111111111111111,
              "#46039f"
             ],
             [
              0.2222222222222222,
              "#7201a8"
             ],
             [
              0.3333333333333333,
              "#9c179e"
             ],
             [
              0.4444444444444444,
              "#bd3786"
             ],
             [
              0.5555555555555556,
              "#d8576b"
             ],
             [
              0.6666666666666666,
              "#ed7953"
             ],
             [
              0.7777777777777778,
              "#fb9f3a"
             ],
             [
              0.8888888888888888,
              "#fdca26"
             ],
             [
              1,
              "#f0f921"
             ]
            ],
            "type": "heatmapgl"
           }
          ],
          "histogram": [
           {
            "marker": {
             "pattern": {
              "fillmode": "overlay",
              "size": 10,
              "solidity": 0.2
             }
            },
            "type": "histogram"
           }
          ],
          "histogram2d": [
           {
            "colorbar": {
             "outlinewidth": 0,
             "ticks": ""
            },
            "colorscale": [
             [
              0,
              "#0d0887"
             ],
             [
              0.1111111111111111,
              "#46039f"
             ],
             [
              0.2222222222222222,
              "#7201a8"
             ],
             [
              0.3333333333333333,
              "#9c179e"
             ],
             [
              0.4444444444444444,
              "#bd3786"
             ],
             [
              0.5555555555555556,
              "#d8576b"
             ],
             [
              0.6666666666666666,
              "#ed7953"
             ],
             [
              0.7777777777777778,
              "#fb9f3a"
             ],
             [
              0.8888888888888888,
              "#fdca26"
             ],
             [
              1,
              "#f0f921"
             ]
            ],
            "type": "histogram2d"
           }
          ],
          "histogram2dcontour": [
           {
            "colorbar": {
             "outlinewidth": 0,
             "ticks": ""
            },
            "colorscale": [
             [
              0,
              "#0d0887"
             ],
             [
              0.1111111111111111,
              "#46039f"
             ],
             [
              0.2222222222222222,
              "#7201a8"
             ],
             [
              0.3333333333333333,
              "#9c179e"
             ],
             [
              0.4444444444444444,
              "#bd3786"
             ],
             [
              0.5555555555555556,
              "#d8576b"
             ],
             [
              0.6666666666666666,
              "#ed7953"
             ],
             [
              0.7777777777777778,
              "#fb9f3a"
             ],
             [
              0.8888888888888888,
              "#fdca26"
             ],
             [
              1,
              "#f0f921"
             ]
            ],
            "type": "histogram2dcontour"
           }
          ],
          "mesh3d": [
           {
            "colorbar": {
             "outlinewidth": 0,
             "ticks": ""
            },
            "type": "mesh3d"
           }
          ],
          "parcoords": [
           {
            "line": {
             "colorbar": {
              "outlinewidth": 0,
              "ticks": ""
             }
            },
            "type": "parcoords"
           }
          ],
          "pie": [
           {
            "automargin": true,
            "type": "pie"
           }
          ],
          "scatter": [
           {
            "fillpattern": {
             "fillmode": "overlay",
             "size": 10,
             "solidity": 0.2
            },
            "type": "scatter"
           }
          ],
          "scatter3d": [
           {
            "line": {
             "colorbar": {
              "outlinewidth": 0,
              "ticks": ""
             }
            },
            "marker": {
             "colorbar": {
              "outlinewidth": 0,
              "ticks": ""
             }
            },
            "type": "scatter3d"
           }
          ],
          "scattercarpet": [
           {
            "marker": {
             "colorbar": {
              "outlinewidth": 0,
              "ticks": ""
             }
            },
            "type": "scattercarpet"
           }
          ],
          "scattergeo": [
           {
            "marker": {
             "colorbar": {
              "outlinewidth": 0,
              "ticks": ""
             }
            },
            "type": "scattergeo"
           }
          ],
          "scattergl": [
           {
            "marker": {
             "colorbar": {
              "outlinewidth": 0,
              "ticks": ""
             }
            },
            "type": "scattergl"
           }
          ],
          "scattermapbox": [
           {
            "marker": {
             "colorbar": {
              "outlinewidth": 0,
              "ticks": ""
             }
            },
            "type": "scattermapbox"
           }
          ],
          "scatterpolar": [
           {
            "marker": {
             "colorbar": {
              "outlinewidth": 0,
              "ticks": ""
             }
            },
            "type": "scatterpolar"
           }
          ],
          "scatterpolargl": [
           {
            "marker": {
             "colorbar": {
              "outlinewidth": 0,
              "ticks": ""
             }
            },
            "type": "scatterpolargl"
           }
          ],
          "scatterternary": [
           {
            "marker": {
             "colorbar": {
              "outlinewidth": 0,
              "ticks": ""
             }
            },
            "type": "scatterternary"
           }
          ],
          "surface": [
           {
            "colorbar": {
             "outlinewidth": 0,
             "ticks": ""
            },
            "colorscale": [
             [
              0,
              "#0d0887"
             ],
             [
              0.1111111111111111,
              "#46039f"
             ],
             [
              0.2222222222222222,
              "#7201a8"
             ],
             [
              0.3333333333333333,
              "#9c179e"
             ],
             [
              0.4444444444444444,
              "#bd3786"
             ],
             [
              0.5555555555555556,
              "#d8576b"
             ],
             [
              0.6666666666666666,
              "#ed7953"
             ],
             [
              0.7777777777777778,
              "#fb9f3a"
             ],
             [
              0.8888888888888888,
              "#fdca26"
             ],
             [
              1,
              "#f0f921"
             ]
            ],
            "type": "surface"
           }
          ],
          "table": [
           {
            "cells": {
             "fill": {
              "color": "#EBF0F8"
             },
             "line": {
              "color": "white"
             }
            },
            "header": {
             "fill": {
              "color": "#C8D4E3"
             },
             "line": {
              "color": "white"
             }
            },
            "type": "table"
           }
          ]
         },
         "layout": {
          "annotationdefaults": {
           "arrowcolor": "#2a3f5f",
           "arrowhead": 0,
           "arrowwidth": 1
          },
          "autotypenumbers": "strict",
          "coloraxis": {
           "colorbar": {
            "outlinewidth": 0,
            "ticks": ""
           }
          },
          "colorscale": {
           "diverging": [
            [
             0,
             "#8e0152"
            ],
            [
             0.1,
             "#c51b7d"
            ],
            [
             0.2,
             "#de77ae"
            ],
            [
             0.3,
             "#f1b6da"
            ],
            [
             0.4,
             "#fde0ef"
            ],
            [
             0.5,
             "#f7f7f7"
            ],
            [
             0.6,
             "#e6f5d0"
            ],
            [
             0.7,
             "#b8e186"
            ],
            [
             0.8,
             "#7fbc41"
            ],
            [
             0.9,
             "#4d9221"
            ],
            [
             1,
             "#276419"
            ]
           ],
           "sequential": [
            [
             0,
             "#0d0887"
            ],
            [
             0.1111111111111111,
             "#46039f"
            ],
            [
             0.2222222222222222,
             "#7201a8"
            ],
            [
             0.3333333333333333,
             "#9c179e"
            ],
            [
             0.4444444444444444,
             "#bd3786"
            ],
            [
             0.5555555555555556,
             "#d8576b"
            ],
            [
             0.6666666666666666,
             "#ed7953"
            ],
            [
             0.7777777777777778,
             "#fb9f3a"
            ],
            [
             0.8888888888888888,
             "#fdca26"
            ],
            [
             1,
             "#f0f921"
            ]
           ],
           "sequentialminus": [
            [
             0,
             "#0d0887"
            ],
            [
             0.1111111111111111,
             "#46039f"
            ],
            [
             0.2222222222222222,
             "#7201a8"
            ],
            [
             0.3333333333333333,
             "#9c179e"
            ],
            [
             0.4444444444444444,
             "#bd3786"
            ],
            [
             0.5555555555555556,
             "#d8576b"
            ],
            [
             0.6666666666666666,
             "#ed7953"
            ],
            [
             0.7777777777777778,
             "#fb9f3a"
            ],
            [
             0.8888888888888888,
             "#fdca26"
            ],
            [
             1,
             "#f0f921"
            ]
           ]
          },
          "colorway": [
           "#636efa",
           "#EF553B",
           "#00cc96",
           "#ab63fa",
           "#FFA15A",
           "#19d3f3",
           "#FF6692",
           "#B6E880",
           "#FF97FF",
           "#FECB52"
          ],
          "font": {
           "color": "#2a3f5f"
          },
          "geo": {
           "bgcolor": "white",
           "lakecolor": "white",
           "landcolor": "#E5ECF6",
           "showlakes": true,
           "showland": true,
           "subunitcolor": "white"
          },
          "hoverlabel": {
           "align": "left"
          },
          "hovermode": "closest",
          "mapbox": {
           "style": "light"
          },
          "paper_bgcolor": "white",
          "plot_bgcolor": "#E5ECF6",
          "polar": {
           "angularaxis": {
            "gridcolor": "white",
            "linecolor": "white",
            "ticks": ""
           },
           "bgcolor": "#E5ECF6",
           "radialaxis": {
            "gridcolor": "white",
            "linecolor": "white",
            "ticks": ""
           }
          },
          "scene": {
           "xaxis": {
            "backgroundcolor": "#E5ECF6",
            "gridcolor": "white",
            "gridwidth": 2,
            "linecolor": "white",
            "showbackground": true,
            "ticks": "",
            "zerolinecolor": "white"
           },
           "yaxis": {
            "backgroundcolor": "#E5ECF6",
            "gridcolor": "white",
            "gridwidth": 2,
            "linecolor": "white",
            "showbackground": true,
            "ticks": "",
            "zerolinecolor": "white"
           },
           "zaxis": {
            "backgroundcolor": "#E5ECF6",
            "gridcolor": "white",
            "gridwidth": 2,
            "linecolor": "white",
            "showbackground": true,
            "ticks": "",
            "zerolinecolor": "white"
           }
          },
          "shapedefaults": {
           "line": {
            "color": "#2a3f5f"
           }
          },
          "ternary": {
           "aaxis": {
            "gridcolor": "white",
            "linecolor": "white",
            "ticks": ""
           },
           "baxis": {
            "gridcolor": "white",
            "linecolor": "white",
            "ticks": ""
           },
           "bgcolor": "#E5ECF6",
           "caxis": {
            "gridcolor": "white",
            "linecolor": "white",
            "ticks": ""
           }
          },
          "title": {
           "x": 0.05
          },
          "xaxis": {
           "automargin": true,
           "gridcolor": "white",
           "linecolor": "white",
           "ticks": "",
           "title": {
            "standoff": 15
           },
           "zerolinecolor": "white",
           "zerolinewidth": 2
          },
          "yaxis": {
           "automargin": true,
           "gridcolor": "white",
           "linecolor": "white",
           "ticks": "",
           "title": {
            "standoff": 15
           },
           "zerolinecolor": "white",
           "zerolinewidth": 2
          }
         }
        },
        "xaxis": {
         "anchor": "y",
         "domain": [
          0,
          1
         ],
         "title": {
          "text": "year"
         }
        },
        "yaxis": {
         "anchor": "x",
         "domain": [
          0,
          1
         ],
         "title": {
          "text": "life_exp"
         }
        }
       }
      }
     },
     "metadata": {},
     "output_type": "display_data"
    }
   ],
   "source": [
    "px.line(data_frame=df_exp_per_year_americas , x='year' , y='life_exp')"
   ]
  },
  {
   "cell_type": "code",
   "execution_count": 82,
   "metadata": {},
   "outputs": [
    {
     "data": {
      "text/html": [
       "<div>\n",
       "<style scoped>\n",
       "    .dataframe tbody tr th:only-of-type {\n",
       "        vertical-align: middle;\n",
       "    }\n",
       "\n",
       "    .dataframe tbody tr th {\n",
       "        vertical-align: top;\n",
       "    }\n",
       "\n",
       "    .dataframe thead th {\n",
       "        text-align: right;\n",
       "    }\n",
       "</style>\n",
       "<table border=\"1\" class=\"dataframe\">\n",
       "  <thead>\n",
       "    <tr style=\"text-align: right;\">\n",
       "      <th></th>\n",
       "      <th>year</th>\n",
       "      <th>life_exp</th>\n",
       "    </tr>\n",
       "  </thead>\n",
       "  <tbody>\n",
       "    <tr>\n",
       "      <th>0</th>\n",
       "      <td>1952</td>\n",
       "      <td>69.25</td>\n",
       "    </tr>\n",
       "    <tr>\n",
       "      <th>1</th>\n",
       "      <td>1957</td>\n",
       "      <td>70.30</td>\n",
       "    </tr>\n",
       "    <tr>\n",
       "      <th>2</th>\n",
       "      <td>1962</td>\n",
       "      <td>71.09</td>\n",
       "    </tr>\n",
       "    <tr>\n",
       "      <th>3</th>\n",
       "      <td>1967</td>\n",
       "      <td>71.31</td>\n",
       "    </tr>\n",
       "    <tr>\n",
       "      <th>4</th>\n",
       "      <td>1972</td>\n",
       "      <td>71.91</td>\n",
       "    </tr>\n",
       "    <tr>\n",
       "      <th>5</th>\n",
       "      <td>1977</td>\n",
       "      <td>72.85</td>\n",
       "    </tr>\n",
       "    <tr>\n",
       "      <th>6</th>\n",
       "      <td>1982</td>\n",
       "      <td>74.29</td>\n",
       "    </tr>\n",
       "    <tr>\n",
       "      <th>7</th>\n",
       "      <td>1987</td>\n",
       "      <td>75.32</td>\n",
       "    </tr>\n",
       "    <tr>\n",
       "      <th>8</th>\n",
       "      <td>1992</td>\n",
       "      <td>76.94</td>\n",
       "    </tr>\n",
       "    <tr>\n",
       "      <th>9</th>\n",
       "      <td>1997</td>\n",
       "      <td>78.19</td>\n",
       "    </tr>\n",
       "    <tr>\n",
       "      <th>10</th>\n",
       "      <td>2002</td>\n",
       "      <td>79.74</td>\n",
       "    </tr>\n",
       "    <tr>\n",
       "      <th>11</th>\n",
       "      <td>2007</td>\n",
       "      <td>80.72</td>\n",
       "    </tr>\n",
       "  </tbody>\n",
       "</table>\n",
       "</div>"
      ],
      "text/plain": [
       "    year  life_exp\n",
       "0   1952     69.25\n",
       "1   1957     70.30\n",
       "2   1962     71.09\n",
       "3   1967     71.31\n",
       "4   1972     71.91\n",
       "5   1977     72.85\n",
       "6   1982     74.29\n",
       "7   1987     75.32\n",
       "8   1992     76.94\n",
       "9   1997     78.19\n",
       "10  2002     79.74\n",
       "11  2007     80.72"
      ]
     },
     "execution_count": 82,
     "metadata": {},
     "output_type": "execute_result"
    }
   ],
   "source": [
    "df_exp_per_year_oceania = df[df['continent'] == 'Oceania'].groupby('year' , as_index=False)['life_exp'].mean()\n",
    "df_exp_per_year_oceania"
   ]
  },
  {
   "cell_type": "code",
   "execution_count": 83,
   "metadata": {},
   "outputs": [
    {
     "data": {
      "application/vnd.plotly.v1+json": {
       "config": {
        "plotlyServerURL": "https://plot.ly"
       },
       "data": [
        {
         "hovertemplate": "year=%{x}<br>life_exp=%{y}<extra></extra>",
         "legendgroup": "",
         "line": {
          "color": "#636efa",
          "dash": "solid"
         },
         "marker": {
          "symbol": "circle"
         },
         "mode": "lines",
         "name": "",
         "orientation": "v",
         "showlegend": false,
         "type": "scatter",
         "x": [
          1952,
          1957,
          1962,
          1967,
          1972,
          1977,
          1982,
          1987,
          1992,
          1997,
          2002,
          2007
         ],
         "xaxis": "x",
         "y": [
          69.255,
          70.295,
          71.08500000000001,
          71.31,
          71.91,
          72.85499999999999,
          74.28999999999999,
          75.32,
          76.945,
          78.19,
          79.74000000000001,
          80.7195
         ],
         "yaxis": "y"
        }
       ],
       "layout": {
        "legend": {
         "tracegroupgap": 0
        },
        "margin": {
         "t": 60
        },
        "template": {
         "data": {
          "bar": [
           {
            "error_x": {
             "color": "#2a3f5f"
            },
            "error_y": {
             "color": "#2a3f5f"
            },
            "marker": {
             "line": {
              "color": "#E5ECF6",
              "width": 0.5
             },
             "pattern": {
              "fillmode": "overlay",
              "size": 10,
              "solidity": 0.2
             }
            },
            "type": "bar"
           }
          ],
          "barpolar": [
           {
            "marker": {
             "line": {
              "color": "#E5ECF6",
              "width": 0.5
             },
             "pattern": {
              "fillmode": "overlay",
              "size": 10,
              "solidity": 0.2
             }
            },
            "type": "barpolar"
           }
          ],
          "carpet": [
           {
            "aaxis": {
             "endlinecolor": "#2a3f5f",
             "gridcolor": "white",
             "linecolor": "white",
             "minorgridcolor": "white",
             "startlinecolor": "#2a3f5f"
            },
            "baxis": {
             "endlinecolor": "#2a3f5f",
             "gridcolor": "white",
             "linecolor": "white",
             "minorgridcolor": "white",
             "startlinecolor": "#2a3f5f"
            },
            "type": "carpet"
           }
          ],
          "choropleth": [
           {
            "colorbar": {
             "outlinewidth": 0,
             "ticks": ""
            },
            "type": "choropleth"
           }
          ],
          "contour": [
           {
            "colorbar": {
             "outlinewidth": 0,
             "ticks": ""
            },
            "colorscale": [
             [
              0,
              "#0d0887"
             ],
             [
              0.1111111111111111,
              "#46039f"
             ],
             [
              0.2222222222222222,
              "#7201a8"
             ],
             [
              0.3333333333333333,
              "#9c179e"
             ],
             [
              0.4444444444444444,
              "#bd3786"
             ],
             [
              0.5555555555555556,
              "#d8576b"
             ],
             [
              0.6666666666666666,
              "#ed7953"
             ],
             [
              0.7777777777777778,
              "#fb9f3a"
             ],
             [
              0.8888888888888888,
              "#fdca26"
             ],
             [
              1,
              "#f0f921"
             ]
            ],
            "type": "contour"
           }
          ],
          "contourcarpet": [
           {
            "colorbar": {
             "outlinewidth": 0,
             "ticks": ""
            },
            "type": "contourcarpet"
           }
          ],
          "heatmap": [
           {
            "colorbar": {
             "outlinewidth": 0,
             "ticks": ""
            },
            "colorscale": [
             [
              0,
              "#0d0887"
             ],
             [
              0.1111111111111111,
              "#46039f"
             ],
             [
              0.2222222222222222,
              "#7201a8"
             ],
             [
              0.3333333333333333,
              "#9c179e"
             ],
             [
              0.4444444444444444,
              "#bd3786"
             ],
             [
              0.5555555555555556,
              "#d8576b"
             ],
             [
              0.6666666666666666,
              "#ed7953"
             ],
             [
              0.7777777777777778,
              "#fb9f3a"
             ],
             [
              0.8888888888888888,
              "#fdca26"
             ],
             [
              1,
              "#f0f921"
             ]
            ],
            "type": "heatmap"
           }
          ],
          "heatmapgl": [
           {
            "colorbar": {
             "outlinewidth": 0,
             "ticks": ""
            },
            "colorscale": [
             [
              0,
              "#0d0887"
             ],
             [
              0.1111111111111111,
              "#46039f"
             ],
             [
              0.2222222222222222,
              "#7201a8"
             ],
             [
              0.3333333333333333,
              "#9c179e"
             ],
             [
              0.4444444444444444,
              "#bd3786"
             ],
             [
              0.5555555555555556,
              "#d8576b"
             ],
             [
              0.6666666666666666,
              "#ed7953"
             ],
             [
              0.7777777777777778,
              "#fb9f3a"
             ],
             [
              0.8888888888888888,
              "#fdca26"
             ],
             [
              1,
              "#f0f921"
             ]
            ],
            "type": "heatmapgl"
           }
          ],
          "histogram": [
           {
            "marker": {
             "pattern": {
              "fillmode": "overlay",
              "size": 10,
              "solidity": 0.2
             }
            },
            "type": "histogram"
           }
          ],
          "histogram2d": [
           {
            "colorbar": {
             "outlinewidth": 0,
             "ticks": ""
            },
            "colorscale": [
             [
              0,
              "#0d0887"
             ],
             [
              0.1111111111111111,
              "#46039f"
             ],
             [
              0.2222222222222222,
              "#7201a8"
             ],
             [
              0.3333333333333333,
              "#9c179e"
             ],
             [
              0.4444444444444444,
              "#bd3786"
             ],
             [
              0.5555555555555556,
              "#d8576b"
             ],
             [
              0.6666666666666666,
              "#ed7953"
             ],
             [
              0.7777777777777778,
              "#fb9f3a"
             ],
             [
              0.8888888888888888,
              "#fdca26"
             ],
             [
              1,
              "#f0f921"
             ]
            ],
            "type": "histogram2d"
           }
          ],
          "histogram2dcontour": [
           {
            "colorbar": {
             "outlinewidth": 0,
             "ticks": ""
            },
            "colorscale": [
             [
              0,
              "#0d0887"
             ],
             [
              0.1111111111111111,
              "#46039f"
             ],
             [
              0.2222222222222222,
              "#7201a8"
             ],
             [
              0.3333333333333333,
              "#9c179e"
             ],
             [
              0.4444444444444444,
              "#bd3786"
             ],
             [
              0.5555555555555556,
              "#d8576b"
             ],
             [
              0.6666666666666666,
              "#ed7953"
             ],
             [
              0.7777777777777778,
              "#fb9f3a"
             ],
             [
              0.8888888888888888,
              "#fdca26"
             ],
             [
              1,
              "#f0f921"
             ]
            ],
            "type": "histogram2dcontour"
           }
          ],
          "mesh3d": [
           {
            "colorbar": {
             "outlinewidth": 0,
             "ticks": ""
            },
            "type": "mesh3d"
           }
          ],
          "parcoords": [
           {
            "line": {
             "colorbar": {
              "outlinewidth": 0,
              "ticks": ""
             }
            },
            "type": "parcoords"
           }
          ],
          "pie": [
           {
            "automargin": true,
            "type": "pie"
           }
          ],
          "scatter": [
           {
            "fillpattern": {
             "fillmode": "overlay",
             "size": 10,
             "solidity": 0.2
            },
            "type": "scatter"
           }
          ],
          "scatter3d": [
           {
            "line": {
             "colorbar": {
              "outlinewidth": 0,
              "ticks": ""
             }
            },
            "marker": {
             "colorbar": {
              "outlinewidth": 0,
              "ticks": ""
             }
            },
            "type": "scatter3d"
           }
          ],
          "scattercarpet": [
           {
            "marker": {
             "colorbar": {
              "outlinewidth": 0,
              "ticks": ""
             }
            },
            "type": "scattercarpet"
           }
          ],
          "scattergeo": [
           {
            "marker": {
             "colorbar": {
              "outlinewidth": 0,
              "ticks": ""
             }
            },
            "type": "scattergeo"
           }
          ],
          "scattergl": [
           {
            "marker": {
             "colorbar": {
              "outlinewidth": 0,
              "ticks": ""
             }
            },
            "type": "scattergl"
           }
          ],
          "scattermapbox": [
           {
            "marker": {
             "colorbar": {
              "outlinewidth": 0,
              "ticks": ""
             }
            },
            "type": "scattermapbox"
           }
          ],
          "scatterpolar": [
           {
            "marker": {
             "colorbar": {
              "outlinewidth": 0,
              "ticks": ""
             }
            },
            "type": "scatterpolar"
           }
          ],
          "scatterpolargl": [
           {
            "marker": {
             "colorbar": {
              "outlinewidth": 0,
              "ticks": ""
             }
            },
            "type": "scatterpolargl"
           }
          ],
          "scatterternary": [
           {
            "marker": {
             "colorbar": {
              "outlinewidth": 0,
              "ticks": ""
             }
            },
            "type": "scatterternary"
           }
          ],
          "surface": [
           {
            "colorbar": {
             "outlinewidth": 0,
             "ticks": ""
            },
            "colorscale": [
             [
              0,
              "#0d0887"
             ],
             [
              0.1111111111111111,
              "#46039f"
             ],
             [
              0.2222222222222222,
              "#7201a8"
             ],
             [
              0.3333333333333333,
              "#9c179e"
             ],
             [
              0.4444444444444444,
              "#bd3786"
             ],
             [
              0.5555555555555556,
              "#d8576b"
             ],
             [
              0.6666666666666666,
              "#ed7953"
             ],
             [
              0.7777777777777778,
              "#fb9f3a"
             ],
             [
              0.8888888888888888,
              "#fdca26"
             ],
             [
              1,
              "#f0f921"
             ]
            ],
            "type": "surface"
           }
          ],
          "table": [
           {
            "cells": {
             "fill": {
              "color": "#EBF0F8"
             },
             "line": {
              "color": "white"
             }
            },
            "header": {
             "fill": {
              "color": "#C8D4E3"
             },
             "line": {
              "color": "white"
             }
            },
            "type": "table"
           }
          ]
         },
         "layout": {
          "annotationdefaults": {
           "arrowcolor": "#2a3f5f",
           "arrowhead": 0,
           "arrowwidth": 1
          },
          "autotypenumbers": "strict",
          "coloraxis": {
           "colorbar": {
            "outlinewidth": 0,
            "ticks": ""
           }
          },
          "colorscale": {
           "diverging": [
            [
             0,
             "#8e0152"
            ],
            [
             0.1,
             "#c51b7d"
            ],
            [
             0.2,
             "#de77ae"
            ],
            [
             0.3,
             "#f1b6da"
            ],
            [
             0.4,
             "#fde0ef"
            ],
            [
             0.5,
             "#f7f7f7"
            ],
            [
             0.6,
             "#e6f5d0"
            ],
            [
             0.7,
             "#b8e186"
            ],
            [
             0.8,
             "#7fbc41"
            ],
            [
             0.9,
             "#4d9221"
            ],
            [
             1,
             "#276419"
            ]
           ],
           "sequential": [
            [
             0,
             "#0d0887"
            ],
            [
             0.1111111111111111,
             "#46039f"
            ],
            [
             0.2222222222222222,
             "#7201a8"
            ],
            [
             0.3333333333333333,
             "#9c179e"
            ],
            [
             0.4444444444444444,
             "#bd3786"
            ],
            [
             0.5555555555555556,
             "#d8576b"
            ],
            [
             0.6666666666666666,
             "#ed7953"
            ],
            [
             0.7777777777777778,
             "#fb9f3a"
            ],
            [
             0.8888888888888888,
             "#fdca26"
            ],
            [
             1,
             "#f0f921"
            ]
           ],
           "sequentialminus": [
            [
             0,
             "#0d0887"
            ],
            [
             0.1111111111111111,
             "#46039f"
            ],
            [
             0.2222222222222222,
             "#7201a8"
            ],
            [
             0.3333333333333333,
             "#9c179e"
            ],
            [
             0.4444444444444444,
             "#bd3786"
            ],
            [
             0.5555555555555556,
             "#d8576b"
            ],
            [
             0.6666666666666666,
             "#ed7953"
            ],
            [
             0.7777777777777778,
             "#fb9f3a"
            ],
            [
             0.8888888888888888,
             "#fdca26"
            ],
            [
             1,
             "#f0f921"
            ]
           ]
          },
          "colorway": [
           "#636efa",
           "#EF553B",
           "#00cc96",
           "#ab63fa",
           "#FFA15A",
           "#19d3f3",
           "#FF6692",
           "#B6E880",
           "#FF97FF",
           "#FECB52"
          ],
          "font": {
           "color": "#2a3f5f"
          },
          "geo": {
           "bgcolor": "white",
           "lakecolor": "white",
           "landcolor": "#E5ECF6",
           "showlakes": true,
           "showland": true,
           "subunitcolor": "white"
          },
          "hoverlabel": {
           "align": "left"
          },
          "hovermode": "closest",
          "mapbox": {
           "style": "light"
          },
          "paper_bgcolor": "white",
          "plot_bgcolor": "#E5ECF6",
          "polar": {
           "angularaxis": {
            "gridcolor": "white",
            "linecolor": "white",
            "ticks": ""
           },
           "bgcolor": "#E5ECF6",
           "radialaxis": {
            "gridcolor": "white",
            "linecolor": "white",
            "ticks": ""
           }
          },
          "scene": {
           "xaxis": {
            "backgroundcolor": "#E5ECF6",
            "gridcolor": "white",
            "gridwidth": 2,
            "linecolor": "white",
            "showbackground": true,
            "ticks": "",
            "zerolinecolor": "white"
           },
           "yaxis": {
            "backgroundcolor": "#E5ECF6",
            "gridcolor": "white",
            "gridwidth": 2,
            "linecolor": "white",
            "showbackground": true,
            "ticks": "",
            "zerolinecolor": "white"
           },
           "zaxis": {
            "backgroundcolor": "#E5ECF6",
            "gridcolor": "white",
            "gridwidth": 2,
            "linecolor": "white",
            "showbackground": true,
            "ticks": "",
            "zerolinecolor": "white"
           }
          },
          "shapedefaults": {
           "line": {
            "color": "#2a3f5f"
           }
          },
          "ternary": {
           "aaxis": {
            "gridcolor": "white",
            "linecolor": "white",
            "ticks": ""
           },
           "baxis": {
            "gridcolor": "white",
            "linecolor": "white",
            "ticks": ""
           },
           "bgcolor": "#E5ECF6",
           "caxis": {
            "gridcolor": "white",
            "linecolor": "white",
            "ticks": ""
           }
          },
          "title": {
           "x": 0.05
          },
          "xaxis": {
           "automargin": true,
           "gridcolor": "white",
           "linecolor": "white",
           "ticks": "",
           "title": {
            "standoff": 15
           },
           "zerolinecolor": "white",
           "zerolinewidth": 2
          },
          "yaxis": {
           "automargin": true,
           "gridcolor": "white",
           "linecolor": "white",
           "ticks": "",
           "title": {
            "standoff": 15
           },
           "zerolinecolor": "white",
           "zerolinewidth": 2
          }
         }
        },
        "xaxis": {
         "anchor": "y",
         "domain": [
          0,
          1
         ],
         "title": {
          "text": "year"
         }
        },
        "yaxis": {
         "anchor": "x",
         "domain": [
          0,
          1
         ],
         "title": {
          "text": "life_exp"
         }
        }
       }
      }
     },
     "metadata": {},
     "output_type": "display_data"
    }
   ],
   "source": [
    "px.line(data_frame=df_exp_per_year_oceania , x='year' , y='life_exp')"
   ]
  },
  {
   "cell_type": "markdown",
   "metadata": {},
   "source": [
    "### Visualising the average of life exp for each country"
   ]
  },
  {
   "cell_type": "code",
   "execution_count": 84,
   "metadata": {},
   "outputs": [
    {
     "data": {
      "text/html": [
       "<div>\n",
       "<style scoped>\n",
       "    .dataframe tbody tr th:only-of-type {\n",
       "        vertical-align: middle;\n",
       "    }\n",
       "\n",
       "    .dataframe tbody tr th {\n",
       "        vertical-align: top;\n",
       "    }\n",
       "\n",
       "    .dataframe thead th {\n",
       "        text-align: right;\n",
       "    }\n",
       "</style>\n",
       "<table border=\"1\" class=\"dataframe\">\n",
       "  <thead>\n",
       "    <tr style=\"text-align: right;\">\n",
       "      <th></th>\n",
       "      <th>country</th>\n",
       "      <th>life_exp</th>\n",
       "    </tr>\n",
       "  </thead>\n",
       "  <tbody>\n",
       "    <tr>\n",
       "      <th>0</th>\n",
       "      <td>Afghanistan</td>\n",
       "      <td>37.48</td>\n",
       "    </tr>\n",
       "    <tr>\n",
       "      <th>1</th>\n",
       "      <td>Albania</td>\n",
       "      <td>68.43</td>\n",
       "    </tr>\n",
       "    <tr>\n",
       "      <th>2</th>\n",
       "      <td>Algeria</td>\n",
       "      <td>59.03</td>\n",
       "    </tr>\n",
       "    <tr>\n",
       "      <th>3</th>\n",
       "      <td>Angola</td>\n",
       "      <td>37.88</td>\n",
       "    </tr>\n",
       "    <tr>\n",
       "      <th>4</th>\n",
       "      <td>Argentina</td>\n",
       "      <td>69.06</td>\n",
       "    </tr>\n",
       "    <tr>\n",
       "      <th>5</th>\n",
       "      <td>Australia</td>\n",
       "      <td>74.66</td>\n",
       "    </tr>\n",
       "    <tr>\n",
       "      <th>6</th>\n",
       "      <td>Austria</td>\n",
       "      <td>73.10</td>\n",
       "    </tr>\n",
       "    <tr>\n",
       "      <th>7</th>\n",
       "      <td>Bahrain</td>\n",
       "      <td>65.61</td>\n",
       "    </tr>\n",
       "    <tr>\n",
       "      <th>8</th>\n",
       "      <td>Bangladesh</td>\n",
       "      <td>49.83</td>\n",
       "    </tr>\n",
       "    <tr>\n",
       "      <th>9</th>\n",
       "      <td>Belgium</td>\n",
       "      <td>73.64</td>\n",
       "    </tr>\n",
       "    <tr>\n",
       "      <th>10</th>\n",
       "      <td>Benin</td>\n",
       "      <td>48.78</td>\n",
       "    </tr>\n",
       "    <tr>\n",
       "      <th>11</th>\n",
       "      <td>Bolivia</td>\n",
       "      <td>52.50</td>\n",
       "    </tr>\n",
       "    <tr>\n",
       "      <th>12</th>\n",
       "      <td>Bosnia and Herzegovina</td>\n",
       "      <td>67.71</td>\n",
       "    </tr>\n",
       "    <tr>\n",
       "      <th>13</th>\n",
       "      <td>Botswana</td>\n",
       "      <td>54.60</td>\n",
       "    </tr>\n",
       "    <tr>\n",
       "      <th>14</th>\n",
       "      <td>Brazil</td>\n",
       "      <td>62.24</td>\n",
       "    </tr>\n",
       "    <tr>\n",
       "      <th>15</th>\n",
       "      <td>Bulgaria</td>\n",
       "      <td>69.74</td>\n",
       "    </tr>\n",
       "    <tr>\n",
       "      <th>16</th>\n",
       "      <td>Burkina Faso</td>\n",
       "      <td>44.69</td>\n",
       "    </tr>\n",
       "    <tr>\n",
       "      <th>17</th>\n",
       "      <td>Burundi</td>\n",
       "      <td>44.82</td>\n",
       "    </tr>\n",
       "    <tr>\n",
       "      <th>18</th>\n",
       "      <td>Cambodia</td>\n",
       "      <td>47.90</td>\n",
       "    </tr>\n",
       "    <tr>\n",
       "      <th>19</th>\n",
       "      <td>Cameroon</td>\n",
       "      <td>48.13</td>\n",
       "    </tr>\n",
       "    <tr>\n",
       "      <th>20</th>\n",
       "      <td>Canada</td>\n",
       "      <td>74.90</td>\n",
       "    </tr>\n",
       "    <tr>\n",
       "      <th>21</th>\n",
       "      <td>Central African Republic</td>\n",
       "      <td>43.87</td>\n",
       "    </tr>\n",
       "    <tr>\n",
       "      <th>22</th>\n",
       "      <td>Chad</td>\n",
       "      <td>46.77</td>\n",
       "    </tr>\n",
       "    <tr>\n",
       "      <th>23</th>\n",
       "      <td>Chile</td>\n",
       "      <td>67.43</td>\n",
       "    </tr>\n",
       "    <tr>\n",
       "      <th>24</th>\n",
       "      <td>China</td>\n",
       "      <td>61.79</td>\n",
       "    </tr>\n",
       "    <tr>\n",
       "      <th>25</th>\n",
       "      <td>Colombia</td>\n",
       "      <td>63.90</td>\n",
       "    </tr>\n",
       "    <tr>\n",
       "      <th>26</th>\n",
       "      <td>Comoros</td>\n",
       "      <td>52.38</td>\n",
       "    </tr>\n",
       "    <tr>\n",
       "      <th>27</th>\n",
       "      <td>Congo, Dem. Rep.</td>\n",
       "      <td>44.54</td>\n",
       "    </tr>\n",
       "    <tr>\n",
       "      <th>28</th>\n",
       "      <td>Congo, Rep.</td>\n",
       "      <td>52.50</td>\n",
       "    </tr>\n",
       "    <tr>\n",
       "      <th>29</th>\n",
       "      <td>Costa Rica</td>\n",
       "      <td>70.18</td>\n",
       "    </tr>\n",
       "    <tr>\n",
       "      <th>30</th>\n",
       "      <td>Cote d'Ivoire</td>\n",
       "      <td>48.44</td>\n",
       "    </tr>\n",
       "    <tr>\n",
       "      <th>31</th>\n",
       "      <td>Croatia</td>\n",
       "      <td>70.06</td>\n",
       "    </tr>\n",
       "    <tr>\n",
       "      <th>32</th>\n",
       "      <td>Cuba</td>\n",
       "      <td>71.05</td>\n",
       "    </tr>\n",
       "    <tr>\n",
       "      <th>33</th>\n",
       "      <td>Czech Republic</td>\n",
       "      <td>71.51</td>\n",
       "    </tr>\n",
       "    <tr>\n",
       "      <th>34</th>\n",
       "      <td>Denmark</td>\n",
       "      <td>74.37</td>\n",
       "    </tr>\n",
       "    <tr>\n",
       "      <th>35</th>\n",
       "      <td>Djibouti</td>\n",
       "      <td>46.38</td>\n",
       "    </tr>\n",
       "    <tr>\n",
       "      <th>36</th>\n",
       "      <td>Dominican Republic</td>\n",
       "      <td>61.55</td>\n",
       "    </tr>\n",
       "    <tr>\n",
       "      <th>37</th>\n",
       "      <td>Ecuador</td>\n",
       "      <td>62.82</td>\n",
       "    </tr>\n",
       "    <tr>\n",
       "      <th>38</th>\n",
       "      <td>Egypt</td>\n",
       "      <td>56.24</td>\n",
       "    </tr>\n",
       "    <tr>\n",
       "      <th>39</th>\n",
       "      <td>El Salvador</td>\n",
       "      <td>59.63</td>\n",
       "    </tr>\n",
       "    <tr>\n",
       "      <th>40</th>\n",
       "      <td>Equatorial Guinea</td>\n",
       "      <td>42.96</td>\n",
       "    </tr>\n",
       "    <tr>\n",
       "      <th>41</th>\n",
       "      <td>Eritrea</td>\n",
       "      <td>46.00</td>\n",
       "    </tr>\n",
       "    <tr>\n",
       "      <th>42</th>\n",
       "      <td>Ethiopia</td>\n",
       "      <td>44.48</td>\n",
       "    </tr>\n",
       "    <tr>\n",
       "      <th>43</th>\n",
       "      <td>Finland</td>\n",
       "      <td>72.99</td>\n",
       "    </tr>\n",
       "    <tr>\n",
       "      <th>44</th>\n",
       "      <td>France</td>\n",
       "      <td>74.35</td>\n",
       "    </tr>\n",
       "    <tr>\n",
       "      <th>45</th>\n",
       "      <td>Gabon</td>\n",
       "      <td>51.22</td>\n",
       "    </tr>\n",
       "    <tr>\n",
       "      <th>46</th>\n",
       "      <td>Gambia</td>\n",
       "      <td>44.40</td>\n",
       "    </tr>\n",
       "    <tr>\n",
       "      <th>47</th>\n",
       "      <td>Germany</td>\n",
       "      <td>73.44</td>\n",
       "    </tr>\n",
       "    <tr>\n",
       "      <th>48</th>\n",
       "      <td>Ghana</td>\n",
       "      <td>52.34</td>\n",
       "    </tr>\n",
       "    <tr>\n",
       "      <th>49</th>\n",
       "      <td>Greece</td>\n",
       "      <td>73.73</td>\n",
       "    </tr>\n",
       "    <tr>\n",
       "      <th>50</th>\n",
       "      <td>Guatemala</td>\n",
       "      <td>56.73</td>\n",
       "    </tr>\n",
       "    <tr>\n",
       "      <th>51</th>\n",
       "      <td>Guinea</td>\n",
       "      <td>43.24</td>\n",
       "    </tr>\n",
       "    <tr>\n",
       "      <th>52</th>\n",
       "      <td>Guinea-Bissau</td>\n",
       "      <td>39.21</td>\n",
       "    </tr>\n",
       "    <tr>\n",
       "      <th>53</th>\n",
       "      <td>Haiti</td>\n",
       "      <td>50.17</td>\n",
       "    </tr>\n",
       "    <tr>\n",
       "      <th>54</th>\n",
       "      <td>Honduras</td>\n",
       "      <td>57.92</td>\n",
       "    </tr>\n",
       "    <tr>\n",
       "      <th>55</th>\n",
       "      <td>Hong Kong, China</td>\n",
       "      <td>73.49</td>\n",
       "    </tr>\n",
       "    <tr>\n",
       "      <th>56</th>\n",
       "      <td>Hungary</td>\n",
       "      <td>69.39</td>\n",
       "    </tr>\n",
       "    <tr>\n",
       "      <th>57</th>\n",
       "      <td>Iceland</td>\n",
       "      <td>76.51</td>\n",
       "    </tr>\n",
       "    <tr>\n",
       "      <th>58</th>\n",
       "      <td>India</td>\n",
       "      <td>53.17</td>\n",
       "    </tr>\n",
       "    <tr>\n",
       "      <th>59</th>\n",
       "      <td>Indonesia</td>\n",
       "      <td>54.34</td>\n",
       "    </tr>\n",
       "    <tr>\n",
       "      <th>60</th>\n",
       "      <td>Iran</td>\n",
       "      <td>58.64</td>\n",
       "    </tr>\n",
       "    <tr>\n",
       "      <th>61</th>\n",
       "      <td>Iraq</td>\n",
       "      <td>56.58</td>\n",
       "    </tr>\n",
       "    <tr>\n",
       "      <th>62</th>\n",
       "      <td>Ireland</td>\n",
       "      <td>73.02</td>\n",
       "    </tr>\n",
       "    <tr>\n",
       "      <th>63</th>\n",
       "      <td>Italy</td>\n",
       "      <td>74.01</td>\n",
       "    </tr>\n",
       "    <tr>\n",
       "      <th>64</th>\n",
       "      <td>Jamaica</td>\n",
       "      <td>68.75</td>\n",
       "    </tr>\n",
       "    <tr>\n",
       "      <th>65</th>\n",
       "      <td>Japan</td>\n",
       "      <td>74.83</td>\n",
       "    </tr>\n",
       "    <tr>\n",
       "      <th>66</th>\n",
       "      <td>Jordan</td>\n",
       "      <td>59.79</td>\n",
       "    </tr>\n",
       "    <tr>\n",
       "      <th>67</th>\n",
       "      <td>Kenya</td>\n",
       "      <td>52.68</td>\n",
       "    </tr>\n",
       "    <tr>\n",
       "      <th>68</th>\n",
       "      <td>Korea, Dem. Rep.</td>\n",
       "      <td>63.61</td>\n",
       "    </tr>\n",
       "    <tr>\n",
       "      <th>69</th>\n",
       "      <td>Korea, Rep.</td>\n",
       "      <td>65.00</td>\n",
       "    </tr>\n",
       "    <tr>\n",
       "      <th>70</th>\n",
       "      <td>Kuwait</td>\n",
       "      <td>68.92</td>\n",
       "    </tr>\n",
       "    <tr>\n",
       "      <th>71</th>\n",
       "      <td>Lebanon</td>\n",
       "      <td>65.87</td>\n",
       "    </tr>\n",
       "    <tr>\n",
       "      <th>72</th>\n",
       "      <td>Lesotho</td>\n",
       "      <td>50.01</td>\n",
       "    </tr>\n",
       "    <tr>\n",
       "      <th>73</th>\n",
       "      <td>Liberia</td>\n",
       "      <td>42.48</td>\n",
       "    </tr>\n",
       "    <tr>\n",
       "      <th>74</th>\n",
       "      <td>Libya</td>\n",
       "      <td>59.30</td>\n",
       "    </tr>\n",
       "    <tr>\n",
       "      <th>75</th>\n",
       "      <td>Madagascar</td>\n",
       "      <td>47.77</td>\n",
       "    </tr>\n",
       "    <tr>\n",
       "      <th>76</th>\n",
       "      <td>Malawi</td>\n",
       "      <td>43.35</td>\n",
       "    </tr>\n",
       "    <tr>\n",
       "      <th>77</th>\n",
       "      <td>Malaysia</td>\n",
       "      <td>64.28</td>\n",
       "    </tr>\n",
       "    <tr>\n",
       "      <th>78</th>\n",
       "      <td>Mali</td>\n",
       "      <td>43.41</td>\n",
       "    </tr>\n",
       "    <tr>\n",
       "      <th>79</th>\n",
       "      <td>Mauritania</td>\n",
       "      <td>52.30</td>\n",
       "    </tr>\n",
       "    <tr>\n",
       "      <th>80</th>\n",
       "      <td>Mauritius</td>\n",
       "      <td>64.95</td>\n",
       "    </tr>\n",
       "    <tr>\n",
       "      <th>81</th>\n",
       "      <td>Mexico</td>\n",
       "      <td>65.41</td>\n",
       "    </tr>\n",
       "    <tr>\n",
       "      <th>82</th>\n",
       "      <td>Mongolia</td>\n",
       "      <td>55.89</td>\n",
       "    </tr>\n",
       "    <tr>\n",
       "      <th>83</th>\n",
       "      <td>Montenegro</td>\n",
       "      <td>70.30</td>\n",
       "    </tr>\n",
       "    <tr>\n",
       "      <th>84</th>\n",
       "      <td>Morocco</td>\n",
       "      <td>57.61</td>\n",
       "    </tr>\n",
       "    <tr>\n",
       "      <th>85</th>\n",
       "      <td>Mozambique</td>\n",
       "      <td>40.38</td>\n",
       "    </tr>\n",
       "    <tr>\n",
       "      <th>86</th>\n",
       "      <td>Myanmar</td>\n",
       "      <td>53.32</td>\n",
       "    </tr>\n",
       "    <tr>\n",
       "      <th>87</th>\n",
       "      <td>Namibia</td>\n",
       "      <td>53.49</td>\n",
       "    </tr>\n",
       "    <tr>\n",
       "      <th>88</th>\n",
       "      <td>Nepal</td>\n",
       "      <td>48.99</td>\n",
       "    </tr>\n",
       "    <tr>\n",
       "      <th>89</th>\n",
       "      <td>Netherlands</td>\n",
       "      <td>75.65</td>\n",
       "    </tr>\n",
       "    <tr>\n",
       "      <th>90</th>\n",
       "      <td>New Zealand</td>\n",
       "      <td>73.99</td>\n",
       "    </tr>\n",
       "    <tr>\n",
       "      <th>91</th>\n",
       "      <td>Nicaragua</td>\n",
       "      <td>58.35</td>\n",
       "    </tr>\n",
       "    <tr>\n",
       "      <th>92</th>\n",
       "      <td>Niger</td>\n",
       "      <td>44.56</td>\n",
       "    </tr>\n",
       "    <tr>\n",
       "      <th>93</th>\n",
       "      <td>Nigeria</td>\n",
       "      <td>43.58</td>\n",
       "    </tr>\n",
       "    <tr>\n",
       "      <th>94</th>\n",
       "      <td>Norway</td>\n",
       "      <td>75.84</td>\n",
       "    </tr>\n",
       "    <tr>\n",
       "      <th>95</th>\n",
       "      <td>Oman</td>\n",
       "      <td>58.44</td>\n",
       "    </tr>\n",
       "    <tr>\n",
       "      <th>96</th>\n",
       "      <td>Pakistan</td>\n",
       "      <td>54.88</td>\n",
       "    </tr>\n",
       "    <tr>\n",
       "      <th>97</th>\n",
       "      <td>Panama</td>\n",
       "      <td>67.80</td>\n",
       "    </tr>\n",
       "    <tr>\n",
       "      <th>98</th>\n",
       "      <td>Paraguay</td>\n",
       "      <td>66.81</td>\n",
       "    </tr>\n",
       "    <tr>\n",
       "      <th>99</th>\n",
       "      <td>Peru</td>\n",
       "      <td>58.86</td>\n",
       "    </tr>\n",
       "    <tr>\n",
       "      <th>100</th>\n",
       "      <td>Philippines</td>\n",
       "      <td>60.97</td>\n",
       "    </tr>\n",
       "    <tr>\n",
       "      <th>101</th>\n",
       "      <td>Poland</td>\n",
       "      <td>70.18</td>\n",
       "    </tr>\n",
       "    <tr>\n",
       "      <th>102</th>\n",
       "      <td>Portugal</td>\n",
       "      <td>70.42</td>\n",
       "    </tr>\n",
       "    <tr>\n",
       "      <th>103</th>\n",
       "      <td>Puerto Rico</td>\n",
       "      <td>72.74</td>\n",
       "    </tr>\n",
       "    <tr>\n",
       "      <th>104</th>\n",
       "      <td>Reunion</td>\n",
       "      <td>66.64</td>\n",
       "    </tr>\n",
       "    <tr>\n",
       "      <th>105</th>\n",
       "      <td>Romania</td>\n",
       "      <td>68.29</td>\n",
       "    </tr>\n",
       "    <tr>\n",
       "      <th>106</th>\n",
       "      <td>Rwanda</td>\n",
       "      <td>41.48</td>\n",
       "    </tr>\n",
       "    <tr>\n",
       "      <th>107</th>\n",
       "      <td>Sao Tome and Principe</td>\n",
       "      <td>57.90</td>\n",
       "    </tr>\n",
       "    <tr>\n",
       "      <th>108</th>\n",
       "      <td>Saudi Arabia</td>\n",
       "      <td>58.68</td>\n",
       "    </tr>\n",
       "    <tr>\n",
       "      <th>109</th>\n",
       "      <td>Senegal</td>\n",
       "      <td>50.63</td>\n",
       "    </tr>\n",
       "    <tr>\n",
       "      <th>110</th>\n",
       "      <td>Serbia</td>\n",
       "      <td>68.55</td>\n",
       "    </tr>\n",
       "    <tr>\n",
       "      <th>111</th>\n",
       "      <td>Sierra Leone</td>\n",
       "      <td>36.77</td>\n",
       "    </tr>\n",
       "    <tr>\n",
       "      <th>112</th>\n",
       "      <td>Singapore</td>\n",
       "      <td>71.22</td>\n",
       "    </tr>\n",
       "    <tr>\n",
       "      <th>113</th>\n",
       "      <td>Slovak Republic</td>\n",
       "      <td>70.70</td>\n",
       "    </tr>\n",
       "    <tr>\n",
       "      <th>114</th>\n",
       "      <td>Slovenia</td>\n",
       "      <td>71.60</td>\n",
       "    </tr>\n",
       "    <tr>\n",
       "      <th>115</th>\n",
       "      <td>Somalia</td>\n",
       "      <td>40.99</td>\n",
       "    </tr>\n",
       "    <tr>\n",
       "      <th>116</th>\n",
       "      <td>South Africa</td>\n",
       "      <td>53.99</td>\n",
       "    </tr>\n",
       "    <tr>\n",
       "      <th>117</th>\n",
       "      <td>Spain</td>\n",
       "      <td>74.20</td>\n",
       "    </tr>\n",
       "    <tr>\n",
       "      <th>118</th>\n",
       "      <td>Sri Lanka</td>\n",
       "      <td>66.53</td>\n",
       "    </tr>\n",
       "    <tr>\n",
       "      <th>119</th>\n",
       "      <td>Sudan</td>\n",
       "      <td>48.40</td>\n",
       "    </tr>\n",
       "    <tr>\n",
       "      <th>120</th>\n",
       "      <td>Swaziland</td>\n",
       "      <td>49.00</td>\n",
       "    </tr>\n",
       "    <tr>\n",
       "      <th>121</th>\n",
       "      <td>Sweden</td>\n",
       "      <td>76.18</td>\n",
       "    </tr>\n",
       "    <tr>\n",
       "      <th>122</th>\n",
       "      <td>Switzerland</td>\n",
       "      <td>75.57</td>\n",
       "    </tr>\n",
       "    <tr>\n",
       "      <th>123</th>\n",
       "      <td>Syria</td>\n",
       "      <td>61.35</td>\n",
       "    </tr>\n",
       "    <tr>\n",
       "      <th>124</th>\n",
       "      <td>Taiwan</td>\n",
       "      <td>70.34</td>\n",
       "    </tr>\n",
       "    <tr>\n",
       "      <th>125</th>\n",
       "      <td>Tanzania</td>\n",
       "      <td>47.91</td>\n",
       "    </tr>\n",
       "    <tr>\n",
       "      <th>126</th>\n",
       "      <td>Thailand</td>\n",
       "      <td>62.20</td>\n",
       "    </tr>\n",
       "    <tr>\n",
       "      <th>127</th>\n",
       "      <td>Togo</td>\n",
       "      <td>51.50</td>\n",
       "    </tr>\n",
       "    <tr>\n",
       "      <th>128</th>\n",
       "      <td>Trinidad and Tobago</td>\n",
       "      <td>66.83</td>\n",
       "    </tr>\n",
       "    <tr>\n",
       "      <th>129</th>\n",
       "      <td>Tunisia</td>\n",
       "      <td>60.72</td>\n",
       "    </tr>\n",
       "    <tr>\n",
       "      <th>130</th>\n",
       "      <td>Turkey</td>\n",
       "      <td>59.70</td>\n",
       "    </tr>\n",
       "    <tr>\n",
       "      <th>131</th>\n",
       "      <td>Uganda</td>\n",
       "      <td>47.62</td>\n",
       "    </tr>\n",
       "    <tr>\n",
       "      <th>132</th>\n",
       "      <td>United Kingdom</td>\n",
       "      <td>73.92</td>\n",
       "    </tr>\n",
       "    <tr>\n",
       "      <th>133</th>\n",
       "      <td>United States</td>\n",
       "      <td>73.48</td>\n",
       "    </tr>\n",
       "    <tr>\n",
       "      <th>134</th>\n",
       "      <td>Uruguay</td>\n",
       "      <td>70.78</td>\n",
       "    </tr>\n",
       "    <tr>\n",
       "      <th>135</th>\n",
       "      <td>Venezuela</td>\n",
       "      <td>66.58</td>\n",
       "    </tr>\n",
       "    <tr>\n",
       "      <th>136</th>\n",
       "      <td>Vietnam</td>\n",
       "      <td>57.48</td>\n",
       "    </tr>\n",
       "    <tr>\n",
       "      <th>137</th>\n",
       "      <td>West Bank and Gaza</td>\n",
       "      <td>60.33</td>\n",
       "    </tr>\n",
       "    <tr>\n",
       "      <th>138</th>\n",
       "      <td>Yemen, Rep.</td>\n",
       "      <td>46.78</td>\n",
       "    </tr>\n",
       "    <tr>\n",
       "      <th>139</th>\n",
       "      <td>Zambia</td>\n",
       "      <td>46.00</td>\n",
       "    </tr>\n",
       "    <tr>\n",
       "      <th>140</th>\n",
       "      <td>Zimbabwe</td>\n",
       "      <td>52.66</td>\n",
       "    </tr>\n",
       "  </tbody>\n",
       "</table>\n",
       "</div>"
      ],
      "text/plain": [
       "                      country  life_exp\n",
       "0                 Afghanistan     37.48\n",
       "1                     Albania     68.43\n",
       "2                     Algeria     59.03\n",
       "3                      Angola     37.88\n",
       "4                   Argentina     69.06\n",
       "5                   Australia     74.66\n",
       "6                     Austria     73.10\n",
       "7                     Bahrain     65.61\n",
       "8                  Bangladesh     49.83\n",
       "9                     Belgium     73.64\n",
       "10                      Benin     48.78\n",
       "11                    Bolivia     52.50\n",
       "12     Bosnia and Herzegovina     67.71\n",
       "13                   Botswana     54.60\n",
       "14                     Brazil     62.24\n",
       "15                   Bulgaria     69.74\n",
       "16               Burkina Faso     44.69\n",
       "17                    Burundi     44.82\n",
       "18                   Cambodia     47.90\n",
       "19                   Cameroon     48.13\n",
       "20                     Canada     74.90\n",
       "21   Central African Republic     43.87\n",
       "22                       Chad     46.77\n",
       "23                      Chile     67.43\n",
       "24                      China     61.79\n",
       "25                   Colombia     63.90\n",
       "26                    Comoros     52.38\n",
       "27           Congo, Dem. Rep.     44.54\n",
       "28                Congo, Rep.     52.50\n",
       "29                 Costa Rica     70.18\n",
       "30              Cote d'Ivoire     48.44\n",
       "31                    Croatia     70.06\n",
       "32                       Cuba     71.05\n",
       "33             Czech Republic     71.51\n",
       "34                    Denmark     74.37\n",
       "35                   Djibouti     46.38\n",
       "36         Dominican Republic     61.55\n",
       "37                    Ecuador     62.82\n",
       "38                      Egypt     56.24\n",
       "39                El Salvador     59.63\n",
       "40          Equatorial Guinea     42.96\n",
       "41                    Eritrea     46.00\n",
       "42                   Ethiopia     44.48\n",
       "43                    Finland     72.99\n",
       "44                     France     74.35\n",
       "45                      Gabon     51.22\n",
       "46                     Gambia     44.40\n",
       "47                    Germany     73.44\n",
       "48                      Ghana     52.34\n",
       "49                     Greece     73.73\n",
       "50                  Guatemala     56.73\n",
       "51                     Guinea     43.24\n",
       "52              Guinea-Bissau     39.21\n",
       "53                      Haiti     50.17\n",
       "54                   Honduras     57.92\n",
       "55           Hong Kong, China     73.49\n",
       "56                    Hungary     69.39\n",
       "57                    Iceland     76.51\n",
       "58                      India     53.17\n",
       "59                  Indonesia     54.34\n",
       "60                       Iran     58.64\n",
       "61                       Iraq     56.58\n",
       "62                    Ireland     73.02\n",
       "63                      Italy     74.01\n",
       "64                    Jamaica     68.75\n",
       "65                      Japan     74.83\n",
       "66                     Jordan     59.79\n",
       "67                      Kenya     52.68\n",
       "68           Korea, Dem. Rep.     63.61\n",
       "69                Korea, Rep.     65.00\n",
       "70                     Kuwait     68.92\n",
       "71                    Lebanon     65.87\n",
       "72                    Lesotho     50.01\n",
       "73                    Liberia     42.48\n",
       "74                      Libya     59.30\n",
       "75                 Madagascar     47.77\n",
       "76                     Malawi     43.35\n",
       "77                   Malaysia     64.28\n",
       "78                       Mali     43.41\n",
       "79                 Mauritania     52.30\n",
       "80                  Mauritius     64.95\n",
       "81                     Mexico     65.41\n",
       "82                   Mongolia     55.89\n",
       "83                 Montenegro     70.30\n",
       "84                    Morocco     57.61\n",
       "85                 Mozambique     40.38\n",
       "86                    Myanmar     53.32\n",
       "87                    Namibia     53.49\n",
       "88                      Nepal     48.99\n",
       "89                Netherlands     75.65\n",
       "90                New Zealand     73.99\n",
       "91                  Nicaragua     58.35\n",
       "92                      Niger     44.56\n",
       "93                    Nigeria     43.58\n",
       "94                     Norway     75.84\n",
       "95                       Oman     58.44\n",
       "96                   Pakistan     54.88\n",
       "97                     Panama     67.80\n",
       "98                   Paraguay     66.81\n",
       "99                       Peru     58.86\n",
       "100               Philippines     60.97\n",
       "101                    Poland     70.18\n",
       "102                  Portugal     70.42\n",
       "103               Puerto Rico     72.74\n",
       "104                   Reunion     66.64\n",
       "105                   Romania     68.29\n",
       "106                    Rwanda     41.48\n",
       "107     Sao Tome and Principe     57.90\n",
       "108              Saudi Arabia     58.68\n",
       "109                   Senegal     50.63\n",
       "110                    Serbia     68.55\n",
       "111              Sierra Leone     36.77\n",
       "112                 Singapore     71.22\n",
       "113           Slovak Republic     70.70\n",
       "114                  Slovenia     71.60\n",
       "115                   Somalia     40.99\n",
       "116              South Africa     53.99\n",
       "117                     Spain     74.20\n",
       "118                 Sri Lanka     66.53\n",
       "119                     Sudan     48.40\n",
       "120                 Swaziland     49.00\n",
       "121                    Sweden     76.18\n",
       "122               Switzerland     75.57\n",
       "123                     Syria     61.35\n",
       "124                    Taiwan     70.34\n",
       "125                  Tanzania     47.91\n",
       "126                  Thailand     62.20\n",
       "127                      Togo     51.50\n",
       "128       Trinidad and Tobago     66.83\n",
       "129                   Tunisia     60.72\n",
       "130                    Turkey     59.70\n",
       "131                    Uganda     47.62\n",
       "132            United Kingdom     73.92\n",
       "133             United States     73.48\n",
       "134                   Uruguay     70.78\n",
       "135                 Venezuela     66.58\n",
       "136                   Vietnam     57.48\n",
       "137        West Bank and Gaza     60.33\n",
       "138               Yemen, Rep.     46.78\n",
       "139                    Zambia     46.00\n",
       "140                  Zimbabwe     52.66"
      ]
     },
     "execution_count": 84,
     "metadata": {},
     "output_type": "execute_result"
    }
   ],
   "source": [
    "avg_life_exp = df.groupby('country' , as_index=False)['life_exp'].mean()\n",
    "avg_life_exp"
   ]
  },
  {
   "cell_type": "code",
   "execution_count": 85,
   "metadata": {},
   "outputs": [
    {
     "data": {
      "application/vnd.plotly.v1+json": {
       "config": {
        "plotlyServerURL": "https://plot.ly"
       },
       "data": [
        {
         "coloraxis": "coloraxis",
         "geo": "geo",
         "hovertemplate": "country=%{location}<br>life_exp=%{z}<extra></extra>",
         "locationmode": "country names",
         "locations": [
          "Afghanistan",
          "Albania",
          "Algeria",
          "Angola",
          "Argentina",
          "Australia",
          "Austria",
          "Bahrain",
          "Bangladesh",
          "Belgium",
          "Benin",
          "Bolivia",
          "Bosnia and Herzegovina",
          "Botswana",
          "Brazil",
          "Bulgaria",
          "Burkina Faso",
          "Burundi",
          "Cambodia",
          "Cameroon",
          "Canada",
          "Central African Republic",
          "Chad",
          "Chile",
          "China",
          "Colombia",
          "Comoros",
          "Congo, Dem. Rep.",
          "Congo, Rep.",
          "Costa Rica",
          "Cote d'Ivoire",
          "Croatia",
          "Cuba",
          "Czech Republic",
          "Denmark",
          "Djibouti",
          "Dominican Republic",
          "Ecuador",
          "Egypt",
          "El Salvador",
          "Equatorial Guinea",
          "Eritrea",
          "Ethiopia",
          "Finland",
          "France",
          "Gabon",
          "Gambia",
          "Germany",
          "Ghana",
          "Greece",
          "Guatemala",
          "Guinea",
          "Guinea-Bissau",
          "Haiti",
          "Honduras",
          "Hong Kong, China",
          "Hungary",
          "Iceland",
          "India",
          "Indonesia",
          "Iran",
          "Iraq",
          "Ireland",
          "Italy",
          "Jamaica",
          "Japan",
          "Jordan",
          "Kenya",
          "Korea, Dem. Rep.",
          "Korea, Rep.",
          "Kuwait",
          "Lebanon",
          "Lesotho",
          "Liberia",
          "Libya",
          "Madagascar",
          "Malawi",
          "Malaysia",
          "Mali",
          "Mauritania",
          "Mauritius",
          "Mexico",
          "Mongolia",
          "Montenegro",
          "Morocco",
          "Mozambique",
          "Myanmar",
          "Namibia",
          "Nepal",
          "Netherlands",
          "New Zealand",
          "Nicaragua",
          "Niger",
          "Nigeria",
          "Norway",
          "Oman",
          "Pakistan",
          "Panama",
          "Paraguay",
          "Peru",
          "Philippines",
          "Poland",
          "Portugal",
          "Puerto Rico",
          "Reunion",
          "Romania",
          "Rwanda",
          "Sao Tome and Principe",
          "Saudi Arabia",
          "Senegal",
          "Serbia",
          "Sierra Leone",
          "Singapore",
          "Slovak Republic",
          "Slovenia",
          "Somalia",
          "South Africa",
          "Spain",
          "Sri Lanka",
          "Sudan",
          "Swaziland",
          "Sweden",
          "Switzerland",
          "Syria",
          "Taiwan",
          "Tanzania",
          "Thailand",
          "Togo",
          "Trinidad and Tobago",
          "Tunisia",
          "Turkey",
          "Uganda",
          "United Kingdom",
          "United States",
          "Uruguay",
          "Venezuela",
          "Vietnam",
          "West Bank and Gaza",
          "Yemen, Rep.",
          "Zambia",
          "Zimbabwe"
         ],
         "name": "",
         "type": "choropleth",
         "z": [
          37.478833333333334,
          68.43291666666666,
          59.030166666666666,
          37.8835,
          69.06041666666667,
          74.66291666666667,
          73.10325,
          65.60566666666666,
          49.83408333333333,
          73.64175,
          48.77991666666667,
          52.504583333333336,
          67.70783333333334,
          54.5975,
          62.2395,
          69.74374999999999,
          44.693999999999996,
          44.81733333333333,
          47.90275,
          48.1285,
          74.90275,
          43.86691666666667,
          46.773583333333335,
          67.43091666666668,
          61.785140000000006,
          63.89775,
          52.381750000000004,
          44.543749999999996,
          52.501916666666666,
          70.18141666666666,
          48.43616666666667,
          70.05591666666668,
          71.04508333333332,
          71.5105,
          74.37016666666666,
          46.38075,
          61.5545,
          62.816833333333335,
          56.242999999999995,
          59.63333333333333,
          42.96,
          45.999249999999996,
          44.475750000000005,
          72.99191666666667,
          74.34891666666667,
          51.220499999999994,
          44.40058333333334,
          73.44441666666667,
          52.340666666666664,
          73.73316666666666,
          56.72941666666667,
          43.23983333333334,
          39.210249999999995,
          50.16524999999999,
          57.92083333333333,
          73.49283333333334,
          69.39316666666666,
          76.51141666666666,
          53.166083333333326,
          54.33575,
          58.636583333333334,
          56.58175,
          73.01725,
          74.01383333333332,
          68.74933333333333,
          74.82691666666666,
          59.78641666666667,
          52.681000000000004,
          63.60733333333334,
          65.001,
          68.92233333333333,
          65.86566666666667,
          50.007083333333334,
          42.47625,
          59.30416666666667,
          47.77058333333333,
          43.35158333333334,
          64.27958333333333,
          43.4135,
          52.302083333333336,
          64.95325,
          65.40883333333333,
          55.89033333333333,
          70.29916666666666,
          57.60883333333334,
          40.3795,
          53.321666666666665,
          53.49133333333333,
          48.986333333333334,
          75.6485,
          73.9895,
          58.34941666666666,
          44.55866666666666,
          43.58133333333333,
          75.843,
          58.44266666666667,
          54.88225,
          67.80175,
          66.80908333333333,
          58.85933333333333,
          60.96725,
          70.17691666666667,
          70.41983333333333,
          72.73933333333333,
          66.64425,
          68.29066666666667,
          41.48158333333333,
          57.89633333333333,
          58.67875,
          50.62591666666666,
          68.551,
          36.76916666666667,
          71.22025000000001,
          70.69608333333333,
          71.60074999999999,
          40.98866666666667,
          53.99316666666667,
          74.20341666666667,
          66.52608333333333,
          48.4005,
          49.00241666666667,
          76.177,
          75.56508333333333,
          61.34616666666667,
          70.33666666666666,
          47.91233333333333,
          62.200250000000004,
          51.49875,
          66.828,
          60.721000000000004,
          59.696416666666664,
          47.618833333333335,
          73.92258333333334,
          73.4785,
          70.78158333333333,
          66.58066666666667,
          57.4795,
          60.32866666666666,
          46.78041666666667,
          45.99633333333333,
          52.66316666666666
         ]
        }
       ],
       "layout": {
        "coloraxis": {
         "colorbar": {
          "title": {
           "text": "life_exp"
          }
         },
         "colorscale": [
          [
           0,
           "#440154"
          ],
          [
           0.1111111111111111,
           "#482878"
          ],
          [
           0.2222222222222222,
           "#3e4989"
          ],
          [
           0.3333333333333333,
           "#31688e"
          ],
          [
           0.4444444444444444,
           "#26828e"
          ],
          [
           0.5555555555555556,
           "#1f9e89"
          ],
          [
           0.6666666666666666,
           "#35b779"
          ],
          [
           0.7777777777777778,
           "#6ece58"
          ],
          [
           0.8888888888888888,
           "#b5de2b"
          ],
          [
           1,
           "#fde725"
          ]
         ]
        },
        "geo": {
         "center": {},
         "domain": {
          "x": [
           0,
           1
          ],
          "y": [
           0,
           1
          ]
         }
        },
        "legend": {
         "tracegroupgap": 0
        },
        "template": {
         "data": {
          "bar": [
           {
            "error_x": {
             "color": "#2a3f5f"
            },
            "error_y": {
             "color": "#2a3f5f"
            },
            "marker": {
             "line": {
              "color": "#E5ECF6",
              "width": 0.5
             },
             "pattern": {
              "fillmode": "overlay",
              "size": 10,
              "solidity": 0.2
             }
            },
            "type": "bar"
           }
          ],
          "barpolar": [
           {
            "marker": {
             "line": {
              "color": "#E5ECF6",
              "width": 0.5
             },
             "pattern": {
              "fillmode": "overlay",
              "size": 10,
              "solidity": 0.2
             }
            },
            "type": "barpolar"
           }
          ],
          "carpet": [
           {
            "aaxis": {
             "endlinecolor": "#2a3f5f",
             "gridcolor": "white",
             "linecolor": "white",
             "minorgridcolor": "white",
             "startlinecolor": "#2a3f5f"
            },
            "baxis": {
             "endlinecolor": "#2a3f5f",
             "gridcolor": "white",
             "linecolor": "white",
             "minorgridcolor": "white",
             "startlinecolor": "#2a3f5f"
            },
            "type": "carpet"
           }
          ],
          "choropleth": [
           {
            "colorbar": {
             "outlinewidth": 0,
             "ticks": ""
            },
            "type": "choropleth"
           }
          ],
          "contour": [
           {
            "colorbar": {
             "outlinewidth": 0,
             "ticks": ""
            },
            "colorscale": [
             [
              0,
              "#0d0887"
             ],
             [
              0.1111111111111111,
              "#46039f"
             ],
             [
              0.2222222222222222,
              "#7201a8"
             ],
             [
              0.3333333333333333,
              "#9c179e"
             ],
             [
              0.4444444444444444,
              "#bd3786"
             ],
             [
              0.5555555555555556,
              "#d8576b"
             ],
             [
              0.6666666666666666,
              "#ed7953"
             ],
             [
              0.7777777777777778,
              "#fb9f3a"
             ],
             [
              0.8888888888888888,
              "#fdca26"
             ],
             [
              1,
              "#f0f921"
             ]
            ],
            "type": "contour"
           }
          ],
          "contourcarpet": [
           {
            "colorbar": {
             "outlinewidth": 0,
             "ticks": ""
            },
            "type": "contourcarpet"
           }
          ],
          "heatmap": [
           {
            "colorbar": {
             "outlinewidth": 0,
             "ticks": ""
            },
            "colorscale": [
             [
              0,
              "#0d0887"
             ],
             [
              0.1111111111111111,
              "#46039f"
             ],
             [
              0.2222222222222222,
              "#7201a8"
             ],
             [
              0.3333333333333333,
              "#9c179e"
             ],
             [
              0.4444444444444444,
              "#bd3786"
             ],
             [
              0.5555555555555556,
              "#d8576b"
             ],
             [
              0.6666666666666666,
              "#ed7953"
             ],
             [
              0.7777777777777778,
              "#fb9f3a"
             ],
             [
              0.8888888888888888,
              "#fdca26"
             ],
             [
              1,
              "#f0f921"
             ]
            ],
            "type": "heatmap"
           }
          ],
          "heatmapgl": [
           {
            "colorbar": {
             "outlinewidth": 0,
             "ticks": ""
            },
            "colorscale": [
             [
              0,
              "#0d0887"
             ],
             [
              0.1111111111111111,
              "#46039f"
             ],
             [
              0.2222222222222222,
              "#7201a8"
             ],
             [
              0.3333333333333333,
              "#9c179e"
             ],
             [
              0.4444444444444444,
              "#bd3786"
             ],
             [
              0.5555555555555556,
              "#d8576b"
             ],
             [
              0.6666666666666666,
              "#ed7953"
             ],
             [
              0.7777777777777778,
              "#fb9f3a"
             ],
             [
              0.8888888888888888,
              "#fdca26"
             ],
             [
              1,
              "#f0f921"
             ]
            ],
            "type": "heatmapgl"
           }
          ],
          "histogram": [
           {
            "marker": {
             "pattern": {
              "fillmode": "overlay",
              "size": 10,
              "solidity": 0.2
             }
            },
            "type": "histogram"
           }
          ],
          "histogram2d": [
           {
            "colorbar": {
             "outlinewidth": 0,
             "ticks": ""
            },
            "colorscale": [
             [
              0,
              "#0d0887"
             ],
             [
              0.1111111111111111,
              "#46039f"
             ],
             [
              0.2222222222222222,
              "#7201a8"
             ],
             [
              0.3333333333333333,
              "#9c179e"
             ],
             [
              0.4444444444444444,
              "#bd3786"
             ],
             [
              0.5555555555555556,
              "#d8576b"
             ],
             [
              0.6666666666666666,
              "#ed7953"
             ],
             [
              0.7777777777777778,
              "#fb9f3a"
             ],
             [
              0.8888888888888888,
              "#fdca26"
             ],
             [
              1,
              "#f0f921"
             ]
            ],
            "type": "histogram2d"
           }
          ],
          "histogram2dcontour": [
           {
            "colorbar": {
             "outlinewidth": 0,
             "ticks": ""
            },
            "colorscale": [
             [
              0,
              "#0d0887"
             ],
             [
              0.1111111111111111,
              "#46039f"
             ],
             [
              0.2222222222222222,
              "#7201a8"
             ],
             [
              0.3333333333333333,
              "#9c179e"
             ],
             [
              0.4444444444444444,
              "#bd3786"
             ],
             [
              0.5555555555555556,
              "#d8576b"
             ],
             [
              0.6666666666666666,
              "#ed7953"
             ],
             [
              0.7777777777777778,
              "#fb9f3a"
             ],
             [
              0.8888888888888888,
              "#fdca26"
             ],
             [
              1,
              "#f0f921"
             ]
            ],
            "type": "histogram2dcontour"
           }
          ],
          "mesh3d": [
           {
            "colorbar": {
             "outlinewidth": 0,
             "ticks": ""
            },
            "type": "mesh3d"
           }
          ],
          "parcoords": [
           {
            "line": {
             "colorbar": {
              "outlinewidth": 0,
              "ticks": ""
             }
            },
            "type": "parcoords"
           }
          ],
          "pie": [
           {
            "automargin": true,
            "type": "pie"
           }
          ],
          "scatter": [
           {
            "fillpattern": {
             "fillmode": "overlay",
             "size": 10,
             "solidity": 0.2
            },
            "type": "scatter"
           }
          ],
          "scatter3d": [
           {
            "line": {
             "colorbar": {
              "outlinewidth": 0,
              "ticks": ""
             }
            },
            "marker": {
             "colorbar": {
              "outlinewidth": 0,
              "ticks": ""
             }
            },
            "type": "scatter3d"
           }
          ],
          "scattercarpet": [
           {
            "marker": {
             "colorbar": {
              "outlinewidth": 0,
              "ticks": ""
             }
            },
            "type": "scattercarpet"
           }
          ],
          "scattergeo": [
           {
            "marker": {
             "colorbar": {
              "outlinewidth": 0,
              "ticks": ""
             }
            },
            "type": "scattergeo"
           }
          ],
          "scattergl": [
           {
            "marker": {
             "colorbar": {
              "outlinewidth": 0,
              "ticks": ""
             }
            },
            "type": "scattergl"
           }
          ],
          "scattermapbox": [
           {
            "marker": {
             "colorbar": {
              "outlinewidth": 0,
              "ticks": ""
             }
            },
            "type": "scattermapbox"
           }
          ],
          "scatterpolar": [
           {
            "marker": {
             "colorbar": {
              "outlinewidth": 0,
              "ticks": ""
             }
            },
            "type": "scatterpolar"
           }
          ],
          "scatterpolargl": [
           {
            "marker": {
             "colorbar": {
              "outlinewidth": 0,
              "ticks": ""
             }
            },
            "type": "scatterpolargl"
           }
          ],
          "scatterternary": [
           {
            "marker": {
             "colorbar": {
              "outlinewidth": 0,
              "ticks": ""
             }
            },
            "type": "scatterternary"
           }
          ],
          "surface": [
           {
            "colorbar": {
             "outlinewidth": 0,
             "ticks": ""
            },
            "colorscale": [
             [
              0,
              "#0d0887"
             ],
             [
              0.1111111111111111,
              "#46039f"
             ],
             [
              0.2222222222222222,
              "#7201a8"
             ],
             [
              0.3333333333333333,
              "#9c179e"
             ],
             [
              0.4444444444444444,
              "#bd3786"
             ],
             [
              0.5555555555555556,
              "#d8576b"
             ],
             [
              0.6666666666666666,
              "#ed7953"
             ],
             [
              0.7777777777777778,
              "#fb9f3a"
             ],
             [
              0.8888888888888888,
              "#fdca26"
             ],
             [
              1,
              "#f0f921"
             ]
            ],
            "type": "surface"
           }
          ],
          "table": [
           {
            "cells": {
             "fill": {
              "color": "#EBF0F8"
             },
             "line": {
              "color": "white"
             }
            },
            "header": {
             "fill": {
              "color": "#C8D4E3"
             },
             "line": {
              "color": "white"
             }
            },
            "type": "table"
           }
          ]
         },
         "layout": {
          "annotationdefaults": {
           "arrowcolor": "#2a3f5f",
           "arrowhead": 0,
           "arrowwidth": 1
          },
          "autotypenumbers": "strict",
          "coloraxis": {
           "colorbar": {
            "outlinewidth": 0,
            "ticks": ""
           }
          },
          "colorscale": {
           "diverging": [
            [
             0,
             "#8e0152"
            ],
            [
             0.1,
             "#c51b7d"
            ],
            [
             0.2,
             "#de77ae"
            ],
            [
             0.3,
             "#f1b6da"
            ],
            [
             0.4,
             "#fde0ef"
            ],
            [
             0.5,
             "#f7f7f7"
            ],
            [
             0.6,
             "#e6f5d0"
            ],
            [
             0.7,
             "#b8e186"
            ],
            [
             0.8,
             "#7fbc41"
            ],
            [
             0.9,
             "#4d9221"
            ],
            [
             1,
             "#276419"
            ]
           ],
           "sequential": [
            [
             0,
             "#0d0887"
            ],
            [
             0.1111111111111111,
             "#46039f"
            ],
            [
             0.2222222222222222,
             "#7201a8"
            ],
            [
             0.3333333333333333,
             "#9c179e"
            ],
            [
             0.4444444444444444,
             "#bd3786"
            ],
            [
             0.5555555555555556,
             "#d8576b"
            ],
            [
             0.6666666666666666,
             "#ed7953"
            ],
            [
             0.7777777777777778,
             "#fb9f3a"
            ],
            [
             0.8888888888888888,
             "#fdca26"
            ],
            [
             1,
             "#f0f921"
            ]
           ],
           "sequentialminus": [
            [
             0,
             "#0d0887"
            ],
            [
             0.1111111111111111,
             "#46039f"
            ],
            [
             0.2222222222222222,
             "#7201a8"
            ],
            [
             0.3333333333333333,
             "#9c179e"
            ],
            [
             0.4444444444444444,
             "#bd3786"
            ],
            [
             0.5555555555555556,
             "#d8576b"
            ],
            [
             0.6666666666666666,
             "#ed7953"
            ],
            [
             0.7777777777777778,
             "#fb9f3a"
            ],
            [
             0.8888888888888888,
             "#fdca26"
            ],
            [
             1,
             "#f0f921"
            ]
           ]
          },
          "colorway": [
           "#636efa",
           "#EF553B",
           "#00cc96",
           "#ab63fa",
           "#FFA15A",
           "#19d3f3",
           "#FF6692",
           "#B6E880",
           "#FF97FF",
           "#FECB52"
          ],
          "font": {
           "color": "#2a3f5f"
          },
          "geo": {
           "bgcolor": "white",
           "lakecolor": "white",
           "landcolor": "#E5ECF6",
           "showlakes": true,
           "showland": true,
           "subunitcolor": "white"
          },
          "hoverlabel": {
           "align": "left"
          },
          "hovermode": "closest",
          "mapbox": {
           "style": "light"
          },
          "paper_bgcolor": "white",
          "plot_bgcolor": "#E5ECF6",
          "polar": {
           "angularaxis": {
            "gridcolor": "white",
            "linecolor": "white",
            "ticks": ""
           },
           "bgcolor": "#E5ECF6",
           "radialaxis": {
            "gridcolor": "white",
            "linecolor": "white",
            "ticks": ""
           }
          },
          "scene": {
           "xaxis": {
            "backgroundcolor": "#E5ECF6",
            "gridcolor": "white",
            "gridwidth": 2,
            "linecolor": "white",
            "showbackground": true,
            "ticks": "",
            "zerolinecolor": "white"
           },
           "yaxis": {
            "backgroundcolor": "#E5ECF6",
            "gridcolor": "white",
            "gridwidth": 2,
            "linecolor": "white",
            "showbackground": true,
            "ticks": "",
            "zerolinecolor": "white"
           },
           "zaxis": {
            "backgroundcolor": "#E5ECF6",
            "gridcolor": "white",
            "gridwidth": 2,
            "linecolor": "white",
            "showbackground": true,
            "ticks": "",
            "zerolinecolor": "white"
           }
          },
          "shapedefaults": {
           "line": {
            "color": "#2a3f5f"
           }
          },
          "ternary": {
           "aaxis": {
            "gridcolor": "white",
            "linecolor": "white",
            "ticks": ""
           },
           "baxis": {
            "gridcolor": "white",
            "linecolor": "white",
            "ticks": ""
           },
           "bgcolor": "#E5ECF6",
           "caxis": {
            "gridcolor": "white",
            "linecolor": "white",
            "ticks": ""
           }
          },
          "title": {
           "x": 0.05
          },
          "xaxis": {
           "automargin": true,
           "gridcolor": "white",
           "linecolor": "white",
           "ticks": "",
           "title": {
            "standoff": 15
           },
           "zerolinecolor": "white",
           "zerolinewidth": 2
          },
          "yaxis": {
           "automargin": true,
           "gridcolor": "white",
           "linecolor": "white",
           "ticks": "",
           "title": {
            "standoff": 15
           },
           "zerolinecolor": "white",
           "zerolinewidth": 2
          }
         }
        },
        "title": {
         "text": "Average Life Expectancy by Country"
        }
       }
      }
     },
     "metadata": {},
     "output_type": "display_data"
    }
   ],
   "source": [
    "fig = px.choropleth(avg_life_exp, \n",
    "                    locations='country',\n",
    "                    locationmode='country names',\n",
    "                    color='life_exp',\n",
    "                    color_continuous_scale='Viridis',\n",
    "                    title='Average Life Expectancy by Country')\n",
    "fig.show()"
   ]
  },
  {
   "cell_type": "markdown",
   "metadata": {},
   "source": [
    "gdp_cap with contintents and countries and it`s relation with life_exp"
   ]
  },
  {
   "cell_type": "code",
   "execution_count": 86,
   "metadata": {},
   "outputs": [
    {
     "data": {
      "text/html": [
       "<div>\n",
       "<style scoped>\n",
       "    .dataframe tbody tr th:only-of-type {\n",
       "        vertical-align: middle;\n",
       "    }\n",
       "\n",
       "    .dataframe tbody tr th {\n",
       "        vertical-align: top;\n",
       "    }\n",
       "\n",
       "    .dataframe thead th {\n",
       "        text-align: right;\n",
       "    }\n",
       "</style>\n",
       "<table border=\"1\" class=\"dataframe\">\n",
       "  <thead>\n",
       "    <tr style=\"text-align: right;\">\n",
       "      <th></th>\n",
       "      <th>continent</th>\n",
       "      <th>gdp_cap</th>\n",
       "    </tr>\n",
       "  </thead>\n",
       "  <tbody>\n",
       "    <tr>\n",
       "      <th>4</th>\n",
       "      <td>Oceania</td>\n",
       "      <td>18,621.61</td>\n",
       "    </tr>\n",
       "    <tr>\n",
       "      <th>3</th>\n",
       "      <td>Europe</td>\n",
       "      <td>14,469.48</td>\n",
       "    </tr>\n",
       "    <tr>\n",
       "      <th>2</th>\n",
       "      <td>Asia</td>\n",
       "      <td>7,706.56</td>\n",
       "    </tr>\n",
       "    <tr>\n",
       "      <th>1</th>\n",
       "      <td>Americas</td>\n",
       "      <td>7,136.11</td>\n",
       "    </tr>\n",
       "    <tr>\n",
       "      <th>0</th>\n",
       "      <td>Africa</td>\n",
       "      <td>2,193.75</td>\n",
       "    </tr>\n",
       "  </tbody>\n",
       "</table>\n",
       "</div>"
      ],
      "text/plain": [
       "  continent   gdp_cap\n",
       "4   Oceania 18,621.61\n",
       "3    Europe 14,469.48\n",
       "2      Asia  7,706.56\n",
       "1  Americas  7,136.11\n",
       "0    Africa  2,193.75"
      ]
     },
     "execution_count": 86,
     "metadata": {},
     "output_type": "execute_result"
    }
   ],
   "source": [
    "df5 = df.groupby('continent' ,  as_index=False)['gdp_cap'].mean().sort_values(by='gdp_cap' , ascending=False)\n",
    "df5"
   ]
  },
  {
   "cell_type": "code",
   "execution_count": 87,
   "metadata": {},
   "outputs": [
    {
     "data": {
      "application/vnd.plotly.v1+json": {
       "config": {
        "plotlyServerURL": "https://plot.ly"
       },
       "data": [
        {
         "alignmentgroup": "True",
         "hovertemplate": "continent=%{x}<br>gdp_cap=%{y}<extra></extra>",
         "legendgroup": "Oceania",
         "marker": {
          "color": "#636efa",
          "pattern": {
           "shape": ""
          }
         },
         "name": "Oceania",
         "offsetgroup": "Oceania",
         "orientation": "v",
         "showlegend": true,
         "textposition": "auto",
         "type": "bar",
         "x": [
          "Oceania"
         ],
         "xaxis": "x",
         "y": [
          18621.609223333333
         ],
         "yaxis": "y"
        },
        {
         "alignmentgroup": "True",
         "hovertemplate": "continent=%{x}<br>gdp_cap=%{y}<extra></extra>",
         "legendgroup": "Europe",
         "marker": {
          "color": "#EF553B",
          "pattern": {
           "shape": ""
          }
         },
         "name": "Europe",
         "offsetgroup": "Europe",
         "orientation": "v",
         "showlegend": true,
         "textposition": "auto",
         "type": "bar",
         "x": [
          "Europe"
         ],
         "xaxis": "x",
         "y": [
          14469.475533302222
         ],
         "yaxis": "y"
        },
        {
         "alignmentgroup": "True",
         "hovertemplate": "continent=%{x}<br>gdp_cap=%{y}<extra></extra>",
         "legendgroup": "Asia",
         "marker": {
          "color": "#00cc96",
          "pattern": {
           "shape": ""
          }
         },
         "name": "Asia",
         "offsetgroup": "Asia",
         "orientation": "v",
         "showlegend": true,
         "textposition": "auto",
         "type": "bar",
         "x": [
          "Asia"
         ],
         "xaxis": "x",
         "y": [
          7706.563365365625
         ],
         "yaxis": "y"
        },
        {
         "alignmentgroup": "True",
         "hovertemplate": "continent=%{x}<br>gdp_cap=%{y}<extra></extra>",
         "legendgroup": "Americas",
         "marker": {
          "color": "#ab63fa",
          "pattern": {
           "shape": ""
          }
         },
         "name": "Americas",
         "offsetgroup": "Americas",
         "orientation": "v",
         "showlegend": true,
         "textposition": "auto",
         "type": "bar",
         "x": [
          "Americas"
         ],
         "xaxis": "x",
         "y": [
          7136.11035559
         ],
         "yaxis": "y"
        },
        {
         "alignmentgroup": "True",
         "hovertemplate": "continent=%{x}<br>gdp_cap=%{y}<extra></extra>",
         "legendgroup": "Africa",
         "marker": {
          "color": "#FFA15A",
          "pattern": {
           "shape": ""
          }
         },
         "name": "Africa",
         "offsetgroup": "Africa",
         "orientation": "v",
         "showlegend": true,
         "textposition": "auto",
         "type": "bar",
         "x": [
          "Africa"
         ],
         "xaxis": "x",
         "y": [
          2193.7545782857374
         ],
         "yaxis": "y"
        }
       ],
       "layout": {
        "barmode": "relative",
        "legend": {
         "title": {
          "text": "continent"
         },
         "tracegroupgap": 0
        },
        "margin": {
         "t": 60
        },
        "template": {
         "data": {
          "bar": [
           {
            "error_x": {
             "color": "#2a3f5f"
            },
            "error_y": {
             "color": "#2a3f5f"
            },
            "marker": {
             "line": {
              "color": "#E5ECF6",
              "width": 0.5
             },
             "pattern": {
              "fillmode": "overlay",
              "size": 10,
              "solidity": 0.2
             }
            },
            "type": "bar"
           }
          ],
          "barpolar": [
           {
            "marker": {
             "line": {
              "color": "#E5ECF6",
              "width": 0.5
             },
             "pattern": {
              "fillmode": "overlay",
              "size": 10,
              "solidity": 0.2
             }
            },
            "type": "barpolar"
           }
          ],
          "carpet": [
           {
            "aaxis": {
             "endlinecolor": "#2a3f5f",
             "gridcolor": "white",
             "linecolor": "white",
             "minorgridcolor": "white",
             "startlinecolor": "#2a3f5f"
            },
            "baxis": {
             "endlinecolor": "#2a3f5f",
             "gridcolor": "white",
             "linecolor": "white",
             "minorgridcolor": "white",
             "startlinecolor": "#2a3f5f"
            },
            "type": "carpet"
           }
          ],
          "choropleth": [
           {
            "colorbar": {
             "outlinewidth": 0,
             "ticks": ""
            },
            "type": "choropleth"
           }
          ],
          "contour": [
           {
            "colorbar": {
             "outlinewidth": 0,
             "ticks": ""
            },
            "colorscale": [
             [
              0,
              "#0d0887"
             ],
             [
              0.1111111111111111,
              "#46039f"
             ],
             [
              0.2222222222222222,
              "#7201a8"
             ],
             [
              0.3333333333333333,
              "#9c179e"
             ],
             [
              0.4444444444444444,
              "#bd3786"
             ],
             [
              0.5555555555555556,
              "#d8576b"
             ],
             [
              0.6666666666666666,
              "#ed7953"
             ],
             [
              0.7777777777777778,
              "#fb9f3a"
             ],
             [
              0.8888888888888888,
              "#fdca26"
             ],
             [
              1,
              "#f0f921"
             ]
            ],
            "type": "contour"
           }
          ],
          "contourcarpet": [
           {
            "colorbar": {
             "outlinewidth": 0,
             "ticks": ""
            },
            "type": "contourcarpet"
           }
          ],
          "heatmap": [
           {
            "colorbar": {
             "outlinewidth": 0,
             "ticks": ""
            },
            "colorscale": [
             [
              0,
              "#0d0887"
             ],
             [
              0.1111111111111111,
              "#46039f"
             ],
             [
              0.2222222222222222,
              "#7201a8"
             ],
             [
              0.3333333333333333,
              "#9c179e"
             ],
             [
              0.4444444444444444,
              "#bd3786"
             ],
             [
              0.5555555555555556,
              "#d8576b"
             ],
             [
              0.6666666666666666,
              "#ed7953"
             ],
             [
              0.7777777777777778,
              "#fb9f3a"
             ],
             [
              0.8888888888888888,
              "#fdca26"
             ],
             [
              1,
              "#f0f921"
             ]
            ],
            "type": "heatmap"
           }
          ],
          "heatmapgl": [
           {
            "colorbar": {
             "outlinewidth": 0,
             "ticks": ""
            },
            "colorscale": [
             [
              0,
              "#0d0887"
             ],
             [
              0.1111111111111111,
              "#46039f"
             ],
             [
              0.2222222222222222,
              "#7201a8"
             ],
             [
              0.3333333333333333,
              "#9c179e"
             ],
             [
              0.4444444444444444,
              "#bd3786"
             ],
             [
              0.5555555555555556,
              "#d8576b"
             ],
             [
              0.6666666666666666,
              "#ed7953"
             ],
             [
              0.7777777777777778,
              "#fb9f3a"
             ],
             [
              0.8888888888888888,
              "#fdca26"
             ],
             [
              1,
              "#f0f921"
             ]
            ],
            "type": "heatmapgl"
           }
          ],
          "histogram": [
           {
            "marker": {
             "pattern": {
              "fillmode": "overlay",
              "size": 10,
              "solidity": 0.2
             }
            },
            "type": "histogram"
           }
          ],
          "histogram2d": [
           {
            "colorbar": {
             "outlinewidth": 0,
             "ticks": ""
            },
            "colorscale": [
             [
              0,
              "#0d0887"
             ],
             [
              0.1111111111111111,
              "#46039f"
             ],
             [
              0.2222222222222222,
              "#7201a8"
             ],
             [
              0.3333333333333333,
              "#9c179e"
             ],
             [
              0.4444444444444444,
              "#bd3786"
             ],
             [
              0.5555555555555556,
              "#d8576b"
             ],
             [
              0.6666666666666666,
              "#ed7953"
             ],
             [
              0.7777777777777778,
              "#fb9f3a"
             ],
             [
              0.8888888888888888,
              "#fdca26"
             ],
             [
              1,
              "#f0f921"
             ]
            ],
            "type": "histogram2d"
           }
          ],
          "histogram2dcontour": [
           {
            "colorbar": {
             "outlinewidth": 0,
             "ticks": ""
            },
            "colorscale": [
             [
              0,
              "#0d0887"
             ],
             [
              0.1111111111111111,
              "#46039f"
             ],
             [
              0.2222222222222222,
              "#7201a8"
             ],
             [
              0.3333333333333333,
              "#9c179e"
             ],
             [
              0.4444444444444444,
              "#bd3786"
             ],
             [
              0.5555555555555556,
              "#d8576b"
             ],
             [
              0.6666666666666666,
              "#ed7953"
             ],
             [
              0.7777777777777778,
              "#fb9f3a"
             ],
             [
              0.8888888888888888,
              "#fdca26"
             ],
             [
              1,
              "#f0f921"
             ]
            ],
            "type": "histogram2dcontour"
           }
          ],
          "mesh3d": [
           {
            "colorbar": {
             "outlinewidth": 0,
             "ticks": ""
            },
            "type": "mesh3d"
           }
          ],
          "parcoords": [
           {
            "line": {
             "colorbar": {
              "outlinewidth": 0,
              "ticks": ""
             }
            },
            "type": "parcoords"
           }
          ],
          "pie": [
           {
            "automargin": true,
            "type": "pie"
           }
          ],
          "scatter": [
           {
            "fillpattern": {
             "fillmode": "overlay",
             "size": 10,
             "solidity": 0.2
            },
            "type": "scatter"
           }
          ],
          "scatter3d": [
           {
            "line": {
             "colorbar": {
              "outlinewidth": 0,
              "ticks": ""
             }
            },
            "marker": {
             "colorbar": {
              "outlinewidth": 0,
              "ticks": ""
             }
            },
            "type": "scatter3d"
           }
          ],
          "scattercarpet": [
           {
            "marker": {
             "colorbar": {
              "outlinewidth": 0,
              "ticks": ""
             }
            },
            "type": "scattercarpet"
           }
          ],
          "scattergeo": [
           {
            "marker": {
             "colorbar": {
              "outlinewidth": 0,
              "ticks": ""
             }
            },
            "type": "scattergeo"
           }
          ],
          "scattergl": [
           {
            "marker": {
             "colorbar": {
              "outlinewidth": 0,
              "ticks": ""
             }
            },
            "type": "scattergl"
           }
          ],
          "scattermapbox": [
           {
            "marker": {
             "colorbar": {
              "outlinewidth": 0,
              "ticks": ""
             }
            },
            "type": "scattermapbox"
           }
          ],
          "scatterpolar": [
           {
            "marker": {
             "colorbar": {
              "outlinewidth": 0,
              "ticks": ""
             }
            },
            "type": "scatterpolar"
           }
          ],
          "scatterpolargl": [
           {
            "marker": {
             "colorbar": {
              "outlinewidth": 0,
              "ticks": ""
             }
            },
            "type": "scatterpolargl"
           }
          ],
          "scatterternary": [
           {
            "marker": {
             "colorbar": {
              "outlinewidth": 0,
              "ticks": ""
             }
            },
            "type": "scatterternary"
           }
          ],
          "surface": [
           {
            "colorbar": {
             "outlinewidth": 0,
             "ticks": ""
            },
            "colorscale": [
             [
              0,
              "#0d0887"
             ],
             [
              0.1111111111111111,
              "#46039f"
             ],
             [
              0.2222222222222222,
              "#7201a8"
             ],
             [
              0.3333333333333333,
              "#9c179e"
             ],
             [
              0.4444444444444444,
              "#bd3786"
             ],
             [
              0.5555555555555556,
              "#d8576b"
             ],
             [
              0.6666666666666666,
              "#ed7953"
             ],
             [
              0.7777777777777778,
              "#fb9f3a"
             ],
             [
              0.8888888888888888,
              "#fdca26"
             ],
             [
              1,
              "#f0f921"
             ]
            ],
            "type": "surface"
           }
          ],
          "table": [
           {
            "cells": {
             "fill": {
              "color": "#EBF0F8"
             },
             "line": {
              "color": "white"
             }
            },
            "header": {
             "fill": {
              "color": "#C8D4E3"
             },
             "line": {
              "color": "white"
             }
            },
            "type": "table"
           }
          ]
         },
         "layout": {
          "annotationdefaults": {
           "arrowcolor": "#2a3f5f",
           "arrowhead": 0,
           "arrowwidth": 1
          },
          "autotypenumbers": "strict",
          "coloraxis": {
           "colorbar": {
            "outlinewidth": 0,
            "ticks": ""
           }
          },
          "colorscale": {
           "diverging": [
            [
             0,
             "#8e0152"
            ],
            [
             0.1,
             "#c51b7d"
            ],
            [
             0.2,
             "#de77ae"
            ],
            [
             0.3,
             "#f1b6da"
            ],
            [
             0.4,
             "#fde0ef"
            ],
            [
             0.5,
             "#f7f7f7"
            ],
            [
             0.6,
             "#e6f5d0"
            ],
            [
             0.7,
             "#b8e186"
            ],
            [
             0.8,
             "#7fbc41"
            ],
            [
             0.9,
             "#4d9221"
            ],
            [
             1,
             "#276419"
            ]
           ],
           "sequential": [
            [
             0,
             "#0d0887"
            ],
            [
             0.1111111111111111,
             "#46039f"
            ],
            [
             0.2222222222222222,
             "#7201a8"
            ],
            [
             0.3333333333333333,
             "#9c179e"
            ],
            [
             0.4444444444444444,
             "#bd3786"
            ],
            [
             0.5555555555555556,
             "#d8576b"
            ],
            [
             0.6666666666666666,
             "#ed7953"
            ],
            [
             0.7777777777777778,
             "#fb9f3a"
            ],
            [
             0.8888888888888888,
             "#fdca26"
            ],
            [
             1,
             "#f0f921"
            ]
           ],
           "sequentialminus": [
            [
             0,
             "#0d0887"
            ],
            [
             0.1111111111111111,
             "#46039f"
            ],
            [
             0.2222222222222222,
             "#7201a8"
            ],
            [
             0.3333333333333333,
             "#9c179e"
            ],
            [
             0.4444444444444444,
             "#bd3786"
            ],
            [
             0.5555555555555556,
             "#d8576b"
            ],
            [
             0.6666666666666666,
             "#ed7953"
            ],
            [
             0.7777777777777778,
             "#fb9f3a"
            ],
            [
             0.8888888888888888,
             "#fdca26"
            ],
            [
             1,
             "#f0f921"
            ]
           ]
          },
          "colorway": [
           "#636efa",
           "#EF553B",
           "#00cc96",
           "#ab63fa",
           "#FFA15A",
           "#19d3f3",
           "#FF6692",
           "#B6E880",
           "#FF97FF",
           "#FECB52"
          ],
          "font": {
           "color": "#2a3f5f"
          },
          "geo": {
           "bgcolor": "white",
           "lakecolor": "white",
           "landcolor": "#E5ECF6",
           "showlakes": true,
           "showland": true,
           "subunitcolor": "white"
          },
          "hoverlabel": {
           "align": "left"
          },
          "hovermode": "closest",
          "mapbox": {
           "style": "light"
          },
          "paper_bgcolor": "white",
          "plot_bgcolor": "#E5ECF6",
          "polar": {
           "angularaxis": {
            "gridcolor": "white",
            "linecolor": "white",
            "ticks": ""
           },
           "bgcolor": "#E5ECF6",
           "radialaxis": {
            "gridcolor": "white",
            "linecolor": "white",
            "ticks": ""
           }
          },
          "scene": {
           "xaxis": {
            "backgroundcolor": "#E5ECF6",
            "gridcolor": "white",
            "gridwidth": 2,
            "linecolor": "white",
            "showbackground": true,
            "ticks": "",
            "zerolinecolor": "white"
           },
           "yaxis": {
            "backgroundcolor": "#E5ECF6",
            "gridcolor": "white",
            "gridwidth": 2,
            "linecolor": "white",
            "showbackground": true,
            "ticks": "",
            "zerolinecolor": "white"
           },
           "zaxis": {
            "backgroundcolor": "#E5ECF6",
            "gridcolor": "white",
            "gridwidth": 2,
            "linecolor": "white",
            "showbackground": true,
            "ticks": "",
            "zerolinecolor": "white"
           }
          },
          "shapedefaults": {
           "line": {
            "color": "#2a3f5f"
           }
          },
          "ternary": {
           "aaxis": {
            "gridcolor": "white",
            "linecolor": "white",
            "ticks": ""
           },
           "baxis": {
            "gridcolor": "white",
            "linecolor": "white",
            "ticks": ""
           },
           "bgcolor": "#E5ECF6",
           "caxis": {
            "gridcolor": "white",
            "linecolor": "white",
            "ticks": ""
           }
          },
          "title": {
           "x": 0.05
          },
          "xaxis": {
           "automargin": true,
           "gridcolor": "white",
           "linecolor": "white",
           "ticks": "",
           "title": {
            "standoff": 15
           },
           "zerolinecolor": "white",
           "zerolinewidth": 2
          },
          "yaxis": {
           "automargin": true,
           "gridcolor": "white",
           "linecolor": "white",
           "ticks": "",
           "title": {
            "standoff": 15
           },
           "zerolinecolor": "white",
           "zerolinewidth": 2
          }
         }
        },
        "xaxis": {
         "anchor": "y",
         "categoryarray": [
          "Oceania",
          "Europe",
          "Asia",
          "Americas",
          "Africa"
         ],
         "categoryorder": "array",
         "domain": [
          0,
          1
         ],
         "title": {
          "text": "continent"
         }
        },
        "yaxis": {
         "anchor": "x",
         "domain": [
          0,
          1
         ],
         "title": {
          "text": "gdp_cap"
         }
        }
       }
      }
     },
     "metadata": {},
     "output_type": "display_data"
    }
   ],
   "source": [
    "px.bar(data_frame=df5 , x='continent' ,y='gdp_cap' , color='continent')"
   ]
  },
  {
   "cell_type": "code",
   "execution_count": 88,
   "metadata": {},
   "outputs": [
    {
     "data": {
      "application/vnd.plotly.v1+json": {
       "config": {
        "plotlyServerURL": "https://plot.ly"
       },
       "data": [
        {
         "domain": {
          "x": [
           0,
           1
          ],
          "y": [
           0,
           1
          ]
         },
         "hovertemplate": "continent=%{label}<br>gdp_cap=%{value}<extra></extra>",
         "labels": [
          "Oceania",
          "Europe",
          "Asia",
          "Americas",
          "Africa"
         ],
         "legendgroup": "",
         "name": "",
         "showlegend": true,
         "type": "pie",
         "values": [
          18621.609223333333,
          14469.475533302222,
          7706.563365365625,
          7136.11035559,
          2193.7545782857374
         ]
        }
       ],
       "layout": {
        "legend": {
         "tracegroupgap": 0
        },
        "margin": {
         "t": 60
        },
        "template": {
         "data": {
          "bar": [
           {
            "error_x": {
             "color": "#2a3f5f"
            },
            "error_y": {
             "color": "#2a3f5f"
            },
            "marker": {
             "line": {
              "color": "#E5ECF6",
              "width": 0.5
             },
             "pattern": {
              "fillmode": "overlay",
              "size": 10,
              "solidity": 0.2
             }
            },
            "type": "bar"
           }
          ],
          "barpolar": [
           {
            "marker": {
             "line": {
              "color": "#E5ECF6",
              "width": 0.5
             },
             "pattern": {
              "fillmode": "overlay",
              "size": 10,
              "solidity": 0.2
             }
            },
            "type": "barpolar"
           }
          ],
          "carpet": [
           {
            "aaxis": {
             "endlinecolor": "#2a3f5f",
             "gridcolor": "white",
             "linecolor": "white",
             "minorgridcolor": "white",
             "startlinecolor": "#2a3f5f"
            },
            "baxis": {
             "endlinecolor": "#2a3f5f",
             "gridcolor": "white",
             "linecolor": "white",
             "minorgridcolor": "white",
             "startlinecolor": "#2a3f5f"
            },
            "type": "carpet"
           }
          ],
          "choropleth": [
           {
            "colorbar": {
             "outlinewidth": 0,
             "ticks": ""
            },
            "type": "choropleth"
           }
          ],
          "contour": [
           {
            "colorbar": {
             "outlinewidth": 0,
             "ticks": ""
            },
            "colorscale": [
             [
              0,
              "#0d0887"
             ],
             [
              0.1111111111111111,
              "#46039f"
             ],
             [
              0.2222222222222222,
              "#7201a8"
             ],
             [
              0.3333333333333333,
              "#9c179e"
             ],
             [
              0.4444444444444444,
              "#bd3786"
             ],
             [
              0.5555555555555556,
              "#d8576b"
             ],
             [
              0.6666666666666666,
              "#ed7953"
             ],
             [
              0.7777777777777778,
              "#fb9f3a"
             ],
             [
              0.8888888888888888,
              "#fdca26"
             ],
             [
              1,
              "#f0f921"
             ]
            ],
            "type": "contour"
           }
          ],
          "contourcarpet": [
           {
            "colorbar": {
             "outlinewidth": 0,
             "ticks": ""
            },
            "type": "contourcarpet"
           }
          ],
          "heatmap": [
           {
            "colorbar": {
             "outlinewidth": 0,
             "ticks": ""
            },
            "colorscale": [
             [
              0,
              "#0d0887"
             ],
             [
              0.1111111111111111,
              "#46039f"
             ],
             [
              0.2222222222222222,
              "#7201a8"
             ],
             [
              0.3333333333333333,
              "#9c179e"
             ],
             [
              0.4444444444444444,
              "#bd3786"
             ],
             [
              0.5555555555555556,
              "#d8576b"
             ],
             [
              0.6666666666666666,
              "#ed7953"
             ],
             [
              0.7777777777777778,
              "#fb9f3a"
             ],
             [
              0.8888888888888888,
              "#fdca26"
             ],
             [
              1,
              "#f0f921"
             ]
            ],
            "type": "heatmap"
           }
          ],
          "heatmapgl": [
           {
            "colorbar": {
             "outlinewidth": 0,
             "ticks": ""
            },
            "colorscale": [
             [
              0,
              "#0d0887"
             ],
             [
              0.1111111111111111,
              "#46039f"
             ],
             [
              0.2222222222222222,
              "#7201a8"
             ],
             [
              0.3333333333333333,
              "#9c179e"
             ],
             [
              0.4444444444444444,
              "#bd3786"
             ],
             [
              0.5555555555555556,
              "#d8576b"
             ],
             [
              0.6666666666666666,
              "#ed7953"
             ],
             [
              0.7777777777777778,
              "#fb9f3a"
             ],
             [
              0.8888888888888888,
              "#fdca26"
             ],
             [
              1,
              "#f0f921"
             ]
            ],
            "type": "heatmapgl"
           }
          ],
          "histogram": [
           {
            "marker": {
             "pattern": {
              "fillmode": "overlay",
              "size": 10,
              "solidity": 0.2
             }
            },
            "type": "histogram"
           }
          ],
          "histogram2d": [
           {
            "colorbar": {
             "outlinewidth": 0,
             "ticks": ""
            },
            "colorscale": [
             [
              0,
              "#0d0887"
             ],
             [
              0.1111111111111111,
              "#46039f"
             ],
             [
              0.2222222222222222,
              "#7201a8"
             ],
             [
              0.3333333333333333,
              "#9c179e"
             ],
             [
              0.4444444444444444,
              "#bd3786"
             ],
             [
              0.5555555555555556,
              "#d8576b"
             ],
             [
              0.6666666666666666,
              "#ed7953"
             ],
             [
              0.7777777777777778,
              "#fb9f3a"
             ],
             [
              0.8888888888888888,
              "#fdca26"
             ],
             [
              1,
              "#f0f921"
             ]
            ],
            "type": "histogram2d"
           }
          ],
          "histogram2dcontour": [
           {
            "colorbar": {
             "outlinewidth": 0,
             "ticks": ""
            },
            "colorscale": [
             [
              0,
              "#0d0887"
             ],
             [
              0.1111111111111111,
              "#46039f"
             ],
             [
              0.2222222222222222,
              "#7201a8"
             ],
             [
              0.3333333333333333,
              "#9c179e"
             ],
             [
              0.4444444444444444,
              "#bd3786"
             ],
             [
              0.5555555555555556,
              "#d8576b"
             ],
             [
              0.6666666666666666,
              "#ed7953"
             ],
             [
              0.7777777777777778,
              "#fb9f3a"
             ],
             [
              0.8888888888888888,
              "#fdca26"
             ],
             [
              1,
              "#f0f921"
             ]
            ],
            "type": "histogram2dcontour"
           }
          ],
          "mesh3d": [
           {
            "colorbar": {
             "outlinewidth": 0,
             "ticks": ""
            },
            "type": "mesh3d"
           }
          ],
          "parcoords": [
           {
            "line": {
             "colorbar": {
              "outlinewidth": 0,
              "ticks": ""
             }
            },
            "type": "parcoords"
           }
          ],
          "pie": [
           {
            "automargin": true,
            "type": "pie"
           }
          ],
          "scatter": [
           {
            "fillpattern": {
             "fillmode": "overlay",
             "size": 10,
             "solidity": 0.2
            },
            "type": "scatter"
           }
          ],
          "scatter3d": [
           {
            "line": {
             "colorbar": {
              "outlinewidth": 0,
              "ticks": ""
             }
            },
            "marker": {
             "colorbar": {
              "outlinewidth": 0,
              "ticks": ""
             }
            },
            "type": "scatter3d"
           }
          ],
          "scattercarpet": [
           {
            "marker": {
             "colorbar": {
              "outlinewidth": 0,
              "ticks": ""
             }
            },
            "type": "scattercarpet"
           }
          ],
          "scattergeo": [
           {
            "marker": {
             "colorbar": {
              "outlinewidth": 0,
              "ticks": ""
             }
            },
            "type": "scattergeo"
           }
          ],
          "scattergl": [
           {
            "marker": {
             "colorbar": {
              "outlinewidth": 0,
              "ticks": ""
             }
            },
            "type": "scattergl"
           }
          ],
          "scattermapbox": [
           {
            "marker": {
             "colorbar": {
              "outlinewidth": 0,
              "ticks": ""
             }
            },
            "type": "scattermapbox"
           }
          ],
          "scatterpolar": [
           {
            "marker": {
             "colorbar": {
              "outlinewidth": 0,
              "ticks": ""
             }
            },
            "type": "scatterpolar"
           }
          ],
          "scatterpolargl": [
           {
            "marker": {
             "colorbar": {
              "outlinewidth": 0,
              "ticks": ""
             }
            },
            "type": "scatterpolargl"
           }
          ],
          "scatterternary": [
           {
            "marker": {
             "colorbar": {
              "outlinewidth": 0,
              "ticks": ""
             }
            },
            "type": "scatterternary"
           }
          ],
          "surface": [
           {
            "colorbar": {
             "outlinewidth": 0,
             "ticks": ""
            },
            "colorscale": [
             [
              0,
              "#0d0887"
             ],
             [
              0.1111111111111111,
              "#46039f"
             ],
             [
              0.2222222222222222,
              "#7201a8"
             ],
             [
              0.3333333333333333,
              "#9c179e"
             ],
             [
              0.4444444444444444,
              "#bd3786"
             ],
             [
              0.5555555555555556,
              "#d8576b"
             ],
             [
              0.6666666666666666,
              "#ed7953"
             ],
             [
              0.7777777777777778,
              "#fb9f3a"
             ],
             [
              0.8888888888888888,
              "#fdca26"
             ],
             [
              1,
              "#f0f921"
             ]
            ],
            "type": "surface"
           }
          ],
          "table": [
           {
            "cells": {
             "fill": {
              "color": "#EBF0F8"
             },
             "line": {
              "color": "white"
             }
            },
            "header": {
             "fill": {
              "color": "#C8D4E3"
             },
             "line": {
              "color": "white"
             }
            },
            "type": "table"
           }
          ]
         },
         "layout": {
          "annotationdefaults": {
           "arrowcolor": "#2a3f5f",
           "arrowhead": 0,
           "arrowwidth": 1
          },
          "autotypenumbers": "strict",
          "coloraxis": {
           "colorbar": {
            "outlinewidth": 0,
            "ticks": ""
           }
          },
          "colorscale": {
           "diverging": [
            [
             0,
             "#8e0152"
            ],
            [
             0.1,
             "#c51b7d"
            ],
            [
             0.2,
             "#de77ae"
            ],
            [
             0.3,
             "#f1b6da"
            ],
            [
             0.4,
             "#fde0ef"
            ],
            [
             0.5,
             "#f7f7f7"
            ],
            [
             0.6,
             "#e6f5d0"
            ],
            [
             0.7,
             "#b8e186"
            ],
            [
             0.8,
             "#7fbc41"
            ],
            [
             0.9,
             "#4d9221"
            ],
            [
             1,
             "#276419"
            ]
           ],
           "sequential": [
            [
             0,
             "#0d0887"
            ],
            [
             0.1111111111111111,
             "#46039f"
            ],
            [
             0.2222222222222222,
             "#7201a8"
            ],
            [
             0.3333333333333333,
             "#9c179e"
            ],
            [
             0.4444444444444444,
             "#bd3786"
            ],
            [
             0.5555555555555556,
             "#d8576b"
            ],
            [
             0.6666666666666666,
             "#ed7953"
            ],
            [
             0.7777777777777778,
             "#fb9f3a"
            ],
            [
             0.8888888888888888,
             "#fdca26"
            ],
            [
             1,
             "#f0f921"
            ]
           ],
           "sequentialminus": [
            [
             0,
             "#0d0887"
            ],
            [
             0.1111111111111111,
             "#46039f"
            ],
            [
             0.2222222222222222,
             "#7201a8"
            ],
            [
             0.3333333333333333,
             "#9c179e"
            ],
            [
             0.4444444444444444,
             "#bd3786"
            ],
            [
             0.5555555555555556,
             "#d8576b"
            ],
            [
             0.6666666666666666,
             "#ed7953"
            ],
            [
             0.7777777777777778,
             "#fb9f3a"
            ],
            [
             0.8888888888888888,
             "#fdca26"
            ],
            [
             1,
             "#f0f921"
            ]
           ]
          },
          "colorway": [
           "#636efa",
           "#EF553B",
           "#00cc96",
           "#ab63fa",
           "#FFA15A",
           "#19d3f3",
           "#FF6692",
           "#B6E880",
           "#FF97FF",
           "#FECB52"
          ],
          "font": {
           "color": "#2a3f5f"
          },
          "geo": {
           "bgcolor": "white",
           "lakecolor": "white",
           "landcolor": "#E5ECF6",
           "showlakes": true,
           "showland": true,
           "subunitcolor": "white"
          },
          "hoverlabel": {
           "align": "left"
          },
          "hovermode": "closest",
          "mapbox": {
           "style": "light"
          },
          "paper_bgcolor": "white",
          "plot_bgcolor": "#E5ECF6",
          "polar": {
           "angularaxis": {
            "gridcolor": "white",
            "linecolor": "white",
            "ticks": ""
           },
           "bgcolor": "#E5ECF6",
           "radialaxis": {
            "gridcolor": "white",
            "linecolor": "white",
            "ticks": ""
           }
          },
          "scene": {
           "xaxis": {
            "backgroundcolor": "#E5ECF6",
            "gridcolor": "white",
            "gridwidth": 2,
            "linecolor": "white",
            "showbackground": true,
            "ticks": "",
            "zerolinecolor": "white"
           },
           "yaxis": {
            "backgroundcolor": "#E5ECF6",
            "gridcolor": "white",
            "gridwidth": 2,
            "linecolor": "white",
            "showbackground": true,
            "ticks": "",
            "zerolinecolor": "white"
           },
           "zaxis": {
            "backgroundcolor": "#E5ECF6",
            "gridcolor": "white",
            "gridwidth": 2,
            "linecolor": "white",
            "showbackground": true,
            "ticks": "",
            "zerolinecolor": "white"
           }
          },
          "shapedefaults": {
           "line": {
            "color": "#2a3f5f"
           }
          },
          "ternary": {
           "aaxis": {
            "gridcolor": "white",
            "linecolor": "white",
            "ticks": ""
           },
           "baxis": {
            "gridcolor": "white",
            "linecolor": "white",
            "ticks": ""
           },
           "bgcolor": "#E5ECF6",
           "caxis": {
            "gridcolor": "white",
            "linecolor": "white",
            "ticks": ""
           }
          },
          "title": {
           "x": 0.05
          },
          "xaxis": {
           "automargin": true,
           "gridcolor": "white",
           "linecolor": "white",
           "ticks": "",
           "title": {
            "standoff": 15
           },
           "zerolinecolor": "white",
           "zerolinewidth": 2
          },
          "yaxis": {
           "automargin": true,
           "gridcolor": "white",
           "linecolor": "white",
           "ticks": "",
           "title": {
            "standoff": 15
           },
           "zerolinecolor": "white",
           "zerolinewidth": 2
          }
         }
        }
       }
      }
     },
     "metadata": {},
     "output_type": "display_data"
    }
   ],
   "source": [
    "px.pie(data_frame=df5 , names='continent' , values='gdp_cap')"
   ]
  },
  {
   "cell_type": "code",
   "execution_count": 89,
   "metadata": {},
   "outputs": [
    {
     "data": {
      "text/html": [
       "<div>\n",
       "<style scoped>\n",
       "    .dataframe tbody tr th:only-of-type {\n",
       "        vertical-align: middle;\n",
       "    }\n",
       "\n",
       "    .dataframe tbody tr th {\n",
       "        vertical-align: top;\n",
       "    }\n",
       "\n",
       "    .dataframe thead th {\n",
       "        text-align: right;\n",
       "    }\n",
       "</style>\n",
       "<table border=\"1\" class=\"dataframe\">\n",
       "  <thead>\n",
       "    <tr style=\"text-align: right;\">\n",
       "      <th></th>\n",
       "      <th>continent</th>\n",
       "      <th>year</th>\n",
       "      <th>gdp_cap</th>\n",
       "    </tr>\n",
       "  </thead>\n",
       "  <tbody>\n",
       "    <tr>\n",
       "      <th>0</th>\n",
       "      <td>Africa</td>\n",
       "      <td>1952</td>\n",
       "      <td>1,252.57</td>\n",
       "    </tr>\n",
       "    <tr>\n",
       "      <th>1</th>\n",
       "      <td>Africa</td>\n",
       "      <td>1957</td>\n",
       "      <td>1,385.24</td>\n",
       "    </tr>\n",
       "    <tr>\n",
       "      <th>2</th>\n",
       "      <td>Africa</td>\n",
       "      <td>1962</td>\n",
       "      <td>1,598.08</td>\n",
       "    </tr>\n",
       "    <tr>\n",
       "      <th>3</th>\n",
       "      <td>Africa</td>\n",
       "      <td>1967</td>\n",
       "      <td>2,050.36</td>\n",
       "    </tr>\n",
       "    <tr>\n",
       "      <th>4</th>\n",
       "      <td>Africa</td>\n",
       "      <td>1972</td>\n",
       "      <td>2,339.62</td>\n",
       "    </tr>\n",
       "    <tr>\n",
       "      <th>5</th>\n",
       "      <td>Africa</td>\n",
       "      <td>1977</td>\n",
       "      <td>2,585.94</td>\n",
       "    </tr>\n",
       "    <tr>\n",
       "      <th>6</th>\n",
       "      <td>Africa</td>\n",
       "      <td>1982</td>\n",
       "      <td>2,481.59</td>\n",
       "    </tr>\n",
       "    <tr>\n",
       "      <th>7</th>\n",
       "      <td>Africa</td>\n",
       "      <td>1987</td>\n",
       "      <td>2,282.67</td>\n",
       "    </tr>\n",
       "    <tr>\n",
       "      <th>8</th>\n",
       "      <td>Africa</td>\n",
       "      <td>1992</td>\n",
       "      <td>2,281.81</td>\n",
       "    </tr>\n",
       "    <tr>\n",
       "      <th>9</th>\n",
       "      <td>Africa</td>\n",
       "      <td>1997</td>\n",
       "      <td>2,378.76</td>\n",
       "    </tr>\n",
       "    <tr>\n",
       "      <th>10</th>\n",
       "      <td>Africa</td>\n",
       "      <td>2002</td>\n",
       "      <td>2,599.39</td>\n",
       "    </tr>\n",
       "    <tr>\n",
       "      <th>11</th>\n",
       "      <td>Africa</td>\n",
       "      <td>2007</td>\n",
       "      <td>3,089.03</td>\n",
       "    </tr>\n",
       "    <tr>\n",
       "      <th>12</th>\n",
       "      <td>Americas</td>\n",
       "      <td>1952</td>\n",
       "      <td>4,079.06</td>\n",
       "    </tr>\n",
       "    <tr>\n",
       "      <th>13</th>\n",
       "      <td>Americas</td>\n",
       "      <td>1957</td>\n",
       "      <td>4,616.04</td>\n",
       "    </tr>\n",
       "    <tr>\n",
       "      <th>14</th>\n",
       "      <td>Americas</td>\n",
       "      <td>1962</td>\n",
       "      <td>4,901.54</td>\n",
       "    </tr>\n",
       "    <tr>\n",
       "      <th>15</th>\n",
       "      <td>Americas</td>\n",
       "      <td>1967</td>\n",
       "      <td>5,668.25</td>\n",
       "    </tr>\n",
       "    <tr>\n",
       "      <th>16</th>\n",
       "      <td>Americas</td>\n",
       "      <td>1972</td>\n",
       "      <td>6,491.33</td>\n",
       "    </tr>\n",
       "    <tr>\n",
       "      <th>17</th>\n",
       "      <td>Americas</td>\n",
       "      <td>1977</td>\n",
       "      <td>7,352.01</td>\n",
       "    </tr>\n",
       "    <tr>\n",
       "      <th>18</th>\n",
       "      <td>Americas</td>\n",
       "      <td>1982</td>\n",
       "      <td>7,506.74</td>\n",
       "    </tr>\n",
       "    <tr>\n",
       "      <th>19</th>\n",
       "      <td>Americas</td>\n",
       "      <td>1987</td>\n",
       "      <td>7,793.40</td>\n",
       "    </tr>\n",
       "    <tr>\n",
       "      <th>20</th>\n",
       "      <td>Americas</td>\n",
       "      <td>1992</td>\n",
       "      <td>8,044.93</td>\n",
       "    </tr>\n",
       "    <tr>\n",
       "      <th>21</th>\n",
       "      <td>Americas</td>\n",
       "      <td>1997</td>\n",
       "      <td>8,889.30</td>\n",
       "    </tr>\n",
       "    <tr>\n",
       "      <th>22</th>\n",
       "      <td>Americas</td>\n",
       "      <td>2002</td>\n",
       "      <td>9,287.68</td>\n",
       "    </tr>\n",
       "    <tr>\n",
       "      <th>23</th>\n",
       "      <td>Americas</td>\n",
       "      <td>2007</td>\n",
       "      <td>11,003.03</td>\n",
       "    </tr>\n",
       "    <tr>\n",
       "      <th>24</th>\n",
       "      <td>Asia</td>\n",
       "      <td>1952</td>\n",
       "      <td>5,230.14</td>\n",
       "    </tr>\n",
       "    <tr>\n",
       "      <th>25</th>\n",
       "      <td>Asia</td>\n",
       "      <td>1957</td>\n",
       "      <td>5,800.31</td>\n",
       "    </tr>\n",
       "    <tr>\n",
       "      <th>26</th>\n",
       "      <td>Asia</td>\n",
       "      <td>1962</td>\n",
       "      <td>5,686.36</td>\n",
       "    </tr>\n",
       "    <tr>\n",
       "      <th>27</th>\n",
       "      <td>Asia</td>\n",
       "      <td>1967</td>\n",
       "      <td>5,895.47</td>\n",
       "    </tr>\n",
       "    <tr>\n",
       "      <th>28</th>\n",
       "      <td>Asia</td>\n",
       "      <td>1972</td>\n",
       "      <td>8,043.74</td>\n",
       "    </tr>\n",
       "    <tr>\n",
       "      <th>29</th>\n",
       "      <td>Asia</td>\n",
       "      <td>1977</td>\n",
       "      <td>7,618.96</td>\n",
       "    </tr>\n",
       "    <tr>\n",
       "      <th>30</th>\n",
       "      <td>Asia</td>\n",
       "      <td>1982</td>\n",
       "      <td>7,186.23</td>\n",
       "    </tr>\n",
       "    <tr>\n",
       "      <th>31</th>\n",
       "      <td>Asia</td>\n",
       "      <td>1987</td>\n",
       "      <td>7,310.91</td>\n",
       "    </tr>\n",
       "    <tr>\n",
       "      <th>32</th>\n",
       "      <td>Asia</td>\n",
       "      <td>1992</td>\n",
       "      <td>8,345.57</td>\n",
       "    </tr>\n",
       "    <tr>\n",
       "      <th>33</th>\n",
       "      <td>Asia</td>\n",
       "      <td>1997</td>\n",
       "      <td>9,488.39</td>\n",
       "    </tr>\n",
       "    <tr>\n",
       "      <th>34</th>\n",
       "      <td>Asia</td>\n",
       "      <td>2002</td>\n",
       "      <td>9,807.48</td>\n",
       "    </tr>\n",
       "    <tr>\n",
       "      <th>35</th>\n",
       "      <td>Asia</td>\n",
       "      <td>2007</td>\n",
       "      <td>12,065.21</td>\n",
       "    </tr>\n",
       "    <tr>\n",
       "      <th>36</th>\n",
       "      <td>Europe</td>\n",
       "      <td>1952</td>\n",
       "      <td>5,661.06</td>\n",
       "    </tr>\n",
       "    <tr>\n",
       "      <th>37</th>\n",
       "      <td>Europe</td>\n",
       "      <td>1957</td>\n",
       "      <td>6,963.01</td>\n",
       "    </tr>\n",
       "    <tr>\n",
       "      <th>38</th>\n",
       "      <td>Europe</td>\n",
       "      <td>1962</td>\n",
       "      <td>8,365.49</td>\n",
       "    </tr>\n",
       "    <tr>\n",
       "      <th>39</th>\n",
       "      <td>Europe</td>\n",
       "      <td>1967</td>\n",
       "      <td>10,143.82</td>\n",
       "    </tr>\n",
       "    <tr>\n",
       "      <th>40</th>\n",
       "      <td>Europe</td>\n",
       "      <td>1972</td>\n",
       "      <td>12,479.58</td>\n",
       "    </tr>\n",
       "    <tr>\n",
       "      <th>41</th>\n",
       "      <td>Europe</td>\n",
       "      <td>1977</td>\n",
       "      <td>14,283.98</td>\n",
       "    </tr>\n",
       "    <tr>\n",
       "      <th>42</th>\n",
       "      <td>Europe</td>\n",
       "      <td>1982</td>\n",
       "      <td>15,617.90</td>\n",
       "    </tr>\n",
       "    <tr>\n",
       "      <th>43</th>\n",
       "      <td>Europe</td>\n",
       "      <td>1987</td>\n",
       "      <td>17,214.31</td>\n",
       "    </tr>\n",
       "    <tr>\n",
       "      <th>44</th>\n",
       "      <td>Europe</td>\n",
       "      <td>1992</td>\n",
       "      <td>17,061.57</td>\n",
       "    </tr>\n",
       "    <tr>\n",
       "      <th>45</th>\n",
       "      <td>Europe</td>\n",
       "      <td>1997</td>\n",
       "      <td>19,076.78</td>\n",
       "    </tr>\n",
       "    <tr>\n",
       "      <th>46</th>\n",
       "      <td>Europe</td>\n",
       "      <td>2002</td>\n",
       "      <td>21,711.73</td>\n",
       "    </tr>\n",
       "    <tr>\n",
       "      <th>47</th>\n",
       "      <td>Europe</td>\n",
       "      <td>2007</td>\n",
       "      <td>25,054.48</td>\n",
       "    </tr>\n",
       "    <tr>\n",
       "      <th>48</th>\n",
       "      <td>Oceania</td>\n",
       "      <td>1952</td>\n",
       "      <td>10,298.09</td>\n",
       "    </tr>\n",
       "    <tr>\n",
       "      <th>49</th>\n",
       "      <td>Oceania</td>\n",
       "      <td>1957</td>\n",
       "      <td>11,598.52</td>\n",
       "    </tr>\n",
       "    <tr>\n",
       "      <th>50</th>\n",
       "      <td>Oceania</td>\n",
       "      <td>1962</td>\n",
       "      <td>12,696.45</td>\n",
       "    </tr>\n",
       "    <tr>\n",
       "      <th>51</th>\n",
       "      <td>Oceania</td>\n",
       "      <td>1967</td>\n",
       "      <td>14,495.02</td>\n",
       "    </tr>\n",
       "    <tr>\n",
       "      <th>52</th>\n",
       "      <td>Oceania</td>\n",
       "      <td>1972</td>\n",
       "      <td>16,417.33</td>\n",
       "    </tr>\n",
       "    <tr>\n",
       "      <th>53</th>\n",
       "      <td>Oceania</td>\n",
       "      <td>1977</td>\n",
       "      <td>17,283.96</td>\n",
       "    </tr>\n",
       "    <tr>\n",
       "      <th>54</th>\n",
       "      <td>Oceania</td>\n",
       "      <td>1982</td>\n",
       "      <td>18,554.71</td>\n",
       "    </tr>\n",
       "    <tr>\n",
       "      <th>55</th>\n",
       "      <td>Oceania</td>\n",
       "      <td>1987</td>\n",
       "      <td>20,448.04</td>\n",
       "    </tr>\n",
       "    <tr>\n",
       "      <th>56</th>\n",
       "      <td>Oceania</td>\n",
       "      <td>1992</td>\n",
       "      <td>20,894.05</td>\n",
       "    </tr>\n",
       "    <tr>\n",
       "      <th>57</th>\n",
       "      <td>Oceania</td>\n",
       "      <td>1997</td>\n",
       "      <td>24,024.18</td>\n",
       "    </tr>\n",
       "    <tr>\n",
       "      <th>58</th>\n",
       "      <td>Oceania</td>\n",
       "      <td>2002</td>\n",
       "      <td>26,938.78</td>\n",
       "    </tr>\n",
       "    <tr>\n",
       "      <th>59</th>\n",
       "      <td>Oceania</td>\n",
       "      <td>2007</td>\n",
       "      <td>29,810.19</td>\n",
       "    </tr>\n",
       "  </tbody>\n",
       "</table>\n",
       "</div>"
      ],
      "text/plain": [
       "   continent  year   gdp_cap\n",
       "0     Africa  1952  1,252.57\n",
       "1     Africa  1957  1,385.24\n",
       "2     Africa  1962  1,598.08\n",
       "3     Africa  1967  2,050.36\n",
       "4     Africa  1972  2,339.62\n",
       "5     Africa  1977  2,585.94\n",
       "6     Africa  1982  2,481.59\n",
       "7     Africa  1987  2,282.67\n",
       "8     Africa  1992  2,281.81\n",
       "9     Africa  1997  2,378.76\n",
       "10    Africa  2002  2,599.39\n",
       "11    Africa  2007  3,089.03\n",
       "12  Americas  1952  4,079.06\n",
       "13  Americas  1957  4,616.04\n",
       "14  Americas  1962  4,901.54\n",
       "15  Americas  1967  5,668.25\n",
       "16  Americas  1972  6,491.33\n",
       "17  Americas  1977  7,352.01\n",
       "18  Americas  1982  7,506.74\n",
       "19  Americas  1987  7,793.40\n",
       "20  Americas  1992  8,044.93\n",
       "21  Americas  1997  8,889.30\n",
       "22  Americas  2002  9,287.68\n",
       "23  Americas  2007 11,003.03\n",
       "24      Asia  1952  5,230.14\n",
       "25      Asia  1957  5,800.31\n",
       "26      Asia  1962  5,686.36\n",
       "27      Asia  1967  5,895.47\n",
       "28      Asia  1972  8,043.74\n",
       "29      Asia  1977  7,618.96\n",
       "30      Asia  1982  7,186.23\n",
       "31      Asia  1987  7,310.91\n",
       "32      Asia  1992  8,345.57\n",
       "33      Asia  1997  9,488.39\n",
       "34      Asia  2002  9,807.48\n",
       "35      Asia  2007 12,065.21\n",
       "36    Europe  1952  5,661.06\n",
       "37    Europe  1957  6,963.01\n",
       "38    Europe  1962  8,365.49\n",
       "39    Europe  1967 10,143.82\n",
       "40    Europe  1972 12,479.58\n",
       "41    Europe  1977 14,283.98\n",
       "42    Europe  1982 15,617.90\n",
       "43    Europe  1987 17,214.31\n",
       "44    Europe  1992 17,061.57\n",
       "45    Europe  1997 19,076.78\n",
       "46    Europe  2002 21,711.73\n",
       "47    Europe  2007 25,054.48\n",
       "48   Oceania  1952 10,298.09\n",
       "49   Oceania  1957 11,598.52\n",
       "50   Oceania  1962 12,696.45\n",
       "51   Oceania  1967 14,495.02\n",
       "52   Oceania  1972 16,417.33\n",
       "53   Oceania  1977 17,283.96\n",
       "54   Oceania  1982 18,554.71\n",
       "55   Oceania  1987 20,448.04\n",
       "56   Oceania  1992 20,894.05\n",
       "57   Oceania  1997 24,024.18\n",
       "58   Oceania  2002 26,938.78\n",
       "59   Oceania  2007 29,810.19"
      ]
     },
     "execution_count": 89,
     "metadata": {},
     "output_type": "execute_result"
    }
   ],
   "source": [
    "gpd_cap_average_per_year_continent = df.groupby(['continent' , 'year'] , as_index=False)['gdp_cap'].mean()\n",
    "gpd_cap_average_per_year_continent"
   ]
  },
  {
   "cell_type": "code",
   "execution_count": 90,
   "metadata": {},
   "outputs": [
    {
     "data": {
      "application/vnd.plotly.v1+json": {
       "config": {
        "plotlyServerURL": "https://plot.ly"
       },
       "data": [
        {
         "hovertemplate": "continent=Africa<br>year=%{x}<br>gdp_cap=%{marker.size}<extra></extra>",
         "legendgroup": "Africa",
         "marker": {
          "color": "#636efa",
          "size": [
           1252.5724658211539
          ],
          "sizemode": "area",
          "sizeref": 74.5254706875,
          "symbol": "circle"
         },
         "mode": "markers",
         "name": "Africa",
         "orientation": "v",
         "showlegend": true,
         "type": "scatter",
         "x": [
          1952
         ],
         "xaxis": "x",
         "y": [
          1252.5724658211539
         ],
         "yaxis": "y"
        },
        {
         "hovertemplate": "continent=Americas<br>year=%{x}<br>gdp_cap=%{marker.size}<extra></extra>",
         "legendgroup": "Americas",
         "marker": {
          "color": "#EF553B",
          "size": [
           4079.0625522
          ],
          "sizemode": "area",
          "sizeref": 74.5254706875,
          "symbol": "circle"
         },
         "mode": "markers",
         "name": "Americas",
         "orientation": "v",
         "showlegend": true,
         "type": "scatter",
         "x": [
          1952
         ],
         "xaxis": "x",
         "y": [
          4079.0625522
         ],
         "yaxis": "y"
        },
        {
         "hovertemplate": "continent=Asia<br>year=%{x}<br>gdp_cap=%{marker.size}<extra></extra>",
         "legendgroup": "Asia",
         "marker": {
          "color": "#00cc96",
          "size": [
           5230.139062665625
          ],
          "sizemode": "area",
          "sizeref": 74.5254706875,
          "symbol": "circle"
         },
         "mode": "markers",
         "name": "Asia",
         "orientation": "v",
         "showlegend": true,
         "type": "scatter",
         "x": [
          1952
         ],
         "xaxis": "x",
         "y": [
          5230.139062665625
         ],
         "yaxis": "y"
        },
        {
         "hovertemplate": "continent=Europe<br>year=%{x}<br>gdp_cap=%{marker.size}<extra></extra>",
         "legendgroup": "Europe",
         "marker": {
          "color": "#ab63fa",
          "size": [
           5661.05743476
          ],
          "sizemode": "area",
          "sizeref": 74.5254706875,
          "symbol": "circle"
         },
         "mode": "markers",
         "name": "Europe",
         "orientation": "v",
         "showlegend": true,
         "type": "scatter",
         "x": [
          1952
         ],
         "xaxis": "x",
         "y": [
          5661.05743476
         ],
         "yaxis": "y"
        },
        {
         "hovertemplate": "continent=Oceania<br>year=%{x}<br>gdp_cap=%{marker.size}<extra></extra>",
         "legendgroup": "Oceania",
         "marker": {
          "color": "#FFA15A",
          "size": [
           10298.08565
          ],
          "sizemode": "area",
          "sizeref": 74.5254706875,
          "symbol": "circle"
         },
         "mode": "markers",
         "name": "Oceania",
         "orientation": "v",
         "showlegend": true,
         "type": "scatter",
         "x": [
          1952
         ],
         "xaxis": "x",
         "y": [
          10298.08565
         ],
         "yaxis": "y"
        }
       ],
       "frames": [
        {
         "data": [
          {
           "hovertemplate": "continent=Africa<br>year=%{x}<br>gdp_cap=%{marker.size}<extra></extra>",
           "legendgroup": "Africa",
           "marker": {
            "color": "#636efa",
            "size": [
             1252.5724658211539
            ],
            "sizemode": "area",
            "sizeref": 74.5254706875,
            "symbol": "circle"
           },
           "mode": "markers",
           "name": "Africa",
           "orientation": "v",
           "showlegend": true,
           "type": "scatter",
           "x": [
            1952
           ],
           "xaxis": "x",
           "y": [
            1252.5724658211539
           ],
           "yaxis": "y"
          },
          {
           "hovertemplate": "continent=Americas<br>year=%{x}<br>gdp_cap=%{marker.size}<extra></extra>",
           "legendgroup": "Americas",
           "marker": {
            "color": "#EF553B",
            "size": [
             4079.0625522
            ],
            "sizemode": "area",
            "sizeref": 74.5254706875,
            "symbol": "circle"
           },
           "mode": "markers",
           "name": "Americas",
           "orientation": "v",
           "showlegend": true,
           "type": "scatter",
           "x": [
            1952
           ],
           "xaxis": "x",
           "y": [
            4079.0625522
           ],
           "yaxis": "y"
          },
          {
           "hovertemplate": "continent=Asia<br>year=%{x}<br>gdp_cap=%{marker.size}<extra></extra>",
           "legendgroup": "Asia",
           "marker": {
            "color": "#00cc96",
            "size": [
             5230.139062665625
            ],
            "sizemode": "area",
            "sizeref": 74.5254706875,
            "symbol": "circle"
           },
           "mode": "markers",
           "name": "Asia",
           "orientation": "v",
           "showlegend": true,
           "type": "scatter",
           "x": [
            1952
           ],
           "xaxis": "x",
           "y": [
            5230.139062665625
           ],
           "yaxis": "y"
          },
          {
           "hovertemplate": "continent=Europe<br>year=%{x}<br>gdp_cap=%{marker.size}<extra></extra>",
           "legendgroup": "Europe",
           "marker": {
            "color": "#ab63fa",
            "size": [
             5661.05743476
            ],
            "sizemode": "area",
            "sizeref": 74.5254706875,
            "symbol": "circle"
           },
           "mode": "markers",
           "name": "Europe",
           "orientation": "v",
           "showlegend": true,
           "type": "scatter",
           "x": [
            1952
           ],
           "xaxis": "x",
           "y": [
            5661.05743476
           ],
           "yaxis": "y"
          },
          {
           "hovertemplate": "continent=Oceania<br>year=%{x}<br>gdp_cap=%{marker.size}<extra></extra>",
           "legendgroup": "Oceania",
           "marker": {
            "color": "#FFA15A",
            "size": [
             10298.08565
            ],
            "sizemode": "area",
            "sizeref": 74.5254706875,
            "symbol": "circle"
           },
           "mode": "markers",
           "name": "Oceania",
           "orientation": "v",
           "showlegend": true,
           "type": "scatter",
           "x": [
            1952
           ],
           "xaxis": "x",
           "y": [
            10298.08565
           ],
           "yaxis": "y"
          }
         ],
         "name": "1952"
        },
        {
         "data": [
          {
           "hovertemplate": "continent=Africa<br>year=%{x}<br>gdp_cap=%{marker.size}<extra></extra>",
           "legendgroup": "Africa",
           "marker": {
            "color": "#636efa",
            "size": [
             1385.2360622557692
            ],
            "sizemode": "area",
            "sizeref": 74.5254706875,
            "symbol": "circle"
           },
           "mode": "markers",
           "name": "Africa",
           "orientation": "v",
           "showlegend": true,
           "type": "scatter",
           "x": [
            1957
           ],
           "xaxis": "x",
           "y": [
            1385.2360622557692
           ],
           "yaxis": "y"
          },
          {
           "hovertemplate": "continent=Americas<br>year=%{x}<br>gdp_cap=%{marker.size}<extra></extra>",
           "legendgroup": "Americas",
           "marker": {
            "color": "#EF553B",
            "size": [
             4616.04373316
            ],
            "sizemode": "area",
            "sizeref": 74.5254706875,
            "symbol": "circle"
           },
           "mode": "markers",
           "name": "Americas",
           "orientation": "v",
           "showlegend": true,
           "type": "scatter",
           "x": [
            1957
           ],
           "xaxis": "x",
           "y": [
            4616.04373316
           ],
           "yaxis": "y"
          },
          {
           "hovertemplate": "continent=Asia<br>year=%{x}<br>gdp_cap=%{marker.size}<extra></extra>",
           "legendgroup": "Asia",
           "marker": {
            "color": "#00cc96",
            "size": [
             5800.309642721875
            ],
            "sizemode": "area",
            "sizeref": 74.5254706875,
            "symbol": "circle"
           },
           "mode": "markers",
           "name": "Asia",
           "orientation": "v",
           "showlegend": true,
           "type": "scatter",
           "x": [
            1957
           ],
           "xaxis": "x",
           "y": [
            5800.309642721875
           ],
           "yaxis": "y"
          },
          {
           "hovertemplate": "continent=Europe<br>year=%{x}<br>gdp_cap=%{marker.size}<extra></extra>",
           "legendgroup": "Europe",
           "marker": {
            "color": "#ab63fa",
            "size": [
             6963.0128159333335
            ],
            "sizemode": "area",
            "sizeref": 74.5254706875,
            "symbol": "circle"
           },
           "mode": "markers",
           "name": "Europe",
           "orientation": "v",
           "showlegend": true,
           "type": "scatter",
           "x": [
            1957
           ],
           "xaxis": "x",
           "y": [
            6963.0128159333335
           ],
           "yaxis": "y"
          },
          {
           "hovertemplate": "continent=Oceania<br>year=%{x}<br>gdp_cap=%{marker.size}<extra></extra>",
           "legendgroup": "Oceania",
           "marker": {
            "color": "#FFA15A",
            "size": [
             11598.522455
            ],
            "sizemode": "area",
            "sizeref": 74.5254706875,
            "symbol": "circle"
           },
           "mode": "markers",
           "name": "Oceania",
           "orientation": "v",
           "showlegend": true,
           "type": "scatter",
           "x": [
            1957
           ],
           "xaxis": "x",
           "y": [
            11598.522455
           ],
           "yaxis": "y"
          }
         ],
         "name": "1957"
        },
        {
         "data": [
          {
           "hovertemplate": "continent=Africa<br>year=%{x}<br>gdp_cap=%{marker.size}<extra></extra>",
           "legendgroup": "Africa",
           "marker": {
            "color": "#636efa",
            "size": [
             1598.0788248461538
            ],
            "sizemode": "area",
            "sizeref": 74.5254706875,
            "symbol": "circle"
           },
           "mode": "markers",
           "name": "Africa",
           "orientation": "v",
           "showlegend": true,
           "type": "scatter",
           "x": [
            1962
           ],
           "xaxis": "x",
           "y": [
            1598.0788248461538
           ],
           "yaxis": "y"
          },
          {
           "hovertemplate": "continent=Americas<br>year=%{x}<br>gdp_cap=%{marker.size}<extra></extra>",
           "legendgroup": "Americas",
           "marker": {
            "color": "#EF553B",
            "size": [
             4901.5418704
            ],
            "sizemode": "area",
            "sizeref": 74.5254706875,
            "symbol": "circle"
           },
           "mode": "markers",
           "name": "Americas",
           "orientation": "v",
           "showlegend": true,
           "type": "scatter",
           "x": [
            1962
           ],
           "xaxis": "x",
           "y": [
            4901.5418704
           ],
           "yaxis": "y"
          },
          {
           "hovertemplate": "continent=Asia<br>year=%{x}<br>gdp_cap=%{marker.size}<extra></extra>",
           "legendgroup": "Asia",
           "marker": {
            "color": "#00cc96",
            "size": [
             5686.3614659875
            ],
            "sizemode": "area",
            "sizeref": 74.5254706875,
            "symbol": "circle"
           },
           "mode": "markers",
           "name": "Asia",
           "orientation": "v",
           "showlegend": true,
           "type": "scatter",
           "x": [
            1962
           ],
           "xaxis": "x",
           "y": [
            5686.3614659875
           ],
           "yaxis": "y"
          },
          {
           "hovertemplate": "continent=Europe<br>year=%{x}<br>gdp_cap=%{marker.size}<extra></extra>",
           "legendgroup": "Europe",
           "marker": {
            "color": "#ab63fa",
            "size": [
             8365.4868143
            ],
            "sizemode": "area",
            "sizeref": 74.5254706875,
            "symbol": "circle"
           },
           "mode": "markers",
           "name": "Europe",
           "orientation": "v",
           "showlegend": true,
           "type": "scatter",
           "x": [
            1962
           ],
           "xaxis": "x",
           "y": [
            8365.4868143
           ],
           "yaxis": "y"
          },
          {
           "hovertemplate": "continent=Oceania<br>year=%{x}<br>gdp_cap=%{marker.size}<extra></extra>",
           "legendgroup": "Oceania",
           "marker": {
            "color": "#FFA15A",
            "size": [
             12696.452430000001
            ],
            "sizemode": "area",
            "sizeref": 74.5254706875,
            "symbol": "circle"
           },
           "mode": "markers",
           "name": "Oceania",
           "orientation": "v",
           "showlegend": true,
           "type": "scatter",
           "x": [
            1962
           ],
           "xaxis": "x",
           "y": [
            12696.452430000001
           ],
           "yaxis": "y"
          }
         ],
         "name": "1962"
        },
        {
         "data": [
          {
           "hovertemplate": "continent=Africa<br>year=%{x}<br>gdp_cap=%{marker.size}<extra></extra>",
           "legendgroup": "Africa",
           "marker": {
            "color": "#636efa",
            "size": [
             2050.3638008576922
            ],
            "sizemode": "area",
            "sizeref": 74.5254706875,
            "symbol": "circle"
           },
           "mode": "markers",
           "name": "Africa",
           "orientation": "v",
           "showlegend": true,
           "type": "scatter",
           "x": [
            1967
           ],
           "xaxis": "x",
           "y": [
            2050.3638008576922
           ],
           "yaxis": "y"
          },
          {
           "hovertemplate": "continent=Americas<br>year=%{x}<br>gdp_cap=%{marker.size}<extra></extra>",
           "legendgroup": "Americas",
           "marker": {
            "color": "#EF553B",
            "size": [
             5668.25349604
            ],
            "sizemode": "area",
            "sizeref": 74.5254706875,
            "symbol": "circle"
           },
           "mode": "markers",
           "name": "Americas",
           "orientation": "v",
           "showlegend": true,
           "type": "scatter",
           "x": [
            1967
           ],
           "xaxis": "x",
           "y": [
            5668.25349604
           ],
           "yaxis": "y"
          },
          {
           "hovertemplate": "continent=Asia<br>year=%{x}<br>gdp_cap=%{marker.size}<extra></extra>",
           "legendgroup": "Asia",
           "marker": {
            "color": "#00cc96",
            "size": [
             5895.46812265625
            ],
            "sizemode": "area",
            "sizeref": 74.5254706875,
            "symbol": "circle"
           },
           "mode": "markers",
           "name": "Asia",
           "orientation": "v",
           "showlegend": true,
           "type": "scatter",
           "x": [
            1967
           ],
           "xaxis": "x",
           "y": [
            5895.46812265625
           ],
           "yaxis": "y"
          },
          {
           "hovertemplate": "continent=Europe<br>year=%{x}<br>gdp_cap=%{marker.size}<extra></extra>",
           "legendgroup": "Europe",
           "marker": {
            "color": "#ab63fa",
            "size": [
             10143.823756533333
            ],
            "sizemode": "area",
            "sizeref": 74.5254706875,
            "symbol": "circle"
           },
           "mode": "markers",
           "name": "Europe",
           "orientation": "v",
           "showlegend": true,
           "type": "scatter",
           "x": [
            1967
           ],
           "xaxis": "x",
           "y": [
            10143.823756533333
           ],
           "yaxis": "y"
          },
          {
           "hovertemplate": "continent=Oceania<br>year=%{x}<br>gdp_cap=%{marker.size}<extra></extra>",
           "legendgroup": "Oceania",
           "marker": {
            "color": "#FFA15A",
            "size": [
             14495.021789999999
            ],
            "sizemode": "area",
            "sizeref": 74.5254706875,
            "symbol": "circle"
           },
           "mode": "markers",
           "name": "Oceania",
           "orientation": "v",
           "showlegend": true,
           "type": "scatter",
           "x": [
            1967
           ],
           "xaxis": "x",
           "y": [
            14495.021789999999
           ],
           "yaxis": "y"
          }
         ],
         "name": "1967"
        },
        {
         "data": [
          {
           "hovertemplate": "continent=Africa<br>year=%{x}<br>gdp_cap=%{marker.size}<extra></extra>",
           "legendgroup": "Africa",
           "marker": {
            "color": "#636efa",
            "size": [
             2339.615674198077
            ],
            "sizemode": "area",
            "sizeref": 74.5254706875,
            "symbol": "circle"
           },
           "mode": "markers",
           "name": "Africa",
           "orientation": "v",
           "showlegend": true,
           "type": "scatter",
           "x": [
            1972
           ],
           "xaxis": "x",
           "y": [
            2339.615674198077
           ],
           "yaxis": "y"
          },
          {
           "hovertemplate": "continent=Americas<br>year=%{x}<br>gdp_cap=%{marker.size}<extra></extra>",
           "legendgroup": "Americas",
           "marker": {
            "color": "#EF553B",
            "size": [
             6491.334139039999
            ],
            "sizemode": "area",
            "sizeref": 74.5254706875,
            "symbol": "circle"
           },
           "mode": "markers",
           "name": "Americas",
           "orientation": "v",
           "showlegend": true,
           "type": "scatter",
           "x": [
            1972
           ],
           "xaxis": "x",
           "y": [
            6491.334139039999
           ],
           "yaxis": "y"
          },
          {
           "hovertemplate": "continent=Asia<br>year=%{x}<br>gdp_cap=%{marker.size}<extra></extra>",
           "legendgroup": "Asia",
           "marker": {
            "color": "#00cc96",
            "size": [
             8043.73546411875
            ],
            "sizemode": "area",
            "sizeref": 74.5254706875,
            "symbol": "circle"
           },
           "mode": "markers",
           "name": "Asia",
           "orientation": "v",
           "showlegend": true,
           "type": "scatter",
           "x": [
            1972
           ],
           "xaxis": "x",
           "y": [
            8043.73546411875
           ],
           "yaxis": "y"
          },
          {
           "hovertemplate": "continent=Europe<br>year=%{x}<br>gdp_cap=%{marker.size}<extra></extra>",
           "legendgroup": "Europe",
           "marker": {
            "color": "#ab63fa",
            "size": [
             12479.575246466668
            ],
            "sizemode": "area",
            "sizeref": 74.5254706875,
            "symbol": "circle"
           },
           "mode": "markers",
           "name": "Europe",
           "orientation": "v",
           "showlegend": true,
           "type": "scatter",
           "x": [
            1972
           ],
           "xaxis": "x",
           "y": [
            12479.575246466668
           ],
           "yaxis": "y"
          },
          {
           "hovertemplate": "continent=Oceania<br>year=%{x}<br>gdp_cap=%{marker.size}<extra></extra>",
           "legendgroup": "Oceania",
           "marker": {
            "color": "#FFA15A",
            "size": [
             16417.33338
            ],
            "sizemode": "area",
            "sizeref": 74.5254706875,
            "symbol": "circle"
           },
           "mode": "markers",
           "name": "Oceania",
           "orientation": "v",
           "showlegend": true,
           "type": "scatter",
           "x": [
            1972
           ],
           "xaxis": "x",
           "y": [
            16417.33338
           ],
           "yaxis": "y"
          }
         ],
         "name": "1972"
        },
        {
         "data": [
          {
           "hovertemplate": "continent=Africa<br>year=%{x}<br>gdp_cap=%{marker.size}<extra></extra>",
           "legendgroup": "Africa",
           "marker": {
            "color": "#636efa",
            "size": [
             2585.9385084634614
            ],
            "sizemode": "area",
            "sizeref": 74.5254706875,
            "symbol": "circle"
           },
           "mode": "markers",
           "name": "Africa",
           "orientation": "v",
           "showlegend": true,
           "type": "scatter",
           "x": [
            1977
           ],
           "xaxis": "x",
           "y": [
            2585.9385084634614
           ],
           "yaxis": "y"
          },
          {
           "hovertemplate": "continent=Americas<br>year=%{x}<br>gdp_cap=%{marker.size}<extra></extra>",
           "legendgroup": "Americas",
           "marker": {
            "color": "#EF553B",
            "size": [
             7352.007126280001
            ],
            "sizemode": "area",
            "sizeref": 74.5254706875,
            "symbol": "circle"
           },
           "mode": "markers",
           "name": "Americas",
           "orientation": "v",
           "showlegend": true,
           "type": "scatter",
           "x": [
            1977
           ],
           "xaxis": "x",
           "y": [
            7352.007126280001
           ],
           "yaxis": "y"
          },
          {
           "hovertemplate": "continent=Asia<br>year=%{x}<br>gdp_cap=%{marker.size}<extra></extra>",
           "legendgroup": "Asia",
           "marker": {
            "color": "#00cc96",
            "size": [
             7618.960732740625
            ],
            "sizemode": "area",
            "sizeref": 74.5254706875,
            "symbol": "circle"
           },
           "mode": "markers",
           "name": "Asia",
           "orientation": "v",
           "showlegend": true,
           "type": "scatter",
           "x": [
            1977
           ],
           "xaxis": "x",
           "y": [
            7618.960732740625
           ],
           "yaxis": "y"
          },
          {
           "hovertemplate": "continent=Europe<br>year=%{x}<br>gdp_cap=%{marker.size}<extra></extra>",
           "legendgroup": "Europe",
           "marker": {
            "color": "#ab63fa",
            "size": [
             14283.9791096
            ],
            "sizemode": "area",
            "sizeref": 74.5254706875,
            "symbol": "circle"
           },
           "mode": "markers",
           "name": "Europe",
           "orientation": "v",
           "showlegend": true,
           "type": "scatter",
           "x": [
            1977
           ],
           "xaxis": "x",
           "y": [
            14283.9791096
           ],
           "yaxis": "y"
          },
          {
           "hovertemplate": "continent=Oceania<br>year=%{x}<br>gdp_cap=%{marker.size}<extra></extra>",
           "legendgroup": "Oceania",
           "marker": {
            "color": "#FFA15A",
            "size": [
             17283.957605
            ],
            "sizemode": "area",
            "sizeref": 74.5254706875,
            "symbol": "circle"
           },
           "mode": "markers",
           "name": "Oceania",
           "orientation": "v",
           "showlegend": true,
           "type": "scatter",
           "x": [
            1977
           ],
           "xaxis": "x",
           "y": [
            17283.957605
           ],
           "yaxis": "y"
          }
         ],
         "name": "1977"
        },
        {
         "data": [
          {
           "hovertemplate": "continent=Africa<br>year=%{x}<br>gdp_cap=%{marker.size}<extra></extra>",
           "legendgroup": "Africa",
           "marker": {
            "color": "#636efa",
            "size": [
             2481.592959753846
            ],
            "sizemode": "area",
            "sizeref": 74.5254706875,
            "symbol": "circle"
           },
           "mode": "markers",
           "name": "Africa",
           "orientation": "v",
           "showlegend": true,
           "type": "scatter",
           "x": [
            1982
           ],
           "xaxis": "x",
           "y": [
            2481.592959753846
           ],
           "yaxis": "y"
          },
          {
           "hovertemplate": "continent=Americas<br>year=%{x}<br>gdp_cap=%{marker.size}<extra></extra>",
           "legendgroup": "Americas",
           "marker": {
            "color": "#EF553B",
            "size": [
             7506.73708808
            ],
            "sizemode": "area",
            "sizeref": 74.5254706875,
            "symbol": "circle"
           },
           "mode": "markers",
           "name": "Americas",
           "orientation": "v",
           "showlegend": true,
           "type": "scatter",
           "x": [
            1982
           ],
           "xaxis": "x",
           "y": [
            7506.73708808
           ],
           "yaxis": "y"
          },
          {
           "hovertemplate": "continent=Asia<br>year=%{x}<br>gdp_cap=%{marker.size}<extra></extra>",
           "legendgroup": "Asia",
           "marker": {
            "color": "#00cc96",
            "size": [
             7186.23221865625
            ],
            "sizemode": "area",
            "sizeref": 74.5254706875,
            "symbol": "circle"
           },
           "mode": "markers",
           "name": "Asia",
           "orientation": "v",
           "showlegend": true,
           "type": "scatter",
           "x": [
            1982
           ],
           "xaxis": "x",
           "y": [
            7186.23221865625
           ],
           "yaxis": "y"
          },
          {
           "hovertemplate": "continent=Europe<br>year=%{x}<br>gdp_cap=%{marker.size}<extra></extra>",
           "legendgroup": "Europe",
           "marker": {
            "color": "#ab63fa",
            "size": [
             15617.896551233334
            ],
            "sizemode": "area",
            "sizeref": 74.5254706875,
            "symbol": "circle"
           },
           "mode": "markers",
           "name": "Europe",
           "orientation": "v",
           "showlegend": true,
           "type": "scatter",
           "x": [
            1982
           ],
           "xaxis": "x",
           "y": [
            15617.896551233334
           ],
           "yaxis": "y"
          },
          {
           "hovertemplate": "continent=Oceania<br>year=%{x}<br>gdp_cap=%{marker.size}<extra></extra>",
           "legendgroup": "Oceania",
           "marker": {
            "color": "#FFA15A",
            "size": [
             18554.70984
            ],
            "sizemode": "area",
            "sizeref": 74.5254706875,
            "symbol": "circle"
           },
           "mode": "markers",
           "name": "Oceania",
           "orientation": "v",
           "showlegend": true,
           "type": "scatter",
           "x": [
            1982
           ],
           "xaxis": "x",
           "y": [
            18554.70984
           ],
           "yaxis": "y"
          }
         ],
         "name": "1982"
        },
        {
         "data": [
          {
           "hovertemplate": "continent=Africa<br>year=%{x}<br>gdp_cap=%{marker.size}<extra></extra>",
           "legendgroup": "Africa",
           "marker": {
            "color": "#636efa",
            "size": [
             2282.6689912596153
            ],
            "sizemode": "area",
            "sizeref": 74.5254706875,
            "symbol": "circle"
           },
           "mode": "markers",
           "name": "Africa",
           "orientation": "v",
           "showlegend": true,
           "type": "scatter",
           "x": [
            1987
           ],
           "xaxis": "x",
           "y": [
            2282.6689912596153
           ],
           "yaxis": "y"
          },
          {
           "hovertemplate": "continent=Americas<br>year=%{x}<br>gdp_cap=%{marker.size}<extra></extra>",
           "legendgroup": "Americas",
           "marker": {
            "color": "#EF553B",
            "size": [
             7793.40026112
            ],
            "sizemode": "area",
            "sizeref": 74.5254706875,
            "symbol": "circle"
           },
           "mode": "markers",
           "name": "Americas",
           "orientation": "v",
           "showlegend": true,
           "type": "scatter",
           "x": [
            1987
           ],
           "xaxis": "x",
           "y": [
            7793.40026112
           ],
           "yaxis": "y"
          },
          {
           "hovertemplate": "continent=Asia<br>year=%{x}<br>gdp_cap=%{marker.size}<extra></extra>",
           "legendgroup": "Asia",
           "marker": {
            "color": "#00cc96",
            "size": [
             7310.906090471874
            ],
            "sizemode": "area",
            "sizeref": 74.5254706875,
            "symbol": "circle"
           },
           "mode": "markers",
           "name": "Asia",
           "orientation": "v",
           "showlegend": true,
           "type": "scatter",
           "x": [
            1987
           ],
           "xaxis": "x",
           "y": [
            7310.906090471874
           ],
           "yaxis": "y"
          },
          {
           "hovertemplate": "continent=Europe<br>year=%{x}<br>gdp_cap=%{marker.size}<extra></extra>",
           "legendgroup": "Europe",
           "marker": {
            "color": "#ab63fa",
            "size": [
             17214.310726633335
            ],
            "sizemode": "area",
            "sizeref": 74.5254706875,
            "symbol": "circle"
           },
           "mode": "markers",
           "name": "Europe",
           "orientation": "v",
           "showlegend": true,
           "type": "scatter",
           "x": [
            1987
           ],
           "xaxis": "x",
           "y": [
            17214.310726633335
           ],
           "yaxis": "y"
          },
          {
           "hovertemplate": "continent=Oceania<br>year=%{x}<br>gdp_cap=%{marker.size}<extra></extra>",
           "legendgroup": "Oceania",
           "marker": {
            "color": "#FFA15A",
            "size": [
             20448.040159999997
            ],
            "sizemode": "area",
            "sizeref": 74.5254706875,
            "symbol": "circle"
           },
           "mode": "markers",
           "name": "Oceania",
           "orientation": "v",
           "showlegend": true,
           "type": "scatter",
           "x": [
            1987
           ],
           "xaxis": "x",
           "y": [
            20448.040159999997
           ],
           "yaxis": "y"
          }
         ],
         "name": "1987"
        },
        {
         "data": [
          {
           "hovertemplate": "continent=Africa<br>year=%{x}<br>gdp_cap=%{marker.size}<extra></extra>",
           "legendgroup": "Africa",
           "marker": {
            "color": "#636efa",
            "size": [
             2281.8103332442306
            ],
            "sizemode": "area",
            "sizeref": 74.5254706875,
            "symbol": "circle"
           },
           "mode": "markers",
           "name": "Africa",
           "orientation": "v",
           "showlegend": true,
           "type": "scatter",
           "x": [
            1992
           ],
           "xaxis": "x",
           "y": [
            2281.8103332442306
           ],
           "yaxis": "y"
          },
          {
           "hovertemplate": "continent=Americas<br>year=%{x}<br>gdp_cap=%{marker.size}<extra></extra>",
           "legendgroup": "Americas",
           "marker": {
            "color": "#EF553B",
            "size": [
             8044.93440552
            ],
            "sizemode": "area",
            "sizeref": 74.5254706875,
            "symbol": "circle"
           },
           "mode": "markers",
           "name": "Americas",
           "orientation": "v",
           "showlegend": true,
           "type": "scatter",
           "x": [
            1992
           ],
           "xaxis": "x",
           "y": [
            8044.93440552
           ],
           "yaxis": "y"
          },
          {
           "hovertemplate": "continent=Asia<br>year=%{x}<br>gdp_cap=%{marker.size}<extra></extra>",
           "legendgroup": "Asia",
           "marker": {
            "color": "#00cc96",
            "size": [
             8345.570488596875
            ],
            "sizemode": "area",
            "sizeref": 74.5254706875,
            "symbol": "circle"
           },
           "mode": "markers",
           "name": "Asia",
           "orientation": "v",
           "showlegend": true,
           "type": "scatter",
           "x": [
            1992
           ],
           "xaxis": "x",
           "y": [
            8345.570488596875
           ],
           "yaxis": "y"
          },
          {
           "hovertemplate": "continent=Europe<br>year=%{x}<br>gdp_cap=%{marker.size}<extra></extra>",
           "legendgroup": "Europe",
           "marker": {
            "color": "#ab63fa",
            "size": [
             17061.5680842
            ],
            "sizemode": "area",
            "sizeref": 74.5254706875,
            "symbol": "circle"
           },
           "mode": "markers",
           "name": "Europe",
           "orientation": "v",
           "showlegend": true,
           "type": "scatter",
           "x": [
            1992
           ],
           "xaxis": "x",
           "y": [
            17061.5680842
           ],
           "yaxis": "y"
          },
          {
           "hovertemplate": "continent=Oceania<br>year=%{x}<br>gdp_cap=%{marker.size}<extra></extra>",
           "legendgroup": "Oceania",
           "marker": {
            "color": "#FFA15A",
            "size": [
             20894.045885
            ],
            "sizemode": "area",
            "sizeref": 74.5254706875,
            "symbol": "circle"
           },
           "mode": "markers",
           "name": "Oceania",
           "orientation": "v",
           "showlegend": true,
           "type": "scatter",
           "x": [
            1992
           ],
           "xaxis": "x",
           "y": [
            20894.045885
           ],
           "yaxis": "y"
          }
         ],
         "name": "1992"
        },
        {
         "data": [
          {
           "hovertemplate": "continent=Africa<br>year=%{x}<br>gdp_cap=%{marker.size}<extra></extra>",
           "legendgroup": "Africa",
           "marker": {
            "color": "#636efa",
            "size": [
             2378.759555101923
            ],
            "sizemode": "area",
            "sizeref": 74.5254706875,
            "symbol": "circle"
           },
           "mode": "markers",
           "name": "Africa",
           "orientation": "v",
           "showlegend": true,
           "type": "scatter",
           "x": [
            1997
           ],
           "xaxis": "x",
           "y": [
            2378.759555101923
           ],
           "yaxis": "y"
          },
          {
           "hovertemplate": "continent=Americas<br>year=%{x}<br>gdp_cap=%{marker.size}<extra></extra>",
           "legendgroup": "Americas",
           "marker": {
            "color": "#EF553B",
            "size": [
             8889.30086256
            ],
            "sizemode": "area",
            "sizeref": 74.5254706875,
            "symbol": "circle"
           },
           "mode": "markers",
           "name": "Americas",
           "orientation": "v",
           "showlegend": true,
           "type": "scatter",
           "x": [
            1997
           ],
           "xaxis": "x",
           "y": [
            8889.30086256
           ],
           "yaxis": "y"
          },
          {
           "hovertemplate": "continent=Asia<br>year=%{x}<br>gdp_cap=%{marker.size}<extra></extra>",
           "legendgroup": "Asia",
           "marker": {
            "color": "#00cc96",
            "size": [
             9488.389671975001
            ],
            "sizemode": "area",
            "sizeref": 74.5254706875,
            "symbol": "circle"
           },
           "mode": "markers",
           "name": "Asia",
           "orientation": "v",
           "showlegend": true,
           "type": "scatter",
           "x": [
            1997
           ],
           "xaxis": "x",
           "y": [
            9488.389671975001
           ],
           "yaxis": "y"
          },
          {
           "hovertemplate": "continent=Europe<br>year=%{x}<br>gdp_cap=%{marker.size}<extra></extra>",
           "legendgroup": "Europe",
           "marker": {
            "color": "#ab63fa",
            "size": [
             19076.781801600002
            ],
            "sizemode": "area",
            "sizeref": 74.5254706875,
            "symbol": "circle"
           },
           "mode": "markers",
           "name": "Europe",
           "orientation": "v",
           "showlegend": true,
           "type": "scatter",
           "x": [
            1997
           ],
           "xaxis": "x",
           "y": [
            19076.781801600002
           ],
           "yaxis": "y"
          },
          {
           "hovertemplate": "continent=Oceania<br>year=%{x}<br>gdp_cap=%{marker.size}<extra></extra>",
           "legendgroup": "Oceania",
           "marker": {
            "color": "#FFA15A",
            "size": [
             24024.175170000002
            ],
            "sizemode": "area",
            "sizeref": 74.5254706875,
            "symbol": "circle"
           },
           "mode": "markers",
           "name": "Oceania",
           "orientation": "v",
           "showlegend": true,
           "type": "scatter",
           "x": [
            1997
           ],
           "xaxis": "x",
           "y": [
            24024.175170000002
           ],
           "yaxis": "y"
          }
         ],
         "name": "1997"
        },
        {
         "data": [
          {
           "hovertemplate": "continent=Africa<br>year=%{x}<br>gdp_cap=%{marker.size}<extra></extra>",
           "legendgroup": "Africa",
           "marker": {
            "color": "#636efa",
            "size": [
             2599.385158890385
            ],
            "sizemode": "area",
            "sizeref": 74.5254706875,
            "symbol": "circle"
           },
           "mode": "markers",
           "name": "Africa",
           "orientation": "v",
           "showlegend": true,
           "type": "scatter",
           "x": [
            2002
           ],
           "xaxis": "x",
           "y": [
            2599.385158890385
           ],
           "yaxis": "y"
          },
          {
           "hovertemplate": "continent=Americas<br>year=%{x}<br>gdp_cap=%{marker.size}<extra></extra>",
           "legendgroup": "Americas",
           "marker": {
            "color": "#EF553B",
            "size": [
             9287.67710732
            ],
            "sizemode": "area",
            "sizeref": 74.5254706875,
            "symbol": "circle"
           },
           "mode": "markers",
           "name": "Americas",
           "orientation": "v",
           "showlegend": true,
           "type": "scatter",
           "x": [
            2002
           ],
           "xaxis": "x",
           "y": [
            9287.67710732
           ],
           "yaxis": "y"
          },
          {
           "hovertemplate": "continent=Asia<br>year=%{x}<br>gdp_cap=%{marker.size}<extra></extra>",
           "legendgroup": "Asia",
           "marker": {
            "color": "#00cc96",
            "size": [
             9807.480873346874
            ],
            "sizemode": "area",
            "sizeref": 74.5254706875,
            "symbol": "circle"
           },
           "mode": "markers",
           "name": "Asia",
           "orientation": "v",
           "showlegend": true,
           "type": "scatter",
           "x": [
            2002
           ],
           "xaxis": "x",
           "y": [
            9807.480873346874
           ],
           "yaxis": "y"
          },
          {
           "hovertemplate": "continent=Europe<br>year=%{x}<br>gdp_cap=%{marker.size}<extra></extra>",
           "legendgroup": "Europe",
           "marker": {
            "color": "#ab63fa",
            "size": [
             21711.73242243333
            ],
            "sizemode": "area",
            "sizeref": 74.5254706875,
            "symbol": "circle"
           },
           "mode": "markers",
           "name": "Europe",
           "orientation": "v",
           "showlegend": true,
           "type": "scatter",
           "x": [
            2002
           ],
           "xaxis": "x",
           "y": [
            21711.73242243333
           ],
           "yaxis": "y"
          },
          {
           "hovertemplate": "continent=Oceania<br>year=%{x}<br>gdp_cap=%{marker.size}<extra></extra>",
           "legendgroup": "Oceania",
           "marker": {
            "color": "#FFA15A",
            "size": [
             26938.77804
            ],
            "sizemode": "area",
            "sizeref": 74.5254706875,
            "symbol": "circle"
           },
           "mode": "markers",
           "name": "Oceania",
           "orientation": "v",
           "showlegend": true,
           "type": "scatter",
           "x": [
            2002
           ],
           "xaxis": "x",
           "y": [
            26938.77804
           ],
           "yaxis": "y"
          }
         ],
         "name": "2002"
        },
        {
         "data": [
          {
           "hovertemplate": "continent=Africa<br>year=%{x}<br>gdp_cap=%{marker.size}<extra></extra>",
           "legendgroup": "Africa",
           "marker": {
            "color": "#636efa",
            "size": [
             3089.0326047365384
            ],
            "sizemode": "area",
            "sizeref": 74.5254706875,
            "symbol": "circle"
           },
           "mode": "markers",
           "name": "Africa",
           "orientation": "v",
           "showlegend": true,
           "type": "scatter",
           "x": [
            2007
           ],
           "xaxis": "x",
           "y": [
            3089.0326047365384
           ],
           "yaxis": "y"
          },
          {
           "hovertemplate": "continent=Americas<br>year=%{x}<br>gdp_cap=%{marker.size}<extra></extra>",
           "legendgroup": "Americas",
           "marker": {
            "color": "#EF553B",
            "size": [
             11003.03162536
            ],
            "sizemode": "area",
            "sizeref": 74.5254706875,
            "symbol": "circle"
           },
           "mode": "markers",
           "name": "Americas",
           "orientation": "v",
           "showlegend": true,
           "type": "scatter",
           "x": [
            2007
           ],
           "xaxis": "x",
           "y": [
            11003.03162536
           ],
           "yaxis": "y"
          },
          {
           "hovertemplate": "continent=Asia<br>year=%{x}<br>gdp_cap=%{marker.size}<extra></extra>",
           "legendgroup": "Asia",
           "marker": {
            "color": "#00cc96",
            "size": [
             12065.20655045
            ],
            "sizemode": "area",
            "sizeref": 74.5254706875,
            "symbol": "circle"
           },
           "mode": "markers",
           "name": "Asia",
           "orientation": "v",
           "showlegend": true,
           "type": "scatter",
           "x": [
            2007
           ],
           "xaxis": "x",
           "y": [
            12065.20655045
           ],
           "yaxis": "y"
          },
          {
           "hovertemplate": "continent=Europe<br>year=%{x}<br>gdp_cap=%{marker.size}<extra></extra>",
           "legendgroup": "Europe",
           "marker": {
            "color": "#ab63fa",
            "size": [
             25054.481635933334
            ],
            "sizemode": "area",
            "sizeref": 74.5254706875,
            "symbol": "circle"
           },
           "mode": "markers",
           "name": "Europe",
           "orientation": "v",
           "showlegend": true,
           "type": "scatter",
           "x": [
            2007
           ],
           "xaxis": "x",
           "y": [
            25054.481635933334
           ],
           "yaxis": "y"
          },
          {
           "hovertemplate": "continent=Oceania<br>year=%{x}<br>gdp_cap=%{marker.size}<extra></extra>",
           "legendgroup": "Oceania",
           "marker": {
            "color": "#FFA15A",
            "size": [
             29810.188275
            ],
            "sizemode": "area",
            "sizeref": 74.5254706875,
            "symbol": "circle"
           },
           "mode": "markers",
           "name": "Oceania",
           "orientation": "v",
           "showlegend": true,
           "type": "scatter",
           "x": [
            2007
           ],
           "xaxis": "x",
           "y": [
            29810.188275
           ],
           "yaxis": "y"
          }
         ],
         "name": "2007"
        }
       ],
       "layout": {
        "legend": {
         "itemsizing": "constant",
         "title": {
          "text": "continent"
         },
         "tracegroupgap": 0
        },
        "sliders": [
         {
          "active": 0,
          "currentvalue": {
           "prefix": "year="
          },
          "len": 0.9,
          "pad": {
           "b": 10,
           "t": 60
          },
          "steps": [
           {
            "args": [
             [
              "1952"
             ],
             {
              "frame": {
               "duration": 0,
               "redraw": false
              },
              "fromcurrent": true,
              "mode": "immediate",
              "transition": {
               "duration": 0,
               "easing": "linear"
              }
             }
            ],
            "label": "1952",
            "method": "animate"
           },
           {
            "args": [
             [
              "1957"
             ],
             {
              "frame": {
               "duration": 0,
               "redraw": false
              },
              "fromcurrent": true,
              "mode": "immediate",
              "transition": {
               "duration": 0,
               "easing": "linear"
              }
             }
            ],
            "label": "1957",
            "method": "animate"
           },
           {
            "args": [
             [
              "1962"
             ],
             {
              "frame": {
               "duration": 0,
               "redraw": false
              },
              "fromcurrent": true,
              "mode": "immediate",
              "transition": {
               "duration": 0,
               "easing": "linear"
              }
             }
            ],
            "label": "1962",
            "method": "animate"
           },
           {
            "args": [
             [
              "1967"
             ],
             {
              "frame": {
               "duration": 0,
               "redraw": false
              },
              "fromcurrent": true,
              "mode": "immediate",
              "transition": {
               "duration": 0,
               "easing": "linear"
              }
             }
            ],
            "label": "1967",
            "method": "animate"
           },
           {
            "args": [
             [
              "1972"
             ],
             {
              "frame": {
               "duration": 0,
               "redraw": false
              },
              "fromcurrent": true,
              "mode": "immediate",
              "transition": {
               "duration": 0,
               "easing": "linear"
              }
             }
            ],
            "label": "1972",
            "method": "animate"
           },
           {
            "args": [
             [
              "1977"
             ],
             {
              "frame": {
               "duration": 0,
               "redraw": false
              },
              "fromcurrent": true,
              "mode": "immediate",
              "transition": {
               "duration": 0,
               "easing": "linear"
              }
             }
            ],
            "label": "1977",
            "method": "animate"
           },
           {
            "args": [
             [
              "1982"
             ],
             {
              "frame": {
               "duration": 0,
               "redraw": false
              },
              "fromcurrent": true,
              "mode": "immediate",
              "transition": {
               "duration": 0,
               "easing": "linear"
              }
             }
            ],
            "label": "1982",
            "method": "animate"
           },
           {
            "args": [
             [
              "1987"
             ],
             {
              "frame": {
               "duration": 0,
               "redraw": false
              },
              "fromcurrent": true,
              "mode": "immediate",
              "transition": {
               "duration": 0,
               "easing": "linear"
              }
             }
            ],
            "label": "1987",
            "method": "animate"
           },
           {
            "args": [
             [
              "1992"
             ],
             {
              "frame": {
               "duration": 0,
               "redraw": false
              },
              "fromcurrent": true,
              "mode": "immediate",
              "transition": {
               "duration": 0,
               "easing": "linear"
              }
             }
            ],
            "label": "1992",
            "method": "animate"
           },
           {
            "args": [
             [
              "1997"
             ],
             {
              "frame": {
               "duration": 0,
               "redraw": false
              },
              "fromcurrent": true,
              "mode": "immediate",
              "transition": {
               "duration": 0,
               "easing": "linear"
              }
             }
            ],
            "label": "1997",
            "method": "animate"
           },
           {
            "args": [
             [
              "2002"
             ],
             {
              "frame": {
               "duration": 0,
               "redraw": false
              },
              "fromcurrent": true,
              "mode": "immediate",
              "transition": {
               "duration": 0,
               "easing": "linear"
              }
             }
            ],
            "label": "2002",
            "method": "animate"
           },
           {
            "args": [
             [
              "2007"
             ],
             {
              "frame": {
               "duration": 0,
               "redraw": false
              },
              "fromcurrent": true,
              "mode": "immediate",
              "transition": {
               "duration": 0,
               "easing": "linear"
              }
             }
            ],
            "label": "2007",
            "method": "animate"
           }
          ],
          "x": 0.1,
          "xanchor": "left",
          "y": 0,
          "yanchor": "top"
         }
        ],
        "template": {
         "data": {
          "bar": [
           {
            "error_x": {
             "color": "#2a3f5f"
            },
            "error_y": {
             "color": "#2a3f5f"
            },
            "marker": {
             "line": {
              "color": "#E5ECF6",
              "width": 0.5
             },
             "pattern": {
              "fillmode": "overlay",
              "size": 10,
              "solidity": 0.2
             }
            },
            "type": "bar"
           }
          ],
          "barpolar": [
           {
            "marker": {
             "line": {
              "color": "#E5ECF6",
              "width": 0.5
             },
             "pattern": {
              "fillmode": "overlay",
              "size": 10,
              "solidity": 0.2
             }
            },
            "type": "barpolar"
           }
          ],
          "carpet": [
           {
            "aaxis": {
             "endlinecolor": "#2a3f5f",
             "gridcolor": "white",
             "linecolor": "white",
             "minorgridcolor": "white",
             "startlinecolor": "#2a3f5f"
            },
            "baxis": {
             "endlinecolor": "#2a3f5f",
             "gridcolor": "white",
             "linecolor": "white",
             "minorgridcolor": "white",
             "startlinecolor": "#2a3f5f"
            },
            "type": "carpet"
           }
          ],
          "choropleth": [
           {
            "colorbar": {
             "outlinewidth": 0,
             "ticks": ""
            },
            "type": "choropleth"
           }
          ],
          "contour": [
           {
            "colorbar": {
             "outlinewidth": 0,
             "ticks": ""
            },
            "colorscale": [
             [
              0,
              "#0d0887"
             ],
             [
              0.1111111111111111,
              "#46039f"
             ],
             [
              0.2222222222222222,
              "#7201a8"
             ],
             [
              0.3333333333333333,
              "#9c179e"
             ],
             [
              0.4444444444444444,
              "#bd3786"
             ],
             [
              0.5555555555555556,
              "#d8576b"
             ],
             [
              0.6666666666666666,
              "#ed7953"
             ],
             [
              0.7777777777777778,
              "#fb9f3a"
             ],
             [
              0.8888888888888888,
              "#fdca26"
             ],
             [
              1,
              "#f0f921"
             ]
            ],
            "type": "contour"
           }
          ],
          "contourcarpet": [
           {
            "colorbar": {
             "outlinewidth": 0,
             "ticks": ""
            },
            "type": "contourcarpet"
           }
          ],
          "heatmap": [
           {
            "colorbar": {
             "outlinewidth": 0,
             "ticks": ""
            },
            "colorscale": [
             [
              0,
              "#0d0887"
             ],
             [
              0.1111111111111111,
              "#46039f"
             ],
             [
              0.2222222222222222,
              "#7201a8"
             ],
             [
              0.3333333333333333,
              "#9c179e"
             ],
             [
              0.4444444444444444,
              "#bd3786"
             ],
             [
              0.5555555555555556,
              "#d8576b"
             ],
             [
              0.6666666666666666,
              "#ed7953"
             ],
             [
              0.7777777777777778,
              "#fb9f3a"
             ],
             [
              0.8888888888888888,
              "#fdca26"
             ],
             [
              1,
              "#f0f921"
             ]
            ],
            "type": "heatmap"
           }
          ],
          "heatmapgl": [
           {
            "colorbar": {
             "outlinewidth": 0,
             "ticks": ""
            },
            "colorscale": [
             [
              0,
              "#0d0887"
             ],
             [
              0.1111111111111111,
              "#46039f"
             ],
             [
              0.2222222222222222,
              "#7201a8"
             ],
             [
              0.3333333333333333,
              "#9c179e"
             ],
             [
              0.4444444444444444,
              "#bd3786"
             ],
             [
              0.5555555555555556,
              "#d8576b"
             ],
             [
              0.6666666666666666,
              "#ed7953"
             ],
             [
              0.7777777777777778,
              "#fb9f3a"
             ],
             [
              0.8888888888888888,
              "#fdca26"
             ],
             [
              1,
              "#f0f921"
             ]
            ],
            "type": "heatmapgl"
           }
          ],
          "histogram": [
           {
            "marker": {
             "pattern": {
              "fillmode": "overlay",
              "size": 10,
              "solidity": 0.2
             }
            },
            "type": "histogram"
           }
          ],
          "histogram2d": [
           {
            "colorbar": {
             "outlinewidth": 0,
             "ticks": ""
            },
            "colorscale": [
             [
              0,
              "#0d0887"
             ],
             [
              0.1111111111111111,
              "#46039f"
             ],
             [
              0.2222222222222222,
              "#7201a8"
             ],
             [
              0.3333333333333333,
              "#9c179e"
             ],
             [
              0.4444444444444444,
              "#bd3786"
             ],
             [
              0.5555555555555556,
              "#d8576b"
             ],
             [
              0.6666666666666666,
              "#ed7953"
             ],
             [
              0.7777777777777778,
              "#fb9f3a"
             ],
             [
              0.8888888888888888,
              "#fdca26"
             ],
             [
              1,
              "#f0f921"
             ]
            ],
            "type": "histogram2d"
           }
          ],
          "histogram2dcontour": [
           {
            "colorbar": {
             "outlinewidth": 0,
             "ticks": ""
            },
            "colorscale": [
             [
              0,
              "#0d0887"
             ],
             [
              0.1111111111111111,
              "#46039f"
             ],
             [
              0.2222222222222222,
              "#7201a8"
             ],
             [
              0.3333333333333333,
              "#9c179e"
             ],
             [
              0.4444444444444444,
              "#bd3786"
             ],
             [
              0.5555555555555556,
              "#d8576b"
             ],
             [
              0.6666666666666666,
              "#ed7953"
             ],
             [
              0.7777777777777778,
              "#fb9f3a"
             ],
             [
              0.8888888888888888,
              "#fdca26"
             ],
             [
              1,
              "#f0f921"
             ]
            ],
            "type": "histogram2dcontour"
           }
          ],
          "mesh3d": [
           {
            "colorbar": {
             "outlinewidth": 0,
             "ticks": ""
            },
            "type": "mesh3d"
           }
          ],
          "parcoords": [
           {
            "line": {
             "colorbar": {
              "outlinewidth": 0,
              "ticks": ""
             }
            },
            "type": "parcoords"
           }
          ],
          "pie": [
           {
            "automargin": true,
            "type": "pie"
           }
          ],
          "scatter": [
           {
            "fillpattern": {
             "fillmode": "overlay",
             "size": 10,
             "solidity": 0.2
            },
            "type": "scatter"
           }
          ],
          "scatter3d": [
           {
            "line": {
             "colorbar": {
              "outlinewidth": 0,
              "ticks": ""
             }
            },
            "marker": {
             "colorbar": {
              "outlinewidth": 0,
              "ticks": ""
             }
            },
            "type": "scatter3d"
           }
          ],
          "scattercarpet": [
           {
            "marker": {
             "colorbar": {
              "outlinewidth": 0,
              "ticks": ""
             }
            },
            "type": "scattercarpet"
           }
          ],
          "scattergeo": [
           {
            "marker": {
             "colorbar": {
              "outlinewidth": 0,
              "ticks": ""
             }
            },
            "type": "scattergeo"
           }
          ],
          "scattergl": [
           {
            "marker": {
             "colorbar": {
              "outlinewidth": 0,
              "ticks": ""
             }
            },
            "type": "scattergl"
           }
          ],
          "scattermapbox": [
           {
            "marker": {
             "colorbar": {
              "outlinewidth": 0,
              "ticks": ""
             }
            },
            "type": "scattermapbox"
           }
          ],
          "scatterpolar": [
           {
            "marker": {
             "colorbar": {
              "outlinewidth": 0,
              "ticks": ""
             }
            },
            "type": "scatterpolar"
           }
          ],
          "scatterpolargl": [
           {
            "marker": {
             "colorbar": {
              "outlinewidth": 0,
              "ticks": ""
             }
            },
            "type": "scatterpolargl"
           }
          ],
          "scatterternary": [
           {
            "marker": {
             "colorbar": {
              "outlinewidth": 0,
              "ticks": ""
             }
            },
            "type": "scatterternary"
           }
          ],
          "surface": [
           {
            "colorbar": {
             "outlinewidth": 0,
             "ticks": ""
            },
            "colorscale": [
             [
              0,
              "#0d0887"
             ],
             [
              0.1111111111111111,
              "#46039f"
             ],
             [
              0.2222222222222222,
              "#7201a8"
             ],
             [
              0.3333333333333333,
              "#9c179e"
             ],
             [
              0.4444444444444444,
              "#bd3786"
             ],
             [
              0.5555555555555556,
              "#d8576b"
             ],
             [
              0.6666666666666666,
              "#ed7953"
             ],
             [
              0.7777777777777778,
              "#fb9f3a"
             ],
             [
              0.8888888888888888,
              "#fdca26"
             ],
             [
              1,
              "#f0f921"
             ]
            ],
            "type": "surface"
           }
          ],
          "table": [
           {
            "cells": {
             "fill": {
              "color": "#EBF0F8"
             },
             "line": {
              "color": "white"
             }
            },
            "header": {
             "fill": {
              "color": "#C8D4E3"
             },
             "line": {
              "color": "white"
             }
            },
            "type": "table"
           }
          ]
         },
         "layout": {
          "annotationdefaults": {
           "arrowcolor": "#2a3f5f",
           "arrowhead": 0,
           "arrowwidth": 1
          },
          "autotypenumbers": "strict",
          "coloraxis": {
           "colorbar": {
            "outlinewidth": 0,
            "ticks": ""
           }
          },
          "colorscale": {
           "diverging": [
            [
             0,
             "#8e0152"
            ],
            [
             0.1,
             "#c51b7d"
            ],
            [
             0.2,
             "#de77ae"
            ],
            [
             0.3,
             "#f1b6da"
            ],
            [
             0.4,
             "#fde0ef"
            ],
            [
             0.5,
             "#f7f7f7"
            ],
            [
             0.6,
             "#e6f5d0"
            ],
            [
             0.7,
             "#b8e186"
            ],
            [
             0.8,
             "#7fbc41"
            ],
            [
             0.9,
             "#4d9221"
            ],
            [
             1,
             "#276419"
            ]
           ],
           "sequential": [
            [
             0,
             "#0d0887"
            ],
            [
             0.1111111111111111,
             "#46039f"
            ],
            [
             0.2222222222222222,
             "#7201a8"
            ],
            [
             0.3333333333333333,
             "#9c179e"
            ],
            [
             0.4444444444444444,
             "#bd3786"
            ],
            [
             0.5555555555555556,
             "#d8576b"
            ],
            [
             0.6666666666666666,
             "#ed7953"
            ],
            [
             0.7777777777777778,
             "#fb9f3a"
            ],
            [
             0.8888888888888888,
             "#fdca26"
            ],
            [
             1,
             "#f0f921"
            ]
           ],
           "sequentialminus": [
            [
             0,
             "#0d0887"
            ],
            [
             0.1111111111111111,
             "#46039f"
            ],
            [
             0.2222222222222222,
             "#7201a8"
            ],
            [
             0.3333333333333333,
             "#9c179e"
            ],
            [
             0.4444444444444444,
             "#bd3786"
            ],
            [
             0.5555555555555556,
             "#d8576b"
            ],
            [
             0.6666666666666666,
             "#ed7953"
            ],
            [
             0.7777777777777778,
             "#fb9f3a"
            ],
            [
             0.8888888888888888,
             "#fdca26"
            ],
            [
             1,
             "#f0f921"
            ]
           ]
          },
          "colorway": [
           "#636efa",
           "#EF553B",
           "#00cc96",
           "#ab63fa",
           "#FFA15A",
           "#19d3f3",
           "#FF6692",
           "#B6E880",
           "#FF97FF",
           "#FECB52"
          ],
          "font": {
           "color": "#2a3f5f"
          },
          "geo": {
           "bgcolor": "white",
           "lakecolor": "white",
           "landcolor": "#E5ECF6",
           "showlakes": true,
           "showland": true,
           "subunitcolor": "white"
          },
          "hoverlabel": {
           "align": "left"
          },
          "hovermode": "closest",
          "mapbox": {
           "style": "light"
          },
          "paper_bgcolor": "white",
          "plot_bgcolor": "#E5ECF6",
          "polar": {
           "angularaxis": {
            "gridcolor": "white",
            "linecolor": "white",
            "ticks": ""
           },
           "bgcolor": "#E5ECF6",
           "radialaxis": {
            "gridcolor": "white",
            "linecolor": "white",
            "ticks": ""
           }
          },
          "scene": {
           "xaxis": {
            "backgroundcolor": "#E5ECF6",
            "gridcolor": "white",
            "gridwidth": 2,
            "linecolor": "white",
            "showbackground": true,
            "ticks": "",
            "zerolinecolor": "white"
           },
           "yaxis": {
            "backgroundcolor": "#E5ECF6",
            "gridcolor": "white",
            "gridwidth": 2,
            "linecolor": "white",
            "showbackground": true,
            "ticks": "",
            "zerolinecolor": "white"
           },
           "zaxis": {
            "backgroundcolor": "#E5ECF6",
            "gridcolor": "white",
            "gridwidth": 2,
            "linecolor": "white",
            "showbackground": true,
            "ticks": "",
            "zerolinecolor": "white"
           }
          },
          "shapedefaults": {
           "line": {
            "color": "#2a3f5f"
           }
          },
          "ternary": {
           "aaxis": {
            "gridcolor": "white",
            "linecolor": "white",
            "ticks": ""
           },
           "baxis": {
            "gridcolor": "white",
            "linecolor": "white",
            "ticks": ""
           },
           "bgcolor": "#E5ECF6",
           "caxis": {
            "gridcolor": "white",
            "linecolor": "white",
            "ticks": ""
           }
          },
          "title": {
           "x": 0.05
          },
          "xaxis": {
           "automargin": true,
           "gridcolor": "white",
           "linecolor": "white",
           "ticks": "",
           "title": {
            "standoff": 15
           },
           "zerolinecolor": "white",
           "zerolinewidth": 2
          },
          "yaxis": {
           "automargin": true,
           "gridcolor": "white",
           "linecolor": "white",
           "ticks": "",
           "title": {
            "standoff": 15
           },
           "zerolinecolor": "white",
           "zerolinewidth": 2
          }
         }
        },
        "title": {
         "text": "Average GDP by Continent Over Time"
        },
        "updatemenus": [
         {
          "buttons": [
           {
            "args": [
             null,
             {
              "frame": {
               "duration": 500,
               "redraw": false
              },
              "fromcurrent": true,
              "mode": "immediate",
              "transition": {
               "duration": 500,
               "easing": "linear"
              }
             }
            ],
            "label": "&#9654;",
            "method": "animate"
           },
           {
            "args": [
             [
              null
             ],
             {
              "frame": {
               "duration": 0,
               "redraw": false
              },
              "fromcurrent": true,
              "mode": "immediate",
              "transition": {
               "duration": 0,
               "easing": "linear"
              }
             }
            ],
            "label": "&#9724;",
            "method": "animate"
           }
          ],
          "direction": "left",
          "pad": {
           "r": 10,
           "t": 70
          },
          "showactive": false,
          "type": "buttons",
          "x": 0.1,
          "xanchor": "right",
          "y": 0,
          "yanchor": "top"
         }
        ],
        "xaxis": {
         "anchor": "y",
         "categoryarray": [
          1952,
          1957,
          1962,
          1967,
          1972,
          1977,
          1982,
          1987,
          1992,
          1997,
          2002,
          2007
         ],
         "categoryorder": "array",
         "domain": [
          0,
          1
         ],
         "range": [
          1950,
          2010
         ],
         "title": {
          "text": "year"
         }
        },
        "yaxis": {
         "anchor": "x",
         "domain": [
          0,
          1
         ],
         "title": {
          "text": "gdp_cap"
         }
        }
       }
      }
     },
     "metadata": {},
     "output_type": "display_data"
    }
   ],
   "source": [
    "fig = px.scatter(gpd_cap_average_per_year_continent,\n",
    "                x='year',\n",
    "                y='gdp_cap',\n",
    "                color='continent',\n",
    "                size='gdp_cap',\n",
    "                animation_frame='year',\n",
    "                title='Average GDP by Continent Over Time')\n",
    "fig.update_layout(xaxis=dict(range=[1950, 2010]))\n",
    "fig.show()"
   ]
  },
  {
   "cell_type": "code",
   "execution_count": 91,
   "metadata": {},
   "outputs": [
    {
     "data": {
      "text/html": [
       "<div>\n",
       "<style scoped>\n",
       "    .dataframe tbody tr th:only-of-type {\n",
       "        vertical-align: middle;\n",
       "    }\n",
       "\n",
       "    .dataframe tbody tr th {\n",
       "        vertical-align: top;\n",
       "    }\n",
       "\n",
       "    .dataframe thead th {\n",
       "        text-align: right;\n",
       "    }\n",
       "</style>\n",
       "<table border=\"1\" class=\"dataframe\">\n",
       "  <thead>\n",
       "    <tr style=\"text-align: right;\">\n",
       "      <th></th>\n",
       "      <th>country</th>\n",
       "      <th>gdp_cap</th>\n",
       "    </tr>\n",
       "  </thead>\n",
       "  <tbody>\n",
       "    <tr>\n",
       "      <th>70</th>\n",
       "      <td>Kuwait</td>\n",
       "      <td>65,332.91</td>\n",
       "    </tr>\n",
       "    <tr>\n",
       "      <th>122</th>\n",
       "      <td>Switzerland</td>\n",
       "      <td>27,074.33</td>\n",
       "    </tr>\n",
       "    <tr>\n",
       "      <th>94</th>\n",
       "      <td>Norway</td>\n",
       "      <td>26,747.31</td>\n",
       "    </tr>\n",
       "    <tr>\n",
       "      <th>133</th>\n",
       "      <td>United States</td>\n",
       "      <td>26,261.15</td>\n",
       "    </tr>\n",
       "    <tr>\n",
       "      <th>20</th>\n",
       "      <td>Canada</td>\n",
       "      <td>22,410.75</td>\n",
       "    </tr>\n",
       "    <tr>\n",
       "      <th>89</th>\n",
       "      <td>Netherlands</td>\n",
       "      <td>21,748.85</td>\n",
       "    </tr>\n",
       "    <tr>\n",
       "      <th>34</th>\n",
       "      <td>Denmark</td>\n",
       "      <td>21,671.82</td>\n",
       "    </tr>\n",
       "    <tr>\n",
       "      <th>47</th>\n",
       "      <td>Germany</td>\n",
       "      <td>20,556.68</td>\n",
       "    </tr>\n",
       "    <tr>\n",
       "      <th>57</th>\n",
       "      <td>Iceland</td>\n",
       "      <td>20,531.42</td>\n",
       "    </tr>\n",
       "    <tr>\n",
       "      <th>6</th>\n",
       "      <td>Austria</td>\n",
       "      <td>20,411.92</td>\n",
       "    </tr>\n",
       "    <tr>\n",
       "      <th>108</th>\n",
       "      <td>Saudi Arabia</td>\n",
       "      <td>20,261.74</td>\n",
       "    </tr>\n",
       "    <tr>\n",
       "      <th>5</th>\n",
       "      <td>Australia</td>\n",
       "      <td>19,980.60</td>\n",
       "    </tr>\n",
       "    <tr>\n",
       "      <th>121</th>\n",
       "      <td>Sweden</td>\n",
       "      <td>19,943.13</td>\n",
       "    </tr>\n",
       "    <tr>\n",
       "      <th>9</th>\n",
       "      <td>Belgium</td>\n",
       "      <td>19,900.76</td>\n",
       "    </tr>\n",
       "    <tr>\n",
       "      <th>132</th>\n",
       "      <td>United Kingdom</td>\n",
       "      <td>19,380.47</td>\n",
       "    </tr>\n",
       "    <tr>\n",
       "      <th>44</th>\n",
       "      <td>France</td>\n",
       "      <td>18,833.57</td>\n",
       "    </tr>\n",
       "    <tr>\n",
       "      <th>7</th>\n",
       "      <td>Bahrain</td>\n",
       "      <td>18,077.66</td>\n",
       "    </tr>\n",
       "    <tr>\n",
       "      <th>65</th>\n",
       "      <td>Japan</td>\n",
       "      <td>17,750.87</td>\n",
       "    </tr>\n",
       "    <tr>\n",
       "      <th>43</th>\n",
       "      <td>Finland</td>\n",
       "      <td>17,473.72</td>\n",
       "    </tr>\n",
       "    <tr>\n",
       "      <th>112</th>\n",
       "      <td>Singapore</td>\n",
       "      <td>17,425.38</td>\n",
       "    </tr>\n",
       "    <tr>\n",
       "      <th>90</th>\n",
       "      <td>New Zealand</td>\n",
       "      <td>17,262.62</td>\n",
       "    </tr>\n",
       "    <tr>\n",
       "      <th>63</th>\n",
       "      <td>Italy</td>\n",
       "      <td>16,245.21</td>\n",
       "    </tr>\n",
       "    <tr>\n",
       "      <th>55</th>\n",
       "      <td>Hong Kong, China</td>\n",
       "      <td>16,228.70</td>\n",
       "    </tr>\n",
       "    <tr>\n",
       "      <th>62</th>\n",
       "      <td>Ireland</td>\n",
       "      <td>15,758.61</td>\n",
       "    </tr>\n",
       "    <tr>\n",
       "      <th>114</th>\n",
       "      <td>Slovenia</td>\n",
       "      <td>14,074.58</td>\n",
       "    </tr>\n",
       "    <tr>\n",
       "      <th>117</th>\n",
       "      <td>Spain</td>\n",
       "      <td>14,029.83</td>\n",
       "    </tr>\n",
       "    <tr>\n",
       "      <th>49</th>\n",
       "      <td>Greece</td>\n",
       "      <td>13,969.04</td>\n",
       "    </tr>\n",
       "    <tr>\n",
       "      <th>33</th>\n",
       "      <td>Czech Republic</td>\n",
       "      <td>13,920.01</td>\n",
       "    </tr>\n",
       "    <tr>\n",
       "      <th>95</th>\n",
       "      <td>Oman</td>\n",
       "      <td>12,138.56</td>\n",
       "    </tr>\n",
       "    <tr>\n",
       "      <th>74</th>\n",
       "      <td>Libya</td>\n",
       "      <td>12,013.58</td>\n",
       "    </tr>\n",
       "    <tr>\n",
       "      <th>45</th>\n",
       "      <td>Gabon</td>\n",
       "      <td>11,529.87</td>\n",
       "    </tr>\n",
       "    <tr>\n",
       "      <th>102</th>\n",
       "      <td>Portugal</td>\n",
       "      <td>11,354.09</td>\n",
       "    </tr>\n",
       "    <tr>\n",
       "      <th>56</th>\n",
       "      <td>Hungary</td>\n",
       "      <td>10,888.18</td>\n",
       "    </tr>\n",
       "    <tr>\n",
       "      <th>103</th>\n",
       "      <td>Puerto Rico</td>\n",
       "      <td>10,863.16</td>\n",
       "    </tr>\n",
       "    <tr>\n",
       "      <th>113</th>\n",
       "      <td>Slovak Republic</td>\n",
       "      <td>10,415.53</td>\n",
       "    </tr>\n",
       "    <tr>\n",
       "      <th>124</th>\n",
       "      <td>Taiwan</td>\n",
       "      <td>10,224.81</td>\n",
       "    </tr>\n",
       "    <tr>\n",
       "      <th>135</th>\n",
       "      <td>Venezuela</td>\n",
       "      <td>10,088.52</td>\n",
       "    </tr>\n",
       "    <tr>\n",
       "      <th>31</th>\n",
       "      <td>Croatia</td>\n",
       "      <td>9,331.71</td>\n",
       "    </tr>\n",
       "    <tr>\n",
       "      <th>110</th>\n",
       "      <td>Serbia</td>\n",
       "      <td>9,305.05</td>\n",
       "    </tr>\n",
       "    <tr>\n",
       "      <th>4</th>\n",
       "      <td>Argentina</td>\n",
       "      <td>8,955.55</td>\n",
       "    </tr>\n",
       "    <tr>\n",
       "      <th>101</th>\n",
       "      <td>Poland</td>\n",
       "      <td>8,416.55</td>\n",
       "    </tr>\n",
       "    <tr>\n",
       "      <th>69</th>\n",
       "      <td>Korea, Rep.</td>\n",
       "      <td>8,217.32</td>\n",
       "    </tr>\n",
       "    <tr>\n",
       "      <th>128</th>\n",
       "      <td>Trinidad and Tobago</td>\n",
       "      <td>7,866.87</td>\n",
       "    </tr>\n",
       "    <tr>\n",
       "      <th>61</th>\n",
       "      <td>Iraq</td>\n",
       "      <td>7,811.81</td>\n",
       "    </tr>\n",
       "    <tr>\n",
       "      <th>81</th>\n",
       "      <td>Mexico</td>\n",
       "      <td>7,724.11</td>\n",
       "    </tr>\n",
       "    <tr>\n",
       "      <th>60</th>\n",
       "      <td>Iran</td>\n",
       "      <td>7,376.58</td>\n",
       "    </tr>\n",
       "    <tr>\n",
       "      <th>105</th>\n",
       "      <td>Romania</td>\n",
       "      <td>7,300.17</td>\n",
       "    </tr>\n",
       "    <tr>\n",
       "      <th>71</th>\n",
       "      <td>Lebanon</td>\n",
       "      <td>7,269.22</td>\n",
       "    </tr>\n",
       "    <tr>\n",
       "      <th>116</th>\n",
       "      <td>South Africa</td>\n",
       "      <td>7,247.43</td>\n",
       "    </tr>\n",
       "    <tr>\n",
       "      <th>83</th>\n",
       "      <td>Montenegro</td>\n",
       "      <td>7,208.06</td>\n",
       "    </tr>\n",
       "    <tr>\n",
       "      <th>134</th>\n",
       "      <td>Uruguay</td>\n",
       "      <td>7,100.13</td>\n",
       "    </tr>\n",
       "    <tr>\n",
       "      <th>23</th>\n",
       "      <td>Chile</td>\n",
       "      <td>6,703.29</td>\n",
       "    </tr>\n",
       "    <tr>\n",
       "      <th>15</th>\n",
       "      <td>Bulgaria</td>\n",
       "      <td>6,384.06</td>\n",
       "    </tr>\n",
       "    <tr>\n",
       "      <th>32</th>\n",
       "      <td>Cuba</td>\n",
       "      <td>6,283.26</td>\n",
       "    </tr>\n",
       "    <tr>\n",
       "      <th>64</th>\n",
       "      <td>Jamaica</td>\n",
       "      <td>6,197.65</td>\n",
       "    </tr>\n",
       "    <tr>\n",
       "      <th>14</th>\n",
       "      <td>Brazil</td>\n",
       "      <td>5,829.32</td>\n",
       "    </tr>\n",
       "    <tr>\n",
       "      <th>97</th>\n",
       "      <td>Panama</td>\n",
       "      <td>5,754.83</td>\n",
       "    </tr>\n",
       "    <tr>\n",
       "      <th>37</th>\n",
       "      <td>Ecuador</td>\n",
       "      <td>5,733.62</td>\n",
       "    </tr>\n",
       "    <tr>\n",
       "      <th>99</th>\n",
       "      <td>Peru</td>\n",
       "      <td>5,613.84</td>\n",
       "    </tr>\n",
       "    <tr>\n",
       "      <th>29</th>\n",
       "      <td>Costa Rica</td>\n",
       "      <td>5,448.61</td>\n",
       "    </tr>\n",
       "    <tr>\n",
       "      <th>77</th>\n",
       "      <td>Malaysia</td>\n",
       "      <td>5,406.04</td>\n",
       "    </tr>\n",
       "    <tr>\n",
       "      <th>13</th>\n",
       "      <td>Botswana</td>\n",
       "      <td>5,031.50</td>\n",
       "    </tr>\n",
       "    <tr>\n",
       "      <th>104</th>\n",
       "      <td>Reunion</td>\n",
       "      <td>4,898.40</td>\n",
       "    </tr>\n",
       "    <tr>\n",
       "      <th>80</th>\n",
       "      <td>Mauritius</td>\n",
       "      <td>4,768.94</td>\n",
       "    </tr>\n",
       "    <tr>\n",
       "      <th>130</th>\n",
       "      <td>Turkey</td>\n",
       "      <td>4,469.45</td>\n",
       "    </tr>\n",
       "    <tr>\n",
       "      <th>39</th>\n",
       "      <td>El Salvador</td>\n",
       "      <td>4,431.85</td>\n",
       "    </tr>\n",
       "    <tr>\n",
       "      <th>2</th>\n",
       "      <td>Algeria</td>\n",
       "      <td>4,426.03</td>\n",
       "    </tr>\n",
       "    <tr>\n",
       "      <th>25</th>\n",
       "      <td>Colombia</td>\n",
       "      <td>4,195.34</td>\n",
       "    </tr>\n",
       "    <tr>\n",
       "      <th>50</th>\n",
       "      <td>Guatemala</td>\n",
       "      <td>4,015.40</td>\n",
       "    </tr>\n",
       "    <tr>\n",
       "      <th>137</th>\n",
       "      <td>West Bank and Gaza</td>\n",
       "      <td>3,760.00</td>\n",
       "    </tr>\n",
       "    <tr>\n",
       "      <th>87</th>\n",
       "      <td>Namibia</td>\n",
       "      <td>3,675.58</td>\n",
       "    </tr>\n",
       "    <tr>\n",
       "      <th>3</th>\n",
       "      <td>Angola</td>\n",
       "      <td>3,607.10</td>\n",
       "    </tr>\n",
       "    <tr>\n",
       "      <th>12</th>\n",
       "      <td>Bosnia and Herzegovina</td>\n",
       "      <td>3,484.78</td>\n",
       "    </tr>\n",
       "    <tr>\n",
       "      <th>129</th>\n",
       "      <td>Tunisia</td>\n",
       "      <td>3,477.21</td>\n",
       "    </tr>\n",
       "    <tr>\n",
       "      <th>91</th>\n",
       "      <td>Nicaragua</td>\n",
       "      <td>3,424.66</td>\n",
       "    </tr>\n",
       "    <tr>\n",
       "      <th>28</th>\n",
       "      <td>Congo, Rep.</td>\n",
       "      <td>3,312.79</td>\n",
       "    </tr>\n",
       "    <tr>\n",
       "      <th>1</th>\n",
       "      <td>Albania</td>\n",
       "      <td>3,255.37</td>\n",
       "    </tr>\n",
       "    <tr>\n",
       "      <th>98</th>\n",
       "      <td>Paraguay</td>\n",
       "      <td>3,239.61</td>\n",
       "    </tr>\n",
       "    <tr>\n",
       "      <th>120</th>\n",
       "      <td>Swaziland</td>\n",
       "      <td>3,163.35</td>\n",
       "    </tr>\n",
       "    <tr>\n",
       "      <th>66</th>\n",
       "      <td>Jordan</td>\n",
       "      <td>3,128.12</td>\n",
       "    </tr>\n",
       "    <tr>\n",
       "      <th>38</th>\n",
       "      <td>Egypt</td>\n",
       "      <td>3,074.03</td>\n",
       "    </tr>\n",
       "    <tr>\n",
       "      <th>126</th>\n",
       "      <td>Thailand</td>\n",
       "      <td>3,045.97</td>\n",
       "    </tr>\n",
       "    <tr>\n",
       "      <th>123</th>\n",
       "      <td>Syria</td>\n",
       "      <td>3,009.29</td>\n",
       "    </tr>\n",
       "    <tr>\n",
       "      <th>11</th>\n",
       "      <td>Bolivia</td>\n",
       "      <td>2,961.23</td>\n",
       "    </tr>\n",
       "    <tr>\n",
       "      <th>36</th>\n",
       "      <td>Dominican Republic</td>\n",
       "      <td>2,844.86</td>\n",
       "    </tr>\n",
       "    <tr>\n",
       "      <th>54</th>\n",
       "      <td>Honduras</td>\n",
       "      <td>2,834.41</td>\n",
       "    </tr>\n",
       "    <tr>\n",
       "      <th>35</th>\n",
       "      <td>Djibouti</td>\n",
       "      <td>2,697.83</td>\n",
       "    </tr>\n",
       "    <tr>\n",
       "      <th>68</th>\n",
       "      <td>Korea, Dem. Rep.</td>\n",
       "      <td>2,591.85</td>\n",
       "    </tr>\n",
       "    <tr>\n",
       "      <th>40</th>\n",
       "      <td>Equatorial Guinea</td>\n",
       "      <td>2,469.17</td>\n",
       "    </tr>\n",
       "    <tr>\n",
       "      <th>84</th>\n",
       "      <td>Morocco</td>\n",
       "      <td>2,447.91</td>\n",
       "    </tr>\n",
       "    <tr>\n",
       "      <th>100</th>\n",
       "      <td>Philippines</td>\n",
       "      <td>2,174.77</td>\n",
       "    </tr>\n",
       "    <tr>\n",
       "      <th>30</th>\n",
       "      <td>Cote d'Ivoire</td>\n",
       "      <td>1,912.83</td>\n",
       "    </tr>\n",
       "    <tr>\n",
       "      <th>118</th>\n",
       "      <td>Sri Lanka</td>\n",
       "      <td>1,854.73</td>\n",
       "    </tr>\n",
       "    <tr>\n",
       "      <th>119</th>\n",
       "      <td>Sudan</td>\n",
       "      <td>1,835.01</td>\n",
       "    </tr>\n",
       "    <tr>\n",
       "      <th>19</th>\n",
       "      <td>Cameroon</td>\n",
       "      <td>1,774.63</td>\n",
       "    </tr>\n",
       "    <tr>\n",
       "      <th>59</th>\n",
       "      <td>Indonesia</td>\n",
       "      <td>1,741.37</td>\n",
       "    </tr>\n",
       "    <tr>\n",
       "      <th>82</th>\n",
       "      <td>Mongolia</td>\n",
       "      <td>1,692.80</td>\n",
       "    </tr>\n",
       "    <tr>\n",
       "      <th>53</th>\n",
       "      <td>Haiti</td>\n",
       "      <td>1,620.74</td>\n",
       "    </tr>\n",
       "    <tr>\n",
       "      <th>138</th>\n",
       "      <td>Yemen, Rep.</td>\n",
       "      <td>1,569.27</td>\n",
       "    </tr>\n",
       "    <tr>\n",
       "      <th>109</th>\n",
       "      <td>Senegal</td>\n",
       "      <td>1,533.12</td>\n",
       "    </tr>\n",
       "    <tr>\n",
       "      <th>93</th>\n",
       "      <td>Nigeria</td>\n",
       "      <td>1,488.31</td>\n",
       "    </tr>\n",
       "    <tr>\n",
       "      <th>24</th>\n",
       "      <td>China</td>\n",
       "      <td>1,488.31</td>\n",
       "    </tr>\n",
       "    <tr>\n",
       "      <th>96</th>\n",
       "      <td>Pakistan</td>\n",
       "      <td>1,439.27</td>\n",
       "    </tr>\n",
       "    <tr>\n",
       "      <th>107</th>\n",
       "      <td>Sao Tome and Principe</td>\n",
       "      <td>1,382.78</td>\n",
       "    </tr>\n",
       "    <tr>\n",
       "      <th>139</th>\n",
       "      <td>Zambia</td>\n",
       "      <td>1,358.20</td>\n",
       "    </tr>\n",
       "    <tr>\n",
       "      <th>79</th>\n",
       "      <td>Mauritania</td>\n",
       "      <td>1,356.67</td>\n",
       "    </tr>\n",
       "    <tr>\n",
       "      <th>75</th>\n",
       "      <td>Madagascar</td>\n",
       "      <td>1,335.60</td>\n",
       "    </tr>\n",
       "    <tr>\n",
       "      <th>26</th>\n",
       "      <td>Comoros</td>\n",
       "      <td>1,314.38</td>\n",
       "    </tr>\n",
       "    <tr>\n",
       "      <th>67</th>\n",
       "      <td>Kenya</td>\n",
       "      <td>1,200.42</td>\n",
       "    </tr>\n",
       "    <tr>\n",
       "      <th>22</th>\n",
       "      <td>Chad</td>\n",
       "      <td>1,165.45</td>\n",
       "    </tr>\n",
       "    <tr>\n",
       "      <th>10</th>\n",
       "      <td>Benin</td>\n",
       "      <td>1,155.40</td>\n",
       "    </tr>\n",
       "    <tr>\n",
       "      <th>127</th>\n",
       "      <td>Togo</td>\n",
       "      <td>1,153.82</td>\n",
       "    </tr>\n",
       "    <tr>\n",
       "      <th>115</th>\n",
       "      <td>Somalia</td>\n",
       "      <td>1,140.79</td>\n",
       "    </tr>\n",
       "    <tr>\n",
       "      <th>111</th>\n",
       "      <td>Sierra Leone</td>\n",
       "      <td>1,072.82</td>\n",
       "    </tr>\n",
       "    <tr>\n",
       "      <th>58</th>\n",
       "      <td>India</td>\n",
       "      <td>1,057.30</td>\n",
       "    </tr>\n",
       "    <tr>\n",
       "      <th>48</th>\n",
       "      <td>Ghana</td>\n",
       "      <td>1,044.58</td>\n",
       "    </tr>\n",
       "    <tr>\n",
       "      <th>136</th>\n",
       "      <td>Vietnam</td>\n",
       "      <td>1,017.71</td>\n",
       "    </tr>\n",
       "    <tr>\n",
       "      <th>21</th>\n",
       "      <td>Central African Republic</td>\n",
       "      <td>958.78</td>\n",
       "    </tr>\n",
       "    <tr>\n",
       "      <th>125</th>\n",
       "      <td>Tanzania</td>\n",
       "      <td>849.28</td>\n",
       "    </tr>\n",
       "    <tr>\n",
       "      <th>16</th>\n",
       "      <td>Burkina Faso</td>\n",
       "      <td>843.99</td>\n",
       "    </tr>\n",
       "    <tr>\n",
       "      <th>8</th>\n",
       "      <td>Bangladesh</td>\n",
       "      <td>817.56</td>\n",
       "    </tr>\n",
       "    <tr>\n",
       "      <th>131</th>\n",
       "      <td>Uganda</td>\n",
       "      <td>810.38</td>\n",
       "    </tr>\n",
       "    <tr>\n",
       "      <th>0</th>\n",
       "      <td>Afghanistan</td>\n",
       "      <td>802.67</td>\n",
       "    </tr>\n",
       "    <tr>\n",
       "      <th>88</th>\n",
       "      <td>Nepal</td>\n",
       "      <td>782.73</td>\n",
       "    </tr>\n",
       "    <tr>\n",
       "      <th>92</th>\n",
       "      <td>Niger</td>\n",
       "      <td>781.08</td>\n",
       "    </tr>\n",
       "    <tr>\n",
       "      <th>72</th>\n",
       "      <td>Lesotho</td>\n",
       "      <td>780.55</td>\n",
       "    </tr>\n",
       "    <tr>\n",
       "      <th>51</th>\n",
       "      <td>Guinea</td>\n",
       "      <td>776.07</td>\n",
       "    </tr>\n",
       "    <tr>\n",
       "      <th>46</th>\n",
       "      <td>Gambia</td>\n",
       "      <td>680.13</td>\n",
       "    </tr>\n",
       "    <tr>\n",
       "      <th>106</th>\n",
       "      <td>Rwanda</td>\n",
       "      <td>675.67</td>\n",
       "    </tr>\n",
       "    <tr>\n",
       "      <th>18</th>\n",
       "      <td>Cambodia</td>\n",
       "      <td>675.37</td>\n",
       "    </tr>\n",
       "    <tr>\n",
       "      <th>78</th>\n",
       "      <td>Mali</td>\n",
       "      <td>673.09</td>\n",
       "    </tr>\n",
       "    <tr>\n",
       "      <th>52</th>\n",
       "      <td>Guinea-Bissau</td>\n",
       "      <td>652.16</td>\n",
       "    </tr>\n",
       "    <tr>\n",
       "      <th>27</th>\n",
       "      <td>Congo, Dem. Rep.</td>\n",
       "      <td>648.34</td>\n",
       "    </tr>\n",
       "    <tr>\n",
       "      <th>140</th>\n",
       "      <td>Zimbabwe</td>\n",
       "      <td>635.86</td>\n",
       "    </tr>\n",
       "    <tr>\n",
       "      <th>73</th>\n",
       "      <td>Liberia</td>\n",
       "      <td>604.81</td>\n",
       "    </tr>\n",
       "    <tr>\n",
       "      <th>76</th>\n",
       "      <td>Malawi</td>\n",
       "      <td>575.45</td>\n",
       "    </tr>\n",
       "    <tr>\n",
       "      <th>85</th>\n",
       "      <td>Mozambique</td>\n",
       "      <td>542.28</td>\n",
       "    </tr>\n",
       "    <tr>\n",
       "      <th>41</th>\n",
       "      <td>Eritrea</td>\n",
       "      <td>541.00</td>\n",
       "    </tr>\n",
       "    <tr>\n",
       "      <th>42</th>\n",
       "      <td>Ethiopia</td>\n",
       "      <td>509.12</td>\n",
       "    </tr>\n",
       "    <tr>\n",
       "      <th>17</th>\n",
       "      <td>Burundi</td>\n",
       "      <td>471.66</td>\n",
       "    </tr>\n",
       "    <tr>\n",
       "      <th>86</th>\n",
       "      <td>Myanmar</td>\n",
       "      <td>439.33</td>\n",
       "    </tr>\n",
       "  </tbody>\n",
       "</table>\n",
       "</div>"
      ],
      "text/plain": [
       "                      country   gdp_cap\n",
       "70                     Kuwait 65,332.91\n",
       "122               Switzerland 27,074.33\n",
       "94                     Norway 26,747.31\n",
       "133             United States 26,261.15\n",
       "20                     Canada 22,410.75\n",
       "89                Netherlands 21,748.85\n",
       "34                    Denmark 21,671.82\n",
       "47                    Germany 20,556.68\n",
       "57                    Iceland 20,531.42\n",
       "6                     Austria 20,411.92\n",
       "108              Saudi Arabia 20,261.74\n",
       "5                   Australia 19,980.60\n",
       "121                    Sweden 19,943.13\n",
       "9                     Belgium 19,900.76\n",
       "132            United Kingdom 19,380.47\n",
       "44                     France 18,833.57\n",
       "7                     Bahrain 18,077.66\n",
       "65                      Japan 17,750.87\n",
       "43                    Finland 17,473.72\n",
       "112                 Singapore 17,425.38\n",
       "90                New Zealand 17,262.62\n",
       "63                      Italy 16,245.21\n",
       "55           Hong Kong, China 16,228.70\n",
       "62                    Ireland 15,758.61\n",
       "114                  Slovenia 14,074.58\n",
       "117                     Spain 14,029.83\n",
       "49                     Greece 13,969.04\n",
       "33             Czech Republic 13,920.01\n",
       "95                       Oman 12,138.56\n",
       "74                      Libya 12,013.58\n",
       "45                      Gabon 11,529.87\n",
       "102                  Portugal 11,354.09\n",
       "56                    Hungary 10,888.18\n",
       "103               Puerto Rico 10,863.16\n",
       "113           Slovak Republic 10,415.53\n",
       "124                    Taiwan 10,224.81\n",
       "135                 Venezuela 10,088.52\n",
       "31                    Croatia  9,331.71\n",
       "110                    Serbia  9,305.05\n",
       "4                   Argentina  8,955.55\n",
       "101                    Poland  8,416.55\n",
       "69                Korea, Rep.  8,217.32\n",
       "128       Trinidad and Tobago  7,866.87\n",
       "61                       Iraq  7,811.81\n",
       "81                     Mexico  7,724.11\n",
       "60                       Iran  7,376.58\n",
       "105                   Romania  7,300.17\n",
       "71                    Lebanon  7,269.22\n",
       "116              South Africa  7,247.43\n",
       "83                 Montenegro  7,208.06\n",
       "134                   Uruguay  7,100.13\n",
       "23                      Chile  6,703.29\n",
       "15                   Bulgaria  6,384.06\n",
       "32                       Cuba  6,283.26\n",
       "64                    Jamaica  6,197.65\n",
       "14                     Brazil  5,829.32\n",
       "97                     Panama  5,754.83\n",
       "37                    Ecuador  5,733.62\n",
       "99                       Peru  5,613.84\n",
       "29                 Costa Rica  5,448.61\n",
       "77                   Malaysia  5,406.04\n",
       "13                   Botswana  5,031.50\n",
       "104                   Reunion  4,898.40\n",
       "80                  Mauritius  4,768.94\n",
       "130                    Turkey  4,469.45\n",
       "39                El Salvador  4,431.85\n",
       "2                     Algeria  4,426.03\n",
       "25                   Colombia  4,195.34\n",
       "50                  Guatemala  4,015.40\n",
       "137        West Bank and Gaza  3,760.00\n",
       "87                    Namibia  3,675.58\n",
       "3                      Angola  3,607.10\n",
       "12     Bosnia and Herzegovina  3,484.78\n",
       "129                   Tunisia  3,477.21\n",
       "91                  Nicaragua  3,424.66\n",
       "28                Congo, Rep.  3,312.79\n",
       "1                     Albania  3,255.37\n",
       "98                   Paraguay  3,239.61\n",
       "120                 Swaziland  3,163.35\n",
       "66                     Jordan  3,128.12\n",
       "38                      Egypt  3,074.03\n",
       "126                  Thailand  3,045.97\n",
       "123                     Syria  3,009.29\n",
       "11                    Bolivia  2,961.23\n",
       "36         Dominican Republic  2,844.86\n",
       "54                   Honduras  2,834.41\n",
       "35                   Djibouti  2,697.83\n",
       "68           Korea, Dem. Rep.  2,591.85\n",
       "40          Equatorial Guinea  2,469.17\n",
       "84                    Morocco  2,447.91\n",
       "100               Philippines  2,174.77\n",
       "30              Cote d'Ivoire  1,912.83\n",
       "118                 Sri Lanka  1,854.73\n",
       "119                     Sudan  1,835.01\n",
       "19                   Cameroon  1,774.63\n",
       "59                  Indonesia  1,741.37\n",
       "82                   Mongolia  1,692.80\n",
       "53                      Haiti  1,620.74\n",
       "138               Yemen, Rep.  1,569.27\n",
       "109                   Senegal  1,533.12\n",
       "93                    Nigeria  1,488.31\n",
       "24                      China  1,488.31\n",
       "96                   Pakistan  1,439.27\n",
       "107     Sao Tome and Principe  1,382.78\n",
       "139                    Zambia  1,358.20\n",
       "79                 Mauritania  1,356.67\n",
       "75                 Madagascar  1,335.60\n",
       "26                    Comoros  1,314.38\n",
       "67                      Kenya  1,200.42\n",
       "22                       Chad  1,165.45\n",
       "10                      Benin  1,155.40\n",
       "127                      Togo  1,153.82\n",
       "115                   Somalia  1,140.79\n",
       "111              Sierra Leone  1,072.82\n",
       "58                      India  1,057.30\n",
       "48                      Ghana  1,044.58\n",
       "136                   Vietnam  1,017.71\n",
       "21   Central African Republic    958.78\n",
       "125                  Tanzania    849.28\n",
       "16               Burkina Faso    843.99\n",
       "8                  Bangladesh    817.56\n",
       "131                    Uganda    810.38\n",
       "0                 Afghanistan    802.67\n",
       "88                      Nepal    782.73\n",
       "92                      Niger    781.08\n",
       "72                    Lesotho    780.55\n",
       "51                     Guinea    776.07\n",
       "46                     Gambia    680.13\n",
       "106                    Rwanda    675.67\n",
       "18                   Cambodia    675.37\n",
       "78                       Mali    673.09\n",
       "52              Guinea-Bissau    652.16\n",
       "27           Congo, Dem. Rep.    648.34\n",
       "140                  Zimbabwe    635.86\n",
       "73                    Liberia    604.81\n",
       "76                     Malawi    575.45\n",
       "85                 Mozambique    542.28\n",
       "41                    Eritrea    541.00\n",
       "42                   Ethiopia    509.12\n",
       "17                    Burundi    471.66\n",
       "86                    Myanmar    439.33"
      ]
     },
     "execution_count": 91,
     "metadata": {},
     "output_type": "execute_result"
    }
   ],
   "source": [
    "gdp_cap_average_country = df.groupby('country' , as_index=False)['gdp_cap'].mean().sort_values(by='gdp_cap',ascending=False)\n",
    "gdp_cap_average_country"
   ]
  },
  {
   "cell_type": "code",
   "execution_count": 92,
   "metadata": {},
   "outputs": [
    {
     "data": {
      "application/vnd.plotly.v1+json": {
       "config": {
        "plotlyServerURL": "https://plot.ly"
       },
       "data": [
        {
         "coloraxis": "coloraxis",
         "geo": "geo",
         "hovertemplate": "country=%{location}<br>gdp_cap=%{z}<extra></extra>",
         "locationmode": "country names",
         "locations": [
          "Kuwait",
          "Switzerland",
          "Norway",
          "United States",
          "Canada",
          "Netherlands",
          "Denmark",
          "Germany",
          "Iceland",
          "Austria",
          "Saudi Arabia",
          "Australia",
          "Sweden",
          "Belgium",
          "United Kingdom",
          "France",
          "Bahrain",
          "Japan",
          "Finland",
          "Singapore",
          "New Zealand",
          "Italy",
          "Hong Kong, China",
          "Ireland",
          "Slovenia",
          "Spain",
          "Greece",
          "Czech Republic",
          "Oman",
          "Libya",
          "Gabon",
          "Portugal",
          "Hungary",
          "Puerto Rico",
          "Slovak Republic",
          "Taiwan",
          "Venezuela",
          "Croatia",
          "Serbia",
          "Argentina",
          "Poland",
          "Korea, Rep.",
          "Trinidad and Tobago",
          "Iraq",
          "Mexico",
          "Iran",
          "Romania",
          "Lebanon",
          "South Africa",
          "Montenegro",
          "Uruguay",
          "Chile",
          "Bulgaria",
          "Cuba",
          "Jamaica",
          "Brazil",
          "Panama",
          "Ecuador",
          "Peru",
          "Costa Rica",
          "Malaysia",
          "Botswana",
          "Reunion",
          "Mauritius",
          "Turkey",
          "El Salvador",
          "Algeria",
          "Colombia",
          "Guatemala",
          "West Bank and Gaza",
          "Namibia",
          "Angola",
          "Bosnia and Herzegovina",
          "Tunisia",
          "Nicaragua",
          "Congo, Rep.",
          "Albania",
          "Paraguay",
          "Swaziland",
          "Jordan",
          "Egypt",
          "Thailand",
          "Syria",
          "Bolivia",
          "Dominican Republic",
          "Honduras",
          "Djibouti",
          "Korea, Dem. Rep.",
          "Equatorial Guinea",
          "Morocco",
          "Philippines",
          "Cote d'Ivoire",
          "Sri Lanka",
          "Sudan",
          "Cameroon",
          "Indonesia",
          "Mongolia",
          "Haiti",
          "Yemen, Rep.",
          "Senegal",
          "Nigeria",
          "China",
          "Pakistan",
          "Sao Tome and Principe",
          "Zambia",
          "Mauritania",
          "Madagascar",
          "Comoros",
          "Kenya",
          "Chad",
          "Benin",
          "Togo",
          "Somalia",
          "Sierra Leone",
          "India",
          "Ghana",
          "Vietnam",
          "Central African Republic",
          "Tanzania",
          "Burkina Faso",
          "Bangladesh",
          "Uganda",
          "Afghanistan",
          "Nepal",
          "Niger",
          "Lesotho",
          "Guinea",
          "Gambia",
          "Rwanda",
          "Cambodia",
          "Mali",
          "Guinea-Bissau",
          "Congo, Dem. Rep.",
          "Zimbabwe",
          "Liberia",
          "Malawi",
          "Mozambique",
          "Eritrea",
          "Ethiopia",
          "Burundi",
          "Myanmar"
         ],
         "name": "",
         "type": "choropleth",
         "z": [
          65332.91047166666,
          27074.334405,
          26747.30655416667,
          26261.151346666666,
          22410.746339999998,
          21748.852208166663,
          21671.824887916668,
          20556.68443275,
          20531.4222725,
          20411.916279333334,
          20261.743635083334,
          19980.595634166664,
          19943.126104,
          19900.758071666667,
          19380.472985583332,
          18833.570327083333,
          18077.66394541667,
          17750.869984166668,
          17473.72266733333,
          17425.382266666667,
          17262.6228125,
          16245.209006416668,
          16228.700864749999,
          15758.60623775,
          14074.582109333334,
          14029.82647875,
          13969.036832916667,
          13920.011379000001,
          12138.562227333334,
          12013.57920125,
          11529.865474416665,
          11354.091927416666,
          10888.175653666667,
          10863.164303416666,
          10415.530689,
          10224.80718075,
          10088.516251583334,
          9331.712345916667,
          9305.049444083334,
          8955.553782666668,
          8416.55391225,
          8217.318485083333,
          7866.871946416667,
          7811.809116666667,
          7724.112674583333,
          7376.5829054999995,
          7300.169973583333,
          7269.21624125,
          7247.431074416668,
          7208.06455975,
          7100.133175666667,
          6703.289147083334,
          6384.055172,
          6283.258678333333,
          6197.645405,
          5829.31665275,
          5754.8271718333335,
          5733.62476675,
          5613.844086749999,
          5448.610779416666,
          5406.0381969166665,
          5031.503557166667,
          4898.398390083334,
          4768.94222125,
          4469.4533796666665,
          4431.846597333333,
          4426.0259731666665,
          4195.342919916667,
          4015.4027714166664,
          3759.99678125,
          3675.5820868333335,
          3607.100528833333,
          3484.7790694,
          3477.21035075,
          3424.6557694999997,
          3312.7882151666668,
          3255.3666326666666,
          3239.606791416667,
          3163.35235825,
          3128.1207616666666,
          3074.030731416667,
          3045.966473958333,
          3009.2879806666665,
          2961.2287536666668,
          2844.8564049166666,
          2834.4130831666666,
          2697.8331621666666,
          2591.8525776666665,
          2469.1666809333333,
          2447.9088640833334,
          2174.7711304166664,
          1912.82538225,
          1854.7311195,
          1835.01042975,
          1774.6342223333334,
          1741.3653595416665,
          1692.80461225,
          1620.7392895,
          1569.2746721416668,
          1533.1216944999999,
          1488.3094291666666,
          1488.3076940083336,
          1439.27068905,
          1382.782001175,
          1358.199409,
          1356.6710106666667,
          1335.5950270666665,
          1314.3803386833333,
          1200.41571995,
          1165.4536742166667,
          1155.3951073833334,
          1153.8201162916666,
          1140.7932516583332,
          1072.8194927083334,
          1057.29630685,
          1044.5820461416668,
          1017.7126151666666,
          958.7846969833334,
          849.2812710916666,
          843.9906647166666,
          817.5588182166666,
          810.3837879083334,
          802.674598425,
          782.7288220833334,
          781.0767981083333,
          780.5533931916666,
          776.067304675,
          680.1325855583333,
          675.6690431416666,
          675.3678242583334,
          673.0930694166667,
          652.1572081,
          648.34264595,
          635.8580422916667,
          604.8141412333333,
          575.4472115083333,
          542.2783319916667,
          541.0025066666667,
          509.11515549999996,
          471.6629897,
          439.3333333333333
         ]
        }
       ],
       "layout": {
        "coloraxis": {
         "colorbar": {
          "title": {
           "text": "gdp_cap"
          }
         },
         "colorscale": [
          [
           0,
           "#0d0887"
          ],
          [
           0.1111111111111111,
           "#46039f"
          ],
          [
           0.2222222222222222,
           "#7201a8"
          ],
          [
           0.3333333333333333,
           "#9c179e"
          ],
          [
           0.4444444444444444,
           "#bd3786"
          ],
          [
           0.5555555555555556,
           "#d8576b"
          ],
          [
           0.6666666666666666,
           "#ed7953"
          ],
          [
           0.7777777777777778,
           "#fb9f3a"
          ],
          [
           0.8888888888888888,
           "#fdca26"
          ],
          [
           1,
           "#f0f921"
          ]
         ]
        },
        "geo": {
         "center": {},
         "domain": {
          "x": [
           0,
           1
          ],
          "y": [
           0,
           1
          ]
         }
        },
        "legend": {
         "tracegroupgap": 0
        },
        "template": {
         "data": {
          "bar": [
           {
            "error_x": {
             "color": "#2a3f5f"
            },
            "error_y": {
             "color": "#2a3f5f"
            },
            "marker": {
             "line": {
              "color": "#E5ECF6",
              "width": 0.5
             },
             "pattern": {
              "fillmode": "overlay",
              "size": 10,
              "solidity": 0.2
             }
            },
            "type": "bar"
           }
          ],
          "barpolar": [
           {
            "marker": {
             "line": {
              "color": "#E5ECF6",
              "width": 0.5
             },
             "pattern": {
              "fillmode": "overlay",
              "size": 10,
              "solidity": 0.2
             }
            },
            "type": "barpolar"
           }
          ],
          "carpet": [
           {
            "aaxis": {
             "endlinecolor": "#2a3f5f",
             "gridcolor": "white",
             "linecolor": "white",
             "minorgridcolor": "white",
             "startlinecolor": "#2a3f5f"
            },
            "baxis": {
             "endlinecolor": "#2a3f5f",
             "gridcolor": "white",
             "linecolor": "white",
             "minorgridcolor": "white",
             "startlinecolor": "#2a3f5f"
            },
            "type": "carpet"
           }
          ],
          "choropleth": [
           {
            "colorbar": {
             "outlinewidth": 0,
             "ticks": ""
            },
            "type": "choropleth"
           }
          ],
          "contour": [
           {
            "colorbar": {
             "outlinewidth": 0,
             "ticks": ""
            },
            "colorscale": [
             [
              0,
              "#0d0887"
             ],
             [
              0.1111111111111111,
              "#46039f"
             ],
             [
              0.2222222222222222,
              "#7201a8"
             ],
             [
              0.3333333333333333,
              "#9c179e"
             ],
             [
              0.4444444444444444,
              "#bd3786"
             ],
             [
              0.5555555555555556,
              "#d8576b"
             ],
             [
              0.6666666666666666,
              "#ed7953"
             ],
             [
              0.7777777777777778,
              "#fb9f3a"
             ],
             [
              0.8888888888888888,
              "#fdca26"
             ],
             [
              1,
              "#f0f921"
             ]
            ],
            "type": "contour"
           }
          ],
          "contourcarpet": [
           {
            "colorbar": {
             "outlinewidth": 0,
             "ticks": ""
            },
            "type": "contourcarpet"
           }
          ],
          "heatmap": [
           {
            "colorbar": {
             "outlinewidth": 0,
             "ticks": ""
            },
            "colorscale": [
             [
              0,
              "#0d0887"
             ],
             [
              0.1111111111111111,
              "#46039f"
             ],
             [
              0.2222222222222222,
              "#7201a8"
             ],
             [
              0.3333333333333333,
              "#9c179e"
             ],
             [
              0.4444444444444444,
              "#bd3786"
             ],
             [
              0.5555555555555556,
              "#d8576b"
             ],
             [
              0.6666666666666666,
              "#ed7953"
             ],
             [
              0.7777777777777778,
              "#fb9f3a"
             ],
             [
              0.8888888888888888,
              "#fdca26"
             ],
             [
              1,
              "#f0f921"
             ]
            ],
            "type": "heatmap"
           }
          ],
          "heatmapgl": [
           {
            "colorbar": {
             "outlinewidth": 0,
             "ticks": ""
            },
            "colorscale": [
             [
              0,
              "#0d0887"
             ],
             [
              0.1111111111111111,
              "#46039f"
             ],
             [
              0.2222222222222222,
              "#7201a8"
             ],
             [
              0.3333333333333333,
              "#9c179e"
             ],
             [
              0.4444444444444444,
              "#bd3786"
             ],
             [
              0.5555555555555556,
              "#d8576b"
             ],
             [
              0.6666666666666666,
              "#ed7953"
             ],
             [
              0.7777777777777778,
              "#fb9f3a"
             ],
             [
              0.8888888888888888,
              "#fdca26"
             ],
             [
              1,
              "#f0f921"
             ]
            ],
            "type": "heatmapgl"
           }
          ],
          "histogram": [
           {
            "marker": {
             "pattern": {
              "fillmode": "overlay",
              "size": 10,
              "solidity": 0.2
             }
            },
            "type": "histogram"
           }
          ],
          "histogram2d": [
           {
            "colorbar": {
             "outlinewidth": 0,
             "ticks": ""
            },
            "colorscale": [
             [
              0,
              "#0d0887"
             ],
             [
              0.1111111111111111,
              "#46039f"
             ],
             [
              0.2222222222222222,
              "#7201a8"
             ],
             [
              0.3333333333333333,
              "#9c179e"
             ],
             [
              0.4444444444444444,
              "#bd3786"
             ],
             [
              0.5555555555555556,
              "#d8576b"
             ],
             [
              0.6666666666666666,
              "#ed7953"
             ],
             [
              0.7777777777777778,
              "#fb9f3a"
             ],
             [
              0.8888888888888888,
              "#fdca26"
             ],
             [
              1,
              "#f0f921"
             ]
            ],
            "type": "histogram2d"
           }
          ],
          "histogram2dcontour": [
           {
            "colorbar": {
             "outlinewidth": 0,
             "ticks": ""
            },
            "colorscale": [
             [
              0,
              "#0d0887"
             ],
             [
              0.1111111111111111,
              "#46039f"
             ],
             [
              0.2222222222222222,
              "#7201a8"
             ],
             [
              0.3333333333333333,
              "#9c179e"
             ],
             [
              0.4444444444444444,
              "#bd3786"
             ],
             [
              0.5555555555555556,
              "#d8576b"
             ],
             [
              0.6666666666666666,
              "#ed7953"
             ],
             [
              0.7777777777777778,
              "#fb9f3a"
             ],
             [
              0.8888888888888888,
              "#fdca26"
             ],
             [
              1,
              "#f0f921"
             ]
            ],
            "type": "histogram2dcontour"
           }
          ],
          "mesh3d": [
           {
            "colorbar": {
             "outlinewidth": 0,
             "ticks": ""
            },
            "type": "mesh3d"
           }
          ],
          "parcoords": [
           {
            "line": {
             "colorbar": {
              "outlinewidth": 0,
              "ticks": ""
             }
            },
            "type": "parcoords"
           }
          ],
          "pie": [
           {
            "automargin": true,
            "type": "pie"
           }
          ],
          "scatter": [
           {
            "fillpattern": {
             "fillmode": "overlay",
             "size": 10,
             "solidity": 0.2
            },
            "type": "scatter"
           }
          ],
          "scatter3d": [
           {
            "line": {
             "colorbar": {
              "outlinewidth": 0,
              "ticks": ""
             }
            },
            "marker": {
             "colorbar": {
              "outlinewidth": 0,
              "ticks": ""
             }
            },
            "type": "scatter3d"
           }
          ],
          "scattercarpet": [
           {
            "marker": {
             "colorbar": {
              "outlinewidth": 0,
              "ticks": ""
             }
            },
            "type": "scattercarpet"
           }
          ],
          "scattergeo": [
           {
            "marker": {
             "colorbar": {
              "outlinewidth": 0,
              "ticks": ""
             }
            },
            "type": "scattergeo"
           }
          ],
          "scattergl": [
           {
            "marker": {
             "colorbar": {
              "outlinewidth": 0,
              "ticks": ""
             }
            },
            "type": "scattergl"
           }
          ],
          "scattermapbox": [
           {
            "marker": {
             "colorbar": {
              "outlinewidth": 0,
              "ticks": ""
             }
            },
            "type": "scattermapbox"
           }
          ],
          "scatterpolar": [
           {
            "marker": {
             "colorbar": {
              "outlinewidth": 0,
              "ticks": ""
             }
            },
            "type": "scatterpolar"
           }
          ],
          "scatterpolargl": [
           {
            "marker": {
             "colorbar": {
              "outlinewidth": 0,
              "ticks": ""
             }
            },
            "type": "scatterpolargl"
           }
          ],
          "scatterternary": [
           {
            "marker": {
             "colorbar": {
              "outlinewidth": 0,
              "ticks": ""
             }
            },
            "type": "scatterternary"
           }
          ],
          "surface": [
           {
            "colorbar": {
             "outlinewidth": 0,
             "ticks": ""
            },
            "colorscale": [
             [
              0,
              "#0d0887"
             ],
             [
              0.1111111111111111,
              "#46039f"
             ],
             [
              0.2222222222222222,
              "#7201a8"
             ],
             [
              0.3333333333333333,
              "#9c179e"
             ],
             [
              0.4444444444444444,
              "#bd3786"
             ],
             [
              0.5555555555555556,
              "#d8576b"
             ],
             [
              0.6666666666666666,
              "#ed7953"
             ],
             [
              0.7777777777777778,
              "#fb9f3a"
             ],
             [
              0.8888888888888888,
              "#fdca26"
             ],
             [
              1,
              "#f0f921"
             ]
            ],
            "type": "surface"
           }
          ],
          "table": [
           {
            "cells": {
             "fill": {
              "color": "#EBF0F8"
             },
             "line": {
              "color": "white"
             }
            },
            "header": {
             "fill": {
              "color": "#C8D4E3"
             },
             "line": {
              "color": "white"
             }
            },
            "type": "table"
           }
          ]
         },
         "layout": {
          "annotationdefaults": {
           "arrowcolor": "#2a3f5f",
           "arrowhead": 0,
           "arrowwidth": 1
          },
          "autotypenumbers": "strict",
          "coloraxis": {
           "colorbar": {
            "outlinewidth": 0,
            "ticks": ""
           }
          },
          "colorscale": {
           "diverging": [
            [
             0,
             "#8e0152"
            ],
            [
             0.1,
             "#c51b7d"
            ],
            [
             0.2,
             "#de77ae"
            ],
            [
             0.3,
             "#f1b6da"
            ],
            [
             0.4,
             "#fde0ef"
            ],
            [
             0.5,
             "#f7f7f7"
            ],
            [
             0.6,
             "#e6f5d0"
            ],
            [
             0.7,
             "#b8e186"
            ],
            [
             0.8,
             "#7fbc41"
            ],
            [
             0.9,
             "#4d9221"
            ],
            [
             1,
             "#276419"
            ]
           ],
           "sequential": [
            [
             0,
             "#0d0887"
            ],
            [
             0.1111111111111111,
             "#46039f"
            ],
            [
             0.2222222222222222,
             "#7201a8"
            ],
            [
             0.3333333333333333,
             "#9c179e"
            ],
            [
             0.4444444444444444,
             "#bd3786"
            ],
            [
             0.5555555555555556,
             "#d8576b"
            ],
            [
             0.6666666666666666,
             "#ed7953"
            ],
            [
             0.7777777777777778,
             "#fb9f3a"
            ],
            [
             0.8888888888888888,
             "#fdca26"
            ],
            [
             1,
             "#f0f921"
            ]
           ],
           "sequentialminus": [
            [
             0,
             "#0d0887"
            ],
            [
             0.1111111111111111,
             "#46039f"
            ],
            [
             0.2222222222222222,
             "#7201a8"
            ],
            [
             0.3333333333333333,
             "#9c179e"
            ],
            [
             0.4444444444444444,
             "#bd3786"
            ],
            [
             0.5555555555555556,
             "#d8576b"
            ],
            [
             0.6666666666666666,
             "#ed7953"
            ],
            [
             0.7777777777777778,
             "#fb9f3a"
            ],
            [
             0.8888888888888888,
             "#fdca26"
            ],
            [
             1,
             "#f0f921"
            ]
           ]
          },
          "colorway": [
           "#636efa",
           "#EF553B",
           "#00cc96",
           "#ab63fa",
           "#FFA15A",
           "#19d3f3",
           "#FF6692",
           "#B6E880",
           "#FF97FF",
           "#FECB52"
          ],
          "font": {
           "color": "#2a3f5f"
          },
          "geo": {
           "bgcolor": "white",
           "lakecolor": "white",
           "landcolor": "#E5ECF6",
           "showlakes": true,
           "showland": true,
           "subunitcolor": "white"
          },
          "hoverlabel": {
           "align": "left"
          },
          "hovermode": "closest",
          "mapbox": {
           "style": "light"
          },
          "paper_bgcolor": "white",
          "plot_bgcolor": "#E5ECF6",
          "polar": {
           "angularaxis": {
            "gridcolor": "white",
            "linecolor": "white",
            "ticks": ""
           },
           "bgcolor": "#E5ECF6",
           "radialaxis": {
            "gridcolor": "white",
            "linecolor": "white",
            "ticks": ""
           }
          },
          "scene": {
           "xaxis": {
            "backgroundcolor": "#E5ECF6",
            "gridcolor": "white",
            "gridwidth": 2,
            "linecolor": "white",
            "showbackground": true,
            "ticks": "",
            "zerolinecolor": "white"
           },
           "yaxis": {
            "backgroundcolor": "#E5ECF6",
            "gridcolor": "white",
            "gridwidth": 2,
            "linecolor": "white",
            "showbackground": true,
            "ticks": "",
            "zerolinecolor": "white"
           },
           "zaxis": {
            "backgroundcolor": "#E5ECF6",
            "gridcolor": "white",
            "gridwidth": 2,
            "linecolor": "white",
            "showbackground": true,
            "ticks": "",
            "zerolinecolor": "white"
           }
          },
          "shapedefaults": {
           "line": {
            "color": "#2a3f5f"
           }
          },
          "ternary": {
           "aaxis": {
            "gridcolor": "white",
            "linecolor": "white",
            "ticks": ""
           },
           "baxis": {
            "gridcolor": "white",
            "linecolor": "white",
            "ticks": ""
           },
           "bgcolor": "#E5ECF6",
           "caxis": {
            "gridcolor": "white",
            "linecolor": "white",
            "ticks": ""
           }
          },
          "title": {
           "x": 0.05
          },
          "xaxis": {
           "automargin": true,
           "gridcolor": "white",
           "linecolor": "white",
           "ticks": "",
           "title": {
            "standoff": 15
           },
           "zerolinecolor": "white",
           "zerolinewidth": 2
          },
          "yaxis": {
           "automargin": true,
           "gridcolor": "white",
           "linecolor": "white",
           "ticks": "",
           "title": {
            "standoff": 15
           },
           "zerolinecolor": "white",
           "zerolinewidth": 2
          }
         }
        },
        "title": {
         "text": "Average GDP for each Country from 1952 to 2007"
        }
       }
      }
     },
     "metadata": {},
     "output_type": "display_data"
    }
   ],
   "source": [
    "fig1= px.choropleth(data_frame=gdp_cap_average_country,\n",
    "                locations='country',\n",
    "                locationmode='country names',\n",
    "                color='gdp_cap',\n",
    "                title='Average GDP for each Country from 1952 to 2007',\n",
    "                )\n",
    "fig1.show()"
   ]
  },
  {
   "cell_type": "markdown",
   "metadata": {},
   "source": [
    "gdp average for each country in 2007"
   ]
  },
  {
   "cell_type": "code",
   "execution_count": 93,
   "metadata": {},
   "outputs": [
    {
     "data": {
      "text/html": [
       "<div>\n",
       "<style scoped>\n",
       "    .dataframe tbody tr th:only-of-type {\n",
       "        vertical-align: middle;\n",
       "    }\n",
       "\n",
       "    .dataframe tbody tr th {\n",
       "        vertical-align: top;\n",
       "    }\n",
       "\n",
       "    .dataframe thead th {\n",
       "        text-align: right;\n",
       "    }\n",
       "</style>\n",
       "<table border=\"1\" class=\"dataframe\">\n",
       "  <thead>\n",
       "    <tr style=\"text-align: right;\">\n",
       "      <th></th>\n",
       "      <th>country</th>\n",
       "      <th>gdp_cap</th>\n",
       "    </tr>\n",
       "  </thead>\n",
       "  <tbody>\n",
       "    <tr>\n",
       "      <th>94</th>\n",
       "      <td>Norway</td>\n",
       "      <td>49,357.19</td>\n",
       "    </tr>\n",
       "    <tr>\n",
       "      <th>70</th>\n",
       "      <td>Kuwait</td>\n",
       "      <td>47,306.99</td>\n",
       "    </tr>\n",
       "    <tr>\n",
       "      <th>112</th>\n",
       "      <td>Singapore</td>\n",
       "      <td>47,143.18</td>\n",
       "    </tr>\n",
       "    <tr>\n",
       "      <th>133</th>\n",
       "      <td>United States</td>\n",
       "      <td>42,951.65</td>\n",
       "    </tr>\n",
       "    <tr>\n",
       "      <th>62</th>\n",
       "      <td>Ireland</td>\n",
       "      <td>40,676.00</td>\n",
       "    </tr>\n",
       "    <tr>\n",
       "      <th>55</th>\n",
       "      <td>Hong Kong, China</td>\n",
       "      <td>39,724.98</td>\n",
       "    </tr>\n",
       "    <tr>\n",
       "      <th>122</th>\n",
       "      <td>Switzerland</td>\n",
       "      <td>37,506.42</td>\n",
       "    </tr>\n",
       "    <tr>\n",
       "      <th>89</th>\n",
       "      <td>Netherlands</td>\n",
       "      <td>36,797.93</td>\n",
       "    </tr>\n",
       "    <tr>\n",
       "      <th>20</th>\n",
       "      <td>Canada</td>\n",
       "      <td>36,319.24</td>\n",
       "    </tr>\n",
       "    <tr>\n",
       "      <th>57</th>\n",
       "      <td>Iceland</td>\n",
       "      <td>36,180.79</td>\n",
       "    </tr>\n",
       "    <tr>\n",
       "      <th>6</th>\n",
       "      <td>Austria</td>\n",
       "      <td>36,126.49</td>\n",
       "    </tr>\n",
       "    <tr>\n",
       "      <th>34</th>\n",
       "      <td>Denmark</td>\n",
       "      <td>35,278.42</td>\n",
       "    </tr>\n",
       "    <tr>\n",
       "      <th>5</th>\n",
       "      <td>Australia</td>\n",
       "      <td>34,435.37</td>\n",
       "    </tr>\n",
       "    <tr>\n",
       "      <th>121</th>\n",
       "      <td>Sweden</td>\n",
       "      <td>33,859.75</td>\n",
       "    </tr>\n",
       "    <tr>\n",
       "      <th>9</th>\n",
       "      <td>Belgium</td>\n",
       "      <td>33,692.61</td>\n",
       "    </tr>\n",
       "    <tr>\n",
       "      <th>43</th>\n",
       "      <td>Finland</td>\n",
       "      <td>33,207.08</td>\n",
       "    </tr>\n",
       "    <tr>\n",
       "      <th>132</th>\n",
       "      <td>United Kingdom</td>\n",
       "      <td>33,203.26</td>\n",
       "    </tr>\n",
       "    <tr>\n",
       "      <th>47</th>\n",
       "      <td>Germany</td>\n",
       "      <td>32,170.37</td>\n",
       "    </tr>\n",
       "    <tr>\n",
       "      <th>65</th>\n",
       "      <td>Japan</td>\n",
       "      <td>31,656.07</td>\n",
       "    </tr>\n",
       "    <tr>\n",
       "      <th>44</th>\n",
       "      <td>France</td>\n",
       "      <td>30,470.02</td>\n",
       "    </tr>\n",
       "    <tr>\n",
       "      <th>7</th>\n",
       "      <td>Bahrain</td>\n",
       "      <td>29,796.05</td>\n",
       "    </tr>\n",
       "    <tr>\n",
       "      <th>117</th>\n",
       "      <td>Spain</td>\n",
       "      <td>28,821.06</td>\n",
       "    </tr>\n",
       "    <tr>\n",
       "      <th>124</th>\n",
       "      <td>Taiwan</td>\n",
       "      <td>28,718.28</td>\n",
       "    </tr>\n",
       "    <tr>\n",
       "      <th>63</th>\n",
       "      <td>Italy</td>\n",
       "      <td>28,569.72</td>\n",
       "    </tr>\n",
       "    <tr>\n",
       "      <th>49</th>\n",
       "      <td>Greece</td>\n",
       "      <td>27,538.41</td>\n",
       "    </tr>\n",
       "    <tr>\n",
       "      <th>114</th>\n",
       "      <td>Slovenia</td>\n",
       "      <td>25,768.26</td>\n",
       "    </tr>\n",
       "    <tr>\n",
       "      <th>90</th>\n",
       "      <td>New Zealand</td>\n",
       "      <td>25,185.01</td>\n",
       "    </tr>\n",
       "    <tr>\n",
       "      <th>69</th>\n",
       "      <td>Korea, Rep.</td>\n",
       "      <td>23,348.14</td>\n",
       "    </tr>\n",
       "    <tr>\n",
       "      <th>33</th>\n",
       "      <td>Czech Republic</td>\n",
       "      <td>22,833.31</td>\n",
       "    </tr>\n",
       "    <tr>\n",
       "      <th>95</th>\n",
       "      <td>Oman</td>\n",
       "      <td>22,316.19</td>\n",
       "    </tr>\n",
       "    <tr>\n",
       "      <th>108</th>\n",
       "      <td>Saudi Arabia</td>\n",
       "      <td>21,654.83</td>\n",
       "    </tr>\n",
       "    <tr>\n",
       "      <th>102</th>\n",
       "      <td>Portugal</td>\n",
       "      <td>20,509.65</td>\n",
       "    </tr>\n",
       "    <tr>\n",
       "      <th>103</th>\n",
       "      <td>Puerto Rico</td>\n",
       "      <td>19,328.71</td>\n",
       "    </tr>\n",
       "    <tr>\n",
       "      <th>113</th>\n",
       "      <td>Slovak Republic</td>\n",
       "      <td>18,678.31</td>\n",
       "    </tr>\n",
       "    <tr>\n",
       "      <th>56</th>\n",
       "      <td>Hungary</td>\n",
       "      <td>18,008.94</td>\n",
       "    </tr>\n",
       "    <tr>\n",
       "      <th>128</th>\n",
       "      <td>Trinidad and Tobago</td>\n",
       "      <td>18,008.51</td>\n",
       "    </tr>\n",
       "    <tr>\n",
       "      <th>101</th>\n",
       "      <td>Poland</td>\n",
       "      <td>15,389.92</td>\n",
       "    </tr>\n",
       "    <tr>\n",
       "      <th>31</th>\n",
       "      <td>Croatia</td>\n",
       "      <td>14,619.22</td>\n",
       "    </tr>\n",
       "    <tr>\n",
       "      <th>45</th>\n",
       "      <td>Gabon</td>\n",
       "      <td>13,206.48</td>\n",
       "    </tr>\n",
       "    <tr>\n",
       "      <th>23</th>\n",
       "      <td>Chile</td>\n",
       "      <td>13,171.64</td>\n",
       "    </tr>\n",
       "    <tr>\n",
       "      <th>4</th>\n",
       "      <td>Argentina</td>\n",
       "      <td>12,779.38</td>\n",
       "    </tr>\n",
       "    <tr>\n",
       "      <th>13</th>\n",
       "      <td>Botswana</td>\n",
       "      <td>12,569.85</td>\n",
       "    </tr>\n",
       "    <tr>\n",
       "      <th>77</th>\n",
       "      <td>Malaysia</td>\n",
       "      <td>12,451.66</td>\n",
       "    </tr>\n",
       "    <tr>\n",
       "      <th>40</th>\n",
       "      <td>Equatorial Guinea</td>\n",
       "      <td>12,154.09</td>\n",
       "    </tr>\n",
       "    <tr>\n",
       "      <th>74</th>\n",
       "      <td>Libya</td>\n",
       "      <td>12,057.50</td>\n",
       "    </tr>\n",
       "    <tr>\n",
       "      <th>81</th>\n",
       "      <td>Mexico</td>\n",
       "      <td>11,977.57</td>\n",
       "    </tr>\n",
       "    <tr>\n",
       "      <th>60</th>\n",
       "      <td>Iran</td>\n",
       "      <td>11,605.71</td>\n",
       "    </tr>\n",
       "    <tr>\n",
       "      <th>135</th>\n",
       "      <td>Venezuela</td>\n",
       "      <td>11,415.81</td>\n",
       "    </tr>\n",
       "    <tr>\n",
       "      <th>80</th>\n",
       "      <td>Mauritius</td>\n",
       "      <td>10,956.99</td>\n",
       "    </tr>\n",
       "    <tr>\n",
       "      <th>105</th>\n",
       "      <td>Romania</td>\n",
       "      <td>10,808.48</td>\n",
       "    </tr>\n",
       "    <tr>\n",
       "      <th>15</th>\n",
       "      <td>Bulgaria</td>\n",
       "      <td>10,680.79</td>\n",
       "    </tr>\n",
       "    <tr>\n",
       "      <th>134</th>\n",
       "      <td>Uruguay</td>\n",
       "      <td>10,611.46</td>\n",
       "    </tr>\n",
       "    <tr>\n",
       "      <th>71</th>\n",
       "      <td>Lebanon</td>\n",
       "      <td>10,461.06</td>\n",
       "    </tr>\n",
       "    <tr>\n",
       "      <th>97</th>\n",
       "      <td>Panama</td>\n",
       "      <td>9,809.19</td>\n",
       "    </tr>\n",
       "    <tr>\n",
       "      <th>110</th>\n",
       "      <td>Serbia</td>\n",
       "      <td>9,786.53</td>\n",
       "    </tr>\n",
       "    <tr>\n",
       "      <th>29</th>\n",
       "      <td>Costa Rica</td>\n",
       "      <td>9,645.06</td>\n",
       "    </tr>\n",
       "    <tr>\n",
       "      <th>116</th>\n",
       "      <td>South Africa</td>\n",
       "      <td>9,269.66</td>\n",
       "    </tr>\n",
       "    <tr>\n",
       "      <th>83</th>\n",
       "      <td>Montenegro</td>\n",
       "      <td>9,253.90</td>\n",
       "    </tr>\n",
       "    <tr>\n",
       "      <th>14</th>\n",
       "      <td>Brazil</td>\n",
       "      <td>9,065.80</td>\n",
       "    </tr>\n",
       "    <tr>\n",
       "      <th>32</th>\n",
       "      <td>Cuba</td>\n",
       "      <td>8,948.10</td>\n",
       "    </tr>\n",
       "    <tr>\n",
       "      <th>130</th>\n",
       "      <td>Turkey</td>\n",
       "      <td>8,458.28</td>\n",
       "    </tr>\n",
       "    <tr>\n",
       "      <th>104</th>\n",
       "      <td>Reunion</td>\n",
       "      <td>7,670.12</td>\n",
       "    </tr>\n",
       "    <tr>\n",
       "      <th>126</th>\n",
       "      <td>Thailand</td>\n",
       "      <td>7,458.40</td>\n",
       "    </tr>\n",
       "    <tr>\n",
       "      <th>12</th>\n",
       "      <td>Bosnia and Herzegovina</td>\n",
       "      <td>7,446.30</td>\n",
       "    </tr>\n",
       "    <tr>\n",
       "      <th>99</th>\n",
       "      <td>Peru</td>\n",
       "      <td>7,408.91</td>\n",
       "    </tr>\n",
       "    <tr>\n",
       "      <th>64</th>\n",
       "      <td>Jamaica</td>\n",
       "      <td>7,320.88</td>\n",
       "    </tr>\n",
       "    <tr>\n",
       "      <th>129</th>\n",
       "      <td>Tunisia</td>\n",
       "      <td>7,092.92</td>\n",
       "    </tr>\n",
       "    <tr>\n",
       "      <th>25</th>\n",
       "      <td>Colombia</td>\n",
       "      <td>7,006.58</td>\n",
       "    </tr>\n",
       "    <tr>\n",
       "      <th>37</th>\n",
       "      <td>Ecuador</td>\n",
       "      <td>6,873.26</td>\n",
       "    </tr>\n",
       "    <tr>\n",
       "      <th>2</th>\n",
       "      <td>Algeria</td>\n",
       "      <td>6,223.37</td>\n",
       "    </tr>\n",
       "    <tr>\n",
       "      <th>36</th>\n",
       "      <td>Dominican Republic</td>\n",
       "      <td>6,025.37</td>\n",
       "    </tr>\n",
       "    <tr>\n",
       "      <th>1</th>\n",
       "      <td>Albania</td>\n",
       "      <td>5,937.03</td>\n",
       "    </tr>\n",
       "    <tr>\n",
       "      <th>39</th>\n",
       "      <td>El Salvador</td>\n",
       "      <td>5,728.35</td>\n",
       "    </tr>\n",
       "    <tr>\n",
       "      <th>38</th>\n",
       "      <td>Egypt</td>\n",
       "      <td>5,581.18</td>\n",
       "    </tr>\n",
       "    <tr>\n",
       "      <th>50</th>\n",
       "      <td>Guatemala</td>\n",
       "      <td>5,186.05</td>\n",
       "    </tr>\n",
       "    <tr>\n",
       "      <th>24</th>\n",
       "      <td>China</td>\n",
       "      <td>4,959.11</td>\n",
       "    </tr>\n",
       "    <tr>\n",
       "      <th>87</th>\n",
       "      <td>Namibia</td>\n",
       "      <td>4,811.06</td>\n",
       "    </tr>\n",
       "    <tr>\n",
       "      <th>3</th>\n",
       "      <td>Angola</td>\n",
       "      <td>4,797.23</td>\n",
       "    </tr>\n",
       "    <tr>\n",
       "      <th>66</th>\n",
       "      <td>Jordan</td>\n",
       "      <td>4,519.46</td>\n",
       "    </tr>\n",
       "    <tr>\n",
       "      <th>120</th>\n",
       "      <td>Swaziland</td>\n",
       "      <td>4,513.48</td>\n",
       "    </tr>\n",
       "    <tr>\n",
       "      <th>61</th>\n",
       "      <td>Iraq</td>\n",
       "      <td>4,471.06</td>\n",
       "    </tr>\n",
       "    <tr>\n",
       "      <th>123</th>\n",
       "      <td>Syria</td>\n",
       "      <td>4,184.55</td>\n",
       "    </tr>\n",
       "    <tr>\n",
       "      <th>98</th>\n",
       "      <td>Paraguay</td>\n",
       "      <td>4,172.84</td>\n",
       "    </tr>\n",
       "    <tr>\n",
       "      <th>118</th>\n",
       "      <td>Sri Lanka</td>\n",
       "      <td>3,970.10</td>\n",
       "    </tr>\n",
       "    <tr>\n",
       "      <th>11</th>\n",
       "      <td>Bolivia</td>\n",
       "      <td>3,822.14</td>\n",
       "    </tr>\n",
       "    <tr>\n",
       "      <th>84</th>\n",
       "      <td>Morocco</td>\n",
       "      <td>3,820.18</td>\n",
       "    </tr>\n",
       "    <tr>\n",
       "      <th>28</th>\n",
       "      <td>Congo, Rep.</td>\n",
       "      <td>3,632.56</td>\n",
       "    </tr>\n",
       "    <tr>\n",
       "      <th>54</th>\n",
       "      <td>Honduras</td>\n",
       "      <td>3,548.33</td>\n",
       "    </tr>\n",
       "    <tr>\n",
       "      <th>59</th>\n",
       "      <td>Indonesia</td>\n",
       "      <td>3,540.65</td>\n",
       "    </tr>\n",
       "    <tr>\n",
       "      <th>100</th>\n",
       "      <td>Philippines</td>\n",
       "      <td>3,190.48</td>\n",
       "    </tr>\n",
       "    <tr>\n",
       "      <th>82</th>\n",
       "      <td>Mongolia</td>\n",
       "      <td>3,095.77</td>\n",
       "    </tr>\n",
       "    <tr>\n",
       "      <th>137</th>\n",
       "      <td>West Bank and Gaza</td>\n",
       "      <td>3,025.35</td>\n",
       "    </tr>\n",
       "    <tr>\n",
       "      <th>91</th>\n",
       "      <td>Nicaragua</td>\n",
       "      <td>2,749.32</td>\n",
       "    </tr>\n",
       "    <tr>\n",
       "      <th>96</th>\n",
       "      <td>Pakistan</td>\n",
       "      <td>2,605.95</td>\n",
       "    </tr>\n",
       "    <tr>\n",
       "      <th>119</th>\n",
       "      <td>Sudan</td>\n",
       "      <td>2,602.39</td>\n",
       "    </tr>\n",
       "    <tr>\n",
       "      <th>58</th>\n",
       "      <td>India</td>\n",
       "      <td>2,452.21</td>\n",
       "    </tr>\n",
       "    <tr>\n",
       "      <th>136</th>\n",
       "      <td>Vietnam</td>\n",
       "      <td>2,441.58</td>\n",
       "    </tr>\n",
       "    <tr>\n",
       "      <th>138</th>\n",
       "      <td>Yemen, Rep.</td>\n",
       "      <td>2,280.77</td>\n",
       "    </tr>\n",
       "    <tr>\n",
       "      <th>35</th>\n",
       "      <td>Djibouti</td>\n",
       "      <td>2,082.48</td>\n",
       "    </tr>\n",
       "    <tr>\n",
       "      <th>19</th>\n",
       "      <td>Cameroon</td>\n",
       "      <td>2,042.10</td>\n",
       "    </tr>\n",
       "    <tr>\n",
       "      <th>93</th>\n",
       "      <td>Nigeria</td>\n",
       "      <td>2,013.98</td>\n",
       "    </tr>\n",
       "    <tr>\n",
       "      <th>79</th>\n",
       "      <td>Mauritania</td>\n",
       "      <td>1,803.15</td>\n",
       "    </tr>\n",
       "    <tr>\n",
       "      <th>18</th>\n",
       "      <td>Cambodia</td>\n",
       "      <td>1,713.78</td>\n",
       "    </tr>\n",
       "    <tr>\n",
       "      <th>109</th>\n",
       "      <td>Senegal</td>\n",
       "      <td>1,712.47</td>\n",
       "    </tr>\n",
       "    <tr>\n",
       "      <th>22</th>\n",
       "      <td>Chad</td>\n",
       "      <td>1,704.06</td>\n",
       "    </tr>\n",
       "    <tr>\n",
       "      <th>107</th>\n",
       "      <td>Sao Tome and Principe</td>\n",
       "      <td>1,598.44</td>\n",
       "    </tr>\n",
       "    <tr>\n",
       "      <th>68</th>\n",
       "      <td>Korea, Dem. Rep.</td>\n",
       "      <td>1,593.07</td>\n",
       "    </tr>\n",
       "    <tr>\n",
       "      <th>72</th>\n",
       "      <td>Lesotho</td>\n",
       "      <td>1,569.33</td>\n",
       "    </tr>\n",
       "    <tr>\n",
       "      <th>30</th>\n",
       "      <td>Cote d'Ivoire</td>\n",
       "      <td>1,544.75</td>\n",
       "    </tr>\n",
       "    <tr>\n",
       "      <th>67</th>\n",
       "      <td>Kenya</td>\n",
       "      <td>1,463.25</td>\n",
       "    </tr>\n",
       "    <tr>\n",
       "      <th>10</th>\n",
       "      <td>Benin</td>\n",
       "      <td>1,441.28</td>\n",
       "    </tr>\n",
       "    <tr>\n",
       "      <th>8</th>\n",
       "      <td>Bangladesh</td>\n",
       "      <td>1,391.25</td>\n",
       "    </tr>\n",
       "    <tr>\n",
       "      <th>48</th>\n",
       "      <td>Ghana</td>\n",
       "      <td>1,327.61</td>\n",
       "    </tr>\n",
       "    <tr>\n",
       "      <th>139</th>\n",
       "      <td>Zambia</td>\n",
       "      <td>1,271.21</td>\n",
       "    </tr>\n",
       "    <tr>\n",
       "      <th>16</th>\n",
       "      <td>Burkina Faso</td>\n",
       "      <td>1,217.03</td>\n",
       "    </tr>\n",
       "    <tr>\n",
       "      <th>53</th>\n",
       "      <td>Haiti</td>\n",
       "      <td>1,201.64</td>\n",
       "    </tr>\n",
       "    <tr>\n",
       "      <th>125</th>\n",
       "      <td>Tanzania</td>\n",
       "      <td>1,107.48</td>\n",
       "    </tr>\n",
       "    <tr>\n",
       "      <th>88</th>\n",
       "      <td>Nepal</td>\n",
       "      <td>1,091.36</td>\n",
       "    </tr>\n",
       "    <tr>\n",
       "      <th>131</th>\n",
       "      <td>Uganda</td>\n",
       "      <td>1,056.38</td>\n",
       "    </tr>\n",
       "    <tr>\n",
       "      <th>75</th>\n",
       "      <td>Madagascar</td>\n",
       "      <td>1,044.77</td>\n",
       "    </tr>\n",
       "    <tr>\n",
       "      <th>78</th>\n",
       "      <td>Mali</td>\n",
       "      <td>1,042.58</td>\n",
       "    </tr>\n",
       "    <tr>\n",
       "      <th>26</th>\n",
       "      <td>Comoros</td>\n",
       "      <td>986.15</td>\n",
       "    </tr>\n",
       "    <tr>\n",
       "      <th>0</th>\n",
       "      <td>Afghanistan</td>\n",
       "      <td>974.58</td>\n",
       "    </tr>\n",
       "    <tr>\n",
       "      <th>86</th>\n",
       "      <td>Myanmar</td>\n",
       "      <td>944.00</td>\n",
       "    </tr>\n",
       "    <tr>\n",
       "      <th>51</th>\n",
       "      <td>Guinea</td>\n",
       "      <td>942.65</td>\n",
       "    </tr>\n",
       "    <tr>\n",
       "      <th>115</th>\n",
       "      <td>Somalia</td>\n",
       "      <td>926.14</td>\n",
       "    </tr>\n",
       "    <tr>\n",
       "      <th>127</th>\n",
       "      <td>Togo</td>\n",
       "      <td>882.97</td>\n",
       "    </tr>\n",
       "    <tr>\n",
       "      <th>106</th>\n",
       "      <td>Rwanda</td>\n",
       "      <td>863.09</td>\n",
       "    </tr>\n",
       "    <tr>\n",
       "      <th>111</th>\n",
       "      <td>Sierra Leone</td>\n",
       "      <td>862.54</td>\n",
       "    </tr>\n",
       "    <tr>\n",
       "      <th>85</th>\n",
       "      <td>Mozambique</td>\n",
       "      <td>823.69</td>\n",
       "    </tr>\n",
       "    <tr>\n",
       "      <th>76</th>\n",
       "      <td>Malawi</td>\n",
       "      <td>759.35</td>\n",
       "    </tr>\n",
       "    <tr>\n",
       "      <th>46</th>\n",
       "      <td>Gambia</td>\n",
       "      <td>752.75</td>\n",
       "    </tr>\n",
       "    <tr>\n",
       "      <th>21</th>\n",
       "      <td>Central African Republic</td>\n",
       "      <td>706.02</td>\n",
       "    </tr>\n",
       "    <tr>\n",
       "      <th>42</th>\n",
       "      <td>Ethiopia</td>\n",
       "      <td>690.81</td>\n",
       "    </tr>\n",
       "    <tr>\n",
       "      <th>41</th>\n",
       "      <td>Eritrea</td>\n",
       "      <td>641.37</td>\n",
       "    </tr>\n",
       "    <tr>\n",
       "      <th>92</th>\n",
       "      <td>Niger</td>\n",
       "      <td>619.68</td>\n",
       "    </tr>\n",
       "    <tr>\n",
       "      <th>52</th>\n",
       "      <td>Guinea-Bissau</td>\n",
       "      <td>579.23</td>\n",
       "    </tr>\n",
       "    <tr>\n",
       "      <th>140</th>\n",
       "      <td>Zimbabwe</td>\n",
       "      <td>469.71</td>\n",
       "    </tr>\n",
       "    <tr>\n",
       "      <th>17</th>\n",
       "      <td>Burundi</td>\n",
       "      <td>430.07</td>\n",
       "    </tr>\n",
       "    <tr>\n",
       "      <th>73</th>\n",
       "      <td>Liberia</td>\n",
       "      <td>414.51</td>\n",
       "    </tr>\n",
       "    <tr>\n",
       "      <th>27</th>\n",
       "      <td>Congo, Dem. Rep.</td>\n",
       "      <td>277.55</td>\n",
       "    </tr>\n",
       "  </tbody>\n",
       "</table>\n",
       "</div>"
      ],
      "text/plain": [
       "                      country   gdp_cap\n",
       "94                     Norway 49,357.19\n",
       "70                     Kuwait 47,306.99\n",
       "112                 Singapore 47,143.18\n",
       "133             United States 42,951.65\n",
       "62                    Ireland 40,676.00\n",
       "55           Hong Kong, China 39,724.98\n",
       "122               Switzerland 37,506.42\n",
       "89                Netherlands 36,797.93\n",
       "20                     Canada 36,319.24\n",
       "57                    Iceland 36,180.79\n",
       "6                     Austria 36,126.49\n",
       "34                    Denmark 35,278.42\n",
       "5                   Australia 34,435.37\n",
       "121                    Sweden 33,859.75\n",
       "9                     Belgium 33,692.61\n",
       "43                    Finland 33,207.08\n",
       "132            United Kingdom 33,203.26\n",
       "47                    Germany 32,170.37\n",
       "65                      Japan 31,656.07\n",
       "44                     France 30,470.02\n",
       "7                     Bahrain 29,796.05\n",
       "117                     Spain 28,821.06\n",
       "124                    Taiwan 28,718.28\n",
       "63                      Italy 28,569.72\n",
       "49                     Greece 27,538.41\n",
       "114                  Slovenia 25,768.26\n",
       "90                New Zealand 25,185.01\n",
       "69                Korea, Rep. 23,348.14\n",
       "33             Czech Republic 22,833.31\n",
       "95                       Oman 22,316.19\n",
       "108              Saudi Arabia 21,654.83\n",
       "102                  Portugal 20,509.65\n",
       "103               Puerto Rico 19,328.71\n",
       "113           Slovak Republic 18,678.31\n",
       "56                    Hungary 18,008.94\n",
       "128       Trinidad and Tobago 18,008.51\n",
       "101                    Poland 15,389.92\n",
       "31                    Croatia 14,619.22\n",
       "45                      Gabon 13,206.48\n",
       "23                      Chile 13,171.64\n",
       "4                   Argentina 12,779.38\n",
       "13                   Botswana 12,569.85\n",
       "77                   Malaysia 12,451.66\n",
       "40          Equatorial Guinea 12,154.09\n",
       "74                      Libya 12,057.50\n",
       "81                     Mexico 11,977.57\n",
       "60                       Iran 11,605.71\n",
       "135                 Venezuela 11,415.81\n",
       "80                  Mauritius 10,956.99\n",
       "105                   Romania 10,808.48\n",
       "15                   Bulgaria 10,680.79\n",
       "134                   Uruguay 10,611.46\n",
       "71                    Lebanon 10,461.06\n",
       "97                     Panama  9,809.19\n",
       "110                    Serbia  9,786.53\n",
       "29                 Costa Rica  9,645.06\n",
       "116              South Africa  9,269.66\n",
       "83                 Montenegro  9,253.90\n",
       "14                     Brazil  9,065.80\n",
       "32                       Cuba  8,948.10\n",
       "130                    Turkey  8,458.28\n",
       "104                   Reunion  7,670.12\n",
       "126                  Thailand  7,458.40\n",
       "12     Bosnia and Herzegovina  7,446.30\n",
       "99                       Peru  7,408.91\n",
       "64                    Jamaica  7,320.88\n",
       "129                   Tunisia  7,092.92\n",
       "25                   Colombia  7,006.58\n",
       "37                    Ecuador  6,873.26\n",
       "2                     Algeria  6,223.37\n",
       "36         Dominican Republic  6,025.37\n",
       "1                     Albania  5,937.03\n",
       "39                El Salvador  5,728.35\n",
       "38                      Egypt  5,581.18\n",
       "50                  Guatemala  5,186.05\n",
       "24                      China  4,959.11\n",
       "87                    Namibia  4,811.06\n",
       "3                      Angola  4,797.23\n",
       "66                     Jordan  4,519.46\n",
       "120                 Swaziland  4,513.48\n",
       "61                       Iraq  4,471.06\n",
       "123                     Syria  4,184.55\n",
       "98                   Paraguay  4,172.84\n",
       "118                 Sri Lanka  3,970.10\n",
       "11                    Bolivia  3,822.14\n",
       "84                    Morocco  3,820.18\n",
       "28                Congo, Rep.  3,632.56\n",
       "54                   Honduras  3,548.33\n",
       "59                  Indonesia  3,540.65\n",
       "100               Philippines  3,190.48\n",
       "82                   Mongolia  3,095.77\n",
       "137        West Bank and Gaza  3,025.35\n",
       "91                  Nicaragua  2,749.32\n",
       "96                   Pakistan  2,605.95\n",
       "119                     Sudan  2,602.39\n",
       "58                      India  2,452.21\n",
       "136                   Vietnam  2,441.58\n",
       "138               Yemen, Rep.  2,280.77\n",
       "35                   Djibouti  2,082.48\n",
       "19                   Cameroon  2,042.10\n",
       "93                    Nigeria  2,013.98\n",
       "79                 Mauritania  1,803.15\n",
       "18                   Cambodia  1,713.78\n",
       "109                   Senegal  1,712.47\n",
       "22                       Chad  1,704.06\n",
       "107     Sao Tome and Principe  1,598.44\n",
       "68           Korea, Dem. Rep.  1,593.07\n",
       "72                    Lesotho  1,569.33\n",
       "30              Cote d'Ivoire  1,544.75\n",
       "67                      Kenya  1,463.25\n",
       "10                      Benin  1,441.28\n",
       "8                  Bangladesh  1,391.25\n",
       "48                      Ghana  1,327.61\n",
       "139                    Zambia  1,271.21\n",
       "16               Burkina Faso  1,217.03\n",
       "53                      Haiti  1,201.64\n",
       "125                  Tanzania  1,107.48\n",
       "88                      Nepal  1,091.36\n",
       "131                    Uganda  1,056.38\n",
       "75                 Madagascar  1,044.77\n",
       "78                       Mali  1,042.58\n",
       "26                    Comoros    986.15\n",
       "0                 Afghanistan    974.58\n",
       "86                    Myanmar    944.00\n",
       "51                     Guinea    942.65\n",
       "115                   Somalia    926.14\n",
       "127                      Togo    882.97\n",
       "106                    Rwanda    863.09\n",
       "111              Sierra Leone    862.54\n",
       "85                 Mozambique    823.69\n",
       "76                     Malawi    759.35\n",
       "46                     Gambia    752.75\n",
       "21   Central African Republic    706.02\n",
       "42                   Ethiopia    690.81\n",
       "41                    Eritrea    641.37\n",
       "92                      Niger    619.68\n",
       "52              Guinea-Bissau    579.23\n",
       "140                  Zimbabwe    469.71\n",
       "17                    Burundi    430.07\n",
       "73                    Liberia    414.51\n",
       "27           Congo, Dem. Rep.    277.55"
      ]
     },
     "execution_count": 93,
     "metadata": {},
     "output_type": "execute_result"
    }
   ],
   "source": [
    "df_2007 = df[df['year'] == 2007]\n",
    "gdp_cap_2007 = df_2007.groupby('country', as_index=False)['gdp_cap'].mean().sort_values(by='gdp_cap' , ascending=False)\n",
    "gdp_cap_2007"
   ]
  },
  {
   "cell_type": "code",
   "execution_count": 94,
   "metadata": {},
   "outputs": [
    {
     "data": {
      "application/vnd.plotly.v1+json": {
       "config": {
        "plotlyServerURL": "https://plot.ly"
       },
       "data": [
        {
         "coloraxis": "coloraxis",
         "geo": "geo",
         "hovertemplate": "country=%{location}<br>gdp_cap=%{z}<extra></extra>",
         "locationmode": "country names",
         "locations": [
          "Norway",
          "Kuwait",
          "Singapore",
          "United States",
          "Ireland",
          "Hong Kong, China",
          "Switzerland",
          "Netherlands",
          "Canada",
          "Iceland",
          "Austria",
          "Denmark",
          "Australia",
          "Sweden",
          "Belgium",
          "Finland",
          "United Kingdom",
          "Germany",
          "Japan",
          "France",
          "Bahrain",
          "Spain",
          "Taiwan",
          "Italy",
          "Greece",
          "Slovenia",
          "New Zealand",
          "Korea, Rep.",
          "Czech Republic",
          "Oman",
          "Saudi Arabia",
          "Portugal",
          "Puerto Rico",
          "Slovak Republic",
          "Hungary",
          "Trinidad and Tobago",
          "Poland",
          "Croatia",
          "Gabon",
          "Chile",
          "Argentina",
          "Botswana",
          "Malaysia",
          "Equatorial Guinea",
          "Libya",
          "Mexico",
          "Iran",
          "Venezuela",
          "Mauritius",
          "Romania",
          "Bulgaria",
          "Uruguay",
          "Lebanon",
          "Panama",
          "Serbia",
          "Costa Rica",
          "South Africa",
          "Montenegro",
          "Brazil",
          "Cuba",
          "Turkey",
          "Reunion",
          "Thailand",
          "Bosnia and Herzegovina",
          "Peru",
          "Jamaica",
          "Tunisia",
          "Colombia",
          "Ecuador",
          "Algeria",
          "Dominican Republic",
          "Albania",
          "El Salvador",
          "Egypt",
          "Guatemala",
          "China",
          "Namibia",
          "Angola",
          "Jordan",
          "Swaziland",
          "Iraq",
          "Syria",
          "Paraguay",
          "Sri Lanka",
          "Bolivia",
          "Morocco",
          "Congo, Rep.",
          "Honduras",
          "Indonesia",
          "Philippines",
          "Mongolia",
          "West Bank and Gaza",
          "Nicaragua",
          "Pakistan",
          "Sudan",
          "India",
          "Vietnam",
          "Yemen, Rep.",
          "Djibouti",
          "Cameroon",
          "Nigeria",
          "Mauritania",
          "Cambodia",
          "Senegal",
          "Chad",
          "Sao Tome and Principe",
          "Korea, Dem. Rep.",
          "Lesotho",
          "Cote d'Ivoire",
          "Kenya",
          "Benin",
          "Bangladesh",
          "Ghana",
          "Zambia",
          "Burkina Faso",
          "Haiti",
          "Tanzania",
          "Nepal",
          "Uganda",
          "Madagascar",
          "Mali",
          "Comoros",
          "Afghanistan",
          "Myanmar",
          "Guinea",
          "Somalia",
          "Togo",
          "Rwanda",
          "Sierra Leone",
          "Mozambique",
          "Malawi",
          "Gambia",
          "Central African Republic",
          "Ethiopia",
          "Eritrea",
          "Niger",
          "Guinea-Bissau",
          "Zimbabwe",
          "Burundi",
          "Liberia",
          "Congo, Dem. Rep."
         ],
         "name": "",
         "type": "choropleth",
         "z": [
          49357.19017,
          47306.98978,
          47143.17964,
          42951.65309,
          40675.99635,
          39724.97867,
          37506.41907,
          36797.93332,
          36319.23501,
          36180.78919,
          36126.4927,
          35278.41874,
          34435.36744,
          33859.74835,
          33692.60508,
          33207.0844,
          33203.26128,
          32170.37442,
          31656.06806,
          30470.0167,
          29796.04834,
          28821.0637,
          28718.27684,
          28569.7197,
          27538.41188,
          25768.25759,
          25185.00911,
          23348.13973,
          22833.30851,
          22316.19287,
          21654.83194,
          20509.64777,
          19328.70901,
          18678.31435,
          18008.94444,
          18008.50924,
          15389.92468,
          14619.22272,
          13206.48452,
          13171.63885,
          12779.37964,
          12569.85177,
          12451.6558,
          12154.08975,
          12057.49928,
          11977.57496,
          11605.71449,
          11415.80569,
          10956.99112,
          10808.47561,
          10680.79282,
          10611.46299,
          10461.05868,
          9809.185636,
          9786.534714,
          9645.06142,
          9269.657808,
          9253.896111,
          9065.800825,
          8948.102923,
          8458.276384,
          7670.122558,
          7458.396327,
          7446.298803,
          7408.905561,
          7320.880262,
          7092.923025,
          7006.580419,
          6873.262326,
          6223.367465,
          6025.374752,
          5937.029526,
          5728.353514,
          5581.180998,
          5186.050003,
          4959.114854,
          4811.060429,
          4797.231267,
          4519.461171,
          4513.480643,
          4471.061906,
          4184.548089,
          4172.838464,
          3970.095407,
          3822.137084,
          3820.17523,
          3632.557798,
          3548.330846,
          3540.651564,
          3190.481016,
          3095.772271,
          3025.349798,
          2749.320965,
          2605.94758,
          2602.394995,
          2452.210407,
          2441.576404,
          2280.769906,
          2082.481567,
          2042.09524,
          2013.977305,
          1803.151496,
          1713.778686,
          1712.472136,
          1704.063724,
          1598.435089,
          1593.06548,
          1569.331442,
          1544.750112,
          1463.249282,
          1441.284873,
          1391.253792,
          1327.60891,
          1271.211593,
          1217.032994,
          1201.637154,
          1107.482182,
          1091.359778,
          1056.380121,
          1044.770126,
          1042.581557,
          986.1478792,
          974.5803384,
          944,
          942.6542111,
          926.1410683,
          882.9699438,
          863.0884639,
          862.5407561,
          823.6856205,
          759.3499101,
          752.7497265,
          706.016537,
          690.8055759,
          641.3695236,
          619.6768924,
          579.231743,
          469.7092981,
          430.0706916,
          414.5073415,
          277.5518587
         ]
        }
       ],
       "layout": {
        "coloraxis": {
         "colorbar": {
          "title": {
           "text": "gdp_cap"
          }
         },
         "colorscale": [
          [
           0,
           "rgb(255,255,204)"
          ],
          [
           0.125,
           "rgb(255,237,160)"
          ],
          [
           0.25,
           "rgb(254,217,118)"
          ],
          [
           0.375,
           "rgb(254,178,76)"
          ],
          [
           0.5,
           "rgb(253,141,60)"
          ],
          [
           0.625,
           "rgb(252,78,42)"
          ],
          [
           0.75,
           "rgb(227,26,28)"
          ],
          [
           0.875,
           "rgb(189,0,38)"
          ],
          [
           1,
           "rgb(128,0,38)"
          ]
         ]
        },
        "geo": {
         "center": {},
         "domain": {
          "x": [
           0,
           1
          ],
          "y": [
           0,
           1
          ]
         }
        },
        "legend": {
         "tracegroupgap": 0
        },
        "template": {
         "data": {
          "bar": [
           {
            "error_x": {
             "color": "#2a3f5f"
            },
            "error_y": {
             "color": "#2a3f5f"
            },
            "marker": {
             "line": {
              "color": "#E5ECF6",
              "width": 0.5
             },
             "pattern": {
              "fillmode": "overlay",
              "size": 10,
              "solidity": 0.2
             }
            },
            "type": "bar"
           }
          ],
          "barpolar": [
           {
            "marker": {
             "line": {
              "color": "#E5ECF6",
              "width": 0.5
             },
             "pattern": {
              "fillmode": "overlay",
              "size": 10,
              "solidity": 0.2
             }
            },
            "type": "barpolar"
           }
          ],
          "carpet": [
           {
            "aaxis": {
             "endlinecolor": "#2a3f5f",
             "gridcolor": "white",
             "linecolor": "white",
             "minorgridcolor": "white",
             "startlinecolor": "#2a3f5f"
            },
            "baxis": {
             "endlinecolor": "#2a3f5f",
             "gridcolor": "white",
             "linecolor": "white",
             "minorgridcolor": "white",
             "startlinecolor": "#2a3f5f"
            },
            "type": "carpet"
           }
          ],
          "choropleth": [
           {
            "colorbar": {
             "outlinewidth": 0,
             "ticks": ""
            },
            "type": "choropleth"
           }
          ],
          "contour": [
           {
            "colorbar": {
             "outlinewidth": 0,
             "ticks": ""
            },
            "colorscale": [
             [
              0,
              "#0d0887"
             ],
             [
              0.1111111111111111,
              "#46039f"
             ],
             [
              0.2222222222222222,
              "#7201a8"
             ],
             [
              0.3333333333333333,
              "#9c179e"
             ],
             [
              0.4444444444444444,
              "#bd3786"
             ],
             [
              0.5555555555555556,
              "#d8576b"
             ],
             [
              0.6666666666666666,
              "#ed7953"
             ],
             [
              0.7777777777777778,
              "#fb9f3a"
             ],
             [
              0.8888888888888888,
              "#fdca26"
             ],
             [
              1,
              "#f0f921"
             ]
            ],
            "type": "contour"
           }
          ],
          "contourcarpet": [
           {
            "colorbar": {
             "outlinewidth": 0,
             "ticks": ""
            },
            "type": "contourcarpet"
           }
          ],
          "heatmap": [
           {
            "colorbar": {
             "outlinewidth": 0,
             "ticks": ""
            },
            "colorscale": [
             [
              0,
              "#0d0887"
             ],
             [
              0.1111111111111111,
              "#46039f"
             ],
             [
              0.2222222222222222,
              "#7201a8"
             ],
             [
              0.3333333333333333,
              "#9c179e"
             ],
             [
              0.4444444444444444,
              "#bd3786"
             ],
             [
              0.5555555555555556,
              "#d8576b"
             ],
             [
              0.6666666666666666,
              "#ed7953"
             ],
             [
              0.7777777777777778,
              "#fb9f3a"
             ],
             [
              0.8888888888888888,
              "#fdca26"
             ],
             [
              1,
              "#f0f921"
             ]
            ],
            "type": "heatmap"
           }
          ],
          "heatmapgl": [
           {
            "colorbar": {
             "outlinewidth": 0,
             "ticks": ""
            },
            "colorscale": [
             [
              0,
              "#0d0887"
             ],
             [
              0.1111111111111111,
              "#46039f"
             ],
             [
              0.2222222222222222,
              "#7201a8"
             ],
             [
              0.3333333333333333,
              "#9c179e"
             ],
             [
              0.4444444444444444,
              "#bd3786"
             ],
             [
              0.5555555555555556,
              "#d8576b"
             ],
             [
              0.6666666666666666,
              "#ed7953"
             ],
             [
              0.7777777777777778,
              "#fb9f3a"
             ],
             [
              0.8888888888888888,
              "#fdca26"
             ],
             [
              1,
              "#f0f921"
             ]
            ],
            "type": "heatmapgl"
           }
          ],
          "histogram": [
           {
            "marker": {
             "pattern": {
              "fillmode": "overlay",
              "size": 10,
              "solidity": 0.2
             }
            },
            "type": "histogram"
           }
          ],
          "histogram2d": [
           {
            "colorbar": {
             "outlinewidth": 0,
             "ticks": ""
            },
            "colorscale": [
             [
              0,
              "#0d0887"
             ],
             [
              0.1111111111111111,
              "#46039f"
             ],
             [
              0.2222222222222222,
              "#7201a8"
             ],
             [
              0.3333333333333333,
              "#9c179e"
             ],
             [
              0.4444444444444444,
              "#bd3786"
             ],
             [
              0.5555555555555556,
              "#d8576b"
             ],
             [
              0.6666666666666666,
              "#ed7953"
             ],
             [
              0.7777777777777778,
              "#fb9f3a"
             ],
             [
              0.8888888888888888,
              "#fdca26"
             ],
             [
              1,
              "#f0f921"
             ]
            ],
            "type": "histogram2d"
           }
          ],
          "histogram2dcontour": [
           {
            "colorbar": {
             "outlinewidth": 0,
             "ticks": ""
            },
            "colorscale": [
             [
              0,
              "#0d0887"
             ],
             [
              0.1111111111111111,
              "#46039f"
             ],
             [
              0.2222222222222222,
              "#7201a8"
             ],
             [
              0.3333333333333333,
              "#9c179e"
             ],
             [
              0.4444444444444444,
              "#bd3786"
             ],
             [
              0.5555555555555556,
              "#d8576b"
             ],
             [
              0.6666666666666666,
              "#ed7953"
             ],
             [
              0.7777777777777778,
              "#fb9f3a"
             ],
             [
              0.8888888888888888,
              "#fdca26"
             ],
             [
              1,
              "#f0f921"
             ]
            ],
            "type": "histogram2dcontour"
           }
          ],
          "mesh3d": [
           {
            "colorbar": {
             "outlinewidth": 0,
             "ticks": ""
            },
            "type": "mesh3d"
           }
          ],
          "parcoords": [
           {
            "line": {
             "colorbar": {
              "outlinewidth": 0,
              "ticks": ""
             }
            },
            "type": "parcoords"
           }
          ],
          "pie": [
           {
            "automargin": true,
            "type": "pie"
           }
          ],
          "scatter": [
           {
            "fillpattern": {
             "fillmode": "overlay",
             "size": 10,
             "solidity": 0.2
            },
            "type": "scatter"
           }
          ],
          "scatter3d": [
           {
            "line": {
             "colorbar": {
              "outlinewidth": 0,
              "ticks": ""
             }
            },
            "marker": {
             "colorbar": {
              "outlinewidth": 0,
              "ticks": ""
             }
            },
            "type": "scatter3d"
           }
          ],
          "scattercarpet": [
           {
            "marker": {
             "colorbar": {
              "outlinewidth": 0,
              "ticks": ""
             }
            },
            "type": "scattercarpet"
           }
          ],
          "scattergeo": [
           {
            "marker": {
             "colorbar": {
              "outlinewidth": 0,
              "ticks": ""
             }
            },
            "type": "scattergeo"
           }
          ],
          "scattergl": [
           {
            "marker": {
             "colorbar": {
              "outlinewidth": 0,
              "ticks": ""
             }
            },
            "type": "scattergl"
           }
          ],
          "scattermapbox": [
           {
            "marker": {
             "colorbar": {
              "outlinewidth": 0,
              "ticks": ""
             }
            },
            "type": "scattermapbox"
           }
          ],
          "scatterpolar": [
           {
            "marker": {
             "colorbar": {
              "outlinewidth": 0,
              "ticks": ""
             }
            },
            "type": "scatterpolar"
           }
          ],
          "scatterpolargl": [
           {
            "marker": {
             "colorbar": {
              "outlinewidth": 0,
              "ticks": ""
             }
            },
            "type": "scatterpolargl"
           }
          ],
          "scatterternary": [
           {
            "marker": {
             "colorbar": {
              "outlinewidth": 0,
              "ticks": ""
             }
            },
            "type": "scatterternary"
           }
          ],
          "surface": [
           {
            "colorbar": {
             "outlinewidth": 0,
             "ticks": ""
            },
            "colorscale": [
             [
              0,
              "#0d0887"
             ],
             [
              0.1111111111111111,
              "#46039f"
             ],
             [
              0.2222222222222222,
              "#7201a8"
             ],
             [
              0.3333333333333333,
              "#9c179e"
             ],
             [
              0.4444444444444444,
              "#bd3786"
             ],
             [
              0.5555555555555556,
              "#d8576b"
             ],
             [
              0.6666666666666666,
              "#ed7953"
             ],
             [
              0.7777777777777778,
              "#fb9f3a"
             ],
             [
              0.8888888888888888,
              "#fdca26"
             ],
             [
              1,
              "#f0f921"
             ]
            ],
            "type": "surface"
           }
          ],
          "table": [
           {
            "cells": {
             "fill": {
              "color": "#EBF0F8"
             },
             "line": {
              "color": "white"
             }
            },
            "header": {
             "fill": {
              "color": "#C8D4E3"
             },
             "line": {
              "color": "white"
             }
            },
            "type": "table"
           }
          ]
         },
         "layout": {
          "annotationdefaults": {
           "arrowcolor": "#2a3f5f",
           "arrowhead": 0,
           "arrowwidth": 1
          },
          "autotypenumbers": "strict",
          "coloraxis": {
           "colorbar": {
            "outlinewidth": 0,
            "ticks": ""
           }
          },
          "colorscale": {
           "diverging": [
            [
             0,
             "#8e0152"
            ],
            [
             0.1,
             "#c51b7d"
            ],
            [
             0.2,
             "#de77ae"
            ],
            [
             0.3,
             "#f1b6da"
            ],
            [
             0.4,
             "#fde0ef"
            ],
            [
             0.5,
             "#f7f7f7"
            ],
            [
             0.6,
             "#e6f5d0"
            ],
            [
             0.7,
             "#b8e186"
            ],
            [
             0.8,
             "#7fbc41"
            ],
            [
             0.9,
             "#4d9221"
            ],
            [
             1,
             "#276419"
            ]
           ],
           "sequential": [
            [
             0,
             "#0d0887"
            ],
            [
             0.1111111111111111,
             "#46039f"
            ],
            [
             0.2222222222222222,
             "#7201a8"
            ],
            [
             0.3333333333333333,
             "#9c179e"
            ],
            [
             0.4444444444444444,
             "#bd3786"
            ],
            [
             0.5555555555555556,
             "#d8576b"
            ],
            [
             0.6666666666666666,
             "#ed7953"
            ],
            [
             0.7777777777777778,
             "#fb9f3a"
            ],
            [
             0.8888888888888888,
             "#fdca26"
            ],
            [
             1,
             "#f0f921"
            ]
           ],
           "sequentialminus": [
            [
             0,
             "#0d0887"
            ],
            [
             0.1111111111111111,
             "#46039f"
            ],
            [
             0.2222222222222222,
             "#7201a8"
            ],
            [
             0.3333333333333333,
             "#9c179e"
            ],
            [
             0.4444444444444444,
             "#bd3786"
            ],
            [
             0.5555555555555556,
             "#d8576b"
            ],
            [
             0.6666666666666666,
             "#ed7953"
            ],
            [
             0.7777777777777778,
             "#fb9f3a"
            ],
            [
             0.8888888888888888,
             "#fdca26"
            ],
            [
             1,
             "#f0f921"
            ]
           ]
          },
          "colorway": [
           "#636efa",
           "#EF553B",
           "#00cc96",
           "#ab63fa",
           "#FFA15A",
           "#19d3f3",
           "#FF6692",
           "#B6E880",
           "#FF97FF",
           "#FECB52"
          ],
          "font": {
           "color": "#2a3f5f"
          },
          "geo": {
           "bgcolor": "white",
           "lakecolor": "white",
           "landcolor": "#E5ECF6",
           "showlakes": true,
           "showland": true,
           "subunitcolor": "white"
          },
          "hoverlabel": {
           "align": "left"
          },
          "hovermode": "closest",
          "mapbox": {
           "style": "light"
          },
          "paper_bgcolor": "white",
          "plot_bgcolor": "#E5ECF6",
          "polar": {
           "angularaxis": {
            "gridcolor": "white",
            "linecolor": "white",
            "ticks": ""
           },
           "bgcolor": "#E5ECF6",
           "radialaxis": {
            "gridcolor": "white",
            "linecolor": "white",
            "ticks": ""
           }
          },
          "scene": {
           "xaxis": {
            "backgroundcolor": "#E5ECF6",
            "gridcolor": "white",
            "gridwidth": 2,
            "linecolor": "white",
            "showbackground": true,
            "ticks": "",
            "zerolinecolor": "white"
           },
           "yaxis": {
            "backgroundcolor": "#E5ECF6",
            "gridcolor": "white",
            "gridwidth": 2,
            "linecolor": "white",
            "showbackground": true,
            "ticks": "",
            "zerolinecolor": "white"
           },
           "zaxis": {
            "backgroundcolor": "#E5ECF6",
            "gridcolor": "white",
            "gridwidth": 2,
            "linecolor": "white",
            "showbackground": true,
            "ticks": "",
            "zerolinecolor": "white"
           }
          },
          "shapedefaults": {
           "line": {
            "color": "#2a3f5f"
           }
          },
          "ternary": {
           "aaxis": {
            "gridcolor": "white",
            "linecolor": "white",
            "ticks": ""
           },
           "baxis": {
            "gridcolor": "white",
            "linecolor": "white",
            "ticks": ""
           },
           "bgcolor": "#E5ECF6",
           "caxis": {
            "gridcolor": "white",
            "linecolor": "white",
            "ticks": ""
           }
          },
          "title": {
           "x": 0.05
          },
          "xaxis": {
           "automargin": true,
           "gridcolor": "white",
           "linecolor": "white",
           "ticks": "",
           "title": {
            "standoff": 15
           },
           "zerolinecolor": "white",
           "zerolinewidth": 2
          },
          "yaxis": {
           "automargin": true,
           "gridcolor": "white",
           "linecolor": "white",
           "ticks": "",
           "title": {
            "standoff": 15
           },
           "zerolinecolor": "white",
           "zerolinewidth": 2
          }
         }
        },
        "title": {
         "text": "Average GDP for each Country in 2007"
        }
       }
      }
     },
     "metadata": {},
     "output_type": "display_data"
    }
   ],
   "source": [
    "fig1= px.choropleth(data_frame=gdp_cap_2007,\n",
    "            locations='country',\n",
    "                    locationmode='country names',\n",
    "                    color='gdp_cap',\n",
    "                    color_continuous_scale='YlOrRd',\n",
    "                    title='Average GDP for each Country in 2007',\n",
    "                    )\n",
    "fig1.show()"
   ]
  },
  {
   "cell_type": "code",
   "execution_count": 95,
   "metadata": {},
   "outputs": [],
   "source": [
    "df6 = df[['life_exp' , 'gdp_cap' , 'population']]\n",
    "df7= df6.corr()"
   ]
  },
  {
   "cell_type": "code",
   "execution_count": 96,
   "metadata": {},
   "outputs": [
    {
     "data": {
      "text/plain": [
       "<Axes: >"
      ]
     },
     "execution_count": 96,
     "metadata": {},
     "output_type": "execute_result"
    },
    {
     "data": {
      "image/png": "[encoded data removed]",
      "text/plain": [
       "<Figure size 640x480 with 2 Axes>"
      ]
     },
     "metadata": {},
     "output_type": "display_data"
    }
   ],
   "source": [
    "sns.heatmap(data=df7 , annot=True,cmap=\"RdYlGn\")"
   ]
  },
  {
   "cell_type": "markdown",
   "metadata": {},
   "source": [
    "population for Continents and Countries"
   ]
  },
  {
   "cell_type": "code",
   "execution_count": 97,
   "metadata": {},
   "outputs": [
    {
     "data": {
      "text/html": [
       "<div>\n",
       "<style scoped>\n",
       "    .dataframe tbody tr th:only-of-type {\n",
       "        vertical-align: middle;\n",
       "    }\n",
       "\n",
       "    .dataframe tbody tr th {\n",
       "        vertical-align: top;\n",
       "    }\n",
       "\n",
       "    .dataframe thead th {\n",
       "        text-align: right;\n",
       "    }\n",
       "</style>\n",
       "<table border=\"1\" class=\"dataframe\">\n",
       "  <thead>\n",
       "    <tr style=\"text-align: right;\">\n",
       "      <th></th>\n",
       "      <th>continent</th>\n",
       "      <th>year</th>\n",
       "      <th>population</th>\n",
       "    </tr>\n",
       "  </thead>\n",
       "  <tbody>\n",
       "    <tr>\n",
       "      <th>0</th>\n",
       "      <td>Africa</td>\n",
       "      <td>1952</td>\n",
       "      <td>237640501</td>\n",
       "    </tr>\n",
       "    <tr>\n",
       "      <th>24</th>\n",
       "      <td>Asia</td>\n",
       "      <td>1952</td>\n",
       "      <td>1393736437</td>\n",
       "    </tr>\n",
       "    <tr>\n",
       "      <th>36</th>\n",
       "      <td>Europe</td>\n",
       "      <td>1952</td>\n",
       "      <td>418120846</td>\n",
       "    </tr>\n",
       "    <tr>\n",
       "      <th>12</th>\n",
       "      <td>Americas</td>\n",
       "      <td>1952</td>\n",
       "      <td>345152446</td>\n",
       "    </tr>\n",
       "    <tr>\n",
       "      <th>48</th>\n",
       "      <td>Oceania</td>\n",
       "      <td>1952</td>\n",
       "      <td>10686006</td>\n",
       "    </tr>\n",
       "    <tr>\n",
       "      <th>37</th>\n",
       "      <td>Europe</td>\n",
       "      <td>1957</td>\n",
       "      <td>437890351</td>\n",
       "    </tr>\n",
       "    <tr>\n",
       "      <th>25</th>\n",
       "      <td>Asia</td>\n",
       "      <td>1957</td>\n",
       "      <td>1560836198</td>\n",
       "    </tr>\n",
       "    <tr>\n",
       "      <th>49</th>\n",
       "      <td>Oceania</td>\n",
       "      <td>1957</td>\n",
       "      <td>11941976</td>\n",
       "    </tr>\n",
       "    <tr>\n",
       "      <th>13</th>\n",
       "      <td>Americas</td>\n",
       "      <td>1957</td>\n",
       "      <td>386953916</td>\n",
       "    </tr>\n",
       "    <tr>\n",
       "      <th>1</th>\n",
       "      <td>Africa</td>\n",
       "      <td>1957</td>\n",
       "      <td>264837738</td>\n",
       "    </tr>\n",
       "    <tr>\n",
       "      <th>26</th>\n",
       "      <td>Asia</td>\n",
       "      <td>1962</td>\n",
       "      <td>1694046278</td>\n",
       "    </tr>\n",
       "    <tr>\n",
       "      <th>2</th>\n",
       "      <td>Africa</td>\n",
       "      <td>1962</td>\n",
       "      <td>296516865</td>\n",
       "    </tr>\n",
       "    <tr>\n",
       "      <th>14</th>\n",
       "      <td>Americas</td>\n",
       "      <td>1962</td>\n",
       "      <td>433270254</td>\n",
       "    </tr>\n",
       "    <tr>\n",
       "      <th>38</th>\n",
       "      <td>Europe</td>\n",
       "      <td>1962</td>\n",
       "      <td>460355155</td>\n",
       "    </tr>\n",
       "    <tr>\n",
       "      <th>50</th>\n",
       "      <td>Oceania</td>\n",
       "      <td>1962</td>\n",
       "      <td>13283518</td>\n",
       "    </tr>\n",
       "    <tr>\n",
       "      <th>27</th>\n",
       "      <td>Asia</td>\n",
       "      <td>1967</td>\n",
       "      <td>1902969315</td>\n",
       "    </tr>\n",
       "    <tr>\n",
       "      <th>3</th>\n",
       "      <td>Africa</td>\n",
       "      <td>1967</td>\n",
       "      <td>335289489</td>\n",
       "    </tr>\n",
       "    <tr>\n",
       "      <th>39</th>\n",
       "      <td>Europe</td>\n",
       "      <td>1967</td>\n",
       "      <td>481178958</td>\n",
       "    </tr>\n",
       "    <tr>\n",
       "      <th>51</th>\n",
       "      <td>Oceania</td>\n",
       "      <td>1967</td>\n",
       "      <td>14600414</td>\n",
       "    </tr>\n",
       "    <tr>\n",
       "      <th>15</th>\n",
       "      <td>Americas</td>\n",
       "      <td>1967</td>\n",
       "      <td>480746623</td>\n",
       "    </tr>\n",
       "    <tr>\n",
       "      <th>4</th>\n",
       "      <td>Africa</td>\n",
       "      <td>1972</td>\n",
       "      <td>379879541</td>\n",
       "    </tr>\n",
       "    <tr>\n",
       "      <th>28</th>\n",
       "      <td>Asia</td>\n",
       "      <td>1972</td>\n",
       "      <td>2147876355</td>\n",
       "    </tr>\n",
       "    <tr>\n",
       "      <th>52</th>\n",
       "      <td>Oceania</td>\n",
       "      <td>1972</td>\n",
       "      <td>16106100</td>\n",
       "    </tr>\n",
       "    <tr>\n",
       "      <th>16</th>\n",
       "      <td>Americas</td>\n",
       "      <td>1972</td>\n",
       "      <td>529384210</td>\n",
       "    </tr>\n",
       "    <tr>\n",
       "      <th>40</th>\n",
       "      <td>Europe</td>\n",
       "      <td>1972</td>\n",
       "      <td>500635059</td>\n",
       "    </tr>\n",
       "    <tr>\n",
       "      <th>53</th>\n",
       "      <td>Oceania</td>\n",
       "      <td>1977</td>\n",
       "      <td>17239000</td>\n",
       "    </tr>\n",
       "    <tr>\n",
       "      <th>41</th>\n",
       "      <td>Europe</td>\n",
       "      <td>1977</td>\n",
       "      <td>517164531</td>\n",
       "    </tr>\n",
       "    <tr>\n",
       "      <th>29</th>\n",
       "      <td>Asia</td>\n",
       "      <td>1977</td>\n",
       "      <td>2381017638</td>\n",
       "    </tr>\n",
       "    <tr>\n",
       "      <th>5</th>\n",
       "      <td>Africa</td>\n",
       "      <td>1977</td>\n",
       "      <td>433061021</td>\n",
       "    </tr>\n",
       "    <tr>\n",
       "      <th>17</th>\n",
       "      <td>Americas</td>\n",
       "      <td>1977</td>\n",
       "      <td>578067699</td>\n",
       "    </tr>\n",
       "    <tr>\n",
       "      <th>30</th>\n",
       "      <td>Asia</td>\n",
       "      <td>1982</td>\n",
       "      <td>2606277161</td>\n",
       "    </tr>\n",
       "    <tr>\n",
       "      <th>6</th>\n",
       "      <td>Africa</td>\n",
       "      <td>1982</td>\n",
       "      <td>499348587</td>\n",
       "    </tr>\n",
       "    <tr>\n",
       "      <th>42</th>\n",
       "      <td>Europe</td>\n",
       "      <td>1982</td>\n",
       "      <td>531266901</td>\n",
       "    </tr>\n",
       "    <tr>\n",
       "      <th>54</th>\n",
       "      <td>Oceania</td>\n",
       "      <td>1982</td>\n",
       "      <td>18394850</td>\n",
       "    </tr>\n",
       "    <tr>\n",
       "      <th>18</th>\n",
       "      <td>Americas</td>\n",
       "      <td>1982</td>\n",
       "      <td>630290920</td>\n",
       "    </tr>\n",
       "    <tr>\n",
       "      <th>43</th>\n",
       "      <td>Europe</td>\n",
       "      <td>1987</td>\n",
       "      <td>543094160</td>\n",
       "    </tr>\n",
       "    <tr>\n",
       "      <th>7</th>\n",
       "      <td>Africa</td>\n",
       "      <td>1987</td>\n",
       "      <td>574834110</td>\n",
       "    </tr>\n",
       "    <tr>\n",
       "      <th>19</th>\n",
       "      <td>Americas</td>\n",
       "      <td>1987</td>\n",
       "      <td>682753971</td>\n",
       "    </tr>\n",
       "    <tr>\n",
       "      <th>55</th>\n",
       "      <td>Oceania</td>\n",
       "      <td>1987</td>\n",
       "      <td>19574415</td>\n",
       "    </tr>\n",
       "    <tr>\n",
       "      <th>31</th>\n",
       "      <td>Asia</td>\n",
       "      <td>1987</td>\n",
       "      <td>2867017614</td>\n",
       "    </tr>\n",
       "    <tr>\n",
       "      <th>8</th>\n",
       "      <td>Africa</td>\n",
       "      <td>1992</td>\n",
       "      <td>659081517</td>\n",
       "    </tr>\n",
       "    <tr>\n",
       "      <th>56</th>\n",
       "      <td>Oceania</td>\n",
       "      <td>1992</td>\n",
       "      <td>20919651</td>\n",
       "    </tr>\n",
       "    <tr>\n",
       "      <th>32</th>\n",
       "      <td>Asia</td>\n",
       "      <td>1992</td>\n",
       "      <td>3128355641</td>\n",
       "    </tr>\n",
       "    <tr>\n",
       "      <th>44</th>\n",
       "      <td>Europe</td>\n",
       "      <td>1992</td>\n",
       "      <td>558142797</td>\n",
       "    </tr>\n",
       "    <tr>\n",
       "      <th>20</th>\n",
       "      <td>Americas</td>\n",
       "      <td>1992</td>\n",
       "      <td>739274104</td>\n",
       "    </tr>\n",
       "    <tr>\n",
       "      <th>21</th>\n",
       "      <td>Americas</td>\n",
       "      <td>1997</td>\n",
       "      <td>796900410</td>\n",
       "    </tr>\n",
       "    <tr>\n",
       "      <th>33</th>\n",
       "      <td>Asia</td>\n",
       "      <td>1997</td>\n",
       "      <td>3377754113</td>\n",
       "    </tr>\n",
       "    <tr>\n",
       "      <th>45</th>\n",
       "      <td>Europe</td>\n",
       "      <td>1997</td>\n",
       "      <td>568944148</td>\n",
       "    </tr>\n",
       "    <tr>\n",
       "      <th>57</th>\n",
       "      <td>Oceania</td>\n",
       "      <td>1997</td>\n",
       "      <td>22241430</td>\n",
       "    </tr>\n",
       "    <tr>\n",
       "      <th>9</th>\n",
       "      <td>Africa</td>\n",
       "      <td>1997</td>\n",
       "      <td>743832984</td>\n",
       "    </tr>\n",
       "    <tr>\n",
       "      <th>22</th>\n",
       "      <td>Americas</td>\n",
       "      <td>2002</td>\n",
       "      <td>849772762</td>\n",
       "    </tr>\n",
       "    <tr>\n",
       "      <th>46</th>\n",
       "      <td>Europe</td>\n",
       "      <td>2002</td>\n",
       "      <td>578223869</td>\n",
       "    </tr>\n",
       "    <tr>\n",
       "      <th>34</th>\n",
       "      <td>Asia</td>\n",
       "      <td>2002</td>\n",
       "      <td>3595772674</td>\n",
       "    </tr>\n",
       "    <tr>\n",
       "      <th>58</th>\n",
       "      <td>Oceania</td>\n",
       "      <td>2002</td>\n",
       "      <td>23454829</td>\n",
       "    </tr>\n",
       "    <tr>\n",
       "      <th>10</th>\n",
       "      <td>Africa</td>\n",
       "      <td>2002</td>\n",
       "      <td>833723916</td>\n",
       "    </tr>\n",
       "    <tr>\n",
       "      <th>47</th>\n",
       "      <td>Europe</td>\n",
       "      <td>2007</td>\n",
       "      <td>586098529</td>\n",
       "    </tr>\n",
       "    <tr>\n",
       "      <th>23</th>\n",
       "      <td>Americas</td>\n",
       "      <td>2007</td>\n",
       "      <td>898871184</td>\n",
       "    </tr>\n",
       "    <tr>\n",
       "      <th>11</th>\n",
       "      <td>Africa</td>\n",
       "      <td>2007</td>\n",
       "      <td>929539692</td>\n",
       "    </tr>\n",
       "    <tr>\n",
       "      <th>35</th>\n",
       "      <td>Asia</td>\n",
       "      <td>2007</td>\n",
       "      <td>3805527148</td>\n",
       "    </tr>\n",
       "    <tr>\n",
       "      <th>59</th>\n",
       "      <td>Oceania</td>\n",
       "      <td>2007</td>\n",
       "      <td>24549947</td>\n",
       "    </tr>\n",
       "  </tbody>\n",
       "</table>\n",
       "</div>"
      ],
      "text/plain": [
       "   continent  year  population\n",
       "0     Africa  1952   237640501\n",
       "24      Asia  1952  1393736437\n",
       "36    Europe  1952   418120846\n",
       "12  Americas  1952   345152446\n",
       "48   Oceania  1952    10686006\n",
       "37    Europe  1957   437890351\n",
       "25      Asia  1957  1560836198\n",
       "49   Oceania  1957    11941976\n",
       "13  Americas  1957   386953916\n",
       "1     Africa  1957   264837738\n",
       "26      Asia  1962  1694046278\n",
       "2     Africa  1962   296516865\n",
       "14  Americas  1962   433270254\n",
       "38    Europe  1962   460355155\n",
       "50   Oceania  1962    13283518\n",
       "27      Asia  1967  1902969315\n",
       "3     Africa  1967   335289489\n",
       "39    Europe  1967   481178958\n",
       "51   Oceania  1967    14600414\n",
       "15  Americas  1967   480746623\n",
       "4     Africa  1972   379879541\n",
       "28      Asia  1972  2147876355\n",
       "52   Oceania  1972    16106100\n",
       "16  Americas  1972   529384210\n",
       "40    Europe  1972   500635059\n",
       "53   Oceania  1977    17239000\n",
       "41    Europe  1977   517164531\n",
       "29      Asia  1977  2381017638\n",
       "5     Africa  1977   433061021\n",
       "17  Americas  1977   578067699\n",
       "30      Asia  1982  2606277161\n",
       "6     Africa  1982   499348587\n",
       "42    Europe  1982   531266901\n",
       "54   Oceania  1982    18394850\n",
       "18  Americas  1982   630290920\n",
       "43    Europe  1987   543094160\n",
       "7     Africa  1987   574834110\n",
       "19  Americas  1987   682753971\n",
       "55   Oceania  1987    19574415\n",
       "31      Asia  1987  2867017614\n",
       "8     Africa  1992   659081517\n",
       "56   Oceania  1992    20919651\n",
       "32      Asia  1992  3128355641\n",
       "44    Europe  1992   558142797\n",
       "20  Americas  1992   739274104\n",
       "21  Americas  1997   796900410\n",
       "33      Asia  1997  3377754113\n",
       "45    Europe  1997   568944148\n",
       "57   Oceania  1997    22241430\n",
       "9     Africa  1997   743832984\n",
       "22  Americas  2002   849772762\n",
       "46    Europe  2002   578223869\n",
       "34      Asia  2002  3595772674\n",
       "58   Oceania  2002    23454829\n",
       "10    Africa  2002   833723916\n",
       "47    Europe  2007   586098529\n",
       "23  Americas  2007   898871184\n",
       "11    Africa  2007   929539692\n",
       "35      Asia  2007  3805527148\n",
       "59   Oceania  2007    24549947"
      ]
     },
     "execution_count": 97,
     "metadata": {},
     "output_type": "execute_result"
    }
   ],
   "source": [
    "population_for_countinents = df.groupby(['continent' , 'year'] , as_index=False)['population'].sum().sort_values(by='year' , ascending=True)\n",
    "\n",
    "population_for_countinents"
   ]
  },
  {
   "cell_type": "code",
   "execution_count": 98,
   "metadata": {},
   "outputs": [
    {
     "data": {
      "application/vnd.plotly.v1+json": {
       "config": {
        "plotlyServerURL": "https://plot.ly"
       },
       "data": [
        {
         "alignmentgroup": "True",
         "hovertemplate": "continent=%{x}<br>year=1952<br>population=%{y}<extra></extra>",
         "legendgroup": "Africa",
         "marker": {
          "color": "#636efa",
          "pattern": {
           "shape": ""
          }
         },
         "name": "Africa",
         "offsetgroup": "Africa",
         "orientation": "v",
         "showlegend": true,
         "textposition": "auto",
         "type": "bar",
         "x": [
          "Africa"
         ],
         "xaxis": "x",
         "y": [
          237640501
         ],
         "yaxis": "y"
        },
        {
         "alignmentgroup": "True",
         "hovertemplate": "continent=%{x}<br>year=1952<br>population=%{y}<extra></extra>",
         "legendgroup": "Asia",
         "marker": {
          "color": "#EF553B",
          "pattern": {
           "shape": ""
          }
         },
         "name": "Asia",
         "offsetgroup": "Asia",
         "orientation": "v",
         "showlegend": true,
         "textposition": "auto",
         "type": "bar",
         "x": [
          "Asia"
         ],
         "xaxis": "x",
         "y": [
          1393736437
         ],
         "yaxis": "y"
        },
        {
         "alignmentgroup": "True",
         "hovertemplate": "continent=%{x}<br>year=1952<br>population=%{y}<extra></extra>",
         "legendgroup": "Europe",
         "marker": {
          "color": "#00cc96",
          "pattern": {
           "shape": ""
          }
         },
         "name": "Europe",
         "offsetgroup": "Europe",
         "orientation": "v",
         "showlegend": true,
         "textposition": "auto",
         "type": "bar",
         "x": [
          "Europe"
         ],
         "xaxis": "x",
         "y": [
          418120846
         ],
         "yaxis": "y"
        },
        {
         "alignmentgroup": "True",
         "hovertemplate": "continent=%{x}<br>year=1952<br>population=%{y}<extra></extra>",
         "legendgroup": "Americas",
         "marker": {
          "color": "#ab63fa",
          "pattern": {
           "shape": ""
          }
         },
         "name": "Americas",
         "offsetgroup": "Americas",
         "orientation": "v",
         "showlegend": true,
         "textposition": "auto",
         "type": "bar",
         "x": [
          "Americas"
         ],
         "xaxis": "x",
         "y": [
          345152446
         ],
         "yaxis": "y"
        },
        {
         "alignmentgroup": "True",
         "hovertemplate": "continent=%{x}<br>year=1952<br>population=%{y}<extra></extra>",
         "legendgroup": "Oceania",
         "marker": {
          "color": "#FFA15A",
          "pattern": {
           "shape": ""
          }
         },
         "name": "Oceania",
         "offsetgroup": "Oceania",
         "orientation": "v",
         "showlegend": true,
         "textposition": "auto",
         "type": "bar",
         "x": [
          "Oceania"
         ],
         "xaxis": "x",
         "y": [
          10686006
         ],
         "yaxis": "y"
        }
       ],
       "frames": [
        {
         "data": [
          {
           "alignmentgroup": "True",
           "hovertemplate": "continent=%{x}<br>year=1952<br>population=%{y}<extra></extra>",
           "legendgroup": "Africa",
           "marker": {
            "color": "#636efa",
            "pattern": {
             "shape": ""
            }
           },
           "name": "Africa",
           "offsetgroup": "Africa",
           "orientation": "v",
           "showlegend": true,
           "textposition": "auto",
           "type": "bar",
           "x": [
            "Africa"
           ],
           "xaxis": "x",
           "y": [
            237640501
           ],
           "yaxis": "y"
          },
          {
           "alignmentgroup": "True",
           "hovertemplate": "continent=%{x}<br>year=1952<br>population=%{y}<extra></extra>",
           "legendgroup": "Asia",
           "marker": {
            "color": "#EF553B",
            "pattern": {
             "shape": ""
            }
           },
           "name": "Asia",
           "offsetgroup": "Asia",
           "orientation": "v",
           "showlegend": true,
           "textposition": "auto",
           "type": "bar",
           "x": [
            "Asia"
           ],
           "xaxis": "x",
           "y": [
            1393736437
           ],
           "yaxis": "y"
          },
          {
           "alignmentgroup": "True",
           "hovertemplate": "continent=%{x}<br>year=1952<br>population=%{y}<extra></extra>",
           "legendgroup": "Europe",
           "marker": {
            "color": "#00cc96",
            "pattern": {
             "shape": ""
            }
           },
           "name": "Europe",
           "offsetgroup": "Europe",
           "orientation": "v",
           "showlegend": true,
           "textposition": "auto",
           "type": "bar",
           "x": [
            "Europe"
           ],
           "xaxis": "x",
           "y": [
            418120846
           ],
           "yaxis": "y"
          },
          {
           "alignmentgroup": "True",
           "hovertemplate": "continent=%{x}<br>year=1952<br>population=%{y}<extra></extra>",
           "legendgroup": "Americas",
           "marker": {
            "color": "#ab63fa",
            "pattern": {
             "shape": ""
            }
           },
           "name": "Americas",
           "offsetgroup": "Americas",
           "orientation": "v",
           "showlegend": true,
           "textposition": "auto",
           "type": "bar",
           "x": [
            "Americas"
           ],
           "xaxis": "x",
           "y": [
            345152446
           ],
           "yaxis": "y"
          },
          {
           "alignmentgroup": "True",
           "hovertemplate": "continent=%{x}<br>year=1952<br>population=%{y}<extra></extra>",
           "legendgroup": "Oceania",
           "marker": {
            "color": "#FFA15A",
            "pattern": {
             "shape": ""
            }
           },
           "name": "Oceania",
           "offsetgroup": "Oceania",
           "orientation": "v",
           "showlegend": true,
           "textposition": "auto",
           "type": "bar",
           "x": [
            "Oceania"
           ],
           "xaxis": "x",
           "y": [
            10686006
           ],
           "yaxis": "y"
          }
         ],
         "name": "1952"
        },
        {
         "data": [
          {
           "alignmentgroup": "True",
           "hovertemplate": "continent=%{x}<br>year=1957<br>population=%{y}<extra></extra>",
           "legendgroup": "Africa",
           "marker": {
            "color": "#636efa",
            "pattern": {
             "shape": ""
            }
           },
           "name": "Africa",
           "offsetgroup": "Africa",
           "orientation": "v",
           "showlegend": true,
           "textposition": "auto",
           "type": "bar",
           "x": [
            "Africa"
           ],
           "xaxis": "x",
           "y": [
            264837738
           ],
           "yaxis": "y"
          },
          {
           "alignmentgroup": "True",
           "hovertemplate": "continent=%{x}<br>year=1957<br>population=%{y}<extra></extra>",
           "legendgroup": "Asia",
           "marker": {
            "color": "#EF553B",
            "pattern": {
             "shape": ""
            }
           },
           "name": "Asia",
           "offsetgroup": "Asia",
           "orientation": "v",
           "showlegend": true,
           "textposition": "auto",
           "type": "bar",
           "x": [
            "Asia"
           ],
           "xaxis": "x",
           "y": [
            1560836198
           ],
           "yaxis": "y"
          },
          {
           "alignmentgroup": "True",
           "hovertemplate": "continent=%{x}<br>year=1957<br>population=%{y}<extra></extra>",
           "legendgroup": "Europe",
           "marker": {
            "color": "#00cc96",
            "pattern": {
             "shape": ""
            }
           },
           "name": "Europe",
           "offsetgroup": "Europe",
           "orientation": "v",
           "showlegend": true,
           "textposition": "auto",
           "type": "bar",
           "x": [
            "Europe"
           ],
           "xaxis": "x",
           "y": [
            437890351
           ],
           "yaxis": "y"
          },
          {
           "alignmentgroup": "True",
           "hovertemplate": "continent=%{x}<br>year=1957<br>population=%{y}<extra></extra>",
           "legendgroup": "Americas",
           "marker": {
            "color": "#ab63fa",
            "pattern": {
             "shape": ""
            }
           },
           "name": "Americas",
           "offsetgroup": "Americas",
           "orientation": "v",
           "showlegend": true,
           "textposition": "auto",
           "type": "bar",
           "x": [
            "Americas"
           ],
           "xaxis": "x",
           "y": [
            386953916
           ],
           "yaxis": "y"
          },
          {
           "alignmentgroup": "True",
           "hovertemplate": "continent=%{x}<br>year=1957<br>population=%{y}<extra></extra>",
           "legendgroup": "Oceania",
           "marker": {
            "color": "#FFA15A",
            "pattern": {
             "shape": ""
            }
           },
           "name": "Oceania",
           "offsetgroup": "Oceania",
           "orientation": "v",
           "showlegend": true,
           "textposition": "auto",
           "type": "bar",
           "x": [
            "Oceania"
           ],
           "xaxis": "x",
           "y": [
            11941976
           ],
           "yaxis": "y"
          }
         ],
         "name": "1957"
        },
        {
         "data": [
          {
           "alignmentgroup": "True",
           "hovertemplate": "continent=%{x}<br>year=1962<br>population=%{y}<extra></extra>",
           "legendgroup": "Africa",
           "marker": {
            "color": "#636efa",
            "pattern": {
             "shape": ""
            }
           },
           "name": "Africa",
           "offsetgroup": "Africa",
           "orientation": "v",
           "showlegend": true,
           "textposition": "auto",
           "type": "bar",
           "x": [
            "Africa"
           ],
           "xaxis": "x",
           "y": [
            296516865
           ],
           "yaxis": "y"
          },
          {
           "alignmentgroup": "True",
           "hovertemplate": "continent=%{x}<br>year=1962<br>population=%{y}<extra></extra>",
           "legendgroup": "Asia",
           "marker": {
            "color": "#EF553B",
            "pattern": {
             "shape": ""
            }
           },
           "name": "Asia",
           "offsetgroup": "Asia",
           "orientation": "v",
           "showlegend": true,
           "textposition": "auto",
           "type": "bar",
           "x": [
            "Asia"
           ],
           "xaxis": "x",
           "y": [
            1694046278
           ],
           "yaxis": "y"
          },
          {
           "alignmentgroup": "True",
           "hovertemplate": "continent=%{x}<br>year=1962<br>population=%{y}<extra></extra>",
           "legendgroup": "Europe",
           "marker": {
            "color": "#00cc96",
            "pattern": {
             "shape": ""
            }
           },
           "name": "Europe",
           "offsetgroup": "Europe",
           "orientation": "v",
           "showlegend": true,
           "textposition": "auto",
           "type": "bar",
           "x": [
            "Europe"
           ],
           "xaxis": "x",
           "y": [
            460355155
           ],
           "yaxis": "y"
          },
          {
           "alignmentgroup": "True",
           "hovertemplate": "continent=%{x}<br>year=1962<br>population=%{y}<extra></extra>",
           "legendgroup": "Americas",
           "marker": {
            "color": "#ab63fa",
            "pattern": {
             "shape": ""
            }
           },
           "name": "Americas",
           "offsetgroup": "Americas",
           "orientation": "v",
           "showlegend": true,
           "textposition": "auto",
           "type": "bar",
           "x": [
            "Americas"
           ],
           "xaxis": "x",
           "y": [
            433270254
           ],
           "yaxis": "y"
          },
          {
           "alignmentgroup": "True",
           "hovertemplate": "continent=%{x}<br>year=1962<br>population=%{y}<extra></extra>",
           "legendgroup": "Oceania",
           "marker": {
            "color": "#FFA15A",
            "pattern": {
             "shape": ""
            }
           },
           "name": "Oceania",
           "offsetgroup": "Oceania",
           "orientation": "v",
           "showlegend": true,
           "textposition": "auto",
           "type": "bar",
           "x": [
            "Oceania"
           ],
           "xaxis": "x",
           "y": [
            13283518
           ],
           "yaxis": "y"
          }
         ],
         "name": "1962"
        },
        {
         "data": [
          {
           "alignmentgroup": "True",
           "hovertemplate": "continent=%{x}<br>year=1967<br>population=%{y}<extra></extra>",
           "legendgroup": "Africa",
           "marker": {
            "color": "#636efa",
            "pattern": {
             "shape": ""
            }
           },
           "name": "Africa",
           "offsetgroup": "Africa",
           "orientation": "v",
           "showlegend": true,
           "textposition": "auto",
           "type": "bar",
           "x": [
            "Africa"
           ],
           "xaxis": "x",
           "y": [
            335289489
           ],
           "yaxis": "y"
          },
          {
           "alignmentgroup": "True",
           "hovertemplate": "continent=%{x}<br>year=1967<br>population=%{y}<extra></extra>",
           "legendgroup": "Asia",
           "marker": {
            "color": "#EF553B",
            "pattern": {
             "shape": ""
            }
           },
           "name": "Asia",
           "offsetgroup": "Asia",
           "orientation": "v",
           "showlegend": true,
           "textposition": "auto",
           "type": "bar",
           "x": [
            "Asia"
           ],
           "xaxis": "x",
           "y": [
            1902969315
           ],
           "yaxis": "y"
          },
          {
           "alignmentgroup": "True",
           "hovertemplate": "continent=%{x}<br>year=1967<br>population=%{y}<extra></extra>",
           "legendgroup": "Europe",
           "marker": {
            "color": "#00cc96",
            "pattern": {
             "shape": ""
            }
           },
           "name": "Europe",
           "offsetgroup": "Europe",
           "orientation": "v",
           "showlegend": true,
           "textposition": "auto",
           "type": "bar",
           "x": [
            "Europe"
           ],
           "xaxis": "x",
           "y": [
            481178958
           ],
           "yaxis": "y"
          },
          {
           "alignmentgroup": "True",
           "hovertemplate": "continent=%{x}<br>year=1967<br>population=%{y}<extra></extra>",
           "legendgroup": "Americas",
           "marker": {
            "color": "#ab63fa",
            "pattern": {
             "shape": ""
            }
           },
           "name": "Americas",
           "offsetgroup": "Americas",
           "orientation": "v",
           "showlegend": true,
           "textposition": "auto",
           "type": "bar",
           "x": [
            "Americas"
           ],
           "xaxis": "x",
           "y": [
            480746623
           ],
           "yaxis": "y"
          },
          {
           "alignmentgroup": "True",
           "hovertemplate": "continent=%{x}<br>year=1967<br>population=%{y}<extra></extra>",
           "legendgroup": "Oceania",
           "marker": {
            "color": "#FFA15A",
            "pattern": {
             "shape": ""
            }
           },
           "name": "Oceania",
           "offsetgroup": "Oceania",
           "orientation": "v",
           "showlegend": true,
           "textposition": "auto",
           "type": "bar",
           "x": [
            "Oceania"
           ],
           "xaxis": "x",
           "y": [
            14600414
           ],
           "yaxis": "y"
          }
         ],
         "name": "1967"
        },
        {
         "data": [
          {
           "alignmentgroup": "True",
           "hovertemplate": "continent=%{x}<br>year=1972<br>population=%{y}<extra></extra>",
           "legendgroup": "Africa",
           "marker": {
            "color": "#636efa",
            "pattern": {
             "shape": ""
            }
           },
           "name": "Africa",
           "offsetgroup": "Africa",
           "orientation": "v",
           "showlegend": true,
           "textposition": "auto",
           "type": "bar",
           "x": [
            "Africa"
           ],
           "xaxis": "x",
           "y": [
            379879541
           ],
           "yaxis": "y"
          },
          {
           "alignmentgroup": "True",
           "hovertemplate": "continent=%{x}<br>year=1972<br>population=%{y}<extra></extra>",
           "legendgroup": "Asia",
           "marker": {
            "color": "#EF553B",
            "pattern": {
             "shape": ""
            }
           },
           "name": "Asia",
           "offsetgroup": "Asia",
           "orientation": "v",
           "showlegend": true,
           "textposition": "auto",
           "type": "bar",
           "x": [
            "Asia"
           ],
           "xaxis": "x",
           "y": [
            2147876355
           ],
           "yaxis": "y"
          },
          {
           "alignmentgroup": "True",
           "hovertemplate": "continent=%{x}<br>year=1972<br>population=%{y}<extra></extra>",
           "legendgroup": "Europe",
           "marker": {
            "color": "#00cc96",
            "pattern": {
             "shape": ""
            }
           },
           "name": "Europe",
           "offsetgroup": "Europe",
           "orientation": "v",
           "showlegend": true,
           "textposition": "auto",
           "type": "bar",
           "x": [
            "Europe"
           ],
           "xaxis": "x",
           "y": [
            500635059
           ],
           "yaxis": "y"
          },
          {
           "alignmentgroup": "True",
           "hovertemplate": "continent=%{x}<br>year=1972<br>population=%{y}<extra></extra>",
           "legendgroup": "Americas",
           "marker": {
            "color": "#ab63fa",
            "pattern": {
             "shape": ""
            }
           },
           "name": "Americas",
           "offsetgroup": "Americas",
           "orientation": "v",
           "showlegend": true,
           "textposition": "auto",
           "type": "bar",
           "x": [
            "Americas"
           ],
           "xaxis": "x",
           "y": [
            529384210
           ],
           "yaxis": "y"
          },
          {
           "alignmentgroup": "True",
           "hovertemplate": "continent=%{x}<br>year=1972<br>population=%{y}<extra></extra>",
           "legendgroup": "Oceania",
           "marker": {
            "color": "#FFA15A",
            "pattern": {
             "shape": ""
            }
           },
           "name": "Oceania",
           "offsetgroup": "Oceania",
           "orientation": "v",
           "showlegend": true,
           "textposition": "auto",
           "type": "bar",
           "x": [
            "Oceania"
           ],
           "xaxis": "x",
           "y": [
            16106100
           ],
           "yaxis": "y"
          }
         ],
         "name": "1972"
        },
        {
         "data": [
          {
           "alignmentgroup": "True",
           "hovertemplate": "continent=%{x}<br>year=1977<br>population=%{y}<extra></extra>",
           "legendgroup": "Africa",
           "marker": {
            "color": "#636efa",
            "pattern": {
             "shape": ""
            }
           },
           "name": "Africa",
           "offsetgroup": "Africa",
           "orientation": "v",
           "showlegend": true,
           "textposition": "auto",
           "type": "bar",
           "x": [
            "Africa"
           ],
           "xaxis": "x",
           "y": [
            433061021
           ],
           "yaxis": "y"
          },
          {
           "alignmentgroup": "True",
           "hovertemplate": "continent=%{x}<br>year=1977<br>population=%{y}<extra></extra>",
           "legendgroup": "Asia",
           "marker": {
            "color": "#EF553B",
            "pattern": {
             "shape": ""
            }
           },
           "name": "Asia",
           "offsetgroup": "Asia",
           "orientation": "v",
           "showlegend": true,
           "textposition": "auto",
           "type": "bar",
           "x": [
            "Asia"
           ],
           "xaxis": "x",
           "y": [
            2381017638
           ],
           "yaxis": "y"
          },
          {
           "alignmentgroup": "True",
           "hovertemplate": "continent=%{x}<br>year=1977<br>population=%{y}<extra></extra>",
           "legendgroup": "Europe",
           "marker": {
            "color": "#00cc96",
            "pattern": {
             "shape": ""
            }
           },
           "name": "Europe",
           "offsetgroup": "Europe",
           "orientation": "v",
           "showlegend": true,
           "textposition": "auto",
           "type": "bar",
           "x": [
            "Europe"
           ],
           "xaxis": "x",
           "y": [
            517164531
           ],
           "yaxis": "y"
          },
          {
           "alignmentgroup": "True",
           "hovertemplate": "continent=%{x}<br>year=1977<br>population=%{y}<extra></extra>",
           "legendgroup": "Americas",
           "marker": {
            "color": "#ab63fa",
            "pattern": {
             "shape": ""
            }
           },
           "name": "Americas",
           "offsetgroup": "Americas",
           "orientation": "v",
           "showlegend": true,
           "textposition": "auto",
           "type": "bar",
           "x": [
            "Americas"
           ],
           "xaxis": "x",
           "y": [
            578067699
           ],
           "yaxis": "y"
          },
          {
           "alignmentgroup": "True",
           "hovertemplate": "continent=%{x}<br>year=1977<br>population=%{y}<extra></extra>",
           "legendgroup": "Oceania",
           "marker": {
            "color": "#FFA15A",
            "pattern": {
             "shape": ""
            }
           },
           "name": "Oceania",
           "offsetgroup": "Oceania",
           "orientation": "v",
           "showlegend": true,
           "textposition": "auto",
           "type": "bar",
           "x": [
            "Oceania"
           ],
           "xaxis": "x",
           "y": [
            17239000
           ],
           "yaxis": "y"
          }
         ],
         "name": "1977"
        },
        {
         "data": [
          {
           "alignmentgroup": "True",
           "hovertemplate": "continent=%{x}<br>year=1982<br>population=%{y}<extra></extra>",
           "legendgroup": "Africa",
           "marker": {
            "color": "#636efa",
            "pattern": {
             "shape": ""
            }
           },
           "name": "Africa",
           "offsetgroup": "Africa",
           "orientation": "v",
           "showlegend": true,
           "textposition": "auto",
           "type": "bar",
           "x": [
            "Africa"
           ],
           "xaxis": "x",
           "y": [
            499348587
           ],
           "yaxis": "y"
          },
          {
           "alignmentgroup": "True",
           "hovertemplate": "continent=%{x}<br>year=1982<br>population=%{y}<extra></extra>",
           "legendgroup": "Asia",
           "marker": {
            "color": "#EF553B",
            "pattern": {
             "shape": ""
            }
           },
           "name": "Asia",
           "offsetgroup": "Asia",
           "orientation": "v",
           "showlegend": true,
           "textposition": "auto",
           "type": "bar",
           "x": [
            "Asia"
           ],
           "xaxis": "x",
           "y": [
            2606277161
           ],
           "yaxis": "y"
          },
          {
           "alignmentgroup": "True",
           "hovertemplate": "continent=%{x}<br>year=1982<br>population=%{y}<extra></extra>",
           "legendgroup": "Europe",
           "marker": {
            "color": "#00cc96",
            "pattern": {
             "shape": ""
            }
           },
           "name": "Europe",
           "offsetgroup": "Europe",
           "orientation": "v",
           "showlegend": true,
           "textposition": "auto",
           "type": "bar",
           "x": [
            "Europe"
           ],
           "xaxis": "x",
           "y": [
            531266901
           ],
           "yaxis": "y"
          },
          {
           "alignmentgroup": "True",
           "hovertemplate": "continent=%{x}<br>year=1982<br>population=%{y}<extra></extra>",
           "legendgroup": "Americas",
           "marker": {
            "color": "#ab63fa",
            "pattern": {
             "shape": ""
            }
           },
           "name": "Americas",
           "offsetgroup": "Americas",
           "orientation": "v",
           "showlegend": true,
           "textposition": "auto",
           "type": "bar",
           "x": [
            "Americas"
           ],
           "xaxis": "x",
           "y": [
            630290920
           ],
           "yaxis": "y"
          },
          {
           "alignmentgroup": "True",
           "hovertemplate": "continent=%{x}<br>year=1982<br>population=%{y}<extra></extra>",
           "legendgroup": "Oceania",
           "marker": {
            "color": "#FFA15A",
            "pattern": {
             "shape": ""
            }
           },
           "name": "Oceania",
           "offsetgroup": "Oceania",
           "orientation": "v",
           "showlegend": true,
           "textposition": "auto",
           "type": "bar",
           "x": [
            "Oceania"
           ],
           "xaxis": "x",
           "y": [
            18394850
           ],
           "yaxis": "y"
          }
         ],
         "name": "1982"
        },
        {
         "data": [
          {
           "alignmentgroup": "True",
           "hovertemplate": "continent=%{x}<br>year=1987<br>population=%{y}<extra></extra>",
           "legendgroup": "Africa",
           "marker": {
            "color": "#636efa",
            "pattern": {
             "shape": ""
            }
           },
           "name": "Africa",
           "offsetgroup": "Africa",
           "orientation": "v",
           "showlegend": true,
           "textposition": "auto",
           "type": "bar",
           "x": [
            "Africa"
           ],
           "xaxis": "x",
           "y": [
            574834110
           ],
           "yaxis": "y"
          },
          {
           "alignmentgroup": "True",
           "hovertemplate": "continent=%{x}<br>year=1987<br>population=%{y}<extra></extra>",
           "legendgroup": "Asia",
           "marker": {
            "color": "#EF553B",
            "pattern": {
             "shape": ""
            }
           },
           "name": "Asia",
           "offsetgroup": "Asia",
           "orientation": "v",
           "showlegend": true,
           "textposition": "auto",
           "type": "bar",
           "x": [
            "Asia"
           ],
           "xaxis": "x",
           "y": [
            2867017614
           ],
           "yaxis": "y"
          },
          {
           "alignmentgroup": "True",
           "hovertemplate": "continent=%{x}<br>year=1987<br>population=%{y}<extra></extra>",
           "legendgroup": "Europe",
           "marker": {
            "color": "#00cc96",
            "pattern": {
             "shape": ""
            }
           },
           "name": "Europe",
           "offsetgroup": "Europe",
           "orientation": "v",
           "showlegend": true,
           "textposition": "auto",
           "type": "bar",
           "x": [
            "Europe"
           ],
           "xaxis": "x",
           "y": [
            543094160
           ],
           "yaxis": "y"
          },
          {
           "alignmentgroup": "True",
           "hovertemplate": "continent=%{x}<br>year=1987<br>population=%{y}<extra></extra>",
           "legendgroup": "Americas",
           "marker": {
            "color": "#ab63fa",
            "pattern": {
             "shape": ""
            }
           },
           "name": "Americas",
           "offsetgroup": "Americas",
           "orientation": "v",
           "showlegend": true,
           "textposition": "auto",
           "type": "bar",
           "x": [
            "Americas"
           ],
           "xaxis": "x",
           "y": [
            682753971
           ],
           "yaxis": "y"
          },
          {
           "alignmentgroup": "True",
           "hovertemplate": "continent=%{x}<br>year=1987<br>population=%{y}<extra></extra>",
           "legendgroup": "Oceania",
           "marker": {
            "color": "#FFA15A",
            "pattern": {
             "shape": ""
            }
           },
           "name": "Oceania",
           "offsetgroup": "Oceania",
           "orientation": "v",
           "showlegend": true,
           "textposition": "auto",
           "type": "bar",
           "x": [
            "Oceania"
           ],
           "xaxis": "x",
           "y": [
            19574415
           ],
           "yaxis": "y"
          }
         ],
         "name": "1987"
        },
        {
         "data": [
          {
           "alignmentgroup": "True",
           "hovertemplate": "continent=%{x}<br>year=1992<br>population=%{y}<extra></extra>",
           "legendgroup": "Africa",
           "marker": {
            "color": "#636efa",
            "pattern": {
             "shape": ""
            }
           },
           "name": "Africa",
           "offsetgroup": "Africa",
           "orientation": "v",
           "showlegend": true,
           "textposition": "auto",
           "type": "bar",
           "x": [
            "Africa"
           ],
           "xaxis": "x",
           "y": [
            659081517
           ],
           "yaxis": "y"
          },
          {
           "alignmentgroup": "True",
           "hovertemplate": "continent=%{x}<br>year=1992<br>population=%{y}<extra></extra>",
           "legendgroup": "Asia",
           "marker": {
            "color": "#EF553B",
            "pattern": {
             "shape": ""
            }
           },
           "name": "Asia",
           "offsetgroup": "Asia",
           "orientation": "v",
           "showlegend": true,
           "textposition": "auto",
           "type": "bar",
           "x": [
            "Asia"
           ],
           "xaxis": "x",
           "y": [
            3128355641
           ],
           "yaxis": "y"
          },
          {
           "alignmentgroup": "True",
           "hovertemplate": "continent=%{x}<br>year=1992<br>population=%{y}<extra></extra>",
           "legendgroup": "Europe",
           "marker": {
            "color": "#00cc96",
            "pattern": {
             "shape": ""
            }
           },
           "name": "Europe",
           "offsetgroup": "Europe",
           "orientation": "v",
           "showlegend": true,
           "textposition": "auto",
           "type": "bar",
           "x": [
            "Europe"
           ],
           "xaxis": "x",
           "y": [
            558142797
           ],
           "yaxis": "y"
          },
          {
           "alignmentgroup": "True",
           "hovertemplate": "continent=%{x}<br>year=1992<br>population=%{y}<extra></extra>",
           "legendgroup": "Americas",
           "marker": {
            "color": "#ab63fa",
            "pattern": {
             "shape": ""
            }
           },
           "name": "Americas",
           "offsetgroup": "Americas",
           "orientation": "v",
           "showlegend": true,
           "textposition": "auto",
           "type": "bar",
           "x": [
            "Americas"
           ],
           "xaxis": "x",
           "y": [
            739274104
           ],
           "yaxis": "y"
          },
          {
           "alignmentgroup": "True",
           "hovertemplate": "continent=%{x}<br>year=1992<br>population=%{y}<extra></extra>",
           "legendgroup": "Oceania",
           "marker": {
            "color": "#FFA15A",
            "pattern": {
             "shape": ""
            }
           },
           "name": "Oceania",
           "offsetgroup": "Oceania",
           "orientation": "v",
           "showlegend": true,
           "textposition": "auto",
           "type": "bar",
           "x": [
            "Oceania"
           ],
           "xaxis": "x",
           "y": [
            20919651
           ],
           "yaxis": "y"
          }
         ],
         "name": "1992"
        },
        {
         "data": [
          {
           "alignmentgroup": "True",
           "hovertemplate": "continent=%{x}<br>year=1997<br>population=%{y}<extra></extra>",
           "legendgroup": "Africa",
           "marker": {
            "color": "#636efa",
            "pattern": {
             "shape": ""
            }
           },
           "name": "Africa",
           "offsetgroup": "Africa",
           "orientation": "v",
           "showlegend": true,
           "textposition": "auto",
           "type": "bar",
           "x": [
            "Africa"
           ],
           "xaxis": "x",
           "y": [
            743832984
           ],
           "yaxis": "y"
          },
          {
           "alignmentgroup": "True",
           "hovertemplate": "continent=%{x}<br>year=1997<br>population=%{y}<extra></extra>",
           "legendgroup": "Asia",
           "marker": {
            "color": "#EF553B",
            "pattern": {
             "shape": ""
            }
           },
           "name": "Asia",
           "offsetgroup": "Asia",
           "orientation": "v",
           "showlegend": true,
           "textposition": "auto",
           "type": "bar",
           "x": [
            "Asia"
           ],
           "xaxis": "x",
           "y": [
            3377754113
           ],
           "yaxis": "y"
          },
          {
           "alignmentgroup": "True",
           "hovertemplate": "continent=%{x}<br>year=1997<br>population=%{y}<extra></extra>",
           "legendgroup": "Europe",
           "marker": {
            "color": "#00cc96",
            "pattern": {
             "shape": ""
            }
           },
           "name": "Europe",
           "offsetgroup": "Europe",
           "orientation": "v",
           "showlegend": true,
           "textposition": "auto",
           "type": "bar",
           "x": [
            "Europe"
           ],
           "xaxis": "x",
           "y": [
            568944148
           ],
           "yaxis": "y"
          },
          {
           "alignmentgroup": "True",
           "hovertemplate": "continent=%{x}<br>year=1997<br>population=%{y}<extra></extra>",
           "legendgroup": "Americas",
           "marker": {
            "color": "#ab63fa",
            "pattern": {
             "shape": ""
            }
           },
           "name": "Americas",
           "offsetgroup": "Americas",
           "orientation": "v",
           "showlegend": true,
           "textposition": "auto",
           "type": "bar",
           "x": [
            "Americas"
           ],
           "xaxis": "x",
           "y": [
            796900410
           ],
           "yaxis": "y"
          },
          {
           "alignmentgroup": "True",
           "hovertemplate": "continent=%{x}<br>year=1997<br>population=%{y}<extra></extra>",
           "legendgroup": "Oceania",
           "marker": {
            "color": "#FFA15A",
            "pattern": {
             "shape": ""
            }
           },
           "name": "Oceania",
           "offsetgroup": "Oceania",
           "orientation": "v",
           "showlegend": true,
           "textposition": "auto",
           "type": "bar",
           "x": [
            "Oceania"
           ],
           "xaxis": "x",
           "y": [
            22241430
           ],
           "yaxis": "y"
          }
         ],
         "name": "1997"
        },
        {
         "data": [
          {
           "alignmentgroup": "True",
           "hovertemplate": "continent=%{x}<br>year=2002<br>population=%{y}<extra></extra>",
           "legendgroup": "Africa",
           "marker": {
            "color": "#636efa",
            "pattern": {
             "shape": ""
            }
           },
           "name": "Africa",
           "offsetgroup": "Africa",
           "orientation": "v",
           "showlegend": true,
           "textposition": "auto",
           "type": "bar",
           "x": [
            "Africa"
           ],
           "xaxis": "x",
           "y": [
            833723916
           ],
           "yaxis": "y"
          },
          {
           "alignmentgroup": "True",
           "hovertemplate": "continent=%{x}<br>year=2002<br>population=%{y}<extra></extra>",
           "legendgroup": "Asia",
           "marker": {
            "color": "#EF553B",
            "pattern": {
             "shape": ""
            }
           },
           "name": "Asia",
           "offsetgroup": "Asia",
           "orientation": "v",
           "showlegend": true,
           "textposition": "auto",
           "type": "bar",
           "x": [
            "Asia"
           ],
           "xaxis": "x",
           "y": [
            3595772674
           ],
           "yaxis": "y"
          },
          {
           "alignmentgroup": "True",
           "hovertemplate": "continent=%{x}<br>year=2002<br>population=%{y}<extra></extra>",
           "legendgroup": "Europe",
           "marker": {
            "color": "#00cc96",
            "pattern": {
             "shape": ""
            }
           },
           "name": "Europe",
           "offsetgroup": "Europe",
           "orientation": "v",
           "showlegend": true,
           "textposition": "auto",
           "type": "bar",
           "x": [
            "Europe"
           ],
           "xaxis": "x",
           "y": [
            578223869
           ],
           "yaxis": "y"
          },
          {
           "alignmentgroup": "True",
           "hovertemplate": "continent=%{x}<br>year=2002<br>population=%{y}<extra></extra>",
           "legendgroup": "Americas",
           "marker": {
            "color": "#ab63fa",
            "pattern": {
             "shape": ""
            }
           },
           "name": "Americas",
           "offsetgroup": "Americas",
           "orientation": "v",
           "showlegend": true,
           "textposition": "auto",
           "type": "bar",
           "x": [
            "Americas"
           ],
           "xaxis": "x",
           "y": [
            849772762
           ],
           "yaxis": "y"
          },
          {
           "alignmentgroup": "True",
           "hovertemplate": "continent=%{x}<br>year=2002<br>population=%{y}<extra></extra>",
           "legendgroup": "Oceania",
           "marker": {
            "color": "#FFA15A",
            "pattern": {
             "shape": ""
            }
           },
           "name": "Oceania",
           "offsetgroup": "Oceania",
           "orientation": "v",
           "showlegend": true,
           "textposition": "auto",
           "type": "bar",
           "x": [
            "Oceania"
           ],
           "xaxis": "x",
           "y": [
            23454829
           ],
           "yaxis": "y"
          }
         ],
         "name": "2002"
        },
        {
         "data": [
          {
           "alignmentgroup": "True",
           "hovertemplate": "continent=%{x}<br>year=2007<br>population=%{y}<extra></extra>",
           "legendgroup": "Africa",
           "marker": {
            "color": "#636efa",
            "pattern": {
             "shape": ""
            }
           },
           "name": "Africa",
           "offsetgroup": "Africa",
           "orientation": "v",
           "showlegend": true,
           "textposition": "auto",
           "type": "bar",
           "x": [
            "Africa"
           ],
           "xaxis": "x",
           "y": [
            929539692
           ],
           "yaxis": "y"
          },
          {
           "alignmentgroup": "True",
           "hovertemplate": "continent=%{x}<br>year=2007<br>population=%{y}<extra></extra>",
           "legendgroup": "Asia",
           "marker": {
            "color": "#EF553B",
            "pattern": {
             "shape": ""
            }
           },
           "name": "Asia",
           "offsetgroup": "Asia",
           "orientation": "v",
           "showlegend": true,
           "textposition": "auto",
           "type": "bar",
           "x": [
            "Asia"
           ],
           "xaxis": "x",
           "y": [
            3805527148
           ],
           "yaxis": "y"
          },
          {
           "alignmentgroup": "True",
           "hovertemplate": "continent=%{x}<br>year=2007<br>population=%{y}<extra></extra>",
           "legendgroup": "Europe",
           "marker": {
            "color": "#00cc96",
            "pattern": {
             "shape": ""
            }
           },
           "name": "Europe",
           "offsetgroup": "Europe",
           "orientation": "v",
           "showlegend": true,
           "textposition": "auto",
           "type": "bar",
           "x": [
            "Europe"
           ],
           "xaxis": "x",
           "y": [
            586098529
           ],
           "yaxis": "y"
          },
          {
           "alignmentgroup": "True",
           "hovertemplate": "continent=%{x}<br>year=2007<br>population=%{y}<extra></extra>",
           "legendgroup": "Americas",
           "marker": {
            "color": "#ab63fa",
            "pattern": {
             "shape": ""
            }
           },
           "name": "Americas",
           "offsetgroup": "Americas",
           "orientation": "v",
           "showlegend": true,
           "textposition": "auto",
           "type": "bar",
           "x": [
            "Americas"
           ],
           "xaxis": "x",
           "y": [
            898871184
           ],
           "yaxis": "y"
          },
          {
           "alignmentgroup": "True",
           "hovertemplate": "continent=%{x}<br>year=2007<br>population=%{y}<extra></extra>",
           "legendgroup": "Oceania",
           "marker": {
            "color": "#FFA15A",
            "pattern": {
             "shape": ""
            }
           },
           "name": "Oceania",
           "offsetgroup": "Oceania",
           "orientation": "v",
           "showlegend": true,
           "textposition": "auto",
           "type": "bar",
           "x": [
            "Oceania"
           ],
           "xaxis": "x",
           "y": [
            24549947
           ],
           "yaxis": "y"
          }
         ],
         "name": "2007"
        }
       ],
       "layout": {
        "barmode": "relative",
        "legend": {
         "title": {
          "text": "continent"
         },
         "tracegroupgap": 0
        },
        "margin": {
         "t": 60
        },
        "sliders": [
         {
          "active": 0,
          "currentvalue": {
           "prefix": "year="
          },
          "len": 0.9,
          "pad": {
           "b": 10,
           "t": 60
          },
          "steps": [
           {
            "args": [
             [
              "1952"
             ],
             {
              "frame": {
               "duration": 0,
               "redraw": true
              },
              "fromcurrent": true,
              "mode": "immediate",
              "transition": {
               "duration": 0,
               "easing": "linear"
              }
             }
            ],
            "label": "1952",
            "method": "animate"
           },
           {
            "args": [
             [
              "1957"
             ],
             {
              "frame": {
               "duration": 0,
               "redraw": true
              },
              "fromcurrent": true,
              "mode": "immediate",
              "transition": {
               "duration": 0,
               "easing": "linear"
              }
             }
            ],
            "label": "1957",
            "method": "animate"
           },
           {
            "args": [
             [
              "1962"
             ],
             {
              "frame": {
               "duration": 0,
               "redraw": true
              },
              "fromcurrent": true,
              "mode": "immediate",
              "transition": {
               "duration": 0,
               "easing": "linear"
              }
             }
            ],
            "label": "1962",
            "method": "animate"
           },
           {
            "args": [
             [
              "1967"
             ],
             {
              "frame": {
               "duration": 0,
               "redraw": true
              },
              "fromcurrent": true,
              "mode": "immediate",
              "transition": {
               "duration": 0,
               "easing": "linear"
              }
             }
            ],
            "label": "1967",
            "method": "animate"
           },
           {
            "args": [
             [
              "1972"
             ],
             {
              "frame": {
               "duration": 0,
               "redraw": true
              },
              "fromcurrent": true,
              "mode": "immediate",
              "transition": {
               "duration": 0,
               "easing": "linear"
              }
             }
            ],
            "label": "1972",
            "method": "animate"
           },
           {
            "args": [
             [
              "1977"
             ],
             {
              "frame": {
               "duration": 0,
               "redraw": true
              },
              "fromcurrent": true,
              "mode": "immediate",
              "transition": {
               "duration": 0,
               "easing": "linear"
              }
             }
            ],
            "label": "1977",
            "method": "animate"
           },
           {
            "args": [
             [
              "1982"
             ],
             {
              "frame": {
               "duration": 0,
               "redraw": true
              },
              "fromcurrent": true,
              "mode": "immediate",
              "transition": {
               "duration": 0,
               "easing": "linear"
              }
             }
            ],
            "label": "1982",
            "method": "animate"
           },
           {
            "args": [
             [
              "1987"
             ],
             {
              "frame": {
               "duration": 0,
               "redraw": true
              },
              "fromcurrent": true,
              "mode": "immediate",
              "transition": {
               "duration": 0,
               "easing": "linear"
              }
             }
            ],
            "label": "1987",
            "method": "animate"
           },
           {
            "args": [
             [
              "1992"
             ],
             {
              "frame": {
               "duration": 0,
               "redraw": true
              },
              "fromcurrent": true,
              "mode": "immediate",
              "transition": {
               "duration": 0,
               "easing": "linear"
              }
             }
            ],
            "label": "1992",
            "method": "animate"
           },
           {
            "args": [
             [
              "1997"
             ],
             {
              "frame": {
               "duration": 0,
               "redraw": true
              },
              "fromcurrent": true,
              "mode": "immediate",
              "transition": {
               "duration": 0,
               "easing": "linear"
              }
             }
            ],
            "label": "1997",
            "method": "animate"
           },
           {
            "args": [
             [
              "2002"
             ],
             {
              "frame": {
               "duration": 0,
               "redraw": true
              },
              "fromcurrent": true,
              "mode": "immediate",
              "transition": {
               "duration": 0,
               "easing": "linear"
              }
             }
            ],
            "label": "2002",
            "method": "animate"
           },
           {
            "args": [
             [
              "2007"
             ],
             {
              "frame": {
               "duration": 0,
               "redraw": true
              },
              "fromcurrent": true,
              "mode": "immediate",
              "transition": {
               "duration": 0,
               "easing": "linear"
              }
             }
            ],
            "label": "2007",
            "method": "animate"
           }
          ],
          "x": 0.1,
          "xanchor": "left",
          "y": 0,
          "yanchor": "top"
         }
        ],
        "template": {
         "data": {
          "bar": [
           {
            "error_x": {
             "color": "#2a3f5f"
            },
            "error_y": {
             "color": "#2a3f5f"
            },
            "marker": {
             "line": {
              "color": "#E5ECF6",
              "width": 0.5
             },
             "pattern": {
              "fillmode": "overlay",
              "size": 10,
              "solidity": 0.2
             }
            },
            "type": "bar"
           }
          ],
          "barpolar": [
           {
            "marker": {
             "line": {
              "color": "#E5ECF6",
              "width": 0.5
             },
             "pattern": {
              "fillmode": "overlay",
              "size": 10,
              "solidity": 0.2
             }
            },
            "type": "barpolar"
           }
          ],
          "carpet": [
           {
            "aaxis": {
             "endlinecolor": "#2a3f5f",
             "gridcolor": "white",
             "linecolor": "white",
             "minorgridcolor": "white",
             "startlinecolor": "#2a3f5f"
            },
            "baxis": {
             "endlinecolor": "#2a3f5f",
             "gridcolor": "white",
             "linecolor": "white",
             "minorgridcolor": "white",
             "startlinecolor": "#2a3f5f"
            },
            "type": "carpet"
           }
          ],
          "choropleth": [
           {
            "colorbar": {
             "outlinewidth": 0,
             "ticks": ""
            },
            "type": "choropleth"
           }
          ],
          "contour": [
           {
            "colorbar": {
             "outlinewidth": 0,
             "ticks": ""
            },
            "colorscale": [
             [
              0,
              "#0d0887"
             ],
             [
              0.1111111111111111,
              "#46039f"
             ],
             [
              0.2222222222222222,
              "#7201a8"
             ],
             [
              0.3333333333333333,
              "#9c179e"
             ],
             [
              0.4444444444444444,
              "#bd3786"
             ],
             [
              0.5555555555555556,
              "#d8576b"
             ],
             [
              0.6666666666666666,
              "#ed7953"
             ],
             [
              0.7777777777777778,
              "#fb9f3a"
             ],
             [
              0.8888888888888888,
              "#fdca26"
             ],
             [
              1,
              "#f0f921"
             ]
            ],
            "type": "contour"
           }
          ],
          "contourcarpet": [
           {
            "colorbar": {
             "outlinewidth": 0,
             "ticks": ""
            },
            "type": "contourcarpet"
           }
          ],
          "heatmap": [
           {
            "colorbar": {
             "outlinewidth": 0,
             "ticks": ""
            },
            "colorscale": [
             [
              0,
              "#0d0887"
             ],
             [
              0.1111111111111111,
              "#46039f"
             ],
             [
              0.2222222222222222,
              "#7201a8"
             ],
             [
              0.3333333333333333,
              "#9c179e"
             ],
             [
              0.4444444444444444,
              "#bd3786"
             ],
             [
              0.5555555555555556,
              "#d8576b"
             ],
             [
              0.6666666666666666,
              "#ed7953"
             ],
             [
              0.7777777777777778,
              "#fb9f3a"
             ],
             [
              0.8888888888888888,
              "#fdca26"
             ],
             [
              1,
              "#f0f921"
             ]
            ],
            "type": "heatmap"
           }
          ],
          "heatmapgl": [
           {
            "colorbar": {
             "outlinewidth": 0,
             "ticks": ""
            },
            "colorscale": [
             [
              0,
              "#0d0887"
             ],
             [
              0.1111111111111111,
              "#46039f"
             ],
             [
              0.2222222222222222,
              "#7201a8"
             ],
             [
              0.3333333333333333,
              "#9c179e"
             ],
             [
              0.4444444444444444,
              "#bd3786"
             ],
             [
              0.5555555555555556,
              "#d8576b"
             ],
             [
              0.6666666666666666,
              "#ed7953"
             ],
             [
              0.7777777777777778,
              "#fb9f3a"
             ],
             [
              0.8888888888888888,
              "#fdca26"
             ],
             [
              1,
              "#f0f921"
             ]
            ],
            "type": "heatmapgl"
           }
          ],
          "histogram": [
           {
            "marker": {
             "pattern": {
              "fillmode": "overlay",
              "size": 10,
              "solidity": 0.2
             }
            },
            "type": "histogram"
           }
          ],
          "histogram2d": [
           {
            "colorbar": {
             "outlinewidth": 0,
             "ticks": ""
            },
            "colorscale": [
             [
              0,
              "#0d0887"
             ],
             [
              0.1111111111111111,
              "#46039f"
             ],
             [
              0.2222222222222222,
              "#7201a8"
             ],
             [
              0.3333333333333333,
              "#9c179e"
             ],
             [
              0.4444444444444444,
              "#bd3786"
             ],
             [
              0.5555555555555556,
              "#d8576b"
             ],
             [
              0.6666666666666666,
              "#ed7953"
             ],
             [
              0.7777777777777778,
              "#fb9f3a"
             ],
             [
              0.8888888888888888,
              "#fdca26"
             ],
             [
              1,
              "#f0f921"
             ]
            ],
            "type": "histogram2d"
           }
          ],
          "histogram2dcontour": [
           {
            "colorbar": {
             "outlinewidth": 0,
             "ticks": ""
            },
            "colorscale": [
             [
              0,
              "#0d0887"
             ],
             [
              0.1111111111111111,
              "#46039f"
             ],
             [
              0.2222222222222222,
              "#7201a8"
             ],
             [
              0.3333333333333333,
              "#9c179e"
             ],
             [
              0.4444444444444444,
              "#bd3786"
             ],
             [
              0.5555555555555556,
              "#d8576b"
             ],
             [
              0.6666666666666666,
              "#ed7953"
             ],
             [
              0.7777777777777778,
              "#fb9f3a"
             ],
             [
              0.8888888888888888,
              "#fdca26"
             ],
             [
              1,
              "#f0f921"
             ]
            ],
            "type": "histogram2dcontour"
           }
          ],
          "mesh3d": [
           {
            "colorbar": {
             "outlinewidth": 0,
             "ticks": ""
            },
            "type": "mesh3d"
           }
          ],
          "parcoords": [
           {
            "line": {
             "colorbar": {
              "outlinewidth": 0,
              "ticks": ""
             }
            },
            "type": "parcoords"
           }
          ],
          "pie": [
           {
            "automargin": true,
            "type": "pie"
           }
          ],
          "scatter": [
           {
            "fillpattern": {
             "fillmode": "overlay",
             "size": 10,
             "solidity": 0.2
            },
            "type": "scatter"
           }
          ],
          "scatter3d": [
           {
            "line": {
             "colorbar": {
              "outlinewidth": 0,
              "ticks": ""
             }
            },
            "marker": {
             "colorbar": {
              "outlinewidth": 0,
              "ticks": ""
             }
            },
            "type": "scatter3d"
           }
          ],
          "scattercarpet": [
           {
            "marker": {
             "colorbar": {
              "outlinewidth": 0,
              "ticks": ""
             }
            },
            "type": "scattercarpet"
           }
          ],
          "scattergeo": [
           {
            "marker": {
             "colorbar": {
              "outlinewidth": 0,
              "ticks": ""
             }
            },
            "type": "scattergeo"
           }
          ],
          "scattergl": [
           {
            "marker": {
             "colorbar": {
              "outlinewidth": 0,
              "ticks": ""
             }
            },
            "type": "scattergl"
           }
          ],
          "scattermapbox": [
           {
            "marker": {
             "colorbar": {
              "outlinewidth": 0,
              "ticks": ""
             }
            },
            "type": "scattermapbox"
           }
          ],
          "scatterpolar": [
           {
            "marker": {
             "colorbar": {
              "outlinewidth": 0,
              "ticks": ""
             }
            },
            "type": "scatterpolar"
           }
          ],
          "scatterpolargl": [
           {
            "marker": {
             "colorbar": {
              "outlinewidth": 0,
              "ticks": ""
             }
            },
            "type": "scatterpolargl"
           }
          ],
          "scatterternary": [
           {
            "marker": {
             "colorbar": {
              "outlinewidth": 0,
              "ticks": ""
             }
            },
            "type": "scatterternary"
           }
          ],
          "surface": [
           {
            "colorbar": {
             "outlinewidth": 0,
             "ticks": ""
            },
            "colorscale": [
             [
              0,
              "#0d0887"
             ],
             [
              0.1111111111111111,
              "#46039f"
             ],
             [
              0.2222222222222222,
              "#7201a8"
             ],
             [
              0.3333333333333333,
              "#9c179e"
             ],
             [
              0.4444444444444444,
              "#bd3786"
             ],
             [
              0.5555555555555556,
              "#d8576b"
             ],
             [
              0.6666666666666666,
              "#ed7953"
             ],
             [
              0.7777777777777778,
              "#fb9f3a"
             ],
             [
              0.8888888888888888,
              "#fdca26"
             ],
             [
              1,
              "#f0f921"
             ]
            ],
            "type": "surface"
           }
          ],
          "table": [
           {
            "cells": {
             "fill": {
              "color": "#EBF0F8"
             },
             "line": {
              "color": "white"
             }
            },
            "header": {
             "fill": {
              "color": "#C8D4E3"
             },
             "line": {
              "color": "white"
             }
            },
            "type": "table"
           }
          ]
         },
         "layout": {
          "annotationdefaults": {
           "arrowcolor": "#2a3f5f",
           "arrowhead": 0,
           "arrowwidth": 1
          },
          "autotypenumbers": "strict",
          "coloraxis": {
           "colorbar": {
            "outlinewidth": 0,
            "ticks": ""
           }
          },
          "colorscale": {
           "diverging": [
            [
             0,
             "#8e0152"
            ],
            [
             0.1,
             "#c51b7d"
            ],
            [
             0.2,
             "#de77ae"
            ],
            [
             0.3,
             "#f1b6da"
            ],
            [
             0.4,
             "#fde0ef"
            ],
            [
             0.5,
             "#f7f7f7"
            ],
            [
             0.6,
             "#e6f5d0"
            ],
            [
             0.7,
             "#b8e186"
            ],
            [
             0.8,
             "#7fbc41"
            ],
            [
             0.9,
             "#4d9221"
            ],
            [
             1,
             "#276419"
            ]
           ],
           "sequential": [
            [
             0,
             "#0d0887"
            ],
            [
             0.1111111111111111,
             "#46039f"
            ],
            [
             0.2222222222222222,
             "#7201a8"
            ],
            [
             0.3333333333333333,
             "#9c179e"
            ],
            [
             0.4444444444444444,
             "#bd3786"
            ],
            [
             0.5555555555555556,
             "#d8576b"
            ],
            [
             0.6666666666666666,
             "#ed7953"
            ],
            [
             0.7777777777777778,
             "#fb9f3a"
            ],
            [
             0.8888888888888888,
             "#fdca26"
            ],
            [
             1,
             "#f0f921"
            ]
           ],
           "sequentialminus": [
            [
             0,
             "#0d0887"
            ],
            [
             0.1111111111111111,
             "#46039f"
            ],
            [
             0.2222222222222222,
             "#7201a8"
            ],
            [
             0.3333333333333333,
             "#9c179e"
            ],
            [
             0.4444444444444444,
             "#bd3786"
            ],
            [
             0.5555555555555556,
             "#d8576b"
            ],
            [
             0.6666666666666666,
             "#ed7953"
            ],
            [
             0.7777777777777778,
             "#fb9f3a"
            ],
            [
             0.8888888888888888,
             "#fdca26"
            ],
            [
             1,
             "#f0f921"
            ]
           ]
          },
          "colorway": [
           "#636efa",
           "#EF553B",
           "#00cc96",
           "#ab63fa",
           "#FFA15A",
           "#19d3f3",
           "#FF6692",
           "#B6E880",
           "#FF97FF",
           "#FECB52"
          ],
          "font": {
           "color": "#2a3f5f"
          },
          "geo": {
           "bgcolor": "white",
           "lakecolor": "white",
           "landcolor": "#E5ECF6",
           "showlakes": true,
           "showland": true,
           "subunitcolor": "white"
          },
          "hoverlabel": {
           "align": "left"
          },
          "hovermode": "closest",
          "mapbox": {
           "style": "light"
          },
          "paper_bgcolor": "white",
          "plot_bgcolor": "#E5ECF6",
          "polar": {
           "angularaxis": {
            "gridcolor": "white",
            "linecolor": "white",
            "ticks": ""
           },
           "bgcolor": "#E5ECF6",
           "radialaxis": {
            "gridcolor": "white",
            "linecolor": "white",
            "ticks": ""
           }
          },
          "scene": {
           "xaxis": {
            "backgroundcolor": "#E5ECF6",
            "gridcolor": "white",
            "gridwidth": 2,
            "linecolor": "white",
            "showbackground": true,
            "ticks": "",
            "zerolinecolor": "white"
           },
           "yaxis": {
            "backgroundcolor": "#E5ECF6",
            "gridcolor": "white",
            "gridwidth": 2,
            "linecolor": "white",
            "showbackground": true,
            "ticks": "",
            "zerolinecolor": "white"
           },
           "zaxis": {
            "backgroundcolor": "#E5ECF6",
            "gridcolor": "white",
            "gridwidth": 2,
            "linecolor": "white",
            "showbackground": true,
            "ticks": "",
            "zerolinecolor": "white"
           }
          },
          "shapedefaults": {
           "line": {
            "color": "#2a3f5f"
           }
          },
          "ternary": {
           "aaxis": {
            "gridcolor": "white",
            "linecolor": "white",
            "ticks": ""
           },
           "baxis": {
            "gridcolor": "white",
            "linecolor": "white",
            "ticks": ""
           },
           "bgcolor": "#E5ECF6",
           "caxis": {
            "gridcolor": "white",
            "linecolor": "white",
            "ticks": ""
           }
          },
          "title": {
           "x": 0.05
          },
          "xaxis": {
           "automargin": true,
           "gridcolor": "white",
           "linecolor": "white",
           "ticks": "",
           "title": {
            "standoff": 15
           },
           "zerolinecolor": "white",
           "zerolinewidth": 2
          },
          "yaxis": {
           "automargin": true,
           "gridcolor": "white",
           "linecolor": "white",
           "ticks": "",
           "title": {
            "standoff": 15
           },
           "zerolinecolor": "white",
           "zerolinewidth": 2
          }
         }
        },
        "updatemenus": [
         {
          "buttons": [
           {
            "args": [
             null,
             {
              "frame": {
               "duration": 500,
               "redraw": true
              },
              "fromcurrent": true,
              "mode": "immediate",
              "transition": {
               "duration": 500,
               "easing": "linear"
              }
             }
            ],
            "label": "&#9654;",
            "method": "animate"
           },
           {
            "args": [
             [
              null
             ],
             {
              "frame": {
               "duration": 0,
               "redraw": true
              },
              "fromcurrent": true,
              "mode": "immediate",
              "transition": {
               "duration": 0,
               "easing": "linear"
              }
             }
            ],
            "label": "&#9724;",
            "method": "animate"
           }
          ],
          "direction": "left",
          "pad": {
           "r": 10,
           "t": 70
          },
          "showactive": false,
          "type": "buttons",
          "x": 0.1,
          "xanchor": "right",
          "y": 0,
          "yanchor": "top"
         }
        ],
        "xaxis": {
         "anchor": "y",
         "categoryarray": [
          "Africa",
          "Asia",
          "Europe",
          "Americas",
          "Oceania"
         ],
         "categoryorder": "array",
         "domain": [
          0,
          1
         ],
         "title": {
          "text": "continent"
         }
        },
        "yaxis": {
         "anchor": "x",
         "domain": [
          0,
          1
         ],
         "title": {
          "text": "population"
         }
        }
       }
      }
     },
     "metadata": {},
     "output_type": "display_data"
    }
   ],
   "source": [
    "px.bar(data_frame=population_for_countinents , x='continent' , y='population' , color='continent' ,animation_frame='year')"
   ]
  },
  {
   "cell_type": "code",
   "execution_count": 99,
   "metadata": {},
   "outputs": [
    {
     "data": {
      "application/vnd.plotly.v1+json": {
       "config": {
        "plotlyServerURL": "https://plot.ly"
       },
       "data": [
        {
         "domain": {
          "x": [
           0,
           1
          ],
          "y": [
           0,
           1
          ]
         },
         "hovertemplate": "continent=%{label}<br>population=%{value}<extra></extra>",
         "labels": [
          "Africa",
          "Asia",
          "Europe",
          "Americas",
          "Oceania",
          "Europe",
          "Asia",
          "Oceania",
          "Americas",
          "Africa",
          "Asia",
          "Africa",
          "Americas",
          "Europe",
          "Oceania",
          "Asia",
          "Africa",
          "Europe",
          "Oceania",
          "Americas",
          "Africa",
          "Asia",
          "Oceania",
          "Americas",
          "Europe",
          "Oceania",
          "Europe",
          "Asia",
          "Africa",
          "Americas",
          "Asia",
          "Africa",
          "Europe",
          "Oceania",
          "Americas",
          "Europe",
          "Africa",
          "Americas",
          "Oceania",
          "Asia",
          "Africa",
          "Oceania",
          "Asia",
          "Europe",
          "Americas",
          "Americas",
          "Asia",
          "Europe",
          "Oceania",
          "Africa",
          "Americas",
          "Europe",
          "Asia",
          "Oceania",
          "Africa",
          "Europe",
          "Americas",
          "Africa",
          "Asia",
          "Oceania"
         ],
         "legendgroup": "",
         "name": "",
         "showlegend": true,
         "type": "pie",
         "values": [
          237640501,
          1393736437,
          418120846,
          345152446,
          10686006,
          437890351,
          1560836198,
          11941976,
          386953916,
          264837738,
          1694046278,
          296516865,
          433270254,
          460355155,
          13283518,
          1902969315,
          335289489,
          481178958,
          14600414,
          480746623,
          379879541,
          2147876355,
          16106100,
          529384210,
          500635059,
          17239000,
          517164531,
          2381017638,
          433061021,
          578067699,
          2606277161,
          499348587,
          531266901,
          18394850,
          630290920,
          543094160,
          574834110,
          682753971,
          19574415,
          2867017614,
          659081517,
          20919651,
          3128355641,
          558142797,
          739274104,
          796900410,
          3377754113,
          568944148,
          22241430,
          743832984,
          849772762,
          578223869,
          3595772674,
          23454829,
          833723916,
          586098529,
          898871184,
          929539692,
          3805527148,
          24549947
         ]
        }
       ],
       "layout": {
        "legend": {
         "tracegroupgap": 0
        },
        "margin": {
         "t": 60
        },
        "template": {
         "data": {
          "bar": [
           {
            "error_x": {
             "color": "#2a3f5f"
            },
            "error_y": {
             "color": "#2a3f5f"
            },
            "marker": {
             "line": {
              "color": "#E5ECF6",
              "width": 0.5
             },
             "pattern": {
              "fillmode": "overlay",
              "size": 10,
              "solidity": 0.2
             }
            },
            "type": "bar"
           }
          ],
          "barpolar": [
           {
            "marker": {
             "line": {
              "color": "#E5ECF6",
              "width": 0.5
             },
             "pattern": {
              "fillmode": "overlay",
              "size": 10,
              "solidity": 0.2
             }
            },
            "type": "barpolar"
           }
          ],
          "carpet": [
           {
            "aaxis": {
             "endlinecolor": "#2a3f5f",
             "gridcolor": "white",
             "linecolor": "white",
             "minorgridcolor": "white",
             "startlinecolor": "#2a3f5f"
            },
            "baxis": {
             "endlinecolor": "#2a3f5f",
             "gridcolor": "white",
             "linecolor": "white",
             "minorgridcolor": "white",
             "startlinecolor": "#2a3f5f"
            },
            "type": "carpet"
           }
          ],
          "choropleth": [
           {
            "colorbar": {
             "outlinewidth": 0,
             "ticks": ""
            },
            "type": "choropleth"
           }
          ],
          "contour": [
           {
            "colorbar": {
             "outlinewidth": 0,
             "ticks": ""
            },
            "colorscale": [
             [
              0,
              "#0d0887"
             ],
             [
              0.1111111111111111,
              "#46039f"
             ],
             [
              0.2222222222222222,
              "#7201a8"
             ],
             [
              0.3333333333333333,
              "#9c179e"
             ],
             [
              0.4444444444444444,
              "#bd3786"
             ],
             [
              0.5555555555555556,
              "#d8576b"
             ],
             [
              0.6666666666666666,
              "#ed7953"
             ],
             [
              0.7777777777777778,
              "#fb9f3a"
             ],
             [
              0.8888888888888888,
              "#fdca26"
             ],
             [
              1,
              "#f0f921"
             ]
            ],
            "type": "contour"
           }
          ],
          "contourcarpet": [
           {
            "colorbar": {
             "outlinewidth": 0,
             "ticks": ""
            },
            "type": "contourcarpet"
           }
          ],
          "heatmap": [
           {
            "colorbar": {
             "outlinewidth": 0,
             "ticks": ""
            },
            "colorscale": [
             [
              0,
              "#0d0887"
             ],
             [
              0.1111111111111111,
              "#46039f"
             ],
             [
              0.2222222222222222,
              "#7201a8"
             ],
             [
              0.3333333333333333,
              "#9c179e"
             ],
             [
              0.4444444444444444,
              "#bd3786"
             ],
             [
              0.5555555555555556,
              "#d8576b"
             ],
             [
              0.6666666666666666,
              "#ed7953"
             ],
             [
              0.7777777777777778,
              "#fb9f3a"
             ],
             [
              0.8888888888888888,
              "#fdca26"
             ],
             [
              1,
              "#f0f921"
             ]
            ],
            "type": "heatmap"
           }
          ],
          "heatmapgl": [
           {
            "colorbar": {
             "outlinewidth": 0,
             "ticks": ""
            },
            "colorscale": [
             [
              0,
              "#0d0887"
             ],
             [
              0.1111111111111111,
              "#46039f"
             ],
             [
              0.2222222222222222,
              "#7201a8"
             ],
             [
              0.3333333333333333,
              "#9c179e"
             ],
             [
              0.4444444444444444,
              "#bd3786"
             ],
             [
              0.5555555555555556,
              "#d8576b"
             ],
             [
              0.6666666666666666,
              "#ed7953"
             ],
             [
              0.7777777777777778,
              "#fb9f3a"
             ],
             [
              0.8888888888888888,
              "#fdca26"
             ],
             [
              1,
              "#f0f921"
             ]
            ],
            "type": "heatmapgl"
           }
          ],
          "histogram": [
           {
            "marker": {
             "pattern": {
              "fillmode": "overlay",
              "size": 10,
              "solidity": 0.2
             }
            },
            "type": "histogram"
           }
          ],
          "histogram2d": [
           {
            "colorbar": {
             "outlinewidth": 0,
             "ticks": ""
            },
            "colorscale": [
             [
              0,
              "#0d0887"
             ],
             [
              0.1111111111111111,
              "#46039f"
             ],
             [
              0.2222222222222222,
              "#7201a8"
             ],
             [
              0.3333333333333333,
              "#9c179e"
             ],
             [
              0.4444444444444444,
              "#bd3786"
             ],
             [
              0.5555555555555556,
              "#d8576b"
             ],
             [
              0.6666666666666666,
              "#ed7953"
             ],
             [
              0.7777777777777778,
              "#fb9f3a"
             ],
             [
              0.8888888888888888,
              "#fdca26"
             ],
             [
              1,
              "#f0f921"
             ]
            ],
            "type": "histogram2d"
           }
          ],
          "histogram2dcontour": [
           {
            "colorbar": {
             "outlinewidth": 0,
             "ticks": ""
            },
            "colorscale": [
             [
              0,
              "#0d0887"
             ],
             [
              0.1111111111111111,
              "#46039f"
             ],
             [
              0.2222222222222222,
              "#7201a8"
             ],
             [
              0.3333333333333333,
              "#9c179e"
             ],
             [
              0.4444444444444444,
              "#bd3786"
             ],
             [
              0.5555555555555556,
              "#d8576b"
             ],
             [
              0.6666666666666666,
              "#ed7953"
             ],
             [
              0.7777777777777778,
              "#fb9f3a"
             ],
             [
              0.8888888888888888,
              "#fdca26"
             ],
             [
              1,
              "#f0f921"
             ]
            ],
            "type": "histogram2dcontour"
           }
          ],
          "mesh3d": [
           {
            "colorbar": {
             "outlinewidth": 0,
             "ticks": ""
            },
            "type": "mesh3d"
           }
          ],
          "parcoords": [
           {
            "line": {
             "colorbar": {
              "outlinewidth": 0,
              "ticks": ""
             }
            },
            "type": "parcoords"
           }
          ],
          "pie": [
           {
            "automargin": true,
            "type": "pie"
           }
          ],
          "scatter": [
           {
            "fillpattern": {
             "fillmode": "overlay",
             "size": 10,
             "solidity": 0.2
            },
            "type": "scatter"
           }
          ],
          "scatter3d": [
           {
            "line": {
             "colorbar": {
              "outlinewidth": 0,
              "ticks": ""
             }
            },
            "marker": {
             "colorbar": {
              "outlinewidth": 0,
              "ticks": ""
             }
            },
            "type": "scatter3d"
           }
          ],
          "scattercarpet": [
           {
            "marker": {
             "colorbar": {
              "outlinewidth": 0,
              "ticks": ""
             }
            },
            "type": "scattercarpet"
           }
          ],
          "scattergeo": [
           {
            "marker": {
             "colorbar": {
              "outlinewidth": 0,
              "ticks": ""
             }
            },
            "type": "scattergeo"
           }
          ],
          "scattergl": [
           {
            "marker": {
             "colorbar": {
              "outlinewidth": 0,
              "ticks": ""
             }
            },
            "type": "scattergl"
           }
          ],
          "scattermapbox": [
           {
            "marker": {
             "colorbar": {
              "outlinewidth": 0,
              "ticks": ""
             }
            },
            "type": "scattermapbox"
           }
          ],
          "scatterpolar": [
           {
            "marker": {
             "colorbar": {
              "outlinewidth": 0,
              "ticks": ""
             }
            },
            "type": "scatterpolar"
           }
          ],
          "scatterpolargl": [
           {
            "marker": {
             "colorbar": {
              "outlinewidth": 0,
              "ticks": ""
             }
            },
            "type": "scatterpolargl"
           }
          ],
          "scatterternary": [
           {
            "marker": {
             "colorbar": {
              "outlinewidth": 0,
              "ticks": ""
             }
            },
            "type": "scatterternary"
           }
          ],
          "surface": [
           {
            "colorbar": {
             "outlinewidth": 0,
             "ticks": ""
            },
            "colorscale": [
             [
              0,
              "#0d0887"
             ],
             [
              0.1111111111111111,
              "#46039f"
             ],
             [
              0.2222222222222222,
              "#7201a8"
             ],
             [
              0.3333333333333333,
              "#9c179e"
             ],
             [
              0.4444444444444444,
              "#bd3786"
             ],
             [
              0.5555555555555556,
              "#d8576b"
             ],
             [
              0.6666666666666666,
              "#ed7953"
             ],
             [
              0.7777777777777778,
              "#fb9f3a"
             ],
             [
              0.8888888888888888,
              "#fdca26"
             ],
             [
              1,
              "#f0f921"
             ]
            ],
            "type": "surface"
           }
          ],
          "table": [
           {
            "cells": {
             "fill": {
              "color": "#EBF0F8"
             },
             "line": {
              "color": "white"
             }
            },
            "header": {
             "fill": {
              "color": "#C8D4E3"
             },
             "line": {
              "color": "white"
             }
            },
            "type": "table"
           }
          ]
         },
         "layout": {
          "annotationdefaults": {
           "arrowcolor": "#2a3f5f",
           "arrowhead": 0,
           "arrowwidth": 1
          },
          "autotypenumbers": "strict",
          "coloraxis": {
           "colorbar": {
            "outlinewidth": 0,
            "ticks": ""
           }
          },
          "colorscale": {
           "diverging": [
            [
             0,
             "#8e0152"
            ],
            [
             0.1,
             "#c51b7d"
            ],
            [
             0.2,
             "#de77ae"
            ],
            [
             0.3,
             "#f1b6da"
            ],
            [
             0.4,
             "#fde0ef"
            ],
            [
             0.5,
             "#f7f7f7"
            ],
            [
             0.6,
             "#e6f5d0"
            ],
            [
             0.7,
             "#b8e186"
            ],
            [
             0.8,
             "#7fbc41"
            ],
            [
             0.9,
             "#4d9221"
            ],
            [
             1,
             "#276419"
            ]
           ],
           "sequential": [
            [
             0,
             "#0d0887"
            ],
            [
             0.1111111111111111,
             "#46039f"
            ],
            [
             0.2222222222222222,
             "#7201a8"
            ],
            [
             0.3333333333333333,
             "#9c179e"
            ],
            [
             0.4444444444444444,
             "#bd3786"
            ],
            [
             0.5555555555555556,
             "#d8576b"
            ],
            [
             0.6666666666666666,
             "#ed7953"
            ],
            [
             0.7777777777777778,
             "#fb9f3a"
            ],
            [
             0.8888888888888888,
             "#fdca26"
            ],
            [
             1,
             "#f0f921"
            ]
           ],
           "sequentialminus": [
            [
             0,
             "#0d0887"
            ],
            [
             0.1111111111111111,
             "#46039f"
            ],
            [
             0.2222222222222222,
             "#7201a8"
            ],
            [
             0.3333333333333333,
             "#9c179e"
            ],
            [
             0.4444444444444444,
             "#bd3786"
            ],
            [
             0.5555555555555556,
             "#d8576b"
            ],
            [
             0.6666666666666666,
             "#ed7953"
            ],
            [
             0.7777777777777778,
             "#fb9f3a"
            ],
            [
             0.8888888888888888,
             "#fdca26"
            ],
            [
             1,
             "#f0f921"
            ]
           ]
          },
          "colorway": [
           "#636efa",
           "#EF553B",
           "#00cc96",
           "#ab63fa",
           "#FFA15A",
           "#19d3f3",
           "#FF6692",
           "#B6E880",
           "#FF97FF",
           "#FECB52"
          ],
          "font": {
           "color": "#2a3f5f"
          },
          "geo": {
           "bgcolor": "white",
           "lakecolor": "white",
           "landcolor": "#E5ECF6",
           "showlakes": true,
           "showland": true,
           "subunitcolor": "white"
          },
          "hoverlabel": {
           "align": "left"
          },
          "hovermode": "closest",
          "mapbox": {
           "style": "light"
          },
          "paper_bgcolor": "white",
          "plot_bgcolor": "#E5ECF6",
          "polar": {
           "angularaxis": {
            "gridcolor": "white",
            "linecolor": "white",
            "ticks": ""
           },
           "bgcolor": "#E5ECF6",
           "radialaxis": {
            "gridcolor": "white",
            "linecolor": "white",
            "ticks": ""
           }
          },
          "scene": {
           "xaxis": {
            "backgroundcolor": "#E5ECF6",
            "gridcolor": "white",
            "gridwidth": 2,
            "linecolor": "white",
            "showbackground": true,
            "ticks": "",
            "zerolinecolor": "white"
           },
           "yaxis": {
            "backgroundcolor": "#E5ECF6",
            "gridcolor": "white",
            "gridwidth": 2,
            "linecolor": "white",
            "showbackground": true,
            "ticks": "",
            "zerolinecolor": "white"
           },
           "zaxis": {
            "backgroundcolor": "#E5ECF6",
            "gridcolor": "white",
            "gridwidth": 2,
            "linecolor": "white",
            "showbackground": true,
            "ticks": "",
            "zerolinecolor": "white"
           }
          },
          "shapedefaults": {
           "line": {
            "color": "#2a3f5f"
           }
          },
          "ternary": {
           "aaxis": {
            "gridcolor": "white",
            "linecolor": "white",
            "ticks": ""
           },
           "baxis": {
            "gridcolor": "white",
            "linecolor": "white",
            "ticks": ""
           },
           "bgcolor": "#E5ECF6",
           "caxis": {
            "gridcolor": "white",
            "linecolor": "white",
            "ticks": ""
           }
          },
          "title": {
           "x": 0.05
          },
          "xaxis": {
           "automargin": true,
           "gridcolor": "white",
           "linecolor": "white",
           "ticks": "",
           "title": {
            "standoff": 15
           },
           "zerolinecolor": "white",
           "zerolinewidth": 2
          },
          "yaxis": {
           "automargin": true,
           "gridcolor": "white",
           "linecolor": "white",
           "ticks": "",
           "title": {
            "standoff": 15
           },
           "zerolinecolor": "white",
           "zerolinewidth": 2
          }
         }
        }
       }
      }
     },
     "metadata": {},
     "output_type": "display_data"
    }
   ],
   "source": [
    "px.pie(data_frame=population_for_countinents , names='continent' , values='population')"
   ]
  },
  {
   "cell_type": "code",
   "execution_count": 100,
   "metadata": {},
   "outputs": [
    {
     "data": {
      "application/vnd.plotly.v1+json": {
       "config": {
        "plotlyServerURL": "https://plot.ly"
       },
       "data": [
        {
         "hovertemplate": "continent=Africa<br>year=%{x}<br>population=%{y}<extra></extra>",
         "legendgroup": "Africa",
         "line": {
          "color": "#636efa",
          "dash": "solid"
         },
         "marker": {
          "symbol": "circle"
         },
         "mode": "lines",
         "name": "Africa",
         "orientation": "v",
         "showlegend": true,
         "type": "scatter",
         "x": [
          1952,
          1957,
          1962,
          1967,
          1972,
          1977,
          1982,
          1987,
          1992,
          1997,
          2002,
          2007
         ],
         "xaxis": "x",
         "y": [
          237640501,
          264837738,
          296516865,
          335289489,
          379879541,
          433061021,
          499348587,
          574834110,
          659081517,
          743832984,
          833723916,
          929539692
         ],
         "yaxis": "y"
        },
        {
         "hovertemplate": "continent=Asia<br>year=%{x}<br>population=%{y}<extra></extra>",
         "legendgroup": "Asia",
         "line": {
          "color": "#EF553B",
          "dash": "solid"
         },
         "marker": {
          "symbol": "circle"
         },
         "mode": "lines",
         "name": "Asia",
         "orientation": "v",
         "showlegend": true,
         "type": "scatter",
         "x": [
          1952,
          1957,
          1962,
          1967,
          1972,
          1977,
          1982,
          1987,
          1992,
          1997,
          2002,
          2007
         ],
         "xaxis": "x",
         "y": [
          1393736437,
          1560836198,
          1694046278,
          1902969315,
          2147876355,
          2381017638,
          2606277161,
          2867017614,
          3128355641,
          3377754113,
          3595772674,
          3805527148
         ],
         "yaxis": "y"
        },
        {
         "hovertemplate": "continent=Europe<br>year=%{x}<br>population=%{y}<extra></extra>",
         "legendgroup": "Europe",
         "line": {
          "color": "#00cc96",
          "dash": "solid"
         },
         "marker": {
          "symbol": "circle"
         },
         "mode": "lines",
         "name": "Europe",
         "orientation": "v",
         "showlegend": true,
         "type": "scatter",
         "x": [
          1952,
          1957,
          1962,
          1967,
          1972,
          1977,
          1982,
          1987,
          1992,
          1997,
          2002,
          2007
         ],
         "xaxis": "x",
         "y": [
          418120846,
          437890351,
          460355155,
          481178958,
          500635059,
          517164531,
          531266901,
          543094160,
          558142797,
          568944148,
          578223869,
          586098529
         ],
         "yaxis": "y"
        },
        {
         "hovertemplate": "continent=Americas<br>year=%{x}<br>population=%{y}<extra></extra>",
         "legendgroup": "Americas",
         "line": {
          "color": "#ab63fa",
          "dash": "solid"
         },
         "marker": {
          "symbol": "circle"
         },
         "mode": "lines",
         "name": "Americas",
         "orientation": "v",
         "showlegend": true,
         "type": "scatter",
         "x": [
          1952,
          1957,
          1962,
          1967,
          1972,
          1977,
          1982,
          1987,
          1992,
          1997,
          2002,
          2007
         ],
         "xaxis": "x",
         "y": [
          345152446,
          386953916,
          433270254,
          480746623,
          529384210,
          578067699,
          630290920,
          682753971,
          739274104,
          796900410,
          849772762,
          898871184
         ],
         "yaxis": "y"
        },
        {
         "hovertemplate": "continent=Oceania<br>year=%{x}<br>population=%{y}<extra></extra>",
         "legendgroup": "Oceania",
         "line": {
          "color": "#FFA15A",
          "dash": "solid"
         },
         "marker": {
          "symbol": "circle"
         },
         "mode": "lines",
         "name": "Oceania",
         "orientation": "v",
         "showlegend": true,
         "type": "scatter",
         "x": [
          1952,
          1957,
          1962,
          1967,
          1972,
          1977,
          1982,
          1987,
          1992,
          1997,
          2002,
          2007
         ],
         "xaxis": "x",
         "y": [
          10686006,
          11941976,
          13283518,
          14600414,
          16106100,
          17239000,
          18394850,
          19574415,
          20919651,
          22241430,
          23454829,
          24549947
         ],
         "yaxis": "y"
        }
       ],
       "layout": {
        "legend": {
         "title": {
          "text": "continent"
         },
         "tracegroupgap": 0
        },
        "template": {
         "data": {
          "bar": [
           {
            "error_x": {
             "color": "#2a3f5f"
            },
            "error_y": {
             "color": "#2a3f5f"
            },
            "marker": {
             "line": {
              "color": "#E5ECF6",
              "width": 0.5
             },
             "pattern": {
              "fillmode": "overlay",
              "size": 10,
              "solidity": 0.2
             }
            },
            "type": "bar"
           }
          ],
          "barpolar": [
           {
            "marker": {
             "line": {
              "color": "#E5ECF6",
              "width": 0.5
             },
             "pattern": {
              "fillmode": "overlay",
              "size": 10,
              "solidity": 0.2
             }
            },
            "type": "barpolar"
           }
          ],
          "carpet": [
           {
            "aaxis": {
             "endlinecolor": "#2a3f5f",
             "gridcolor": "white",
             "linecolor": "white",
             "minorgridcolor": "white",
             "startlinecolor": "#2a3f5f"
            },
            "baxis": {
             "endlinecolor": "#2a3f5f",
             "gridcolor": "white",
             "linecolor": "white",
             "minorgridcolor": "white",
             "startlinecolor": "#2a3f5f"
            },
            "type": "carpet"
           }
          ],
          "choropleth": [
           {
            "colorbar": {
             "outlinewidth": 0,
             "ticks": ""
            },
            "type": "choropleth"
           }
          ],
          "contour": [
           {
            "colorbar": {
             "outlinewidth": 0,
             "ticks": ""
            },
            "colorscale": [
             [
              0,
              "#0d0887"
             ],
             [
              0.1111111111111111,
              "#46039f"
             ],
             [
              0.2222222222222222,
              "#7201a8"
             ],
             [
              0.3333333333333333,
              "#9c179e"
             ],
             [
              0.4444444444444444,
              "#bd3786"
             ],
             [
              0.5555555555555556,
              "#d8576b"
             ],
             [
              0.6666666666666666,
              "#ed7953"
             ],
             [
              0.7777777777777778,
              "#fb9f3a"
             ],
             [
              0.8888888888888888,
              "#fdca26"
             ],
             [
              1,
              "#f0f921"
             ]
            ],
            "type": "contour"
           }
          ],
          "contourcarpet": [
           {
            "colorbar": {
             "outlinewidth": 0,
             "ticks": ""
            },
            "type": "contourcarpet"
           }
          ],
          "heatmap": [
           {
            "colorbar": {
             "outlinewidth": 0,
             "ticks": ""
            },
            "colorscale": [
             [
              0,
              "#0d0887"
             ],
             [
              0.1111111111111111,
              "#46039f"
             ],
             [
              0.2222222222222222,
              "#7201a8"
             ],
             [
              0.3333333333333333,
              "#9c179e"
             ],
             [
              0.4444444444444444,
              "#bd3786"
             ],
             [
              0.5555555555555556,
              "#d8576b"
             ],
             [
              0.6666666666666666,
              "#ed7953"
             ],
             [
              0.7777777777777778,
              "#fb9f3a"
             ],
             [
              0.8888888888888888,
              "#fdca26"
             ],
             [
              1,
              "#f0f921"
             ]
            ],
            "type": "heatmap"
           }
          ],
          "heatmapgl": [
           {
            "colorbar": {
             "outlinewidth": 0,
             "ticks": ""
            },
            "colorscale": [
             [
              0,
              "#0d0887"
             ],
             [
              0.1111111111111111,
              "#46039f"
             ],
             [
              0.2222222222222222,
              "#7201a8"
             ],
             [
              0.3333333333333333,
              "#9c179e"
             ],
             [
              0.4444444444444444,
              "#bd3786"
             ],
             [
              0.5555555555555556,
              "#d8576b"
             ],
             [
              0.6666666666666666,
              "#ed7953"
             ],
             [
              0.7777777777777778,
              "#fb9f3a"
             ],
             [
              0.8888888888888888,
              "#fdca26"
             ],
             [
              1,
              "#f0f921"
             ]
            ],
            "type": "heatmapgl"
           }
          ],
          "histogram": [
           {
            "marker": {
             "pattern": {
              "fillmode": "overlay",
              "size": 10,
              "solidity": 0.2
             }
            },
            "type": "histogram"
           }
          ],
          "histogram2d": [
           {
            "colorbar": {
             "outlinewidth": 0,
             "ticks": ""
            },
            "colorscale": [
             [
              0,
              "#0d0887"
             ],
             [
              0.1111111111111111,
              "#46039f"
             ],
             [
              0.2222222222222222,
              "#7201a8"
             ],
             [
              0.3333333333333333,
              "#9c179e"
             ],
             [
              0.4444444444444444,
              "#bd3786"
             ],
             [
              0.5555555555555556,
              "#d8576b"
             ],
             [
              0.6666666666666666,
              "#ed7953"
             ],
             [
              0.7777777777777778,
              "#fb9f3a"
             ],
             [
              0.8888888888888888,
              "#fdca26"
             ],
             [
              1,
              "#f0f921"
             ]
            ],
            "type": "histogram2d"
           }
          ],
          "histogram2dcontour": [
           {
            "colorbar": {
             "outlinewidth": 0,
             "ticks": ""
            },
            "colorscale": [
             [
              0,
              "#0d0887"
             ],
             [
              0.1111111111111111,
              "#46039f"
             ],
             [
              0.2222222222222222,
              "#7201a8"
             ],
             [
              0.3333333333333333,
              "#9c179e"
             ],
             [
              0.4444444444444444,
              "#bd3786"
             ],
             [
              0.5555555555555556,
              "#d8576b"
             ],
             [
              0.6666666666666666,
              "#ed7953"
             ],
             [
              0.7777777777777778,
              "#fb9f3a"
             ],
             [
              0.8888888888888888,
              "#fdca26"
             ],
             [
              1,
              "#f0f921"
             ]
            ],
            "type": "histogram2dcontour"
           }
          ],
          "mesh3d": [
           {
            "colorbar": {
             "outlinewidth": 0,
             "ticks": ""
            },
            "type": "mesh3d"
           }
          ],
          "parcoords": [
           {
            "line": {
             "colorbar": {
              "outlinewidth": 0,
              "ticks": ""
             }
            },
            "type": "parcoords"
           }
          ],
          "pie": [
           {
            "automargin": true,
            "type": "pie"
           }
          ],
          "scatter": [
           {
            "fillpattern": {
             "fillmode": "overlay",
             "size": 10,
             "solidity": 0.2
            },
            "type": "scatter"
           }
          ],
          "scatter3d": [
           {
            "line": {
             "colorbar": {
              "outlinewidth": 0,
              "ticks": ""
             }
            },
            "marker": {
             "colorbar": {
              "outlinewidth": 0,
              "ticks": ""
             }
            },
            "type": "scatter3d"
           }
          ],
          "scattercarpet": [
           {
            "marker": {
             "colorbar": {
              "outlinewidth": 0,
              "ticks": ""
             }
            },
            "type": "scattercarpet"
           }
          ],
          "scattergeo": [
           {
            "marker": {
             "colorbar": {
              "outlinewidth": 0,
              "ticks": ""
             }
            },
            "type": "scattergeo"
           }
          ],
          "scattergl": [
           {
            "marker": {
             "colorbar": {
              "outlinewidth": 0,
              "ticks": ""
             }
            },
            "type": "scattergl"
           }
          ],
          "scattermapbox": [
           {
            "marker": {
             "colorbar": {
              "outlinewidth": 0,
              "ticks": ""
             }
            },
            "type": "scattermapbox"
           }
          ],
          "scatterpolar": [
           {
            "marker": {
             "colorbar": {
              "outlinewidth": 0,
              "ticks": ""
             }
            },
            "type": "scatterpolar"
           }
          ],
          "scatterpolargl": [
           {
            "marker": {
             "colorbar": {
              "outlinewidth": 0,
              "ticks": ""
             }
            },
            "type": "scatterpolargl"
           }
          ],
          "scatterternary": [
           {
            "marker": {
             "colorbar": {
              "outlinewidth": 0,
              "ticks": ""
             }
            },
            "type": "scatterternary"
           }
          ],
          "surface": [
           {
            "colorbar": {
             "outlinewidth": 0,
             "ticks": ""
            },
            "colorscale": [
             [
              0,
              "#0d0887"
             ],
             [
              0.1111111111111111,
              "#46039f"
             ],
             [
              0.2222222222222222,
              "#7201a8"
             ],
             [
              0.3333333333333333,
              "#9c179e"
             ],
             [
              0.4444444444444444,
              "#bd3786"
             ],
             [
              0.5555555555555556,
              "#d8576b"
             ],
             [
              0.6666666666666666,
              "#ed7953"
             ],
             [
              0.7777777777777778,
              "#fb9f3a"
             ],
             [
              0.8888888888888888,
              "#fdca26"
             ],
             [
              1,
              "#f0f921"
             ]
            ],
            "type": "surface"
           }
          ],
          "table": [
           {
            "cells": {
             "fill": {
              "color": "#EBF0F8"
             },
             "line": {
              "color": "white"
             }
            },
            "header": {
             "fill": {
              "color": "#C8D4E3"
             },
             "line": {
              "color": "white"
             }
            },
            "type": "table"
           }
          ]
         },
         "layout": {
          "annotationdefaults": {
           "arrowcolor": "#2a3f5f",
           "arrowhead": 0,
           "arrowwidth": 1
          },
          "autotypenumbers": "strict",
          "coloraxis": {
           "colorbar": {
            "outlinewidth": 0,
            "ticks": ""
           }
          },
          "colorscale": {
           "diverging": [
            [
             0,
             "#8e0152"
            ],
            [
             0.1,
             "#c51b7d"
            ],
            [
             0.2,
             "#de77ae"
            ],
            [
             0.3,
             "#f1b6da"
            ],
            [
             0.4,
             "#fde0ef"
            ],
            [
             0.5,
             "#f7f7f7"
            ],
            [
             0.6,
             "#e6f5d0"
            ],
            [
             0.7,
             "#b8e186"
            ],
            [
             0.8,
             "#7fbc41"
            ],
            [
             0.9,
             "#4d9221"
            ],
            [
             1,
             "#276419"
            ]
           ],
           "sequential": [
            [
             0,
             "#0d0887"
            ],
            [
             0.1111111111111111,
             "#46039f"
            ],
            [
             0.2222222222222222,
             "#7201a8"
            ],
            [
             0.3333333333333333,
             "#9c179e"
            ],
            [
             0.4444444444444444,
             "#bd3786"
            ],
            [
             0.5555555555555556,
             "#d8576b"
            ],
            [
             0.6666666666666666,
             "#ed7953"
            ],
            [
             0.7777777777777778,
             "#fb9f3a"
            ],
            [
             0.8888888888888888,
             "#fdca26"
            ],
            [
             1,
             "#f0f921"
            ]
           ],
           "sequentialminus": [
            [
             0,
             "#0d0887"
            ],
            [
             0.1111111111111111,
             "#46039f"
            ],
            [
             0.2222222222222222,
             "#7201a8"
            ],
            [
             0.3333333333333333,
             "#9c179e"
            ],
            [
             0.4444444444444444,
             "#bd3786"
            ],
            [
             0.5555555555555556,
             "#d8576b"
            ],
            [
             0.6666666666666666,
             "#ed7953"
            ],
            [
             0.7777777777777778,
             "#fb9f3a"
            ],
            [
             0.8888888888888888,
             "#fdca26"
            ],
            [
             1,
             "#f0f921"
            ]
           ]
          },
          "colorway": [
           "#636efa",
           "#EF553B",
           "#00cc96",
           "#ab63fa",
           "#FFA15A",
           "#19d3f3",
           "#FF6692",
           "#B6E880",
           "#FF97FF",
           "#FECB52"
          ],
          "font": {
           "color": "#2a3f5f"
          },
          "geo": {
           "bgcolor": "white",
           "lakecolor": "white",
           "landcolor": "#E5ECF6",
           "showlakes": true,
           "showland": true,
           "subunitcolor": "white"
          },
          "hoverlabel": {
           "align": "left"
          },
          "hovermode": "closest",
          "mapbox": {
           "style": "light"
          },
          "paper_bgcolor": "white",
          "plot_bgcolor": "#E5ECF6",
          "polar": {
           "angularaxis": {
            "gridcolor": "white",
            "linecolor": "white",
            "ticks": ""
           },
           "bgcolor": "#E5ECF6",
           "radialaxis": {
            "gridcolor": "white",
            "linecolor": "white",
            "ticks": ""
           }
          },
          "scene": {
           "xaxis": {
            "backgroundcolor": "#E5ECF6",
            "gridcolor": "white",
            "gridwidth": 2,
            "linecolor": "white",
            "showbackground": true,
            "ticks": "",
            "zerolinecolor": "white"
           },
           "yaxis": {
            "backgroundcolor": "#E5ECF6",
            "gridcolor": "white",
            "gridwidth": 2,
            "linecolor": "white",
            "showbackground": true,
            "ticks": "",
            "zerolinecolor": "white"
           },
           "zaxis": {
            "backgroundcolor": "#E5ECF6",
            "gridcolor": "white",
            "gridwidth": 2,
            "linecolor": "white",
            "showbackground": true,
            "ticks": "",
            "zerolinecolor": "white"
           }
          },
          "shapedefaults": {
           "line": {
            "color": "#2a3f5f"
           }
          },
          "ternary": {
           "aaxis": {
            "gridcolor": "white",
            "linecolor": "white",
            "ticks": ""
           },
           "baxis": {
            "gridcolor": "white",
            "linecolor": "white",
            "ticks": ""
           },
           "bgcolor": "#E5ECF6",
           "caxis": {
            "gridcolor": "white",
            "linecolor": "white",
            "ticks": ""
           }
          },
          "title": {
           "x": 0.05
          },
          "xaxis": {
           "automargin": true,
           "gridcolor": "white",
           "linecolor": "white",
           "ticks": "",
           "title": {
            "standoff": 15
           },
           "zerolinecolor": "white",
           "zerolinewidth": 2
          },
          "yaxis": {
           "automargin": true,
           "gridcolor": "white",
           "linecolor": "white",
           "ticks": "",
           "title": {
            "standoff": 15
           },
           "zerolinecolor": "white",
           "zerolinewidth": 2
          }
         }
        },
        "title": {
         "text": " Population for Each Continent Over Time"
        },
        "xaxis": {
         "anchor": "y",
         "domain": [
          0,
          1
         ],
         "title": {
          "text": "year"
         }
        },
        "yaxis": {
         "anchor": "x",
         "domain": [
          0,
          1
         ],
         "title": {
          "text": "population"
         }
        }
       }
      }
     },
     "metadata": {},
     "output_type": "display_data"
    }
   ],
   "source": [
    "fig = px.line(data_frame=population_for_countinents, \n",
    "            x='year',\n",
    "            y='population',\n",
    "            color='continent',\n",
    "            title=' Population for Each Continent Over Time')\n",
    "fig.show()"
   ]
  },
  {
   "cell_type": "markdown",
   "metadata": {},
   "source": [
    "grouping all informations foreach country from 1952 to 2007"
   ]
  },
  {
   "cell_type": "code",
   "execution_count": 101,
   "metadata": {},
   "outputs": [
    {
     "data": {
      "text/html": [
       "<div>\n",
       "<style scoped>\n",
       "    .dataframe tbody tr th:only-of-type {\n",
       "        vertical-align: middle;\n",
       "    }\n",
       "\n",
       "    .dataframe tbody tr th {\n",
       "        vertical-align: top;\n",
       "    }\n",
       "\n",
       "    .dataframe thead th {\n",
       "        text-align: right;\n",
       "    }\n",
       "</style>\n",
       "<table border=\"1\" class=\"dataframe\">\n",
       "  <thead>\n",
       "    <tr style=\"text-align: right;\">\n",
       "      <th></th>\n",
       "      <th>country</th>\n",
       "      <th>population</th>\n",
       "      <th>life_exp</th>\n",
       "      <th>gdp_cap</th>\n",
       "    </tr>\n",
       "  </thead>\n",
       "  <tbody>\n",
       "    <tr>\n",
       "      <th>0</th>\n",
       "      <td>Afghanistan</td>\n",
       "      <td>15,823,715.42</td>\n",
       "      <td>37.48</td>\n",
       "      <td>802.67</td>\n",
       "    </tr>\n",
       "    <tr>\n",
       "      <th>1</th>\n",
       "      <td>Albania</td>\n",
       "      <td>2,580,249.17</td>\n",
       "      <td>68.43</td>\n",
       "      <td>3,255.37</td>\n",
       "    </tr>\n",
       "    <tr>\n",
       "      <th>2</th>\n",
       "      <td>Algeria</td>\n",
       "      <td>19,875,406.17</td>\n",
       "      <td>59.03</td>\n",
       "      <td>4,426.03</td>\n",
       "    </tr>\n",
       "    <tr>\n",
       "      <th>3</th>\n",
       "      <td>Angola</td>\n",
       "      <td>7,309,390.08</td>\n",
       "      <td>37.88</td>\n",
       "      <td>3,607.10</td>\n",
       "    </tr>\n",
       "    <tr>\n",
       "      <th>4</th>\n",
       "      <td>Argentina</td>\n",
       "      <td>28,602,239.92</td>\n",
       "      <td>69.06</td>\n",
       "      <td>8,955.55</td>\n",
       "    </tr>\n",
       "    <tr>\n",
       "      <th>5</th>\n",
       "      <td>Australia</td>\n",
       "      <td>14,649,312.50</td>\n",
       "      <td>74.66</td>\n",
       "      <td>19,980.60</td>\n",
       "    </tr>\n",
       "    <tr>\n",
       "      <th>6</th>\n",
       "      <td>Austria</td>\n",
       "      <td>7,583,298.42</td>\n",
       "      <td>73.10</td>\n",
       "      <td>20,411.92</td>\n",
       "    </tr>\n",
       "    <tr>\n",
       "      <th>7</th>\n",
       "      <td>Bahrain</td>\n",
       "      <td>373,913.17</td>\n",
       "      <td>65.61</td>\n",
       "      <td>18,077.66</td>\n",
       "    </tr>\n",
       "    <tr>\n",
       "      <th>8</th>\n",
       "      <td>Bangladesh</td>\n",
       "      <td>90,755,395.33</td>\n",
       "      <td>49.83</td>\n",
       "      <td>817.56</td>\n",
       "    </tr>\n",
       "    <tr>\n",
       "      <th>9</th>\n",
       "      <td>Belgium</td>\n",
       "      <td>9,725,118.67</td>\n",
       "      <td>73.64</td>\n",
       "      <td>19,900.76</td>\n",
       "    </tr>\n",
       "    <tr>\n",
       "      <th>10</th>\n",
       "      <td>Benin</td>\n",
       "      <td>4,017,496.67</td>\n",
       "      <td>48.78</td>\n",
       "      <td>1,155.40</td>\n",
       "    </tr>\n",
       "    <tr>\n",
       "      <th>11</th>\n",
       "      <td>Bolivia</td>\n",
       "      <td>5,610,395.17</td>\n",
       "      <td>52.50</td>\n",
       "      <td>2,961.23</td>\n",
       "    </tr>\n",
       "    <tr>\n",
       "      <th>12</th>\n",
       "      <td>Bosnia and Herzegovina</td>\n",
       "      <td>3,816,524.75</td>\n",
       "      <td>67.71</td>\n",
       "      <td>3,484.78</td>\n",
       "    </tr>\n",
       "    <tr>\n",
       "      <th>13</th>\n",
       "      <td>Botswana</td>\n",
       "      <td>971,186.17</td>\n",
       "      <td>54.60</td>\n",
       "      <td>5,031.50</td>\n",
       "    </tr>\n",
       "    <tr>\n",
       "      <th>14</th>\n",
       "      <td>Brazil</td>\n",
       "      <td>122,312,126.67</td>\n",
       "      <td>62.24</td>\n",
       "      <td>5,829.32</td>\n",
       "    </tr>\n",
       "    <tr>\n",
       "      <th>15</th>\n",
       "      <td>Bulgaria</td>\n",
       "      <td>8,182,985.33</td>\n",
       "      <td>69.74</td>\n",
       "      <td>6,384.06</td>\n",
       "    </tr>\n",
       "    <tr>\n",
       "      <th>16</th>\n",
       "      <td>Burkina Faso</td>\n",
       "      <td>7,548,677.25</td>\n",
       "      <td>44.69</td>\n",
       "      <td>843.99</td>\n",
       "    </tr>\n",
       "    <tr>\n",
       "      <th>17</th>\n",
       "      <td>Burundi</td>\n",
       "      <td>4,651,608.33</td>\n",
       "      <td>44.82</td>\n",
       "      <td>471.66</td>\n",
       "    </tr>\n",
       "    <tr>\n",
       "      <th>18</th>\n",
       "      <td>Cambodia</td>\n",
       "      <td>8,510,430.67</td>\n",
       "      <td>47.90</td>\n",
       "      <td>675.37</td>\n",
       "    </tr>\n",
       "    <tr>\n",
       "      <th>19</th>\n",
       "      <td>Cameroon</td>\n",
       "      <td>9,816,648.42</td>\n",
       "      <td>48.13</td>\n",
       "      <td>1,774.63</td>\n",
       "    </tr>\n",
       "    <tr>\n",
       "      <th>20</th>\n",
       "      <td>Canada</td>\n",
       "      <td>24,462,967.33</td>\n",
       "      <td>74.90</td>\n",
       "      <td>22,410.75</td>\n",
       "    </tr>\n",
       "    <tr>\n",
       "      <th>21</th>\n",
       "      <td>Central African Republic</td>\n",
       "      <td>2,560,963.00</td>\n",
       "      <td>43.87</td>\n",
       "      <td>958.78</td>\n",
       "    </tr>\n",
       "    <tr>\n",
       "      <th>22</th>\n",
       "      <td>Chad</td>\n",
       "      <td>5,329,256.33</td>\n",
       "      <td>46.77</td>\n",
       "      <td>1,165.45</td>\n",
       "    </tr>\n",
       "    <tr>\n",
       "      <th>23</th>\n",
       "      <td>Chile</td>\n",
       "      <td>11,205,725.33</td>\n",
       "      <td>67.43</td>\n",
       "      <td>6,703.29</td>\n",
       "    </tr>\n",
       "    <tr>\n",
       "      <th>24</th>\n",
       "      <td>China</td>\n",
       "      <td>958,160,051.92</td>\n",
       "      <td>61.79</td>\n",
       "      <td>1,488.31</td>\n",
       "    </tr>\n",
       "    <tr>\n",
       "      <th>25</th>\n",
       "      <td>Colombia</td>\n",
       "      <td>27,256,099.58</td>\n",
       "      <td>63.90</td>\n",
       "      <td>4,195.34</td>\n",
       "    </tr>\n",
       "    <tr>\n",
       "      <th>26</th>\n",
       "      <td>Comoros</td>\n",
       "      <td>361,683.92</td>\n",
       "      <td>52.38</td>\n",
       "      <td>1,314.38</td>\n",
       "    </tr>\n",
       "    <tr>\n",
       "      <th>27</th>\n",
       "      <td>Congo, Dem. Rep.</td>\n",
       "      <td>32,681,655.25</td>\n",
       "      <td>44.54</td>\n",
       "      <td>648.34</td>\n",
       "    </tr>\n",
       "    <tr>\n",
       "      <th>28</th>\n",
       "      <td>Congo, Rep.</td>\n",
       "      <td>1,923,209.08</td>\n",
       "      <td>52.50</td>\n",
       "      <td>3,312.79</td>\n",
       "    </tr>\n",
       "    <tr>\n",
       "      <th>29</th>\n",
       "      <td>Costa Rica</td>\n",
       "      <td>2,400,007.75</td>\n",
       "      <td>70.18</td>\n",
       "      <td>5,448.61</td>\n",
       "    </tr>\n",
       "    <tr>\n",
       "      <th>30</th>\n",
       "      <td>Cote d'Ivoire</td>\n",
       "      <td>9,153,109.50</td>\n",
       "      <td>48.44</td>\n",
       "      <td>1,912.83</td>\n",
       "    </tr>\n",
       "    <tr>\n",
       "      <th>31</th>\n",
       "      <td>Croatia</td>\n",
       "      <td>4,289,916.25</td>\n",
       "      <td>70.06</td>\n",
       "      <td>9,331.71</td>\n",
       "    </tr>\n",
       "    <tr>\n",
       "      <th>32</th>\n",
       "      <td>Cuba</td>\n",
       "      <td>9,232,575.50</td>\n",
       "      <td>71.05</td>\n",
       "      <td>6,283.26</td>\n",
       "    </tr>\n",
       "    <tr>\n",
       "      <th>33</th>\n",
       "      <td>Czech Republic</td>\n",
       "      <td>9,986,262.83</td>\n",
       "      <td>71.51</td>\n",
       "      <td>13,920.01</td>\n",
       "    </tr>\n",
       "    <tr>\n",
       "      <th>34</th>\n",
       "      <td>Denmark</td>\n",
       "      <td>4,994,187.33</td>\n",
       "      <td>74.37</td>\n",
       "      <td>21,671.82</td>\n",
       "    </tr>\n",
       "    <tr>\n",
       "      <th>35</th>\n",
       "      <td>Djibouti</td>\n",
       "      <td>260,243.92</td>\n",
       "      <td>46.38</td>\n",
       "      <td>2,697.83</td>\n",
       "    </tr>\n",
       "    <tr>\n",
       "      <th>36</th>\n",
       "      <td>Dominican Republic</td>\n",
       "      <td>5,735,697.42</td>\n",
       "      <td>61.55</td>\n",
       "      <td>2,844.86</td>\n",
       "    </tr>\n",
       "    <tr>\n",
       "      <th>37</th>\n",
       "      <td>Ecuador</td>\n",
       "      <td>8,212,243.42</td>\n",
       "      <td>62.82</td>\n",
       "      <td>5,733.62</td>\n",
       "    </tr>\n",
       "    <tr>\n",
       "      <th>38</th>\n",
       "      <td>Egypt</td>\n",
       "      <td>46,522,774.25</td>\n",
       "      <td>56.24</td>\n",
       "      <td>3,074.03</td>\n",
       "    </tr>\n",
       "    <tr>\n",
       "      <th>39</th>\n",
       "      <td>El Salvador</td>\n",
       "      <td>4,343,441.42</td>\n",
       "      <td>59.63</td>\n",
       "      <td>4,431.85</td>\n",
       "    </tr>\n",
       "    <tr>\n",
       "      <th>40</th>\n",
       "      <td>Equatorial Guinea</td>\n",
       "      <td>327,551.00</td>\n",
       "      <td>42.96</td>\n",
       "      <td>2,469.17</td>\n",
       "    </tr>\n",
       "    <tr>\n",
       "      <th>41</th>\n",
       "      <td>Eritrea</td>\n",
       "      <td>2,820,216.83</td>\n",
       "      <td>46.00</td>\n",
       "      <td>541.00</td>\n",
       "    </tr>\n",
       "    <tr>\n",
       "      <th>42</th>\n",
       "      <td>Ethiopia</td>\n",
       "      <td>41,632,518.75</td>\n",
       "      <td>44.48</td>\n",
       "      <td>509.12</td>\n",
       "    </tr>\n",
       "    <tr>\n",
       "      <th>43</th>\n",
       "      <td>Finland</td>\n",
       "      <td>4,771,321.00</td>\n",
       "      <td>72.99</td>\n",
       "      <td>17,473.72</td>\n",
       "    </tr>\n",
       "    <tr>\n",
       "      <th>44</th>\n",
       "      <td>France</td>\n",
       "      <td>52,952,564.33</td>\n",
       "      <td>74.35</td>\n",
       "      <td>18,833.57</td>\n",
       "    </tr>\n",
       "    <tr>\n",
       "      <th>45</th>\n",
       "      <td>Gabon</td>\n",
       "      <td>795,415.42</td>\n",
       "      <td>51.22</td>\n",
       "      <td>11,529.87</td>\n",
       "    </tr>\n",
       "    <tr>\n",
       "      <th>46</th>\n",
       "      <td>Gambia</td>\n",
       "      <td>793,138.58</td>\n",
       "      <td>44.40</td>\n",
       "      <td>680.13</td>\n",
       "    </tr>\n",
       "    <tr>\n",
       "      <th>47</th>\n",
       "      <td>Germany</td>\n",
       "      <td>77,547,043.33</td>\n",
       "      <td>73.44</td>\n",
       "      <td>20,556.68</td>\n",
       "    </tr>\n",
       "    <tr>\n",
       "      <th>48</th>\n",
       "      <td>Ghana</td>\n",
       "      <td>12,616,626.42</td>\n",
       "      <td>52.34</td>\n",
       "      <td>1,044.58</td>\n",
       "    </tr>\n",
       "    <tr>\n",
       "      <th>49</th>\n",
       "      <td>Greece</td>\n",
       "      <td>9,424,181.08</td>\n",
       "      <td>73.73</td>\n",
       "      <td>13,969.04</td>\n",
       "    </tr>\n",
       "    <tr>\n",
       "      <th>50</th>\n",
       "      <td>Guatemala</td>\n",
       "      <td>6,858,694.75</td>\n",
       "      <td>56.73</td>\n",
       "      <td>4,015.40</td>\n",
       "    </tr>\n",
       "    <tr>\n",
       "      <th>51</th>\n",
       "      <td>Guinea</td>\n",
       "      <td>5,360,550.67</td>\n",
       "      <td>43.24</td>\n",
       "      <td>776.07</td>\n",
       "    </tr>\n",
       "    <tr>\n",
       "      <th>52</th>\n",
       "      <td>Guinea-Bissau</td>\n",
       "      <td>882,008.42</td>\n",
       "      <td>39.21</td>\n",
       "      <td>652.16</td>\n",
       "    </tr>\n",
       "    <tr>\n",
       "      <th>53</th>\n",
       "      <td>Haiti</td>\n",
       "      <td>5,401,633.75</td>\n",
       "      <td>50.17</td>\n",
       "      <td>1,620.74</td>\n",
       "    </tr>\n",
       "    <tr>\n",
       "      <th>54</th>\n",
       "      <td>Honduras</td>\n",
       "      <td>3,920,593.42</td>\n",
       "      <td>57.92</td>\n",
       "      <td>2,834.41</td>\n",
       "    </tr>\n",
       "    <tr>\n",
       "      <th>55</th>\n",
       "      <td>Hong Kong, China</td>\n",
       "      <td>4,792,259.33</td>\n",
       "      <td>73.49</td>\n",
       "      <td>16,228.70</td>\n",
       "    </tr>\n",
       "    <tr>\n",
       "      <th>56</th>\n",
       "      <td>Hungary</td>\n",
       "      <td>10,217,645.67</td>\n",
       "      <td>69.39</td>\n",
       "      <td>10,888.18</td>\n",
       "    </tr>\n",
       "    <tr>\n",
       "      <th>57</th>\n",
       "      <td>Iceland</td>\n",
       "      <td>226,978.08</td>\n",
       "      <td>76.51</td>\n",
       "      <td>20,531.42</td>\n",
       "    </tr>\n",
       "    <tr>\n",
       "      <th>58</th>\n",
       "      <td>India</td>\n",
       "      <td>701,130,739.83</td>\n",
       "      <td>53.17</td>\n",
       "      <td>1,057.30</td>\n",
       "    </tr>\n",
       "    <tr>\n",
       "      <th>59</th>\n",
       "      <td>Indonesia</td>\n",
       "      <td>148,322,833.33</td>\n",
       "      <td>54.34</td>\n",
       "      <td>1,741.37</td>\n",
       "    </tr>\n",
       "    <tr>\n",
       "      <th>60</th>\n",
       "      <td>Iran</td>\n",
       "      <td>42,301,706.83</td>\n",
       "      <td>58.64</td>\n",
       "      <td>7,376.58</td>\n",
       "    </tr>\n",
       "    <tr>\n",
       "      <th>61</th>\n",
       "      <td>Iraq</td>\n",
       "      <td>14,187,495.17</td>\n",
       "      <td>56.58</td>\n",
       "      <td>7,811.81</td>\n",
       "    </tr>\n",
       "    <tr>\n",
       "      <th>62</th>\n",
       "      <td>Ireland</td>\n",
       "      <td>3,340,825.92</td>\n",
       "      <td>73.02</td>\n",
       "      <td>15,758.61</td>\n",
       "    </tr>\n",
       "    <tr>\n",
       "      <th>63</th>\n",
       "      <td>Italy</td>\n",
       "      <td>54,536,958.00</td>\n",
       "      <td>74.01</td>\n",
       "      <td>16,245.21</td>\n",
       "    </tr>\n",
       "    <tr>\n",
       "      <th>64</th>\n",
       "      <td>Jamaica</td>\n",
       "      <td>2,135,122.83</td>\n",
       "      <td>68.75</td>\n",
       "      <td>6,197.65</td>\n",
       "    </tr>\n",
       "    <tr>\n",
       "      <th>65</th>\n",
       "      <td>Japan</td>\n",
       "      <td>111,758,808.00</td>\n",
       "      <td>74.83</td>\n",
       "      <td>17,750.87</td>\n",
       "    </tr>\n",
       "    <tr>\n",
       "      <th>66</th>\n",
       "      <td>Jordan</td>\n",
       "      <td>2,667,972.75</td>\n",
       "      <td>59.79</td>\n",
       "      <td>3,128.12</td>\n",
       "    </tr>\n",
       "    <tr>\n",
       "      <th>67</th>\n",
       "      <td>Kenya</td>\n",
       "      <td>18,206,250.17</td>\n",
       "      <td>52.68</td>\n",
       "      <td>1,200.42</td>\n",
       "    </tr>\n",
       "    <tr>\n",
       "      <th>68</th>\n",
       "      <td>Korea, Dem. Rep.</td>\n",
       "      <td>16,453,881.25</td>\n",
       "      <td>63.61</td>\n",
       "      <td>2,591.85</td>\n",
       "    </tr>\n",
       "    <tr>\n",
       "      <th>69</th>\n",
       "      <td>Korea, Rep.</td>\n",
       "      <td>36,499,386.33</td>\n",
       "      <td>65.00</td>\n",
       "      <td>8,217.32</td>\n",
       "    </tr>\n",
       "    <tr>\n",
       "      <th>70</th>\n",
       "      <td>Kuwait</td>\n",
       "      <td>1,206,495.58</td>\n",
       "      <td>68.92</td>\n",
       "      <td>65,332.91</td>\n",
       "    </tr>\n",
       "    <tr>\n",
       "      <th>71</th>\n",
       "      <td>Lebanon</td>\n",
       "      <td>2,781,846.42</td>\n",
       "      <td>65.87</td>\n",
       "      <td>7,269.22</td>\n",
       "    </tr>\n",
       "    <tr>\n",
       "      <th>72</th>\n",
       "      <td>Lesotho</td>\n",
       "      <td>1,389,696.42</td>\n",
       "      <td>50.01</td>\n",
       "      <td>780.55</td>\n",
       "    </tr>\n",
       "    <tr>\n",
       "      <th>73</th>\n",
       "      <td>Liberia</td>\n",
       "      <td>1,813,857.17</td>\n",
       "      <td>42.48</td>\n",
       "      <td>604.81</td>\n",
       "    </tr>\n",
       "    <tr>\n",
       "      <th>74</th>\n",
       "      <td>Libya</td>\n",
       "      <td>3,166,803.58</td>\n",
       "      <td>59.30</td>\n",
       "      <td>12,013.58</td>\n",
       "    </tr>\n",
       "    <tr>\n",
       "      <th>75</th>\n",
       "      <td>Madagascar</td>\n",
       "      <td>9,902,402.17</td>\n",
       "      <td>47.77</td>\n",
       "      <td>1,335.60</td>\n",
       "    </tr>\n",
       "    <tr>\n",
       "      <th>76</th>\n",
       "      <td>Malawi</td>\n",
       "      <td>7,016,377.42</td>\n",
       "      <td>43.35</td>\n",
       "      <td>575.45</td>\n",
       "    </tr>\n",
       "    <tr>\n",
       "      <th>77</th>\n",
       "      <td>Malaysia</td>\n",
       "      <td>14,574,055.33</td>\n",
       "      <td>64.28</td>\n",
       "      <td>5,406.04</td>\n",
       "    </tr>\n",
       "    <tr>\n",
       "      <th>78</th>\n",
       "      <td>Mali</td>\n",
       "      <td>7,112,340.08</td>\n",
       "      <td>43.41</td>\n",
       "      <td>673.09</td>\n",
       "    </tr>\n",
       "    <tr>\n",
       "      <th>79</th>\n",
       "      <td>Mauritania</td>\n",
       "      <td>1,782,723.83</td>\n",
       "      <td>52.30</td>\n",
       "      <td>1,356.67</td>\n",
       "    </tr>\n",
       "    <tr>\n",
       "      <th>80</th>\n",
       "      <td>Mauritius</td>\n",
       "      <td>926,072.25</td>\n",
       "      <td>64.95</td>\n",
       "      <td>4,768.94</td>\n",
       "    </tr>\n",
       "    <tr>\n",
       "      <th>81</th>\n",
       "      <td>Mexico</td>\n",
       "      <td>68,414,297.42</td>\n",
       "      <td>65.41</td>\n",
       "      <td>7,724.11</td>\n",
       "    </tr>\n",
       "    <tr>\n",
       "      <th>82</th>\n",
       "      <td>Mongolia</td>\n",
       "      <td>1,734,850.67</td>\n",
       "      <td>55.89</td>\n",
       "      <td>1,692.80</td>\n",
       "    </tr>\n",
       "    <tr>\n",
       "      <th>83</th>\n",
       "      <td>Montenegro</td>\n",
       "      <td>564,269.67</td>\n",
       "      <td>70.30</td>\n",
       "      <td>7,208.06</td>\n",
       "    </tr>\n",
       "    <tr>\n",
       "      <th>84</th>\n",
       "      <td>Morocco</td>\n",
       "      <td>20,555,741.92</td>\n",
       "      <td>57.61</td>\n",
       "      <td>2,447.91</td>\n",
       "    </tr>\n",
       "    <tr>\n",
       "      <th>85</th>\n",
       "      <td>Mozambique</td>\n",
       "      <td>12,046,695.33</td>\n",
       "      <td>40.38</td>\n",
       "      <td>542.28</td>\n",
       "    </tr>\n",
       "    <tr>\n",
       "      <th>86</th>\n",
       "      <td>Myanmar</td>\n",
       "      <td>33,432,292.50</td>\n",
       "      <td>53.32</td>\n",
       "      <td>439.33</td>\n",
       "    </tr>\n",
       "    <tr>\n",
       "      <th>87</th>\n",
       "      <td>Namibia</td>\n",
       "      <td>1,157,849.75</td>\n",
       "      <td>53.49</td>\n",
       "      <td>3,675.58</td>\n",
       "    </tr>\n",
       "    <tr>\n",
       "      <th>88</th>\n",
       "      <td>Nepal</td>\n",
       "      <td>16,551,744.58</td>\n",
       "      <td>48.99</td>\n",
       "      <td>782.73</td>\n",
       "    </tr>\n",
       "    <tr>\n",
       "      <th>89</th>\n",
       "      <td>Netherlands</td>\n",
       "      <td>13,786,797.92</td>\n",
       "      <td>75.65</td>\n",
       "      <td>21,748.85</td>\n",
       "    </tr>\n",
       "    <tr>\n",
       "      <th>90</th>\n",
       "      <td>New Zealand</td>\n",
       "      <td>3,100,032.17</td>\n",
       "      <td>73.99</td>\n",
       "      <td>17,262.62</td>\n",
       "    </tr>\n",
       "    <tr>\n",
       "      <th>91</th>\n",
       "      <td>Nicaragua</td>\n",
       "      <td>3,040,975.17</td>\n",
       "      <td>58.35</td>\n",
       "      <td>3,424.66</td>\n",
       "    </tr>\n",
       "    <tr>\n",
       "      <th>92</th>\n",
       "      <td>Niger</td>\n",
       "      <td>6,857,373.83</td>\n",
       "      <td>44.56</td>\n",
       "      <td>781.08</td>\n",
       "    </tr>\n",
       "    <tr>\n",
       "      <th>93</th>\n",
       "      <td>Nigeria</td>\n",
       "      <td>73,708,017.83</td>\n",
       "      <td>43.58</td>\n",
       "      <td>1,488.31</td>\n",
       "    </tr>\n",
       "    <tr>\n",
       "      <th>94</th>\n",
       "      <td>Norway</td>\n",
       "      <td>4,031,441.08</td>\n",
       "      <td>75.84</td>\n",
       "      <td>26,747.31</td>\n",
       "    </tr>\n",
       "    <tr>\n",
       "      <th>95</th>\n",
       "      <td>Oman</td>\n",
       "      <td>1,438,205.33</td>\n",
       "      <td>58.44</td>\n",
       "      <td>12,138.56</td>\n",
       "    </tr>\n",
       "    <tr>\n",
       "      <th>96</th>\n",
       "      <td>Pakistan</td>\n",
       "      <td>93,683,385.75</td>\n",
       "      <td>54.88</td>\n",
       "      <td>1,439.27</td>\n",
       "    </tr>\n",
       "    <tr>\n",
       "      <th>97</th>\n",
       "      <td>Panama</td>\n",
       "      <td>1,985,290.25</td>\n",
       "      <td>67.80</td>\n",
       "      <td>5,754.83</td>\n",
       "    </tr>\n",
       "    <tr>\n",
       "      <th>98</th>\n",
       "      <td>Paraguay</td>\n",
       "      <td>3,555,485.92</td>\n",
       "      <td>66.81</td>\n",
       "      <td>3,239.61</td>\n",
       "    </tr>\n",
       "    <tr>\n",
       "      <th>99</th>\n",
       "      <td>Peru</td>\n",
       "      <td>17,559,093.00</td>\n",
       "      <td>58.86</td>\n",
       "      <td>5,613.84</td>\n",
       "    </tr>\n",
       "    <tr>\n",
       "      <th>100</th>\n",
       "      <td>Philippines</td>\n",
       "      <td>52,636,628.58</td>\n",
       "      <td>60.97</td>\n",
       "      <td>2,174.77</td>\n",
       "    </tr>\n",
       "    <tr>\n",
       "      <th>101</th>\n",
       "      <td>Poland</td>\n",
       "      <td>34,323,304.42</td>\n",
       "      <td>70.18</td>\n",
       "      <td>8,416.55</td>\n",
       "    </tr>\n",
       "    <tr>\n",
       "      <th>102</th>\n",
       "      <td>Portugal</td>\n",
       "      <td>9,586,273.92</td>\n",
       "      <td>70.42</td>\n",
       "      <td>11,354.09</td>\n",
       "    </tr>\n",
       "    <tr>\n",
       "      <th>103</th>\n",
       "      <td>Puerto Rico</td>\n",
       "      <td>3,115,178.25</td>\n",
       "      <td>72.74</td>\n",
       "      <td>10,863.16</td>\n",
       "    </tr>\n",
       "    <tr>\n",
       "      <th>104</th>\n",
       "      <td>Reunion</td>\n",
       "      <td>518,497.75</td>\n",
       "      <td>66.64</td>\n",
       "      <td>4,898.40</td>\n",
       "    </tr>\n",
       "    <tr>\n",
       "      <th>105</th>\n",
       "      <td>Romania</td>\n",
       "      <td>20,819,090.17</td>\n",
       "      <td>68.29</td>\n",
       "      <td>7,300.17</td>\n",
       "    </tr>\n",
       "    <tr>\n",
       "      <th>106</th>\n",
       "      <td>Rwanda</td>\n",
       "      <td>5,298,435.67</td>\n",
       "      <td>41.48</td>\n",
       "      <td>675.67</td>\n",
       "    </tr>\n",
       "    <tr>\n",
       "      <th>107</th>\n",
       "      <td>Sao Tome and Principe</td>\n",
       "      <td>105,977.83</td>\n",
       "      <td>57.90</td>\n",
       "      <td>1,382.78</td>\n",
       "    </tr>\n",
       "    <tr>\n",
       "      <th>108</th>\n",
       "      <td>Saudi Arabia</td>\n",
       "      <td>12,478,368.00</td>\n",
       "      <td>58.68</td>\n",
       "      <td>20,261.74</td>\n",
       "    </tr>\n",
       "    <tr>\n",
       "      <th>109</th>\n",
       "      <td>Senegal</td>\n",
       "      <td>6,446,305.42</td>\n",
       "      <td>50.63</td>\n",
       "      <td>1,533.12</td>\n",
       "    </tr>\n",
       "    <tr>\n",
       "      <th>110</th>\n",
       "      <td>Serbia</td>\n",
       "      <td>8,783,886.75</td>\n",
       "      <td>68.55</td>\n",
       "      <td>9,305.05</td>\n",
       "    </tr>\n",
       "    <tr>\n",
       "      <th>111</th>\n",
       "      <td>Sierra Leone</td>\n",
       "      <td>3,605,424.92</td>\n",
       "      <td>36.77</td>\n",
       "      <td>1,072.82</td>\n",
       "    </tr>\n",
       "    <tr>\n",
       "      <th>112</th>\n",
       "      <td>Singapore</td>\n",
       "      <td>2,667,817.42</td>\n",
       "      <td>71.22</td>\n",
       "      <td>17,425.38</td>\n",
       "    </tr>\n",
       "    <tr>\n",
       "      <th>113</th>\n",
       "      <td>Slovak Republic</td>\n",
       "      <td>4,774,507.08</td>\n",
       "      <td>70.70</td>\n",
       "      <td>10,415.53</td>\n",
       "    </tr>\n",
       "    <tr>\n",
       "      <th>114</th>\n",
       "      <td>Slovenia</td>\n",
       "      <td>1,794,381.42</td>\n",
       "      <td>71.60</td>\n",
       "      <td>14,074.58</td>\n",
       "    </tr>\n",
       "    <tr>\n",
       "      <th>115</th>\n",
       "      <td>Somalia</td>\n",
       "      <td>5,197,197.83</td>\n",
       "      <td>40.99</td>\n",
       "      <td>1,140.79</td>\n",
       "    </tr>\n",
       "    <tr>\n",
       "      <th>116</th>\n",
       "      <td>South Africa</td>\n",
       "      <td>29,928,352.17</td>\n",
       "      <td>53.99</td>\n",
       "      <td>7,247.43</td>\n",
       "    </tr>\n",
       "    <tr>\n",
       "      <th>117</th>\n",
       "      <td>Spain</td>\n",
       "      <td>35,851,798.42</td>\n",
       "      <td>74.20</td>\n",
       "      <td>14,029.83</td>\n",
       "    </tr>\n",
       "    <tr>\n",
       "      <th>118</th>\n",
       "      <td>Sri Lanka</td>\n",
       "      <td>14,545,831.75</td>\n",
       "      <td>66.53</td>\n",
       "      <td>1,854.73</td>\n",
       "    </tr>\n",
       "    <tr>\n",
       "      <th>119</th>\n",
       "      <td>Sudan</td>\n",
       "      <td>21,560,331.42</td>\n",
       "      <td>48.40</td>\n",
       "      <td>1,835.01</td>\n",
       "    </tr>\n",
       "    <tr>\n",
       "      <th>120</th>\n",
       "      <td>Swaziland</td>\n",
       "      <td>679,052.00</td>\n",
       "      <td>49.00</td>\n",
       "      <td>3,163.35</td>\n",
       "    </tr>\n",
       "    <tr>\n",
       "      <th>121</th>\n",
       "      <td>Sweden</td>\n",
       "      <td>8,220,028.92</td>\n",
       "      <td>76.18</td>\n",
       "      <td>19,943.13</td>\n",
       "    </tr>\n",
       "    <tr>\n",
       "      <th>122</th>\n",
       "      <td>Switzerland</td>\n",
       "      <td>6,384,293.17</td>\n",
       "      <td>75.57</td>\n",
       "      <td>27,074.33</td>\n",
       "    </tr>\n",
       "    <tr>\n",
       "      <th>123</th>\n",
       "      <td>Syria</td>\n",
       "      <td>9,865,378.75</td>\n",
       "      <td>61.35</td>\n",
       "      <td>3,009.29</td>\n",
       "    </tr>\n",
       "    <tr>\n",
       "      <th>124</th>\n",
       "      <td>Taiwan</td>\n",
       "      <td>16,874,723.92</td>\n",
       "      <td>70.34</td>\n",
       "      <td>10,224.81</td>\n",
       "    </tr>\n",
       "    <tr>\n",
       "      <th>125</th>\n",
       "      <td>Tanzania</td>\n",
       "      <td>20,499,497.67</td>\n",
       "      <td>47.91</td>\n",
       "      <td>849.28</td>\n",
       "    </tr>\n",
       "    <tr>\n",
       "      <th>126</th>\n",
       "      <td>Thailand</td>\n",
       "      <td>44,961,631.17</td>\n",
       "      <td>62.20</td>\n",
       "      <td>3,045.97</td>\n",
       "    </tr>\n",
       "    <tr>\n",
       "      <th>127</th>\n",
       "      <td>Togo</td>\n",
       "      <td>2,895,964.00</td>\n",
       "      <td>51.50</td>\n",
       "      <td>1,153.82</td>\n",
       "    </tr>\n",
       "    <tr>\n",
       "      <th>128</th>\n",
       "      <td>Trinidad and Tobago</td>\n",
       "      <td>1,006,469.67</td>\n",
       "      <td>66.83</td>\n",
       "      <td>7,866.87</td>\n",
       "    </tr>\n",
       "    <tr>\n",
       "      <th>129</th>\n",
       "      <td>Tunisia</td>\n",
       "      <td>6,686,770.25</td>\n",
       "      <td>60.72</td>\n",
       "      <td>3,477.21</td>\n",
       "    </tr>\n",
       "    <tr>\n",
       "      <th>130</th>\n",
       "      <td>Turkey</td>\n",
       "      <td>45,909,008.25</td>\n",
       "      <td>59.70</td>\n",
       "      <td>4,469.45</td>\n",
       "    </tr>\n",
       "    <tr>\n",
       "      <th>131</th>\n",
       "      <td>Uganda</td>\n",
       "      <td>14,361,049.42</td>\n",
       "      <td>47.62</td>\n",
       "      <td>810.38</td>\n",
       "    </tr>\n",
       "    <tr>\n",
       "      <th>132</th>\n",
       "      <td>United Kingdom</td>\n",
       "      <td>56,087,800.67</td>\n",
       "      <td>73.92</td>\n",
       "      <td>19,380.47</td>\n",
       "    </tr>\n",
       "    <tr>\n",
       "      <th>133</th>\n",
       "      <td>United States</td>\n",
       "      <td>228,211,232.50</td>\n",
       "      <td>73.48</td>\n",
       "      <td>26,261.15</td>\n",
       "    </tr>\n",
       "    <tr>\n",
       "      <th>134</th>\n",
       "      <td>Uruguay</td>\n",
       "      <td>2,912,487.17</td>\n",
       "      <td>70.78</td>\n",
       "      <td>7,100.13</td>\n",
       "    </tr>\n",
       "    <tr>\n",
       "      <th>135</th>\n",
       "      <td>Venezuela</td>\n",
       "      <td>15,129,801.33</td>\n",
       "      <td>66.58</td>\n",
       "      <td>10,088.52</td>\n",
       "    </tr>\n",
       "    <tr>\n",
       "      <th>136</th>\n",
       "      <td>Vietnam</td>\n",
       "      <td>54,568,570.92</td>\n",
       "      <td>57.48</td>\n",
       "      <td>1,017.71</td>\n",
       "    </tr>\n",
       "    <tr>\n",
       "      <th>137</th>\n",
       "      <td>West Bank and Gaza</td>\n",
       "      <td>1,848,606.50</td>\n",
       "      <td>60.33</td>\n",
       "      <td>3,760.00</td>\n",
       "    </tr>\n",
       "    <tr>\n",
       "      <th>138</th>\n",
       "      <td>Yemen, Rep.</td>\n",
       "      <td>10,843,191.83</td>\n",
       "      <td>46.78</td>\n",
       "      <td>1,569.27</td>\n",
       "    </tr>\n",
       "    <tr>\n",
       "      <th>139</th>\n",
       "      <td>Zambia</td>\n",
       "      <td>6,353,804.83</td>\n",
       "      <td>46.00</td>\n",
       "      <td>1,358.20</td>\n",
       "    </tr>\n",
       "    <tr>\n",
       "      <th>140</th>\n",
       "      <td>Zimbabwe</td>\n",
       "      <td>7,641,966.08</td>\n",
       "      <td>52.66</td>\n",
       "      <td>635.86</td>\n",
       "    </tr>\n",
       "  </tbody>\n",
       "</table>\n",
       "</div>"
      ],
      "text/plain": [
       "                      country     population  life_exp   gdp_cap\n",
       "0                 Afghanistan  15,823,715.42     37.48    802.67\n",
       "1                     Albania   2,580,249.17     68.43  3,255.37\n",
       "2                     Algeria  19,875,406.17     59.03  4,426.03\n",
       "3                      Angola   7,309,390.08     37.88  3,607.10\n",
       "4                   Argentina  28,602,239.92     69.06  8,955.55\n",
       "5                   Australia  14,649,312.50     74.66 19,980.60\n",
       "6                     Austria   7,583,298.42     73.10 20,411.92\n",
       "7                     Bahrain     373,913.17     65.61 18,077.66\n",
       "8                  Bangladesh  90,755,395.33     49.83    817.56\n",
       "9                     Belgium   9,725,118.67     73.64 19,900.76\n",
       "10                      Benin   4,017,496.67     48.78  1,155.40\n",
       "11                    Bolivia   5,610,395.17     52.50  2,961.23\n",
       "12     Bosnia and Herzegovina   3,816,524.75     67.71  3,484.78\n",
       "13                   Botswana     971,186.17     54.60  5,031.50\n",
       "14                     Brazil 122,312,126.67     62.24  5,829.32\n",
       "15                   Bulgaria   8,182,985.33     69.74  6,384.06\n",
       "16               Burkina Faso   7,548,677.25     44.69    843.99\n",
       "17                    Burundi   4,651,608.33     44.82    471.66\n",
       "18                   Cambodia   8,510,430.67     47.90    675.37\n",
       "19                   Cameroon   9,816,648.42     48.13  1,774.63\n",
       "20                     Canada  24,462,967.33     74.90 22,410.75\n",
       "21   Central African Republic   2,560,963.00     43.87    958.78\n",
       "22                       Chad   5,329,256.33     46.77  1,165.45\n",
       "23                      Chile  11,205,725.33     67.43  6,703.29\n",
       "24                      China 958,160,051.92     61.79  1,488.31\n",
       "25                   Colombia  27,256,099.58     63.90  4,195.34\n",
       "26                    Comoros     361,683.92     52.38  1,314.38\n",
       "27           Congo, Dem. Rep.  32,681,655.25     44.54    648.34\n",
       "28                Congo, Rep.   1,923,209.08     52.50  3,312.79\n",
       "29                 Costa Rica   2,400,007.75     70.18  5,448.61\n",
       "30              Cote d'Ivoire   9,153,109.50     48.44  1,912.83\n",
       "31                    Croatia   4,289,916.25     70.06  9,331.71\n",
       "32                       Cuba   9,232,575.50     71.05  6,283.26\n",
       "33             Czech Republic   9,986,262.83     71.51 13,920.01\n",
       "34                    Denmark   4,994,187.33     74.37 21,671.82\n",
       "35                   Djibouti     260,243.92     46.38  2,697.83\n",
       "36         Dominican Republic   5,735,697.42     61.55  2,844.86\n",
       "37                    Ecuador   8,212,243.42     62.82  5,733.62\n",
       "38                      Egypt  46,522,774.25     56.24  3,074.03\n",
       "39                El Salvador   4,343,441.42     59.63  4,431.85\n",
       "40          Equatorial Guinea     327,551.00     42.96  2,469.17\n",
       "41                    Eritrea   2,820,216.83     46.00    541.00\n",
       "42                   Ethiopia  41,632,518.75     44.48    509.12\n",
       "43                    Finland   4,771,321.00     72.99 17,473.72\n",
       "44                     France  52,952,564.33     74.35 18,833.57\n",
       "45                      Gabon     795,415.42     51.22 11,529.87\n",
       "46                     Gambia     793,138.58     44.40    680.13\n",
       "47                    Germany  77,547,043.33     73.44 20,556.68\n",
       "48                      Ghana  12,616,626.42     52.34  1,044.58\n",
       "49                     Greece   9,424,181.08     73.73 13,969.04\n",
       "50                  Guatemala   6,858,694.75     56.73  4,015.40\n",
       "51                     Guinea   5,360,550.67     43.24    776.07\n",
       "52              Guinea-Bissau     882,008.42     39.21    652.16\n",
       "53                      Haiti   5,401,633.75     50.17  1,620.74\n",
       "54                   Honduras   3,920,593.42     57.92  2,834.41\n",
       "55           Hong Kong, China   4,792,259.33     73.49 16,228.70\n",
       "56                    Hungary  10,217,645.67     69.39 10,888.18\n",
       "57                    Iceland     226,978.08     76.51 20,531.42\n",
       "58                      India 701,130,739.83     53.17  1,057.30\n",
       "59                  Indonesia 148,322,833.33     54.34  1,741.37\n",
       "60                       Iran  42,301,706.83     58.64  7,376.58\n",
       "61                       Iraq  14,187,495.17     56.58  7,811.81\n",
       "62                    Ireland   3,340,825.92     73.02 15,758.61\n",
       "63                      Italy  54,536,958.00     74.01 16,245.21\n",
       "64                    Jamaica   2,135,122.83     68.75  6,197.65\n",
       "65                      Japan 111,758,808.00     74.83 17,750.87\n",
       "66                     Jordan   2,667,972.75     59.79  3,128.12\n",
       "67                      Kenya  18,206,250.17     52.68  1,200.42\n",
       "68           Korea, Dem. Rep.  16,453,881.25     63.61  2,591.85\n",
       "69                Korea, Rep.  36,499,386.33     65.00  8,217.32\n",
       "70                     Kuwait   1,206,495.58     68.92 65,332.91\n",
       "71                    Lebanon   2,781,846.42     65.87  7,269.22\n",
       "72                    Lesotho   1,389,696.42     50.01    780.55\n",
       "73                    Liberia   1,813,857.17     42.48    604.81\n",
       "74                      Libya   3,166,803.58     59.30 12,013.58\n",
       "75                 Madagascar   9,902,402.17     47.77  1,335.60\n",
       "76                     Malawi   7,016,377.42     43.35    575.45\n",
       "77                   Malaysia  14,574,055.33     64.28  5,406.04\n",
       "78                       Mali   7,112,340.08     43.41    673.09\n",
       "79                 Mauritania   1,782,723.83     52.30  1,356.67\n",
       "80                  Mauritius     926,072.25     64.95  4,768.94\n",
       "81                     Mexico  68,414,297.42     65.41  7,724.11\n",
       "82                   Mongolia   1,734,850.67     55.89  1,692.80\n",
       "83                 Montenegro     564,269.67     70.30  7,208.06\n",
       "84                    Morocco  20,555,741.92     57.61  2,447.91\n",
       "85                 Mozambique  12,046,695.33     40.38    542.28\n",
       "86                    Myanmar  33,432,292.50     53.32    439.33\n",
       "87                    Namibia   1,157,849.75     53.49  3,675.58\n",
       "88                      Nepal  16,551,744.58     48.99    782.73\n",
       "89                Netherlands  13,786,797.92     75.65 21,748.85\n",
       "90                New Zealand   3,100,032.17     73.99 17,262.62\n",
       "91                  Nicaragua   3,040,975.17     58.35  3,424.66\n",
       "92                      Niger   6,857,373.83     44.56    781.08\n",
       "93                    Nigeria  73,708,017.83     43.58  1,488.31\n",
       "94                     Norway   4,031,441.08     75.84 26,747.31\n",
       "95                       Oman   1,438,205.33     58.44 12,138.56\n",
       "96                   Pakistan  93,683,385.75     54.88  1,439.27\n",
       "97                     Panama   1,985,290.25     67.80  5,754.83\n",
       "98                   Paraguay   3,555,485.92     66.81  3,239.61\n",
       "99                       Peru  17,559,093.00     58.86  5,613.84\n",
       "100               Philippines  52,636,628.58     60.97  2,174.77\n",
       "101                    Poland  34,323,304.42     70.18  8,416.55\n",
       "102                  Portugal   9,586,273.92     70.42 11,354.09\n",
       "103               Puerto Rico   3,115,178.25     72.74 10,863.16\n",
       "104                   Reunion     518,497.75     66.64  4,898.40\n",
       "105                   Romania  20,819,090.17     68.29  7,300.17\n",
       "106                    Rwanda   5,298,435.67     41.48    675.67\n",
       "107     Sao Tome and Principe     105,977.83     57.90  1,382.78\n",
       "108              Saudi Arabia  12,478,368.00     58.68 20,261.74\n",
       "109                   Senegal   6,446,305.42     50.63  1,533.12\n",
       "110                    Serbia   8,783,886.75     68.55  9,305.05\n",
       "111              Sierra Leone   3,605,424.92     36.77  1,072.82\n",
       "112                 Singapore   2,667,817.42     71.22 17,425.38\n",
       "113           Slovak Republic   4,774,507.08     70.70 10,415.53\n",
       "114                  Slovenia   1,794,381.42     71.60 14,074.58\n",
       "115                   Somalia   5,197,197.83     40.99  1,140.79\n",
       "116              South Africa  29,928,352.17     53.99  7,247.43\n",
       "117                     Spain  35,851,798.42     74.20 14,029.83\n",
       "118                 Sri Lanka  14,545,831.75     66.53  1,854.73\n",
       "119                     Sudan  21,560,331.42     48.40  1,835.01\n",
       "120                 Swaziland     679,052.00     49.00  3,163.35\n",
       "121                    Sweden   8,220,028.92     76.18 19,943.13\n",
       "122               Switzerland   6,384,293.17     75.57 27,074.33\n",
       "123                     Syria   9,865,378.75     61.35  3,009.29\n",
       "124                    Taiwan  16,874,723.92     70.34 10,224.81\n",
       "125                  Tanzania  20,499,497.67     47.91    849.28\n",
       "126                  Thailand  44,961,631.17     62.20  3,045.97\n",
       "127                      Togo   2,895,964.00     51.50  1,153.82\n",
       "128       Trinidad and Tobago   1,006,469.67     66.83  7,866.87\n",
       "129                   Tunisia   6,686,770.25     60.72  3,477.21\n",
       "130                    Turkey  45,909,008.25     59.70  4,469.45\n",
       "131                    Uganda  14,361,049.42     47.62    810.38\n",
       "132            United Kingdom  56,087,800.67     73.92 19,380.47\n",
       "133             United States 228,211,232.50     73.48 26,261.15\n",
       "134                   Uruguay   2,912,487.17     70.78  7,100.13\n",
       "135                 Venezuela  15,129,801.33     66.58 10,088.52\n",
       "136                   Vietnam  54,568,570.92     57.48  1,017.71\n",
       "137        West Bank and Gaza   1,848,606.50     60.33  3,760.00\n",
       "138               Yemen, Rep.  10,843,191.83     46.78  1,569.27\n",
       "139                    Zambia   6,353,804.83     46.00  1,358.20\n",
       "140                  Zimbabwe   7,641,966.08     52.66    635.86"
      ]
     },
     "execution_count": 101,
     "metadata": {},
     "output_type": "execute_result"
    }
   ],
   "source": [
    "df_grouping = df.groupby('country' , as_index=False)[[ 'population','life_exp' , 'gdp_cap']].mean()\n",
    "df_grouping"
   ]
  },
  {
   "cell_type": "markdown",
   "metadata": {},
   "source": [
    "change population columns to be Integer values"
   ]
  },
  {
   "cell_type": "code",
   "execution_count": 102,
   "metadata": {},
   "outputs": [
    {
     "data": {
      "text/plain": [
       "dtype('float64')"
      ]
     },
     "execution_count": 102,
     "metadata": {},
     "output_type": "execute_result"
    }
   ],
   "source": [
    "df_grouping['population'].dtype"
   ]
  },
  {
   "cell_type": "code",
   "execution_count": 103,
   "metadata": {},
   "outputs": [],
   "source": [
    "df_grouping['population'] = df_grouping['population'].astype(int)"
   ]
  },
  {
   "cell_type": "code",
   "execution_count": 104,
   "metadata": {},
   "outputs": [
    {
     "data": {
      "text/html": [
       "<div>\n",
       "<style scoped>\n",
       "    .dataframe tbody tr th:only-of-type {\n",
       "        vertical-align: middle;\n",
       "    }\n",
       "\n",
       "    .dataframe tbody tr th {\n",
       "        vertical-align: top;\n",
       "    }\n",
       "\n",
       "    .dataframe thead th {\n",
       "        text-align: right;\n",
       "    }\n",
       "</style>\n",
       "<table border=\"1\" class=\"dataframe\">\n",
       "  <thead>\n",
       "    <tr style=\"text-align: right;\">\n",
       "      <th></th>\n",
       "      <th>country</th>\n",
       "      <th>population</th>\n",
       "      <th>life_exp</th>\n",
       "      <th>gdp_cap</th>\n",
       "    </tr>\n",
       "  </thead>\n",
       "  <tbody>\n",
       "    <tr>\n",
       "      <th>0</th>\n",
       "      <td>Afghanistan</td>\n",
       "      <td>15823715</td>\n",
       "      <td>37.48</td>\n",
       "      <td>802.67</td>\n",
       "    </tr>\n",
       "    <tr>\n",
       "      <th>1</th>\n",
       "      <td>Albania</td>\n",
       "      <td>2580249</td>\n",
       "      <td>68.43</td>\n",
       "      <td>3,255.37</td>\n",
       "    </tr>\n",
       "    <tr>\n",
       "      <th>2</th>\n",
       "      <td>Algeria</td>\n",
       "      <td>19875406</td>\n",
       "      <td>59.03</td>\n",
       "      <td>4,426.03</td>\n",
       "    </tr>\n",
       "    <tr>\n",
       "      <th>3</th>\n",
       "      <td>Angola</td>\n",
       "      <td>7309390</td>\n",
       "      <td>37.88</td>\n",
       "      <td>3,607.10</td>\n",
       "    </tr>\n",
       "    <tr>\n",
       "      <th>4</th>\n",
       "      <td>Argentina</td>\n",
       "      <td>28602239</td>\n",
       "      <td>69.06</td>\n",
       "      <td>8,955.55</td>\n",
       "    </tr>\n",
       "    <tr>\n",
       "      <th>5</th>\n",
       "      <td>Australia</td>\n",
       "      <td>14649312</td>\n",
       "      <td>74.66</td>\n",
       "      <td>19,980.60</td>\n",
       "    </tr>\n",
       "    <tr>\n",
       "      <th>6</th>\n",
       "      <td>Austria</td>\n",
       "      <td>7583298</td>\n",
       "      <td>73.10</td>\n",
       "      <td>20,411.92</td>\n",
       "    </tr>\n",
       "    <tr>\n",
       "      <th>7</th>\n",
       "      <td>Bahrain</td>\n",
       "      <td>373913</td>\n",
       "      <td>65.61</td>\n",
       "      <td>18,077.66</td>\n",
       "    </tr>\n",
       "    <tr>\n",
       "      <th>8</th>\n",
       "      <td>Bangladesh</td>\n",
       "      <td>90755395</td>\n",
       "      <td>49.83</td>\n",
       "      <td>817.56</td>\n",
       "    </tr>\n",
       "    <tr>\n",
       "      <th>9</th>\n",
       "      <td>Belgium</td>\n",
       "      <td>9725118</td>\n",
       "      <td>73.64</td>\n",
       "      <td>19,900.76</td>\n",
       "    </tr>\n",
       "    <tr>\n",
       "      <th>10</th>\n",
       "      <td>Benin</td>\n",
       "      <td>4017496</td>\n",
       "      <td>48.78</td>\n",
       "      <td>1,155.40</td>\n",
       "    </tr>\n",
       "    <tr>\n",
       "      <th>11</th>\n",
       "      <td>Bolivia</td>\n",
       "      <td>5610395</td>\n",
       "      <td>52.50</td>\n",
       "      <td>2,961.23</td>\n",
       "    </tr>\n",
       "    <tr>\n",
       "      <th>12</th>\n",
       "      <td>Bosnia and Herzegovina</td>\n",
       "      <td>3816524</td>\n",
       "      <td>67.71</td>\n",
       "      <td>3,484.78</td>\n",
       "    </tr>\n",
       "    <tr>\n",
       "      <th>13</th>\n",
       "      <td>Botswana</td>\n",
       "      <td>971186</td>\n",
       "      <td>54.60</td>\n",
       "      <td>5,031.50</td>\n",
       "    </tr>\n",
       "    <tr>\n",
       "      <th>14</th>\n",
       "      <td>Brazil</td>\n",
       "      <td>122312126</td>\n",
       "      <td>62.24</td>\n",
       "      <td>5,829.32</td>\n",
       "    </tr>\n",
       "    <tr>\n",
       "      <th>15</th>\n",
       "      <td>Bulgaria</td>\n",
       "      <td>8182985</td>\n",
       "      <td>69.74</td>\n",
       "      <td>6,384.06</td>\n",
       "    </tr>\n",
       "    <tr>\n",
       "      <th>16</th>\n",
       "      <td>Burkina Faso</td>\n",
       "      <td>7548677</td>\n",
       "      <td>44.69</td>\n",
       "      <td>843.99</td>\n",
       "    </tr>\n",
       "    <tr>\n",
       "      <th>17</th>\n",
       "      <td>Burundi</td>\n",
       "      <td>4651608</td>\n",
       "      <td>44.82</td>\n",
       "      <td>471.66</td>\n",
       "    </tr>\n",
       "    <tr>\n",
       "      <th>18</th>\n",
       "      <td>Cambodia</td>\n",
       "      <td>8510430</td>\n",
       "      <td>47.90</td>\n",
       "      <td>675.37</td>\n",
       "    </tr>\n",
       "    <tr>\n",
       "      <th>19</th>\n",
       "      <td>Cameroon</td>\n",
       "      <td>9816648</td>\n",
       "      <td>48.13</td>\n",
       "      <td>1,774.63</td>\n",
       "    </tr>\n",
       "    <tr>\n",
       "      <th>20</th>\n",
       "      <td>Canada</td>\n",
       "      <td>24462967</td>\n",
       "      <td>74.90</td>\n",
       "      <td>22,410.75</td>\n",
       "    </tr>\n",
       "    <tr>\n",
       "      <th>21</th>\n",
       "      <td>Central African Republic</td>\n",
       "      <td>2560963</td>\n",
       "      <td>43.87</td>\n",
       "      <td>958.78</td>\n",
       "    </tr>\n",
       "    <tr>\n",
       "      <th>22</th>\n",
       "      <td>Chad</td>\n",
       "      <td>5329256</td>\n",
       "      <td>46.77</td>\n",
       "      <td>1,165.45</td>\n",
       "    </tr>\n",
       "    <tr>\n",
       "      <th>23</th>\n",
       "      <td>Chile</td>\n",
       "      <td>11205725</td>\n",
       "      <td>67.43</td>\n",
       "      <td>6,703.29</td>\n",
       "    </tr>\n",
       "    <tr>\n",
       "      <th>24</th>\n",
       "      <td>China</td>\n",
       "      <td>958160051</td>\n",
       "      <td>61.79</td>\n",
       "      <td>1,488.31</td>\n",
       "    </tr>\n",
       "    <tr>\n",
       "      <th>25</th>\n",
       "      <td>Colombia</td>\n",
       "      <td>27256099</td>\n",
       "      <td>63.90</td>\n",
       "      <td>4,195.34</td>\n",
       "    </tr>\n",
       "    <tr>\n",
       "      <th>26</th>\n",
       "      <td>Comoros</td>\n",
       "      <td>361683</td>\n",
       "      <td>52.38</td>\n",
       "      <td>1,314.38</td>\n",
       "    </tr>\n",
       "    <tr>\n",
       "      <th>27</th>\n",
       "      <td>Congo, Dem. Rep.</td>\n",
       "      <td>32681655</td>\n",
       "      <td>44.54</td>\n",
       "      <td>648.34</td>\n",
       "    </tr>\n",
       "    <tr>\n",
       "      <th>28</th>\n",
       "      <td>Congo, Rep.</td>\n",
       "      <td>1923209</td>\n",
       "      <td>52.50</td>\n",
       "      <td>3,312.79</td>\n",
       "    </tr>\n",
       "    <tr>\n",
       "      <th>29</th>\n",
       "      <td>Costa Rica</td>\n",
       "      <td>2400007</td>\n",
       "      <td>70.18</td>\n",
       "      <td>5,448.61</td>\n",
       "    </tr>\n",
       "    <tr>\n",
       "      <th>30</th>\n",
       "      <td>Cote d'Ivoire</td>\n",
       "      <td>9153109</td>\n",
       "      <td>48.44</td>\n",
       "      <td>1,912.83</td>\n",
       "    </tr>\n",
       "    <tr>\n",
       "      <th>31</th>\n",
       "      <td>Croatia</td>\n",
       "      <td>4289916</td>\n",
       "      <td>70.06</td>\n",
       "      <td>9,331.71</td>\n",
       "    </tr>\n",
       "    <tr>\n",
       "      <th>32</th>\n",
       "      <td>Cuba</td>\n",
       "      <td>9232575</td>\n",
       "      <td>71.05</td>\n",
       "      <td>6,283.26</td>\n",
       "    </tr>\n",
       "    <tr>\n",
       "      <th>33</th>\n",
       "      <td>Czech Republic</td>\n",
       "      <td>9986262</td>\n",
       "      <td>71.51</td>\n",
       "      <td>13,920.01</td>\n",
       "    </tr>\n",
       "    <tr>\n",
       "      <th>34</th>\n",
       "      <td>Denmark</td>\n",
       "      <td>4994187</td>\n",
       "      <td>74.37</td>\n",
       "      <td>21,671.82</td>\n",
       "    </tr>\n",
       "    <tr>\n",
       "      <th>35</th>\n",
       "      <td>Djibouti</td>\n",
       "      <td>260243</td>\n",
       "      <td>46.38</td>\n",
       "      <td>2,697.83</td>\n",
       "    </tr>\n",
       "    <tr>\n",
       "      <th>36</th>\n",
       "      <td>Dominican Republic</td>\n",
       "      <td>5735697</td>\n",
       "      <td>61.55</td>\n",
       "      <td>2,844.86</td>\n",
       "    </tr>\n",
       "    <tr>\n",
       "      <th>37</th>\n",
       "      <td>Ecuador</td>\n",
       "      <td>8212243</td>\n",
       "      <td>62.82</td>\n",
       "      <td>5,733.62</td>\n",
       "    </tr>\n",
       "    <tr>\n",
       "      <th>38</th>\n",
       "      <td>Egypt</td>\n",
       "      <td>46522774</td>\n",
       "      <td>56.24</td>\n",
       "      <td>3,074.03</td>\n",
       "    </tr>\n",
       "    <tr>\n",
       "      <th>39</th>\n",
       "      <td>El Salvador</td>\n",
       "      <td>4343441</td>\n",
       "      <td>59.63</td>\n",
       "      <td>4,431.85</td>\n",
       "    </tr>\n",
       "    <tr>\n",
       "      <th>40</th>\n",
       "      <td>Equatorial Guinea</td>\n",
       "      <td>327551</td>\n",
       "      <td>42.96</td>\n",
       "      <td>2,469.17</td>\n",
       "    </tr>\n",
       "    <tr>\n",
       "      <th>41</th>\n",
       "      <td>Eritrea</td>\n",
       "      <td>2820216</td>\n",
       "      <td>46.00</td>\n",
       "      <td>541.00</td>\n",
       "    </tr>\n",
       "    <tr>\n",
       "      <th>42</th>\n",
       "      <td>Ethiopia</td>\n",
       "      <td>41632518</td>\n",
       "      <td>44.48</td>\n",
       "      <td>509.12</td>\n",
       "    </tr>\n",
       "    <tr>\n",
       "      <th>43</th>\n",
       "      <td>Finland</td>\n",
       "      <td>4771321</td>\n",
       "      <td>72.99</td>\n",
       "      <td>17,473.72</td>\n",
       "    </tr>\n",
       "    <tr>\n",
       "      <th>44</th>\n",
       "      <td>France</td>\n",
       "      <td>52952564</td>\n",
       "      <td>74.35</td>\n",
       "      <td>18,833.57</td>\n",
       "    </tr>\n",
       "    <tr>\n",
       "      <th>45</th>\n",
       "      <td>Gabon</td>\n",
       "      <td>795415</td>\n",
       "      <td>51.22</td>\n",
       "      <td>11,529.87</td>\n",
       "    </tr>\n",
       "    <tr>\n",
       "      <th>46</th>\n",
       "      <td>Gambia</td>\n",
       "      <td>793138</td>\n",
       "      <td>44.40</td>\n",
       "      <td>680.13</td>\n",
       "    </tr>\n",
       "    <tr>\n",
       "      <th>47</th>\n",
       "      <td>Germany</td>\n",
       "      <td>77547043</td>\n",
       "      <td>73.44</td>\n",
       "      <td>20,556.68</td>\n",
       "    </tr>\n",
       "    <tr>\n",
       "      <th>48</th>\n",
       "      <td>Ghana</td>\n",
       "      <td>12616626</td>\n",
       "      <td>52.34</td>\n",
       "      <td>1,044.58</td>\n",
       "    </tr>\n",
       "    <tr>\n",
       "      <th>49</th>\n",
       "      <td>Greece</td>\n",
       "      <td>9424181</td>\n",
       "      <td>73.73</td>\n",
       "      <td>13,969.04</td>\n",
       "    </tr>\n",
       "    <tr>\n",
       "      <th>50</th>\n",
       "      <td>Guatemala</td>\n",
       "      <td>6858694</td>\n",
       "      <td>56.73</td>\n",
       "      <td>4,015.40</td>\n",
       "    </tr>\n",
       "    <tr>\n",
       "      <th>51</th>\n",
       "      <td>Guinea</td>\n",
       "      <td>5360550</td>\n",
       "      <td>43.24</td>\n",
       "      <td>776.07</td>\n",
       "    </tr>\n",
       "    <tr>\n",
       "      <th>52</th>\n",
       "      <td>Guinea-Bissau</td>\n",
       "      <td>882008</td>\n",
       "      <td>39.21</td>\n",
       "      <td>652.16</td>\n",
       "    </tr>\n",
       "    <tr>\n",
       "      <th>53</th>\n",
       "      <td>Haiti</td>\n",
       "      <td>5401633</td>\n",
       "      <td>50.17</td>\n",
       "      <td>1,620.74</td>\n",
       "    </tr>\n",
       "    <tr>\n",
       "      <th>54</th>\n",
       "      <td>Honduras</td>\n",
       "      <td>3920593</td>\n",
       "      <td>57.92</td>\n",
       "      <td>2,834.41</td>\n",
       "    </tr>\n",
       "    <tr>\n",
       "      <th>55</th>\n",
       "      <td>Hong Kong, China</td>\n",
       "      <td>4792259</td>\n",
       "      <td>73.49</td>\n",
       "      <td>16,228.70</td>\n",
       "    </tr>\n",
       "    <tr>\n",
       "      <th>56</th>\n",
       "      <td>Hungary</td>\n",
       "      <td>10217645</td>\n",
       "      <td>69.39</td>\n",
       "      <td>10,888.18</td>\n",
       "    </tr>\n",
       "    <tr>\n",
       "      <th>57</th>\n",
       "      <td>Iceland</td>\n",
       "      <td>226978</td>\n",
       "      <td>76.51</td>\n",
       "      <td>20,531.42</td>\n",
       "    </tr>\n",
       "    <tr>\n",
       "      <th>58</th>\n",
       "      <td>India</td>\n",
       "      <td>701130739</td>\n",
       "      <td>53.17</td>\n",
       "      <td>1,057.30</td>\n",
       "    </tr>\n",
       "    <tr>\n",
       "      <th>59</th>\n",
       "      <td>Indonesia</td>\n",
       "      <td>148322833</td>\n",
       "      <td>54.34</td>\n",
       "      <td>1,741.37</td>\n",
       "    </tr>\n",
       "    <tr>\n",
       "      <th>60</th>\n",
       "      <td>Iran</td>\n",
       "      <td>42301706</td>\n",
       "      <td>58.64</td>\n",
       "      <td>7,376.58</td>\n",
       "    </tr>\n",
       "    <tr>\n",
       "      <th>61</th>\n",
       "      <td>Iraq</td>\n",
       "      <td>14187495</td>\n",
       "      <td>56.58</td>\n",
       "      <td>7,811.81</td>\n",
       "    </tr>\n",
       "    <tr>\n",
       "      <th>62</th>\n",
       "      <td>Ireland</td>\n",
       "      <td>3340825</td>\n",
       "      <td>73.02</td>\n",
       "      <td>15,758.61</td>\n",
       "    </tr>\n",
       "    <tr>\n",
       "      <th>63</th>\n",
       "      <td>Italy</td>\n",
       "      <td>54536958</td>\n",
       "      <td>74.01</td>\n",
       "      <td>16,245.21</td>\n",
       "    </tr>\n",
       "    <tr>\n",
       "      <th>64</th>\n",
       "      <td>Jamaica</td>\n",
       "      <td>2135122</td>\n",
       "      <td>68.75</td>\n",
       "      <td>6,197.65</td>\n",
       "    </tr>\n",
       "    <tr>\n",
       "      <th>65</th>\n",
       "      <td>Japan</td>\n",
       "      <td>111758808</td>\n",
       "      <td>74.83</td>\n",
       "      <td>17,750.87</td>\n",
       "    </tr>\n",
       "    <tr>\n",
       "      <th>66</th>\n",
       "      <td>Jordan</td>\n",
       "      <td>2667972</td>\n",
       "      <td>59.79</td>\n",
       "      <td>3,128.12</td>\n",
       "    </tr>\n",
       "    <tr>\n",
       "      <th>67</th>\n",
       "      <td>Kenya</td>\n",
       "      <td>18206250</td>\n",
       "      <td>52.68</td>\n",
       "      <td>1,200.42</td>\n",
       "    </tr>\n",
       "    <tr>\n",
       "      <th>68</th>\n",
       "      <td>Korea, Dem. Rep.</td>\n",
       "      <td>16453881</td>\n",
       "      <td>63.61</td>\n",
       "      <td>2,591.85</td>\n",
       "    </tr>\n",
       "    <tr>\n",
       "      <th>69</th>\n",
       "      <td>Korea, Rep.</td>\n",
       "      <td>36499386</td>\n",
       "      <td>65.00</td>\n",
       "      <td>8,217.32</td>\n",
       "    </tr>\n",
       "    <tr>\n",
       "      <th>70</th>\n",
       "      <td>Kuwait</td>\n",
       "      <td>1206495</td>\n",
       "      <td>68.92</td>\n",
       "      <td>65,332.91</td>\n",
       "    </tr>\n",
       "    <tr>\n",
       "      <th>71</th>\n",
       "      <td>Lebanon</td>\n",
       "      <td>2781846</td>\n",
       "      <td>65.87</td>\n",
       "      <td>7,269.22</td>\n",
       "    </tr>\n",
       "    <tr>\n",
       "      <th>72</th>\n",
       "      <td>Lesotho</td>\n",
       "      <td>1389696</td>\n",
       "      <td>50.01</td>\n",
       "      <td>780.55</td>\n",
       "    </tr>\n",
       "    <tr>\n",
       "      <th>73</th>\n",
       "      <td>Liberia</td>\n",
       "      <td>1813857</td>\n",
       "      <td>42.48</td>\n",
       "      <td>604.81</td>\n",
       "    </tr>\n",
       "    <tr>\n",
       "      <th>74</th>\n",
       "      <td>Libya</td>\n",
       "      <td>3166803</td>\n",
       "      <td>59.30</td>\n",
       "      <td>12,013.58</td>\n",
       "    </tr>\n",
       "    <tr>\n",
       "      <th>75</th>\n",
       "      <td>Madagascar</td>\n",
       "      <td>9902402</td>\n",
       "      <td>47.77</td>\n",
       "      <td>1,335.60</td>\n",
       "    </tr>\n",
       "    <tr>\n",
       "      <th>76</th>\n",
       "      <td>Malawi</td>\n",
       "      <td>7016377</td>\n",
       "      <td>43.35</td>\n",
       "      <td>575.45</td>\n",
       "    </tr>\n",
       "    <tr>\n",
       "      <th>77</th>\n",
       "      <td>Malaysia</td>\n",
       "      <td>14574055</td>\n",
       "      <td>64.28</td>\n",
       "      <td>5,406.04</td>\n",
       "    </tr>\n",
       "    <tr>\n",
       "      <th>78</th>\n",
       "      <td>Mali</td>\n",
       "      <td>7112340</td>\n",
       "      <td>43.41</td>\n",
       "      <td>673.09</td>\n",
       "    </tr>\n",
       "    <tr>\n",
       "      <th>79</th>\n",
       "      <td>Mauritania</td>\n",
       "      <td>1782723</td>\n",
       "      <td>52.30</td>\n",
       "      <td>1,356.67</td>\n",
       "    </tr>\n",
       "    <tr>\n",
       "      <th>80</th>\n",
       "      <td>Mauritius</td>\n",
       "      <td>926072</td>\n",
       "      <td>64.95</td>\n",
       "      <td>4,768.94</td>\n",
       "    </tr>\n",
       "    <tr>\n",
       "      <th>81</th>\n",
       "      <td>Mexico</td>\n",
       "      <td>68414297</td>\n",
       "      <td>65.41</td>\n",
       "      <td>7,724.11</td>\n",
       "    </tr>\n",
       "    <tr>\n",
       "      <th>82</th>\n",
       "      <td>Mongolia</td>\n",
       "      <td>1734850</td>\n",
       "      <td>55.89</td>\n",
       "      <td>1,692.80</td>\n",
       "    </tr>\n",
       "    <tr>\n",
       "      <th>83</th>\n",
       "      <td>Montenegro</td>\n",
       "      <td>564269</td>\n",
       "      <td>70.30</td>\n",
       "      <td>7,208.06</td>\n",
       "    </tr>\n",
       "    <tr>\n",
       "      <th>84</th>\n",
       "      <td>Morocco</td>\n",
       "      <td>20555741</td>\n",
       "      <td>57.61</td>\n",
       "      <td>2,447.91</td>\n",
       "    </tr>\n",
       "    <tr>\n",
       "      <th>85</th>\n",
       "      <td>Mozambique</td>\n",
       "      <td>12046695</td>\n",
       "      <td>40.38</td>\n",
       "      <td>542.28</td>\n",
       "    </tr>\n",
       "    <tr>\n",
       "      <th>86</th>\n",
       "      <td>Myanmar</td>\n",
       "      <td>33432292</td>\n",
       "      <td>53.32</td>\n",
       "      <td>439.33</td>\n",
       "    </tr>\n",
       "    <tr>\n",
       "      <th>87</th>\n",
       "      <td>Namibia</td>\n",
       "      <td>1157849</td>\n",
       "      <td>53.49</td>\n",
       "      <td>3,675.58</td>\n",
       "    </tr>\n",
       "    <tr>\n",
       "      <th>88</th>\n",
       "      <td>Nepal</td>\n",
       "      <td>16551744</td>\n",
       "      <td>48.99</td>\n",
       "      <td>782.73</td>\n",
       "    </tr>\n",
       "    <tr>\n",
       "      <th>89</th>\n",
       "      <td>Netherlands</td>\n",
       "      <td>13786797</td>\n",
       "      <td>75.65</td>\n",
       "      <td>21,748.85</td>\n",
       "    </tr>\n",
       "    <tr>\n",
       "      <th>90</th>\n",
       "      <td>New Zealand</td>\n",
       "      <td>3100032</td>\n",
       "      <td>73.99</td>\n",
       "      <td>17,262.62</td>\n",
       "    </tr>\n",
       "    <tr>\n",
       "      <th>91</th>\n",
       "      <td>Nicaragua</td>\n",
       "      <td>3040975</td>\n",
       "      <td>58.35</td>\n",
       "      <td>3,424.66</td>\n",
       "    </tr>\n",
       "    <tr>\n",
       "      <th>92</th>\n",
       "      <td>Niger</td>\n",
       "      <td>6857373</td>\n",
       "      <td>44.56</td>\n",
       "      <td>781.08</td>\n",
       "    </tr>\n",
       "    <tr>\n",
       "      <th>93</th>\n",
       "      <td>Nigeria</td>\n",
       "      <td>73708017</td>\n",
       "      <td>43.58</td>\n",
       "      <td>1,488.31</td>\n",
       "    </tr>\n",
       "    <tr>\n",
       "      <th>94</th>\n",
       "      <td>Norway</td>\n",
       "      <td>4031441</td>\n",
       "      <td>75.84</td>\n",
       "      <td>26,747.31</td>\n",
       "    </tr>\n",
       "    <tr>\n",
       "      <th>95</th>\n",
       "      <td>Oman</td>\n",
       "      <td>1438205</td>\n",
       "      <td>58.44</td>\n",
       "      <td>12,138.56</td>\n",
       "    </tr>\n",
       "    <tr>\n",
       "      <th>96</th>\n",
       "      <td>Pakistan</td>\n",
       "      <td>93683385</td>\n",
       "      <td>54.88</td>\n",
       "      <td>1,439.27</td>\n",
       "    </tr>\n",
       "    <tr>\n",
       "      <th>97</th>\n",
       "      <td>Panama</td>\n",
       "      <td>1985290</td>\n",
       "      <td>67.80</td>\n",
       "      <td>5,754.83</td>\n",
       "    </tr>\n",
       "    <tr>\n",
       "      <th>98</th>\n",
       "      <td>Paraguay</td>\n",
       "      <td>3555485</td>\n",
       "      <td>66.81</td>\n",
       "      <td>3,239.61</td>\n",
       "    </tr>\n",
       "    <tr>\n",
       "      <th>99</th>\n",
       "      <td>Peru</td>\n",
       "      <td>17559093</td>\n",
       "      <td>58.86</td>\n",
       "      <td>5,613.84</td>\n",
       "    </tr>\n",
       "    <tr>\n",
       "      <th>100</th>\n",
       "      <td>Philippines</td>\n",
       "      <td>52636628</td>\n",
       "      <td>60.97</td>\n",
       "      <td>2,174.77</td>\n",
       "    </tr>\n",
       "    <tr>\n",
       "      <th>101</th>\n",
       "      <td>Poland</td>\n",
       "      <td>34323304</td>\n",
       "      <td>70.18</td>\n",
       "      <td>8,416.55</td>\n",
       "    </tr>\n",
       "    <tr>\n",
       "      <th>102</th>\n",
       "      <td>Portugal</td>\n",
       "      <td>9586273</td>\n",
       "      <td>70.42</td>\n",
       "      <td>11,354.09</td>\n",
       "    </tr>\n",
       "    <tr>\n",
       "      <th>103</th>\n",
       "      <td>Puerto Rico</td>\n",
       "      <td>3115178</td>\n",
       "      <td>72.74</td>\n",
       "      <td>10,863.16</td>\n",
       "    </tr>\n",
       "    <tr>\n",
       "      <th>104</th>\n",
       "      <td>Reunion</td>\n",
       "      <td>518497</td>\n",
       "      <td>66.64</td>\n",
       "      <td>4,898.40</td>\n",
       "    </tr>\n",
       "    <tr>\n",
       "      <th>105</th>\n",
       "      <td>Romania</td>\n",
       "      <td>20819090</td>\n",
       "      <td>68.29</td>\n",
       "      <td>7,300.17</td>\n",
       "    </tr>\n",
       "    <tr>\n",
       "      <th>106</th>\n",
       "      <td>Rwanda</td>\n",
       "      <td>5298435</td>\n",
       "      <td>41.48</td>\n",
       "      <td>675.67</td>\n",
       "    </tr>\n",
       "    <tr>\n",
       "      <th>107</th>\n",
       "      <td>Sao Tome and Principe</td>\n",
       "      <td>105977</td>\n",
       "      <td>57.90</td>\n",
       "      <td>1,382.78</td>\n",
       "    </tr>\n",
       "    <tr>\n",
       "      <th>108</th>\n",
       "      <td>Saudi Arabia</td>\n",
       "      <td>12478368</td>\n",
       "      <td>58.68</td>\n",
       "      <td>20,261.74</td>\n",
       "    </tr>\n",
       "    <tr>\n",
       "      <th>109</th>\n",
       "      <td>Senegal</td>\n",
       "      <td>6446305</td>\n",
       "      <td>50.63</td>\n",
       "      <td>1,533.12</td>\n",
       "    </tr>\n",
       "    <tr>\n",
       "      <th>110</th>\n",
       "      <td>Serbia</td>\n",
       "      <td>8783886</td>\n",
       "      <td>68.55</td>\n",
       "      <td>9,305.05</td>\n",
       "    </tr>\n",
       "    <tr>\n",
       "      <th>111</th>\n",
       "      <td>Sierra Leone</td>\n",
       "      <td>3605424</td>\n",
       "      <td>36.77</td>\n",
       "      <td>1,072.82</td>\n",
       "    </tr>\n",
       "    <tr>\n",
       "      <th>112</th>\n",
       "      <td>Singapore</td>\n",
       "      <td>2667817</td>\n",
       "      <td>71.22</td>\n",
       "      <td>17,425.38</td>\n",
       "    </tr>\n",
       "    <tr>\n",
       "      <th>113</th>\n",
       "      <td>Slovak Republic</td>\n",
       "      <td>4774507</td>\n",
       "      <td>70.70</td>\n",
       "      <td>10,415.53</td>\n",
       "    </tr>\n",
       "    <tr>\n",
       "      <th>114</th>\n",
       "      <td>Slovenia</td>\n",
       "      <td>1794381</td>\n",
       "      <td>71.60</td>\n",
       "      <td>14,074.58</td>\n",
       "    </tr>\n",
       "    <tr>\n",
       "      <th>115</th>\n",
       "      <td>Somalia</td>\n",
       "      <td>5197197</td>\n",
       "      <td>40.99</td>\n",
       "      <td>1,140.79</td>\n",
       "    </tr>\n",
       "    <tr>\n",
       "      <th>116</th>\n",
       "      <td>South Africa</td>\n",
       "      <td>29928352</td>\n",
       "      <td>53.99</td>\n",
       "      <td>7,247.43</td>\n",
       "    </tr>\n",
       "    <tr>\n",
       "      <th>117</th>\n",
       "      <td>Spain</td>\n",
       "      <td>35851798</td>\n",
       "      <td>74.20</td>\n",
       "      <td>14,029.83</td>\n",
       "    </tr>\n",
       "    <tr>\n",
       "      <th>118</th>\n",
       "      <td>Sri Lanka</td>\n",
       "      <td>14545831</td>\n",
       "      <td>66.53</td>\n",
       "      <td>1,854.73</td>\n",
       "    </tr>\n",
       "    <tr>\n",
       "      <th>119</th>\n",
       "      <td>Sudan</td>\n",
       "      <td>21560331</td>\n",
       "      <td>48.40</td>\n",
       "      <td>1,835.01</td>\n",
       "    </tr>\n",
       "    <tr>\n",
       "      <th>120</th>\n",
       "      <td>Swaziland</td>\n",
       "      <td>679052</td>\n",
       "      <td>49.00</td>\n",
       "      <td>3,163.35</td>\n",
       "    </tr>\n",
       "    <tr>\n",
       "      <th>121</th>\n",
       "      <td>Sweden</td>\n",
       "      <td>8220028</td>\n",
       "      <td>76.18</td>\n",
       "      <td>19,943.13</td>\n",
       "    </tr>\n",
       "    <tr>\n",
       "      <th>122</th>\n",
       "      <td>Switzerland</td>\n",
       "      <td>6384293</td>\n",
       "      <td>75.57</td>\n",
       "      <td>27,074.33</td>\n",
       "    </tr>\n",
       "    <tr>\n",
       "      <th>123</th>\n",
       "      <td>Syria</td>\n",
       "      <td>9865378</td>\n",
       "      <td>61.35</td>\n",
       "      <td>3,009.29</td>\n",
       "    </tr>\n",
       "    <tr>\n",
       "      <th>124</th>\n",
       "      <td>Taiwan</td>\n",
       "      <td>16874723</td>\n",
       "      <td>70.34</td>\n",
       "      <td>10,224.81</td>\n",
       "    </tr>\n",
       "    <tr>\n",
       "      <th>125</th>\n",
       "      <td>Tanzania</td>\n",
       "      <td>20499497</td>\n",
       "      <td>47.91</td>\n",
       "      <td>849.28</td>\n",
       "    </tr>\n",
       "    <tr>\n",
       "      <th>126</th>\n",
       "      <td>Thailand</td>\n",
       "      <td>44961631</td>\n",
       "      <td>62.20</td>\n",
       "      <td>3,045.97</td>\n",
       "    </tr>\n",
       "    <tr>\n",
       "      <th>127</th>\n",
       "      <td>Togo</td>\n",
       "      <td>2895964</td>\n",
       "      <td>51.50</td>\n",
       "      <td>1,153.82</td>\n",
       "    </tr>\n",
       "    <tr>\n",
       "      <th>128</th>\n",
       "      <td>Trinidad and Tobago</td>\n",
       "      <td>1006469</td>\n",
       "      <td>66.83</td>\n",
       "      <td>7,866.87</td>\n",
       "    </tr>\n",
       "    <tr>\n",
       "      <th>129</th>\n",
       "      <td>Tunisia</td>\n",
       "      <td>6686770</td>\n",
       "      <td>60.72</td>\n",
       "      <td>3,477.21</td>\n",
       "    </tr>\n",
       "    <tr>\n",
       "      <th>130</th>\n",
       "      <td>Turkey</td>\n",
       "      <td>45909008</td>\n",
       "      <td>59.70</td>\n",
       "      <td>4,469.45</td>\n",
       "    </tr>\n",
       "    <tr>\n",
       "      <th>131</th>\n",
       "      <td>Uganda</td>\n",
       "      <td>14361049</td>\n",
       "      <td>47.62</td>\n",
       "      <td>810.38</td>\n",
       "    </tr>\n",
       "    <tr>\n",
       "      <th>132</th>\n",
       "      <td>United Kingdom</td>\n",
       "      <td>56087800</td>\n",
       "      <td>73.92</td>\n",
       "      <td>19,380.47</td>\n",
       "    </tr>\n",
       "    <tr>\n",
       "      <th>133</th>\n",
       "      <td>United States</td>\n",
       "      <td>228211232</td>\n",
       "      <td>73.48</td>\n",
       "      <td>26,261.15</td>\n",
       "    </tr>\n",
       "    <tr>\n",
       "      <th>134</th>\n",
       "      <td>Uruguay</td>\n",
       "      <td>2912487</td>\n",
       "      <td>70.78</td>\n",
       "      <td>7,100.13</td>\n",
       "    </tr>\n",
       "    <tr>\n",
       "      <th>135</th>\n",
       "      <td>Venezuela</td>\n",
       "      <td>15129801</td>\n",
       "      <td>66.58</td>\n",
       "      <td>10,088.52</td>\n",
       "    </tr>\n",
       "    <tr>\n",
       "      <th>136</th>\n",
       "      <td>Vietnam</td>\n",
       "      <td>54568570</td>\n",
       "      <td>57.48</td>\n",
       "      <td>1,017.71</td>\n",
       "    </tr>\n",
       "    <tr>\n",
       "      <th>137</th>\n",
       "      <td>West Bank and Gaza</td>\n",
       "      <td>1848606</td>\n",
       "      <td>60.33</td>\n",
       "      <td>3,760.00</td>\n",
       "    </tr>\n",
       "    <tr>\n",
       "      <th>138</th>\n",
       "      <td>Yemen, Rep.</td>\n",
       "      <td>10843191</td>\n",
       "      <td>46.78</td>\n",
       "      <td>1,569.27</td>\n",
       "    </tr>\n",
       "    <tr>\n",
       "      <th>139</th>\n",
       "      <td>Zambia</td>\n",
       "      <td>6353804</td>\n",
       "      <td>46.00</td>\n",
       "      <td>1,358.20</td>\n",
       "    </tr>\n",
       "    <tr>\n",
       "      <th>140</th>\n",
       "      <td>Zimbabwe</td>\n",
       "      <td>7641966</td>\n",
       "      <td>52.66</td>\n",
       "      <td>635.86</td>\n",
       "    </tr>\n",
       "  </tbody>\n",
       "</table>\n",
       "</div>"
      ],
      "text/plain": [
       "                      country  population  life_exp   gdp_cap\n",
       "0                 Afghanistan    15823715     37.48    802.67\n",
       "1                     Albania     2580249     68.43  3,255.37\n",
       "2                     Algeria    19875406     59.03  4,426.03\n",
       "3                      Angola     7309390     37.88  3,607.10\n",
       "4                   Argentina    28602239     69.06  8,955.55\n",
       "5                   Australia    14649312     74.66 19,980.60\n",
       "6                     Austria     7583298     73.10 20,411.92\n",
       "7                     Bahrain      373913     65.61 18,077.66\n",
       "8                  Bangladesh    90755395     49.83    817.56\n",
       "9                     Belgium     9725118     73.64 19,900.76\n",
       "10                      Benin     4017496     48.78  1,155.40\n",
       "11                    Bolivia     5610395     52.50  2,961.23\n",
       "12     Bosnia and Herzegovina     3816524     67.71  3,484.78\n",
       "13                   Botswana      971186     54.60  5,031.50\n",
       "14                     Brazil   122312126     62.24  5,829.32\n",
       "15                   Bulgaria     8182985     69.74  6,384.06\n",
       "16               Burkina Faso     7548677     44.69    843.99\n",
       "17                    Burundi     4651608     44.82    471.66\n",
       "18                   Cambodia     8510430     47.90    675.37\n",
       "19                   Cameroon     9816648     48.13  1,774.63\n",
       "20                     Canada    24462967     74.90 22,410.75\n",
       "21   Central African Republic     2560963     43.87    958.78\n",
       "22                       Chad     5329256     46.77  1,165.45\n",
       "23                      Chile    11205725     67.43  6,703.29\n",
       "24                      China   958160051     61.79  1,488.31\n",
       "25                   Colombia    27256099     63.90  4,195.34\n",
       "26                    Comoros      361683     52.38  1,314.38\n",
       "27           Congo, Dem. Rep.    32681655     44.54    648.34\n",
       "28                Congo, Rep.     1923209     52.50  3,312.79\n",
       "29                 Costa Rica     2400007     70.18  5,448.61\n",
       "30              Cote d'Ivoire     9153109     48.44  1,912.83\n",
       "31                    Croatia     4289916     70.06  9,331.71\n",
       "32                       Cuba     9232575     71.05  6,283.26\n",
       "33             Czech Republic     9986262     71.51 13,920.01\n",
       "34                    Denmark     4994187     74.37 21,671.82\n",
       "35                   Djibouti      260243     46.38  2,697.83\n",
       "36         Dominican Republic     5735697     61.55  2,844.86\n",
       "37                    Ecuador     8212243     62.82  5,733.62\n",
       "38                      Egypt    46522774     56.24  3,074.03\n",
       "39                El Salvador     4343441     59.63  4,431.85\n",
       "40          Equatorial Guinea      327551     42.96  2,469.17\n",
       "41                    Eritrea     2820216     46.00    541.00\n",
       "42                   Ethiopia    41632518     44.48    509.12\n",
       "43                    Finland     4771321     72.99 17,473.72\n",
       "44                     France    52952564     74.35 18,833.57\n",
       "45                      Gabon      795415     51.22 11,529.87\n",
       "46                     Gambia      793138     44.40    680.13\n",
       "47                    Germany    77547043     73.44 20,556.68\n",
       "48                      Ghana    12616626     52.34  1,044.58\n",
       "49                     Greece     9424181     73.73 13,969.04\n",
       "50                  Guatemala     6858694     56.73  4,015.40\n",
       "51                     Guinea     5360550     43.24    776.07\n",
       "52              Guinea-Bissau      882008     39.21    652.16\n",
       "53                      Haiti     5401633     50.17  1,620.74\n",
       "54                   Honduras     3920593     57.92  2,834.41\n",
       "55           Hong Kong, China     4792259     73.49 16,228.70\n",
       "56                    Hungary    10217645     69.39 10,888.18\n",
       "57                    Iceland      226978     76.51 20,531.42\n",
       "58                      India   701130739     53.17  1,057.30\n",
       "59                  Indonesia   148322833     54.34  1,741.37\n",
       "60                       Iran    42301706     58.64  7,376.58\n",
       "61                       Iraq    14187495     56.58  7,811.81\n",
       "62                    Ireland     3340825     73.02 15,758.61\n",
       "63                      Italy    54536958     74.01 16,245.21\n",
       "64                    Jamaica     2135122     68.75  6,197.65\n",
       "65                      Japan   111758808     74.83 17,750.87\n",
       "66                     Jordan     2667972     59.79  3,128.12\n",
       "67                      Kenya    18206250     52.68  1,200.42\n",
       "68           Korea, Dem. Rep.    16453881     63.61  2,591.85\n",
       "69                Korea, Rep.    36499386     65.00  8,217.32\n",
       "70                     Kuwait     1206495     68.92 65,332.91\n",
       "71                    Lebanon     2781846     65.87  7,269.22\n",
       "72                    Lesotho     1389696     50.01    780.55\n",
       "73                    Liberia     1813857     42.48    604.81\n",
       "74                      Libya     3166803     59.30 12,013.58\n",
       "75                 Madagascar     9902402     47.77  1,335.60\n",
       "76                     Malawi     7016377     43.35    575.45\n",
       "77                   Malaysia    14574055     64.28  5,406.04\n",
       "78                       Mali     7112340     43.41    673.09\n",
       "79                 Mauritania     1782723     52.30  1,356.67\n",
       "80                  Mauritius      926072     64.95  4,768.94\n",
       "81                     Mexico    68414297     65.41  7,724.11\n",
       "82                   Mongolia     1734850     55.89  1,692.80\n",
       "83                 Montenegro      564269     70.30  7,208.06\n",
       "84                    Morocco    20555741     57.61  2,447.91\n",
       "85                 Mozambique    12046695     40.38    542.28\n",
       "86                    Myanmar    33432292     53.32    439.33\n",
       "87                    Namibia     1157849     53.49  3,675.58\n",
       "88                      Nepal    16551744     48.99    782.73\n",
       "89                Netherlands    13786797     75.65 21,748.85\n",
       "90                New Zealand     3100032     73.99 17,262.62\n",
       "91                  Nicaragua     3040975     58.35  3,424.66\n",
       "92                      Niger     6857373     44.56    781.08\n",
       "93                    Nigeria    73708017     43.58  1,488.31\n",
       "94                     Norway     4031441     75.84 26,747.31\n",
       "95                       Oman     1438205     58.44 12,138.56\n",
       "96                   Pakistan    93683385     54.88  1,439.27\n",
       "97                     Panama     1985290     67.80  5,754.83\n",
       "98                   Paraguay     3555485     66.81  3,239.61\n",
       "99                       Peru    17559093     58.86  5,613.84\n",
       "100               Philippines    52636628     60.97  2,174.77\n",
       "101                    Poland    34323304     70.18  8,416.55\n",
       "102                  Portugal     9586273     70.42 11,354.09\n",
       "103               Puerto Rico     3115178     72.74 10,863.16\n",
       "104                   Reunion      518497     66.64  4,898.40\n",
       "105                   Romania    20819090     68.29  7,300.17\n",
       "106                    Rwanda     5298435     41.48    675.67\n",
       "107     Sao Tome and Principe      105977     57.90  1,382.78\n",
       "108              Saudi Arabia    12478368     58.68 20,261.74\n",
       "109                   Senegal     6446305     50.63  1,533.12\n",
       "110                    Serbia     8783886     68.55  9,305.05\n",
       "111              Sierra Leone     3605424     36.77  1,072.82\n",
       "112                 Singapore     2667817     71.22 17,425.38\n",
       "113           Slovak Republic     4774507     70.70 10,415.53\n",
       "114                  Slovenia     1794381     71.60 14,074.58\n",
       "115                   Somalia     5197197     40.99  1,140.79\n",
       "116              South Africa    29928352     53.99  7,247.43\n",
       "117                     Spain    35851798     74.20 14,029.83\n",
       "118                 Sri Lanka    14545831     66.53  1,854.73\n",
       "119                     Sudan    21560331     48.40  1,835.01\n",
       "120                 Swaziland      679052     49.00  3,163.35\n",
       "121                    Sweden     8220028     76.18 19,943.13\n",
       "122               Switzerland     6384293     75.57 27,074.33\n",
       "123                     Syria     9865378     61.35  3,009.29\n",
       "124                    Taiwan    16874723     70.34 10,224.81\n",
       "125                  Tanzania    20499497     47.91    849.28\n",
       "126                  Thailand    44961631     62.20  3,045.97\n",
       "127                      Togo     2895964     51.50  1,153.82\n",
       "128       Trinidad and Tobago     1006469     66.83  7,866.87\n",
       "129                   Tunisia     6686770     60.72  3,477.21\n",
       "130                    Turkey    45909008     59.70  4,469.45\n",
       "131                    Uganda    14361049     47.62    810.38\n",
       "132            United Kingdom    56087800     73.92 19,380.47\n",
       "133             United States   228211232     73.48 26,261.15\n",
       "134                   Uruguay     2912487     70.78  7,100.13\n",
       "135                 Venezuela    15129801     66.58 10,088.52\n",
       "136                   Vietnam    54568570     57.48  1,017.71\n",
       "137        West Bank and Gaza     1848606     60.33  3,760.00\n",
       "138               Yemen, Rep.    10843191     46.78  1,569.27\n",
       "139                    Zambia     6353804     46.00  1,358.20\n",
       "140                  Zimbabwe     7641966     52.66    635.86"
      ]
     },
     "execution_count": 104,
     "metadata": {},
     "output_type": "execute_result"
    }
   ],
   "source": [
    "df_grouping"
   ]
  },
  {
   "cell_type": "code",
   "execution_count": 105,
   "metadata": {},
   "outputs": [
    {
     "data": {
      "application/vnd.plotly.v1+json": {
       "config": {
        "plotlyServerURL": "https://plot.ly"
       },
       "data": [
        {
         "hovertemplate": "country=Afghanistan<br>gdp_cap=%{x}<br>life_exp=%{y}<br>population=%{marker.size}<extra></extra>",
         "legendgroup": "Afghanistan",
         "marker": {
          "color": "#636efa",
          "size": [
           15823715
          ],
          "sizemode": "area",
          "sizeref": 2395400.1275,
          "symbol": "circle"
         },
         "mode": "markers",
         "name": "Afghanistan",
         "orientation": "v",
         "showlegend": true,
         "type": "scatter",
         "x": [
          802.674598425
         ],
         "xaxis": "x",
         "y": [
          37.478833333333334
         ],
         "yaxis": "y"
        },
        {
         "hovertemplate": "country=Albania<br>gdp_cap=%{x}<br>life_exp=%{y}<br>population=%{marker.size}<extra></extra>",
         "legendgroup": "Albania",
         "marker": {
          "color": "#EF553B",
          "size": [
           2580249
          ],
          "sizemode": "area",
          "sizeref": 2395400.1275,
          "symbol": "circle"
         },
         "mode": "markers",
         "name": "Albania",
         "orientation": "v",
         "showlegend": true,
         "type": "scatter",
         "x": [
          3255.3666326666666
         ],
         "xaxis": "x",
         "y": [
          68.43291666666666
         ],
         "yaxis": "y"
        },
        {
         "hovertemplate": "country=Algeria<br>gdp_cap=%{x}<br>life_exp=%{y}<br>population=%{marker.size}<extra></extra>",
         "legendgroup": "Algeria",
         "marker": {
          "color": "#00cc96",
          "size": [
           19875406
          ],
          "sizemode": "area",
          "sizeref": 2395400.1275,
          "symbol": "circle"
         },
         "mode": "markers",
         "name": "Algeria",
         "orientation": "v",
         "showlegend": true,
         "type": "scatter",
         "x": [
          4426.0259731666665
         ],
         "xaxis": "x",
         "y": [
          59.030166666666666
         ],
         "yaxis": "y"
        },
        {
         "hovertemplate": "country=Angola<br>gdp_cap=%{x}<br>life_exp=%{y}<br>population=%{marker.size}<extra></extra>",
         "legendgroup": "Angola",
         "marker": {
          "color": "#ab63fa",
          "size": [
           7309390
          ],
          "sizemode": "area",
          "sizeref": 2395400.1275,
          "symbol": "circle"
         },
         "mode": "markers",
         "name": "Angola",
         "orientation": "v",
         "showlegend": true,
         "type": "scatter",
         "x": [
          3607.100528833333
         ],
         "xaxis": "x",
         "y": [
          37.8835
         ],
         "yaxis": "y"
        },
        {
         "hovertemplate": "country=Argentina<br>gdp_cap=%{x}<br>life_exp=%{y}<br>population=%{marker.size}<extra></extra>",
         "legendgroup": "Argentina",
         "marker": {
          "color": "#FFA15A",
          "size": [
           28602239
          ],
          "sizemode": "area",
          "sizeref": 2395400.1275,
          "symbol": "circle"
         },
         "mode": "markers",
         "name": "Argentina",
         "orientation": "v",
         "showlegend": true,
         "type": "scatter",
         "x": [
          8955.553782666668
         ],
         "xaxis": "x",
         "y": [
          69.06041666666667
         ],
         "yaxis": "y"
        },
        {
         "hovertemplate": "country=Australia<br>gdp_cap=%{x}<br>life_exp=%{y}<br>population=%{marker.size}<extra></extra>",
         "legendgroup": "Australia",
         "marker": {
          "color": "#19d3f3",
          "size": [
           14649312
          ],
          "sizemode": "area",
          "sizeref": 2395400.1275,
          "symbol": "circle"
         },
         "mode": "markers",
         "name": "Australia",
         "orientation": "v",
         "showlegend": true,
         "type": "scatter",
         "x": [
          19980.595634166664
         ],
         "xaxis": "x",
         "y": [
          74.66291666666667
         ],
         "yaxis": "y"
        },
        {
         "hovertemplate": "country=Austria<br>gdp_cap=%{x}<br>life_exp=%{y}<br>population=%{marker.size}<extra></extra>",
         "legendgroup": "Austria",
         "marker": {
          "color": "#FF6692",
          "size": [
           7583298
          ],
          "sizemode": "area",
          "sizeref": 2395400.1275,
          "symbol": "circle"
         },
         "mode": "markers",
         "name": "Austria",
         "orientation": "v",
         "showlegend": true,
         "type": "scatter",
         "x": [
          20411.916279333334
         ],
         "xaxis": "x",
         "y": [
          73.10325
         ],
         "yaxis": "y"
        },
        {
         "hovertemplate": "country=Bahrain<br>gdp_cap=%{x}<br>life_exp=%{y}<br>population=%{marker.size}<extra></extra>",
         "legendgroup": "Bahrain",
         "marker": {
          "color": "#B6E880",
          "size": [
           373913
          ],
          "sizemode": "area",
          "sizeref": 2395400.1275,
          "symbol": "circle"
         },
         "mode": "markers",
         "name": "Bahrain",
         "orientation": "v",
         "showlegend": true,
         "type": "scatter",
         "x": [
          18077.66394541667
         ],
         "xaxis": "x",
         "y": [
          65.60566666666666
         ],
         "yaxis": "y"
        },
        {
         "hovertemplate": "country=Bangladesh<br>gdp_cap=%{x}<br>life_exp=%{y}<br>population=%{marker.size}<extra></extra>",
         "legendgroup": "Bangladesh",
         "marker": {
          "color": "#FF97FF",
          "size": [
           90755395
          ],
          "sizemode": "area",
          "sizeref": 2395400.1275,
          "symbol": "circle"
         },
         "mode": "markers",
         "name": "Bangladesh",
         "orientation": "v",
         "showlegend": true,
         "type": "scatter",
         "x": [
          817.5588182166666
         ],
         "xaxis": "x",
         "y": [
          49.83408333333333
         ],
         "yaxis": "y"
        },
        {
         "hovertemplate": "country=Belgium<br>gdp_cap=%{x}<br>life_exp=%{y}<br>population=%{marker.size}<extra></extra>",
         "legendgroup": "Belgium",
         "marker": {
          "color": "#FECB52",
          "size": [
           9725118
          ],
          "sizemode": "area",
          "sizeref": 2395400.1275,
          "symbol": "circle"
         },
         "mode": "markers",
         "name": "Belgium",
         "orientation": "v",
         "showlegend": true,
         "type": "scatter",
         "x": [
          19900.758071666667
         ],
         "xaxis": "x",
         "y": [
          73.64175
         ],
         "yaxis": "y"
        },
        {
         "hovertemplate": "country=Benin<br>gdp_cap=%{x}<br>life_exp=%{y}<br>population=%{marker.size}<extra></extra>",
         "legendgroup": "Benin",
         "marker": {
          "color": "#636efa",
          "size": [
           4017496
          ],
          "sizemode": "area",
          "sizeref": 2395400.1275,
          "symbol": "circle"
         },
         "mode": "markers",
         "name": "Benin",
         "orientation": "v",
         "showlegend": true,
         "type": "scatter",
         "x": [
          1155.3951073833334
         ],
         "xaxis": "x",
         "y": [
          48.77991666666667
         ],
         "yaxis": "y"
        },
        {
         "hovertemplate": "country=Bolivia<br>gdp_cap=%{x}<br>life_exp=%{y}<br>population=%{marker.size}<extra></extra>",
         "legendgroup": "Bolivia",
         "marker": {
          "color": "#EF553B",
          "size": [
           5610395
          ],
          "sizemode": "area",
          "sizeref": 2395400.1275,
          "symbol": "circle"
         },
         "mode": "markers",
         "name": "Bolivia",
         "orientation": "v",
         "showlegend": true,
         "type": "scatter",
         "x": [
          2961.2287536666668
         ],
         "xaxis": "x",
         "y": [
          52.504583333333336
         ],
         "yaxis": "y"
        },
        {
         "hovertemplate": "country=Bosnia and Herzegovina<br>gdp_cap=%{x}<br>life_exp=%{y}<br>population=%{marker.size}<extra></extra>",
         "legendgroup": "Bosnia and Herzegovina",
         "marker": {
          "color": "#00cc96",
          "size": [
           3816524
          ],
          "sizemode": "area",
          "sizeref": 2395400.1275,
          "symbol": "circle"
         },
         "mode": "markers",
         "name": "Bosnia and Herzegovina",
         "orientation": "v",
         "showlegend": true,
         "type": "scatter",
         "x": [
          3484.7790694
         ],
         "xaxis": "x",
         "y": [
          67.70783333333334
         ],
         "yaxis": "y"
        },
        {
         "hovertemplate": "country=Botswana<br>gdp_cap=%{x}<br>life_exp=%{y}<br>population=%{marker.size}<extra></extra>",
         "legendgroup": "Botswana",
         "marker": {
          "color": "#ab63fa",
          "size": [
           971186
          ],
          "sizemode": "area",
          "sizeref": 2395400.1275,
          "symbol": "circle"
         },
         "mode": "markers",
         "name": "Botswana",
         "orientation": "v",
         "showlegend": true,
         "type": "scatter",
         "x": [
          5031.503557166667
         ],
         "xaxis": "x",
         "y": [
          54.5975
         ],
         "yaxis": "y"
        },
        {
         "hovertemplate": "country=Brazil<br>gdp_cap=%{x}<br>life_exp=%{y}<br>population=%{marker.size}<extra></extra>",
         "legendgroup": "Brazil",
         "marker": {
          "color": "#FFA15A",
          "size": [
           122312126
          ],
          "sizemode": "area",
          "sizeref": 2395400.1275,
          "symbol": "circle"
         },
         "mode": "markers",
         "name": "Brazil",
         "orientation": "v",
         "showlegend": true,
         "type": "scatter",
         "x": [
          5829.31665275
         ],
         "xaxis": "x",
         "y": [
          62.2395
         ],
         "yaxis": "y"
        },
        {
         "hovertemplate": "country=Bulgaria<br>gdp_cap=%{x}<br>life_exp=%{y}<br>population=%{marker.size}<extra></extra>",
         "legendgroup": "Bulgaria",
         "marker": {
          "color": "#19d3f3",
          "size": [
           8182985
          ],
          "sizemode": "area",
          "sizeref": 2395400.1275,
          "symbol": "circle"
         },
         "mode": "markers",
         "name": "Bulgaria",
         "orientation": "v",
         "showlegend": true,
         "type": "scatter",
         "x": [
          6384.055172
         ],
         "xaxis": "x",
         "y": [
          69.74374999999999
         ],
         "yaxis": "y"
        },
        {
         "hovertemplate": "country=Burkina Faso<br>gdp_cap=%{x}<br>life_exp=%{y}<br>population=%{marker.size}<extra></extra>",
         "legendgroup": "Burkina Faso",
         "marker": {
          "color": "#FF6692",
          "size": [
           7548677
          ],
          "sizemode": "area",
          "sizeref": 2395400.1275,
          "symbol": "circle"
         },
         "mode": "markers",
         "name": "Burkina Faso",
         "orientation": "v",
         "showlegend": true,
         "type": "scatter",
         "x": [
          843.9906647166666
         ],
         "xaxis": "x",
         "y": [
          44.693999999999996
         ],
         "yaxis": "y"
        },
        {
         "hovertemplate": "country=Burundi<br>gdp_cap=%{x}<br>life_exp=%{y}<br>population=%{marker.size}<extra></extra>",
         "legendgroup": "Burundi",
         "marker": {
          "color": "#B6E880",
          "size": [
           4651608
          ],
          "sizemode": "area",
          "sizeref": 2395400.1275,
          "symbol": "circle"
         },
         "mode": "markers",
         "name": "Burundi",
         "orientation": "v",
         "showlegend": true,
         "type": "scatter",
         "x": [
          471.6629897
         ],
         "xaxis": "x",
         "y": [
          44.81733333333333
         ],
         "yaxis": "y"
        },
        {
         "hovertemplate": "country=Cambodia<br>gdp_cap=%{x}<br>life_exp=%{y}<br>population=%{marker.size}<extra></extra>",
         "legendgroup": "Cambodia",
         "marker": {
          "color": "#FF97FF",
          "size": [
           8510430
          ],
          "sizemode": "area",
          "sizeref": 2395400.1275,
          "symbol": "circle"
         },
         "mode": "markers",
         "name": "Cambodia",
         "orientation": "v",
         "showlegend": true,
         "type": "scatter",
         "x": [
          675.3678242583334
         ],
         "xaxis": "x",
         "y": [
          47.90275
         ],
         "yaxis": "y"
        },
        {
         "hovertemplate": "country=Cameroon<br>gdp_cap=%{x}<br>life_exp=%{y}<br>population=%{marker.size}<extra></extra>",
         "legendgroup": "Cameroon",
         "marker": {
          "color": "#FECB52",
          "size": [
           9816648
          ],
          "sizemode": "area",
          "sizeref": 2395400.1275,
          "symbol": "circle"
         },
         "mode": "markers",
         "name": "Cameroon",
         "orientation": "v",
         "showlegend": true,
         "type": "scatter",
         "x": [
          1774.6342223333334
         ],
         "xaxis": "x",
         "y": [
          48.1285
         ],
         "yaxis": "y"
        },
        {
         "hovertemplate": "country=Canada<br>gdp_cap=%{x}<br>life_exp=%{y}<br>population=%{marker.size}<extra></extra>",
         "legendgroup": "Canada",
         "marker": {
          "color": "#636efa",
          "size": [
           24462967
          ],
          "sizemode": "area",
          "sizeref": 2395400.1275,
          "symbol": "circle"
         },
         "mode": "markers",
         "name": "Canada",
         "orientation": "v",
         "showlegend": true,
         "type": "scatter",
         "x": [
          22410.746339999998
         ],
         "xaxis": "x",
         "y": [
          74.90275
         ],
         "yaxis": "y"
        },
        {
         "hovertemplate": "country=Central African Republic<br>gdp_cap=%{x}<br>life_exp=%{y}<br>population=%{marker.size}<extra></extra>",
         "legendgroup": "Central African Republic",
         "marker": {
          "color": "#EF553B",
          "size": [
           2560963
          ],
          "sizemode": "area",
          "sizeref": 2395400.1275,
          "symbol": "circle"
         },
         "mode": "markers",
         "name": "Central African Republic",
         "orientation": "v",
         "showlegend": true,
         "type": "scatter",
         "x": [
          958.7846969833334
         ],
         "xaxis": "x",
         "y": [
          43.86691666666667
         ],
         "yaxis": "y"
        },
        {
         "hovertemplate": "country=Chad<br>gdp_cap=%{x}<br>life_exp=%{y}<br>population=%{marker.size}<extra></extra>",
         "legendgroup": "Chad",
         "marker": {
          "color": "#00cc96",
          "size": [
           5329256
          ],
          "sizemode": "area",
          "sizeref": 2395400.1275,
          "symbol": "circle"
         },
         "mode": "markers",
         "name": "Chad",
         "orientation": "v",
         "showlegend": true,
         "type": "scatter",
         "x": [
          1165.4536742166667
         ],
         "xaxis": "x",
         "y": [
          46.773583333333335
         ],
         "yaxis": "y"
        },
        {
         "hovertemplate": "country=Chile<br>gdp_cap=%{x}<br>life_exp=%{y}<br>population=%{marker.size}<extra></extra>",
         "legendgroup": "Chile",
         "marker": {
          "color": "#ab63fa",
          "size": [
           11205725
          ],
          "sizemode": "area",
          "sizeref": 2395400.1275,
          "symbol": "circle"
         },
         "mode": "markers",
         "name": "Chile",
         "orientation": "v",
         "showlegend": true,
         "type": "scatter",
         "x": [
          6703.289147083334
         ],
         "xaxis": "x",
         "y": [
          67.43091666666668
         ],
         "yaxis": "y"
        },
        {
         "hovertemplate": "country=China<br>gdp_cap=%{x}<br>life_exp=%{y}<br>population=%{marker.size}<extra></extra>",
         "legendgroup": "China",
         "marker": {
          "color": "#FFA15A",
          "size": [
           958160051
          ],
          "sizemode": "area",
          "sizeref": 2395400.1275,
          "symbol": "circle"
         },
         "mode": "markers",
         "name": "China",
         "orientation": "v",
         "showlegend": true,
         "type": "scatter",
         "x": [
          1488.3076940083336
         ],
         "xaxis": "x",
         "y": [
          61.785140000000006
         ],
         "yaxis": "y"
        },
        {
         "hovertemplate": "country=Colombia<br>gdp_cap=%{x}<br>life_exp=%{y}<br>population=%{marker.size}<extra></extra>",
         "legendgroup": "Colombia",
         "marker": {
          "color": "#19d3f3",
          "size": [
           27256099
          ],
          "sizemode": "area",
          "sizeref": 2395400.1275,
          "symbol": "circle"
         },
         "mode": "markers",
         "name": "Colombia",
         "orientation": "v",
         "showlegend": true,
         "type": "scatter",
         "x": [
          4195.342919916667
         ],
         "xaxis": "x",
         "y": [
          63.89775
         ],
         "yaxis": "y"
        },
        {
         "hovertemplate": "country=Comoros<br>gdp_cap=%{x}<br>life_exp=%{y}<br>population=%{marker.size}<extra></extra>",
         "legendgroup": "Comoros",
         "marker": {
          "color": "#FF6692",
          "size": [
           361683
          ],
          "sizemode": "area",
          "sizeref": 2395400.1275,
          "symbol": "circle"
         },
         "mode": "markers",
         "name": "Comoros",
         "orientation": "v",
         "showlegend": true,
         "type": "scatter",
         "x": [
          1314.3803386833333
         ],
         "xaxis": "x",
         "y": [
          52.381750000000004
         ],
         "yaxis": "y"
        },
        {
         "hovertemplate": "country=Congo, Dem. Rep.<br>gdp_cap=%{x}<br>life_exp=%{y}<br>population=%{marker.size}<extra></extra>",
         "legendgroup": "Congo, Dem. Rep.",
         "marker": {
          "color": "#B6E880",
          "size": [
           32681655
          ],
          "sizemode": "area",
          "sizeref": 2395400.1275,
          "symbol": "circle"
         },
         "mode": "markers",
         "name": "Congo, Dem. Rep.",
         "orientation": "v",
         "showlegend": true,
         "type": "scatter",
         "x": [
          648.34264595
         ],
         "xaxis": "x",
         "y": [
          44.543749999999996
         ],
         "yaxis": "y"
        },
        {
         "hovertemplate": "country=Congo, Rep.<br>gdp_cap=%{x}<br>life_exp=%{y}<br>population=%{marker.size}<extra></extra>",
         "legendgroup": "Congo, Rep.",
         "marker": {
          "color": "#FF97FF",
          "size": [
           1923209
          ],
          "sizemode": "area",
          "sizeref": 2395400.1275,
          "symbol": "circle"
         },
         "mode": "markers",
         "name": "Congo, Rep.",
         "orientation": "v",
         "showlegend": true,
         "type": "scatter",
         "x": [
          3312.7882151666668
         ],
         "xaxis": "x",
         "y": [
          52.501916666666666
         ],
         "yaxis": "y"
        },
        {
         "hovertemplate": "country=Costa Rica<br>gdp_cap=%{x}<br>life_exp=%{y}<br>population=%{marker.size}<extra></extra>",
         "legendgroup": "Costa Rica",
         "marker": {
          "color": "#FECB52",
          "size": [
           2400007
          ],
          "sizemode": "area",
          "sizeref": 2395400.1275,
          "symbol": "circle"
         },
         "mode": "markers",
         "name": "Costa Rica",
         "orientation": "v",
         "showlegend": true,
         "type": "scatter",
         "x": [
          5448.610779416666
         ],
         "xaxis": "x",
         "y": [
          70.18141666666666
         ],
         "yaxis": "y"
        },
        {
         "hovertemplate": "country=Cote d'Ivoire<br>gdp_cap=%{x}<br>life_exp=%{y}<br>population=%{marker.size}<extra></extra>",
         "legendgroup": "Cote d'Ivoire",
         "marker": {
          "color": "#636efa",
          "size": [
           9153109
          ],
          "sizemode": "area",
          "sizeref": 2395400.1275,
          "symbol": "circle"
         },
         "mode": "markers",
         "name": "Cote d'Ivoire",
         "orientation": "v",
         "showlegend": true,
         "type": "scatter",
         "x": [
          1912.82538225
         ],
         "xaxis": "x",
         "y": [
          48.43616666666667
         ],
         "yaxis": "y"
        },
        {
         "hovertemplate": "country=Croatia<br>gdp_cap=%{x}<br>life_exp=%{y}<br>population=%{marker.size}<extra></extra>",
         "legendgroup": "Croatia",
         "marker": {
          "color": "#EF553B",
          "size": [
           4289916
          ],
          "sizemode": "area",
          "sizeref": 2395400.1275,
          "symbol": "circle"
         },
         "mode": "markers",
         "name": "Croatia",
         "orientation": "v",
         "showlegend": true,
         "type": "scatter",
         "x": [
          9331.712345916667
         ],
         "xaxis": "x",
         "y": [
          70.05591666666668
         ],
         "yaxis": "y"
        },
        {
         "hovertemplate": "country=Cuba<br>gdp_cap=%{x}<br>life_exp=%{y}<br>population=%{marker.size}<extra></extra>",
         "legendgroup": "Cuba",
         "marker": {
          "color": "#00cc96",
          "size": [
           9232575
          ],
          "sizemode": "area",
          "sizeref": 2395400.1275,
          "symbol": "circle"
         },
         "mode": "markers",
         "name": "Cuba",
         "orientation": "v",
         "showlegend": true,
         "type": "scatter",
         "x": [
          6283.258678333333
         ],
         "xaxis": "x",
         "y": [
          71.04508333333332
         ],
         "yaxis": "y"
        },
        {
         "hovertemplate": "country=Czech Republic<br>gdp_cap=%{x}<br>life_exp=%{y}<br>population=%{marker.size}<extra></extra>",
         "legendgroup": "Czech Republic",
         "marker": {
          "color": "#ab63fa",
          "size": [
           9986262
          ],
          "sizemode": "area",
          "sizeref": 2395400.1275,
          "symbol": "circle"
         },
         "mode": "markers",
         "name": "Czech Republic",
         "orientation": "v",
         "showlegend": true,
         "type": "scatter",
         "x": [
          13920.011379000001
         ],
         "xaxis": "x",
         "y": [
          71.5105
         ],
         "yaxis": "y"
        },
        {
         "hovertemplate": "country=Denmark<br>gdp_cap=%{x}<br>life_exp=%{y}<br>population=%{marker.size}<extra></extra>",
         "legendgroup": "Denmark",
         "marker": {
          "color": "#FFA15A",
          "size": [
           4994187
          ],
          "sizemode": "area",
          "sizeref": 2395400.1275,
          "symbol": "circle"
         },
         "mode": "markers",
         "name": "Denmark",
         "orientation": "v",
         "showlegend": true,
         "type": "scatter",
         "x": [
          21671.824887916668
         ],
         "xaxis": "x",
         "y": [
          74.37016666666666
         ],
         "yaxis": "y"
        },
        {
         "hovertemplate": "country=Djibouti<br>gdp_cap=%{x}<br>life_exp=%{y}<br>population=%{marker.size}<extra></extra>",
         "legendgroup": "Djibouti",
         "marker": {
          "color": "#19d3f3",
          "size": [
           260243
          ],
          "sizemode": "area",
          "sizeref": 2395400.1275,
          "symbol": "circle"
         },
         "mode": "markers",
         "name": "Djibouti",
         "orientation": "v",
         "showlegend": true,
         "type": "scatter",
         "x": [
          2697.8331621666666
         ],
         "xaxis": "x",
         "y": [
          46.38075
         ],
         "yaxis": "y"
        },
        {
         "hovertemplate": "country=Dominican Republic<br>gdp_cap=%{x}<br>life_exp=%{y}<br>population=%{marker.size}<extra></extra>",
         "legendgroup": "Dominican Republic",
         "marker": {
          "color": "#FF6692",
          "size": [
           5735697
          ],
          "sizemode": "area",
          "sizeref": 2395400.1275,
          "symbol": "circle"
         },
         "mode": "markers",
         "name": "Dominican Republic",
         "orientation": "v",
         "showlegend": true,
         "type": "scatter",
         "x": [
          2844.8564049166666
         ],
         "xaxis": "x",
         "y": [
          61.5545
         ],
         "yaxis": "y"
        },
        {
         "hovertemplate": "country=Ecuador<br>gdp_cap=%{x}<br>life_exp=%{y}<br>population=%{marker.size}<extra></extra>",
         "legendgroup": "Ecuador",
         "marker": {
          "color": "#B6E880",
          "size": [
           8212243
          ],
          "sizemode": "area",
          "sizeref": 2395400.1275,
          "symbol": "circle"
         },
         "mode": "markers",
         "name": "Ecuador",
         "orientation": "v",
         "showlegend": true,
         "type": "scatter",
         "x": [
          5733.62476675
         ],
         "xaxis": "x",
         "y": [
          62.816833333333335
         ],
         "yaxis": "y"
        },
        {
         "hovertemplate": "country=Egypt<br>gdp_cap=%{x}<br>life_exp=%{y}<br>population=%{marker.size}<extra></extra>",
         "legendgroup": "Egypt",
         "marker": {
          "color": "#FF97FF",
          "size": [
           46522774
          ],
          "sizemode": "area",
          "sizeref": 2395400.1275,
          "symbol": "circle"
         },
         "mode": "markers",
         "name": "Egypt",
         "orientation": "v",
         "showlegend": true,
         "type": "scatter",
         "x": [
          3074.030731416667
         ],
         "xaxis": "x",
         "y": [
          56.242999999999995
         ],
         "yaxis": "y"
        },
        {
         "hovertemplate": "country=El Salvador<br>gdp_cap=%{x}<br>life_exp=%{y}<br>population=%{marker.size}<extra></extra>",
         "legendgroup": "El Salvador",
         "marker": {
          "color": "#FECB52",
          "size": [
           4343441
          ],
          "sizemode": "area",
          "sizeref": 2395400.1275,
          "symbol": "circle"
         },
         "mode": "markers",
         "name": "El Salvador",
         "orientation": "v",
         "showlegend": true,
         "type": "scatter",
         "x": [
          4431.846597333333
         ],
         "xaxis": "x",
         "y": [
          59.63333333333333
         ],
         "yaxis": "y"
        },
        {
         "hovertemplate": "country=Equatorial Guinea<br>gdp_cap=%{x}<br>life_exp=%{y}<br>population=%{marker.size}<extra></extra>",
         "legendgroup": "Equatorial Guinea",
         "marker": {
          "color": "#636efa",
          "size": [
           327551
          ],
          "sizemode": "area",
          "sizeref": 2395400.1275,
          "symbol": "circle"
         },
         "mode": "markers",
         "name": "Equatorial Guinea",
         "orientation": "v",
         "showlegend": true,
         "type": "scatter",
         "x": [
          2469.1666809333333
         ],
         "xaxis": "x",
         "y": [
          42.96
         ],
         "yaxis": "y"
        },
        {
         "hovertemplate": "country=Eritrea<br>gdp_cap=%{x}<br>life_exp=%{y}<br>population=%{marker.size}<extra></extra>",
         "legendgroup": "Eritrea",
         "marker": {
          "color": "#EF553B",
          "size": [
           2820216
          ],
          "sizemode": "area",
          "sizeref": 2395400.1275,
          "symbol": "circle"
         },
         "mode": "markers",
         "name": "Eritrea",
         "orientation": "v",
         "showlegend": true,
         "type": "scatter",
         "x": [
          541.0025066666667
         ],
         "xaxis": "x",
         "y": [
          45.999249999999996
         ],
         "yaxis": "y"
        },
        {
         "hovertemplate": "country=Ethiopia<br>gdp_cap=%{x}<br>life_exp=%{y}<br>population=%{marker.size}<extra></extra>",
         "legendgroup": "Ethiopia",
         "marker": {
          "color": "#00cc96",
          "size": [
           41632518
          ],
          "sizemode": "area",
          "sizeref": 2395400.1275,
          "symbol": "circle"
         },
         "mode": "markers",
         "name": "Ethiopia",
         "orientation": "v",
         "showlegend": true,
         "type": "scatter",
         "x": [
          509.11515549999996
         ],
         "xaxis": "x",
         "y": [
          44.475750000000005
         ],
         "yaxis": "y"
        },
        {
         "hovertemplate": "country=Finland<br>gdp_cap=%{x}<br>life_exp=%{y}<br>population=%{marker.size}<extra></extra>",
         "legendgroup": "Finland",
         "marker": {
          "color": "#ab63fa",
          "size": [
           4771321
          ],
          "sizemode": "area",
          "sizeref": 2395400.1275,
          "symbol": "circle"
         },
         "mode": "markers",
         "name": "Finland",
         "orientation": "v",
         "showlegend": true,
         "type": "scatter",
         "x": [
          17473.72266733333
         ],
         "xaxis": "x",
         "y": [
          72.99191666666667
         ],
         "yaxis": "y"
        },
        {
         "hovertemplate": "country=France<br>gdp_cap=%{x}<br>life_exp=%{y}<br>population=%{marker.size}<extra></extra>",
         "legendgroup": "France",
         "marker": {
          "color": "#FFA15A",
          "size": [
           52952564
          ],
          "sizemode": "area",
          "sizeref": 2395400.1275,
          "symbol": "circle"
         },
         "mode": "markers",
         "name": "France",
         "orientation": "v",
         "showlegend": true,
         "type": "scatter",
         "x": [
          18833.570327083333
         ],
         "xaxis": "x",
         "y": [
          74.34891666666667
         ],
         "yaxis": "y"
        },
        {
         "hovertemplate": "country=Gabon<br>gdp_cap=%{x}<br>life_exp=%{y}<br>population=%{marker.size}<extra></extra>",
         "legendgroup": "Gabon",
         "marker": {
          "color": "#19d3f3",
          "size": [
           795415
          ],
          "sizemode": "area",
          "sizeref": 2395400.1275,
          "symbol": "circle"
         },
         "mode": "markers",
         "name": "Gabon",
         "orientation": "v",
         "showlegend": true,
         "type": "scatter",
         "x": [
          11529.865474416665
         ],
         "xaxis": "x",
         "y": [
          51.220499999999994
         ],
         "yaxis": "y"
        },
        {
         "hovertemplate": "country=Gambia<br>gdp_cap=%{x}<br>life_exp=%{y}<br>population=%{marker.size}<extra></extra>",
         "legendgroup": "Gambia",
         "marker": {
          "color": "#FF6692",
          "size": [
           793138
          ],
          "sizemode": "area",
          "sizeref": 2395400.1275,
          "symbol": "circle"
         },
         "mode": "markers",
         "name": "Gambia",
         "orientation": "v",
         "showlegend": true,
         "type": "scatter",
         "x": [
          680.1325855583333
         ],
         "xaxis": "x",
         "y": [
          44.40058333333334
         ],
         "yaxis": "y"
        },
        {
         "hovertemplate": "country=Germany<br>gdp_cap=%{x}<br>life_exp=%{y}<br>population=%{marker.size}<extra></extra>",
         "legendgroup": "Germany",
         "marker": {
          "color": "#B6E880",
          "size": [
           77547043
          ],
          "sizemode": "area",
          "sizeref": 2395400.1275,
          "symbol": "circle"
         },
         "mode": "markers",
         "name": "Germany",
         "orientation": "v",
         "showlegend": true,
         "type": "scatter",
         "x": [
          20556.68443275
         ],
         "xaxis": "x",
         "y": [
          73.44441666666667
         ],
         "yaxis": "y"
        },
        {
         "hovertemplate": "country=Ghana<br>gdp_cap=%{x}<br>life_exp=%{y}<br>population=%{marker.size}<extra></extra>",
         "legendgroup": "Ghana",
         "marker": {
          "color": "#FF97FF",
          "size": [
           12616626
          ],
          "sizemode": "area",
          "sizeref": 2395400.1275,
          "symbol": "circle"
         },
         "mode": "markers",
         "name": "Ghana",
         "orientation": "v",
         "showlegend": true,
         "type": "scatter",
         "x": [
          1044.5820461416668
         ],
         "xaxis": "x",
         "y": [
          52.340666666666664
         ],
         "yaxis": "y"
        },
        {
         "hovertemplate": "country=Greece<br>gdp_cap=%{x}<br>life_exp=%{y}<br>population=%{marker.size}<extra></extra>",
         "legendgroup": "Greece",
         "marker": {
          "color": "#FECB52",
          "size": [
           9424181
          ],
          "sizemode": "area",
          "sizeref": 2395400.1275,
          "symbol": "circle"
         },
         "mode": "markers",
         "name": "Greece",
         "orientation": "v",
         "showlegend": true,
         "type": "scatter",
         "x": [
          13969.036832916667
         ],
         "xaxis": "x",
         "y": [
          73.73316666666666
         ],
         "yaxis": "y"
        },
        {
         "hovertemplate": "country=Guatemala<br>gdp_cap=%{x}<br>life_exp=%{y}<br>population=%{marker.size}<extra></extra>",
         "legendgroup": "Guatemala",
         "marker": {
          "color": "#636efa",
          "size": [
           6858694
          ],
          "sizemode": "area",
          "sizeref": 2395400.1275,
          "symbol": "circle"
         },
         "mode": "markers",
         "name": "Guatemala",
         "orientation": "v",
         "showlegend": true,
         "type": "scatter",
         "x": [
          4015.4027714166664
         ],
         "xaxis": "x",
         "y": [
          56.72941666666667
         ],
         "yaxis": "y"
        },
        {
         "hovertemplate": "country=Guinea<br>gdp_cap=%{x}<br>life_exp=%{y}<br>population=%{marker.size}<extra></extra>",
         "legendgroup": "Guinea",
         "marker": {
          "color": "#EF553B",
          "size": [
           5360550
          ],
          "sizemode": "area",
          "sizeref": 2395400.1275,
          "symbol": "circle"
         },
         "mode": "markers",
         "name": "Guinea",
         "orientation": "v",
         "showlegend": true,
         "type": "scatter",
         "x": [
          776.067304675
         ],
         "xaxis": "x",
         "y": [
          43.23983333333334
         ],
         "yaxis": "y"
        },
        {
         "hovertemplate": "country=Guinea-Bissau<br>gdp_cap=%{x}<br>life_exp=%{y}<br>population=%{marker.size}<extra></extra>",
         "legendgroup": "Guinea-Bissau",
         "marker": {
          "color": "#00cc96",
          "size": [
           882008
          ],
          "sizemode": "area",
          "sizeref": 2395400.1275,
          "symbol": "circle"
         },
         "mode": "markers",
         "name": "Guinea-Bissau",
         "orientation": "v",
         "showlegend": true,
         "type": "scatter",
         "x": [
          652.1572081
         ],
         "xaxis": "x",
         "y": [
          39.210249999999995
         ],
         "yaxis": "y"
        },
        {
         "hovertemplate": "country=Haiti<br>gdp_cap=%{x}<br>life_exp=%{y}<br>population=%{marker.size}<extra></extra>",
         "legendgroup": "Haiti",
         "marker": {
          "color": "#ab63fa",
          "size": [
           5401633
          ],
          "sizemode": "area",
          "sizeref": 2395400.1275,
          "symbol": "circle"
         },
         "mode": "markers",
         "name": "Haiti",
         "orientation": "v",
         "showlegend": true,
         "type": "scatter",
         "x": [
          1620.7392895
         ],
         "xaxis": "x",
         "y": [
          50.16524999999999
         ],
         "yaxis": "y"
        },
        {
         "hovertemplate": "country=Honduras<br>gdp_cap=%{x}<br>life_exp=%{y}<br>population=%{marker.size}<extra></extra>",
         "legendgroup": "Honduras",
         "marker": {
          "color": "#FFA15A",
          "size": [
           3920593
          ],
          "sizemode": "area",
          "sizeref": 2395400.1275,
          "symbol": "circle"
         },
         "mode": "markers",
         "name": "Honduras",
         "orientation": "v",
         "showlegend": true,
         "type": "scatter",
         "x": [
          2834.4130831666666
         ],
         "xaxis": "x",
         "y": [
          57.92083333333333
         ],
         "yaxis": "y"
        },
        {
         "hovertemplate": "country=Hong Kong, China<br>gdp_cap=%{x}<br>life_exp=%{y}<br>population=%{marker.size}<extra></extra>",
         "legendgroup": "Hong Kong, China",
         "marker": {
          "color": "#19d3f3",
          "size": [
           4792259
          ],
          "sizemode": "area",
          "sizeref": 2395400.1275,
          "symbol": "circle"
         },
         "mode": "markers",
         "name": "Hong Kong, China",
         "orientation": "v",
         "showlegend": true,
         "type": "scatter",
         "x": [
          16228.700864749999
         ],
         "xaxis": "x",
         "y": [
          73.49283333333334
         ],
         "yaxis": "y"
        },
        {
         "hovertemplate": "country=Hungary<br>gdp_cap=%{x}<br>life_exp=%{y}<br>population=%{marker.size}<extra></extra>",
         "legendgroup": "Hungary",
         "marker": {
          "color": "#FF6692",
          "size": [
           10217645
          ],
          "sizemode": "area",
          "sizeref": 2395400.1275,
          "symbol": "circle"
         },
         "mode": "markers",
         "name": "Hungary",
         "orientation": "v",
         "showlegend": true,
         "type": "scatter",
         "x": [
          10888.175653666667
         ],
         "xaxis": "x",
         "y": [
          69.39316666666666
         ],
         "yaxis": "y"
        },
        {
         "hovertemplate": "country=Iceland<br>gdp_cap=%{x}<br>life_exp=%{y}<br>population=%{marker.size}<extra></extra>",
         "legendgroup": "Iceland",
         "marker": {
          "color": "#B6E880",
          "size": [
           226978
          ],
          "sizemode": "area",
          "sizeref": 2395400.1275,
          "symbol": "circle"
         },
         "mode": "markers",
         "name": "Iceland",
         "orientation": "v",
         "showlegend": true,
         "type": "scatter",
         "x": [
          20531.4222725
         ],
         "xaxis": "x",
         "y": [
          76.51141666666666
         ],
         "yaxis": "y"
        },
        {
         "hovertemplate": "country=India<br>gdp_cap=%{x}<br>life_exp=%{y}<br>population=%{marker.size}<extra></extra>",
         "legendgroup": "India",
         "marker": {
          "color": "#FF97FF",
          "size": [
           701130739
          ],
          "sizemode": "area",
          "sizeref": 2395400.1275,
          "symbol": "circle"
         },
         "mode": "markers",
         "name": "India",
         "orientation": "v",
         "showlegend": true,
         "type": "scatter",
         "x": [
          1057.29630685
         ],
         "xaxis": "x",
         "y": [
          53.166083333333326
         ],
         "yaxis": "y"
        },
        {
         "hovertemplate": "country=Indonesia<br>gdp_cap=%{x}<br>life_exp=%{y}<br>population=%{marker.size}<extra></extra>",
         "legendgroup": "Indonesia",
         "marker": {
          "color": "#FECB52",
          "size": [
           148322833
          ],
          "sizemode": "area",
          "sizeref": 2395400.1275,
          "symbol": "circle"
         },
         "mode": "markers",
         "name": "Indonesia",
         "orientation": "v",
         "showlegend": true,
         "type": "scatter",
         "x": [
          1741.3653595416665
         ],
         "xaxis": "x",
         "y": [
          54.33575
         ],
         "yaxis": "y"
        },
        {
         "hovertemplate": "country=Iran<br>gdp_cap=%{x}<br>life_exp=%{y}<br>population=%{marker.size}<extra></extra>",
         "legendgroup": "Iran",
         "marker": {
          "color": "#636efa",
          "size": [
           42301706
          ],
          "sizemode": "area",
          "sizeref": 2395400.1275,
          "symbol": "circle"
         },
         "mode": "markers",
         "name": "Iran",
         "orientation": "v",
         "showlegend": true,
         "type": "scatter",
         "x": [
          7376.5829054999995
         ],
         "xaxis": "x",
         "y": [
          58.636583333333334
         ],
         "yaxis": "y"
        },
        {
         "hovertemplate": "country=Iraq<br>gdp_cap=%{x}<br>life_exp=%{y}<br>population=%{marker.size}<extra></extra>",
         "legendgroup": "Iraq",
         "marker": {
          "color": "#EF553B",
          "size": [
           14187495
          ],
          "sizemode": "area",
          "sizeref": 2395400.1275,
          "symbol": "circle"
         },
         "mode": "markers",
         "name": "Iraq",
         "orientation": "v",
         "showlegend": true,
         "type": "scatter",
         "x": [
          7811.809116666667
         ],
         "xaxis": "x",
         "y": [
          56.58175
         ],
         "yaxis": "y"
        },
        {
         "hovertemplate": "country=Ireland<br>gdp_cap=%{x}<br>life_exp=%{y}<br>population=%{marker.size}<extra></extra>",
         "legendgroup": "Ireland",
         "marker": {
          "color": "#00cc96",
          "size": [
           3340825
          ],
          "sizemode": "area",
          "sizeref": 2395400.1275,
          "symbol": "circle"
         },
         "mode": "markers",
         "name": "Ireland",
         "orientation": "v",
         "showlegend": true,
         "type": "scatter",
         "x": [
          15758.60623775
         ],
         "xaxis": "x",
         "y": [
          73.01725
         ],
         "yaxis": "y"
        },
        {
         "hovertemplate": "country=Italy<br>gdp_cap=%{x}<br>life_exp=%{y}<br>population=%{marker.size}<extra></extra>",
         "legendgroup": "Italy",
         "marker": {
          "color": "#ab63fa",
          "size": [
           54536958
          ],
          "sizemode": "area",
          "sizeref": 2395400.1275,
          "symbol": "circle"
         },
         "mode": "markers",
         "name": "Italy",
         "orientation": "v",
         "showlegend": true,
         "type": "scatter",
         "x": [
          16245.209006416668
         ],
         "xaxis": "x",
         "y": [
          74.01383333333332
         ],
         "yaxis": "y"
        },
        {
         "hovertemplate": "country=Jamaica<br>gdp_cap=%{x}<br>life_exp=%{y}<br>population=%{marker.size}<extra></extra>",
         "legendgroup": "Jamaica",
         "marker": {
          "color": "#FFA15A",
          "size": [
           2135122
          ],
          "sizemode": "area",
          "sizeref": 2395400.1275,
          "symbol": "circle"
         },
         "mode": "markers",
         "name": "Jamaica",
         "orientation": "v",
         "showlegend": true,
         "type": "scatter",
         "x": [
          6197.645405
         ],
         "xaxis": "x",
         "y": [
          68.74933333333333
         ],
         "yaxis": "y"
        },
        {
         "hovertemplate": "country=Japan<br>gdp_cap=%{x}<br>life_exp=%{y}<br>population=%{marker.size}<extra></extra>",
         "legendgroup": "Japan",
         "marker": {
          "color": "#19d3f3",
          "size": [
           111758808
          ],
          "sizemode": "area",
          "sizeref": 2395400.1275,
          "symbol": "circle"
         },
         "mode": "markers",
         "name": "Japan",
         "orientation": "v",
         "showlegend": true,
         "type": "scatter",
         "x": [
          17750.869984166668
         ],
         "xaxis": "x",
         "y": [
          74.82691666666666
         ],
         "yaxis": "y"
        },
        {
         "hovertemplate": "country=Jordan<br>gdp_cap=%{x}<br>life_exp=%{y}<br>population=%{marker.size}<extra></extra>",
         "legendgroup": "Jordan",
         "marker": {
          "color": "#FF6692",
          "size": [
           2667972
          ],
          "sizemode": "area",
          "sizeref": 2395400.1275,
          "symbol": "circle"
         },
         "mode": "markers",
         "name": "Jordan",
         "orientation": "v",
         "showlegend": true,
         "type": "scatter",
         "x": [
          3128.1207616666666
         ],
         "xaxis": "x",
         "y": [
          59.78641666666667
         ],
         "yaxis": "y"
        },
        {
         "hovertemplate": "country=Kenya<br>gdp_cap=%{x}<br>life_exp=%{y}<br>population=%{marker.size}<extra></extra>",
         "legendgroup": "Kenya",
         "marker": {
          "color": "#B6E880",
          "size": [
           18206250
          ],
          "sizemode": "area",
          "sizeref": 2395400.1275,
          "symbol": "circle"
         },
         "mode": "markers",
         "name": "Kenya",
         "orientation": "v",
         "showlegend": true,
         "type": "scatter",
         "x": [
          1200.41571995
         ],
         "xaxis": "x",
         "y": [
          52.681000000000004
         ],
         "yaxis": "y"
        },
        {
         "hovertemplate": "country=Korea, Dem. Rep.<br>gdp_cap=%{x}<br>life_exp=%{y}<br>population=%{marker.size}<extra></extra>",
         "legendgroup": "Korea, Dem. Rep.",
         "marker": {
          "color": "#FF97FF",
          "size": [
           16453881
          ],
          "sizemode": "area",
          "sizeref": 2395400.1275,
          "symbol": "circle"
         },
         "mode": "markers",
         "name": "Korea, Dem. Rep.",
         "orientation": "v",
         "showlegend": true,
         "type": "scatter",
         "x": [
          2591.8525776666665
         ],
         "xaxis": "x",
         "y": [
          63.60733333333334
         ],
         "yaxis": "y"
        },
        {
         "hovertemplate": "country=Korea, Rep.<br>gdp_cap=%{x}<br>life_exp=%{y}<br>population=%{marker.size}<extra></extra>",
         "legendgroup": "Korea, Rep.",
         "marker": {
          "color": "#FECB52",
          "size": [
           36499386
          ],
          "sizemode": "area",
          "sizeref": 2395400.1275,
          "symbol": "circle"
         },
         "mode": "markers",
         "name": "Korea, Rep.",
         "orientation": "v",
         "showlegend": true,
         "type": "scatter",
         "x": [
          8217.318485083333
         ],
         "xaxis": "x",
         "y": [
          65.001
         ],
         "yaxis": "y"
        },
        {
         "hovertemplate": "country=Kuwait<br>gdp_cap=%{x}<br>life_exp=%{y}<br>population=%{marker.size}<extra></extra>",
         "legendgroup": "Kuwait",
         "marker": {
          "color": "#636efa",
          "size": [
           1206495
          ],
          "sizemode": "area",
          "sizeref": 2395400.1275,
          "symbol": "circle"
         },
         "mode": "markers",
         "name": "Kuwait",
         "orientation": "v",
         "showlegend": true,
         "type": "scatter",
         "x": [
          65332.91047166666
         ],
         "xaxis": "x",
         "y": [
          68.92233333333333
         ],
         "yaxis": "y"
        },
        {
         "hovertemplate": "country=Lebanon<br>gdp_cap=%{x}<br>life_exp=%{y}<br>population=%{marker.size}<extra></extra>",
         "legendgroup": "Lebanon",
         "marker": {
          "color": "#EF553B",
          "size": [
           2781846
          ],
          "sizemode": "area",
          "sizeref": 2395400.1275,
          "symbol": "circle"
         },
         "mode": "markers",
         "name": "Lebanon",
         "orientation": "v",
         "showlegend": true,
         "type": "scatter",
         "x": [
          7269.21624125
         ],
         "xaxis": "x",
         "y": [
          65.86566666666667
         ],
         "yaxis": "y"
        },
        {
         "hovertemplate": "country=Lesotho<br>gdp_cap=%{x}<br>life_exp=%{y}<br>population=%{marker.size}<extra></extra>",
         "legendgroup": "Lesotho",
         "marker": {
          "color": "#00cc96",
          "size": [
           1389696
          ],
          "sizemode": "area",
          "sizeref": 2395400.1275,
          "symbol": "circle"
         },
         "mode": "markers",
         "name": "Lesotho",
         "orientation": "v",
         "showlegend": true,
         "type": "scatter",
         "x": [
          780.5533931916666
         ],
         "xaxis": "x",
         "y": [
          50.007083333333334
         ],
         "yaxis": "y"
        },
        {
         "hovertemplate": "country=Liberia<br>gdp_cap=%{x}<br>life_exp=%{y}<br>population=%{marker.size}<extra></extra>",
         "legendgroup": "Liberia",
         "marker": {
          "color": "#ab63fa",
          "size": [
           1813857
          ],
          "sizemode": "area",
          "sizeref": 2395400.1275,
          "symbol": "circle"
         },
         "mode": "markers",
         "name": "Liberia",
         "orientation": "v",
         "showlegend": true,
         "type": "scatter",
         "x": [
          604.8141412333333
         ],
         "xaxis": "x",
         "y": [
          42.47625
         ],
         "yaxis": "y"
        },
        {
         "hovertemplate": "country=Libya<br>gdp_cap=%{x}<br>life_exp=%{y}<br>population=%{marker.size}<extra></extra>",
         "legendgroup": "Libya",
         "marker": {
          "color": "#FFA15A",
          "size": [
           3166803
          ],
          "sizemode": "area",
          "sizeref": 2395400.1275,
          "symbol": "circle"
         },
         "mode": "markers",
         "name": "Libya",
         "orientation": "v",
         "showlegend": true,
         "type": "scatter",
         "x": [
          12013.57920125
         ],
         "xaxis": "x",
         "y": [
          59.30416666666667
         ],
         "yaxis": "y"
        },
        {
         "hovertemplate": "country=Madagascar<br>gdp_cap=%{x}<br>life_exp=%{y}<br>population=%{marker.size}<extra></extra>",
         "legendgroup": "Madagascar",
         "marker": {
          "color": "#19d3f3",
          "size": [
           9902402
          ],
          "sizemode": "area",
          "sizeref": 2395400.1275,
          "symbol": "circle"
         },
         "mode": "markers",
         "name": "Madagascar",
         "orientation": "v",
         "showlegend": true,
         "type": "scatter",
         "x": [
          1335.5950270666665
         ],
         "xaxis": "x",
         "y": [
          47.77058333333333
         ],
         "yaxis": "y"
        },
        {
         "hovertemplate": "country=Malawi<br>gdp_cap=%{x}<br>life_exp=%{y}<br>population=%{marker.size}<extra></extra>",
         "legendgroup": "Malawi",
         "marker": {
          "color": "#FF6692",
          "size": [
           7016377
          ],
          "sizemode": "area",
          "sizeref": 2395400.1275,
          "symbol": "circle"
         },
         "mode": "markers",
         "name": "Malawi",
         "orientation": "v",
         "showlegend": true,
         "type": "scatter",
         "x": [
          575.4472115083333
         ],
         "xaxis": "x",
         "y": [
          43.35158333333334
         ],
         "yaxis": "y"
        },
        {
         "hovertemplate": "country=Malaysia<br>gdp_cap=%{x}<br>life_exp=%{y}<br>population=%{marker.size}<extra></extra>",
         "legendgroup": "Malaysia",
         "marker": {
          "color": "#B6E880",
          "size": [
           14574055
          ],
          "sizemode": "area",
          "sizeref": 2395400.1275,
          "symbol": "circle"
         },
         "mode": "markers",
         "name": "Malaysia",
         "orientation": "v",
         "showlegend": true,
         "type": "scatter",
         "x": [
          5406.0381969166665
         ],
         "xaxis": "x",
         "y": [
          64.27958333333333
         ],
         "yaxis": "y"
        },
        {
         "hovertemplate": "country=Mali<br>gdp_cap=%{x}<br>life_exp=%{y}<br>population=%{marker.size}<extra></extra>",
         "legendgroup": "Mali",
         "marker": {
          "color": "#FF97FF",
          "size": [
           7112340
          ],
          "sizemode": "area",
          "sizeref": 2395400.1275,
          "symbol": "circle"
         },
         "mode": "markers",
         "name": "Mali",
         "orientation": "v",
         "showlegend": true,
         "type": "scatter",
         "x": [
          673.0930694166667
         ],
         "xaxis": "x",
         "y": [
          43.4135
         ],
         "yaxis": "y"
        },
        {
         "hovertemplate": "country=Mauritania<br>gdp_cap=%{x}<br>life_exp=%{y}<br>population=%{marker.size}<extra></extra>",
         "legendgroup": "Mauritania",
         "marker": {
          "color": "#FECB52",
          "size": [
           1782723
          ],
          "sizemode": "area",
          "sizeref": 2395400.1275,
          "symbol": "circle"
         },
         "mode": "markers",
         "name": "Mauritania",
         "orientation": "v",
         "showlegend": true,
         "type": "scatter",
         "x": [
          1356.6710106666667
         ],
         "xaxis": "x",
         "y": [
          52.302083333333336
         ],
         "yaxis": "y"
        },
        {
         "hovertemplate": "country=Mauritius<br>gdp_cap=%{x}<br>life_exp=%{y}<br>population=%{marker.size}<extra></extra>",
         "legendgroup": "Mauritius",
         "marker": {
          "color": "#636efa",
          "size": [
           926072
          ],
          "sizemode": "area",
          "sizeref": 2395400.1275,
          "symbol": "circle"
         },
         "mode": "markers",
         "name": "Mauritius",
         "orientation": "v",
         "showlegend": true,
         "type": "scatter",
         "x": [
          4768.94222125
         ],
         "xaxis": "x",
         "y": [
          64.95325
         ],
         "yaxis": "y"
        },
        {
         "hovertemplate": "country=Mexico<br>gdp_cap=%{x}<br>life_exp=%{y}<br>population=%{marker.size}<extra></extra>",
         "legendgroup": "Mexico",
         "marker": {
          "color": "#EF553B",
          "size": [
           68414297
          ],
          "sizemode": "area",
          "sizeref": 2395400.1275,
          "symbol": "circle"
         },
         "mode": "markers",
         "name": "Mexico",
         "orientation": "v",
         "showlegend": true,
         "type": "scatter",
         "x": [
          7724.112674583333
         ],
         "xaxis": "x",
         "y": [
          65.40883333333333
         ],
         "yaxis": "y"
        },
        {
         "hovertemplate": "country=Mongolia<br>gdp_cap=%{x}<br>life_exp=%{y}<br>population=%{marker.size}<extra></extra>",
         "legendgroup": "Mongolia",
         "marker": {
          "color": "#00cc96",
          "size": [
           1734850
          ],
          "sizemode": "area",
          "sizeref": 2395400.1275,
          "symbol": "circle"
         },
         "mode": "markers",
         "name": "Mongolia",
         "orientation": "v",
         "showlegend": true,
         "type": "scatter",
         "x": [
          1692.80461225
         ],
         "xaxis": "x",
         "y": [
          55.89033333333333
         ],
         "yaxis": "y"
        },
        {
         "hovertemplate": "country=Montenegro<br>gdp_cap=%{x}<br>life_exp=%{y}<br>population=%{marker.size}<extra></extra>",
         "legendgroup": "Montenegro",
         "marker": {
          "color": "#ab63fa",
          "size": [
           564269
          ],
          "sizemode": "area",
          "sizeref": 2395400.1275,
          "symbol": "circle"
         },
         "mode": "markers",
         "name": "Montenegro",
         "orientation": "v",
         "showlegend": true,
         "type": "scatter",
         "x": [
          7208.06455975
         ],
         "xaxis": "x",
         "y": [
          70.29916666666666
         ],
         "yaxis": "y"
        },
        {
         "hovertemplate": "country=Morocco<br>gdp_cap=%{x}<br>life_exp=%{y}<br>population=%{marker.size}<extra></extra>",
         "legendgroup": "Morocco",
         "marker": {
          "color": "#FFA15A",
          "size": [
           20555741
          ],
          "sizemode": "area",
          "sizeref": 2395400.1275,
          "symbol": "circle"
         },
         "mode": "markers",
         "name": "Morocco",
         "orientation": "v",
         "showlegend": true,
         "type": "scatter",
         "x": [
          2447.9088640833334
         ],
         "xaxis": "x",
         "y": [
          57.60883333333334
         ],
         "yaxis": "y"
        },
        {
         "hovertemplate": "country=Mozambique<br>gdp_cap=%{x}<br>life_exp=%{y}<br>population=%{marker.size}<extra></extra>",
         "legendgroup": "Mozambique",
         "marker": {
          "color": "#19d3f3",
          "size": [
           12046695
          ],
          "sizemode": "area",
          "sizeref": 2395400.1275,
          "symbol": "circle"
         },
         "mode": "markers",
         "name": "Mozambique",
         "orientation": "v",
         "showlegend": true,
         "type": "scatter",
         "x": [
          542.2783319916667
         ],
         "xaxis": "x",
         "y": [
          40.3795
         ],
         "yaxis": "y"
        },
        {
         "hovertemplate": "country=Myanmar<br>gdp_cap=%{x}<br>life_exp=%{y}<br>population=%{marker.size}<extra></extra>",
         "legendgroup": "Myanmar",
         "marker": {
          "color": "#FF6692",
          "size": [
           33432292
          ],
          "sizemode": "area",
          "sizeref": 2395400.1275,
          "symbol": "circle"
         },
         "mode": "markers",
         "name": "Myanmar",
         "orientation": "v",
         "showlegend": true,
         "type": "scatter",
         "x": [
          439.3333333333333
         ],
         "xaxis": "x",
         "y": [
          53.321666666666665
         ],
         "yaxis": "y"
        },
        {
         "hovertemplate": "country=Namibia<br>gdp_cap=%{x}<br>life_exp=%{y}<br>population=%{marker.size}<extra></extra>",
         "legendgroup": "Namibia",
         "marker": {
          "color": "#B6E880",
          "size": [
           1157849
          ],
          "sizemode": "area",
          "sizeref": 2395400.1275,
          "symbol": "circle"
         },
         "mode": "markers",
         "name": "Namibia",
         "orientation": "v",
         "showlegend": true,
         "type": "scatter",
         "x": [
          3675.5820868333335
         ],
         "xaxis": "x",
         "y": [
          53.49133333333333
         ],
         "yaxis": "y"
        },
        {
         "hovertemplate": "country=Nepal<br>gdp_cap=%{x}<br>life_exp=%{y}<br>population=%{marker.size}<extra></extra>",
         "legendgroup": "Nepal",
         "marker": {
          "color": "#FF97FF",
          "size": [
           16551744
          ],
          "sizemode": "area",
          "sizeref": 2395400.1275,
          "symbol": "circle"
         },
         "mode": "markers",
         "name": "Nepal",
         "orientation": "v",
         "showlegend": true,
         "type": "scatter",
         "x": [
          782.7288220833334
         ],
         "xaxis": "x",
         "y": [
          48.986333333333334
         ],
         "yaxis": "y"
        },
        {
         "hovertemplate": "country=Netherlands<br>gdp_cap=%{x}<br>life_exp=%{y}<br>population=%{marker.size}<extra></extra>",
         "legendgroup": "Netherlands",
         "marker": {
          "color": "#FECB52",
          "size": [
           13786797
          ],
          "sizemode": "area",
          "sizeref": 2395400.1275,
          "symbol": "circle"
         },
         "mode": "markers",
         "name": "Netherlands",
         "orientation": "v",
         "showlegend": true,
         "type": "scatter",
         "x": [
          21748.852208166663
         ],
         "xaxis": "x",
         "y": [
          75.6485
         ],
         "yaxis": "y"
        },
        {
         "hovertemplate": "country=New Zealand<br>gdp_cap=%{x}<br>life_exp=%{y}<br>population=%{marker.size}<extra></extra>",
         "legendgroup": "New Zealand",
         "marker": {
          "color": "#636efa",
          "size": [
           3100032
          ],
          "sizemode": "area",
          "sizeref": 2395400.1275,
          "symbol": "circle"
         },
         "mode": "markers",
         "name": "New Zealand",
         "orientation": "v",
         "showlegend": true,
         "type": "scatter",
         "x": [
          17262.6228125
         ],
         "xaxis": "x",
         "y": [
          73.9895
         ],
         "yaxis": "y"
        },
        {
         "hovertemplate": "country=Nicaragua<br>gdp_cap=%{x}<br>life_exp=%{y}<br>population=%{marker.size}<extra></extra>",
         "legendgroup": "Nicaragua",
         "marker": {
          "color": "#EF553B",
          "size": [
           3040975
          ],
          "sizemode": "area",
          "sizeref": 2395400.1275,
          "symbol": "circle"
         },
         "mode": "markers",
         "name": "Nicaragua",
         "orientation": "v",
         "showlegend": true,
         "type": "scatter",
         "x": [
          3424.6557694999997
         ],
         "xaxis": "x",
         "y": [
          58.34941666666666
         ],
         "yaxis": "y"
        },
        {
         "hovertemplate": "country=Niger<br>gdp_cap=%{x}<br>life_exp=%{y}<br>population=%{marker.size}<extra></extra>",
         "legendgroup": "Niger",
         "marker": {
          "color": "#00cc96",
          "size": [
           6857373
          ],
          "sizemode": "area",
          "sizeref": 2395400.1275,
          "symbol": "circle"
         },
         "mode": "markers",
         "name": "Niger",
         "orientation": "v",
         "showlegend": true,
         "type": "scatter",
         "x": [
          781.0767981083333
         ],
         "xaxis": "x",
         "y": [
          44.55866666666666
         ],
         "yaxis": "y"
        },
        {
         "hovertemplate": "country=Nigeria<br>gdp_cap=%{x}<br>life_exp=%{y}<br>population=%{marker.size}<extra></extra>",
         "legendgroup": "Nigeria",
         "marker": {
          "color": "#ab63fa",
          "size": [
           73708017
          ],
          "sizemode": "area",
          "sizeref": 2395400.1275,
          "symbol": "circle"
         },
         "mode": "markers",
         "name": "Nigeria",
         "orientation": "v",
         "showlegend": true,
         "type": "scatter",
         "x": [
          1488.3094291666666
         ],
         "xaxis": "x",
         "y": [
          43.58133333333333
         ],
         "yaxis": "y"
        },
        {
         "hovertemplate": "country=Norway<br>gdp_cap=%{x}<br>life_exp=%{y}<br>population=%{marker.size}<extra></extra>",
         "legendgroup": "Norway",
         "marker": {
          "color": "#FFA15A",
          "size": [
           4031441
          ],
          "sizemode": "area",
          "sizeref": 2395400.1275,
          "symbol": "circle"
         },
         "mode": "markers",
         "name": "Norway",
         "orientation": "v",
         "showlegend": true,
         "type": "scatter",
         "x": [
          26747.30655416667
         ],
         "xaxis": "x",
         "y": [
          75.843
         ],
         "yaxis": "y"
        },
        {
         "hovertemplate": "country=Oman<br>gdp_cap=%{x}<br>life_exp=%{y}<br>population=%{marker.size}<extra></extra>",
         "legendgroup": "Oman",
         "marker": {
          "color": "#19d3f3",
          "size": [
           1438205
          ],
          "sizemode": "area",
          "sizeref": 2395400.1275,
          "symbol": "circle"
         },
         "mode": "markers",
         "name": "Oman",
         "orientation": "v",
         "showlegend": true,
         "type": "scatter",
         "x": [
          12138.562227333334
         ],
         "xaxis": "x",
         "y": [
          58.44266666666667
         ],
         "yaxis": "y"
        },
        {
         "hovertemplate": "country=Pakistan<br>gdp_cap=%{x}<br>life_exp=%{y}<br>population=%{marker.size}<extra></extra>",
         "legendgroup": "Pakistan",
         "marker": {
          "color": "#FF6692",
          "size": [
           93683385
          ],
          "sizemode": "area",
          "sizeref": 2395400.1275,
          "symbol": "circle"
         },
         "mode": "markers",
         "name": "Pakistan",
         "orientation": "v",
         "showlegend": true,
         "type": "scatter",
         "x": [
          1439.27068905
         ],
         "xaxis": "x",
         "y": [
          54.88225
         ],
         "yaxis": "y"
        },
        {
         "hovertemplate": "country=Panama<br>gdp_cap=%{x}<br>life_exp=%{y}<br>population=%{marker.size}<extra></extra>",
         "legendgroup": "Panama",
         "marker": {
          "color": "#B6E880",
          "size": [
           1985290
          ],
          "sizemode": "area",
          "sizeref": 2395400.1275,
          "symbol": "circle"
         },
         "mode": "markers",
         "name": "Panama",
         "orientation": "v",
         "showlegend": true,
         "type": "scatter",
         "x": [
          5754.8271718333335
         ],
         "xaxis": "x",
         "y": [
          67.80175
         ],
         "yaxis": "y"
        },
        {
         "hovertemplate": "country=Paraguay<br>gdp_cap=%{x}<br>life_exp=%{y}<br>population=%{marker.size}<extra></extra>",
         "legendgroup": "Paraguay",
         "marker": {
          "color": "#FF97FF",
          "size": [
           3555485
          ],
          "sizemode": "area",
          "sizeref": 2395400.1275,
          "symbol": "circle"
         },
         "mode": "markers",
         "name": "Paraguay",
         "orientation": "v",
         "showlegend": true,
         "type": "scatter",
         "x": [
          3239.606791416667
         ],
         "xaxis": "x",
         "y": [
          66.80908333333333
         ],
         "yaxis": "y"
        },
        {
         "hovertemplate": "country=Peru<br>gdp_cap=%{x}<br>life_exp=%{y}<br>population=%{marker.size}<extra></extra>",
         "legendgroup": "Peru",
         "marker": {
          "color": "#FECB52",
          "size": [
           17559093
          ],
          "sizemode": "area",
          "sizeref": 2395400.1275,
          "symbol": "circle"
         },
         "mode": "markers",
         "name": "Peru",
         "orientation": "v",
         "showlegend": true,
         "type": "scatter",
         "x": [
          5613.844086749999
         ],
         "xaxis": "x",
         "y": [
          58.85933333333333
         ],
         "yaxis": "y"
        },
        {
         "hovertemplate": "country=Philippines<br>gdp_cap=%{x}<br>life_exp=%{y}<br>population=%{marker.size}<extra></extra>",
         "legendgroup": "Philippines",
         "marker": {
          "color": "#636efa",
          "size": [
           52636628
          ],
          "sizemode": "area",
          "sizeref": 2395400.1275,
          "symbol": "circle"
         },
         "mode": "markers",
         "name": "Philippines",
         "orientation": "v",
         "showlegend": true,
         "type": "scatter",
         "x": [
          2174.7711304166664
         ],
         "xaxis": "x",
         "y": [
          60.96725
         ],
         "yaxis": "y"
        },
        {
         "hovertemplate": "country=Poland<br>gdp_cap=%{x}<br>life_exp=%{y}<br>population=%{marker.size}<extra></extra>",
         "legendgroup": "Poland",
         "marker": {
          "color": "#EF553B",
          "size": [
           34323304
          ],
          "sizemode": "area",
          "sizeref": 2395400.1275,
          "symbol": "circle"
         },
         "mode": "markers",
         "name": "Poland",
         "orientation": "v",
         "showlegend": true,
         "type": "scatter",
         "x": [
          8416.55391225
         ],
         "xaxis": "x",
         "y": [
          70.17691666666667
         ],
         "yaxis": "y"
        },
        {
         "hovertemplate": "country=Portugal<br>gdp_cap=%{x}<br>life_exp=%{y}<br>population=%{marker.size}<extra></extra>",
         "legendgroup": "Portugal",
         "marker": {
          "color": "#00cc96",
          "size": [
           9586273
          ],
          "sizemode": "area",
          "sizeref": 2395400.1275,
          "symbol": "circle"
         },
         "mode": "markers",
         "name": "Portugal",
         "orientation": "v",
         "showlegend": true,
         "type": "scatter",
         "x": [
          11354.091927416666
         ],
         "xaxis": "x",
         "y": [
          70.41983333333333
         ],
         "yaxis": "y"
        },
        {
         "hovertemplate": "country=Puerto Rico<br>gdp_cap=%{x}<br>life_exp=%{y}<br>population=%{marker.size}<extra></extra>",
         "legendgroup": "Puerto Rico",
         "marker": {
          "color": "#ab63fa",
          "size": [
           3115178
          ],
          "sizemode": "area",
          "sizeref": 2395400.1275,
          "symbol": "circle"
         },
         "mode": "markers",
         "name": "Puerto Rico",
         "orientation": "v",
         "showlegend": true,
         "type": "scatter",
         "x": [
          10863.164303416666
         ],
         "xaxis": "x",
         "y": [
          72.73933333333333
         ],
         "yaxis": "y"
        },
        {
         "hovertemplate": "country=Reunion<br>gdp_cap=%{x}<br>life_exp=%{y}<br>population=%{marker.size}<extra></extra>",
         "legendgroup": "Reunion",
         "marker": {
          "color": "#FFA15A",
          "size": [
           518497
          ],
          "sizemode": "area",
          "sizeref": 2395400.1275,
          "symbol": "circle"
         },
         "mode": "markers",
         "name": "Reunion",
         "orientation": "v",
         "showlegend": true,
         "type": "scatter",
         "x": [
          4898.398390083334
         ],
         "xaxis": "x",
         "y": [
          66.64425
         ],
         "yaxis": "y"
        },
        {
         "hovertemplate": "country=Romania<br>gdp_cap=%{x}<br>life_exp=%{y}<br>population=%{marker.size}<extra></extra>",
         "legendgroup": "Romania",
         "marker": {
          "color": "#19d3f3",
          "size": [
           20819090
          ],
          "sizemode": "area",
          "sizeref": 2395400.1275,
          "symbol": "circle"
         },
         "mode": "markers",
         "name": "Romania",
         "orientation": "v",
         "showlegend": true,
         "type": "scatter",
         "x": [
          7300.169973583333
         ],
         "xaxis": "x",
         "y": [
          68.29066666666667
         ],
         "yaxis": "y"
        },
        {
         "hovertemplate": "country=Rwanda<br>gdp_cap=%{x}<br>life_exp=%{y}<br>population=%{marker.size}<extra></extra>",
         "legendgroup": "Rwanda",
         "marker": {
          "color": "#FF6692",
          "size": [
           5298435
          ],
          "sizemode": "area",
          "sizeref": 2395400.1275,
          "symbol": "circle"
         },
         "mode": "markers",
         "name": "Rwanda",
         "orientation": "v",
         "showlegend": true,
         "type": "scatter",
         "x": [
          675.6690431416666
         ],
         "xaxis": "x",
         "y": [
          41.48158333333333
         ],
         "yaxis": "y"
        },
        {
         "hovertemplate": "country=Sao Tome and Principe<br>gdp_cap=%{x}<br>life_exp=%{y}<br>population=%{marker.size}<extra></extra>",
         "legendgroup": "Sao Tome and Principe",
         "marker": {
          "color": "#B6E880",
          "size": [
           105977
          ],
          "sizemode": "area",
          "sizeref": 2395400.1275,
          "symbol": "circle"
         },
         "mode": "markers",
         "name": "Sao Tome and Principe",
         "orientation": "v",
         "showlegend": true,
         "type": "scatter",
         "x": [
          1382.782001175
         ],
         "xaxis": "x",
         "y": [
          57.89633333333333
         ],
         "yaxis": "y"
        },
        {
         "hovertemplate": "country=Saudi Arabia<br>gdp_cap=%{x}<br>life_exp=%{y}<br>population=%{marker.size}<extra></extra>",
         "legendgroup": "Saudi Arabia",
         "marker": {
          "color": "#FF97FF",
          "size": [
           12478368
          ],
          "sizemode": "area",
          "sizeref": 2395400.1275,
          "symbol": "circle"
         },
         "mode": "markers",
         "name": "Saudi Arabia",
         "orientation": "v",
         "showlegend": true,
         "type": "scatter",
         "x": [
          20261.743635083334
         ],
         "xaxis": "x",
         "y": [
          58.67875
         ],
         "yaxis": "y"
        },
        {
         "hovertemplate": "country=Senegal<br>gdp_cap=%{x}<br>life_exp=%{y}<br>population=%{marker.size}<extra></extra>",
         "legendgroup": "Senegal",
         "marker": {
          "color": "#FECB52",
          "size": [
           6446305
          ],
          "sizemode": "area",
          "sizeref": 2395400.1275,
          "symbol": "circle"
         },
         "mode": "markers",
         "name": "Senegal",
         "orientation": "v",
         "showlegend": true,
         "type": "scatter",
         "x": [
          1533.1216944999999
         ],
         "xaxis": "x",
         "y": [
          50.62591666666666
         ],
         "yaxis": "y"
        },
        {
         "hovertemplate": "country=Serbia<br>gdp_cap=%{x}<br>life_exp=%{y}<br>population=%{marker.size}<extra></extra>",
         "legendgroup": "Serbia",
         "marker": {
          "color": "#636efa",
          "size": [
           8783886
          ],
          "sizemode": "area",
          "sizeref": 2395400.1275,
          "symbol": "circle"
         },
         "mode": "markers",
         "name": "Serbia",
         "orientation": "v",
         "showlegend": true,
         "type": "scatter",
         "x": [
          9305.049444083334
         ],
         "xaxis": "x",
         "y": [
          68.551
         ],
         "yaxis": "y"
        },
        {
         "hovertemplate": "country=Sierra Leone<br>gdp_cap=%{x}<br>life_exp=%{y}<br>population=%{marker.size}<extra></extra>",
         "legendgroup": "Sierra Leone",
         "marker": {
          "color": "#EF553B",
          "size": [
           3605424
          ],
          "sizemode": "area",
          "sizeref": 2395400.1275,
          "symbol": "circle"
         },
         "mode": "markers",
         "name": "Sierra Leone",
         "orientation": "v",
         "showlegend": true,
         "type": "scatter",
         "x": [
          1072.8194927083334
         ],
         "xaxis": "x",
         "y": [
          36.76916666666667
         ],
         "yaxis": "y"
        },
        {
         "hovertemplate": "country=Singapore<br>gdp_cap=%{x}<br>life_exp=%{y}<br>population=%{marker.size}<extra></extra>",
         "legendgroup": "Singapore",
         "marker": {
          "color": "#00cc96",
          "size": [
           2667817
          ],
          "sizemode": "area",
          "sizeref": 2395400.1275,
          "symbol": "circle"
         },
         "mode": "markers",
         "name": "Singapore",
         "orientation": "v",
         "showlegend": true,
         "type": "scatter",
         "x": [
          17425.382266666667
         ],
         "xaxis": "x",
         "y": [
          71.22025000000001
         ],
         "yaxis": "y"
        },
        {
         "hovertemplate": "country=Slovak Republic<br>gdp_cap=%{x}<br>life_exp=%{y}<br>population=%{marker.size}<extra></extra>",
         "legendgroup": "Slovak Republic",
         "marker": {
          "color": "#ab63fa",
          "size": [
           4774507
          ],
          "sizemode": "area",
          "sizeref": 2395400.1275,
          "symbol": "circle"
         },
         "mode": "markers",
         "name": "Slovak Republic",
         "orientation": "v",
         "showlegend": true,
         "type": "scatter",
         "x": [
          10415.530689
         ],
         "xaxis": "x",
         "y": [
          70.69608333333333
         ],
         "yaxis": "y"
        },
        {
         "hovertemplate": "country=Slovenia<br>gdp_cap=%{x}<br>life_exp=%{y}<br>population=%{marker.size}<extra></extra>",
         "legendgroup": "Slovenia",
         "marker": {
          "color": "#FFA15A",
          "size": [
           1794381
          ],
          "sizemode": "area",
          "sizeref": 2395400.1275,
          "symbol": "circle"
         },
         "mode": "markers",
         "name": "Slovenia",
         "orientation": "v",
         "showlegend": true,
         "type": "scatter",
         "x": [
          14074.582109333334
         ],
         "xaxis": "x",
         "y": [
          71.60074999999999
         ],
         "yaxis": "y"
        },
        {
         "hovertemplate": "country=Somalia<br>gdp_cap=%{x}<br>life_exp=%{y}<br>population=%{marker.size}<extra></extra>",
         "legendgroup": "Somalia",
         "marker": {
          "color": "#19d3f3",
          "size": [
           5197197
          ],
          "sizemode": "area",
          "sizeref": 2395400.1275,
          "symbol": "circle"
         },
         "mode": "markers",
         "name": "Somalia",
         "orientation": "v",
         "showlegend": true,
         "type": "scatter",
         "x": [
          1140.7932516583332
         ],
         "xaxis": "x",
         "y": [
          40.98866666666667
         ],
         "yaxis": "y"
        },
        {
         "hovertemplate": "country=South Africa<br>gdp_cap=%{x}<br>life_exp=%{y}<br>population=%{marker.size}<extra></extra>",
         "legendgroup": "South Africa",
         "marker": {
          "color": "#FF6692",
          "size": [
           29928352
          ],
          "sizemode": "area",
          "sizeref": 2395400.1275,
          "symbol": "circle"
         },
         "mode": "markers",
         "name": "South Africa",
         "orientation": "v",
         "showlegend": true,
         "type": "scatter",
         "x": [
          7247.431074416668
         ],
         "xaxis": "x",
         "y": [
          53.99316666666667
         ],
         "yaxis": "y"
        },
        {
         "hovertemplate": "country=Spain<br>gdp_cap=%{x}<br>life_exp=%{y}<br>population=%{marker.size}<extra></extra>",
         "legendgroup": "Spain",
         "marker": {
          "color": "#B6E880",
          "size": [
           35851798
          ],
          "sizemode": "area",
          "sizeref": 2395400.1275,
          "symbol": "circle"
         },
         "mode": "markers",
         "name": "Spain",
         "orientation": "v",
         "showlegend": true,
         "type": "scatter",
         "x": [
          14029.82647875
         ],
         "xaxis": "x",
         "y": [
          74.20341666666667
         ],
         "yaxis": "y"
        },
        {
         "hovertemplate": "country=Sri Lanka<br>gdp_cap=%{x}<br>life_exp=%{y}<br>population=%{marker.size}<extra></extra>",
         "legendgroup": "Sri Lanka",
         "marker": {
          "color": "#FF97FF",
          "size": [
           14545831
          ],
          "sizemode": "area",
          "sizeref": 2395400.1275,
          "symbol": "circle"
         },
         "mode": "markers",
         "name": "Sri Lanka",
         "orientation": "v",
         "showlegend": true,
         "type": "scatter",
         "x": [
          1854.7311195
         ],
         "xaxis": "x",
         "y": [
          66.52608333333333
         ],
         "yaxis": "y"
        },
        {
         "hovertemplate": "country=Sudan<br>gdp_cap=%{x}<br>life_exp=%{y}<br>population=%{marker.size}<extra></extra>",
         "legendgroup": "Sudan",
         "marker": {
          "color": "#FECB52",
          "size": [
           21560331
          ],
          "sizemode": "area",
          "sizeref": 2395400.1275,
          "symbol": "circle"
         },
         "mode": "markers",
         "name": "Sudan",
         "orientation": "v",
         "showlegend": true,
         "type": "scatter",
         "x": [
          1835.01042975
         ],
         "xaxis": "x",
         "y": [
          48.4005
         ],
         "yaxis": "y"
        },
        {
         "hovertemplate": "country=Swaziland<br>gdp_cap=%{x}<br>life_exp=%{y}<br>population=%{marker.size}<extra></extra>",
         "legendgroup": "Swaziland",
         "marker": {
          "color": "#636efa",
          "size": [
           679052
          ],
          "sizemode": "area",
          "sizeref": 2395400.1275,
          "symbol": "circle"
         },
         "mode": "markers",
         "name": "Swaziland",
         "orientation": "v",
         "showlegend": true,
         "type": "scatter",
         "x": [
          3163.35235825
         ],
         "xaxis": "x",
         "y": [
          49.00241666666667
         ],
         "yaxis": "y"
        },
        {
         "hovertemplate": "country=Sweden<br>gdp_cap=%{x}<br>life_exp=%{y}<br>population=%{marker.size}<extra></extra>",
         "legendgroup": "Sweden",
         "marker": {
          "color": "#EF553B",
          "size": [
           8220028
          ],
          "sizemode": "area",
          "sizeref": 2395400.1275,
          "symbol": "circle"
         },
         "mode": "markers",
         "name": "Sweden",
         "orientation": "v",
         "showlegend": true,
         "type": "scatter",
         "x": [
          19943.126104
         ],
         "xaxis": "x",
         "y": [
          76.177
         ],
         "yaxis": "y"
        },
        {
         "hovertemplate": "country=Switzerland<br>gdp_cap=%{x}<br>life_exp=%{y}<br>population=%{marker.size}<extra></extra>",
         "legendgroup": "Switzerland",
         "marker": {
          "color": "#00cc96",
          "size": [
           6384293
          ],
          "sizemode": "area",
          "sizeref": 2395400.1275,
          "symbol": "circle"
         },
         "mode": "markers",
         "name": "Switzerland",
         "orientation": "v",
         "showlegend": true,
         "type": "scatter",
         "x": [
          27074.334405
         ],
         "xaxis": "x",
         "y": [
          75.56508333333333
         ],
         "yaxis": "y"
        },
        {
         "hovertemplate": "country=Syria<br>gdp_cap=%{x}<br>life_exp=%{y}<br>population=%{marker.size}<extra></extra>",
         "legendgroup": "Syria",
         "marker": {
          "color": "#ab63fa",
          "size": [
           9865378
          ],
          "sizemode": "area",
          "sizeref": 2395400.1275,
          "symbol": "circle"
         },
         "mode": "markers",
         "name": "Syria",
         "orientation": "v",
         "showlegend": true,
         "type": "scatter",
         "x": [
          3009.2879806666665
         ],
         "xaxis": "x",
         "y": [
          61.34616666666667
         ],
         "yaxis": "y"
        },
        {
         "hovertemplate": "country=Taiwan<br>gdp_cap=%{x}<br>life_exp=%{y}<br>population=%{marker.size}<extra></extra>",
         "legendgroup": "Taiwan",
         "marker": {
          "color": "#FFA15A",
          "size": [
           16874723
          ],
          "sizemode": "area",
          "sizeref": 2395400.1275,
          "symbol": "circle"
         },
         "mode": "markers",
         "name": "Taiwan",
         "orientation": "v",
         "showlegend": true,
         "type": "scatter",
         "x": [
          10224.80718075
         ],
         "xaxis": "x",
         "y": [
          70.33666666666666
         ],
         "yaxis": "y"
        },
        {
         "hovertemplate": "country=Tanzania<br>gdp_cap=%{x}<br>life_exp=%{y}<br>population=%{marker.size}<extra></extra>",
         "legendgroup": "Tanzania",
         "marker": {
          "color": "#19d3f3",
          "size": [
           20499497
          ],
          "sizemode": "area",
          "sizeref": 2395400.1275,
          "symbol": "circle"
         },
         "mode": "markers",
         "name": "Tanzania",
         "orientation": "v",
         "showlegend": true,
         "type": "scatter",
         "x": [
          849.2812710916666
         ],
         "xaxis": "x",
         "y": [
          47.91233333333333
         ],
         "yaxis": "y"
        },
        {
         "hovertemplate": "country=Thailand<br>gdp_cap=%{x}<br>life_exp=%{y}<br>population=%{marker.size}<extra></extra>",
         "legendgroup": "Thailand",
         "marker": {
          "color": "#FF6692",
          "size": [
           44961631
          ],
          "sizemode": "area",
          "sizeref": 2395400.1275,
          "symbol": "circle"
         },
         "mode": "markers",
         "name": "Thailand",
         "orientation": "v",
         "showlegend": true,
         "type": "scatter",
         "x": [
          3045.966473958333
         ],
         "xaxis": "x",
         "y": [
          62.200250000000004
         ],
         "yaxis": "y"
        },
        {
         "hovertemplate": "country=Togo<br>gdp_cap=%{x}<br>life_exp=%{y}<br>population=%{marker.size}<extra></extra>",
         "legendgroup": "Togo",
         "marker": {
          "color": "#B6E880",
          "size": [
           2895964
          ],
          "sizemode": "area",
          "sizeref": 2395400.1275,
          "symbol": "circle"
         },
         "mode": "markers",
         "name": "Togo",
         "orientation": "v",
         "showlegend": true,
         "type": "scatter",
         "x": [
          1153.8201162916666
         ],
         "xaxis": "x",
         "y": [
          51.49875
         ],
         "yaxis": "y"
        },
        {
         "hovertemplate": "country=Trinidad and Tobago<br>gdp_cap=%{x}<br>life_exp=%{y}<br>population=%{marker.size}<extra></extra>",
         "legendgroup": "Trinidad and Tobago",
         "marker": {
          "color": "#FF97FF",
          "size": [
           1006469
          ],
          "sizemode": "area",
          "sizeref": 2395400.1275,
          "symbol": "circle"
         },
         "mode": "markers",
         "name": "Trinidad and Tobago",
         "orientation": "v",
         "showlegend": true,
         "type": "scatter",
         "x": [
          7866.871946416667
         ],
         "xaxis": "x",
         "y": [
          66.828
         ],
         "yaxis": "y"
        },
        {
         "hovertemplate": "country=Tunisia<br>gdp_cap=%{x}<br>life_exp=%{y}<br>population=%{marker.size}<extra></extra>",
         "legendgroup": "Tunisia",
         "marker": {
          "color": "#FECB52",
          "size": [
           6686770
          ],
          "sizemode": "area",
          "sizeref": 2395400.1275,
          "symbol": "circle"
         },
         "mode": "markers",
         "name": "Tunisia",
         "orientation": "v",
         "showlegend": true,
         "type": "scatter",
         "x": [
          3477.21035075
         ],
         "xaxis": "x",
         "y": [
          60.721000000000004
         ],
         "yaxis": "y"
        },
        {
         "hovertemplate": "country=Turkey<br>gdp_cap=%{x}<br>life_exp=%{y}<br>population=%{marker.size}<extra></extra>",
         "legendgroup": "Turkey",
         "marker": {
          "color": "#636efa",
          "size": [
           45909008
          ],
          "sizemode": "area",
          "sizeref": 2395400.1275,
          "symbol": "circle"
         },
         "mode": "markers",
         "name": "Turkey",
         "orientation": "v",
         "showlegend": true,
         "type": "scatter",
         "x": [
          4469.4533796666665
         ],
         "xaxis": "x",
         "y": [
          59.696416666666664
         ],
         "yaxis": "y"
        },
        {
         "hovertemplate": "country=Uganda<br>gdp_cap=%{x}<br>life_exp=%{y}<br>population=%{marker.size}<extra></extra>",
         "legendgroup": "Uganda",
         "marker": {
          "color": "#EF553B",
          "size": [
           14361049
          ],
          "sizemode": "area",
          "sizeref": 2395400.1275,
          "symbol": "circle"
         },
         "mode": "markers",
         "name": "Uganda",
         "orientation": "v",
         "showlegend": true,
         "type": "scatter",
         "x": [
          810.3837879083334
         ],
         "xaxis": "x",
         "y": [
          47.618833333333335
         ],
         "yaxis": "y"
        },
        {
         "hovertemplate": "country=United Kingdom<br>gdp_cap=%{x}<br>life_exp=%{y}<br>population=%{marker.size}<extra></extra>",
         "legendgroup": "United Kingdom",
         "marker": {
          "color": "#00cc96",
          "size": [
           56087800
          ],
          "sizemode": "area",
          "sizeref": 2395400.1275,
          "symbol": "circle"
         },
         "mode": "markers",
         "name": "United Kingdom",
         "orientation": "v",
         "showlegend": true,
         "type": "scatter",
         "x": [
          19380.472985583332
         ],
         "xaxis": "x",
         "y": [
          73.92258333333334
         ],
         "yaxis": "y"
        },
        {
         "hovertemplate": "country=United States<br>gdp_cap=%{x}<br>life_exp=%{y}<br>population=%{marker.size}<extra></extra>",
         "legendgroup": "United States",
         "marker": {
          "color": "#ab63fa",
          "size": [
           228211232
          ],
          "sizemode": "area",
          "sizeref": 2395400.1275,
          "symbol": "circle"
         },
         "mode": "markers",
         "name": "United States",
         "orientation": "v",
         "showlegend": true,
         "type": "scatter",
         "x": [
          26261.151346666666
         ],
         "xaxis": "x",
         "y": [
          73.4785
         ],
         "yaxis": "y"
        },
        {
         "hovertemplate": "country=Uruguay<br>gdp_cap=%{x}<br>life_exp=%{y}<br>population=%{marker.size}<extra></extra>",
         "legendgroup": "Uruguay",
         "marker": {
          "color": "#FFA15A",
          "size": [
           2912487
          ],
          "sizemode": "area",
          "sizeref": 2395400.1275,
          "symbol": "circle"
         },
         "mode": "markers",
         "name": "Uruguay",
         "orientation": "v",
         "showlegend": true,
         "type": "scatter",
         "x": [
          7100.133175666667
         ],
         "xaxis": "x",
         "y": [
          70.78158333333333
         ],
         "yaxis": "y"
        },
        {
         "hovertemplate": "country=Venezuela<br>gdp_cap=%{x}<br>life_exp=%{y}<br>population=%{marker.size}<extra></extra>",
         "legendgroup": "Venezuela",
         "marker": {
          "color": "#19d3f3",
          "size": [
           15129801
          ],
          "sizemode": "area",
          "sizeref": 2395400.1275,
          "symbol": "circle"
         },
         "mode": "markers",
         "name": "Venezuela",
         "orientation": "v",
         "showlegend": true,
         "type": "scatter",
         "x": [
          10088.516251583334
         ],
         "xaxis": "x",
         "y": [
          66.58066666666667
         ],
         "yaxis": "y"
        },
        {
         "hovertemplate": "country=Vietnam<br>gdp_cap=%{x}<br>life_exp=%{y}<br>population=%{marker.size}<extra></extra>",
         "legendgroup": "Vietnam",
         "marker": {
          "color": "#FF6692",
          "size": [
           54568570
          ],
          "sizemode": "area",
          "sizeref": 2395400.1275,
          "symbol": "circle"
         },
         "mode": "markers",
         "name": "Vietnam",
         "orientation": "v",
         "showlegend": true,
         "type": "scatter",
         "x": [
          1017.7126151666666
         ],
         "xaxis": "x",
         "y": [
          57.4795
         ],
         "yaxis": "y"
        },
        {
         "hovertemplate": "country=West Bank and Gaza<br>gdp_cap=%{x}<br>life_exp=%{y}<br>population=%{marker.size}<extra></extra>",
         "legendgroup": "West Bank and Gaza",
         "marker": {
          "color": "#B6E880",
          "size": [
           1848606
          ],
          "sizemode": "area",
          "sizeref": 2395400.1275,
          "symbol": "circle"
         },
         "mode": "markers",
         "name": "West Bank and Gaza",
         "orientation": "v",
         "showlegend": true,
         "type": "scatter",
         "x": [
          3759.99678125
         ],
         "xaxis": "x",
         "y": [
          60.32866666666666
         ],
         "yaxis": "y"
        },
        {
         "hovertemplate": "country=Yemen, Rep.<br>gdp_cap=%{x}<br>life_exp=%{y}<br>population=%{marker.size}<extra></extra>",
         "legendgroup": "Yemen, Rep.",
         "marker": {
          "color": "#FF97FF",
          "size": [
           10843191
          ],
          "sizemode": "area",
          "sizeref": 2395400.1275,
          "symbol": "circle"
         },
         "mode": "markers",
         "name": "Yemen, Rep.",
         "orientation": "v",
         "showlegend": true,
         "type": "scatter",
         "x": [
          1569.2746721416668
         ],
         "xaxis": "x",
         "y": [
          46.78041666666667
         ],
         "yaxis": "y"
        },
        {
         "hovertemplate": "country=Zambia<br>gdp_cap=%{x}<br>life_exp=%{y}<br>population=%{marker.size}<extra></extra>",
         "legendgroup": "Zambia",
         "marker": {
          "color": "#FECB52",
          "size": [
           6353804
          ],
          "sizemode": "area",
          "sizeref": 2395400.1275,
          "symbol": "circle"
         },
         "mode": "markers",
         "name": "Zambia",
         "orientation": "v",
         "showlegend": true,
         "type": "scatter",
         "x": [
          1358.199409
         ],
         "xaxis": "x",
         "y": [
          45.99633333333333
         ],
         "yaxis": "y"
        },
        {
         "hovertemplate": "country=Zimbabwe<br>gdp_cap=%{x}<br>life_exp=%{y}<br>population=%{marker.size}<extra></extra>",
         "legendgroup": "Zimbabwe",
         "marker": {
          "color": "#636efa",
          "size": [
           7641966
          ],
          "sizemode": "area",
          "sizeref": 2395400.1275,
          "symbol": "circle"
         },
         "mode": "markers",
         "name": "Zimbabwe",
         "orientation": "v",
         "showlegend": true,
         "type": "scatter",
         "x": [
          635.8580422916667
         ],
         "xaxis": "x",
         "y": [
          52.66316666666666
         ],
         "yaxis": "y"
        }
       ],
       "layout": {
        "legend": {
         "itemsizing": "constant",
         "title": {
          "text": "country"
         },
         "tracegroupgap": 0
        },
        "template": {
         "data": {
          "bar": [
           {
            "error_x": {
             "color": "#2a3f5f"
            },
            "error_y": {
             "color": "#2a3f5f"
            },
            "marker": {
             "line": {
              "color": "#E5ECF6",
              "width": 0.5
             },
             "pattern": {
              "fillmode": "overlay",
              "size": 10,
              "solidity": 0.2
             }
            },
            "type": "bar"
           }
          ],
          "barpolar": [
           {
            "marker": {
             "line": {
              "color": "#E5ECF6",
              "width": 0.5
             },
             "pattern": {
              "fillmode": "overlay",
              "size": 10,
              "solidity": 0.2
             }
            },
            "type": "barpolar"
           }
          ],
          "carpet": [
           {
            "aaxis": {
             "endlinecolor": "#2a3f5f",
             "gridcolor": "white",
             "linecolor": "white",
             "minorgridcolor": "white",
             "startlinecolor": "#2a3f5f"
            },
            "baxis": {
             "endlinecolor": "#2a3f5f",
             "gridcolor": "white",
             "linecolor": "white",
             "minorgridcolor": "white",
             "startlinecolor": "#2a3f5f"
            },
            "type": "carpet"
           }
          ],
          "choropleth": [
           {
            "colorbar": {
             "outlinewidth": 0,
             "ticks": ""
            },
            "type": "choropleth"
           }
          ],
          "contour": [
           {
            "colorbar": {
             "outlinewidth": 0,
             "ticks": ""
            },
            "colorscale": [
             [
              0,
              "#0d0887"
             ],
             [
              0.1111111111111111,
              "#46039f"
             ],
             [
              0.2222222222222222,
              "#7201a8"
             ],
             [
              0.3333333333333333,
              "#9c179e"
             ],
             [
              0.4444444444444444,
              "#bd3786"
             ],
             [
              0.5555555555555556,
              "#d8576b"
             ],
             [
              0.6666666666666666,
              "#ed7953"
             ],
             [
              0.7777777777777778,
              "#fb9f3a"
             ],
             [
              0.8888888888888888,
              "#fdca26"
             ],
             [
              1,
              "#f0f921"
             ]
            ],
            "type": "contour"
           }
          ],
          "contourcarpet": [
           {
            "colorbar": {
             "outlinewidth": 0,
             "ticks": ""
            },
            "type": "contourcarpet"
           }
          ],
          "heatmap": [
           {
            "colorbar": {
             "outlinewidth": 0,
             "ticks": ""
            },
            "colorscale": [
             [
              0,
              "#0d0887"
             ],
             [
              0.1111111111111111,
              "#46039f"
             ],
             [
              0.2222222222222222,
              "#7201a8"
             ],
             [
              0.3333333333333333,
              "#9c179e"
             ],
             [
              0.4444444444444444,
              "#bd3786"
             ],
             [
              0.5555555555555556,
              "#d8576b"
             ],
             [
              0.6666666666666666,
              "#ed7953"
             ],
             [
              0.7777777777777778,
              "#fb9f3a"
             ],
             [
              0.8888888888888888,
              "#fdca26"
             ],
             [
              1,
              "#f0f921"
             ]
            ],
            "type": "heatmap"
           }
          ],
          "heatmapgl": [
           {
            "colorbar": {
             "outlinewidth": 0,
             "ticks": ""
            },
            "colorscale": [
             [
              0,
              "#0d0887"
             ],
             [
              0.1111111111111111,
              "#46039f"
             ],
             [
              0.2222222222222222,
              "#7201a8"
             ],
             [
              0.3333333333333333,
              "#9c179e"
             ],
             [
              0.4444444444444444,
              "#bd3786"
             ],
             [
              0.5555555555555556,
              "#d8576b"
             ],
             [
              0.6666666666666666,
              "#ed7953"
             ],
             [
              0.7777777777777778,
              "#fb9f3a"
             ],
             [
              0.8888888888888888,
              "#fdca26"
             ],
             [
              1,
              "#f0f921"
             ]
            ],
            "type": "heatmapgl"
           }
          ],
          "histogram": [
           {
            "marker": {
             "pattern": {
              "fillmode": "overlay",
              "size": 10,
              "solidity": 0.2
             }
            },
            "type": "histogram"
           }
          ],
          "histogram2d": [
           {
            "colorbar": {
             "outlinewidth": 0,
             "ticks": ""
            },
            "colorscale": [
             [
              0,
              "#0d0887"
             ],
             [
              0.1111111111111111,
              "#46039f"
             ],
             [
              0.2222222222222222,
              "#7201a8"
             ],
             [
              0.3333333333333333,
              "#9c179e"
             ],
             [
              0.4444444444444444,
              "#bd3786"
             ],
             [
              0.5555555555555556,
              "#d8576b"
             ],
             [
              0.6666666666666666,
              "#ed7953"
             ],
             [
              0.7777777777777778,
              "#fb9f3a"
             ],
             [
              0.8888888888888888,
              "#fdca26"
             ],
             [
              1,
              "#f0f921"
             ]
            ],
            "type": "histogram2d"
           }
          ],
          "histogram2dcontour": [
           {
            "colorbar": {
             "outlinewidth": 0,
             "ticks": ""
            },
            "colorscale": [
             [
              0,
              "#0d0887"
             ],
             [
              0.1111111111111111,
              "#46039f"
             ],
             [
              0.2222222222222222,
              "#7201a8"
             ],
             [
              0.3333333333333333,
              "#9c179e"
             ],
             [
              0.4444444444444444,
              "#bd3786"
             ],
             [
              0.5555555555555556,
              "#d8576b"
             ],
             [
              0.6666666666666666,
              "#ed7953"
             ],
             [
              0.7777777777777778,
              "#fb9f3a"
             ],
             [
              0.8888888888888888,
              "#fdca26"
             ],
             [
              1,
              "#f0f921"
             ]
            ],
            "type": "histogram2dcontour"
           }
          ],
          "mesh3d": [
           {
            "colorbar": {
             "outlinewidth": 0,
             "ticks": ""
            },
            "type": "mesh3d"
           }
          ],
          "parcoords": [
           {
            "line": {
             "colorbar": {
              "outlinewidth": 0,
              "ticks": ""
             }
            },
            "type": "parcoords"
           }
          ],
          "pie": [
           {
            "automargin": true,
            "type": "pie"
           }
          ],
          "scatter": [
           {
            "fillpattern": {
             "fillmode": "overlay",
             "size": 10,
             "solidity": 0.2
            },
            "type": "scatter"
           }
          ],
          "scatter3d": [
           {
            "line": {
             "colorbar": {
              "outlinewidth": 0,
              "ticks": ""
             }
            },
            "marker": {
             "colorbar": {
              "outlinewidth": 0,
              "ticks": ""
             }
            },
            "type": "scatter3d"
           }
          ],
          "scattercarpet": [
           {
            "marker": {
             "colorbar": {
              "outlinewidth": 0,
              "ticks": ""
             }
            },
            "type": "scattercarpet"
           }
          ],
          "scattergeo": [
           {
            "marker": {
             "colorbar": {
              "outlinewidth": 0,
              "ticks": ""
             }
            },
            "type": "scattergeo"
           }
          ],
          "scattergl": [
           {
            "marker": {
             "colorbar": {
              "outlinewidth": 0,
              "ticks": ""
             }
            },
            "type": "scattergl"
           }
          ],
          "scattermapbox": [
           {
            "marker": {
             "colorbar": {
              "outlinewidth": 0,
              "ticks": ""
             }
            },
            "type": "scattermapbox"
           }
          ],
          "scatterpolar": [
           {
            "marker": {
             "colorbar": {
              "outlinewidth": 0,
              "ticks": ""
             }
            },
            "type": "scatterpolar"
           }
          ],
          "scatterpolargl": [
           {
            "marker": {
             "colorbar": {
              "outlinewidth": 0,
              "ticks": ""
             }
            },
            "type": "scatterpolargl"
           }
          ],
          "scatterternary": [
           {
            "marker": {
             "colorbar": {
              "outlinewidth": 0,
              "ticks": ""
             }
            },
            "type": "scatterternary"
           }
          ],
          "surface": [
           {
            "colorbar": {
             "outlinewidth": 0,
             "ticks": ""
            },
            "colorscale": [
             [
              0,
              "#0d0887"
             ],
             [
              0.1111111111111111,
              "#46039f"
             ],
             [
              0.2222222222222222,
              "#7201a8"
             ],
             [
              0.3333333333333333,
              "#9c179e"
             ],
             [
              0.4444444444444444,
              "#bd3786"
             ],
             [
              0.5555555555555556,
              "#d8576b"
             ],
             [
              0.6666666666666666,
              "#ed7953"
             ],
             [
              0.7777777777777778,
              "#fb9f3a"
             ],
             [
              0.8888888888888888,
              "#fdca26"
             ],
             [
              1,
              "#f0f921"
             ]
            ],
            "type": "surface"
           }
          ],
          "table": [
           {
            "cells": {
             "fill": {
              "color": "#EBF0F8"
             },
             "line": {
              "color": "white"
             }
            },
            "header": {
             "fill": {
              "color": "#C8D4E3"
             },
             "line": {
              "color": "white"
             }
            },
            "type": "table"
           }
          ]
         },
         "layout": {
          "annotationdefaults": {
           "arrowcolor": "#2a3f5f",
           "arrowhead": 0,
           "arrowwidth": 1
          },
          "autotypenumbers": "strict",
          "coloraxis": {
           "colorbar": {
            "outlinewidth": 0,
            "ticks": ""
           }
          },
          "colorscale": {
           "diverging": [
            [
             0,
             "#8e0152"
            ],
            [
             0.1,
             "#c51b7d"
            ],
            [
             0.2,
             "#de77ae"
            ],
            [
             0.3,
             "#f1b6da"
            ],
            [
             0.4,
             "#fde0ef"
            ],
            [
             0.5,
             "#f7f7f7"
            ],
            [
             0.6,
             "#e6f5d0"
            ],
            [
             0.7,
             "#b8e186"
            ],
            [
             0.8,
             "#7fbc41"
            ],
            [
             0.9,
             "#4d9221"
            ],
            [
             1,
             "#276419"
            ]
           ],
           "sequential": [
            [
             0,
             "#0d0887"
            ],
            [
             0.1111111111111111,
             "#46039f"
            ],
            [
             0.2222222222222222,
             "#7201a8"
            ],
            [
             0.3333333333333333,
             "#9c179e"
            ],
            [
             0.4444444444444444,
             "#bd3786"
            ],
            [
             0.5555555555555556,
             "#d8576b"
            ],
            [
             0.6666666666666666,
             "#ed7953"
            ],
            [
             0.7777777777777778,
             "#fb9f3a"
            ],
            [
             0.8888888888888888,
             "#fdca26"
            ],
            [
             1,
             "#f0f921"
            ]
           ],
           "sequentialminus": [
            [
             0,
             "#0d0887"
            ],
            [
             0.1111111111111111,
             "#46039f"
            ],
            [
             0.2222222222222222,
             "#7201a8"
            ],
            [
             0.3333333333333333,
             "#9c179e"
            ],
            [
             0.4444444444444444,
             "#bd3786"
            ],
            [
             0.5555555555555556,
             "#d8576b"
            ],
            [
             0.6666666666666666,
             "#ed7953"
            ],
            [
             0.7777777777777778,
             "#fb9f3a"
            ],
            [
             0.8888888888888888,
             "#fdca26"
            ],
            [
             1,
             "#f0f921"
            ]
           ]
          },
          "colorway": [
           "#636efa",
           "#EF553B",
           "#00cc96",
           "#ab63fa",
           "#FFA15A",
           "#19d3f3",
           "#FF6692",
           "#B6E880",
           "#FF97FF",
           "#FECB52"
          ],
          "font": {
           "color": "#2a3f5f"
          },
          "geo": {
           "bgcolor": "white",
           "lakecolor": "white",
           "landcolor": "#E5ECF6",
           "showlakes": true,
           "showland": true,
           "subunitcolor": "white"
          },
          "hoverlabel": {
           "align": "left"
          },
          "hovermode": "closest",
          "mapbox": {
           "style": "light"
          },
          "paper_bgcolor": "white",
          "plot_bgcolor": "#E5ECF6",
          "polar": {
           "angularaxis": {
            "gridcolor": "white",
            "linecolor": "white",
            "ticks": ""
           },
           "bgcolor": "#E5ECF6",
           "radialaxis": {
            "gridcolor": "white",
            "linecolor": "white",
            "ticks": ""
           }
          },
          "scene": {
           "xaxis": {
            "backgroundcolor": "#E5ECF6",
            "gridcolor": "white",
            "gridwidth": 2,
            "linecolor": "white",
            "showbackground": true,
            "ticks": "",
            "zerolinecolor": "white"
           },
           "yaxis": {
            "backgroundcolor": "#E5ECF6",
            "gridcolor": "white",
            "gridwidth": 2,
            "linecolor": "white",
            "showbackground": true,
            "ticks": "",
            "zerolinecolor": "white"
           },
           "zaxis": {
            "backgroundcolor": "#E5ECF6",
            "gridcolor": "white",
            "gridwidth": 2,
            "linecolor": "white",
            "showbackground": true,
            "ticks": "",
            "zerolinecolor": "white"
           }
          },
          "shapedefaults": {
           "line": {
            "color": "#2a3f5f"
           }
          },
          "ternary": {
           "aaxis": {
            "gridcolor": "white",
            "linecolor": "white",
            "ticks": ""
           },
           "baxis": {
            "gridcolor": "white",
            "linecolor": "white",
            "ticks": ""
           },
           "bgcolor": "#E5ECF6",
           "caxis": {
            "gridcolor": "white",
            "linecolor": "white",
            "ticks": ""
           }
          },
          "title": {
           "x": 0.05
          },
          "xaxis": {
           "automargin": true,
           "gridcolor": "white",
           "linecolor": "white",
           "ticks": "",
           "title": {
            "standoff": 15
           },
           "zerolinecolor": "white",
           "zerolinewidth": 2
          },
          "yaxis": {
           "automargin": true,
           "gridcolor": "white",
           "linecolor": "white",
           "ticks": "",
           "title": {
            "standoff": 15
           },
           "zerolinecolor": "white",
           "zerolinewidth": 2
          }
         }
        },
        "title": {
         "text": "Relationship between GDP per Capita, Life Expectancy, and Population"
        },
        "xaxis": {
         "anchor": "y",
         "domain": [
          0,
          1
         ],
         "title": {
          "text": "gdp_cap"
         }
        },
        "yaxis": {
         "anchor": "x",
         "domain": [
          0,
          1
         ],
         "title": {
          "text": "life_exp"
         }
        }
       }
      }
     },
     "metadata": {},
     "output_type": "display_data"
    }
   ],
   "source": [
    "fig3 = px.scatter(df_grouping, \n",
    "                x='gdp_cap',\n",
    "                y='life_exp',\n",
    "                size='population',\n",
    "                color='country',\n",
    "                title='Relationship between GDP per Capita, Life Expectancy, and Population')\n",
    "\n",
    "fig3.show()"
   ]
  }
 ],
 "metadata": {
  "kernelspec": {
   "display_name": "Python 3",
   "language": "python",
   "name": "python3"
  },
  "language_info": {
   "codemirror_mode": {
    "name": "ipython",
    "version": 3
   },
   "file_extension": ".py",
   "mimetype": "text/x-python",
   "name": "python",
   "nbconvert_exporter": "python",
   "pygments_lexer": "ipython3",
   "version": "3.11.5"
  }
 },
 "nbformat": 4,
 "nbformat_minor": 2
}
